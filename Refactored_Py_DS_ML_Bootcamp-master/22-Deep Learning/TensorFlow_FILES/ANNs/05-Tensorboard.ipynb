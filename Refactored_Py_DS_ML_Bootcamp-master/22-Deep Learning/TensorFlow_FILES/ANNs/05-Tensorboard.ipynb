{
 "cells": [
  {
   "cell_type": "markdown",
   "metadata": {},
   "source": [
    "<a href=\"https://www.pieriandata.com\"><img src=\"../Pierian_Data_Logo.PNG\"></a>\n",
    "<strong><center>Copyright by Pierian Data Inc.</center></strong> \n",
    "<strong><center>Created by Jose Marcial Portilla.</center></strong>"
   ]
  },
  {
   "cell_type": "markdown",
   "metadata": {},
   "source": [
    "# Tensorboard\n",
    "\n",
    "---\n",
    "---\n",
    "\n",
    "**NOTE: You must watch the corresponding video to understand this lecture. This notebook can't serve as a full guide. Please watch the video BEFORE posting questions to the QA forum.**\n",
    "\n",
    "---\n",
    "---\n",
    "\n",
    "Let's explore the built in data visualization capabilities that come with Tensorboard.\n",
    "\n",
    "Full official tutorial available here: https://www.tensorflow.org/tensorboard/get_started\n",
    "\n",
    "## Data"
   ]
  },
  {
   "cell_type": "code",
   "execution_count": 1,
   "metadata": {},
   "outputs": [],
   "source": [
    "import pandas as pd\n",
    "import numpy as np"
   ]
  },
  {
   "cell_type": "code",
   "execution_count": 2,
   "metadata": {},
   "outputs": [],
   "source": [
    "df = pd.read_csv('../DATA/cancer_classification.csv')"
   ]
  },
  {
   "cell_type": "markdown",
   "metadata": {},
   "source": [
    "### Train Test Split"
   ]
  },
  {
   "cell_type": "code",
   "execution_count": 3,
   "metadata": {},
   "outputs": [],
   "source": [
    "X = df.drop('benign_0__mal_1',axis=1).values\n",
    "y = df['benign_0__mal_1'].values"
   ]
  },
  {
   "cell_type": "code",
   "execution_count": 4,
   "metadata": {},
   "outputs": [],
   "source": [
    "from sklearn.model_selection import train_test_split"
   ]
  },
  {
   "cell_type": "code",
   "execution_count": 5,
   "metadata": {},
   "outputs": [],
   "source": [
    "X_train, X_test, y_train, y_test = train_test_split(X,y,test_size=0.25,random_state=101)"
   ]
  },
  {
   "cell_type": "markdown",
   "metadata": {},
   "source": [
    "\n",
    "### Scaling Data"
   ]
  },
  {
   "cell_type": "code",
   "execution_count": 6,
   "metadata": {},
   "outputs": [],
   "source": [
    "from sklearn.preprocessing import MinMaxScaler"
   ]
  },
  {
   "cell_type": "code",
   "execution_count": 7,
   "metadata": {},
   "outputs": [],
   "source": [
    "scaler = MinMaxScaler()"
   ]
  },
  {
   "cell_type": "code",
   "execution_count": 8,
   "metadata": {},
   "outputs": [
    {
     "data": {
      "text/plain": [
       "MinMaxScaler(copy=True, feature_range=(0, 1))"
      ]
     },
     "execution_count": 8,
     "metadata": {},
     "output_type": "execute_result"
    }
   ],
   "source": [
    "scaler.fit(X_train)"
   ]
  },
  {
   "cell_type": "code",
   "execution_count": 9,
   "metadata": {},
   "outputs": [],
   "source": [
    "X_train = scaler.transform(X_train)\n",
    "X_test = scaler.transform(X_test)"
   ]
  },
  {
   "cell_type": "markdown",
   "metadata": {},
   "source": [
    "## Creating the Model"
   ]
  },
  {
   "cell_type": "code",
   "execution_count": 10,
   "metadata": {},
   "outputs": [],
   "source": [
    "import tensorflow as tf\n",
    "from tensorflow.keras.models import Sequential\n",
    "from tensorflow.keras.layers import Dense, Activation,Dropout"
   ]
  },
  {
   "cell_type": "code",
   "execution_count": 11,
   "metadata": {},
   "outputs": [],
   "source": [
    "#we are also importing additional CALLBACK: TENSORBOARD\n",
    "from tensorflow.keras.callbacks import EarlyStopping,TensorBoard"
   ]
  },
  {
   "cell_type": "code",
   "execution_count": 12,
   "metadata": {},
   "outputs": [],
   "source": [
    "#create EARLY STOPPING CALLBACK\n",
    "early_stop = EarlyStopping(monitor='val_loss', mode='min', verbose=1, patience=25)"
   ]
  },
  {
   "cell_type": "code",
   "execution_count": 21,
   "metadata": {},
   "outputs": [
    {
     "ename": "NameError",
     "evalue": "name 'pwd' is not defined",
     "output_type": "error",
     "traceback": [
      "\u001b[0;31m---------------------------------------------------------------------------\u001b[0m",
      "\u001b[0;31mNameError\u001b[0m                                 Traceback (most recent call last)",
      "\u001b[0;32m<ipython-input-21-7fddaa1b9fe6>\u001b[0m in \u001b[0;36m<module>\u001b[0;34m\u001b[0m\n\u001b[1;32m      1\u001b[0m \u001b[0;31m#make sure we know wherenotebook is\u001b[0m\u001b[0;34m\u001b[0m\u001b[0;34m\u001b[0m\u001b[0;34m\u001b[0m\u001b[0m\n\u001b[0;32m----> 2\u001b[0;31m \u001b[0mpwd\u001b[0m\u001b[0;34m\u001b[0m\u001b[0;34m\u001b[0m\u001b[0m\n\u001b[0m",
      "\u001b[0;31mNameError\u001b[0m: name 'pwd' is not defined"
     ]
    }
   ],
   "source": [
    "#make sure we know wherenotebook is\n",
    "pwd"
   ]
  },
  {
   "cell_type": "markdown",
   "metadata": {},
   "source": [
    "Again TB is a VIZ tool and this Callback we are going to create will log a bunch of things. Up to use what it logs and what it doesnt log.\n",
    "#Many Arguments we can pass along when creating Callback VARIABLE to indicate whether you want to record something\n",
    "\n",
    "#HISTOGRAM FREQUENCY: set to 1 so after every EPOCH of training we will calculate all the weights for our LAYERS, and then create a HISTOGRAM of it and then next EPOCH we will do another HISTOGRAM and we can see HISTs stacked on each other and get a 3D Viz of how our weights are changing thruout the EPHOCS of training\n",
    "\n",
    "UPDATE FREQ - typically recommended you update per EPOCH and easier to interpret"
   ]
  },
  {
   "cell_type": "markdown",
   "metadata": {},
   "source": [
    "## Creating the Tensorboard Callback\n",
    "\n",
    "TensorBoard is a visualization tool provided with TensorFlow.\n",
    "\n",
    "This callback logs events for TensorBoard, including:\n",
    "* Metrics summary plots\n",
    "* Training graph visualization\n",
    "* Activation histograms\n",
    "* Sampled profiling\n",
    "\n",
    "If you have installed TensorFlow with pip, you should be able\n",
    "to launch TensorBoard from the command line:\n",
    "\n",
    "```sh\n",
    "tensorboard --logdir=path_to_your_logs\n",
    "```\n",
    "\n",
    "You can find more information about TensorBoard\n",
    "[here](https://www.tensorflow.org/tensorboard/).\n",
    "\n",
    "    Arguments:\n",
    "        log_dir: the path of the directory where to save the log files to be\n",
    "          parsed by TensorBoard.\n",
    "        histogram_freq: frequency (in epochs) at which to compute activation and\n",
    "          weight histograms for the layers of the model. If set to 0, histograms\n",
    "          won't be computed. Validation data (or split) must be specified for\n",
    "          histogram visualizations.\n",
    "        write_graph: whether to visualize the graph in TensorBoard. The log file\n",
    "          can become quite large when write_graph is set to True.\n",
    "        write_images: whether to write model weights to visualize as image in\n",
    "          TensorBoard.\n",
    "        update_freq: `'batch'` or `'epoch'` or integer. When using `'batch'`,\n",
    "          writes the losses and metrics to TensorBoard after each batch. The same\n",
    "          applies for `'epoch'`. If using an integer, let's say `1000`, the\n",
    "          callback will write the metrics and losses to TensorBoard every 1000\n",
    "          samples. Note that writing too frequently to TensorBoard can slow down\n",
    "          your training.\n",
    "        profile_batch: Profile the batch to sample compute characteristics. By\n",
    "          default, it will profile the second batch. Set profile_batch=0 to\n",
    "          disable profiling. Must run in TensorFlow eager mode.\n",
    "        embeddings_freq: frequency (in epochs) at which embedding layers will\n",
    "          be visualized. If set to 0, embeddings won't be visualized.\n",
    "       "
   ]
  },
  {
   "cell_type": "markdown",
   "metadata": {},
   "source": [
    "#one thing to note, if you are running this model multiple times with different parameters and you want to make sure you have different directories for each time you run this model, whats recommended is setting up with a DATE TIME STAMP (in tutorial as well). "
   ]
  },
  {
   "cell_type": "code",
   "execution_count": 14,
   "metadata": {},
   "outputs": [],
   "source": [
    "from datetime import datetime"
   ]
  },
  {
   "cell_type": "code",
   "execution_count": 15,
   "metadata": {},
   "outputs": [
    {
     "data": {
      "text/plain": [
       "'2020-06-01--1533'"
      ]
     },
     "execution_count": 15,
     "metadata": {},
     "output_type": "execute_result"
    }
   ],
   "source": [
    "datetime.now().strftime(\"%Y-%m-%d--%H%M\")\n",
    "#So this will be NAME of the FOLDER, and as long as you \n",
    "# wait 1 minute before running model again you'll have a \n",
    "# unique log for each time you run the model, that way you \n",
    "# can go back and edit the number of Nurons in a layer,etc \n",
    "# and visualize each of the model with tensorboard\n",
    "\n"
   ]
  },
  {
   "cell_type": "code",
   "execution_count": 16,
   "metadata": {},
   "outputs": [],
   "source": [
    "#In our case we will run once\n",
    "\n",
    "\n",
    "# WINDOWS: Use \"logs\\\\fit\"\n",
    "# MACOS/LINUX: Use \"logs\\fit\"  #may have to do a forward slash\n",
    "\n",
    "#here is our PWD (sytax we should be using) \n",
    "#so use '/' -forward slash\n",
    "#  '/Users/thomascoenen/Documents/Udemy/PythonForDataScienceBC/Refactored_Py_DS_ML_Bootcamp-master/22-Deep Learning/TensorFlow_FILES/ANNs'\n",
    "\n",
    "#LOG DIR: BASE is always LOGS and next SubDIR is FIT\n",
    "#so this is where LOGS get SAVED during training\n",
    "log_directory = 'logs/fit'\n",
    "\n",
    "# OPTIONAL: ADD A TIMESTAMP FOR UNIQUE FOLDER\n",
    "# timestamp = datetime.now().strftime(\"%Y-%m-%d--%H%M\")\n",
    "# log_directory = log_directory + '\\\\' + timestamp\n",
    "\n",
    "\n",
    "board = TensorBoard(log_dir=log_directory,histogram_freq=1,\n",
    "    write_graph=True,\n",
    "    write_images=True,\n",
    "    update_freq='epoch',\n",
    "    profile_batch=2,\n",
    "    embeddings_freq=1)"
   ]
  },
  {
   "cell_type": "markdown",
   "metadata": {},
   "source": [
    "Now create the model layers:"
   ]
  },
  {
   "cell_type": "code",
   "execution_count": 17,
   "metadata": {},
   "outputs": [],
   "source": [
    "#Create same model as before\n",
    "#dont need to edit anything\n",
    "\n",
    "model = Sequential()\n",
    "model.add(Dense(units=30,activation='relu'))\n",
    "model.add(Dropout(0.5))\n",
    "model.add(Dense(units=15,activation='relu'))\n",
    "model.add(Dropout(0.5))\n",
    "model.add(Dense(units=1,activation='sigmoid'))\n",
    "model.compile(loss='binary_crossentropy', optimizer='adam')"
   ]
  },
  {
   "cell_type": "markdown",
   "metadata": {},
   "source": [
    "## Train the Model"
   ]
  },
  {
   "cell_type": "code",
   "execution_count": 18,
   "metadata": {},
   "outputs": [
    {
     "name": "stdout",
     "output_type": "stream",
     "text": [
      "Epoch 1/600\n",
      "14/14 [==============================] - 0s 19ms/step - loss: 0.6815 - val_loss: 0.6667\n",
      "Epoch 2/600\n",
      "14/14 [==============================] - 0s 6ms/step - loss: 0.6651 - val_loss: 0.6525\n",
      "Epoch 3/600\n",
      "14/14 [==============================] - 0s 6ms/step - loss: 0.6566 - val_loss: 0.6399\n",
      "Epoch 4/600\n",
      "14/14 [==============================] - 0s 6ms/step - loss: 0.6384 - val_loss: 0.6264\n",
      "Epoch 5/600\n",
      "14/14 [==============================] - 0s 6ms/step - loss: 0.6315 - val_loss: 0.6075\n",
      "Epoch 6/600\n",
      "14/14 [==============================] - 0s 6ms/step - loss: 0.6069 - val_loss: 0.5847\n",
      "Epoch 7/600\n",
      "14/14 [==============================] - 0s 8ms/step - loss: 0.5827 - val_loss: 0.5556\n",
      "Epoch 8/600\n",
      "14/14 [==============================] - 0s 14ms/step - loss: 0.5687 - val_loss: 0.5230\n",
      "Epoch 9/600\n",
      "14/14 [==============================] - 0s 8ms/step - loss: 0.5580 - val_loss: 0.4980\n",
      "Epoch 10/600\n",
      "14/14 [==============================] - 0s 7ms/step - loss: 0.5209 - val_loss: 0.4663\n",
      "Epoch 11/600\n",
      "14/14 [==============================] - 0s 6ms/step - loss: 0.4864 - val_loss: 0.4334\n",
      "Epoch 12/600\n",
      "14/14 [==============================] - 0s 5ms/step - loss: 0.4892 - val_loss: 0.4018\n",
      "Epoch 13/600\n",
      "14/14 [==============================] - 0s 8ms/step - loss: 0.4464 - val_loss: 0.3747\n",
      "Epoch 14/600\n",
      "14/14 [==============================] - 0s 7ms/step - loss: 0.4331 - val_loss: 0.3473\n",
      "Epoch 15/600\n",
      "14/14 [==============================] - 0s 5ms/step - loss: 0.4241 - val_loss: 0.3202\n",
      "Epoch 16/600\n",
      "14/14 [==============================] - 0s 6ms/step - loss: 0.3805 - val_loss: 0.2998\n",
      "Epoch 17/600\n",
      "14/14 [==============================] - 0s 5ms/step - loss: 0.3557 - val_loss: 0.2785\n",
      "Epoch 18/600\n",
      "14/14 [==============================] - 0s 6ms/step - loss: 0.3512 - val_loss: 0.2538\n",
      "Epoch 19/600\n",
      "14/14 [==============================] - 0s 5ms/step - loss: 0.3517 - val_loss: 0.2464\n",
      "Epoch 20/600\n",
      "14/14 [==============================] - 0s 5ms/step - loss: 0.3403 - val_loss: 0.2356\n",
      "Epoch 21/600\n",
      "14/14 [==============================] - 0s 6ms/step - loss: 0.3062 - val_loss: 0.2249\n",
      "Epoch 22/600\n",
      "14/14 [==============================] - 0s 6ms/step - loss: 0.3131 - val_loss: 0.2179\n",
      "Epoch 23/600\n",
      "14/14 [==============================] - 0s 5ms/step - loss: 0.2965 - val_loss: 0.2022\n",
      "Epoch 24/600\n",
      "14/14 [==============================] - 0s 6ms/step - loss: 0.2742 - val_loss: 0.1904\n",
      "Epoch 25/600\n",
      "14/14 [==============================] - 0s 7ms/step - loss: 0.2846 - val_loss: 0.1807\n",
      "Epoch 26/600\n",
      "14/14 [==============================] - 0s 5ms/step - loss: 0.2618 - val_loss: 0.1732\n",
      "Epoch 27/600\n",
      "14/14 [==============================] - 0s 6ms/step - loss: 0.2526 - val_loss: 0.1696\n",
      "Epoch 28/600\n",
      "14/14 [==============================] - 0s 6ms/step - loss: 0.2695 - val_loss: 0.1726\n",
      "Epoch 29/600\n",
      "14/14 [==============================] - 0s 6ms/step - loss: 0.2622 - val_loss: 0.1671\n",
      "Epoch 30/600\n",
      "14/14 [==============================] - 0s 6ms/step - loss: 0.2476 - val_loss: 0.1573\n",
      "Epoch 31/600\n",
      "14/14 [==============================] - 0s 6ms/step - loss: 0.2347 - val_loss: 0.1625\n",
      "Epoch 32/600\n",
      "14/14 [==============================] - 0s 6ms/step - loss: 0.2447 - val_loss: 0.1476\n",
      "Epoch 33/600\n",
      "14/14 [==============================] - 0s 6ms/step - loss: 0.2425 - val_loss: 0.1476\n",
      "Epoch 34/600\n",
      "14/14 [==============================] - 0s 6ms/step - loss: 0.2358 - val_loss: 0.1465\n",
      "Epoch 35/600\n",
      "14/14 [==============================] - 0s 6ms/step - loss: 0.2064 - val_loss: 0.1387\n",
      "Epoch 36/600\n",
      "14/14 [==============================] - 0s 6ms/step - loss: 0.2153 - val_loss: 0.1364\n",
      "Epoch 37/600\n",
      "14/14 [==============================] - 0s 6ms/step - loss: 0.2198 - val_loss: 0.1305\n",
      "Epoch 38/600\n",
      "14/14 [==============================] - 0s 5ms/step - loss: 0.2000 - val_loss: 0.1314\n",
      "Epoch 39/600\n",
      "14/14 [==============================] - 0s 5ms/step - loss: 0.2054 - val_loss: 0.1266\n",
      "Epoch 40/600\n",
      "14/14 [==============================] - 0s 6ms/step - loss: 0.2028 - val_loss: 0.1339\n",
      "Epoch 41/600\n",
      "14/14 [==============================] - 0s 5ms/step - loss: 0.2039 - val_loss: 0.1270\n",
      "Epoch 42/600\n",
      "14/14 [==============================] - 0s 6ms/step - loss: 0.1709 - val_loss: 0.1264\n",
      "Epoch 43/600\n",
      "14/14 [==============================] - 0s 9ms/step - loss: 0.1810 - val_loss: 0.1200\n",
      "Epoch 44/600\n",
      "14/14 [==============================] - 0s 6ms/step - loss: 0.1825 - val_loss: 0.1263\n",
      "Epoch 45/600\n",
      "14/14 [==============================] - 0s 6ms/step - loss: 0.1874 - val_loss: 0.1213\n",
      "Epoch 46/600\n",
      "14/14 [==============================] - 0s 5ms/step - loss: 0.1679 - val_loss: 0.1178\n",
      "Epoch 47/600\n",
      "14/14 [==============================] - 0s 5ms/step - loss: 0.1824 - val_loss: 0.1177\n",
      "Epoch 48/600\n",
      "14/14 [==============================] - 0s 6ms/step - loss: 0.1653 - val_loss: 0.1247\n",
      "Epoch 49/600\n",
      "14/14 [==============================] - 0s 6ms/step - loss: 0.1388 - val_loss: 0.1103\n",
      "Epoch 50/600\n",
      "14/14 [==============================] - 0s 6ms/step - loss: 0.1641 - val_loss: 0.1049\n",
      "Epoch 51/600\n",
      "14/14 [==============================] - 0s 5ms/step - loss: 0.1815 - val_loss: 0.1124\n",
      "Epoch 52/600\n",
      "14/14 [==============================] - 0s 6ms/step - loss: 0.1807 - val_loss: 0.1067\n",
      "Epoch 53/600\n",
      "14/14 [==============================] - 0s 6ms/step - loss: 0.1572 - val_loss: 0.1099\n",
      "Epoch 54/600\n",
      "14/14 [==============================] - 0s 5ms/step - loss: 0.1479 - val_loss: 0.1124\n",
      "Epoch 55/600\n",
      "14/14 [==============================] - 0s 6ms/step - loss: 0.1704 - val_loss: 0.1131\n",
      "Epoch 56/600\n",
      "14/14 [==============================] - 0s 5ms/step - loss: 0.1471 - val_loss: 0.1081\n",
      "Epoch 57/600\n",
      "14/14 [==============================] - 0s 6ms/step - loss: 0.1402 - val_loss: 0.1030\n",
      "Epoch 58/600\n",
      "14/14 [==============================] - 0s 8ms/step - loss: 0.1418 - val_loss: 0.1028\n",
      "Epoch 59/600\n",
      "14/14 [==============================] - 0s 7ms/step - loss: 0.1415 - val_loss: 0.1132\n",
      "Epoch 60/600\n",
      "14/14 [==============================] - 0s 7ms/step - loss: 0.1380 - val_loss: 0.1098\n",
      "Epoch 61/600\n",
      "14/14 [==============================] - 0s 8ms/step - loss: 0.1455 - val_loss: 0.1094\n",
      "Epoch 62/600\n",
      "14/14 [==============================] - 0s 8ms/step - loss: 0.1364 - val_loss: 0.1020\n",
      "Epoch 63/600\n",
      "14/14 [==============================] - 0s 8ms/step - loss: 0.1198 - val_loss: 0.1062\n",
      "Epoch 64/600\n",
      "14/14 [==============================] - 0s 6ms/step - loss: 0.1362 - val_loss: 0.0983\n",
      "Epoch 65/600\n",
      "14/14 [==============================] - 0s 6ms/step - loss: 0.1256 - val_loss: 0.1115\n",
      "Epoch 66/600\n",
      "14/14 [==============================] - 0s 6ms/step - loss: 0.1374 - val_loss: 0.1095\n",
      "Epoch 67/600\n",
      "14/14 [==============================] - 0s 6ms/step - loss: 0.1325 - val_loss: 0.0967\n",
      "Epoch 68/600\n",
      "14/14 [==============================] - 0s 7ms/step - loss: 0.1212 - val_loss: 0.1046\n",
      "Epoch 69/600\n",
      "14/14 [==============================] - 0s 8ms/step - loss: 0.1297 - val_loss: 0.1030\n",
      "Epoch 70/600\n",
      "14/14 [==============================] - 0s 9ms/step - loss: 0.1373 - val_loss: 0.1035\n",
      "Epoch 71/600\n",
      "14/14 [==============================] - 0s 6ms/step - loss: 0.1314 - val_loss: 0.0993\n",
      "Epoch 72/600\n",
      "14/14 [==============================] - 0s 6ms/step - loss: 0.1226 - val_loss: 0.1007\n",
      "Epoch 73/600\n",
      "14/14 [==============================] - 0s 6ms/step - loss: 0.1259 - val_loss: 0.1040\n",
      "Epoch 74/600\n",
      "14/14 [==============================] - 0s 6ms/step - loss: 0.1136 - val_loss: 0.1001\n",
      "Epoch 75/600\n",
      "14/14 [==============================] - 0s 6ms/step - loss: 0.1109 - val_loss: 0.1022\n",
      "Epoch 76/600\n",
      "14/14 [==============================] - 0s 6ms/step - loss: 0.1192 - val_loss: 0.1004\n",
      "Epoch 77/600\n",
      "14/14 [==============================] - 0s 6ms/step - loss: 0.1306 - val_loss: 0.1004\n",
      "Epoch 78/600\n",
      "14/14 [==============================] - 0s 6ms/step - loss: 0.1255 - val_loss: 0.0989\n",
      "Epoch 79/600\n",
      "14/14 [==============================] - 0s 6ms/step - loss: 0.1224 - val_loss: 0.0998\n",
      "Epoch 80/600\n",
      "14/14 [==============================] - 0s 6ms/step - loss: 0.1247 - val_loss: 0.0971\n",
      "Epoch 81/600\n",
      "14/14 [==============================] - 0s 5ms/step - loss: 0.1142 - val_loss: 0.1062\n",
      "Epoch 82/600\n",
      "14/14 [==============================] - 0s 5ms/step - loss: 0.1156 - val_loss: 0.1001\n"
     ]
    },
    {
     "name": "stdout",
     "output_type": "stream",
     "text": [
      "Epoch 83/600\n",
      "14/14 [==============================] - 0s 6ms/step - loss: 0.1120 - val_loss: 0.1005\n",
      "Epoch 84/600\n",
      "14/14 [==============================] - 0s 6ms/step - loss: 0.1004 - val_loss: 0.0985\n",
      "Epoch 85/600\n",
      "14/14 [==============================] - 0s 5ms/step - loss: 0.0930 - val_loss: 0.0990\n",
      "Epoch 86/600\n",
      "14/14 [==============================] - 0s 5ms/step - loss: 0.0933 - val_loss: 0.1033\n",
      "Epoch 87/600\n",
      "14/14 [==============================] - 0s 5ms/step - loss: 0.1223 - val_loss: 0.0913\n",
      "Epoch 88/600\n",
      "14/14 [==============================] - 0s 6ms/step - loss: 0.1160 - val_loss: 0.1020\n",
      "Epoch 89/600\n",
      "14/14 [==============================] - 0s 5ms/step - loss: 0.1131 - val_loss: 0.1106\n",
      "Epoch 90/600\n",
      "14/14 [==============================] - 0s 5ms/step - loss: 0.1157 - val_loss: 0.0915\n",
      "Epoch 91/600\n",
      "14/14 [==============================] - 0s 6ms/step - loss: 0.0956 - val_loss: 0.0987\n",
      "Epoch 92/600\n",
      "14/14 [==============================] - 0s 6ms/step - loss: 0.1117 - val_loss: 0.0945\n",
      "Epoch 93/600\n",
      "14/14 [==============================] - 0s 6ms/step - loss: 0.1071 - val_loss: 0.1064\n",
      "Epoch 94/600\n",
      "14/14 [==============================] - 0s 7ms/step - loss: 0.0953 - val_loss: 0.0959\n",
      "Epoch 95/600\n",
      "14/14 [==============================] - 0s 6ms/step - loss: 0.0904 - val_loss: 0.1122\n",
      "Epoch 96/600\n",
      "14/14 [==============================] - 0s 6ms/step - loss: 0.0909 - val_loss: 0.1157\n",
      "Epoch 97/600\n",
      "14/14 [==============================] - 0s 7ms/step - loss: 0.1017 - val_loss: 0.0965\n",
      "Epoch 98/600\n",
      "14/14 [==============================] - 0s 6ms/step - loss: 0.0995 - val_loss: 0.0910\n",
      "Epoch 99/600\n",
      "14/14 [==============================] - 0s 6ms/step - loss: 0.0882 - val_loss: 0.1111\n",
      "Epoch 100/600\n",
      "14/14 [==============================] - 0s 5ms/step - loss: 0.1073 - val_loss: 0.0893\n",
      "Epoch 101/600\n",
      "14/14 [==============================] - 0s 8ms/step - loss: 0.1058 - val_loss: 0.0872\n",
      "Epoch 102/600\n",
      "14/14 [==============================] - 0s 8ms/step - loss: 0.0962 - val_loss: 0.0977\n",
      "Epoch 103/600\n",
      "14/14 [==============================] - 0s 6ms/step - loss: 0.1037 - val_loss: 0.1045\n",
      "Epoch 104/600\n",
      "14/14 [==============================] - 0s 9ms/step - loss: 0.1090 - val_loss: 0.0996\n",
      "Epoch 105/600\n",
      "14/14 [==============================] - 0s 6ms/step - loss: 0.1045 - val_loss: 0.0909\n",
      "Epoch 106/600\n",
      "14/14 [==============================] - 0s 6ms/step - loss: 0.0888 - val_loss: 0.0929\n",
      "Epoch 107/600\n",
      "14/14 [==============================] - 0s 6ms/step - loss: 0.0961 - val_loss: 0.1019\n",
      "Epoch 108/600\n",
      "14/14 [==============================] - 0s 5ms/step - loss: 0.1011 - val_loss: 0.1029\n",
      "Epoch 109/600\n",
      "14/14 [==============================] - 0s 5ms/step - loss: 0.0961 - val_loss: 0.1000\n",
      "Epoch 110/600\n",
      "14/14 [==============================] - 0s 6ms/step - loss: 0.1131 - val_loss: 0.0936\n",
      "Epoch 111/600\n",
      "14/14 [==============================] - 0s 6ms/step - loss: 0.1073 - val_loss: 0.1061\n",
      "Epoch 112/600\n",
      "14/14 [==============================] - 0s 5ms/step - loss: 0.0867 - val_loss: 0.0975\n",
      "Epoch 113/600\n",
      "14/14 [==============================] - 0s 6ms/step - loss: 0.0959 - val_loss: 0.1003\n",
      "Epoch 114/600\n",
      "14/14 [==============================] - 0s 5ms/step - loss: 0.0985 - val_loss: 0.1034\n",
      "Epoch 115/600\n",
      "14/14 [==============================] - 0s 6ms/step - loss: 0.1066 - val_loss: 0.0980\n",
      "Epoch 116/600\n",
      "14/14 [==============================] - 0s 5ms/step - loss: 0.0897 - val_loss: 0.0985\n",
      "Epoch 117/600\n",
      "14/14 [==============================] - 0s 7ms/step - loss: 0.0951 - val_loss: 0.0939\n",
      "Epoch 118/600\n",
      "14/14 [==============================] - 0s 6ms/step - loss: 0.0931 - val_loss: 0.0999\n",
      "Epoch 119/600\n",
      "14/14 [==============================] - 0s 5ms/step - loss: 0.0837 - val_loss: 0.0959\n",
      "Epoch 120/600\n",
      "14/14 [==============================] - 0s 5ms/step - loss: 0.0855 - val_loss: 0.0966\n",
      "Epoch 121/600\n",
      "14/14 [==============================] - 0s 5ms/step - loss: 0.0961 - val_loss: 0.1003\n",
      "Epoch 122/600\n",
      "14/14 [==============================] - 0s 6ms/step - loss: 0.0823 - val_loss: 0.0978\n",
      "Epoch 123/600\n",
      "14/14 [==============================] - 0s 6ms/step - loss: 0.0896 - val_loss: 0.0921\n",
      "Epoch 124/600\n",
      "14/14 [==============================] - 0s 6ms/step - loss: 0.0850 - val_loss: 0.1089\n",
      "Epoch 125/600\n",
      "14/14 [==============================] - 0s 5ms/step - loss: 0.0901 - val_loss: 0.1048\n",
      "Epoch 126/600\n",
      "14/14 [==============================] - 0s 5ms/step - loss: 0.0804 - val_loss: 0.0995\n",
      "Epoch 00126: early stopping\n"
     ]
    },
    {
     "data": {
      "text/plain": [
       "<tensorflow.python.keras.callbacks.History at 0x148188f50>"
      ]
     },
     "execution_count": 18,
     "metadata": {},
     "output_type": "execute_result"
    }
   ],
   "source": [
    "#Where you add this is is underneath CALLBACK LIST, instead \n",
    "#of just passing in EARLY STOP as we did before we will also pass \n",
    "#in variable BOARD, which is the TENSOR BOARD CALLBACK we \n",
    "#just created\n",
    "\n",
    "#WHEN WE RUN THIS: DO NOT FIT MORE THAN ONCE UNDER THE SAME\n",
    "#CALLBACK LOG_DIR\n",
    "\n",
    "model.fit(x=X_train, \n",
    "          y=y_train, \n",
    "          epochs=600,\n",
    "          validation_data=(X_test, y_test), verbose=1,\n",
    "          callbacks=[early_stop,board]\n",
    "          )\n",
    "#stoped training at 119 epochs"
   ]
  },
  {
   "cell_type": "markdown",
   "metadata": {},
   "source": [
    "# Running Tensorboard\n"
   ]
  },
  {
   "cell_type": "markdown",
   "metadata": {},
   "source": [
    "## Running through the Command Line\n",
    "\n",
    "**Watch video to see how to run Tensorboard through a command line call.**"
   ]
  },
  {
   "cell_type": "markdown",
   "metadata": {},
   "source": [
    "Tensorboard will run locally in your browser at [http://localhost:6006/](http://localhost:6006/)\n"
   ]
  },
  {
   "cell_type": "code",
   "execution_count": 19,
   "metadata": {},
   "outputs": [
    {
     "name": "stdout",
     "output_type": "stream",
     "text": [
      "logs/fit\n"
     ]
    }
   ],
   "source": [
    "#must run TB first to open above link\n",
    "#we will run TB thru TERMINAL\n",
    "#main thing to keep in mind is where out LOG DIR is and is\n",
    "#where we are saving our logs\n",
    "print(log_directory)"
   ]
  },
  {
   "cell_type": "code",
   "execution_count": 49,
   "metadata": {},
   "outputs": [
    {
     "data": {
      "text/plain": [
       "'/Users/thomascoenen/Documents/Udemy/PythonForDataScienceBC/Refactored_Py_DS_ML_Bootcamp-master/22-Deep Learning/TensorFlow_FILES/ANNs'"
      ]
     },
     "execution_count": 49,
     "metadata": {},
     "output_type": "execute_result"
    }
   ],
   "source": [
    "#this is where we are located at now\n",
    "pwd"
   ]
  },
  {
   "cell_type": "markdown",
   "metadata": {},
   "source": [
    "### Use cd at your command line to change directory to the file path reported back by pwd or your current .py file location.\n",
    "### Then run this code at your command line or terminal"
   ]
  },
  {
   "cell_type": "code",
   "execution_count": 20,
   "metadata": {},
   "outputs": [
    {
     "ename": "SyntaxError",
     "evalue": "invalid syntax (<ipython-input-20-b1e500b46c99>, line 3)",
     "output_type": "error",
     "traceback": [
      "\u001b[0;36m  File \u001b[0;32m\"<ipython-input-20-b1e500b46c99>\"\u001b[0;36m, line \u001b[0;32m3\u001b[0m\n\u001b[0;31m    tensorboard --logdir logs/fit\u001b[0m\n\u001b[0m                            ^\u001b[0m\n\u001b[0;31mSyntaxError\u001b[0m\u001b[0;31m:\u001b[0m invalid syntax\n"
     ]
    }
   ],
   "source": [
    "#in TERM:\n",
    "  cd '/Users/thomascoenen/Documents/Udemy/PythonForDataScienceBC/Refactored_Py_DS_ML_Bootcamp-master/22-Deep Learning/TensorFlow_FILES/ANNs'\n",
    "#first ativate COURSE ENV in term\n",
    "#my course ENV is: (base)\n",
    "#https://stackoverflow.com/questions/49821930/conda-command-not-found-even-though-path-is-exported"
   ]
  },
  {
   "cell_type": "code",
   "execution_count": null,
   "metadata": {},
   "outputs": [],
   "source": [
    "in TERM:\n",
    "    tensorboard --logdir logs/fit "
   ]
  },
  {
   "cell_type": "code",
   "execution_count": null,
   "metadata": {},
   "outputs": [],
   "source": [
    "#After Running in TERM:\n",
    "#get:\n",
    "    TensorBoard 2.2.1 at http://localhost:6006/\n",
    "    #this is the URL we opened previously\n",
    "    #dont do CTRL+C to copy Local Host bc it will actually \n",
    "     #QUIT it (i think this is only on windows)\n",
    "        \n",
    "Open back up URL (at top of this page):\n",
    "    http://localhost:6006/\n",
    "    #we get an INTERACTIVE ERSION of the plots we made \n",
    "     #before with PANDAS\n",
    "EPOCH LOSS: USED the MOST\n",
    "GRAPHS: I CANNOT SEE this tab\n",
    "DISTRIBUTIONS: shows RANGE of WEIGHTS throughout different\n",
    "     LAYERS\n",
    "        Keep in mind interepreting these directly wont\n",
    "        help much for this dataset and more helpful when\n",
    "        dealing with CONVULUTIONAL NETWORKS\n",
    "HISTOGRAMS: also hard to interpret directly. Shows how much\n",
    "    things are changing throught time. So looking at first\n",
    "    Dense 1 we see the BIAS values per EPOCH thru time. So \n",
    "    in beginning they are changing wildly and as you get \n",
    "    toward stopping epoch they dont change much, which we \n",
    "    should expect as we get closer and closer to early \n",
    "    stopping point things change less, and its the same for\n",
    "    the WEIGHT Histograms as well\n",
    " #so these are HISTOGRAMS for the BIAS and WEIGHT for the \n",
    " #DENSE 1(first dense layer). So we can view these for each\n",
    "    #of the LAYERS\n",
    "\n",
    "Depending on what we record we can view other things like:\n",
    "PROFILE and PROJECTOR- these aren't super useful for \n",
    "right now "
   ]
  },
  {
   "cell_type": "code",
   "execution_count": null,
   "metadata": {},
   "outputs": [],
   "source": [
    "we will come back to TENSORBOARD when dealing with \n",
    "CONVOLUTIONAL NURAL NETWORDS Later"
   ]
  },
  {
   "cell_type": "code",
   "execution_count": null,
   "metadata": {},
   "outputs": [],
   "source": []
  },
  {
   "cell_type": "code",
   "execution_count": null,
   "metadata": {},
   "outputs": [],
   "source": []
  },
  {
   "cell_type": "code",
   "execution_count": null,
   "metadata": {},
   "outputs": [],
   "source": []
  }
 ],
 "metadata": {
  "kernelspec": {
   "display_name": "Python 3",
   "language": "python",
   "name": "python3"
  },
  "language_info": {
   "codemirror_mode": {
    "name": "ipython",
    "version": 3
   },
   "file_extension": ".py",
   "mimetype": "text/x-python",
   "name": "python",
   "nbconvert_exporter": "python",
   "pygments_lexer": "ipython3",
   "version": "3.7.4"
  }
 },
 "nbformat": 4,
 "nbformat_minor": 2
}
