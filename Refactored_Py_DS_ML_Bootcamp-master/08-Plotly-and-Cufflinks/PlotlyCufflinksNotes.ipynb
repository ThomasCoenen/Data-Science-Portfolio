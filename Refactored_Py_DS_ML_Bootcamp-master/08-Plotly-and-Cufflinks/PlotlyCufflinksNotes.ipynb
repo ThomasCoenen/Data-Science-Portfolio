{
 "cells": [
  {
   "cell_type": "code",
   "execution_count": null,
   "metadata": {},
   "outputs": [],
   "source": [
    "# PLOTLY and CUFFLINKS \n",
    " #allow us to create interactive visualizations\n",
    "#PLOTLY - interactive visulatization library \n",
    "#CUFFLINKS conncects ploty with pandas\n",
    "#You can host visualization on Plotly website\n",
    "\n",
    "#Go here for documentation \n",
    "https://github.com/santosjorge/cufflinks\n",
    " #Has some very useful info and more plots we can do\n",
    " #Check out Technical Analysis stuff \n",
    "      #Cufflinks - ta.py\n",
    "\n",
    "website : plot.ly"
   ]
  },
  {
   "cell_type": "code",
   "execution_count": 25,
   "metadata": {},
   "outputs": [],
   "source": [
    "import pandas as pd\n",
    "import numpy as np"
   ]
  },
  {
   "cell_type": "code",
   "execution_count": 26,
   "metadata": {},
   "outputs": [],
   "source": [
    "from plotly import __version__"
   ]
  },
  {
   "cell_type": "code",
   "execution_count": 27,
   "metadata": {},
   "outputs": [
    {
     "name": "stdout",
     "output_type": "stream",
     "text": [
      "4.6.0\n"
     ]
    }
   ],
   "source": [
    "# Must have plotly version 1.9 or above so we are good\n",
    "print(__version__)"
   ]
  },
  {
   "cell_type": "code",
   "execution_count": 28,
   "metadata": {},
   "outputs": [],
   "source": [
    "import cufflinks as cf"
   ]
  },
  {
   "cell_type": "code",
   "execution_count": 29,
   "metadata": {},
   "outputs": [],
   "source": [
    "# Since we are using plotly open sourced and offline use some import from \n",
    "  #plotly offline\n",
    "from plotly.offline import download_plotlyjs, init_notebook_mode, plot, iplot"
   ]
  },
  {
   "cell_type": "code",
   "execution_count": 30,
   "metadata": {},
   "outputs": [
    {
     "data": {
      "text/html": [
       "        <script type=\"text/javascript\">\n",
       "        window.PlotlyConfig = {MathJaxConfig: 'local'};\n",
       "        if (window.MathJax) {MathJax.Hub.Config({SVG: {font: \"STIX-Web\"}});}\n",
       "        if (typeof require !== 'undefined') {\n",
       "        require.undef(\"plotly\");\n",
       "        requirejs.config({\n",
       "            paths: {\n",
       "                'plotly': ['https://cdn.plot.ly/plotly-latest.min']\n",
       "            }\n",
       "        });\n",
       "        require(['plotly'], function(Plotly) {\n",
       "            window._Plotly = Plotly;\n",
       "        });\n",
       "        }\n",
       "        </script>\n",
       "        "
      ]
     },
     "metadata": {},
     "output_type": "display_data"
    }
   ],
   "source": [
    "#Connects JavaScript to notebook\n",
    "# Pltly connects pandas and python to inteactive javascript library\n",
    " # allows notebook to access those visualizations\n",
    "init_notebook_mode(connected=True)"
   ]
  },
  {
   "cell_type": "code",
   "execution_count": 31,
   "metadata": {},
   "outputs": [
    {
     "data": {
      "text/html": [
       "        <script type=\"text/javascript\">\n",
       "        window.PlotlyConfig = {MathJaxConfig: 'local'};\n",
       "        if (window.MathJax) {MathJax.Hub.Config({SVG: {font: \"STIX-Web\"}});}\n",
       "        if (typeof require !== 'undefined') {\n",
       "        require.undef(\"plotly\");\n",
       "        requirejs.config({\n",
       "            paths: {\n",
       "                'plotly': ['https://cdn.plot.ly/plotly-latest.min']\n",
       "            }\n",
       "        });\n",
       "        require(['plotly'], function(Plotly) {\n",
       "            window._Plotly = Plotly;\n",
       "        });\n",
       "        }\n",
       "        </script>\n",
       "        "
      ]
     },
     "metadata": {},
     "output_type": "display_data"
    }
   ],
   "source": [
    "# allows us to use Cufflinks offline\n",
    "cf.go_offline()"
   ]
  },
  {
   "cell_type": "code",
   "execution_count": 38,
   "metadata": {},
   "outputs": [
    {
     "data": {
      "text/html": [
       "<div>\n",
       "<style scoped>\n",
       "    .dataframe tbody tr th:only-of-type {\n",
       "        vertical-align: middle;\n",
       "    }\n",
       "\n",
       "    .dataframe tbody tr th {\n",
       "        vertical-align: top;\n",
       "    }\n",
       "\n",
       "    .dataframe thead th {\n",
       "        text-align: right;\n",
       "    }\n",
       "</style>\n",
       "<table border=\"1\" class=\"dataframe\">\n",
       "  <thead>\n",
       "    <tr style=\"text-align: right;\">\n",
       "      <th></th>\n",
       "      <th>A</th>\n",
       "      <th>B</th>\n",
       "      <th>C</th>\n",
       "      <th>D</th>\n",
       "    </tr>\n",
       "  </thead>\n",
       "  <tbody>\n",
       "    <tr>\n",
       "      <td>0</td>\n",
       "      <td>-1.228210</td>\n",
       "      <td>-0.941099</td>\n",
       "      <td>0.142694</td>\n",
       "      <td>0.610649</td>\n",
       "    </tr>\n",
       "    <tr>\n",
       "      <td>1</td>\n",
       "      <td>0.673719</td>\n",
       "      <td>0.740371</td>\n",
       "      <td>0.674386</td>\n",
       "      <td>-0.558096</td>\n",
       "    </tr>\n",
       "    <tr>\n",
       "      <td>2</td>\n",
       "      <td>-0.635999</td>\n",
       "      <td>-0.368200</td>\n",
       "      <td>-1.915904</td>\n",
       "      <td>-0.403835</td>\n",
       "    </tr>\n",
       "    <tr>\n",
       "      <td>3</td>\n",
       "      <td>-0.232624</td>\n",
       "      <td>0.099160</td>\n",
       "      <td>0.127016</td>\n",
       "      <td>0.111251</td>\n",
       "    </tr>\n",
       "    <tr>\n",
       "      <td>4</td>\n",
       "      <td>-0.465268</td>\n",
       "      <td>-1.682578</td>\n",
       "      <td>0.563628</td>\n",
       "      <td>1.914680</td>\n",
       "    </tr>\n",
       "  </tbody>\n",
       "</table>\n",
       "</div>"
      ],
      "text/plain": [
       "          A         B         C         D\n",
       "0 -1.228210 -0.941099  0.142694  0.610649\n",
       "1  0.673719  0.740371  0.674386 -0.558096\n",
       "2 -0.635999 -0.368200 -1.915904 -0.403835\n",
       "3 -0.232624  0.099160  0.127016  0.111251\n",
       "4 -0.465268 -1.682578  0.563628  1.914680"
      ]
     },
     "execution_count": 38,
     "metadata": {},
     "output_type": "execute_result"
    }
   ],
   "source": [
    "# Make a DF\n",
    "# Splitting just gives us a list of columns A,B,C,D\n",
    "df = pd.DataFrame(np.random.randn(100,4),columns='A B C D'.split())\n",
    "df.head()"
   ]
  },
  {
   "cell_type": "code",
   "execution_count": 33,
   "metadata": {},
   "outputs": [
    {
     "data": {
      "text/html": [
       "<div>\n",
       "<style scoped>\n",
       "    .dataframe tbody tr th:only-of-type {\n",
       "        vertical-align: middle;\n",
       "    }\n",
       "\n",
       "    .dataframe tbody tr th {\n",
       "        vertical-align: top;\n",
       "    }\n",
       "\n",
       "    .dataframe thead th {\n",
       "        text-align: right;\n",
       "    }\n",
       "</style>\n",
       "<table border=\"1\" class=\"dataframe\">\n",
       "  <thead>\n",
       "    <tr style=\"text-align: right;\">\n",
       "      <th></th>\n",
       "      <th>Category</th>\n",
       "      <th>Values</th>\n",
       "    </tr>\n",
       "  </thead>\n",
       "  <tbody>\n",
       "    <tr>\n",
       "      <td>0</td>\n",
       "      <td>A</td>\n",
       "      <td>32</td>\n",
       "    </tr>\n",
       "    <tr>\n",
       "      <td>1</td>\n",
       "      <td>B</td>\n",
       "      <td>43</td>\n",
       "    </tr>\n",
       "    <tr>\n",
       "      <td>2</td>\n",
       "      <td>C</td>\n",
       "      <td>50</td>\n",
       "    </tr>\n",
       "  </tbody>\n",
       "</table>\n",
       "</div>"
      ],
      "text/plain": [
       "  Category  Values\n",
       "0        A      32\n",
       "1        B      43\n",
       "2        C      50"
      ]
     },
     "execution_count": 33,
     "metadata": {},
     "output_type": "execute_result"
    }
   ],
   "source": [
    "# Make a DF\n",
    "df2 = pd.DataFrame({'Category':['A','B','C'],'Values':[32,43,50]})\n",
    "df2.head()"
   ]
  },
  {
   "cell_type": "code",
   "execution_count": null,
   "metadata": {},
   "outputs": [],
   "source": []
  },
  {
   "cell_type": "code",
   "execution_count": 36,
   "metadata": {},
   "outputs": [],
   "source": [
    "#CUFFLINS and PYPLOT - How to Use\n",
    "# If we call .plot() of the DF pandas will plot something with MPL\n",
    "df.plot()"
   ]
  },
  {
   "cell_type": "code",
   "execution_count": 35,
   "metadata": {},
   "outputs": [],
   "source": [
    "# To see above plot must import this:\n",
    "%matplotlib inline"
   ]
  },
  {
   "cell_type": "code",
   "execution_count": 23,
   "metadata": {},
   "outputs": [
    {
     "data": {
      "text/plain": [
       "<matplotlib.axes._subplots.AxesSubplot at 0x1c28d54790>"
      ]
     },
     "execution_count": 23,
     "metadata": {},
     "output_type": "execute_result"
    },
    {
     "data": {
      "image/png": "[encoded data removed]",
      "text/plain": [
       "<Figure size 432x288 with 1 Axes>"
      ]
     },
     "metadata": {
      "needs_background": "light"
     },
     "output_type": "display_data"
    }
   ],
   "source": [
    "# Run again\n",
    "df.plot()"
   ]
  },
  {
   "cell_type": "code",
   "execution_count": 39,
   "metadata": {},
   "outputs": [
    {
     "data": {
      "application/vnd.plotly.v1+json": {
       "config": {
        "linkText": "Export to plot.ly",
        "plotlyServerURL": "https://plot.ly",
        "showLink": true
       },
       "data": [
        {
         "line": {
          "color": "rgba(255, 153, 51, 1.0)",
          "dash": "solid",
          "shape": "linear",
          "width": 1.3
         },
         "mode": "lines",
         "name": "A",
         "text": "",
         "type": "scatter",
         "x": [
          0,
          1,
          2,
          3,
          4,
          5,
          6,
          7,
          8,
          9,
          10,
          11,
          12,
          13,
          14,
          15,
          16,
          17,
          18,
          19,
          20,
          21,
          22,
          23,
          24,
          25,
          26,
          27,
          28,
          29,
          30,
          31,
          32,
          33,
          34,
          35,
          36,
          37,
          38,
          39,
          40,
          41,
          42,
          43,
          44,
          45,
          46,
          47,
          48,
          49,
          50,
          51,
          52,
          53,
          54,
          55,
          56,
          57,
          58,
          59,
          60,
          61,
          62,
          63,
          64,
          65,
          66,
          67,
          68,
          69,
          70,
          71,
          72,
          73,
          74,
          75,
          76,
          77,
          78,
          79,
          80,
          81,
          82,
          83,
          84,
          85,
          86,
          87,
          88,
          89,
          90,
          91,
          92,
          93,
          94,
          95,
          96,
          97,
          98,
          99
         ],
         "y": [
          -1.228210303840886,
          0.673718637442548,
          -0.6359991664128826,
          -0.23262448905478936,
          -0.4652684818242084,
          0.09112090769390506,
          1.1202307162460101,
          -0.913002197072858,
          -1.7866033041530176,
          -1.1819664154244243,
          -2.2518992211992668,
          1.6419723454475943,
          -0.5049024421225882,
          -0.8316433290825647,
          -1.9026947938151906,
          0.9529643236956478,
          0.8424279826802521,
          0.6496949082875334,
          -1.2710369557178685,
          0.6744304243539521,
          0.27031806004342473,
          -0.6151995848966308,
          1.286999400136683,
          2.754225637025308,
          -0.8685563696172357,
          -0.37270596578089227,
          0.21656933195695277,
          0.3299593481685292,
          -0.38976956152955244,
          0.7899141331885607,
          -0.15232135255386411,
          -0.3278732576519635,
          -0.1714780618959102,
          0.24585193839195518,
          -0.520103537564345,
          0.9423867963175877,
          0.6998506662177038,
          2.9565000032387485,
          -0.16771290225752722,
          -0.8565644599372393,
          1.9093025443891725,
          -0.6065596660356215,
          1.5561398386580072,
          -1.6604273958353217,
          0.29570532237337854,
          -0.30655930240007645,
          0.5629765465472392,
          -1.1157754639387614,
          -0.22955196345192624,
          -2.0050583424582227,
          0.11713750696332578,
          2.8267139655873303,
          0.46332154157231764,
          0.8913848873219073,
          -0.27625761399056287,
          0.17061072015134288,
          0.01247361244100639,
          -1.1868120197940502,
          -0.1768842533262507,
          0.3980979509622024,
          1.7637268334097294,
          0.9632004046301621,
          -0.174102504451404,
          -1.02063042523494,
          1.678577707560514,
          2.061538374722697,
          -0.01891713764992838,
          -0.34503079589422914,
          -0.8918084865031932,
          -0.7260269927380488,
          0.49049384129362483,
          -1.7200742116968653,
          -0.7129415168181875,
          -0.44188757928112904,
          3.5061225729394834,
          -0.48365529838350285,
          0.09783218038002926,
          1.4577512305513558,
          0.036503672104812285,
          1.6157315712246738,
          0.34311746110657376,
          0.531373414113734,
          -0.7186086927412191,
          1.956762618943234,
          -0.06307785143259939,
          0.18422454988996845,
          -0.8828271943787102,
          -0.7819307241118907,
          -0.4712984396735526,
          0.8208067834200556,
          -0.9535656763785126,
          0.6172811281139772,
          0.38806297663784844,
          0.21969028658437853,
          0.5142512913421163,
          0.3040997986323465,
          0.28940893588859046,
          0.39912893114064507,
          0.8522015383297381,
          0.766249213069548
         ]
        },
        {
         "line": {
          "color": "rgba(55, 128, 191, 1.0)",
          "dash": "solid",
          "shape": "linear",
          "width": 1.3
         },
         "mode": "lines",
         "name": "B",
         "text": "",
         "type": "scatter",
         "x": [
          0,
          1,
          2,
          3,
          4,
          5,
          6,
          7,
          8,
          9,
          10,
          11,
          12,
          13,
          14,
          15,
          16,
          17,
          18,
          19,
          20,
          21,
          22,
          23,
          24,
          25,
          26,
          27,
          28,
          29,
          30,
          31,
          32,
          33,
          34,
          35,
          36,
          37,
          38,
          39,
          40,
          41,
          42,
          43,
          44,
          45,
          46,
          47,
          48,
          49,
          50,
          51,
          52,
          53,
          54,
          55,
          56,
          57,
          58,
          59,
          60,
          61,
          62,
          63,
          64,
          65,
          66,
          67,
          68,
          69,
          70,
          71,
          72,
          73,
          74,
          75,
          76,
          77,
          78,
          79,
          80,
          81,
          82,
          83,
          84,
          85,
          86,
          87,
          88,
          89,
          90,
          91,
          92,
          93,
          94,
          95,
          96,
          97,
          98,
          99
         ],
         "y": [
          -0.9410992898133941,
          0.7403709673795416,
          -0.3681996600834796,
          0.0991597200760194,
          -1.6825783826168605,
          -0.6208141494578543,
          -1.2271159557122688,
          -0.8033660807642069,
          0.8468097288813591,
          0.1722880167006293,
          -0.6637349467662795,
          -1.1017957408634886,
          0.78893110183799,
          0.5052234648355544,
          -0.5183463996216997,
          -0.13014575030713596,
          -2.1173663052566436,
          1.0340391919026775,
          0.4758016414816595,
          1.1751249928768135,
          -0.5777840131627777,
          0.35166835742458624,
          0.4250410076349158,
          0.12956422399669026,
          -0.40001911165167875,
          0.49433210165665,
          0.9238971005402511,
          -0.7022088325329872,
          -0.6250617284042304,
          0.823798227192268,
          0.6736158408541878,
          -0.3471483746325953,
          -1.3044961423954966,
          1.2676370274998308,
          -1.3142364799225965,
          2.650935361804906,
          0.9822129709541314,
          1.9357227006820465,
          0.3703095980993604,
          -0.5530894722283664,
          -1.0407802242731543,
          -0.24484815231948331,
          1.7030276075455875,
          0.4806778126836462,
          0.6063504773432427,
          0.19814079912786253,
          -0.28845578570720243,
          0.336187104999158,
          0.8742807414259941,
          -0.7787074869262802,
          0.5468775255294299,
          -0.723845204414693,
          0.008127763819823951,
          0.34186476255512704,
          0.2639769485027573,
          -1.8208409662925802,
          0.24074451187422571,
          0.5562452782986852,
          -0.5824077840268167,
          0.17050183300365282,
          0.42085884285977426,
          -0.8692661641636048,
          -0.9723993347465054,
          0.5395347413629555,
          -1.144824452521687,
          -1.5581534101688002,
          -1.6729339246680435,
          -2.2056076136021434,
          1.103355797338571,
          0.7678907038054802,
          -0.5151607726764834,
          -0.6475275993757056,
          -1.0082785648677384,
          1.5260113519881962,
          -0.0076054176697331385,
          -0.8379869596906585,
          -0.8532996052463981,
          0.520857662239727,
          -1.1507840593174075,
          0.13138500423423757,
          1.766428276090597,
          0.6509203417858905,
          1.290169264557484,
          0.461245786964094,
          0.381986938073141,
          0.7753138167975542,
          0.8672473904523145,
          0.18973725833913044,
          0.040801741645153794,
          -1.391900776067866,
          -0.6712369302438657,
          -0.04660937009967414,
          -1.1372146461701285,
          0.370270983375189,
          0.5796009309658001,
          -1.4386684202941982,
          -1.319559175894388,
          -0.5188624577046717,
          -1.050562091557685,
          1.988326116952474
         ]
        },
        {
         "line": {
          "color": "rgba(50, 171, 96, 1.0)",
          "dash": "solid",
          "shape": "linear",
          "width": 1.3
         },
         "mode": "lines",
         "name": "C",
         "text": "",
         "type": "scatter",
         "x": [
          0,
          1,
          2,
          3,
          4,
          5,
          6,
          7,
          8,
          9,
          10,
          11,
          12,
          13,
          14,
          15,
          16,
          17,
          18,
          19,
          20,
          21,
          22,
          23,
          24,
          25,
          26,
          27,
          28,
          29,
          30,
          31,
          32,
          33,
          34,
          35,
          36,
          37,
          38,
          39,
          40,
          41,
          42,
          43,
          44,
          45,
          46,
          47,
          48,
          49,
          50,
          51,
          52,
          53,
          54,
          55,
          56,
          57,
          58,
          59,
          60,
          61,
          62,
          63,
          64,
          65,
          66,
          67,
          68,
          69,
          70,
          71,
          72,
          73,
          74,
          75,
          76,
          77,
          78,
          79,
          80,
          81,
          82,
          83,
          84,
          85,
          86,
          87,
          88,
          89,
          90,
          91,
          92,
          93,
          94,
          95,
          96,
          97,
          98,
          99
         ],
         "y": [
          0.1426936499011667,
          0.6743863824468715,
          -1.9159042047040724,
          0.12701611366523768,
          0.5636280465689022,
          0.2653262616821967,
          -0.5830900218537203,
          1.6268944121439155,
          0.032134459457989054,
          0.2837070672739637,
          -0.908341131234595,
          -0.2912868176976957,
          -0.5596115261134985,
          -0.6698547775985916,
          -0.06644066405389445,
          -0.5635975064256188,
          -0.03413687986916309,
          -0.19300147898416536,
          0.3872050642817624,
          -2.1165183184615546,
          -0.6976749316032758,
          1.5783006573276834,
          -1.0984317833839843,
          0.1935586317598326,
          -2.0414514060862277,
          0.8273165865437476,
          -0.5334902768575471,
          -0.6596195709663755,
          -0.549215782627158,
          -0.5465157483350779,
          -2.2291257904849964,
          -0.8924230840343537,
          0.5864182297589924,
          -0.8774228368518772,
          1.2637792405670139,
          -1.3408252236678477,
          -0.6005444176819201,
          0.6910209001315113,
          0.030946176835107673,
          0.8317294046592685,
          -0.24226793477545702,
          -1.0751195048330666,
          1.6790089121797258,
          0.5299931706931623,
          0.9065907842791338,
          -0.9544899579816438,
          1.2784401587767251,
          0.15403433605819544,
          0.611993290038772,
          -0.7559634279957641,
          0.08819990722390152,
          -1.056055039049362,
          2.0027716806468785,
          -1.9615720122189535,
          -0.17513402898714328,
          -0.4798872243484583,
          -2.4508266457656,
          -0.33884412615446186,
          -2.019978178352013,
          -0.7290974754166974,
          -1.347793986082597,
          2.1398770557429487,
          0.16040455572132187,
          0.06465038310874904,
          0.015294630368586389,
          -1.0890873934955765,
          1.4409058291864612,
          -1.371518717484521,
          1.3071811967033915,
          1.3904478393949753,
          -2.0037227249117553,
          0.11510825724336189,
          -0.29718611398512745,
          -0.5055331245752551,
          0.6448185869979838,
          0.1491150879202775,
          0.9985330501748927,
          1.0014419886266486,
          1.865102464507751,
          0.2286365636433252,
          -0.03550451414647598,
          -2.718717212523047,
          -0.9240701341744608,
          -0.2888760375290752,
          0.5207417218309627,
          1.1687872614974864,
          0.2565814315959523,
          -0.18066310467005145,
          0.06308409801663467,
          -0.7123126172355311,
          -1.0368383000789096,
          0.27498166815858444,
          -1.140923803902282,
          -1.525816700957253,
          0.21746655202661985,
          0.052356171907522044,
          -0.49939185897760346,
          0.13609632242732642,
          -0.28894964323218236,
          0.08729029057194035
         ]
        },
        {
         "line": {
          "color": "rgba(128, 0, 128, 1.0)",
          "dash": "solid",
          "shape": "linear",
          "width": 1.3
         },
         "mode": "lines",
         "name": "D",
         "text": "",
         "type": "scatter",
         "x": [
          0,
          1,
          2,
          3,
          4,
          5,
          6,
          7,
          8,
          9,
          10,
          11,
          12,
          13,
          14,
          15,
          16,
          17,
          18,
          19,
          20,
          21,
          22,
          23,
          24,
          25,
          26,
          27,
          28,
          29,
          30,
          31,
          32,
          33,
          34,
          35,
          36,
          37,
          38,
          39,
          40,
          41,
          42,
          43,
          44,
          45,
          46,
          47,
          48,
          49,
          50,
          51,
          52,
          53,
          54,
          55,
          56,
          57,
          58,
          59,
          60,
          61,
          62,
          63,
          64,
          65,
          66,
          67,
          68,
          69,
          70,
          71,
          72,
          73,
          74,
          75,
          76,
          77,
          78,
          79,
          80,
          81,
          82,
          83,
          84,
          85,
          86,
          87,
          88,
          89,
          90,
          91,
          92,
          93,
          94,
          95,
          96,
          97,
          98,
          99
         ],
         "y": [
          0.6106487369671837,
          -0.5580959391359147,
          -0.40383476919477296,
          0.11125072387168945,
          1.914679797928206,
          -0.5794917293571655,
          0.2802186585460156,
          -0.48119536467688356,
          1.549222235085247,
          -0.761040886666783,
          -0.2042886730218136,
          -0.14071286229645755,
          -0.08572931138786967,
          -0.4342450052527491,
          0.8159473114893341,
          1.5181456675065004,
          -0.2591638049954156,
          1.4637550557367995,
          -0.8259681604858221,
          -0.878102167941134,
          -2.1062948243645536,
          -0.3254887503171195,
          -0.07034230093754808,
          -0.44464327812496063,
          1.961675856334788,
          0.24629335711581235,
          0.09799551611645173,
          0.19159035994880308,
          -1.0156074997556654,
          1.2806421125844174,
          0.1304788681345427,
          0.1206976944051949,
          -0.48836243352088493,
          2.802032607444495,
          0.9992093115241782,
          -0.7896734382539464,
          0.42162329356356454,
          0.014579143845804126,
          -0.4652716694577242,
          0.3454690258598138,
          0.6454479664922625,
          0.5927360716174458,
          -1.1091587246321357,
          -0.3763966436874311,
          -0.4723404843015961,
          1.6296431854939475,
          -1.2247809594359418,
          -0.9550425500787262,
          0.2789136570555125,
          -0.5729846821735802,
          -0.026253713718288375,
          0.725066652097282,
          0.6902230007349073,
          0.9811932312461932,
          1.9688012226230052,
          -0.13927462217851405,
          -0.5123803245556551,
          0.7056350323843916,
          -0.5720206839257674,
          -2.0999560084539954,
          0.28156143554830015,
          1.0747977797889474,
          -1.158658136514488,
          0.529537528312165,
          -0.11214529017336296,
          -0.4160977828350819,
          -1.0674672412849793,
          -0.2449859194432744,
          -0.6128110114858487,
          1.9448518050754133,
          -1.783138151347126,
          -0.6752860083341697,
          0.7022789401239837,
          -1.835524755070365,
          -0.313253458096198,
          -0.45099788556239573,
          -0.28857769772700764,
          -0.1892423501615623,
          -0.24688173949758832,
          0.13424524754480605,
          0.05797104701583112,
          0.09660484893958388,
          -1.3095879709172507,
          0.24754957486710374,
          1.9569210065511524,
          2.0954909828936454,
          2.2068872058371127,
          -1.8935847994034554,
          -1.9658707145920777,
          -1.0564378775196899,
          1.4874017864180422,
          0.17280821165585758,
          0.37644056131981074,
          0.2340871273662667,
          -1.0632261061039,
          0.5540872350959097,
          -1.007909624391688,
          0.6562083549945321,
          -0.08960169518516971,
          0.11316995519037891
         ]
        }
       ],
       "layout": {
        "legend": {
         "bgcolor": "#F5F6F9",
         "font": {
          "color": "#4D5663"
         }
        },
        "paper_bgcolor": "#F5F6F9",
        "plot_bgcolor": "#F5F6F9",
        "template": {
         "data": {
          "bar": [
           {
            "error_x": {
             "color": "#2a3f5f"
            },
            "error_y": {
             "color": "#2a3f5f"
            },
            "marker": {
             "line": {
              "color": "#E5ECF6",
              "width": 0.5
             }
            },
            "type": "bar"
           }
          ],
          "barpolar": [
           {
            "marker": {
             "line": {
              "color": "#E5ECF6",
              "width": 0.5
             }
            },
            "type": "barpolar"
           }
          ],
          "carpet": [
           {
            "aaxis": {
             "endlinecolor": "#2a3f5f",
             "gridcolor": "white",
             "linecolor": "white",
             "minorgridcolor": "white",
             "startlinecolor": "#2a3f5f"
            },
            "baxis": {
             "endlinecolor": "#2a3f5f",
             "gridcolor": "white",
             "linecolor": "white",
             "minorgridcolor": "white",
             "startlinecolor": "#2a3f5f"
            },
            "type": "carpet"
           }
          ],
          "choropleth": [
           {
            "colorbar": {
             "outlinewidth": 0,
             "ticks": ""
            },
            "type": "choropleth"
           }
          ],
          "contour": [
           {
            "colorbar": {
             "outlinewidth": 0,
             "ticks": ""
            },
            "colorscale": [
             [
              0,
              "#0d0887"
             ],
             [
              0.1111111111111111,
              "#46039f"
             ],
             [
              0.2222222222222222,
              "#7201a8"
             ],
             [
              0.3333333333333333,
              "#9c179e"
             ],
             [
              0.4444444444444444,
              "#bd3786"
             ],
             [
              0.5555555555555556,
              "#d8576b"
             ],
             [
              0.6666666666666666,
              "#ed7953"
             ],
             [
              0.7777777777777778,
              "#fb9f3a"
             ],
             [
              0.8888888888888888,
              "#fdca26"
             ],
             [
              1,
              "#f0f921"
             ]
            ],
            "type": "contour"
           }
          ],
          "contourcarpet": [
           {
            "colorbar": {
             "outlinewidth": 0,
             "ticks": ""
            },
            "type": "contourcarpet"
           }
          ],
          "heatmap": [
           {
            "colorbar": {
             "outlinewidth": 0,
             "ticks": ""
            },
            "colorscale": [
             [
              0,
              "#0d0887"
             ],
             [
              0.1111111111111111,
              "#46039f"
             ],
             [
              0.2222222222222222,
              "#7201a8"
             ],
             [
              0.3333333333333333,
              "#9c179e"
             ],
             [
              0.4444444444444444,
              "#bd3786"
             ],
             [
              0.5555555555555556,
              "#d8576b"
             ],
             [
              0.6666666666666666,
              "#ed7953"
             ],
             [
              0.7777777777777778,
              "#fb9f3a"
             ],
             [
              0.8888888888888888,
              "#fdca26"
             ],
             [
              1,
              "#f0f921"
             ]
            ],
            "type": "heatmap"
           }
          ],
          "heatmapgl": [
           {
            "colorbar": {
             "outlinewidth": 0,
             "ticks": ""
            },
            "colorscale": [
             [
              0,
              "#0d0887"
             ],
             [
              0.1111111111111111,
              "#46039f"
             ],
             [
              0.2222222222222222,
              "#7201a8"
             ],
             [
              0.3333333333333333,
              "#9c179e"
             ],
             [
              0.4444444444444444,
              "#bd3786"
             ],
             [
              0.5555555555555556,
              "#d8576b"
             ],
             [
              0.6666666666666666,
              "#ed7953"
             ],
             [
              0.7777777777777778,
              "#fb9f3a"
             ],
             [
              0.8888888888888888,
              "#fdca26"
             ],
             [
              1,
              "#f0f921"
             ]
            ],
            "type": "heatmapgl"
           }
          ],
          "histogram": [
           {
            "marker": {
             "colorbar": {
              "outlinewidth": 0,
              "ticks": ""
             }
            },
            "type": "histogram"
           }
          ],
          "histogram2d": [
           {
            "colorbar": {
             "outlinewidth": 0,
             "ticks": ""
            },
            "colorscale": [
             [
              0,
              "#0d0887"
             ],
             [
              0.1111111111111111,
              "#46039f"
             ],
             [
              0.2222222222222222,
              "#7201a8"
             ],
             [
              0.3333333333333333,
              "#9c179e"
             ],
             [
              0.4444444444444444,
              "#bd3786"
             ],
             [
              0.5555555555555556,
              "#d8576b"
             ],
             [
              0.6666666666666666,
              "#ed7953"
             ],
             [
              0.7777777777777778,
              "#fb9f3a"
             ],
             [
              0.8888888888888888,
              "#fdca26"
             ],
             [
              1,
              "#f0f921"
             ]
            ],
            "type": "histogram2d"
           }
          ],
          "histogram2dcontour": [
           {
            "colorbar": {
             "outlinewidth": 0,
             "ticks": ""
            },
            "colorscale": [
             [
              0,
              "#0d0887"
             ],
             [
              0.1111111111111111,
              "#46039f"
             ],
             [
              0.2222222222222222,
              "#7201a8"
             ],
             [
              0.3333333333333333,
              "#9c179e"
             ],
             [
              0.4444444444444444,
              "#bd3786"
             ],
             [
              0.5555555555555556,
              "#d8576b"
             ],
             [
              0.6666666666666666,
              "#ed7953"
             ],
             [
              0.7777777777777778,
              "#fb9f3a"
             ],
             [
              0.8888888888888888,
              "#fdca26"
             ],
             [
              1,
              "#f0f921"
             ]
            ],
            "type": "histogram2dcontour"
           }
          ],
          "mesh3d": [
           {
            "colorbar": {
             "outlinewidth": 0,
             "ticks": ""
            },
            "type": "mesh3d"
           }
          ],
          "parcoords": [
           {
            "line": {
             "colorbar": {
              "outlinewidth": 0,
              "ticks": ""
             }
            },
            "type": "parcoords"
           }
          ],
          "pie": [
           {
            "automargin": true,
            "type": "pie"
           }
          ],
          "scatter": [
           {
            "marker": {
             "colorbar": {
              "outlinewidth": 0,
              "ticks": ""
             }
            },
            "type": "scatter"
           }
          ],
          "scatter3d": [
           {
            "line": {
             "colorbar": {
              "outlinewidth": 0,
              "ticks": ""
             }
            },
            "marker": {
             "colorbar": {
              "outlinewidth": 0,
              "ticks": ""
             }
            },
            "type": "scatter3d"
           }
          ],
          "scattercarpet": [
           {
            "marker": {
             "colorbar": {
              "outlinewidth": 0,
              "ticks": ""
             }
            },
            "type": "scattercarpet"
           }
          ],
          "scattergeo": [
           {
            "marker": {
             "colorbar": {
              "outlinewidth": 0,
              "ticks": ""
             }
            },
            "type": "scattergeo"
           }
          ],
          "scattergl": [
           {
            "marker": {
             "colorbar": {
              "outlinewidth": 0,
              "ticks": ""
             }
            },
            "type": "scattergl"
           }
          ],
          "scattermapbox": [
           {
            "marker": {
             "colorbar": {
              "outlinewidth": 0,
              "ticks": ""
             }
            },
            "type": "scattermapbox"
           }
          ],
          "scatterpolar": [
           {
            "marker": {
             "colorbar": {
              "outlinewidth": 0,
              "ticks": ""
             }
            },
            "type": "scatterpolar"
           }
          ],
          "scatterpolargl": [
           {
            "marker": {
             "colorbar": {
              "outlinewidth": 0,
              "ticks": ""
             }
            },
            "type": "scatterpolargl"
           }
          ],
          "scatterternary": [
           {
            "marker": {
             "colorbar": {
              "outlinewidth": 0,
              "ticks": ""
             }
            },
            "type": "scatterternary"
           }
          ],
          "surface": [
           {
            "colorbar": {
             "outlinewidth": 0,
             "ticks": ""
            },
            "colorscale": [
             [
              0,
              "#0d0887"
             ],
             [
              0.1111111111111111,
              "#46039f"
             ],
             [
              0.2222222222222222,
              "#7201a8"
             ],
             [
              0.3333333333333333,
              "#9c179e"
             ],
             [
              0.4444444444444444,
              "#bd3786"
             ],
             [
              0.5555555555555556,
              "#d8576b"
             ],
             [
              0.6666666666666666,
              "#ed7953"
             ],
             [
              0.7777777777777778,
              "#fb9f3a"
             ],
             [
              0.8888888888888888,
              "#fdca26"
             ],
             [
              1,
              "#f0f921"
             ]
            ],
            "type": "surface"
           }
          ],
          "table": [
           {
            "cells": {
             "fill": {
              "color": "#EBF0F8"
             },
             "line": {
              "color": "white"
             }
            },
            "header": {
             "fill": {
              "color": "#C8D4E3"
             },
             "line": {
              "color": "white"
             }
            },
            "type": "table"
           }
          ]
         },
         "layout": {
          "annotationdefaults": {
           "arrowcolor": "#2a3f5f",
           "arrowhead": 0,
           "arrowwidth": 1
          },
          "coloraxis": {
           "colorbar": {
            "outlinewidth": 0,
            "ticks": ""
           }
          },
          "colorscale": {
           "diverging": [
            [
             0,
             "#8e0152"
            ],
            [
             0.1,
             "#c51b7d"
            ],
            [
             0.2,
             "#de77ae"
            ],
            [
             0.3,
             "#f1b6da"
            ],
            [
             0.4,
             "#fde0ef"
            ],
            [
             0.5,
             "#f7f7f7"
            ],
            [
             0.6,
             "#e6f5d0"
            ],
            [
             0.7,
             "#b8e186"
            ],
            [
             0.8,
             "#7fbc41"
            ],
            [
             0.9,
             "#4d9221"
            ],
            [
             1,
             "#276419"
            ]
           ],
           "sequential": [
            [
             0,
             "#0d0887"
            ],
            [
             0.1111111111111111,
             "#46039f"
            ],
            [
             0.2222222222222222,
             "#7201a8"
            ],
            [
             0.3333333333333333,
             "#9c179e"
            ],
            [
             0.4444444444444444,
             "#bd3786"
            ],
            [
             0.5555555555555556,
             "#d8576b"
            ],
            [
             0.6666666666666666,
             "#ed7953"
            ],
            [
             0.7777777777777778,
             "#fb9f3a"
            ],
            [
             0.8888888888888888,
             "#fdca26"
            ],
            [
             1,
             "#f0f921"
            ]
           ],
           "sequentialminus": [
            [
             0,
             "#0d0887"
            ],
            [
             0.1111111111111111,
             "#46039f"
            ],
            [
             0.2222222222222222,
             "#7201a8"
            ],
            [
             0.3333333333333333,
             "#9c179e"
            ],
            [
             0.4444444444444444,
             "#bd3786"
            ],
            [
             0.5555555555555556,
             "#d8576b"
            ],
            [
             0.6666666666666666,
             "#ed7953"
            ],
            [
             0.7777777777777778,
             "#fb9f3a"
            ],
            [
             0.8888888888888888,
             "#fdca26"
            ],
            [
             1,
             "#f0f921"
            ]
           ]
          },
          "colorway": [
           "#636efa",
           "#EF553B",
           "#00cc96",
           "#ab63fa",
           "#FFA15A",
           "#19d3f3",
           "#FF6692",
           "#B6E880",
           "#FF97FF",
           "#FECB52"
          ],
          "font": {
           "color": "#2a3f5f"
          },
          "geo": {
           "bgcolor": "white",
           "lakecolor": "white",
           "landcolor": "#E5ECF6",
           "showlakes": true,
           "showland": true,
           "subunitcolor": "white"
          },
          "hoverlabel": {
           "align": "left"
          },
          "hovermode": "closest",
          "mapbox": {
           "style": "light"
          },
          "paper_bgcolor": "white",
          "plot_bgcolor": "#E5ECF6",
          "polar": {
           "angularaxis": {
            "gridcolor": "white",
            "linecolor": "white",
            "ticks": ""
           },
           "bgcolor": "#E5ECF6",
           "radialaxis": {
            "gridcolor": "white",
            "linecolor": "white",
            "ticks": ""
           }
          },
          "scene": {
           "xaxis": {
            "backgroundcolor": "#E5ECF6",
            "gridcolor": "white",
            "gridwidth": 2,
            "linecolor": "white",
            "showbackground": true,
            "ticks": "",
            "zerolinecolor": "white"
           },
           "yaxis": {
            "backgroundcolor": "#E5ECF6",
            "gridcolor": "white",
            "gridwidth": 2,
            "linecolor": "white",
            "showbackground": true,
            "ticks": "",
            "zerolinecolor": "white"
           },
           "zaxis": {
            "backgroundcolor": "#E5ECF6",
            "gridcolor": "white",
            "gridwidth": 2,
            "linecolor": "white",
            "showbackground": true,
            "ticks": "",
            "zerolinecolor": "white"
           }
          },
          "shapedefaults": {
           "line": {
            "color": "#2a3f5f"
           }
          },
          "ternary": {
           "aaxis": {
            "gridcolor": "white",
            "linecolor": "white",
            "ticks": ""
           },
           "baxis": {
            "gridcolor": "white",
            "linecolor": "white",
            "ticks": ""
           },
           "bgcolor": "#E5ECF6",
           "caxis": {
            "gridcolor": "white",
            "linecolor": "white",
            "ticks": ""
           }
          },
          "title": {
           "x": 0.05
          },
          "xaxis": {
           "automargin": true,
           "gridcolor": "white",
           "linecolor": "white",
           "ticks": "",
           "title": {
            "standoff": 15
           },
           "zerolinecolor": "white",
           "zerolinewidth": 2
          },
          "yaxis": {
           "automargin": true,
           "gridcolor": "white",
           "linecolor": "white",
           "ticks": "",
           "title": {
            "standoff": 15
           },
           "zerolinecolor": "white",
           "zerolinewidth": 2
          }
         }
        },
        "title": {
         "font": {
          "color": "#4D5663"
         }
        },
        "xaxis": {
         "gridcolor": "#E1E5ED",
         "showgrid": true,
         "tickfont": {
          "color": "#4D5663"
         },
         "title": {
          "font": {
           "color": "#4D5663"
          },
          "text": ""
         },
         "zerolinecolor": "#E1E5ED"
        },
        "yaxis": {
         "gridcolor": "#E1E5ED",
         "showgrid": true,
         "tickfont": {
          "color": "#4D5663"
         },
         "title": {
          "font": {
           "color": "#4D5663"
          },
          "text": ""
         },
         "zerolinecolor": "#E1E5ED"
        }
       }
      },
      "text/html": [
       "<div>\n",
       "        \n",
       "        \n",
       "            <div id=\"d32d554c-1887-4d9a-afa5-933a09a797ca\" class=\"plotly-graph-div\" style=\"height:525px; width:100%;\"></div>\n",
       "            <script type=\"text/javascript\">\n",
       "                require([\"plotly\"], function(Plotly) {\n",
       "                    window.PLOTLYENV=window.PLOTLYENV || {};\n",
       "                    window.PLOTLYENV.BASE_URL='https://plot.ly';\n",
       "                    \n",
       "                if (document.getElementById(\"d32d554c-1887-4d9a-afa5-933a09a797ca\")) {\n",
       "                    Plotly.newPlot(\n",
       "                        'd32d554c-1887-4d9a-afa5-933a09a797ca',\n",
       "                        [{\"line\": {\"color\": \"rgba(255, 153, 51, 1.0)\", \"dash\": \"solid\", \"shape\": \"linear\", \"width\": 1.3}, \"mode\": \"lines\", \"name\": \"A\", \"text\": \"\", \"type\": \"scatter\", \"x\": [0, 1, 2, 3, 4, 5, 6, 7, 8, 9, 10, 11, 12, 13, 14, 15, 16, 17, 18, 19, 20, 21, 22, 23, 24, 25, 26, 27, 28, 29, 30, 31, 32, 33, 34, 35, 36, 37, 38, 39, 40, 41, 42, 43, 44, 45, 46, 47, 48, 49, 50, 51, 52, 53, 54, 55, 56, 57, 58, 59, 60, 61, 62, 63, 64, 65, 66, 67, 68, 69, 70, 71, 72, 73, 74, 75, 76, 77, 78, 79, 80, 81, 82, 83, 84, 85, 86, 87, 88, 89, 90, 91, 92, 93, 94, 95, 96, 97, 98, 99], \"y\": [-1.228210303840886, 0.673718637442548, -0.6359991664128826, -0.23262448905478936, -0.4652684818242084, 0.09112090769390506, 1.1202307162460101, -0.913002197072858, -1.7866033041530176, -1.1819664154244243, -2.2518992211992668, 1.6419723454475943, -0.5049024421225882, -0.8316433290825647, -1.9026947938151906, 0.9529643236956478, 0.8424279826802521, 0.6496949082875334, -1.2710369557178685, 0.6744304243539521, 0.27031806004342473, -0.6151995848966308, 1.286999400136683, 2.754225637025308, -0.8685563696172357, -0.37270596578089227, 0.21656933195695277, 0.3299593481685292, -0.38976956152955244, 0.7899141331885607, -0.15232135255386411, -0.3278732576519635, -0.1714780618959102, 0.24585193839195518, -0.520103537564345, 0.9423867963175877, 0.6998506662177038, 2.9565000032387485, -0.16771290225752722, -0.8565644599372393, 1.9093025443891725, -0.6065596660356215, 1.5561398386580072, -1.6604273958353217, 0.29570532237337854, -0.30655930240007645, 0.5629765465472392, -1.1157754639387614, -0.22955196345192624, -2.0050583424582227, 0.11713750696332578, 2.8267139655873303, 0.46332154157231764, 0.8913848873219073, -0.27625761399056287, 0.17061072015134288, 0.01247361244100639, -1.1868120197940502, -0.1768842533262507, 0.3980979509622024, 1.7637268334097294, 0.9632004046301621, -0.174102504451404, -1.02063042523494, 1.678577707560514, 2.061538374722697, -0.01891713764992838, -0.34503079589422914, -0.8918084865031932, -0.7260269927380488, 0.49049384129362483, -1.7200742116968653, -0.7129415168181875, -0.44188757928112904, 3.5061225729394834, -0.48365529838350285, 0.09783218038002926, 1.4577512305513558, 0.036503672104812285, 1.6157315712246738, 0.34311746110657376, 0.531373414113734, -0.7186086927412191, 1.956762618943234, -0.06307785143259939, 0.18422454988996845, -0.8828271943787102, -0.7819307241118907, -0.4712984396735526, 0.8208067834200556, -0.9535656763785126, 0.6172811281139772, 0.38806297663784844, 0.21969028658437853, 0.5142512913421163, 0.3040997986323465, 0.28940893588859046, 0.39912893114064507, 0.8522015383297381, 0.766249213069548]}, {\"line\": {\"color\": \"rgba(55, 128, 191, 1.0)\", \"dash\": \"solid\", \"shape\": \"linear\", \"width\": 1.3}, \"mode\": \"lines\", \"name\": \"B\", \"text\": \"\", \"type\": \"scatter\", \"x\": [0, 1, 2, 3, 4, 5, 6, 7, 8, 9, 10, 11, 12, 13, 14, 15, 16, 17, 18, 19, 20, 21, 22, 23, 24, 25, 26, 27, 28, 29, 30, 31, 32, 33, 34, 35, 36, 37, 38, 39, 40, 41, 42, 43, 44, 45, 46, 47, 48, 49, 50, 51, 52, 53, 54, 55, 56, 57, 58, 59, 60, 61, 62, 63, 64, 65, 66, 67, 68, 69, 70, 71, 72, 73, 74, 75, 76, 77, 78, 79, 80, 81, 82, 83, 84, 85, 86, 87, 88, 89, 90, 91, 92, 93, 94, 95, 96, 97, 98, 99], \"y\": [-0.9410992898133941, 0.7403709673795416, -0.3681996600834796, 0.0991597200760194, -1.6825783826168605, -0.6208141494578543, -1.2271159557122688, -0.8033660807642069, 0.8468097288813591, 0.1722880167006293, -0.6637349467662795, -1.1017957408634886, 0.78893110183799, 0.5052234648355544, -0.5183463996216997, -0.13014575030713596, -2.1173663052566436, 1.0340391919026775, 0.4758016414816595, 1.1751249928768135, -0.5777840131627777, 0.35166835742458624, 0.4250410076349158, 0.12956422399669026, -0.40001911165167875, 0.49433210165665, 0.9238971005402511, -0.7022088325329872, -0.6250617284042304, 0.823798227192268, 0.6736158408541878, -0.3471483746325953, -1.3044961423954966, 1.2676370274998308, -1.3142364799225965, 2.650935361804906, 0.9822129709541314, 1.9357227006820465, 0.3703095980993604, -0.5530894722283664, -1.0407802242731543, -0.24484815231948331, 1.7030276075455875, 0.4806778126836462, 0.6063504773432427, 0.19814079912786253, -0.28845578570720243, 0.336187104999158, 0.8742807414259941, -0.7787074869262802, 0.5468775255294299, -0.723845204414693, 0.008127763819823951, 0.34186476255512704, 0.2639769485027573, -1.8208409662925802, 0.24074451187422571, 0.5562452782986852, -0.5824077840268167, 0.17050183300365282, 0.42085884285977426, -0.8692661641636048, -0.9723993347465054, 0.5395347413629555, -1.144824452521687, -1.5581534101688002, -1.6729339246680435, -2.2056076136021434, 1.103355797338571, 0.7678907038054802, -0.5151607726764834, -0.6475275993757056, -1.0082785648677384, 1.5260113519881962, -0.0076054176697331385, -0.8379869596906585, -0.8532996052463981, 0.520857662239727, -1.1507840593174075, 0.13138500423423757, 1.766428276090597, 0.6509203417858905, 1.290169264557484, 0.461245786964094, 0.381986938073141, 0.7753138167975542, 0.8672473904523145, 0.18973725833913044, 0.040801741645153794, -1.391900776067866, -0.6712369302438657, -0.04660937009967414, -1.1372146461701285, 0.370270983375189, 0.5796009309658001, -1.4386684202941982, -1.319559175894388, -0.5188624577046717, -1.050562091557685, 1.988326116952474]}, {\"line\": {\"color\": \"rgba(50, 171, 96, 1.0)\", \"dash\": \"solid\", \"shape\": \"linear\", \"width\": 1.3}, \"mode\": \"lines\", \"name\": \"C\", \"text\": \"\", \"type\": \"scatter\", \"x\": [0, 1, 2, 3, 4, 5, 6, 7, 8, 9, 10, 11, 12, 13, 14, 15, 16, 17, 18, 19, 20, 21, 22, 23, 24, 25, 26, 27, 28, 29, 30, 31, 32, 33, 34, 35, 36, 37, 38, 39, 40, 41, 42, 43, 44, 45, 46, 47, 48, 49, 50, 51, 52, 53, 54, 55, 56, 57, 58, 59, 60, 61, 62, 63, 64, 65, 66, 67, 68, 69, 70, 71, 72, 73, 74, 75, 76, 77, 78, 79, 80, 81, 82, 83, 84, 85, 86, 87, 88, 89, 90, 91, 92, 93, 94, 95, 96, 97, 98, 99], \"y\": [0.1426936499011667, 0.6743863824468715, -1.9159042047040724, 0.12701611366523768, 0.5636280465689022, 0.2653262616821967, -0.5830900218537203, 1.6268944121439155, 0.032134459457989054, 0.2837070672739637, -0.908341131234595, -0.2912868176976957, -0.5596115261134985, -0.6698547775985916, -0.06644066405389445, -0.5635975064256188, -0.03413687986916309, -0.19300147898416536, 0.3872050642817624, -2.1165183184615546, -0.6976749316032758, 1.5783006573276834, -1.0984317833839843, 0.1935586317598326, -2.0414514060862277, 0.8273165865437476, -0.5334902768575471, -0.6596195709663755, -0.549215782627158, -0.5465157483350779, -2.2291257904849964, -0.8924230840343537, 0.5864182297589924, -0.8774228368518772, 1.2637792405670139, -1.3408252236678477, -0.6005444176819201, 0.6910209001315113, 0.030946176835107673, 0.8317294046592685, -0.24226793477545702, -1.0751195048330666, 1.6790089121797258, 0.5299931706931623, 0.9065907842791338, -0.9544899579816438, 1.2784401587767251, 0.15403433605819544, 0.611993290038772, -0.7559634279957641, 0.08819990722390152, -1.056055039049362, 2.0027716806468785, -1.9615720122189535, -0.17513402898714328, -0.4798872243484583, -2.4508266457656, -0.33884412615446186, -2.019978178352013, -0.7290974754166974, -1.347793986082597, 2.1398770557429487, 0.16040455572132187, 0.06465038310874904, 0.015294630368586389, -1.0890873934955765, 1.4409058291864612, -1.371518717484521, 1.3071811967033915, 1.3904478393949753, -2.0037227249117553, 0.11510825724336189, -0.29718611398512745, -0.5055331245752551, 0.6448185869979838, 0.1491150879202775, 0.9985330501748927, 1.0014419886266486, 1.865102464507751, 0.2286365636433252, -0.03550451414647598, -2.718717212523047, -0.9240701341744608, -0.2888760375290752, 0.5207417218309627, 1.1687872614974864, 0.2565814315959523, -0.18066310467005145, 0.06308409801663467, -0.7123126172355311, -1.0368383000789096, 0.27498166815858444, -1.140923803902282, -1.525816700957253, 0.21746655202661985, 0.052356171907522044, -0.49939185897760346, 0.13609632242732642, -0.28894964323218236, 0.08729029057194035]}, {\"line\": {\"color\": \"rgba(128, 0, 128, 1.0)\", \"dash\": \"solid\", \"shape\": \"linear\", \"width\": 1.3}, \"mode\": \"lines\", \"name\": \"D\", \"text\": \"\", \"type\": \"scatter\", \"x\": [0, 1, 2, 3, 4, 5, 6, 7, 8, 9, 10, 11, 12, 13, 14, 15, 16, 17, 18, 19, 20, 21, 22, 23, 24, 25, 26, 27, 28, 29, 30, 31, 32, 33, 34, 35, 36, 37, 38, 39, 40, 41, 42, 43, 44, 45, 46, 47, 48, 49, 50, 51, 52, 53, 54, 55, 56, 57, 58, 59, 60, 61, 62, 63, 64, 65, 66, 67, 68, 69, 70, 71, 72, 73, 74, 75, 76, 77, 78, 79, 80, 81, 82, 83, 84, 85, 86, 87, 88, 89, 90, 91, 92, 93, 94, 95, 96, 97, 98, 99], \"y\": [0.6106487369671837, -0.5580959391359147, -0.40383476919477296, 0.11125072387168945, 1.914679797928206, -0.5794917293571655, 0.2802186585460156, -0.48119536467688356, 1.549222235085247, -0.761040886666783, -0.2042886730218136, -0.14071286229645755, -0.08572931138786967, -0.4342450052527491, 0.8159473114893341, 1.5181456675065004, -0.2591638049954156, 1.4637550557367995, -0.8259681604858221, -0.878102167941134, -2.1062948243645536, -0.3254887503171195, -0.07034230093754808, -0.44464327812496063, 1.961675856334788, 0.24629335711581235, 0.09799551611645173, 0.19159035994880308, -1.0156074997556654, 1.2806421125844174, 0.1304788681345427, 0.1206976944051949, -0.48836243352088493, 2.802032607444495, 0.9992093115241782, -0.7896734382539464, 0.42162329356356454, 0.014579143845804126, -0.4652716694577242, 0.3454690258598138, 0.6454479664922625, 0.5927360716174458, -1.1091587246321357, -0.3763966436874311, -0.4723404843015961, 1.6296431854939475, -1.2247809594359418, -0.9550425500787262, 0.2789136570555125, -0.5729846821735802, -0.026253713718288375, 0.725066652097282, 0.6902230007349073, 0.9811932312461932, 1.9688012226230052, -0.13927462217851405, -0.5123803245556551, 0.7056350323843916, -0.5720206839257674, -2.0999560084539954, 0.28156143554830015, 1.0747977797889474, -1.158658136514488, 0.529537528312165, -0.11214529017336296, -0.4160977828350819, -1.0674672412849793, -0.2449859194432744, -0.6128110114858487, 1.9448518050754133, -1.783138151347126, -0.6752860083341697, 0.7022789401239837, -1.835524755070365, -0.313253458096198, -0.45099788556239573, -0.28857769772700764, -0.1892423501615623, -0.24688173949758832, 0.13424524754480605, 0.05797104701583112, 0.09660484893958388, -1.3095879709172507, 0.24754957486710374, 1.9569210065511524, 2.0954909828936454, 2.2068872058371127, -1.8935847994034554, -1.9658707145920777, -1.0564378775196899, 1.4874017864180422, 0.17280821165585758, 0.37644056131981074, 0.2340871273662667, -1.0632261061039, 0.5540872350959097, -1.007909624391688, 0.6562083549945321, -0.08960169518516971, 0.11316995519037891]}],\n",
       "                        {\"legend\": {\"bgcolor\": \"#F5F6F9\", \"font\": {\"color\": \"#4D5663\"}}, \"paper_bgcolor\": \"#F5F6F9\", \"plot_bgcolor\": \"#F5F6F9\", \"template\": {\"data\": {\"bar\": [{\"error_x\": {\"color\": \"#2a3f5f\"}, \"error_y\": {\"color\": \"#2a3f5f\"}, \"marker\": {\"line\": {\"color\": \"#E5ECF6\", \"width\": 0.5}}, \"type\": \"bar\"}], \"barpolar\": [{\"marker\": {\"line\": {\"color\": \"#E5ECF6\", \"width\": 0.5}}, \"type\": \"barpolar\"}], \"carpet\": [{\"aaxis\": {\"endlinecolor\": \"#2a3f5f\", \"gridcolor\": \"white\", \"linecolor\": \"white\", \"minorgridcolor\": \"white\", \"startlinecolor\": \"#2a3f5f\"}, \"baxis\": {\"endlinecolor\": \"#2a3f5f\", \"gridcolor\": \"white\", \"linecolor\": \"white\", \"minorgridcolor\": \"white\", \"startlinecolor\": \"#2a3f5f\"}, \"type\": \"carpet\"}], \"choropleth\": [{\"colorbar\": {\"outlinewidth\": 0, \"ticks\": \"\"}, \"type\": \"choropleth\"}], \"contour\": [{\"colorbar\": {\"outlinewidth\": 0, \"ticks\": \"\"}, \"colorscale\": [[0.0, \"#0d0887\"], [0.1111111111111111, \"#46039f\"], [0.2222222222222222, \"#7201a8\"], [0.3333333333333333, \"#9c179e\"], [0.4444444444444444, \"#bd3786\"], [0.5555555555555556, \"#d8576b\"], [0.6666666666666666, \"#ed7953\"], [0.7777777777777778, \"#fb9f3a\"], [0.8888888888888888, \"#fdca26\"], [1.0, \"#f0f921\"]], \"type\": \"contour\"}], \"contourcarpet\": [{\"colorbar\": {\"outlinewidth\": 0, \"ticks\": \"\"}, \"type\": \"contourcarpet\"}], \"heatmap\": [{\"colorbar\": {\"outlinewidth\": 0, \"ticks\": \"\"}, \"colorscale\": [[0.0, \"#0d0887\"], [0.1111111111111111, \"#46039f\"], [0.2222222222222222, \"#7201a8\"], [0.3333333333333333, \"#9c179e\"], [0.4444444444444444, \"#bd3786\"], [0.5555555555555556, \"#d8576b\"], [0.6666666666666666, \"#ed7953\"], [0.7777777777777778, \"#fb9f3a\"], [0.8888888888888888, \"#fdca26\"], [1.0, \"#f0f921\"]], \"type\": \"heatmap\"}], \"heatmapgl\": [{\"colorbar\": {\"outlinewidth\": 0, \"ticks\": \"\"}, \"colorscale\": [[0.0, \"#0d0887\"], [0.1111111111111111, \"#46039f\"], [0.2222222222222222, \"#7201a8\"], [0.3333333333333333, \"#9c179e\"], [0.4444444444444444, \"#bd3786\"], [0.5555555555555556, \"#d8576b\"], [0.6666666666666666, \"#ed7953\"], [0.7777777777777778, \"#fb9f3a\"], [0.8888888888888888, \"#fdca26\"], [1.0, \"#f0f921\"]], \"type\": \"heatmapgl\"}], \"histogram\": [{\"marker\": {\"colorbar\": {\"outlinewidth\": 0, \"ticks\": \"\"}}, \"type\": \"histogram\"}], \"histogram2d\": [{\"colorbar\": {\"outlinewidth\": 0, \"ticks\": \"\"}, \"colorscale\": [[0.0, \"#0d0887\"], [0.1111111111111111, \"#46039f\"], [0.2222222222222222, \"#7201a8\"], [0.3333333333333333, \"#9c179e\"], [0.4444444444444444, \"#bd3786\"], [0.5555555555555556, \"#d8576b\"], [0.6666666666666666, \"#ed7953\"], [0.7777777777777778, \"#fb9f3a\"], [0.8888888888888888, \"#fdca26\"], [1.0, \"#f0f921\"]], \"type\": \"histogram2d\"}], \"histogram2dcontour\": [{\"colorbar\": {\"outlinewidth\": 0, \"ticks\": \"\"}, \"colorscale\": [[0.0, \"#0d0887\"], [0.1111111111111111, \"#46039f\"], [0.2222222222222222, \"#7201a8\"], [0.3333333333333333, \"#9c179e\"], [0.4444444444444444, \"#bd3786\"], [0.5555555555555556, \"#d8576b\"], [0.6666666666666666, \"#ed7953\"], [0.7777777777777778, \"#fb9f3a\"], [0.8888888888888888, \"#fdca26\"], [1.0, \"#f0f921\"]], \"type\": \"histogram2dcontour\"}], \"mesh3d\": [{\"colorbar\": {\"outlinewidth\": 0, \"ticks\": \"\"}, \"type\": \"mesh3d\"}], \"parcoords\": [{\"line\": {\"colorbar\": {\"outlinewidth\": 0, \"ticks\": \"\"}}, \"type\": \"parcoords\"}], \"pie\": [{\"automargin\": true, \"type\": \"pie\"}], \"scatter\": [{\"marker\": {\"colorbar\": {\"outlinewidth\": 0, \"ticks\": \"\"}}, \"type\": \"scatter\"}], \"scatter3d\": [{\"line\": {\"colorbar\": {\"outlinewidth\": 0, \"ticks\": \"\"}}, \"marker\": {\"colorbar\": {\"outlinewidth\": 0, \"ticks\": \"\"}}, \"type\": \"scatter3d\"}], \"scattercarpet\": [{\"marker\": {\"colorbar\": {\"outlinewidth\": 0, \"ticks\": \"\"}}, \"type\": \"scattercarpet\"}], \"scattergeo\": [{\"marker\": {\"colorbar\": {\"outlinewidth\": 0, \"ticks\": \"\"}}, \"type\": \"scattergeo\"}], \"scattergl\": [{\"marker\": {\"colorbar\": {\"outlinewidth\": 0, \"ticks\": \"\"}}, \"type\": \"scattergl\"}], \"scattermapbox\": [{\"marker\": {\"colorbar\": {\"outlinewidth\": 0, \"ticks\": \"\"}}, \"type\": \"scattermapbox\"}], \"scatterpolar\": [{\"marker\": {\"colorbar\": {\"outlinewidth\": 0, \"ticks\": \"\"}}, \"type\": \"scatterpolar\"}], \"scatterpolargl\": [{\"marker\": {\"colorbar\": {\"outlinewidth\": 0, \"ticks\": \"\"}}, \"type\": \"scatterpolargl\"}], \"scatterternary\": [{\"marker\": {\"colorbar\": {\"outlinewidth\": 0, \"ticks\": \"\"}}, \"type\": \"scatterternary\"}], \"surface\": [{\"colorbar\": {\"outlinewidth\": 0, \"ticks\": \"\"}, \"colorscale\": [[0.0, \"#0d0887\"], [0.1111111111111111, \"#46039f\"], [0.2222222222222222, \"#7201a8\"], [0.3333333333333333, \"#9c179e\"], [0.4444444444444444, \"#bd3786\"], [0.5555555555555556, \"#d8576b\"], [0.6666666666666666, \"#ed7953\"], [0.7777777777777778, \"#fb9f3a\"], [0.8888888888888888, \"#fdca26\"], [1.0, \"#f0f921\"]], \"type\": \"surface\"}], \"table\": [{\"cells\": {\"fill\": {\"color\": \"#EBF0F8\"}, \"line\": {\"color\": \"white\"}}, \"header\": {\"fill\": {\"color\": \"#C8D4E3\"}, \"line\": {\"color\": \"white\"}}, \"type\": \"table\"}]}, \"layout\": {\"annotationdefaults\": {\"arrowcolor\": \"#2a3f5f\", \"arrowhead\": 0, \"arrowwidth\": 1}, \"coloraxis\": {\"colorbar\": {\"outlinewidth\": 0, \"ticks\": \"\"}}, \"colorscale\": {\"diverging\": [[0, \"#8e0152\"], [0.1, \"#c51b7d\"], [0.2, \"#de77ae\"], [0.3, \"#f1b6da\"], [0.4, \"#fde0ef\"], [0.5, \"#f7f7f7\"], [0.6, \"#e6f5d0\"], [0.7, \"#b8e186\"], [0.8, \"#7fbc41\"], [0.9, \"#4d9221\"], [1, \"#276419\"]], \"sequential\": [[0.0, \"#0d0887\"], [0.1111111111111111, \"#46039f\"], [0.2222222222222222, \"#7201a8\"], [0.3333333333333333, \"#9c179e\"], [0.4444444444444444, \"#bd3786\"], [0.5555555555555556, \"#d8576b\"], [0.6666666666666666, \"#ed7953\"], [0.7777777777777778, \"#fb9f3a\"], [0.8888888888888888, \"#fdca26\"], [1.0, \"#f0f921\"]], \"sequentialminus\": [[0.0, \"#0d0887\"], [0.1111111111111111, \"#46039f\"], [0.2222222222222222, \"#7201a8\"], [0.3333333333333333, \"#9c179e\"], [0.4444444444444444, \"#bd3786\"], [0.5555555555555556, \"#d8576b\"], [0.6666666666666666, \"#ed7953\"], [0.7777777777777778, \"#fb9f3a\"], [0.8888888888888888, \"#fdca26\"], [1.0, \"#f0f921\"]]}, \"colorway\": [\"#636efa\", \"#EF553B\", \"#00cc96\", \"#ab63fa\", \"#FFA15A\", \"#19d3f3\", \"#FF6692\", \"#B6E880\", \"#FF97FF\", \"#FECB52\"], \"font\": {\"color\": \"#2a3f5f\"}, \"geo\": {\"bgcolor\": \"white\", \"lakecolor\": \"white\", \"landcolor\": \"#E5ECF6\", \"showlakes\": true, \"showland\": true, \"subunitcolor\": \"white\"}, \"hoverlabel\": {\"align\": \"left\"}, \"hovermode\": \"closest\", \"mapbox\": {\"style\": \"light\"}, \"paper_bgcolor\": \"white\", \"plot_bgcolor\": \"#E5ECF6\", \"polar\": {\"angularaxis\": {\"gridcolor\": \"white\", \"linecolor\": \"white\", \"ticks\": \"\"}, \"bgcolor\": \"#E5ECF6\", \"radialaxis\": {\"gridcolor\": \"white\", \"linecolor\": \"white\", \"ticks\": \"\"}}, \"scene\": {\"xaxis\": {\"backgroundcolor\": \"#E5ECF6\", \"gridcolor\": \"white\", \"gridwidth\": 2, \"linecolor\": \"white\", \"showbackground\": true, \"ticks\": \"\", \"zerolinecolor\": \"white\"}, \"yaxis\": {\"backgroundcolor\": \"#E5ECF6\", \"gridcolor\": \"white\", \"gridwidth\": 2, \"linecolor\": \"white\", \"showbackground\": true, \"ticks\": \"\", \"zerolinecolor\": \"white\"}, \"zaxis\": {\"backgroundcolor\": \"#E5ECF6\", \"gridcolor\": \"white\", \"gridwidth\": 2, \"linecolor\": \"white\", \"showbackground\": true, \"ticks\": \"\", \"zerolinecolor\": \"white\"}}, \"shapedefaults\": {\"line\": {\"color\": \"#2a3f5f\"}}, \"ternary\": {\"aaxis\": {\"gridcolor\": \"white\", \"linecolor\": \"white\", \"ticks\": \"\"}, \"baxis\": {\"gridcolor\": \"white\", \"linecolor\": \"white\", \"ticks\": \"\"}, \"bgcolor\": \"#E5ECF6\", \"caxis\": {\"gridcolor\": \"white\", \"linecolor\": \"white\", \"ticks\": \"\"}}, \"title\": {\"x\": 0.05}, \"xaxis\": {\"automargin\": true, \"gridcolor\": \"white\", \"linecolor\": \"white\", \"ticks\": \"\", \"title\": {\"standoff\": 15}, \"zerolinecolor\": \"white\", \"zerolinewidth\": 2}, \"yaxis\": {\"automargin\": true, \"gridcolor\": \"white\", \"linecolor\": \"white\", \"ticks\": \"\", \"title\": {\"standoff\": 15}, \"zerolinecolor\": \"white\", \"zerolinewidth\": 2}}}, \"title\": {\"font\": {\"color\": \"#4D5663\"}}, \"xaxis\": {\"gridcolor\": \"#E1E5ED\", \"showgrid\": true, \"tickfont\": {\"color\": \"#4D5663\"}, \"title\": {\"font\": {\"color\": \"#4D5663\"}, \"text\": \"\"}, \"zerolinecolor\": \"#E1E5ED\"}, \"yaxis\": {\"gridcolor\": \"#E1E5ED\", \"showgrid\": true, \"tickfont\": {\"color\": \"#4D5663\"}, \"title\": {\"font\": {\"color\": \"#4D5663\"}, \"text\": \"\"}, \"zerolinecolor\": \"#E1E5ED\"}},\n",
       "                        {\"showLink\": true, \"linkText\": \"Export to plot.ly\", \"plotlyServerURL\": \"https://plot.ly\", \"responsive\": true}\n",
       "                    ).then(function(){\n",
       "                            \n",
       "var gd = document.getElementById('d32d554c-1887-4d9a-afa5-933a09a797ca');\n",
       "var x = new MutationObserver(function (mutations, observer) {{\n",
       "        var display = window.getComputedStyle(gd).display;\n",
       "        if (!display || display === 'none') {{\n",
       "            console.log([gd, 'removed!']);\n",
       "            Plotly.purge(gd);\n",
       "            observer.disconnect();\n",
       "        }}\n",
       "}});\n",
       "\n",
       "// Listen for the removal of the full notebook cells\n",
       "var notebookContainer = gd.closest('#notebook-container');\n",
       "if (notebookContainer) {{\n",
       "    x.observe(notebookContainer, {childList: true});\n",
       "}}\n",
       "\n",
       "// Listen for the clearing of the current output cell\n",
       "var outputEl = gd.closest('.output');\n",
       "if (outputEl) {{\n",
       "    x.observe(outputEl, {childList: true});\n",
       "}}\n",
       "\n",
       "                        })\n",
       "                };\n",
       "                });\n",
       "            </script>\n",
       "        </div>"
      ]
     },
     "metadata": {},
     "output_type": "display_data"
    }
   ],
   "source": [
    "# PLOTLY - LINEPLOT\n",
    "# Plot using IPLOT\n",
    " #this will convert plot to a PLOTLY interactive\n",
    "df.iplot()\n",
    "# WHY not showing B?"
   ]
  },
  {
   "cell_type": "code",
   "execution_count": 40,
   "metadata": {
    "scrolled": true
   },
   "outputs": [
    {
     "data": {
      "application/vnd.plotly.v1+json": {
       "config": {
        "linkText": "Export to plot.ly",
        "plotlyServerURL": "https://plot.ly",
        "showLink": true
       },
       "data": [
        {
         "line": {
          "color": "rgba(255, 153, 51, 1.0)",
          "dash": "solid",
          "shape": "linear",
          "width": 1.3
         },
         "mode": "lines",
         "name": "B",
         "text": "",
         "type": "scatter",
         "x": [
          -1.228210303840886,
          0.673718637442548,
          -0.6359991664128826,
          -0.23262448905478936,
          -0.4652684818242084,
          0.09112090769390506,
          1.1202307162460101,
          -0.913002197072858,
          -1.7866033041530176,
          -1.1819664154244243,
          -2.2518992211992668,
          1.6419723454475943,
          -0.5049024421225882,
          -0.8316433290825647,
          -1.9026947938151906,
          0.9529643236956478,
          0.8424279826802521,
          0.6496949082875334,
          -1.2710369557178685,
          0.6744304243539521,
          0.27031806004342473,
          -0.6151995848966308,
          1.286999400136683,
          2.754225637025308,
          -0.8685563696172357,
          -0.37270596578089227,
          0.21656933195695277,
          0.3299593481685292,
          -0.38976956152955244,
          0.7899141331885607,
          -0.15232135255386411,
          -0.3278732576519635,
          -0.1714780618959102,
          0.24585193839195518,
          -0.520103537564345,
          0.9423867963175877,
          0.6998506662177038,
          2.9565000032387485,
          -0.16771290225752722,
          -0.8565644599372393,
          1.9093025443891725,
          -0.6065596660356215,
          1.5561398386580072,
          -1.6604273958353217,
          0.29570532237337854,
          -0.30655930240007645,
          0.5629765465472392,
          -1.1157754639387614,
          -0.22955196345192624,
          -2.0050583424582227,
          0.11713750696332578,
          2.8267139655873303,
          0.46332154157231764,
          0.8913848873219073,
          -0.27625761399056287,
          0.17061072015134288,
          0.01247361244100639,
          -1.1868120197940502,
          -0.1768842533262507,
          0.3980979509622024,
          1.7637268334097294,
          0.9632004046301621,
          -0.174102504451404,
          -1.02063042523494,
          1.678577707560514,
          2.061538374722697,
          -0.01891713764992838,
          -0.34503079589422914,
          -0.8918084865031932,
          -0.7260269927380488,
          0.49049384129362483,
          -1.7200742116968653,
          -0.7129415168181875,
          -0.44188757928112904,
          3.5061225729394834,
          -0.48365529838350285,
          0.09783218038002926,
          1.4577512305513558,
          0.036503672104812285,
          1.6157315712246738,
          0.34311746110657376,
          0.531373414113734,
          -0.7186086927412191,
          1.956762618943234,
          -0.06307785143259939,
          0.18422454988996845,
          -0.8828271943787102,
          -0.7819307241118907,
          -0.4712984396735526,
          0.8208067834200556,
          -0.9535656763785126,
          0.6172811281139772,
          0.38806297663784844,
          0.21969028658437853,
          0.5142512913421163,
          0.3040997986323465,
          0.28940893588859046,
          0.39912893114064507,
          0.8522015383297381,
          0.766249213069548
         ],
         "y": [
          -0.9410992898133941,
          0.7403709673795416,
          -0.3681996600834796,
          0.0991597200760194,
          -1.6825783826168605,
          -0.6208141494578543,
          -1.2271159557122688,
          -0.8033660807642069,
          0.8468097288813591,
          0.1722880167006293,
          -0.6637349467662795,
          -1.1017957408634886,
          0.78893110183799,
          0.5052234648355544,
          -0.5183463996216997,
          -0.13014575030713596,
          -2.1173663052566436,
          1.0340391919026775,
          0.4758016414816595,
          1.1751249928768135,
          -0.5777840131627777,
          0.35166835742458624,
          0.4250410076349158,
          0.12956422399669026,
          -0.40001911165167875,
          0.49433210165665,
          0.9238971005402511,
          -0.7022088325329872,
          -0.6250617284042304,
          0.823798227192268,
          0.6736158408541878,
          -0.3471483746325953,
          -1.3044961423954966,
          1.2676370274998308,
          -1.3142364799225965,
          2.650935361804906,
          0.9822129709541314,
          1.9357227006820465,
          0.3703095980993604,
          -0.5530894722283664,
          -1.0407802242731543,
          -0.24484815231948331,
          1.7030276075455875,
          0.4806778126836462,
          0.6063504773432427,
          0.19814079912786253,
          -0.28845578570720243,
          0.336187104999158,
          0.8742807414259941,
          -0.7787074869262802,
          0.5468775255294299,
          -0.723845204414693,
          0.008127763819823951,
          0.34186476255512704,
          0.2639769485027573,
          -1.8208409662925802,
          0.24074451187422571,
          0.5562452782986852,
          -0.5824077840268167,
          0.17050183300365282,
          0.42085884285977426,
          -0.8692661641636048,
          -0.9723993347465054,
          0.5395347413629555,
          -1.144824452521687,
          -1.5581534101688002,
          -1.6729339246680435,
          -2.2056076136021434,
          1.103355797338571,
          0.7678907038054802,
          -0.5151607726764834,
          -0.6475275993757056,
          -1.0082785648677384,
          1.5260113519881962,
          -0.0076054176697331385,
          -0.8379869596906585,
          -0.8532996052463981,
          0.520857662239727,
          -1.1507840593174075,
          0.13138500423423757,
          1.766428276090597,
          0.6509203417858905,
          1.290169264557484,
          0.461245786964094,
          0.381986938073141,
          0.7753138167975542,
          0.8672473904523145,
          0.18973725833913044,
          0.040801741645153794,
          -1.391900776067866,
          -0.6712369302438657,
          -0.04660937009967414,
          -1.1372146461701285,
          0.370270983375189,
          0.5796009309658001,
          -1.4386684202941982,
          -1.319559175894388,
          -0.5188624577046717,
          -1.050562091557685,
          1.988326116952474
         ]
        }
       ],
       "layout": {
        "legend": {
         "bgcolor": "#F5F6F9",
         "font": {
          "color": "#4D5663"
         }
        },
        "paper_bgcolor": "#F5F6F9",
        "plot_bgcolor": "#F5F6F9",
        "template": {
         "data": {
          "bar": [
           {
            "error_x": {
             "color": "#2a3f5f"
            },
            "error_y": {
             "color": "#2a3f5f"
            },
            "marker": {
             "line": {
              "color": "#E5ECF6",
              "width": 0.5
             }
            },
            "type": "bar"
           }
          ],
          "barpolar": [
           {
            "marker": {
             "line": {
              "color": "#E5ECF6",
              "width": 0.5
             }
            },
            "type": "barpolar"
           }
          ],
          "carpet": [
           {
            "aaxis": {
             "endlinecolor": "#2a3f5f",
             "gridcolor": "white",
             "linecolor": "white",
             "minorgridcolor": "white",
             "startlinecolor": "#2a3f5f"
            },
            "baxis": {
             "endlinecolor": "#2a3f5f",
             "gridcolor": "white",
             "linecolor": "white",
             "minorgridcolor": "white",
             "startlinecolor": "#2a3f5f"
            },
            "type": "carpet"
           }
          ],
          "choropleth": [
           {
            "colorbar": {
             "outlinewidth": 0,
             "ticks": ""
            },
            "type": "choropleth"
           }
          ],
          "contour": [
           {
            "colorbar": {
             "outlinewidth": 0,
             "ticks": ""
            },
            "colorscale": [
             [
              0,
              "#0d0887"
             ],
             [
              0.1111111111111111,
              "#46039f"
             ],
             [
              0.2222222222222222,
              "#7201a8"
             ],
             [
              0.3333333333333333,
              "#9c179e"
             ],
             [
              0.4444444444444444,
              "#bd3786"
             ],
             [
              0.5555555555555556,
              "#d8576b"
             ],
             [
              0.6666666666666666,
              "#ed7953"
             ],
             [
              0.7777777777777778,
              "#fb9f3a"
             ],
             [
              0.8888888888888888,
              "#fdca26"
             ],
             [
              1,
              "#f0f921"
             ]
            ],
            "type": "contour"
           }
          ],
          "contourcarpet": [
           {
            "colorbar": {
             "outlinewidth": 0,
             "ticks": ""
            },
            "type": "contourcarpet"
           }
          ],
          "heatmap": [
           {
            "colorbar": {
             "outlinewidth": 0,
             "ticks": ""
            },
            "colorscale": [
             [
              0,
              "#0d0887"
             ],
             [
              0.1111111111111111,
              "#46039f"
             ],
             [
              0.2222222222222222,
              "#7201a8"
             ],
             [
              0.3333333333333333,
              "#9c179e"
             ],
             [
              0.4444444444444444,
              "#bd3786"
             ],
             [
              0.5555555555555556,
              "#d8576b"
             ],
             [
              0.6666666666666666,
              "#ed7953"
             ],
             [
              0.7777777777777778,
              "#fb9f3a"
             ],
             [
              0.8888888888888888,
              "#fdca26"
             ],
             [
              1,
              "#f0f921"
             ]
            ],
            "type": "heatmap"
           }
          ],
          "heatmapgl": [
           {
            "colorbar": {
             "outlinewidth": 0,
             "ticks": ""
            },
            "colorscale": [
             [
              0,
              "#0d0887"
             ],
             [
              0.1111111111111111,
              "#46039f"
             ],
             [
              0.2222222222222222,
              "#7201a8"
             ],
             [
              0.3333333333333333,
              "#9c179e"
             ],
             [
              0.4444444444444444,
              "#bd3786"
             ],
             [
              0.5555555555555556,
              "#d8576b"
             ],
             [
              0.6666666666666666,
              "#ed7953"
             ],
             [
              0.7777777777777778,
              "#fb9f3a"
             ],
             [
              0.8888888888888888,
              "#fdca26"
             ],
             [
              1,
              "#f0f921"
             ]
            ],
            "type": "heatmapgl"
           }
          ],
          "histogram": [
           {
            "marker": {
             "colorbar": {
              "outlinewidth": 0,
              "ticks": ""
             }
            },
            "type": "histogram"
           }
          ],
          "histogram2d": [
           {
            "colorbar": {
             "outlinewidth": 0,
             "ticks": ""
            },
            "colorscale": [
             [
              0,
              "#0d0887"
             ],
             [
              0.1111111111111111,
              "#46039f"
             ],
             [
              0.2222222222222222,
              "#7201a8"
             ],
             [
              0.3333333333333333,
              "#9c179e"
             ],
             [
              0.4444444444444444,
              "#bd3786"
             ],
             [
              0.5555555555555556,
              "#d8576b"
             ],
             [
              0.6666666666666666,
              "#ed7953"
             ],
             [
              0.7777777777777778,
              "#fb9f3a"
             ],
             [
              0.8888888888888888,
              "#fdca26"
             ],
             [
              1,
              "#f0f921"
             ]
            ],
            "type": "histogram2d"
           }
          ],
          "histogram2dcontour": [
           {
            "colorbar": {
             "outlinewidth": 0,
             "ticks": ""
            },
            "colorscale": [
             [
              0,
              "#0d0887"
             ],
             [
              0.1111111111111111,
              "#46039f"
             ],
             [
              0.2222222222222222,
              "#7201a8"
             ],
             [
              0.3333333333333333,
              "#9c179e"
             ],
             [
              0.4444444444444444,
              "#bd3786"
             ],
             [
              0.5555555555555556,
              "#d8576b"
             ],
             [
              0.6666666666666666,
              "#ed7953"
             ],
             [
              0.7777777777777778,
              "#fb9f3a"
             ],
             [
              0.8888888888888888,
              "#fdca26"
             ],
             [
              1,
              "#f0f921"
             ]
            ],
            "type": "histogram2dcontour"
           }
          ],
          "mesh3d": [
           {
            "colorbar": {
             "outlinewidth": 0,
             "ticks": ""
            },
            "type": "mesh3d"
           }
          ],
          "parcoords": [
           {
            "line": {
             "colorbar": {
              "outlinewidth": 0,
              "ticks": ""
             }
            },
            "type": "parcoords"
           }
          ],
          "pie": [
           {
            "automargin": true,
            "type": "pie"
           }
          ],
          "scatter": [
           {
            "marker": {
             "colorbar": {
              "outlinewidth": 0,
              "ticks": ""
             }
            },
            "type": "scatter"
           }
          ],
          "scatter3d": [
           {
            "line": {
             "colorbar": {
              "outlinewidth": 0,
              "ticks": ""
             }
            },
            "marker": {
             "colorbar": {
              "outlinewidth": 0,
              "ticks": ""
             }
            },
            "type": "scatter3d"
           }
          ],
          "scattercarpet": [
           {
            "marker": {
             "colorbar": {
              "outlinewidth": 0,
              "ticks": ""
             }
            },
            "type": "scattercarpet"
           }
          ],
          "scattergeo": [
           {
            "marker": {
             "colorbar": {
              "outlinewidth": 0,
              "ticks": ""
             }
            },
            "type": "scattergeo"
           }
          ],
          "scattergl": [
           {
            "marker": {
             "colorbar": {
              "outlinewidth": 0,
              "ticks": ""
             }
            },
            "type": "scattergl"
           }
          ],
          "scattermapbox": [
           {
            "marker": {
             "colorbar": {
              "outlinewidth": 0,
              "ticks": ""
             }
            },
            "type": "scattermapbox"
           }
          ],
          "scatterpolar": [
           {
            "marker": {
             "colorbar": {
              "outlinewidth": 0,
              "ticks": ""
             }
            },
            "type": "scatterpolar"
           }
          ],
          "scatterpolargl": [
           {
            "marker": {
             "colorbar": {
              "outlinewidth": 0,
              "ticks": ""
             }
            },
            "type": "scatterpolargl"
           }
          ],
          "scatterternary": [
           {
            "marker": {
             "colorbar": {
              "outlinewidth": 0,
              "ticks": ""
             }
            },
            "type": "scatterternary"
           }
          ],
          "surface": [
           {
            "colorbar": {
             "outlinewidth": 0,
             "ticks": ""
            },
            "colorscale": [
             [
              0,
              "#0d0887"
             ],
             [
              0.1111111111111111,
              "#46039f"
             ],
             [
              0.2222222222222222,
              "#7201a8"
             ],
             [
              0.3333333333333333,
              "#9c179e"
             ],
             [
              0.4444444444444444,
              "#bd3786"
             ],
             [
              0.5555555555555556,
              "#d8576b"
             ],
             [
              0.6666666666666666,
              "#ed7953"
             ],
             [
              0.7777777777777778,
              "#fb9f3a"
             ],
             [
              0.8888888888888888,
              "#fdca26"
             ],
             [
              1,
              "#f0f921"
             ]
            ],
            "type": "surface"
           }
          ],
          "table": [
           {
            "cells": {
             "fill": {
              "color": "#EBF0F8"
             },
             "line": {
              "color": "white"
             }
            },
            "header": {
             "fill": {
              "color": "#C8D4E3"
             },
             "line": {
              "color": "white"
             }
            },
            "type": "table"
           }
          ]
         },
         "layout": {
          "annotationdefaults": {
           "arrowcolor": "#2a3f5f",
           "arrowhead": 0,
           "arrowwidth": 1
          },
          "coloraxis": {
           "colorbar": {
            "outlinewidth": 0,
            "ticks": ""
           }
          },
          "colorscale": {
           "diverging": [
            [
             0,
             "#8e0152"
            ],
            [
             0.1,
             "#c51b7d"
            ],
            [
             0.2,
             "#de77ae"
            ],
            [
             0.3,
             "#f1b6da"
            ],
            [
             0.4,
             "#fde0ef"
            ],
            [
             0.5,
             "#f7f7f7"
            ],
            [
             0.6,
             "#e6f5d0"
            ],
            [
             0.7,
             "#b8e186"
            ],
            [
             0.8,
             "#7fbc41"
            ],
            [
             0.9,
             "#4d9221"
            ],
            [
             1,
             "#276419"
            ]
           ],
           "sequential": [
            [
             0,
             "#0d0887"
            ],
            [
             0.1111111111111111,
             "#46039f"
            ],
            [
             0.2222222222222222,
             "#7201a8"
            ],
            [
             0.3333333333333333,
             "#9c179e"
            ],
            [
             0.4444444444444444,
             "#bd3786"
            ],
            [
             0.5555555555555556,
             "#d8576b"
            ],
            [
             0.6666666666666666,
             "#ed7953"
            ],
            [
             0.7777777777777778,
             "#fb9f3a"
            ],
            [
             0.8888888888888888,
             "#fdca26"
            ],
            [
             1,
             "#f0f921"
            ]
           ],
           "sequentialminus": [
            [
             0,
             "#0d0887"
            ],
            [
             0.1111111111111111,
             "#46039f"
            ],
            [
             0.2222222222222222,
             "#7201a8"
            ],
            [
             0.3333333333333333,
             "#9c179e"
            ],
            [
             0.4444444444444444,
             "#bd3786"
            ],
            [
             0.5555555555555556,
             "#d8576b"
            ],
            [
             0.6666666666666666,
             "#ed7953"
            ],
            [
             0.7777777777777778,
             "#fb9f3a"
            ],
            [
             0.8888888888888888,
             "#fdca26"
            ],
            [
             1,
             "#f0f921"
            ]
           ]
          },
          "colorway": [
           "#636efa",
           "#EF553B",
           "#00cc96",
           "#ab63fa",
           "#FFA15A",
           "#19d3f3",
           "#FF6692",
           "#B6E880",
           "#FF97FF",
           "#FECB52"
          ],
          "font": {
           "color": "#2a3f5f"
          },
          "geo": {
           "bgcolor": "white",
           "lakecolor": "white",
           "landcolor": "#E5ECF6",
           "showlakes": true,
           "showland": true,
           "subunitcolor": "white"
          },
          "hoverlabel": {
           "align": "left"
          },
          "hovermode": "closest",
          "mapbox": {
           "style": "light"
          },
          "paper_bgcolor": "white",
          "plot_bgcolor": "#E5ECF6",
          "polar": {
           "angularaxis": {
            "gridcolor": "white",
            "linecolor": "white",
            "ticks": ""
           },
           "bgcolor": "#E5ECF6",
           "radialaxis": {
            "gridcolor": "white",
            "linecolor": "white",
            "ticks": ""
           }
          },
          "scene": {
           "xaxis": {
            "backgroundcolor": "#E5ECF6",
            "gridcolor": "white",
            "gridwidth": 2,
            "linecolor": "white",
            "showbackground": true,
            "ticks": "",
            "zerolinecolor": "white"
           },
           "yaxis": {
            "backgroundcolor": "#E5ECF6",
            "gridcolor": "white",
            "gridwidth": 2,
            "linecolor": "white",
            "showbackground": true,
            "ticks": "",
            "zerolinecolor": "white"
           },
           "zaxis": {
            "backgroundcolor": "#E5ECF6",
            "gridcolor": "white",
            "gridwidth": 2,
            "linecolor": "white",
            "showbackground": true,
            "ticks": "",
            "zerolinecolor": "white"
           }
          },
          "shapedefaults": {
           "line": {
            "color": "#2a3f5f"
           }
          },
          "ternary": {
           "aaxis": {
            "gridcolor": "white",
            "linecolor": "white",
            "ticks": ""
           },
           "baxis": {
            "gridcolor": "white",
            "linecolor": "white",
            "ticks": ""
           },
           "bgcolor": "#E5ECF6",
           "caxis": {
            "gridcolor": "white",
            "linecolor": "white",
            "ticks": ""
           }
          },
          "title": {
           "x": 0.05
          },
          "xaxis": {
           "automargin": true,
           "gridcolor": "white",
           "linecolor": "white",
           "ticks": "",
           "title": {
            "standoff": 15
           },
           "zerolinecolor": "white",
           "zerolinewidth": 2
          },
          "yaxis": {
           "automargin": true,
           "gridcolor": "white",
           "linecolor": "white",
           "ticks": "",
           "title": {
            "standoff": 15
           },
           "zerolinecolor": "white",
           "zerolinewidth": 2
          }
         }
        },
        "title": {
         "font": {
          "color": "#4D5663"
         }
        },
        "xaxis": {
         "gridcolor": "#E1E5ED",
         "showgrid": true,
         "tickfont": {
          "color": "#4D5663"
         },
         "title": {
          "font": {
           "color": "#4D5663"
          },
          "text": ""
         },
         "zerolinecolor": "#E1E5ED"
        },
        "yaxis": {
         "gridcolor": "#E1E5ED",
         "showgrid": true,
         "tickfont": {
          "color": "#4D5663"
         },
         "title": {
          "font": {
           "color": "#4D5663"
          },
          "text": ""
         },
         "zerolinecolor": "#E1E5ED"
        }
       }
      },
      "text/html": [
       "<div>\n",
       "        \n",
       "        \n",
       "            <div id=\"74a772db-3421-4808-9a19-180ef6ded9aa\" class=\"plotly-graph-div\" style=\"height:525px; width:100%;\"></div>\n",
       "            <script type=\"text/javascript\">\n",
       "                require([\"plotly\"], function(Plotly) {\n",
       "                    window.PLOTLYENV=window.PLOTLYENV || {};\n",
       "                    window.PLOTLYENV.BASE_URL='https://plot.ly';\n",
       "                    \n",
       "                if (document.getElementById(\"74a772db-3421-4808-9a19-180ef6ded9aa\")) {\n",
       "                    Plotly.newPlot(\n",
       "                        '74a772db-3421-4808-9a19-180ef6ded9aa',\n",
       "                        [{\"line\": {\"color\": \"rgba(255, 153, 51, 1.0)\", \"dash\": \"solid\", \"shape\": \"linear\", \"width\": 1.3}, \"mode\": \"lines\", \"name\": \"B\", \"text\": \"\", \"type\": \"scatter\", \"x\": [-1.228210303840886, 0.673718637442548, -0.6359991664128826, -0.23262448905478936, -0.4652684818242084, 0.09112090769390506, 1.1202307162460101, -0.913002197072858, -1.7866033041530176, -1.1819664154244243, -2.2518992211992668, 1.6419723454475943, -0.5049024421225882, -0.8316433290825647, -1.9026947938151906, 0.9529643236956478, 0.8424279826802521, 0.6496949082875334, -1.2710369557178685, 0.6744304243539521, 0.27031806004342473, -0.6151995848966308, 1.286999400136683, 2.754225637025308, -0.8685563696172357, -0.37270596578089227, 0.21656933195695277, 0.3299593481685292, -0.38976956152955244, 0.7899141331885607, -0.15232135255386411, -0.3278732576519635, -0.1714780618959102, 0.24585193839195518, -0.520103537564345, 0.9423867963175877, 0.6998506662177038, 2.9565000032387485, -0.16771290225752722, -0.8565644599372393, 1.9093025443891725, -0.6065596660356215, 1.5561398386580072, -1.6604273958353217, 0.29570532237337854, -0.30655930240007645, 0.5629765465472392, -1.1157754639387614, -0.22955196345192624, -2.0050583424582227, 0.11713750696332578, 2.8267139655873303, 0.46332154157231764, 0.8913848873219073, -0.27625761399056287, 0.17061072015134288, 0.01247361244100639, -1.1868120197940502, -0.1768842533262507, 0.3980979509622024, 1.7637268334097294, 0.9632004046301621, -0.174102504451404, -1.02063042523494, 1.678577707560514, 2.061538374722697, -0.01891713764992838, -0.34503079589422914, -0.8918084865031932, -0.7260269927380488, 0.49049384129362483, -1.7200742116968653, -0.7129415168181875, -0.44188757928112904, 3.5061225729394834, -0.48365529838350285, 0.09783218038002926, 1.4577512305513558, 0.036503672104812285, 1.6157315712246738, 0.34311746110657376, 0.531373414113734, -0.7186086927412191, 1.956762618943234, -0.06307785143259939, 0.18422454988996845, -0.8828271943787102, -0.7819307241118907, -0.4712984396735526, 0.8208067834200556, -0.9535656763785126, 0.6172811281139772, 0.38806297663784844, 0.21969028658437853, 0.5142512913421163, 0.3040997986323465, 0.28940893588859046, 0.39912893114064507, 0.8522015383297381, 0.766249213069548], \"y\": [-0.9410992898133941, 0.7403709673795416, -0.3681996600834796, 0.0991597200760194, -1.6825783826168605, -0.6208141494578543, -1.2271159557122688, -0.8033660807642069, 0.8468097288813591, 0.1722880167006293, -0.6637349467662795, -1.1017957408634886, 0.78893110183799, 0.5052234648355544, -0.5183463996216997, -0.13014575030713596, -2.1173663052566436, 1.0340391919026775, 0.4758016414816595, 1.1751249928768135, -0.5777840131627777, 0.35166835742458624, 0.4250410076349158, 0.12956422399669026, -0.40001911165167875, 0.49433210165665, 0.9238971005402511, -0.7022088325329872, -0.6250617284042304, 0.823798227192268, 0.6736158408541878, -0.3471483746325953, -1.3044961423954966, 1.2676370274998308, -1.3142364799225965, 2.650935361804906, 0.9822129709541314, 1.9357227006820465, 0.3703095980993604, -0.5530894722283664, -1.0407802242731543, -0.24484815231948331, 1.7030276075455875, 0.4806778126836462, 0.6063504773432427, 0.19814079912786253, -0.28845578570720243, 0.336187104999158, 0.8742807414259941, -0.7787074869262802, 0.5468775255294299, -0.723845204414693, 0.008127763819823951, 0.34186476255512704, 0.2639769485027573, -1.8208409662925802, 0.24074451187422571, 0.5562452782986852, -0.5824077840268167, 0.17050183300365282, 0.42085884285977426, -0.8692661641636048, -0.9723993347465054, 0.5395347413629555, -1.144824452521687, -1.5581534101688002, -1.6729339246680435, -2.2056076136021434, 1.103355797338571, 0.7678907038054802, -0.5151607726764834, -0.6475275993757056, -1.0082785648677384, 1.5260113519881962, -0.0076054176697331385, -0.8379869596906585, -0.8532996052463981, 0.520857662239727, -1.1507840593174075, 0.13138500423423757, 1.766428276090597, 0.6509203417858905, 1.290169264557484, 0.461245786964094, 0.381986938073141, 0.7753138167975542, 0.8672473904523145, 0.18973725833913044, 0.040801741645153794, -1.391900776067866, -0.6712369302438657, -0.04660937009967414, -1.1372146461701285, 0.370270983375189, 0.5796009309658001, -1.4386684202941982, -1.319559175894388, -0.5188624577046717, -1.050562091557685, 1.988326116952474]}],\n",
       "                        {\"legend\": {\"bgcolor\": \"#F5F6F9\", \"font\": {\"color\": \"#4D5663\"}}, \"paper_bgcolor\": \"#F5F6F9\", \"plot_bgcolor\": \"#F5F6F9\", \"template\": {\"data\": {\"bar\": [{\"error_x\": {\"color\": \"#2a3f5f\"}, \"error_y\": {\"color\": \"#2a3f5f\"}, \"marker\": {\"line\": {\"color\": \"#E5ECF6\", \"width\": 0.5}}, \"type\": \"bar\"}], \"barpolar\": [{\"marker\": {\"line\": {\"color\": \"#E5ECF6\", \"width\": 0.5}}, \"type\": \"barpolar\"}], \"carpet\": [{\"aaxis\": {\"endlinecolor\": \"#2a3f5f\", \"gridcolor\": \"white\", \"linecolor\": \"white\", \"minorgridcolor\": \"white\", \"startlinecolor\": \"#2a3f5f\"}, \"baxis\": {\"endlinecolor\": \"#2a3f5f\", \"gridcolor\": \"white\", \"linecolor\": \"white\", \"minorgridcolor\": \"white\", \"startlinecolor\": \"#2a3f5f\"}, \"type\": \"carpet\"}], \"choropleth\": [{\"colorbar\": {\"outlinewidth\": 0, \"ticks\": \"\"}, \"type\": \"choropleth\"}], \"contour\": [{\"colorbar\": {\"outlinewidth\": 0, \"ticks\": \"\"}, \"colorscale\": [[0.0, \"#0d0887\"], [0.1111111111111111, \"#46039f\"], [0.2222222222222222, \"#7201a8\"], [0.3333333333333333, \"#9c179e\"], [0.4444444444444444, \"#bd3786\"], [0.5555555555555556, \"#d8576b\"], [0.6666666666666666, \"#ed7953\"], [0.7777777777777778, \"#fb9f3a\"], [0.8888888888888888, \"#fdca26\"], [1.0, \"#f0f921\"]], \"type\": \"contour\"}], \"contourcarpet\": [{\"colorbar\": {\"outlinewidth\": 0, \"ticks\": \"\"}, \"type\": \"contourcarpet\"}], \"heatmap\": [{\"colorbar\": {\"outlinewidth\": 0, \"ticks\": \"\"}, \"colorscale\": [[0.0, \"#0d0887\"], [0.1111111111111111, \"#46039f\"], [0.2222222222222222, \"#7201a8\"], [0.3333333333333333, \"#9c179e\"], [0.4444444444444444, \"#bd3786\"], [0.5555555555555556, \"#d8576b\"], [0.6666666666666666, \"#ed7953\"], [0.7777777777777778, \"#fb9f3a\"], [0.8888888888888888, \"#fdca26\"], [1.0, \"#f0f921\"]], \"type\": \"heatmap\"}], \"heatmapgl\": [{\"colorbar\": {\"outlinewidth\": 0, \"ticks\": \"\"}, \"colorscale\": [[0.0, \"#0d0887\"], [0.1111111111111111, \"#46039f\"], [0.2222222222222222, \"#7201a8\"], [0.3333333333333333, \"#9c179e\"], [0.4444444444444444, \"#bd3786\"], [0.5555555555555556, \"#d8576b\"], [0.6666666666666666, \"#ed7953\"], [0.7777777777777778, \"#fb9f3a\"], [0.8888888888888888, \"#fdca26\"], [1.0, \"#f0f921\"]], \"type\": \"heatmapgl\"}], \"histogram\": [{\"marker\": {\"colorbar\": {\"outlinewidth\": 0, \"ticks\": \"\"}}, \"type\": \"histogram\"}], \"histogram2d\": [{\"colorbar\": {\"outlinewidth\": 0, \"ticks\": \"\"}, \"colorscale\": [[0.0, \"#0d0887\"], [0.1111111111111111, \"#46039f\"], [0.2222222222222222, \"#7201a8\"], [0.3333333333333333, \"#9c179e\"], [0.4444444444444444, \"#bd3786\"], [0.5555555555555556, \"#d8576b\"], [0.6666666666666666, \"#ed7953\"], [0.7777777777777778, \"#fb9f3a\"], [0.8888888888888888, \"#fdca26\"], [1.0, \"#f0f921\"]], \"type\": \"histogram2d\"}], \"histogram2dcontour\": [{\"colorbar\": {\"outlinewidth\": 0, \"ticks\": \"\"}, \"colorscale\": [[0.0, \"#0d0887\"], [0.1111111111111111, \"#46039f\"], [0.2222222222222222, \"#7201a8\"], [0.3333333333333333, \"#9c179e\"], [0.4444444444444444, \"#bd3786\"], [0.5555555555555556, \"#d8576b\"], [0.6666666666666666, \"#ed7953\"], [0.7777777777777778, \"#fb9f3a\"], [0.8888888888888888, \"#fdca26\"], [1.0, \"#f0f921\"]], \"type\": \"histogram2dcontour\"}], \"mesh3d\": [{\"colorbar\": {\"outlinewidth\": 0, \"ticks\": \"\"}, \"type\": \"mesh3d\"}], \"parcoords\": [{\"line\": {\"colorbar\": {\"outlinewidth\": 0, \"ticks\": \"\"}}, \"type\": \"parcoords\"}], \"pie\": [{\"automargin\": true, \"type\": \"pie\"}], \"scatter\": [{\"marker\": {\"colorbar\": {\"outlinewidth\": 0, \"ticks\": \"\"}}, \"type\": \"scatter\"}], \"scatter3d\": [{\"line\": {\"colorbar\": {\"outlinewidth\": 0, \"ticks\": \"\"}}, \"marker\": {\"colorbar\": {\"outlinewidth\": 0, \"ticks\": \"\"}}, \"type\": \"scatter3d\"}], \"scattercarpet\": [{\"marker\": {\"colorbar\": {\"outlinewidth\": 0, \"ticks\": \"\"}}, \"type\": \"scattercarpet\"}], \"scattergeo\": [{\"marker\": {\"colorbar\": {\"outlinewidth\": 0, \"ticks\": \"\"}}, \"type\": \"scattergeo\"}], \"scattergl\": [{\"marker\": {\"colorbar\": {\"outlinewidth\": 0, \"ticks\": \"\"}}, \"type\": \"scattergl\"}], \"scattermapbox\": [{\"marker\": {\"colorbar\": {\"outlinewidth\": 0, \"ticks\": \"\"}}, \"type\": \"scattermapbox\"}], \"scatterpolar\": [{\"marker\": {\"colorbar\": {\"outlinewidth\": 0, \"ticks\": \"\"}}, \"type\": \"scatterpolar\"}], \"scatterpolargl\": [{\"marker\": {\"colorbar\": {\"outlinewidth\": 0, \"ticks\": \"\"}}, \"type\": \"scatterpolargl\"}], \"scatterternary\": [{\"marker\": {\"colorbar\": {\"outlinewidth\": 0, \"ticks\": \"\"}}, \"type\": \"scatterternary\"}], \"surface\": [{\"colorbar\": {\"outlinewidth\": 0, \"ticks\": \"\"}, \"colorscale\": [[0.0, \"#0d0887\"], [0.1111111111111111, \"#46039f\"], [0.2222222222222222, \"#7201a8\"], [0.3333333333333333, \"#9c179e\"], [0.4444444444444444, \"#bd3786\"], [0.5555555555555556, \"#d8576b\"], [0.6666666666666666, \"#ed7953\"], [0.7777777777777778, \"#fb9f3a\"], [0.8888888888888888, \"#fdca26\"], [1.0, \"#f0f921\"]], \"type\": \"surface\"}], \"table\": [{\"cells\": {\"fill\": {\"color\": \"#EBF0F8\"}, \"line\": {\"color\": \"white\"}}, \"header\": {\"fill\": {\"color\": \"#C8D4E3\"}, \"line\": {\"color\": \"white\"}}, \"type\": \"table\"}]}, \"layout\": {\"annotationdefaults\": {\"arrowcolor\": \"#2a3f5f\", \"arrowhead\": 0, \"arrowwidth\": 1}, \"coloraxis\": {\"colorbar\": {\"outlinewidth\": 0, \"ticks\": \"\"}}, \"colorscale\": {\"diverging\": [[0, \"#8e0152\"], [0.1, \"#c51b7d\"], [0.2, \"#de77ae\"], [0.3, \"#f1b6da\"], [0.4, \"#fde0ef\"], [0.5, \"#f7f7f7\"], [0.6, \"#e6f5d0\"], [0.7, \"#b8e186\"], [0.8, \"#7fbc41\"], [0.9, \"#4d9221\"], [1, \"#276419\"]], \"sequential\": [[0.0, \"#0d0887\"], [0.1111111111111111, \"#46039f\"], [0.2222222222222222, \"#7201a8\"], [0.3333333333333333, \"#9c179e\"], [0.4444444444444444, \"#bd3786\"], [0.5555555555555556, \"#d8576b\"], [0.6666666666666666, \"#ed7953\"], [0.7777777777777778, \"#fb9f3a\"], [0.8888888888888888, \"#fdca26\"], [1.0, \"#f0f921\"]], \"sequentialminus\": [[0.0, \"#0d0887\"], [0.1111111111111111, \"#46039f\"], [0.2222222222222222, \"#7201a8\"], [0.3333333333333333, \"#9c179e\"], [0.4444444444444444, \"#bd3786\"], [0.5555555555555556, \"#d8576b\"], [0.6666666666666666, \"#ed7953\"], [0.7777777777777778, \"#fb9f3a\"], [0.8888888888888888, \"#fdca26\"], [1.0, \"#f0f921\"]]}, \"colorway\": [\"#636efa\", \"#EF553B\", \"#00cc96\", \"#ab63fa\", \"#FFA15A\", \"#19d3f3\", \"#FF6692\", \"#B6E880\", \"#FF97FF\", \"#FECB52\"], \"font\": {\"color\": \"#2a3f5f\"}, \"geo\": {\"bgcolor\": \"white\", \"lakecolor\": \"white\", \"landcolor\": \"#E5ECF6\", \"showlakes\": true, \"showland\": true, \"subunitcolor\": \"white\"}, \"hoverlabel\": {\"align\": \"left\"}, \"hovermode\": \"closest\", \"mapbox\": {\"style\": \"light\"}, \"paper_bgcolor\": \"white\", \"plot_bgcolor\": \"#E5ECF6\", \"polar\": {\"angularaxis\": {\"gridcolor\": \"white\", \"linecolor\": \"white\", \"ticks\": \"\"}, \"bgcolor\": \"#E5ECF6\", \"radialaxis\": {\"gridcolor\": \"white\", \"linecolor\": \"white\", \"ticks\": \"\"}}, \"scene\": {\"xaxis\": {\"backgroundcolor\": \"#E5ECF6\", \"gridcolor\": \"white\", \"gridwidth\": 2, \"linecolor\": \"white\", \"showbackground\": true, \"ticks\": \"\", \"zerolinecolor\": \"white\"}, \"yaxis\": {\"backgroundcolor\": \"#E5ECF6\", \"gridcolor\": \"white\", \"gridwidth\": 2, \"linecolor\": \"white\", \"showbackground\": true, \"ticks\": \"\", \"zerolinecolor\": \"white\"}, \"zaxis\": {\"backgroundcolor\": \"#E5ECF6\", \"gridcolor\": \"white\", \"gridwidth\": 2, \"linecolor\": \"white\", \"showbackground\": true, \"ticks\": \"\", \"zerolinecolor\": \"white\"}}, \"shapedefaults\": {\"line\": {\"color\": \"#2a3f5f\"}}, \"ternary\": {\"aaxis\": {\"gridcolor\": \"white\", \"linecolor\": \"white\", \"ticks\": \"\"}, \"baxis\": {\"gridcolor\": \"white\", \"linecolor\": \"white\", \"ticks\": \"\"}, \"bgcolor\": \"#E5ECF6\", \"caxis\": {\"gridcolor\": \"white\", \"linecolor\": \"white\", \"ticks\": \"\"}}, \"title\": {\"x\": 0.05}, \"xaxis\": {\"automargin\": true, \"gridcolor\": \"white\", \"linecolor\": \"white\", \"ticks\": \"\", \"title\": {\"standoff\": 15}, \"zerolinecolor\": \"white\", \"zerolinewidth\": 2}, \"yaxis\": {\"automargin\": true, \"gridcolor\": \"white\", \"linecolor\": \"white\", \"ticks\": \"\", \"title\": {\"standoff\": 15}, \"zerolinecolor\": \"white\", \"zerolinewidth\": 2}}}, \"title\": {\"font\": {\"color\": \"#4D5663\"}}, \"xaxis\": {\"gridcolor\": \"#E1E5ED\", \"showgrid\": true, \"tickfont\": {\"color\": \"#4D5663\"}, \"title\": {\"font\": {\"color\": \"#4D5663\"}, \"text\": \"\"}, \"zerolinecolor\": \"#E1E5ED\"}, \"yaxis\": {\"gridcolor\": \"#E1E5ED\", \"showgrid\": true, \"tickfont\": {\"color\": \"#4D5663\"}, \"title\": {\"font\": {\"color\": \"#4D5663\"}, \"text\": \"\"}, \"zerolinecolor\": \"#E1E5ED\"}},\n",
       "                        {\"showLink\": true, \"linkText\": \"Export to plot.ly\", \"plotlyServerURL\": \"https://plot.ly\", \"responsive\": true}\n",
       "                    ).then(function(){\n",
       "                            \n",
       "var gd = document.getElementById('74a772db-3421-4808-9a19-180ef6ded9aa');\n",
       "var x = new MutationObserver(function (mutations, observer) {{\n",
       "        var display = window.getComputedStyle(gd).display;\n",
       "        if (!display || display === 'none') {{\n",
       "            console.log([gd, 'removed!']);\n",
       "            Plotly.purge(gd);\n",
       "            observer.disconnect();\n",
       "        }}\n",
       "}});\n",
       "\n",
       "// Listen for the removal of the full notebook cells\n",
       "var notebookContainer = gd.closest('#notebook-container');\n",
       "if (notebookContainer) {{\n",
       "    x.observe(notebookContainer, {childList: true});\n",
       "}}\n",
       "\n",
       "// Listen for the clearing of the current output cell\n",
       "var outputEl = gd.closest('.output');\n",
       "if (outputEl) {{\n",
       "    x.observe(outputEl, {childList: true});\n",
       "}}\n",
       "\n",
       "                        })\n",
       "                };\n",
       "                });\n",
       "            </script>\n",
       "        </div>"
      ]
     },
     "metadata": {},
     "output_type": "display_data"
    }
   ],
   "source": [
    "# PLOTY - SCATTERPLOT\n",
    "# Kind=\n",
    "# X=\n",
    "# Y=\n",
    "# MARKERS - used to not connect the points\n",
    "# Size - to increase size of points\n",
    "df.iplot(kind='scatter',x='A',y='B')\n",
    "# Looks funny we have line connecting all points - \n",
    "     #specify mode='markers'"
   ]
  },
  {
   "cell_type": "code",
   "execution_count": 42,
   "metadata": {},
   "outputs": [
    {
     "data": {
      "application/vnd.plotly.v1+json": {
       "config": {
        "linkText": "Export to plot.ly",
        "plotlyServerURL": "https://plot.ly",
        "showLink": true
       },
       "data": [
        {
         "line": {
          "color": "rgba(255, 153, 51, 1.0)",
          "dash": "solid",
          "shape": "linear",
          "width": 1.3
         },
         "marker": {
          "size": 20,
          "symbol": "circle"
         },
         "mode": "markers",
         "name": "B",
         "text": "",
         "type": "scatter",
         "x": [
          -1.228210303840886,
          0.673718637442548,
          -0.6359991664128826,
          -0.23262448905478936,
          -0.4652684818242084,
          0.09112090769390506,
          1.1202307162460101,
          -0.913002197072858,
          -1.7866033041530176,
          -1.1819664154244243,
          -2.2518992211992668,
          1.6419723454475943,
          -0.5049024421225882,
          -0.8316433290825647,
          -1.9026947938151906,
          0.9529643236956478,
          0.8424279826802521,
          0.6496949082875334,
          -1.2710369557178685,
          0.6744304243539521,
          0.27031806004342473,
          -0.6151995848966308,
          1.286999400136683,
          2.754225637025308,
          -0.8685563696172357,
          -0.37270596578089227,
          0.21656933195695277,
          0.3299593481685292,
          -0.38976956152955244,
          0.7899141331885607,
          -0.15232135255386411,
          -0.3278732576519635,
          -0.1714780618959102,
          0.24585193839195518,
          -0.520103537564345,
          0.9423867963175877,
          0.6998506662177038,
          2.9565000032387485,
          -0.16771290225752722,
          -0.8565644599372393,
          1.9093025443891725,
          -0.6065596660356215,
          1.5561398386580072,
          -1.6604273958353217,
          0.29570532237337854,
          -0.30655930240007645,
          0.5629765465472392,
          -1.1157754639387614,
          -0.22955196345192624,
          -2.0050583424582227,
          0.11713750696332578,
          2.8267139655873303,
          0.46332154157231764,
          0.8913848873219073,
          -0.27625761399056287,
          0.17061072015134288,
          0.01247361244100639,
          -1.1868120197940502,
          -0.1768842533262507,
          0.3980979509622024,
          1.7637268334097294,
          0.9632004046301621,
          -0.174102504451404,
          -1.02063042523494,
          1.678577707560514,
          2.061538374722697,
          -0.01891713764992838,
          -0.34503079589422914,
          -0.8918084865031932,
          -0.7260269927380488,
          0.49049384129362483,
          -1.7200742116968653,
          -0.7129415168181875,
          -0.44188757928112904,
          3.5061225729394834,
          -0.48365529838350285,
          0.09783218038002926,
          1.4577512305513558,
          0.036503672104812285,
          1.6157315712246738,
          0.34311746110657376,
          0.531373414113734,
          -0.7186086927412191,
          1.956762618943234,
          -0.06307785143259939,
          0.18422454988996845,
          -0.8828271943787102,
          -0.7819307241118907,
          -0.4712984396735526,
          0.8208067834200556,
          -0.9535656763785126,
          0.6172811281139772,
          0.38806297663784844,
          0.21969028658437853,
          0.5142512913421163,
          0.3040997986323465,
          0.28940893588859046,
          0.39912893114064507,
          0.8522015383297381,
          0.766249213069548
         ],
         "y": [
          -0.9410992898133941,
          0.7403709673795416,
          -0.3681996600834796,
          0.0991597200760194,
          -1.6825783826168605,
          -0.6208141494578543,
          -1.2271159557122688,
          -0.8033660807642069,
          0.8468097288813591,
          0.1722880167006293,
          -0.6637349467662795,
          -1.1017957408634886,
          0.78893110183799,
          0.5052234648355544,
          -0.5183463996216997,
          -0.13014575030713596,
          -2.1173663052566436,
          1.0340391919026775,
          0.4758016414816595,
          1.1751249928768135,
          -0.5777840131627777,
          0.35166835742458624,
          0.4250410076349158,
          0.12956422399669026,
          -0.40001911165167875,
          0.49433210165665,
          0.9238971005402511,
          -0.7022088325329872,
          -0.6250617284042304,
          0.823798227192268,
          0.6736158408541878,
          -0.3471483746325953,
          -1.3044961423954966,
          1.2676370274998308,
          -1.3142364799225965,
          2.650935361804906,
          0.9822129709541314,
          1.9357227006820465,
          0.3703095980993604,
          -0.5530894722283664,
          -1.0407802242731543,
          -0.24484815231948331,
          1.7030276075455875,
          0.4806778126836462,
          0.6063504773432427,
          0.19814079912786253,
          -0.28845578570720243,
          0.336187104999158,
          0.8742807414259941,
          -0.7787074869262802,
          0.5468775255294299,
          -0.723845204414693,
          0.008127763819823951,
          0.34186476255512704,
          0.2639769485027573,
          -1.8208409662925802,
          0.24074451187422571,
          0.5562452782986852,
          -0.5824077840268167,
          0.17050183300365282,
          0.42085884285977426,
          -0.8692661641636048,
          -0.9723993347465054,
          0.5395347413629555,
          -1.144824452521687,
          -1.5581534101688002,
          -1.6729339246680435,
          -2.2056076136021434,
          1.103355797338571,
          0.7678907038054802,
          -0.5151607726764834,
          -0.6475275993757056,
          -1.0082785648677384,
          1.5260113519881962,
          -0.0076054176697331385,
          -0.8379869596906585,
          -0.8532996052463981,
          0.520857662239727,
          -1.1507840593174075,
          0.13138500423423757,
          1.766428276090597,
          0.6509203417858905,
          1.290169264557484,
          0.461245786964094,
          0.381986938073141,
          0.7753138167975542,
          0.8672473904523145,
          0.18973725833913044,
          0.040801741645153794,
          -1.391900776067866,
          -0.6712369302438657,
          -0.04660937009967414,
          -1.1372146461701285,
          0.370270983375189,
          0.5796009309658001,
          -1.4386684202941982,
          -1.319559175894388,
          -0.5188624577046717,
          -1.050562091557685,
          1.988326116952474
         ]
        }
       ],
       "layout": {
        "legend": {
         "bgcolor": "#F5F6F9",
         "font": {
          "color": "#4D5663"
         }
        },
        "paper_bgcolor": "#F5F6F9",
        "plot_bgcolor": "#F5F6F9",
        "template": {
         "data": {
          "bar": [
           {
            "error_x": {
             "color": "#2a3f5f"
            },
            "error_y": {
             "color": "#2a3f5f"
            },
            "marker": {
             "line": {
              "color": "#E5ECF6",
              "width": 0.5
             }
            },
            "type": "bar"
           }
          ],
          "barpolar": [
           {
            "marker": {
             "line": {
              "color": "#E5ECF6",
              "width": 0.5
             }
            },
            "type": "barpolar"
           }
          ],
          "carpet": [
           {
            "aaxis": {
             "endlinecolor": "#2a3f5f",
             "gridcolor": "white",
             "linecolor": "white",
             "minorgridcolor": "white",
             "startlinecolor": "#2a3f5f"
            },
            "baxis": {
             "endlinecolor": "#2a3f5f",
             "gridcolor": "white",
             "linecolor": "white",
             "minorgridcolor": "white",
             "startlinecolor": "#2a3f5f"
            },
            "type": "carpet"
           }
          ],
          "choropleth": [
           {
            "colorbar": {
             "outlinewidth": 0,
             "ticks": ""
            },
            "type": "choropleth"
           }
          ],
          "contour": [
           {
            "colorbar": {
             "outlinewidth": 0,
             "ticks": ""
            },
            "colorscale": [
             [
              0,
              "#0d0887"
             ],
             [
              0.1111111111111111,
              "#46039f"
             ],
             [
              0.2222222222222222,
              "#7201a8"
             ],
             [
              0.3333333333333333,
              "#9c179e"
             ],
             [
              0.4444444444444444,
              "#bd3786"
             ],
             [
              0.5555555555555556,
              "#d8576b"
             ],
             [
              0.6666666666666666,
              "#ed7953"
             ],
             [
              0.7777777777777778,
              "#fb9f3a"
             ],
             [
              0.8888888888888888,
              "#fdca26"
             ],
             [
              1,
              "#f0f921"
             ]
            ],
            "type": "contour"
           }
          ],
          "contourcarpet": [
           {
            "colorbar": {
             "outlinewidth": 0,
             "ticks": ""
            },
            "type": "contourcarpet"
           }
          ],
          "heatmap": [
           {
            "colorbar": {
             "outlinewidth": 0,
             "ticks": ""
            },
            "colorscale": [
             [
              0,
              "#0d0887"
             ],
             [
              0.1111111111111111,
              "#46039f"
             ],
             [
              0.2222222222222222,
              "#7201a8"
             ],
             [
              0.3333333333333333,
              "#9c179e"
             ],
             [
              0.4444444444444444,
              "#bd3786"
             ],
             [
              0.5555555555555556,
              "#d8576b"
             ],
             [
              0.6666666666666666,
              "#ed7953"
             ],
             [
              0.7777777777777778,
              "#fb9f3a"
             ],
             [
              0.8888888888888888,
              "#fdca26"
             ],
             [
              1,
              "#f0f921"
             ]
            ],
            "type": "heatmap"
           }
          ],
          "heatmapgl": [
           {
            "colorbar": {
             "outlinewidth": 0,
             "ticks": ""
            },
            "colorscale": [
             [
              0,
              "#0d0887"
             ],
             [
              0.1111111111111111,
              "#46039f"
             ],
             [
              0.2222222222222222,
              "#7201a8"
             ],
             [
              0.3333333333333333,
              "#9c179e"
             ],
             [
              0.4444444444444444,
              "#bd3786"
             ],
             [
              0.5555555555555556,
              "#d8576b"
             ],
             [
              0.6666666666666666,
              "#ed7953"
             ],
             [
              0.7777777777777778,
              "#fb9f3a"
             ],
             [
              0.8888888888888888,
              "#fdca26"
             ],
             [
              1,
              "#f0f921"
             ]
            ],
            "type": "heatmapgl"
           }
          ],
          "histogram": [
           {
            "marker": {
             "colorbar": {
              "outlinewidth": 0,
              "ticks": ""
             }
            },
            "type": "histogram"
           }
          ],
          "histogram2d": [
           {
            "colorbar": {
             "outlinewidth": 0,
             "ticks": ""
            },
            "colorscale": [
             [
              0,
              "#0d0887"
             ],
             [
              0.1111111111111111,
              "#46039f"
             ],
             [
              0.2222222222222222,
              "#7201a8"
             ],
             [
              0.3333333333333333,
              "#9c179e"
             ],
             [
              0.4444444444444444,
              "#bd3786"
             ],
             [
              0.5555555555555556,
              "#d8576b"
             ],
             [
              0.6666666666666666,
              "#ed7953"
             ],
             [
              0.7777777777777778,
              "#fb9f3a"
             ],
             [
              0.8888888888888888,
              "#fdca26"
             ],
             [
              1,
              "#f0f921"
             ]
            ],
            "type": "histogram2d"
           }
          ],
          "histogram2dcontour": [
           {
            "colorbar": {
             "outlinewidth": 0,
             "ticks": ""
            },
            "colorscale": [
             [
              0,
              "#0d0887"
             ],
             [
              0.1111111111111111,
              "#46039f"
             ],
             [
              0.2222222222222222,
              "#7201a8"
             ],
             [
              0.3333333333333333,
              "#9c179e"
             ],
             [
              0.4444444444444444,
              "#bd3786"
             ],
             [
              0.5555555555555556,
              "#d8576b"
             ],
             [
              0.6666666666666666,
              "#ed7953"
             ],
             [
              0.7777777777777778,
              "#fb9f3a"
             ],
             [
              0.8888888888888888,
              "#fdca26"
             ],
             [
              1,
              "#f0f921"
             ]
            ],
            "type": "histogram2dcontour"
           }
          ],
          "mesh3d": [
           {
            "colorbar": {
             "outlinewidth": 0,
             "ticks": ""
            },
            "type": "mesh3d"
           }
          ],
          "parcoords": [
           {
            "line": {
             "colorbar": {
              "outlinewidth": 0,
              "ticks": ""
             }
            },
            "type": "parcoords"
           }
          ],
          "pie": [
           {
            "automargin": true,
            "type": "pie"
           }
          ],
          "scatter": [
           {
            "marker": {
             "colorbar": {
              "outlinewidth": 0,
              "ticks": ""
             }
            },
            "type": "scatter"
           }
          ],
          "scatter3d": [
           {
            "line": {
             "colorbar": {
              "outlinewidth": 0,
              "ticks": ""
             }
            },
            "marker": {
             "colorbar": {
              "outlinewidth": 0,
              "ticks": ""
             }
            },
            "type": "scatter3d"
           }
          ],
          "scattercarpet": [
           {
            "marker": {
             "colorbar": {
              "outlinewidth": 0,
              "ticks": ""
             }
            },
            "type": "scattercarpet"
           }
          ],
          "scattergeo": [
           {
            "marker": {
             "colorbar": {
              "outlinewidth": 0,
              "ticks": ""
             }
            },
            "type": "scattergeo"
           }
          ],
          "scattergl": [
           {
            "marker": {
             "colorbar": {
              "outlinewidth": 0,
              "ticks": ""
             }
            },
            "type": "scattergl"
           }
          ],
          "scattermapbox": [
           {
            "marker": {
             "colorbar": {
              "outlinewidth": 0,
              "ticks": ""
             }
            },
            "type": "scattermapbox"
           }
          ],
          "scatterpolar": [
           {
            "marker": {
             "colorbar": {
              "outlinewidth": 0,
              "ticks": ""
             }
            },
            "type": "scatterpolar"
           }
          ],
          "scatterpolargl": [
           {
            "marker": {
             "colorbar": {
              "outlinewidth": 0,
              "ticks": ""
             }
            },
            "type": "scatterpolargl"
           }
          ],
          "scatterternary": [
           {
            "marker": {
             "colorbar": {
              "outlinewidth": 0,
              "ticks": ""
             }
            },
            "type": "scatterternary"
           }
          ],
          "surface": [
           {
            "colorbar": {
             "outlinewidth": 0,
             "ticks": ""
            },
            "colorscale": [
             [
              0,
              "#0d0887"
             ],
             [
              0.1111111111111111,
              "#46039f"
             ],
             [
              0.2222222222222222,
              "#7201a8"
             ],
             [
              0.3333333333333333,
              "#9c179e"
             ],
             [
              0.4444444444444444,
              "#bd3786"
             ],
             [
              0.5555555555555556,
              "#d8576b"
             ],
             [
              0.6666666666666666,
              "#ed7953"
             ],
             [
              0.7777777777777778,
              "#fb9f3a"
             ],
             [
              0.8888888888888888,
              "#fdca26"
             ],
             [
              1,
              "#f0f921"
             ]
            ],
            "type": "surface"
           }
          ],
          "table": [
           {
            "cells": {
             "fill": {
              "color": "#EBF0F8"
             },
             "line": {
              "color": "white"
             }
            },
            "header": {
             "fill": {
              "color": "#C8D4E3"
             },
             "line": {
              "color": "white"
             }
            },
            "type": "table"
           }
          ]
         },
         "layout": {
          "annotationdefaults": {
           "arrowcolor": "#2a3f5f",
           "arrowhead": 0,
           "arrowwidth": 1
          },
          "coloraxis": {
           "colorbar": {
            "outlinewidth": 0,
            "ticks": ""
           }
          },
          "colorscale": {
           "diverging": [
            [
             0,
             "#8e0152"
            ],
            [
             0.1,
             "#c51b7d"
            ],
            [
             0.2,
             "#de77ae"
            ],
            [
             0.3,
             "#f1b6da"
            ],
            [
             0.4,
             "#fde0ef"
            ],
            [
             0.5,
             "#f7f7f7"
            ],
            [
             0.6,
             "#e6f5d0"
            ],
            [
             0.7,
             "#b8e186"
            ],
            [
             0.8,
             "#7fbc41"
            ],
            [
             0.9,
             "#4d9221"
            ],
            [
             1,
             "#276419"
            ]
           ],
           "sequential": [
            [
             0,
             "#0d0887"
            ],
            [
             0.1111111111111111,
             "#46039f"
            ],
            [
             0.2222222222222222,
             "#7201a8"
            ],
            [
             0.3333333333333333,
             "#9c179e"
            ],
            [
             0.4444444444444444,
             "#bd3786"
            ],
            [
             0.5555555555555556,
             "#d8576b"
            ],
            [
             0.6666666666666666,
             "#ed7953"
            ],
            [
             0.7777777777777778,
             "#fb9f3a"
            ],
            [
             0.8888888888888888,
             "#fdca26"
            ],
            [
             1,
             "#f0f921"
            ]
           ],
           "sequentialminus": [
            [
             0,
             "#0d0887"
            ],
            [
             0.1111111111111111,
             "#46039f"
            ],
            [
             0.2222222222222222,
             "#7201a8"
            ],
            [
             0.3333333333333333,
             "#9c179e"
            ],
            [
             0.4444444444444444,
             "#bd3786"
            ],
            [
             0.5555555555555556,
             "#d8576b"
            ],
            [
             0.6666666666666666,
             "#ed7953"
            ],
            [
             0.7777777777777778,
             "#fb9f3a"
            ],
            [
             0.8888888888888888,
             "#fdca26"
            ],
            [
             1,
             "#f0f921"
            ]
           ]
          },
          "colorway": [
           "#636efa",
           "#EF553B",
           "#00cc96",
           "#ab63fa",
           "#FFA15A",
           "#19d3f3",
           "#FF6692",
           "#B6E880",
           "#FF97FF",
           "#FECB52"
          ],
          "font": {
           "color": "#2a3f5f"
          },
          "geo": {
           "bgcolor": "white",
           "lakecolor": "white",
           "landcolor": "#E5ECF6",
           "showlakes": true,
           "showland": true,
           "subunitcolor": "white"
          },
          "hoverlabel": {
           "align": "left"
          },
          "hovermode": "closest",
          "mapbox": {
           "style": "light"
          },
          "paper_bgcolor": "white",
          "plot_bgcolor": "#E5ECF6",
          "polar": {
           "angularaxis": {
            "gridcolor": "white",
            "linecolor": "white",
            "ticks": ""
           },
           "bgcolor": "#E5ECF6",
           "radialaxis": {
            "gridcolor": "white",
            "linecolor": "white",
            "ticks": ""
           }
          },
          "scene": {
           "xaxis": {
            "backgroundcolor": "#E5ECF6",
            "gridcolor": "white",
            "gridwidth": 2,
            "linecolor": "white",
            "showbackground": true,
            "ticks": "",
            "zerolinecolor": "white"
           },
           "yaxis": {
            "backgroundcolor": "#E5ECF6",
            "gridcolor": "white",
            "gridwidth": 2,
            "linecolor": "white",
            "showbackground": true,
            "ticks": "",
            "zerolinecolor": "white"
           },
           "zaxis": {
            "backgroundcolor": "#E5ECF6",
            "gridcolor": "white",
            "gridwidth": 2,
            "linecolor": "white",
            "showbackground": true,
            "ticks": "",
            "zerolinecolor": "white"
           }
          },
          "shapedefaults": {
           "line": {
            "color": "#2a3f5f"
           }
          },
          "ternary": {
           "aaxis": {
            "gridcolor": "white",
            "linecolor": "white",
            "ticks": ""
           },
           "baxis": {
            "gridcolor": "white",
            "linecolor": "white",
            "ticks": ""
           },
           "bgcolor": "#E5ECF6",
           "caxis": {
            "gridcolor": "white",
            "linecolor": "white",
            "ticks": ""
           }
          },
          "title": {
           "x": 0.05
          },
          "xaxis": {
           "automargin": true,
           "gridcolor": "white",
           "linecolor": "white",
           "ticks": "",
           "title": {
            "standoff": 15
           },
           "zerolinecolor": "white",
           "zerolinewidth": 2
          },
          "yaxis": {
           "automargin": true,
           "gridcolor": "white",
           "linecolor": "white",
           "ticks": "",
           "title": {
            "standoff": 15
           },
           "zerolinecolor": "white",
           "zerolinewidth": 2
          }
         }
        },
        "title": {
         "font": {
          "color": "#4D5663"
         }
        },
        "xaxis": {
         "gridcolor": "#E1E5ED",
         "showgrid": true,
         "tickfont": {
          "color": "#4D5663"
         },
         "title": {
          "font": {
           "color": "#4D5663"
          },
          "text": ""
         },
         "zerolinecolor": "#E1E5ED"
        },
        "yaxis": {
         "gridcolor": "#E1E5ED",
         "showgrid": true,
         "tickfont": {
          "color": "#4D5663"
         },
         "title": {
          "font": {
           "color": "#4D5663"
          },
          "text": ""
         },
         "zerolinecolor": "#E1E5ED"
        }
       }
      },
      "text/html": [
       "<div>\n",
       "        \n",
       "        \n",
       "            <div id=\"2afefb8b-31b9-4340-8ce3-935bd3b28d72\" class=\"plotly-graph-div\" style=\"height:525px; width:100%;\"></div>\n",
       "            <script type=\"text/javascript\">\n",
       "                require([\"plotly\"], function(Plotly) {\n",
       "                    window.PLOTLYENV=window.PLOTLYENV || {};\n",
       "                    window.PLOTLYENV.BASE_URL='https://plot.ly';\n",
       "                    \n",
       "                if (document.getElementById(\"2afefb8b-31b9-4340-8ce3-935bd3b28d72\")) {\n",
       "                    Plotly.newPlot(\n",
       "                        '2afefb8b-31b9-4340-8ce3-935bd3b28d72',\n",
       "                        [{\"line\": {\"color\": \"rgba(255, 153, 51, 1.0)\", \"dash\": \"solid\", \"shape\": \"linear\", \"width\": 1.3}, \"marker\": {\"size\": 20, \"symbol\": \"circle\"}, \"mode\": \"markers\", \"name\": \"B\", \"text\": \"\", \"type\": \"scatter\", \"x\": [-1.228210303840886, 0.673718637442548, -0.6359991664128826, -0.23262448905478936, -0.4652684818242084, 0.09112090769390506, 1.1202307162460101, -0.913002197072858, -1.7866033041530176, -1.1819664154244243, -2.2518992211992668, 1.6419723454475943, -0.5049024421225882, -0.8316433290825647, -1.9026947938151906, 0.9529643236956478, 0.8424279826802521, 0.6496949082875334, -1.2710369557178685, 0.6744304243539521, 0.27031806004342473, -0.6151995848966308, 1.286999400136683, 2.754225637025308, -0.8685563696172357, -0.37270596578089227, 0.21656933195695277, 0.3299593481685292, -0.38976956152955244, 0.7899141331885607, -0.15232135255386411, -0.3278732576519635, -0.1714780618959102, 0.24585193839195518, -0.520103537564345, 0.9423867963175877, 0.6998506662177038, 2.9565000032387485, -0.16771290225752722, -0.8565644599372393, 1.9093025443891725, -0.6065596660356215, 1.5561398386580072, -1.6604273958353217, 0.29570532237337854, -0.30655930240007645, 0.5629765465472392, -1.1157754639387614, -0.22955196345192624, -2.0050583424582227, 0.11713750696332578, 2.8267139655873303, 0.46332154157231764, 0.8913848873219073, -0.27625761399056287, 0.17061072015134288, 0.01247361244100639, -1.1868120197940502, -0.1768842533262507, 0.3980979509622024, 1.7637268334097294, 0.9632004046301621, -0.174102504451404, -1.02063042523494, 1.678577707560514, 2.061538374722697, -0.01891713764992838, -0.34503079589422914, -0.8918084865031932, -0.7260269927380488, 0.49049384129362483, -1.7200742116968653, -0.7129415168181875, -0.44188757928112904, 3.5061225729394834, -0.48365529838350285, 0.09783218038002926, 1.4577512305513558, 0.036503672104812285, 1.6157315712246738, 0.34311746110657376, 0.531373414113734, -0.7186086927412191, 1.956762618943234, -0.06307785143259939, 0.18422454988996845, -0.8828271943787102, -0.7819307241118907, -0.4712984396735526, 0.8208067834200556, -0.9535656763785126, 0.6172811281139772, 0.38806297663784844, 0.21969028658437853, 0.5142512913421163, 0.3040997986323465, 0.28940893588859046, 0.39912893114064507, 0.8522015383297381, 0.766249213069548], \"y\": [-0.9410992898133941, 0.7403709673795416, -0.3681996600834796, 0.0991597200760194, -1.6825783826168605, -0.6208141494578543, -1.2271159557122688, -0.8033660807642069, 0.8468097288813591, 0.1722880167006293, -0.6637349467662795, -1.1017957408634886, 0.78893110183799, 0.5052234648355544, -0.5183463996216997, -0.13014575030713596, -2.1173663052566436, 1.0340391919026775, 0.4758016414816595, 1.1751249928768135, -0.5777840131627777, 0.35166835742458624, 0.4250410076349158, 0.12956422399669026, -0.40001911165167875, 0.49433210165665, 0.9238971005402511, -0.7022088325329872, -0.6250617284042304, 0.823798227192268, 0.6736158408541878, -0.3471483746325953, -1.3044961423954966, 1.2676370274998308, -1.3142364799225965, 2.650935361804906, 0.9822129709541314, 1.9357227006820465, 0.3703095980993604, -0.5530894722283664, -1.0407802242731543, -0.24484815231948331, 1.7030276075455875, 0.4806778126836462, 0.6063504773432427, 0.19814079912786253, -0.28845578570720243, 0.336187104999158, 0.8742807414259941, -0.7787074869262802, 0.5468775255294299, -0.723845204414693, 0.008127763819823951, 0.34186476255512704, 0.2639769485027573, -1.8208409662925802, 0.24074451187422571, 0.5562452782986852, -0.5824077840268167, 0.17050183300365282, 0.42085884285977426, -0.8692661641636048, -0.9723993347465054, 0.5395347413629555, -1.144824452521687, -1.5581534101688002, -1.6729339246680435, -2.2056076136021434, 1.103355797338571, 0.7678907038054802, -0.5151607726764834, -0.6475275993757056, -1.0082785648677384, 1.5260113519881962, -0.0076054176697331385, -0.8379869596906585, -0.8532996052463981, 0.520857662239727, -1.1507840593174075, 0.13138500423423757, 1.766428276090597, 0.6509203417858905, 1.290169264557484, 0.461245786964094, 0.381986938073141, 0.7753138167975542, 0.8672473904523145, 0.18973725833913044, 0.040801741645153794, -1.391900776067866, -0.6712369302438657, -0.04660937009967414, -1.1372146461701285, 0.370270983375189, 0.5796009309658001, -1.4386684202941982, -1.319559175894388, -0.5188624577046717, -1.050562091557685, 1.988326116952474]}],\n",
       "                        {\"legend\": {\"bgcolor\": \"#F5F6F9\", \"font\": {\"color\": \"#4D5663\"}}, \"paper_bgcolor\": \"#F5F6F9\", \"plot_bgcolor\": \"#F5F6F9\", \"template\": {\"data\": {\"bar\": [{\"error_x\": {\"color\": \"#2a3f5f\"}, \"error_y\": {\"color\": \"#2a3f5f\"}, \"marker\": {\"line\": {\"color\": \"#E5ECF6\", \"width\": 0.5}}, \"type\": \"bar\"}], \"barpolar\": [{\"marker\": {\"line\": {\"color\": \"#E5ECF6\", \"width\": 0.5}}, \"type\": \"barpolar\"}], \"carpet\": [{\"aaxis\": {\"endlinecolor\": \"#2a3f5f\", \"gridcolor\": \"white\", \"linecolor\": \"white\", \"minorgridcolor\": \"white\", \"startlinecolor\": \"#2a3f5f\"}, \"baxis\": {\"endlinecolor\": \"#2a3f5f\", \"gridcolor\": \"white\", \"linecolor\": \"white\", \"minorgridcolor\": \"white\", \"startlinecolor\": \"#2a3f5f\"}, \"type\": \"carpet\"}], \"choropleth\": [{\"colorbar\": {\"outlinewidth\": 0, \"ticks\": \"\"}, \"type\": \"choropleth\"}], \"contour\": [{\"colorbar\": {\"outlinewidth\": 0, \"ticks\": \"\"}, \"colorscale\": [[0.0, \"#0d0887\"], [0.1111111111111111, \"#46039f\"], [0.2222222222222222, \"#7201a8\"], [0.3333333333333333, \"#9c179e\"], [0.4444444444444444, \"#bd3786\"], [0.5555555555555556, \"#d8576b\"], [0.6666666666666666, \"#ed7953\"], [0.7777777777777778, \"#fb9f3a\"], [0.8888888888888888, \"#fdca26\"], [1.0, \"#f0f921\"]], \"type\": \"contour\"}], \"contourcarpet\": [{\"colorbar\": {\"outlinewidth\": 0, \"ticks\": \"\"}, \"type\": \"contourcarpet\"}], \"heatmap\": [{\"colorbar\": {\"outlinewidth\": 0, \"ticks\": \"\"}, \"colorscale\": [[0.0, \"#0d0887\"], [0.1111111111111111, \"#46039f\"], [0.2222222222222222, \"#7201a8\"], [0.3333333333333333, \"#9c179e\"], [0.4444444444444444, \"#bd3786\"], [0.5555555555555556, \"#d8576b\"], [0.6666666666666666, \"#ed7953\"], [0.7777777777777778, \"#fb9f3a\"], [0.8888888888888888, \"#fdca26\"], [1.0, \"#f0f921\"]], \"type\": \"heatmap\"}], \"heatmapgl\": [{\"colorbar\": {\"outlinewidth\": 0, \"ticks\": \"\"}, \"colorscale\": [[0.0, \"#0d0887\"], [0.1111111111111111, \"#46039f\"], [0.2222222222222222, \"#7201a8\"], [0.3333333333333333, \"#9c179e\"], [0.4444444444444444, \"#bd3786\"], [0.5555555555555556, \"#d8576b\"], [0.6666666666666666, \"#ed7953\"], [0.7777777777777778, \"#fb9f3a\"], [0.8888888888888888, \"#fdca26\"], [1.0, \"#f0f921\"]], \"type\": \"heatmapgl\"}], \"histogram\": [{\"marker\": {\"colorbar\": {\"outlinewidth\": 0, \"ticks\": \"\"}}, \"type\": \"histogram\"}], \"histogram2d\": [{\"colorbar\": {\"outlinewidth\": 0, \"ticks\": \"\"}, \"colorscale\": [[0.0, \"#0d0887\"], [0.1111111111111111, \"#46039f\"], [0.2222222222222222, \"#7201a8\"], [0.3333333333333333, \"#9c179e\"], [0.4444444444444444, \"#bd3786\"], [0.5555555555555556, \"#d8576b\"], [0.6666666666666666, \"#ed7953\"], [0.7777777777777778, \"#fb9f3a\"], [0.8888888888888888, \"#fdca26\"], [1.0, \"#f0f921\"]], \"type\": \"histogram2d\"}], \"histogram2dcontour\": [{\"colorbar\": {\"outlinewidth\": 0, \"ticks\": \"\"}, \"colorscale\": [[0.0, \"#0d0887\"], [0.1111111111111111, \"#46039f\"], [0.2222222222222222, \"#7201a8\"], [0.3333333333333333, \"#9c179e\"], [0.4444444444444444, \"#bd3786\"], [0.5555555555555556, \"#d8576b\"], [0.6666666666666666, \"#ed7953\"], [0.7777777777777778, \"#fb9f3a\"], [0.8888888888888888, \"#fdca26\"], [1.0, \"#f0f921\"]], \"type\": \"histogram2dcontour\"}], \"mesh3d\": [{\"colorbar\": {\"outlinewidth\": 0, \"ticks\": \"\"}, \"type\": \"mesh3d\"}], \"parcoords\": [{\"line\": {\"colorbar\": {\"outlinewidth\": 0, \"ticks\": \"\"}}, \"type\": \"parcoords\"}], \"pie\": [{\"automargin\": true, \"type\": \"pie\"}], \"scatter\": [{\"marker\": {\"colorbar\": {\"outlinewidth\": 0, \"ticks\": \"\"}}, \"type\": \"scatter\"}], \"scatter3d\": [{\"line\": {\"colorbar\": {\"outlinewidth\": 0, \"ticks\": \"\"}}, \"marker\": {\"colorbar\": {\"outlinewidth\": 0, \"ticks\": \"\"}}, \"type\": \"scatter3d\"}], \"scattercarpet\": [{\"marker\": {\"colorbar\": {\"outlinewidth\": 0, \"ticks\": \"\"}}, \"type\": \"scattercarpet\"}], \"scattergeo\": [{\"marker\": {\"colorbar\": {\"outlinewidth\": 0, \"ticks\": \"\"}}, \"type\": \"scattergeo\"}], \"scattergl\": [{\"marker\": {\"colorbar\": {\"outlinewidth\": 0, \"ticks\": \"\"}}, \"type\": \"scattergl\"}], \"scattermapbox\": [{\"marker\": {\"colorbar\": {\"outlinewidth\": 0, \"ticks\": \"\"}}, \"type\": \"scattermapbox\"}], \"scatterpolar\": [{\"marker\": {\"colorbar\": {\"outlinewidth\": 0, \"ticks\": \"\"}}, \"type\": \"scatterpolar\"}], \"scatterpolargl\": [{\"marker\": {\"colorbar\": {\"outlinewidth\": 0, \"ticks\": \"\"}}, \"type\": \"scatterpolargl\"}], \"scatterternary\": [{\"marker\": {\"colorbar\": {\"outlinewidth\": 0, \"ticks\": \"\"}}, \"type\": \"scatterternary\"}], \"surface\": [{\"colorbar\": {\"outlinewidth\": 0, \"ticks\": \"\"}, \"colorscale\": [[0.0, \"#0d0887\"], [0.1111111111111111, \"#46039f\"], [0.2222222222222222, \"#7201a8\"], [0.3333333333333333, \"#9c179e\"], [0.4444444444444444, \"#bd3786\"], [0.5555555555555556, \"#d8576b\"], [0.6666666666666666, \"#ed7953\"], [0.7777777777777778, \"#fb9f3a\"], [0.8888888888888888, \"#fdca26\"], [1.0, \"#f0f921\"]], \"type\": \"surface\"}], \"table\": [{\"cells\": {\"fill\": {\"color\": \"#EBF0F8\"}, \"line\": {\"color\": \"white\"}}, \"header\": {\"fill\": {\"color\": \"#C8D4E3\"}, \"line\": {\"color\": \"white\"}}, \"type\": \"table\"}]}, \"layout\": {\"annotationdefaults\": {\"arrowcolor\": \"#2a3f5f\", \"arrowhead\": 0, \"arrowwidth\": 1}, \"coloraxis\": {\"colorbar\": {\"outlinewidth\": 0, \"ticks\": \"\"}}, \"colorscale\": {\"diverging\": [[0, \"#8e0152\"], [0.1, \"#c51b7d\"], [0.2, \"#de77ae\"], [0.3, \"#f1b6da\"], [0.4, \"#fde0ef\"], [0.5, \"#f7f7f7\"], [0.6, \"#e6f5d0\"], [0.7, \"#b8e186\"], [0.8, \"#7fbc41\"], [0.9, \"#4d9221\"], [1, \"#276419\"]], \"sequential\": [[0.0, \"#0d0887\"], [0.1111111111111111, \"#46039f\"], [0.2222222222222222, \"#7201a8\"], [0.3333333333333333, \"#9c179e\"], [0.4444444444444444, \"#bd3786\"], [0.5555555555555556, \"#d8576b\"], [0.6666666666666666, \"#ed7953\"], [0.7777777777777778, \"#fb9f3a\"], [0.8888888888888888, \"#fdca26\"], [1.0, \"#f0f921\"]], \"sequentialminus\": [[0.0, \"#0d0887\"], [0.1111111111111111, \"#46039f\"], [0.2222222222222222, \"#7201a8\"], [0.3333333333333333, \"#9c179e\"], [0.4444444444444444, \"#bd3786\"], [0.5555555555555556, \"#d8576b\"], [0.6666666666666666, \"#ed7953\"], [0.7777777777777778, \"#fb9f3a\"], [0.8888888888888888, \"#fdca26\"], [1.0, \"#f0f921\"]]}, \"colorway\": [\"#636efa\", \"#EF553B\", \"#00cc96\", \"#ab63fa\", \"#FFA15A\", \"#19d3f3\", \"#FF6692\", \"#B6E880\", \"#FF97FF\", \"#FECB52\"], \"font\": {\"color\": \"#2a3f5f\"}, \"geo\": {\"bgcolor\": \"white\", \"lakecolor\": \"white\", \"landcolor\": \"#E5ECF6\", \"showlakes\": true, \"showland\": true, \"subunitcolor\": \"white\"}, \"hoverlabel\": {\"align\": \"left\"}, \"hovermode\": \"closest\", \"mapbox\": {\"style\": \"light\"}, \"paper_bgcolor\": \"white\", \"plot_bgcolor\": \"#E5ECF6\", \"polar\": {\"angularaxis\": {\"gridcolor\": \"white\", \"linecolor\": \"white\", \"ticks\": \"\"}, \"bgcolor\": \"#E5ECF6\", \"radialaxis\": {\"gridcolor\": \"white\", \"linecolor\": \"white\", \"ticks\": \"\"}}, \"scene\": {\"xaxis\": {\"backgroundcolor\": \"#E5ECF6\", \"gridcolor\": \"white\", \"gridwidth\": 2, \"linecolor\": \"white\", \"showbackground\": true, \"ticks\": \"\", \"zerolinecolor\": \"white\"}, \"yaxis\": {\"backgroundcolor\": \"#E5ECF6\", \"gridcolor\": \"white\", \"gridwidth\": 2, \"linecolor\": \"white\", \"showbackground\": true, \"ticks\": \"\", \"zerolinecolor\": \"white\"}, \"zaxis\": {\"backgroundcolor\": \"#E5ECF6\", \"gridcolor\": \"white\", \"gridwidth\": 2, \"linecolor\": \"white\", \"showbackground\": true, \"ticks\": \"\", \"zerolinecolor\": \"white\"}}, \"shapedefaults\": {\"line\": {\"color\": \"#2a3f5f\"}}, \"ternary\": {\"aaxis\": {\"gridcolor\": \"white\", \"linecolor\": \"white\", \"ticks\": \"\"}, \"baxis\": {\"gridcolor\": \"white\", \"linecolor\": \"white\", \"ticks\": \"\"}, \"bgcolor\": \"#E5ECF6\", \"caxis\": {\"gridcolor\": \"white\", \"linecolor\": \"white\", \"ticks\": \"\"}}, \"title\": {\"x\": 0.05}, \"xaxis\": {\"automargin\": true, \"gridcolor\": \"white\", \"linecolor\": \"white\", \"ticks\": \"\", \"title\": {\"standoff\": 15}, \"zerolinecolor\": \"white\", \"zerolinewidth\": 2}, \"yaxis\": {\"automargin\": true, \"gridcolor\": \"white\", \"linecolor\": \"white\", \"ticks\": \"\", \"title\": {\"standoff\": 15}, \"zerolinecolor\": \"white\", \"zerolinewidth\": 2}}}, \"title\": {\"font\": {\"color\": \"#4D5663\"}}, \"xaxis\": {\"gridcolor\": \"#E1E5ED\", \"showgrid\": true, \"tickfont\": {\"color\": \"#4D5663\"}, \"title\": {\"font\": {\"color\": \"#4D5663\"}, \"text\": \"\"}, \"zerolinecolor\": \"#E1E5ED\"}, \"yaxis\": {\"gridcolor\": \"#E1E5ED\", \"showgrid\": true, \"tickfont\": {\"color\": \"#4D5663\"}, \"title\": {\"font\": {\"color\": \"#4D5663\"}, \"text\": \"\"}, \"zerolinecolor\": \"#E1E5ED\"}},\n",
       "                        {\"showLink\": true, \"linkText\": \"Export to plot.ly\", \"plotlyServerURL\": \"https://plot.ly\", \"responsive\": true}\n",
       "                    ).then(function(){\n",
       "                            \n",
       "var gd = document.getElementById('2afefb8b-31b9-4340-8ce3-935bd3b28d72');\n",
       "var x = new MutationObserver(function (mutations, observer) {{\n",
       "        var display = window.getComputedStyle(gd).display;\n",
       "        if (!display || display === 'none') {{\n",
       "            console.log([gd, 'removed!']);\n",
       "            Plotly.purge(gd);\n",
       "            observer.disconnect();\n",
       "        }}\n",
       "}});\n",
       "\n",
       "// Listen for the removal of the full notebook cells\n",
       "var notebookContainer = gd.closest('#notebook-container');\n",
       "if (notebookContainer) {{\n",
       "    x.observe(notebookContainer, {childList: true});\n",
       "}}\n",
       "\n",
       "// Listen for the clearing of the current output cell\n",
       "var outputEl = gd.closest('.output');\n",
       "if (outputEl) {{\n",
       "    x.observe(outputEl, {childList: true});\n",
       "}}\n",
       "\n",
       "                        })\n",
       "                };\n",
       "                });\n",
       "            </script>\n",
       "        </div>"
      ]
     },
     "metadata": {},
     "output_type": "display_data"
    }
   ],
   "source": [
    "# PLOTY - SCATTERPLOT - MODE = MARKERS, SIZE\n",
    "df.iplot(kind='scatter',x='A',y='B',mode='markers',size=20)"
   ]
  },
  {
   "cell_type": "code",
   "execution_count": 43,
   "metadata": {},
   "outputs": [
    {
     "data": {
      "application/vnd.plotly.v1+json": {
       "config": {
        "linkText": "Export to plot.ly",
        "plotlyServerURL": "https://plot.ly",
        "showLink": true
       },
       "data": [
        {
         "marker": {
          "color": "rgba(255, 153, 51, 0.6)",
          "line": {
           "color": "rgba(255, 153, 51, 1.0)",
           "width": 1
          }
         },
         "name": "Values",
         "orientation": "v",
         "text": "",
         "type": "bar",
         "x": [
          "A",
          "B",
          "C"
         ],
         "y": [
          32,
          43,
          50
         ]
        }
       ],
       "layout": {
        "legend": {
         "bgcolor": "#F5F6F9",
         "font": {
          "color": "#4D5663"
         }
        },
        "paper_bgcolor": "#F5F6F9",
        "plot_bgcolor": "#F5F6F9",
        "template": {
         "data": {
          "bar": [
           {
            "error_x": {
             "color": "#2a3f5f"
            },
            "error_y": {
             "color": "#2a3f5f"
            },
            "marker": {
             "line": {
              "color": "#E5ECF6",
              "width": 0.5
             }
            },
            "type": "bar"
           }
          ],
          "barpolar": [
           {
            "marker": {
             "line": {
              "color": "#E5ECF6",
              "width": 0.5
             }
            },
            "type": "barpolar"
           }
          ],
          "carpet": [
           {
            "aaxis": {
             "endlinecolor": "#2a3f5f",
             "gridcolor": "white",
             "linecolor": "white",
             "minorgridcolor": "white",
             "startlinecolor": "#2a3f5f"
            },
            "baxis": {
             "endlinecolor": "#2a3f5f",
             "gridcolor": "white",
             "linecolor": "white",
             "minorgridcolor": "white",
             "startlinecolor": "#2a3f5f"
            },
            "type": "carpet"
           }
          ],
          "choropleth": [
           {
            "colorbar": {
             "outlinewidth": 0,
             "ticks": ""
            },
            "type": "choropleth"
           }
          ],
          "contour": [
           {
            "colorbar": {
             "outlinewidth": 0,
             "ticks": ""
            },
            "colorscale": [
             [
              0,
              "#0d0887"
             ],
             [
              0.1111111111111111,
              "#46039f"
             ],
             [
              0.2222222222222222,
              "#7201a8"
             ],
             [
              0.3333333333333333,
              "#9c179e"
             ],
             [
              0.4444444444444444,
              "#bd3786"
             ],
             [
              0.5555555555555556,
              "#d8576b"
             ],
             [
              0.6666666666666666,
              "#ed7953"
             ],
             [
              0.7777777777777778,
              "#fb9f3a"
             ],
             [
              0.8888888888888888,
              "#fdca26"
             ],
             [
              1,
              "#f0f921"
             ]
            ],
            "type": "contour"
           }
          ],
          "contourcarpet": [
           {
            "colorbar": {
             "outlinewidth": 0,
             "ticks": ""
            },
            "type": "contourcarpet"
           }
          ],
          "heatmap": [
           {
            "colorbar": {
             "outlinewidth": 0,
             "ticks": ""
            },
            "colorscale": [
             [
              0,
              "#0d0887"
             ],
             [
              0.1111111111111111,
              "#46039f"
             ],
             [
              0.2222222222222222,
              "#7201a8"
             ],
             [
              0.3333333333333333,
              "#9c179e"
             ],
             [
              0.4444444444444444,
              "#bd3786"
             ],
             [
              0.5555555555555556,
              "#d8576b"
             ],
             [
              0.6666666666666666,
              "#ed7953"
             ],
             [
              0.7777777777777778,
              "#fb9f3a"
             ],
             [
              0.8888888888888888,
              "#fdca26"
             ],
             [
              1,
              "#f0f921"
             ]
            ],
            "type": "heatmap"
           }
          ],
          "heatmapgl": [
           {
            "colorbar": {
             "outlinewidth": 0,
             "ticks": ""
            },
            "colorscale": [
             [
              0,
              "#0d0887"
             ],
             [
              0.1111111111111111,
              "#46039f"
             ],
             [
              0.2222222222222222,
              "#7201a8"
             ],
             [
              0.3333333333333333,
              "#9c179e"
             ],
             [
              0.4444444444444444,
              "#bd3786"
             ],
             [
              0.5555555555555556,
              "#d8576b"
             ],
             [
              0.6666666666666666,
              "#ed7953"
             ],
             [
              0.7777777777777778,
              "#fb9f3a"
             ],
             [
              0.8888888888888888,
              "#fdca26"
             ],
             [
              1,
              "#f0f921"
             ]
            ],
            "type": "heatmapgl"
           }
          ],
          "histogram": [
           {
            "marker": {
             "colorbar": {
              "outlinewidth": 0,
              "ticks": ""
             }
            },
            "type": "histogram"
           }
          ],
          "histogram2d": [
           {
            "colorbar": {
             "outlinewidth": 0,
             "ticks": ""
            },
            "colorscale": [
             [
              0,
              "#0d0887"
             ],
             [
              0.1111111111111111,
              "#46039f"
             ],
             [
              0.2222222222222222,
              "#7201a8"
             ],
             [
              0.3333333333333333,
              "#9c179e"
             ],
             [
              0.4444444444444444,
              "#bd3786"
             ],
             [
              0.5555555555555556,
              "#d8576b"
             ],
             [
              0.6666666666666666,
              "#ed7953"
             ],
             [
              0.7777777777777778,
              "#fb9f3a"
             ],
             [
              0.8888888888888888,
              "#fdca26"
             ],
             [
              1,
              "#f0f921"
             ]
            ],
            "type": "histogram2d"
           }
          ],
          "histogram2dcontour": [
           {
            "colorbar": {
             "outlinewidth": 0,
             "ticks": ""
            },
            "colorscale": [
             [
              0,
              "#0d0887"
             ],
             [
              0.1111111111111111,
              "#46039f"
             ],
             [
              0.2222222222222222,
              "#7201a8"
             ],
             [
              0.3333333333333333,
              "#9c179e"
             ],
             [
              0.4444444444444444,
              "#bd3786"
             ],
             [
              0.5555555555555556,
              "#d8576b"
             ],
             [
              0.6666666666666666,
              "#ed7953"
             ],
             [
              0.7777777777777778,
              "#fb9f3a"
             ],
             [
              0.8888888888888888,
              "#fdca26"
             ],
             [
              1,
              "#f0f921"
             ]
            ],
            "type": "histogram2dcontour"
           }
          ],
          "mesh3d": [
           {
            "colorbar": {
             "outlinewidth": 0,
             "ticks": ""
            },
            "type": "mesh3d"
           }
          ],
          "parcoords": [
           {
            "line": {
             "colorbar": {
              "outlinewidth": 0,
              "ticks": ""
             }
            },
            "type": "parcoords"
           }
          ],
          "pie": [
           {
            "automargin": true,
            "type": "pie"
           }
          ],
          "scatter": [
           {
            "marker": {
             "colorbar": {
              "outlinewidth": 0,
              "ticks": ""
             }
            },
            "type": "scatter"
           }
          ],
          "scatter3d": [
           {
            "line": {
             "colorbar": {
              "outlinewidth": 0,
              "ticks": ""
             }
            },
            "marker": {
             "colorbar": {
              "outlinewidth": 0,
              "ticks": ""
             }
            },
            "type": "scatter3d"
           }
          ],
          "scattercarpet": [
           {
            "marker": {
             "colorbar": {
              "outlinewidth": 0,
              "ticks": ""
             }
            },
            "type": "scattercarpet"
           }
          ],
          "scattergeo": [
           {
            "marker": {
             "colorbar": {
              "outlinewidth": 0,
              "ticks": ""
             }
            },
            "type": "scattergeo"
           }
          ],
          "scattergl": [
           {
            "marker": {
             "colorbar": {
              "outlinewidth": 0,
              "ticks": ""
             }
            },
            "type": "scattergl"
           }
          ],
          "scattermapbox": [
           {
            "marker": {
             "colorbar": {
              "outlinewidth": 0,
              "ticks": ""
             }
            },
            "type": "scattermapbox"
           }
          ],
          "scatterpolar": [
           {
            "marker": {
             "colorbar": {
              "outlinewidth": 0,
              "ticks": ""
             }
            },
            "type": "scatterpolar"
           }
          ],
          "scatterpolargl": [
           {
            "marker": {
             "colorbar": {
              "outlinewidth": 0,
              "ticks": ""
             }
            },
            "type": "scatterpolargl"
           }
          ],
          "scatterternary": [
           {
            "marker": {
             "colorbar": {
              "outlinewidth": 0,
              "ticks": ""
             }
            },
            "type": "scatterternary"
           }
          ],
          "surface": [
           {
            "colorbar": {
             "outlinewidth": 0,
             "ticks": ""
            },
            "colorscale": [
             [
              0,
              "#0d0887"
             ],
             [
              0.1111111111111111,
              "#46039f"
             ],
             [
              0.2222222222222222,
              "#7201a8"
             ],
             [
              0.3333333333333333,
              "#9c179e"
             ],
             [
              0.4444444444444444,
              "#bd3786"
             ],
             [
              0.5555555555555556,
              "#d8576b"
             ],
             [
              0.6666666666666666,
              "#ed7953"
             ],
             [
              0.7777777777777778,
              "#fb9f3a"
             ],
             [
              0.8888888888888888,
              "#fdca26"
             ],
             [
              1,
              "#f0f921"
             ]
            ],
            "type": "surface"
           }
          ],
          "table": [
           {
            "cells": {
             "fill": {
              "color": "#EBF0F8"
             },
             "line": {
              "color": "white"
             }
            },
            "header": {
             "fill": {
              "color": "#C8D4E3"
             },
             "line": {
              "color": "white"
             }
            },
            "type": "table"
           }
          ]
         },
         "layout": {
          "annotationdefaults": {
           "arrowcolor": "#2a3f5f",
           "arrowhead": 0,
           "arrowwidth": 1
          },
          "coloraxis": {
           "colorbar": {
            "outlinewidth": 0,
            "ticks": ""
           }
          },
          "colorscale": {
           "diverging": [
            [
             0,
             "#8e0152"
            ],
            [
             0.1,
             "#c51b7d"
            ],
            [
             0.2,
             "#de77ae"
            ],
            [
             0.3,
             "#f1b6da"
            ],
            [
             0.4,
             "#fde0ef"
            ],
            [
             0.5,
             "#f7f7f7"
            ],
            [
             0.6,
             "#e6f5d0"
            ],
            [
             0.7,
             "#b8e186"
            ],
            [
             0.8,
             "#7fbc41"
            ],
            [
             0.9,
             "#4d9221"
            ],
            [
             1,
             "#276419"
            ]
           ],
           "sequential": [
            [
             0,
             "#0d0887"
            ],
            [
             0.1111111111111111,
             "#46039f"
            ],
            [
             0.2222222222222222,
             "#7201a8"
            ],
            [
             0.3333333333333333,
             "#9c179e"
            ],
            [
             0.4444444444444444,
             "#bd3786"
            ],
            [
             0.5555555555555556,
             "#d8576b"
            ],
            [
             0.6666666666666666,
             "#ed7953"
            ],
            [
             0.7777777777777778,
             "#fb9f3a"
            ],
            [
             0.8888888888888888,
             "#fdca26"
            ],
            [
             1,
             "#f0f921"
            ]
           ],
           "sequentialminus": [
            [
             0,
             "#0d0887"
            ],
            [
             0.1111111111111111,
             "#46039f"
            ],
            [
             0.2222222222222222,
             "#7201a8"
            ],
            [
             0.3333333333333333,
             "#9c179e"
            ],
            [
             0.4444444444444444,
             "#bd3786"
            ],
            [
             0.5555555555555556,
             "#d8576b"
            ],
            [
             0.6666666666666666,
             "#ed7953"
            ],
            [
             0.7777777777777778,
             "#fb9f3a"
            ],
            [
             0.8888888888888888,
             "#fdca26"
            ],
            [
             1,
             "#f0f921"
            ]
           ]
          },
          "colorway": [
           "#636efa",
           "#EF553B",
           "#00cc96",
           "#ab63fa",
           "#FFA15A",
           "#19d3f3",
           "#FF6692",
           "#B6E880",
           "#FF97FF",
           "#FECB52"
          ],
          "font": {
           "color": "#2a3f5f"
          },
          "geo": {
           "bgcolor": "white",
           "lakecolor": "white",
           "landcolor": "#E5ECF6",
           "showlakes": true,
           "showland": true,
           "subunitcolor": "white"
          },
          "hoverlabel": {
           "align": "left"
          },
          "hovermode": "closest",
          "mapbox": {
           "style": "light"
          },
          "paper_bgcolor": "white",
          "plot_bgcolor": "#E5ECF6",
          "polar": {
           "angularaxis": {
            "gridcolor": "white",
            "linecolor": "white",
            "ticks": ""
           },
           "bgcolor": "#E5ECF6",
           "radialaxis": {
            "gridcolor": "white",
            "linecolor": "white",
            "ticks": ""
           }
          },
          "scene": {
           "xaxis": {
            "backgroundcolor": "#E5ECF6",
            "gridcolor": "white",
            "gridwidth": 2,
            "linecolor": "white",
            "showbackground": true,
            "ticks": "",
            "zerolinecolor": "white"
           },
           "yaxis": {
            "backgroundcolor": "#E5ECF6",
            "gridcolor": "white",
            "gridwidth": 2,
            "linecolor": "white",
            "showbackground": true,
            "ticks": "",
            "zerolinecolor": "white"
           },
           "zaxis": {
            "backgroundcolor": "#E5ECF6",
            "gridcolor": "white",
            "gridwidth": 2,
            "linecolor": "white",
            "showbackground": true,
            "ticks": "",
            "zerolinecolor": "white"
           }
          },
          "shapedefaults": {
           "line": {
            "color": "#2a3f5f"
           }
          },
          "ternary": {
           "aaxis": {
            "gridcolor": "white",
            "linecolor": "white",
            "ticks": ""
           },
           "baxis": {
            "gridcolor": "white",
            "linecolor": "white",
            "ticks": ""
           },
           "bgcolor": "#E5ECF6",
           "caxis": {
            "gridcolor": "white",
            "linecolor": "white",
            "ticks": ""
           }
          },
          "title": {
           "x": 0.05
          },
          "xaxis": {
           "automargin": true,
           "gridcolor": "white",
           "linecolor": "white",
           "ticks": "",
           "title": {
            "standoff": 15
           },
           "zerolinecolor": "white",
           "zerolinewidth": 2
          },
          "yaxis": {
           "automargin": true,
           "gridcolor": "white",
           "linecolor": "white",
           "ticks": "",
           "title": {
            "standoff": 15
           },
           "zerolinecolor": "white",
           "zerolinewidth": 2
          }
         }
        },
        "title": {
         "font": {
          "color": "#4D5663"
         }
        },
        "xaxis": {
         "gridcolor": "#E1E5ED",
         "showgrid": true,
         "tickfont": {
          "color": "#4D5663"
         },
         "title": {
          "font": {
           "color": "#4D5663"
          },
          "text": ""
         },
         "zerolinecolor": "#E1E5ED"
        },
        "yaxis": {
         "gridcolor": "#E1E5ED",
         "showgrid": true,
         "tickfont": {
          "color": "#4D5663"
         },
         "title": {
          "font": {
           "color": "#4D5663"
          },
          "text": ""
         },
         "zerolinecolor": "#E1E5ED"
        }
       }
      },
      "text/html": [
       "<div>\n",
       "        \n",
       "        \n",
       "            <div id=\"23a8b1e6-950c-470c-b61e-137271c4ecfc\" class=\"plotly-graph-div\" style=\"height:525px; width:100%;\"></div>\n",
       "            <script type=\"text/javascript\">\n",
       "                require([\"plotly\"], function(Plotly) {\n",
       "                    window.PLOTLYENV=window.PLOTLYENV || {};\n",
       "                    window.PLOTLYENV.BASE_URL='https://plot.ly';\n",
       "                    \n",
       "                if (document.getElementById(\"23a8b1e6-950c-470c-b61e-137271c4ecfc\")) {\n",
       "                    Plotly.newPlot(\n",
       "                        '23a8b1e6-950c-470c-b61e-137271c4ecfc',\n",
       "                        [{\"marker\": {\"color\": \"rgba(255, 153, 51, 0.6)\", \"line\": {\"color\": \"rgba(255, 153, 51, 1.0)\", \"width\": 1}}, \"name\": \"Values\", \"orientation\": \"v\", \"text\": \"\", \"type\": \"bar\", \"x\": [\"A\", \"B\", \"C\"], \"y\": [32, 43, 50]}],\n",
       "                        {\"legend\": {\"bgcolor\": \"#F5F6F9\", \"font\": {\"color\": \"#4D5663\"}}, \"paper_bgcolor\": \"#F5F6F9\", \"plot_bgcolor\": \"#F5F6F9\", \"template\": {\"data\": {\"bar\": [{\"error_x\": {\"color\": \"#2a3f5f\"}, \"error_y\": {\"color\": \"#2a3f5f\"}, \"marker\": {\"line\": {\"color\": \"#E5ECF6\", \"width\": 0.5}}, \"type\": \"bar\"}], \"barpolar\": [{\"marker\": {\"line\": {\"color\": \"#E5ECF6\", \"width\": 0.5}}, \"type\": \"barpolar\"}], \"carpet\": [{\"aaxis\": {\"endlinecolor\": \"#2a3f5f\", \"gridcolor\": \"white\", \"linecolor\": \"white\", \"minorgridcolor\": \"white\", \"startlinecolor\": \"#2a3f5f\"}, \"baxis\": {\"endlinecolor\": \"#2a3f5f\", \"gridcolor\": \"white\", \"linecolor\": \"white\", \"minorgridcolor\": \"white\", \"startlinecolor\": \"#2a3f5f\"}, \"type\": \"carpet\"}], \"choropleth\": [{\"colorbar\": {\"outlinewidth\": 0, \"ticks\": \"\"}, \"type\": \"choropleth\"}], \"contour\": [{\"colorbar\": {\"outlinewidth\": 0, \"ticks\": \"\"}, \"colorscale\": [[0.0, \"#0d0887\"], [0.1111111111111111, \"#46039f\"], [0.2222222222222222, \"#7201a8\"], [0.3333333333333333, \"#9c179e\"], [0.4444444444444444, \"#bd3786\"], [0.5555555555555556, \"#d8576b\"], [0.6666666666666666, \"#ed7953\"], [0.7777777777777778, \"#fb9f3a\"], [0.8888888888888888, \"#fdca26\"], [1.0, \"#f0f921\"]], \"type\": \"contour\"}], \"contourcarpet\": [{\"colorbar\": {\"outlinewidth\": 0, \"ticks\": \"\"}, \"type\": \"contourcarpet\"}], \"heatmap\": [{\"colorbar\": {\"outlinewidth\": 0, \"ticks\": \"\"}, \"colorscale\": [[0.0, \"#0d0887\"], [0.1111111111111111, \"#46039f\"], [0.2222222222222222, \"#7201a8\"], [0.3333333333333333, \"#9c179e\"], [0.4444444444444444, \"#bd3786\"], [0.5555555555555556, \"#d8576b\"], [0.6666666666666666, \"#ed7953\"], [0.7777777777777778, \"#fb9f3a\"], [0.8888888888888888, \"#fdca26\"], [1.0, \"#f0f921\"]], \"type\": \"heatmap\"}], \"heatmapgl\": [{\"colorbar\": {\"outlinewidth\": 0, \"ticks\": \"\"}, \"colorscale\": [[0.0, \"#0d0887\"], [0.1111111111111111, \"#46039f\"], [0.2222222222222222, \"#7201a8\"], [0.3333333333333333, \"#9c179e\"], [0.4444444444444444, \"#bd3786\"], [0.5555555555555556, \"#d8576b\"], [0.6666666666666666, \"#ed7953\"], [0.7777777777777778, \"#fb9f3a\"], [0.8888888888888888, \"#fdca26\"], [1.0, \"#f0f921\"]], \"type\": \"heatmapgl\"}], \"histogram\": [{\"marker\": {\"colorbar\": {\"outlinewidth\": 0, \"ticks\": \"\"}}, \"type\": \"histogram\"}], \"histogram2d\": [{\"colorbar\": {\"outlinewidth\": 0, \"ticks\": \"\"}, \"colorscale\": [[0.0, \"#0d0887\"], [0.1111111111111111, \"#46039f\"], [0.2222222222222222, \"#7201a8\"], [0.3333333333333333, \"#9c179e\"], [0.4444444444444444, \"#bd3786\"], [0.5555555555555556, \"#d8576b\"], [0.6666666666666666, \"#ed7953\"], [0.7777777777777778, \"#fb9f3a\"], [0.8888888888888888, \"#fdca26\"], [1.0, \"#f0f921\"]], \"type\": \"histogram2d\"}], \"histogram2dcontour\": [{\"colorbar\": {\"outlinewidth\": 0, \"ticks\": \"\"}, \"colorscale\": [[0.0, \"#0d0887\"], [0.1111111111111111, \"#46039f\"], [0.2222222222222222, \"#7201a8\"], [0.3333333333333333, \"#9c179e\"], [0.4444444444444444, \"#bd3786\"], [0.5555555555555556, \"#d8576b\"], [0.6666666666666666, \"#ed7953\"], [0.7777777777777778, \"#fb9f3a\"], [0.8888888888888888, \"#fdca26\"], [1.0, \"#f0f921\"]], \"type\": \"histogram2dcontour\"}], \"mesh3d\": [{\"colorbar\": {\"outlinewidth\": 0, \"ticks\": \"\"}, \"type\": \"mesh3d\"}], \"parcoords\": [{\"line\": {\"colorbar\": {\"outlinewidth\": 0, \"ticks\": \"\"}}, \"type\": \"parcoords\"}], \"pie\": [{\"automargin\": true, \"type\": \"pie\"}], \"scatter\": [{\"marker\": {\"colorbar\": {\"outlinewidth\": 0, \"ticks\": \"\"}}, \"type\": \"scatter\"}], \"scatter3d\": [{\"line\": {\"colorbar\": {\"outlinewidth\": 0, \"ticks\": \"\"}}, \"marker\": {\"colorbar\": {\"outlinewidth\": 0, \"ticks\": \"\"}}, \"type\": \"scatter3d\"}], \"scattercarpet\": [{\"marker\": {\"colorbar\": {\"outlinewidth\": 0, \"ticks\": \"\"}}, \"type\": \"scattercarpet\"}], \"scattergeo\": [{\"marker\": {\"colorbar\": {\"outlinewidth\": 0, \"ticks\": \"\"}}, \"type\": \"scattergeo\"}], \"scattergl\": [{\"marker\": {\"colorbar\": {\"outlinewidth\": 0, \"ticks\": \"\"}}, \"type\": \"scattergl\"}], \"scattermapbox\": [{\"marker\": {\"colorbar\": {\"outlinewidth\": 0, \"ticks\": \"\"}}, \"type\": \"scattermapbox\"}], \"scatterpolar\": [{\"marker\": {\"colorbar\": {\"outlinewidth\": 0, \"ticks\": \"\"}}, \"type\": \"scatterpolar\"}], \"scatterpolargl\": [{\"marker\": {\"colorbar\": {\"outlinewidth\": 0, \"ticks\": \"\"}}, \"type\": \"scatterpolargl\"}], \"scatterternary\": [{\"marker\": {\"colorbar\": {\"outlinewidth\": 0, \"ticks\": \"\"}}, \"type\": \"scatterternary\"}], \"surface\": [{\"colorbar\": {\"outlinewidth\": 0, \"ticks\": \"\"}, \"colorscale\": [[0.0, \"#0d0887\"], [0.1111111111111111, \"#46039f\"], [0.2222222222222222, \"#7201a8\"], [0.3333333333333333, \"#9c179e\"], [0.4444444444444444, \"#bd3786\"], [0.5555555555555556, \"#d8576b\"], [0.6666666666666666, \"#ed7953\"], [0.7777777777777778, \"#fb9f3a\"], [0.8888888888888888, \"#fdca26\"], [1.0, \"#f0f921\"]], \"type\": \"surface\"}], \"table\": [{\"cells\": {\"fill\": {\"color\": \"#EBF0F8\"}, \"line\": {\"color\": \"white\"}}, \"header\": {\"fill\": {\"color\": \"#C8D4E3\"}, \"line\": {\"color\": \"white\"}}, \"type\": \"table\"}]}, \"layout\": {\"annotationdefaults\": {\"arrowcolor\": \"#2a3f5f\", \"arrowhead\": 0, \"arrowwidth\": 1}, \"coloraxis\": {\"colorbar\": {\"outlinewidth\": 0, \"ticks\": \"\"}}, \"colorscale\": {\"diverging\": [[0, \"#8e0152\"], [0.1, \"#c51b7d\"], [0.2, \"#de77ae\"], [0.3, \"#f1b6da\"], [0.4, \"#fde0ef\"], [0.5, \"#f7f7f7\"], [0.6, \"#e6f5d0\"], [0.7, \"#b8e186\"], [0.8, \"#7fbc41\"], [0.9, \"#4d9221\"], [1, \"#276419\"]], \"sequential\": [[0.0, \"#0d0887\"], [0.1111111111111111, \"#46039f\"], [0.2222222222222222, \"#7201a8\"], [0.3333333333333333, \"#9c179e\"], [0.4444444444444444, \"#bd3786\"], [0.5555555555555556, \"#d8576b\"], [0.6666666666666666, \"#ed7953\"], [0.7777777777777778, \"#fb9f3a\"], [0.8888888888888888, \"#fdca26\"], [1.0, \"#f0f921\"]], \"sequentialminus\": [[0.0, \"#0d0887\"], [0.1111111111111111, \"#46039f\"], [0.2222222222222222, \"#7201a8\"], [0.3333333333333333, \"#9c179e\"], [0.4444444444444444, \"#bd3786\"], [0.5555555555555556, \"#d8576b\"], [0.6666666666666666, \"#ed7953\"], [0.7777777777777778, \"#fb9f3a\"], [0.8888888888888888, \"#fdca26\"], [1.0, \"#f0f921\"]]}, \"colorway\": [\"#636efa\", \"#EF553B\", \"#00cc96\", \"#ab63fa\", \"#FFA15A\", \"#19d3f3\", \"#FF6692\", \"#B6E880\", \"#FF97FF\", \"#FECB52\"], \"font\": {\"color\": \"#2a3f5f\"}, \"geo\": {\"bgcolor\": \"white\", \"lakecolor\": \"white\", \"landcolor\": \"#E5ECF6\", \"showlakes\": true, \"showland\": true, \"subunitcolor\": \"white\"}, \"hoverlabel\": {\"align\": \"left\"}, \"hovermode\": \"closest\", \"mapbox\": {\"style\": \"light\"}, \"paper_bgcolor\": \"white\", \"plot_bgcolor\": \"#E5ECF6\", \"polar\": {\"angularaxis\": {\"gridcolor\": \"white\", \"linecolor\": \"white\", \"ticks\": \"\"}, \"bgcolor\": \"#E5ECF6\", \"radialaxis\": {\"gridcolor\": \"white\", \"linecolor\": \"white\", \"ticks\": \"\"}}, \"scene\": {\"xaxis\": {\"backgroundcolor\": \"#E5ECF6\", \"gridcolor\": \"white\", \"gridwidth\": 2, \"linecolor\": \"white\", \"showbackground\": true, \"ticks\": \"\", \"zerolinecolor\": \"white\"}, \"yaxis\": {\"backgroundcolor\": \"#E5ECF6\", \"gridcolor\": \"white\", \"gridwidth\": 2, \"linecolor\": \"white\", \"showbackground\": true, \"ticks\": \"\", \"zerolinecolor\": \"white\"}, \"zaxis\": {\"backgroundcolor\": \"#E5ECF6\", \"gridcolor\": \"white\", \"gridwidth\": 2, \"linecolor\": \"white\", \"showbackground\": true, \"ticks\": \"\", \"zerolinecolor\": \"white\"}}, \"shapedefaults\": {\"line\": {\"color\": \"#2a3f5f\"}}, \"ternary\": {\"aaxis\": {\"gridcolor\": \"white\", \"linecolor\": \"white\", \"ticks\": \"\"}, \"baxis\": {\"gridcolor\": \"white\", \"linecolor\": \"white\", \"ticks\": \"\"}, \"bgcolor\": \"#E5ECF6\", \"caxis\": {\"gridcolor\": \"white\", \"linecolor\": \"white\", \"ticks\": \"\"}}, \"title\": {\"x\": 0.05}, \"xaxis\": {\"automargin\": true, \"gridcolor\": \"white\", \"linecolor\": \"white\", \"ticks\": \"\", \"title\": {\"standoff\": 15}, \"zerolinecolor\": \"white\", \"zerolinewidth\": 2}, \"yaxis\": {\"automargin\": true, \"gridcolor\": \"white\", \"linecolor\": \"white\", \"ticks\": \"\", \"title\": {\"standoff\": 15}, \"zerolinecolor\": \"white\", \"zerolinewidth\": 2}}}, \"title\": {\"font\": {\"color\": \"#4D5663\"}}, \"xaxis\": {\"gridcolor\": \"#E1E5ED\", \"showgrid\": true, \"tickfont\": {\"color\": \"#4D5663\"}, \"title\": {\"font\": {\"color\": \"#4D5663\"}, \"text\": \"\"}, \"zerolinecolor\": \"#E1E5ED\"}, \"yaxis\": {\"gridcolor\": \"#E1E5ED\", \"showgrid\": true, \"tickfont\": {\"color\": \"#4D5663\"}, \"title\": {\"font\": {\"color\": \"#4D5663\"}, \"text\": \"\"}, \"zerolinecolor\": \"#E1E5ED\"}},\n",
       "                        {\"showLink\": true, \"linkText\": \"Export to plot.ly\", \"plotlyServerURL\": \"https://plot.ly\", \"responsive\": true}\n",
       "                    ).then(function(){\n",
       "                            \n",
       "var gd = document.getElementById('23a8b1e6-950c-470c-b61e-137271c4ecfc');\n",
       "var x = new MutationObserver(function (mutations, observer) {{\n",
       "        var display = window.getComputedStyle(gd).display;\n",
       "        if (!display || display === 'none') {{\n",
       "            console.log([gd, 'removed!']);\n",
       "            Plotly.purge(gd);\n",
       "            observer.disconnect();\n",
       "        }}\n",
       "}});\n",
       "\n",
       "// Listen for the removal of the full notebook cells\n",
       "var notebookContainer = gd.closest('#notebook-container');\n",
       "if (notebookContainer) {{\n",
       "    x.observe(notebookContainer, {childList: true});\n",
       "}}\n",
       "\n",
       "// Listen for the clearing of the current output cell\n",
       "var outputEl = gd.closest('.output');\n",
       "if (outputEl) {{\n",
       "    x.observe(outputEl, {childList: true});\n",
       "}}\n",
       "\n",
       "                        })\n",
       "                };\n",
       "                });\n",
       "            </script>\n",
       "        </div>"
      ]
     },
     "metadata": {},
     "output_type": "display_data"
    }
   ],
   "source": [
    "# PLOTLY - BARPLOT\n",
    "df2.iplot(kind='bar',x='Category',y='Values')"
   ]
  },
  {
   "cell_type": "code",
   "execution_count": null,
   "metadata": {},
   "outputs": [],
   "source": [
    "# PLOTLY - BARPLOT\n",
    "# As we know data is not always conventienly placed such as DF2 with\n",
    " # a category and values column but you can call GROUPY or an \n",
    "    #AGGRREGATE function on data to get in some form to use BARPLOT\n",
    "     # using IPLOT"
   ]
  },
  {
   "cell_type": "code",
   "execution_count": 44,
   "metadata": {},
   "outputs": [
    {
     "data": {
      "text/html": [
       "<div>\n",
       "<style scoped>\n",
       "    .dataframe tbody tr th:only-of-type {\n",
       "        vertical-align: middle;\n",
       "    }\n",
       "\n",
       "    .dataframe tbody tr th {\n",
       "        vertical-align: top;\n",
       "    }\n",
       "\n",
       "    .dataframe thead th {\n",
       "        text-align: right;\n",
       "    }\n",
       "</style>\n",
       "<table border=\"1\" class=\"dataframe\">\n",
       "  <thead>\n",
       "    <tr style=\"text-align: right;\">\n",
       "      <th></th>\n",
       "      <th>A</th>\n",
       "      <th>B</th>\n",
       "      <th>C</th>\n",
       "      <th>D</th>\n",
       "    </tr>\n",
       "  </thead>\n",
       "  <tbody>\n",
       "    <tr>\n",
       "      <td>0</td>\n",
       "      <td>-1.228210</td>\n",
       "      <td>-0.941099</td>\n",
       "      <td>0.142694</td>\n",
       "      <td>0.610649</td>\n",
       "    </tr>\n",
       "    <tr>\n",
       "      <td>1</td>\n",
       "      <td>0.673719</td>\n",
       "      <td>0.740371</td>\n",
       "      <td>0.674386</td>\n",
       "      <td>-0.558096</td>\n",
       "    </tr>\n",
       "    <tr>\n",
       "      <td>2</td>\n",
       "      <td>-0.635999</td>\n",
       "      <td>-0.368200</td>\n",
       "      <td>-1.915904</td>\n",
       "      <td>-0.403835</td>\n",
       "    </tr>\n",
       "    <tr>\n",
       "      <td>3</td>\n",
       "      <td>-0.232624</td>\n",
       "      <td>0.099160</td>\n",
       "      <td>0.127016</td>\n",
       "      <td>0.111251</td>\n",
       "    </tr>\n",
       "    <tr>\n",
       "      <td>4</td>\n",
       "      <td>-0.465268</td>\n",
       "      <td>-1.682578</td>\n",
       "      <td>0.563628</td>\n",
       "      <td>1.914680</td>\n",
       "    </tr>\n",
       "  </tbody>\n",
       "</table>\n",
       "</div>"
      ],
      "text/plain": [
       "          A         B         C         D\n",
       "0 -1.228210 -0.941099  0.142694  0.610649\n",
       "1  0.673719  0.740371  0.674386 -0.558096\n",
       "2 -0.635999 -0.368200 -1.915904 -0.403835\n",
       "3 -0.232624  0.099160  0.127016  0.111251\n",
       "4 -0.465268 -1.682578  0.563628  1.914680"
      ]
     },
     "execution_count": 44,
     "metadata": {},
     "output_type": "execute_result"
    }
   ],
   "source": [
    "# PLOTLY - BARPLOT\n",
    "df.head()\n",
    "# We wouldn't be able to use a BARPLOT with this  otherwise we would\n",
    " #just get a bunch of bars for every single datapoint"
   ]
  },
  {
   "cell_type": "code",
   "execution_count": 45,
   "metadata": {},
   "outputs": [
    {
     "data": {
      "application/vnd.plotly.v1+json": {
       "config": {
        "linkText": "Export to plot.ly",
        "plotlyServerURL": "https://plot.ly",
        "showLink": true
       },
       "data": [
        {
         "marker": {
          "color": "rgba(255, 153, 51, 0.6)",
          "line": {
           "color": "rgba(255, 153, 51, 1.0)",
           "width": 1
          }
         },
         "name": "A",
         "orientation": "v",
         "text": "",
         "type": "bar",
         "x": [
          0,
          1,
          2,
          3,
          4,
          5,
          6,
          7,
          8,
          9,
          10,
          11,
          12,
          13,
          14,
          15,
          16,
          17,
          18,
          19,
          20,
          21,
          22,
          23,
          24,
          25,
          26,
          27,
          28,
          29,
          30,
          31,
          32,
          33,
          34,
          35,
          36,
          37,
          38,
          39,
          40,
          41,
          42,
          43,
          44,
          45,
          46,
          47,
          48,
          49,
          50,
          51,
          52,
          53,
          54,
          55,
          56,
          57,
          58,
          59,
          60,
          61,
          62,
          63,
          64,
          65,
          66,
          67,
          68,
          69,
          70,
          71,
          72,
          73,
          74,
          75,
          76,
          77,
          78,
          79,
          80,
          81,
          82,
          83,
          84,
          85,
          86,
          87,
          88,
          89,
          90,
          91,
          92,
          93,
          94,
          95,
          96,
          97,
          98,
          99
         ],
         "y": [
          -1.228210303840886,
          0.673718637442548,
          -0.6359991664128826,
          -0.23262448905478936,
          -0.4652684818242084,
          0.09112090769390506,
          1.1202307162460101,
          -0.913002197072858,
          -1.7866033041530176,
          -1.1819664154244243,
          -2.2518992211992668,
          1.6419723454475943,
          -0.5049024421225882,
          -0.8316433290825647,
          -1.9026947938151906,
          0.9529643236956478,
          0.8424279826802521,
          0.6496949082875334,
          -1.2710369557178685,
          0.6744304243539521,
          0.27031806004342473,
          -0.6151995848966308,
          1.286999400136683,
          2.754225637025308,
          -0.8685563696172357,
          -0.37270596578089227,
          0.21656933195695277,
          0.3299593481685292,
          -0.38976956152955244,
          0.7899141331885607,
          -0.15232135255386411,
          -0.3278732576519635,
          -0.1714780618959102,
          0.24585193839195518,
          -0.520103537564345,
          0.9423867963175877,
          0.6998506662177038,
          2.9565000032387485,
          -0.16771290225752722,
          -0.8565644599372393,
          1.9093025443891725,
          -0.6065596660356215,
          1.5561398386580072,
          -1.6604273958353217,
          0.29570532237337854,
          -0.30655930240007645,
          0.5629765465472392,
          -1.1157754639387614,
          -0.22955196345192624,
          -2.0050583424582227,
          0.11713750696332578,
          2.8267139655873303,
          0.46332154157231764,
          0.8913848873219073,
          -0.27625761399056287,
          0.17061072015134288,
          0.01247361244100639,
          -1.1868120197940502,
          -0.1768842533262507,
          0.3980979509622024,
          1.7637268334097294,
          0.9632004046301621,
          -0.174102504451404,
          -1.02063042523494,
          1.678577707560514,
          2.061538374722697,
          -0.01891713764992838,
          -0.34503079589422914,
          -0.8918084865031932,
          -0.7260269927380488,
          0.49049384129362483,
          -1.7200742116968653,
          -0.7129415168181875,
          -0.44188757928112904,
          3.5061225729394834,
          -0.48365529838350285,
          0.09783218038002926,
          1.4577512305513558,
          0.036503672104812285,
          1.6157315712246738,
          0.34311746110657376,
          0.531373414113734,
          -0.7186086927412191,
          1.956762618943234,
          -0.06307785143259939,
          0.18422454988996845,
          -0.8828271943787102,
          -0.7819307241118907,
          -0.4712984396735526,
          0.8208067834200556,
          -0.9535656763785126,
          0.6172811281139772,
          0.38806297663784844,
          0.21969028658437853,
          0.5142512913421163,
          0.3040997986323465,
          0.28940893588859046,
          0.39912893114064507,
          0.8522015383297381,
          0.766249213069548
         ]
        },
        {
         "marker": {
          "color": "rgba(55, 128, 191, 0.6)",
          "line": {
           "color": "rgba(55, 128, 191, 1.0)",
           "width": 1
          }
         },
         "name": "B",
         "orientation": "v",
         "text": "",
         "type": "bar",
         "x": [
          0,
          1,
          2,
          3,
          4,
          5,
          6,
          7,
          8,
          9,
          10,
          11,
          12,
          13,
          14,
          15,
          16,
          17,
          18,
          19,
          20,
          21,
          22,
          23,
          24,
          25,
          26,
          27,
          28,
          29,
          30,
          31,
          32,
          33,
          34,
          35,
          36,
          37,
          38,
          39,
          40,
          41,
          42,
          43,
          44,
          45,
          46,
          47,
          48,
          49,
          50,
          51,
          52,
          53,
          54,
          55,
          56,
          57,
          58,
          59,
          60,
          61,
          62,
          63,
          64,
          65,
          66,
          67,
          68,
          69,
          70,
          71,
          72,
          73,
          74,
          75,
          76,
          77,
          78,
          79,
          80,
          81,
          82,
          83,
          84,
          85,
          86,
          87,
          88,
          89,
          90,
          91,
          92,
          93,
          94,
          95,
          96,
          97,
          98,
          99
         ],
         "y": [
          -0.9410992898133941,
          0.7403709673795416,
          -0.3681996600834796,
          0.0991597200760194,
          -1.6825783826168605,
          -0.6208141494578543,
          -1.2271159557122688,
          -0.8033660807642069,
          0.8468097288813591,
          0.1722880167006293,
          -0.6637349467662795,
          -1.1017957408634886,
          0.78893110183799,
          0.5052234648355544,
          -0.5183463996216997,
          -0.13014575030713596,
          -2.1173663052566436,
          1.0340391919026775,
          0.4758016414816595,
          1.1751249928768135,
          -0.5777840131627777,
          0.35166835742458624,
          0.4250410076349158,
          0.12956422399669026,
          -0.40001911165167875,
          0.49433210165665,
          0.9238971005402511,
          -0.7022088325329872,
          -0.6250617284042304,
          0.823798227192268,
          0.6736158408541878,
          -0.3471483746325953,
          -1.3044961423954966,
          1.2676370274998308,
          -1.3142364799225965,
          2.650935361804906,
          0.9822129709541314,
          1.9357227006820465,
          0.3703095980993604,
          -0.5530894722283664,
          -1.0407802242731543,
          -0.24484815231948331,
          1.7030276075455875,
          0.4806778126836462,
          0.6063504773432427,
          0.19814079912786253,
          -0.28845578570720243,
          0.336187104999158,
          0.8742807414259941,
          -0.7787074869262802,
          0.5468775255294299,
          -0.723845204414693,
          0.008127763819823951,
          0.34186476255512704,
          0.2639769485027573,
          -1.8208409662925802,
          0.24074451187422571,
          0.5562452782986852,
          -0.5824077840268167,
          0.17050183300365282,
          0.42085884285977426,
          -0.8692661641636048,
          -0.9723993347465054,
          0.5395347413629555,
          -1.144824452521687,
          -1.5581534101688002,
          -1.6729339246680435,
          -2.2056076136021434,
          1.103355797338571,
          0.7678907038054802,
          -0.5151607726764834,
          -0.6475275993757056,
          -1.0082785648677384,
          1.5260113519881962,
          -0.0076054176697331385,
          -0.8379869596906585,
          -0.8532996052463981,
          0.520857662239727,
          -1.1507840593174075,
          0.13138500423423757,
          1.766428276090597,
          0.6509203417858905,
          1.290169264557484,
          0.461245786964094,
          0.381986938073141,
          0.7753138167975542,
          0.8672473904523145,
          0.18973725833913044,
          0.040801741645153794,
          -1.391900776067866,
          -0.6712369302438657,
          -0.04660937009967414,
          -1.1372146461701285,
          0.370270983375189,
          0.5796009309658001,
          -1.4386684202941982,
          -1.319559175894388,
          -0.5188624577046717,
          -1.050562091557685,
          1.988326116952474
         ]
        },
        {
         "marker": {
          "color": "rgba(50, 171, 96, 0.6)",
          "line": {
           "color": "rgba(50, 171, 96, 1.0)",
           "width": 1
          }
         },
         "name": "C",
         "orientation": "v",
         "text": "",
         "type": "bar",
         "x": [
          0,
          1,
          2,
          3,
          4,
          5,
          6,
          7,
          8,
          9,
          10,
          11,
          12,
          13,
          14,
          15,
          16,
          17,
          18,
          19,
          20,
          21,
          22,
          23,
          24,
          25,
          26,
          27,
          28,
          29,
          30,
          31,
          32,
          33,
          34,
          35,
          36,
          37,
          38,
          39,
          40,
          41,
          42,
          43,
          44,
          45,
          46,
          47,
          48,
          49,
          50,
          51,
          52,
          53,
          54,
          55,
          56,
          57,
          58,
          59,
          60,
          61,
          62,
          63,
          64,
          65,
          66,
          67,
          68,
          69,
          70,
          71,
          72,
          73,
          74,
          75,
          76,
          77,
          78,
          79,
          80,
          81,
          82,
          83,
          84,
          85,
          86,
          87,
          88,
          89,
          90,
          91,
          92,
          93,
          94,
          95,
          96,
          97,
          98,
          99
         ],
         "y": [
          0.1426936499011667,
          0.6743863824468715,
          -1.9159042047040724,
          0.12701611366523768,
          0.5636280465689022,
          0.2653262616821967,
          -0.5830900218537203,
          1.6268944121439155,
          0.032134459457989054,
          0.2837070672739637,
          -0.908341131234595,
          -0.2912868176976957,
          -0.5596115261134985,
          -0.6698547775985916,
          -0.06644066405389445,
          -0.5635975064256188,
          -0.03413687986916309,
          -0.19300147898416536,
          0.3872050642817624,
          -2.1165183184615546,
          -0.6976749316032758,
          1.5783006573276834,
          -1.0984317833839843,
          0.1935586317598326,
          -2.0414514060862277,
          0.8273165865437476,
          -0.5334902768575471,
          -0.6596195709663755,
          -0.549215782627158,
          -0.5465157483350779,
          -2.2291257904849964,
          -0.8924230840343537,
          0.5864182297589924,
          -0.8774228368518772,
          1.2637792405670139,
          -1.3408252236678477,
          -0.6005444176819201,
          0.6910209001315113,
          0.030946176835107673,
          0.8317294046592685,
          -0.24226793477545702,
          -1.0751195048330666,
          1.6790089121797258,
          0.5299931706931623,
          0.9065907842791338,
          -0.9544899579816438,
          1.2784401587767251,
          0.15403433605819544,
          0.611993290038772,
          -0.7559634279957641,
          0.08819990722390152,
          -1.056055039049362,
          2.0027716806468785,
          -1.9615720122189535,
          -0.17513402898714328,
          -0.4798872243484583,
          -2.4508266457656,
          -0.33884412615446186,
          -2.019978178352013,
          -0.7290974754166974,
          -1.347793986082597,
          2.1398770557429487,
          0.16040455572132187,
          0.06465038310874904,
          0.015294630368586389,
          -1.0890873934955765,
          1.4409058291864612,
          -1.371518717484521,
          1.3071811967033915,
          1.3904478393949753,
          -2.0037227249117553,
          0.11510825724336189,
          -0.29718611398512745,
          -0.5055331245752551,
          0.6448185869979838,
          0.1491150879202775,
          0.9985330501748927,
          1.0014419886266486,
          1.865102464507751,
          0.2286365636433252,
          -0.03550451414647598,
          -2.718717212523047,
          -0.9240701341744608,
          -0.2888760375290752,
          0.5207417218309627,
          1.1687872614974864,
          0.2565814315959523,
          -0.18066310467005145,
          0.06308409801663467,
          -0.7123126172355311,
          -1.0368383000789096,
          0.27498166815858444,
          -1.140923803902282,
          -1.525816700957253,
          0.21746655202661985,
          0.052356171907522044,
          -0.49939185897760346,
          0.13609632242732642,
          -0.28894964323218236,
          0.08729029057194035
         ]
        },
        {
         "marker": {
          "color": "rgba(128, 0, 128, 0.6)",
          "line": {
           "color": "rgba(128, 0, 128, 1.0)",
           "width": 1
          }
         },
         "name": "D",
         "orientation": "v",
         "text": "",
         "type": "bar",
         "x": [
          0,
          1,
          2,
          3,
          4,
          5,
          6,
          7,
          8,
          9,
          10,
          11,
          12,
          13,
          14,
          15,
          16,
          17,
          18,
          19,
          20,
          21,
          22,
          23,
          24,
          25,
          26,
          27,
          28,
          29,
          30,
          31,
          32,
          33,
          34,
          35,
          36,
          37,
          38,
          39,
          40,
          41,
          42,
          43,
          44,
          45,
          46,
          47,
          48,
          49,
          50,
          51,
          52,
          53,
          54,
          55,
          56,
          57,
          58,
          59,
          60,
          61,
          62,
          63,
          64,
          65,
          66,
          67,
          68,
          69,
          70,
          71,
          72,
          73,
          74,
          75,
          76,
          77,
          78,
          79,
          80,
          81,
          82,
          83,
          84,
          85,
          86,
          87,
          88,
          89,
          90,
          91,
          92,
          93,
          94,
          95,
          96,
          97,
          98,
          99
         ],
         "y": [
          0.6106487369671837,
          -0.5580959391359147,
          -0.40383476919477296,
          0.11125072387168945,
          1.914679797928206,
          -0.5794917293571655,
          0.2802186585460156,
          -0.48119536467688356,
          1.549222235085247,
          -0.761040886666783,
          -0.2042886730218136,
          -0.14071286229645755,
          -0.08572931138786967,
          -0.4342450052527491,
          0.8159473114893341,
          1.5181456675065004,
          -0.2591638049954156,
          1.4637550557367995,
          -0.8259681604858221,
          -0.878102167941134,
          -2.1062948243645536,
          -0.3254887503171195,
          -0.07034230093754808,
          -0.44464327812496063,
          1.961675856334788,
          0.24629335711581235,
          0.09799551611645173,
          0.19159035994880308,
          -1.0156074997556654,
          1.2806421125844174,
          0.1304788681345427,
          0.1206976944051949,
          -0.48836243352088493,
          2.802032607444495,
          0.9992093115241782,
          -0.7896734382539464,
          0.42162329356356454,
          0.014579143845804126,
          -0.4652716694577242,
          0.3454690258598138,
          0.6454479664922625,
          0.5927360716174458,
          -1.1091587246321357,
          -0.3763966436874311,
          -0.4723404843015961,
          1.6296431854939475,
          -1.2247809594359418,
          -0.9550425500787262,
          0.2789136570555125,
          -0.5729846821735802,
          -0.026253713718288375,
          0.725066652097282,
          0.6902230007349073,
          0.9811932312461932,
          1.9688012226230052,
          -0.13927462217851405,
          -0.5123803245556551,
          0.7056350323843916,
          -0.5720206839257674,
          -2.0999560084539954,
          0.28156143554830015,
          1.0747977797889474,
          -1.158658136514488,
          0.529537528312165,
          -0.11214529017336296,
          -0.4160977828350819,
          -1.0674672412849793,
          -0.2449859194432744,
          -0.6128110114858487,
          1.9448518050754133,
          -1.783138151347126,
          -0.6752860083341697,
          0.7022789401239837,
          -1.835524755070365,
          -0.313253458096198,
          -0.45099788556239573,
          -0.28857769772700764,
          -0.1892423501615623,
          -0.24688173949758832,
          0.13424524754480605,
          0.05797104701583112,
          0.09660484893958388,
          -1.3095879709172507,
          0.24754957486710374,
          1.9569210065511524,
          2.0954909828936454,
          2.2068872058371127,
          -1.8935847994034554,
          -1.9658707145920777,
          -1.0564378775196899,
          1.4874017864180422,
          0.17280821165585758,
          0.37644056131981074,
          0.2340871273662667,
          -1.0632261061039,
          0.5540872350959097,
          -1.007909624391688,
          0.6562083549945321,
          -0.08960169518516971,
          0.11316995519037891
         ]
        }
       ],
       "layout": {
        "legend": {
         "bgcolor": "#F5F6F9",
         "font": {
          "color": "#4D5663"
         }
        },
        "paper_bgcolor": "#F5F6F9",
        "plot_bgcolor": "#F5F6F9",
        "template": {
         "data": {
          "bar": [
           {
            "error_x": {
             "color": "#2a3f5f"
            },
            "error_y": {
             "color": "#2a3f5f"
            },
            "marker": {
             "line": {
              "color": "#E5ECF6",
              "width": 0.5
             }
            },
            "type": "bar"
           }
          ],
          "barpolar": [
           {
            "marker": {
             "line": {
              "color": "#E5ECF6",
              "width": 0.5
             }
            },
            "type": "barpolar"
           }
          ],
          "carpet": [
           {
            "aaxis": {
             "endlinecolor": "#2a3f5f",
             "gridcolor": "white",
             "linecolor": "white",
             "minorgridcolor": "white",
             "startlinecolor": "#2a3f5f"
            },
            "baxis": {
             "endlinecolor": "#2a3f5f",
             "gridcolor": "white",
             "linecolor": "white",
             "minorgridcolor": "white",
             "startlinecolor": "#2a3f5f"
            },
            "type": "carpet"
           }
          ],
          "choropleth": [
           {
            "colorbar": {
             "outlinewidth": 0,
             "ticks": ""
            },
            "type": "choropleth"
           }
          ],
          "contour": [
           {
            "colorbar": {
             "outlinewidth": 0,
             "ticks": ""
            },
            "colorscale": [
             [
              0,
              "#0d0887"
             ],
             [
              0.1111111111111111,
              "#46039f"
             ],
             [
              0.2222222222222222,
              "#7201a8"
             ],
             [
              0.3333333333333333,
              "#9c179e"
             ],
             [
              0.4444444444444444,
              "#bd3786"
             ],
             [
              0.5555555555555556,
              "#d8576b"
             ],
             [
              0.6666666666666666,
              "#ed7953"
             ],
             [
              0.7777777777777778,
              "#fb9f3a"
             ],
             [
              0.8888888888888888,
              "#fdca26"
             ],
             [
              1,
              "#f0f921"
             ]
            ],
            "type": "contour"
           }
          ],
          "contourcarpet": [
           {
            "colorbar": {
             "outlinewidth": 0,
             "ticks": ""
            },
            "type": "contourcarpet"
           }
          ],
          "heatmap": [
           {
            "colorbar": {
             "outlinewidth": 0,
             "ticks": ""
            },
            "colorscale": [
             [
              0,
              "#0d0887"
             ],
             [
              0.1111111111111111,
              "#46039f"
             ],
             [
              0.2222222222222222,
              "#7201a8"
             ],
             [
              0.3333333333333333,
              "#9c179e"
             ],
             [
              0.4444444444444444,
              "#bd3786"
             ],
             [
              0.5555555555555556,
              "#d8576b"
             ],
             [
              0.6666666666666666,
              "#ed7953"
             ],
             [
              0.7777777777777778,
              "#fb9f3a"
             ],
             [
              0.8888888888888888,
              "#fdca26"
             ],
             [
              1,
              "#f0f921"
             ]
            ],
            "type": "heatmap"
           }
          ],
          "heatmapgl": [
           {
            "colorbar": {
             "outlinewidth": 0,
             "ticks": ""
            },
            "colorscale": [
             [
              0,
              "#0d0887"
             ],
             [
              0.1111111111111111,
              "#46039f"
             ],
             [
              0.2222222222222222,
              "#7201a8"
             ],
             [
              0.3333333333333333,
              "#9c179e"
             ],
             [
              0.4444444444444444,
              "#bd3786"
             ],
             [
              0.5555555555555556,
              "#d8576b"
             ],
             [
              0.6666666666666666,
              "#ed7953"
             ],
             [
              0.7777777777777778,
              "#fb9f3a"
             ],
             [
              0.8888888888888888,
              "#fdca26"
             ],
             [
              1,
              "#f0f921"
             ]
            ],
            "type": "heatmapgl"
           }
          ],
          "histogram": [
           {
            "marker": {
             "colorbar": {
              "outlinewidth": 0,
              "ticks": ""
             }
            },
            "type": "histogram"
           }
          ],
          "histogram2d": [
           {
            "colorbar": {
             "outlinewidth": 0,
             "ticks": ""
            },
            "colorscale": [
             [
              0,
              "#0d0887"
             ],
             [
              0.1111111111111111,
              "#46039f"
             ],
             [
              0.2222222222222222,
              "#7201a8"
             ],
             [
              0.3333333333333333,
              "#9c179e"
             ],
             [
              0.4444444444444444,
              "#bd3786"
             ],
             [
              0.5555555555555556,
              "#d8576b"
             ],
             [
              0.6666666666666666,
              "#ed7953"
             ],
             [
              0.7777777777777778,
              "#fb9f3a"
             ],
             [
              0.8888888888888888,
              "#fdca26"
             ],
             [
              1,
              "#f0f921"
             ]
            ],
            "type": "histogram2d"
           }
          ],
          "histogram2dcontour": [
           {
            "colorbar": {
             "outlinewidth": 0,
             "ticks": ""
            },
            "colorscale": [
             [
              0,
              "#0d0887"
             ],
             [
              0.1111111111111111,
              "#46039f"
             ],
             [
              0.2222222222222222,
              "#7201a8"
             ],
             [
              0.3333333333333333,
              "#9c179e"
             ],
             [
              0.4444444444444444,
              "#bd3786"
             ],
             [
              0.5555555555555556,
              "#d8576b"
             ],
             [
              0.6666666666666666,
              "#ed7953"
             ],
             [
              0.7777777777777778,
              "#fb9f3a"
             ],
             [
              0.8888888888888888,
              "#fdca26"
             ],
             [
              1,
              "#f0f921"
             ]
            ],
            "type": "histogram2dcontour"
           }
          ],
          "mesh3d": [
           {
            "colorbar": {
             "outlinewidth": 0,
             "ticks": ""
            },
            "type": "mesh3d"
           }
          ],
          "parcoords": [
           {
            "line": {
             "colorbar": {
              "outlinewidth": 0,
              "ticks": ""
             }
            },
            "type": "parcoords"
           }
          ],
          "pie": [
           {
            "automargin": true,
            "type": "pie"
           }
          ],
          "scatter": [
           {
            "marker": {
             "colorbar": {
              "outlinewidth": 0,
              "ticks": ""
             }
            },
            "type": "scatter"
           }
          ],
          "scatter3d": [
           {
            "line": {
             "colorbar": {
              "outlinewidth": 0,
              "ticks": ""
             }
            },
            "marker": {
             "colorbar": {
              "outlinewidth": 0,
              "ticks": ""
             }
            },
            "type": "scatter3d"
           }
          ],
          "scattercarpet": [
           {
            "marker": {
             "colorbar": {
              "outlinewidth": 0,
              "ticks": ""
             }
            },
            "type": "scattercarpet"
           }
          ],
          "scattergeo": [
           {
            "marker": {
             "colorbar": {
              "outlinewidth": 0,
              "ticks": ""
             }
            },
            "type": "scattergeo"
           }
          ],
          "scattergl": [
           {
            "marker": {
             "colorbar": {
              "outlinewidth": 0,
              "ticks": ""
             }
            },
            "type": "scattergl"
           }
          ],
          "scattermapbox": [
           {
            "marker": {
             "colorbar": {
              "outlinewidth": 0,
              "ticks": ""
             }
            },
            "type": "scattermapbox"
           }
          ],
          "scatterpolar": [
           {
            "marker": {
             "colorbar": {
              "outlinewidth": 0,
              "ticks": ""
             }
            },
            "type": "scatterpolar"
           }
          ],
          "scatterpolargl": [
           {
            "marker": {
             "colorbar": {
              "outlinewidth": 0,
              "ticks": ""
             }
            },
            "type": "scatterpolargl"
           }
          ],
          "scatterternary": [
           {
            "marker": {
             "colorbar": {
              "outlinewidth": 0,
              "ticks": ""
             }
            },
            "type": "scatterternary"
           }
          ],
          "surface": [
           {
            "colorbar": {
             "outlinewidth": 0,
             "ticks": ""
            },
            "colorscale": [
             [
              0,
              "#0d0887"
             ],
             [
              0.1111111111111111,
              "#46039f"
             ],
             [
              0.2222222222222222,
              "#7201a8"
             ],
             [
              0.3333333333333333,
              "#9c179e"
             ],
             [
              0.4444444444444444,
              "#bd3786"
             ],
             [
              0.5555555555555556,
              "#d8576b"
             ],
             [
              0.6666666666666666,
              "#ed7953"
             ],
             [
              0.7777777777777778,
              "#fb9f3a"
             ],
             [
              0.8888888888888888,
              "#fdca26"
             ],
             [
              1,
              "#f0f921"
             ]
            ],
            "type": "surface"
           }
          ],
          "table": [
           {
            "cells": {
             "fill": {
              "color": "#EBF0F8"
             },
             "line": {
              "color": "white"
             }
            },
            "header": {
             "fill": {
              "color": "#C8D4E3"
             },
             "line": {
              "color": "white"
             }
            },
            "type": "table"
           }
          ]
         },
         "layout": {
          "annotationdefaults": {
           "arrowcolor": "#2a3f5f",
           "arrowhead": 0,
           "arrowwidth": 1
          },
          "coloraxis": {
           "colorbar": {
            "outlinewidth": 0,
            "ticks": ""
           }
          },
          "colorscale": {
           "diverging": [
            [
             0,
             "#8e0152"
            ],
            [
             0.1,
             "#c51b7d"
            ],
            [
             0.2,
             "#de77ae"
            ],
            [
             0.3,
             "#f1b6da"
            ],
            [
             0.4,
             "#fde0ef"
            ],
            [
             0.5,
             "#f7f7f7"
            ],
            [
             0.6,
             "#e6f5d0"
            ],
            [
             0.7,
             "#b8e186"
            ],
            [
             0.8,
             "#7fbc41"
            ],
            [
             0.9,
             "#4d9221"
            ],
            [
             1,
             "#276419"
            ]
           ],
           "sequential": [
            [
             0,
             "#0d0887"
            ],
            [
             0.1111111111111111,
             "#46039f"
            ],
            [
             0.2222222222222222,
             "#7201a8"
            ],
            [
             0.3333333333333333,
             "#9c179e"
            ],
            [
             0.4444444444444444,
             "#bd3786"
            ],
            [
             0.5555555555555556,
             "#d8576b"
            ],
            [
             0.6666666666666666,
             "#ed7953"
            ],
            [
             0.7777777777777778,
             "#fb9f3a"
            ],
            [
             0.8888888888888888,
             "#fdca26"
            ],
            [
             1,
             "#f0f921"
            ]
           ],
           "sequentialminus": [
            [
             0,
             "#0d0887"
            ],
            [
             0.1111111111111111,
             "#46039f"
            ],
            [
             0.2222222222222222,
             "#7201a8"
            ],
            [
             0.3333333333333333,
             "#9c179e"
            ],
            [
             0.4444444444444444,
             "#bd3786"
            ],
            [
             0.5555555555555556,
             "#d8576b"
            ],
            [
             0.6666666666666666,
             "#ed7953"
            ],
            [
             0.7777777777777778,
             "#fb9f3a"
            ],
            [
             0.8888888888888888,
             "#fdca26"
            ],
            [
             1,
             "#f0f921"
            ]
           ]
          },
          "colorway": [
           "#636efa",
           "#EF553B",
           "#00cc96",
           "#ab63fa",
           "#FFA15A",
           "#19d3f3",
           "#FF6692",
           "#B6E880",
           "#FF97FF",
           "#FECB52"
          ],
          "font": {
           "color": "#2a3f5f"
          },
          "geo": {
           "bgcolor": "white",
           "lakecolor": "white",
           "landcolor": "#E5ECF6",
           "showlakes": true,
           "showland": true,
           "subunitcolor": "white"
          },
          "hoverlabel": {
           "align": "left"
          },
          "hovermode": "closest",
          "mapbox": {
           "style": "light"
          },
          "paper_bgcolor": "white",
          "plot_bgcolor": "#E5ECF6",
          "polar": {
           "angularaxis": {
            "gridcolor": "white",
            "linecolor": "white",
            "ticks": ""
           },
           "bgcolor": "#E5ECF6",
           "radialaxis": {
            "gridcolor": "white",
            "linecolor": "white",
            "ticks": ""
           }
          },
          "scene": {
           "xaxis": {
            "backgroundcolor": "#E5ECF6",
            "gridcolor": "white",
            "gridwidth": 2,
            "linecolor": "white",
            "showbackground": true,
            "ticks": "",
            "zerolinecolor": "white"
           },
           "yaxis": {
            "backgroundcolor": "#E5ECF6",
            "gridcolor": "white",
            "gridwidth": 2,
            "linecolor": "white",
            "showbackground": true,
            "ticks": "",
            "zerolinecolor": "white"
           },
           "zaxis": {
            "backgroundcolor": "#E5ECF6",
            "gridcolor": "white",
            "gridwidth": 2,
            "linecolor": "white",
            "showbackground": true,
            "ticks": "",
            "zerolinecolor": "white"
           }
          },
          "shapedefaults": {
           "line": {
            "color": "#2a3f5f"
           }
          },
          "ternary": {
           "aaxis": {
            "gridcolor": "white",
            "linecolor": "white",
            "ticks": ""
           },
           "baxis": {
            "gridcolor": "white",
            "linecolor": "white",
            "ticks": ""
           },
           "bgcolor": "#E5ECF6",
           "caxis": {
            "gridcolor": "white",
            "linecolor": "white",
            "ticks": ""
           }
          },
          "title": {
           "x": 0.05
          },
          "xaxis": {
           "automargin": true,
           "gridcolor": "white",
           "linecolor": "white",
           "ticks": "",
           "title": {
            "standoff": 15
           },
           "zerolinecolor": "white",
           "zerolinewidth": 2
          },
          "yaxis": {
           "automargin": true,
           "gridcolor": "white",
           "linecolor": "white",
           "ticks": "",
           "title": {
            "standoff": 15
           },
           "zerolinecolor": "white",
           "zerolinewidth": 2
          }
         }
        },
        "title": {
         "font": {
          "color": "#4D5663"
         }
        },
        "xaxis": {
         "gridcolor": "#E1E5ED",
         "showgrid": true,
         "tickfont": {
          "color": "#4D5663"
         },
         "title": {
          "font": {
           "color": "#4D5663"
          },
          "text": ""
         },
         "zerolinecolor": "#E1E5ED"
        },
        "yaxis": {
         "gridcolor": "#E1E5ED",
         "showgrid": true,
         "tickfont": {
          "color": "#4D5663"
         },
         "title": {
          "font": {
           "color": "#4D5663"
          },
          "text": ""
         },
         "zerolinecolor": "#E1E5ED"
        }
       }
      },
      "text/html": [
       "<div>\n",
       "        \n",
       "        \n",
       "            <div id=\"97de518a-f8d2-4496-a793-d3da5b5b8a36\" class=\"plotly-graph-div\" style=\"height:525px; width:100%;\"></div>\n",
       "            <script type=\"text/javascript\">\n",
       "                require([\"plotly\"], function(Plotly) {\n",
       "                    window.PLOTLYENV=window.PLOTLYENV || {};\n",
       "                    window.PLOTLYENV.BASE_URL='https://plot.ly';\n",
       "                    \n",
       "                if (document.getElementById(\"97de518a-f8d2-4496-a793-d3da5b5b8a36\")) {\n",
       "                    Plotly.newPlot(\n",
       "                        '97de518a-f8d2-4496-a793-d3da5b5b8a36',\n",
       "                        [{\"marker\": {\"color\": \"rgba(255, 153, 51, 0.6)\", \"line\": {\"color\": \"rgba(255, 153, 51, 1.0)\", \"width\": 1}}, \"name\": \"A\", \"orientation\": \"v\", \"text\": \"\", \"type\": \"bar\", \"x\": [0, 1, 2, 3, 4, 5, 6, 7, 8, 9, 10, 11, 12, 13, 14, 15, 16, 17, 18, 19, 20, 21, 22, 23, 24, 25, 26, 27, 28, 29, 30, 31, 32, 33, 34, 35, 36, 37, 38, 39, 40, 41, 42, 43, 44, 45, 46, 47, 48, 49, 50, 51, 52, 53, 54, 55, 56, 57, 58, 59, 60, 61, 62, 63, 64, 65, 66, 67, 68, 69, 70, 71, 72, 73, 74, 75, 76, 77, 78, 79, 80, 81, 82, 83, 84, 85, 86, 87, 88, 89, 90, 91, 92, 93, 94, 95, 96, 97, 98, 99], \"y\": [-1.228210303840886, 0.673718637442548, -0.6359991664128826, -0.23262448905478936, -0.4652684818242084, 0.09112090769390506, 1.1202307162460101, -0.913002197072858, -1.7866033041530176, -1.1819664154244243, -2.2518992211992668, 1.6419723454475943, -0.5049024421225882, -0.8316433290825647, -1.9026947938151906, 0.9529643236956478, 0.8424279826802521, 0.6496949082875334, -1.2710369557178685, 0.6744304243539521, 0.27031806004342473, -0.6151995848966308, 1.286999400136683, 2.754225637025308, -0.8685563696172357, -0.37270596578089227, 0.21656933195695277, 0.3299593481685292, -0.38976956152955244, 0.7899141331885607, -0.15232135255386411, -0.3278732576519635, -0.1714780618959102, 0.24585193839195518, -0.520103537564345, 0.9423867963175877, 0.6998506662177038, 2.9565000032387485, -0.16771290225752722, -0.8565644599372393, 1.9093025443891725, -0.6065596660356215, 1.5561398386580072, -1.6604273958353217, 0.29570532237337854, -0.30655930240007645, 0.5629765465472392, -1.1157754639387614, -0.22955196345192624, -2.0050583424582227, 0.11713750696332578, 2.8267139655873303, 0.46332154157231764, 0.8913848873219073, -0.27625761399056287, 0.17061072015134288, 0.01247361244100639, -1.1868120197940502, -0.1768842533262507, 0.3980979509622024, 1.7637268334097294, 0.9632004046301621, -0.174102504451404, -1.02063042523494, 1.678577707560514, 2.061538374722697, -0.01891713764992838, -0.34503079589422914, -0.8918084865031932, -0.7260269927380488, 0.49049384129362483, -1.7200742116968653, -0.7129415168181875, -0.44188757928112904, 3.5061225729394834, -0.48365529838350285, 0.09783218038002926, 1.4577512305513558, 0.036503672104812285, 1.6157315712246738, 0.34311746110657376, 0.531373414113734, -0.7186086927412191, 1.956762618943234, -0.06307785143259939, 0.18422454988996845, -0.8828271943787102, -0.7819307241118907, -0.4712984396735526, 0.8208067834200556, -0.9535656763785126, 0.6172811281139772, 0.38806297663784844, 0.21969028658437853, 0.5142512913421163, 0.3040997986323465, 0.28940893588859046, 0.39912893114064507, 0.8522015383297381, 0.766249213069548]}, {\"marker\": {\"color\": \"rgba(55, 128, 191, 0.6)\", \"line\": {\"color\": \"rgba(55, 128, 191, 1.0)\", \"width\": 1}}, \"name\": \"B\", \"orientation\": \"v\", \"text\": \"\", \"type\": \"bar\", \"x\": [0, 1, 2, 3, 4, 5, 6, 7, 8, 9, 10, 11, 12, 13, 14, 15, 16, 17, 18, 19, 20, 21, 22, 23, 24, 25, 26, 27, 28, 29, 30, 31, 32, 33, 34, 35, 36, 37, 38, 39, 40, 41, 42, 43, 44, 45, 46, 47, 48, 49, 50, 51, 52, 53, 54, 55, 56, 57, 58, 59, 60, 61, 62, 63, 64, 65, 66, 67, 68, 69, 70, 71, 72, 73, 74, 75, 76, 77, 78, 79, 80, 81, 82, 83, 84, 85, 86, 87, 88, 89, 90, 91, 92, 93, 94, 95, 96, 97, 98, 99], \"y\": [-0.9410992898133941, 0.7403709673795416, -0.3681996600834796, 0.0991597200760194, -1.6825783826168605, -0.6208141494578543, -1.2271159557122688, -0.8033660807642069, 0.8468097288813591, 0.1722880167006293, -0.6637349467662795, -1.1017957408634886, 0.78893110183799, 0.5052234648355544, -0.5183463996216997, -0.13014575030713596, -2.1173663052566436, 1.0340391919026775, 0.4758016414816595, 1.1751249928768135, -0.5777840131627777, 0.35166835742458624, 0.4250410076349158, 0.12956422399669026, -0.40001911165167875, 0.49433210165665, 0.9238971005402511, -0.7022088325329872, -0.6250617284042304, 0.823798227192268, 0.6736158408541878, -0.3471483746325953, -1.3044961423954966, 1.2676370274998308, -1.3142364799225965, 2.650935361804906, 0.9822129709541314, 1.9357227006820465, 0.3703095980993604, -0.5530894722283664, -1.0407802242731543, -0.24484815231948331, 1.7030276075455875, 0.4806778126836462, 0.6063504773432427, 0.19814079912786253, -0.28845578570720243, 0.336187104999158, 0.8742807414259941, -0.7787074869262802, 0.5468775255294299, -0.723845204414693, 0.008127763819823951, 0.34186476255512704, 0.2639769485027573, -1.8208409662925802, 0.24074451187422571, 0.5562452782986852, -0.5824077840268167, 0.17050183300365282, 0.42085884285977426, -0.8692661641636048, -0.9723993347465054, 0.5395347413629555, -1.144824452521687, -1.5581534101688002, -1.6729339246680435, -2.2056076136021434, 1.103355797338571, 0.7678907038054802, -0.5151607726764834, -0.6475275993757056, -1.0082785648677384, 1.5260113519881962, -0.0076054176697331385, -0.8379869596906585, -0.8532996052463981, 0.520857662239727, -1.1507840593174075, 0.13138500423423757, 1.766428276090597, 0.6509203417858905, 1.290169264557484, 0.461245786964094, 0.381986938073141, 0.7753138167975542, 0.8672473904523145, 0.18973725833913044, 0.040801741645153794, -1.391900776067866, -0.6712369302438657, -0.04660937009967414, -1.1372146461701285, 0.370270983375189, 0.5796009309658001, -1.4386684202941982, -1.319559175894388, -0.5188624577046717, -1.050562091557685, 1.988326116952474]}, {\"marker\": {\"color\": \"rgba(50, 171, 96, 0.6)\", \"line\": {\"color\": \"rgba(50, 171, 96, 1.0)\", \"width\": 1}}, \"name\": \"C\", \"orientation\": \"v\", \"text\": \"\", \"type\": \"bar\", \"x\": [0, 1, 2, 3, 4, 5, 6, 7, 8, 9, 10, 11, 12, 13, 14, 15, 16, 17, 18, 19, 20, 21, 22, 23, 24, 25, 26, 27, 28, 29, 30, 31, 32, 33, 34, 35, 36, 37, 38, 39, 40, 41, 42, 43, 44, 45, 46, 47, 48, 49, 50, 51, 52, 53, 54, 55, 56, 57, 58, 59, 60, 61, 62, 63, 64, 65, 66, 67, 68, 69, 70, 71, 72, 73, 74, 75, 76, 77, 78, 79, 80, 81, 82, 83, 84, 85, 86, 87, 88, 89, 90, 91, 92, 93, 94, 95, 96, 97, 98, 99], \"y\": [0.1426936499011667, 0.6743863824468715, -1.9159042047040724, 0.12701611366523768, 0.5636280465689022, 0.2653262616821967, -0.5830900218537203, 1.6268944121439155, 0.032134459457989054, 0.2837070672739637, -0.908341131234595, -0.2912868176976957, -0.5596115261134985, -0.6698547775985916, -0.06644066405389445, -0.5635975064256188, -0.03413687986916309, -0.19300147898416536, 0.3872050642817624, -2.1165183184615546, -0.6976749316032758, 1.5783006573276834, -1.0984317833839843, 0.1935586317598326, -2.0414514060862277, 0.8273165865437476, -0.5334902768575471, -0.6596195709663755, -0.549215782627158, -0.5465157483350779, -2.2291257904849964, -0.8924230840343537, 0.5864182297589924, -0.8774228368518772, 1.2637792405670139, -1.3408252236678477, -0.6005444176819201, 0.6910209001315113, 0.030946176835107673, 0.8317294046592685, -0.24226793477545702, -1.0751195048330666, 1.6790089121797258, 0.5299931706931623, 0.9065907842791338, -0.9544899579816438, 1.2784401587767251, 0.15403433605819544, 0.611993290038772, -0.7559634279957641, 0.08819990722390152, -1.056055039049362, 2.0027716806468785, -1.9615720122189535, -0.17513402898714328, -0.4798872243484583, -2.4508266457656, -0.33884412615446186, -2.019978178352013, -0.7290974754166974, -1.347793986082597, 2.1398770557429487, 0.16040455572132187, 0.06465038310874904, 0.015294630368586389, -1.0890873934955765, 1.4409058291864612, -1.371518717484521, 1.3071811967033915, 1.3904478393949753, -2.0037227249117553, 0.11510825724336189, -0.29718611398512745, -0.5055331245752551, 0.6448185869979838, 0.1491150879202775, 0.9985330501748927, 1.0014419886266486, 1.865102464507751, 0.2286365636433252, -0.03550451414647598, -2.718717212523047, -0.9240701341744608, -0.2888760375290752, 0.5207417218309627, 1.1687872614974864, 0.2565814315959523, -0.18066310467005145, 0.06308409801663467, -0.7123126172355311, -1.0368383000789096, 0.27498166815858444, -1.140923803902282, -1.525816700957253, 0.21746655202661985, 0.052356171907522044, -0.49939185897760346, 0.13609632242732642, -0.28894964323218236, 0.08729029057194035]}, {\"marker\": {\"color\": \"rgba(128, 0, 128, 0.6)\", \"line\": {\"color\": \"rgba(128, 0, 128, 1.0)\", \"width\": 1}}, \"name\": \"D\", \"orientation\": \"v\", \"text\": \"\", \"type\": \"bar\", \"x\": [0, 1, 2, 3, 4, 5, 6, 7, 8, 9, 10, 11, 12, 13, 14, 15, 16, 17, 18, 19, 20, 21, 22, 23, 24, 25, 26, 27, 28, 29, 30, 31, 32, 33, 34, 35, 36, 37, 38, 39, 40, 41, 42, 43, 44, 45, 46, 47, 48, 49, 50, 51, 52, 53, 54, 55, 56, 57, 58, 59, 60, 61, 62, 63, 64, 65, 66, 67, 68, 69, 70, 71, 72, 73, 74, 75, 76, 77, 78, 79, 80, 81, 82, 83, 84, 85, 86, 87, 88, 89, 90, 91, 92, 93, 94, 95, 96, 97, 98, 99], \"y\": [0.6106487369671837, -0.5580959391359147, -0.40383476919477296, 0.11125072387168945, 1.914679797928206, -0.5794917293571655, 0.2802186585460156, -0.48119536467688356, 1.549222235085247, -0.761040886666783, -0.2042886730218136, -0.14071286229645755, -0.08572931138786967, -0.4342450052527491, 0.8159473114893341, 1.5181456675065004, -0.2591638049954156, 1.4637550557367995, -0.8259681604858221, -0.878102167941134, -2.1062948243645536, -0.3254887503171195, -0.07034230093754808, -0.44464327812496063, 1.961675856334788, 0.24629335711581235, 0.09799551611645173, 0.19159035994880308, -1.0156074997556654, 1.2806421125844174, 0.1304788681345427, 0.1206976944051949, -0.48836243352088493, 2.802032607444495, 0.9992093115241782, -0.7896734382539464, 0.42162329356356454, 0.014579143845804126, -0.4652716694577242, 0.3454690258598138, 0.6454479664922625, 0.5927360716174458, -1.1091587246321357, -0.3763966436874311, -0.4723404843015961, 1.6296431854939475, -1.2247809594359418, -0.9550425500787262, 0.2789136570555125, -0.5729846821735802, -0.026253713718288375, 0.725066652097282, 0.6902230007349073, 0.9811932312461932, 1.9688012226230052, -0.13927462217851405, -0.5123803245556551, 0.7056350323843916, -0.5720206839257674, -2.0999560084539954, 0.28156143554830015, 1.0747977797889474, -1.158658136514488, 0.529537528312165, -0.11214529017336296, -0.4160977828350819, -1.0674672412849793, -0.2449859194432744, -0.6128110114858487, 1.9448518050754133, -1.783138151347126, -0.6752860083341697, 0.7022789401239837, -1.835524755070365, -0.313253458096198, -0.45099788556239573, -0.28857769772700764, -0.1892423501615623, -0.24688173949758832, 0.13424524754480605, 0.05797104701583112, 0.09660484893958388, -1.3095879709172507, 0.24754957486710374, 1.9569210065511524, 2.0954909828936454, 2.2068872058371127, -1.8935847994034554, -1.9658707145920777, -1.0564378775196899, 1.4874017864180422, 0.17280821165585758, 0.37644056131981074, 0.2340871273662667, -1.0632261061039, 0.5540872350959097, -1.007909624391688, 0.6562083549945321, -0.08960169518516971, 0.11316995519037891]}],\n",
       "                        {\"legend\": {\"bgcolor\": \"#F5F6F9\", \"font\": {\"color\": \"#4D5663\"}}, \"paper_bgcolor\": \"#F5F6F9\", \"plot_bgcolor\": \"#F5F6F9\", \"template\": {\"data\": {\"bar\": [{\"error_x\": {\"color\": \"#2a3f5f\"}, \"error_y\": {\"color\": \"#2a3f5f\"}, \"marker\": {\"line\": {\"color\": \"#E5ECF6\", \"width\": 0.5}}, \"type\": \"bar\"}], \"barpolar\": [{\"marker\": {\"line\": {\"color\": \"#E5ECF6\", \"width\": 0.5}}, \"type\": \"barpolar\"}], \"carpet\": [{\"aaxis\": {\"endlinecolor\": \"#2a3f5f\", \"gridcolor\": \"white\", \"linecolor\": \"white\", \"minorgridcolor\": \"white\", \"startlinecolor\": \"#2a3f5f\"}, \"baxis\": {\"endlinecolor\": \"#2a3f5f\", \"gridcolor\": \"white\", \"linecolor\": \"white\", \"minorgridcolor\": \"white\", \"startlinecolor\": \"#2a3f5f\"}, \"type\": \"carpet\"}], \"choropleth\": [{\"colorbar\": {\"outlinewidth\": 0, \"ticks\": \"\"}, \"type\": \"choropleth\"}], \"contour\": [{\"colorbar\": {\"outlinewidth\": 0, \"ticks\": \"\"}, \"colorscale\": [[0.0, \"#0d0887\"], [0.1111111111111111, \"#46039f\"], [0.2222222222222222, \"#7201a8\"], [0.3333333333333333, \"#9c179e\"], [0.4444444444444444, \"#bd3786\"], [0.5555555555555556, \"#d8576b\"], [0.6666666666666666, \"#ed7953\"], [0.7777777777777778, \"#fb9f3a\"], [0.8888888888888888, \"#fdca26\"], [1.0, \"#f0f921\"]], \"type\": \"contour\"}], \"contourcarpet\": [{\"colorbar\": {\"outlinewidth\": 0, \"ticks\": \"\"}, \"type\": \"contourcarpet\"}], \"heatmap\": [{\"colorbar\": {\"outlinewidth\": 0, \"ticks\": \"\"}, \"colorscale\": [[0.0, \"#0d0887\"], [0.1111111111111111, \"#46039f\"], [0.2222222222222222, \"#7201a8\"], [0.3333333333333333, \"#9c179e\"], [0.4444444444444444, \"#bd3786\"], [0.5555555555555556, \"#d8576b\"], [0.6666666666666666, \"#ed7953\"], [0.7777777777777778, \"#fb9f3a\"], [0.8888888888888888, \"#fdca26\"], [1.0, \"#f0f921\"]], \"type\": \"heatmap\"}], \"heatmapgl\": [{\"colorbar\": {\"outlinewidth\": 0, \"ticks\": \"\"}, \"colorscale\": [[0.0, \"#0d0887\"], [0.1111111111111111, \"#46039f\"], [0.2222222222222222, \"#7201a8\"], [0.3333333333333333, \"#9c179e\"], [0.4444444444444444, \"#bd3786\"], [0.5555555555555556, \"#d8576b\"], [0.6666666666666666, \"#ed7953\"], [0.7777777777777778, \"#fb9f3a\"], [0.8888888888888888, \"#fdca26\"], [1.0, \"#f0f921\"]], \"type\": \"heatmapgl\"}], \"histogram\": [{\"marker\": {\"colorbar\": {\"outlinewidth\": 0, \"ticks\": \"\"}}, \"type\": \"histogram\"}], \"histogram2d\": [{\"colorbar\": {\"outlinewidth\": 0, \"ticks\": \"\"}, \"colorscale\": [[0.0, \"#0d0887\"], [0.1111111111111111, \"#46039f\"], [0.2222222222222222, \"#7201a8\"], [0.3333333333333333, \"#9c179e\"], [0.4444444444444444, \"#bd3786\"], [0.5555555555555556, \"#d8576b\"], [0.6666666666666666, \"#ed7953\"], [0.7777777777777778, \"#fb9f3a\"], [0.8888888888888888, \"#fdca26\"], [1.0, \"#f0f921\"]], \"type\": \"histogram2d\"}], \"histogram2dcontour\": [{\"colorbar\": {\"outlinewidth\": 0, \"ticks\": \"\"}, \"colorscale\": [[0.0, \"#0d0887\"], [0.1111111111111111, \"#46039f\"], [0.2222222222222222, \"#7201a8\"], [0.3333333333333333, \"#9c179e\"], [0.4444444444444444, \"#bd3786\"], [0.5555555555555556, \"#d8576b\"], [0.6666666666666666, \"#ed7953\"], [0.7777777777777778, \"#fb9f3a\"], [0.8888888888888888, \"#fdca26\"], [1.0, \"#f0f921\"]], \"type\": \"histogram2dcontour\"}], \"mesh3d\": [{\"colorbar\": {\"outlinewidth\": 0, \"ticks\": \"\"}, \"type\": \"mesh3d\"}], \"parcoords\": [{\"line\": {\"colorbar\": {\"outlinewidth\": 0, \"ticks\": \"\"}}, \"type\": \"parcoords\"}], \"pie\": [{\"automargin\": true, \"type\": \"pie\"}], \"scatter\": [{\"marker\": {\"colorbar\": {\"outlinewidth\": 0, \"ticks\": \"\"}}, \"type\": \"scatter\"}], \"scatter3d\": [{\"line\": {\"colorbar\": {\"outlinewidth\": 0, \"ticks\": \"\"}}, \"marker\": {\"colorbar\": {\"outlinewidth\": 0, \"ticks\": \"\"}}, \"type\": \"scatter3d\"}], \"scattercarpet\": [{\"marker\": {\"colorbar\": {\"outlinewidth\": 0, \"ticks\": \"\"}}, \"type\": \"scattercarpet\"}], \"scattergeo\": [{\"marker\": {\"colorbar\": {\"outlinewidth\": 0, \"ticks\": \"\"}}, \"type\": \"scattergeo\"}], \"scattergl\": [{\"marker\": {\"colorbar\": {\"outlinewidth\": 0, \"ticks\": \"\"}}, \"type\": \"scattergl\"}], \"scattermapbox\": [{\"marker\": {\"colorbar\": {\"outlinewidth\": 0, \"ticks\": \"\"}}, \"type\": \"scattermapbox\"}], \"scatterpolar\": [{\"marker\": {\"colorbar\": {\"outlinewidth\": 0, \"ticks\": \"\"}}, \"type\": \"scatterpolar\"}], \"scatterpolargl\": [{\"marker\": {\"colorbar\": {\"outlinewidth\": 0, \"ticks\": \"\"}}, \"type\": \"scatterpolargl\"}], \"scatterternary\": [{\"marker\": {\"colorbar\": {\"outlinewidth\": 0, \"ticks\": \"\"}}, \"type\": \"scatterternary\"}], \"surface\": [{\"colorbar\": {\"outlinewidth\": 0, \"ticks\": \"\"}, \"colorscale\": [[0.0, \"#0d0887\"], [0.1111111111111111, \"#46039f\"], [0.2222222222222222, \"#7201a8\"], [0.3333333333333333, \"#9c179e\"], [0.4444444444444444, \"#bd3786\"], [0.5555555555555556, \"#d8576b\"], [0.6666666666666666, \"#ed7953\"], [0.7777777777777778, \"#fb9f3a\"], [0.8888888888888888, \"#fdca26\"], [1.0, \"#f0f921\"]], \"type\": \"surface\"}], \"table\": [{\"cells\": {\"fill\": {\"color\": \"#EBF0F8\"}, \"line\": {\"color\": \"white\"}}, \"header\": {\"fill\": {\"color\": \"#C8D4E3\"}, \"line\": {\"color\": \"white\"}}, \"type\": \"table\"}]}, \"layout\": {\"annotationdefaults\": {\"arrowcolor\": \"#2a3f5f\", \"arrowhead\": 0, \"arrowwidth\": 1}, \"coloraxis\": {\"colorbar\": {\"outlinewidth\": 0, \"ticks\": \"\"}}, \"colorscale\": {\"diverging\": [[0, \"#8e0152\"], [0.1, \"#c51b7d\"], [0.2, \"#de77ae\"], [0.3, \"#f1b6da\"], [0.4, \"#fde0ef\"], [0.5, \"#f7f7f7\"], [0.6, \"#e6f5d0\"], [0.7, \"#b8e186\"], [0.8, \"#7fbc41\"], [0.9, \"#4d9221\"], [1, \"#276419\"]], \"sequential\": [[0.0, \"#0d0887\"], [0.1111111111111111, \"#46039f\"], [0.2222222222222222, \"#7201a8\"], [0.3333333333333333, \"#9c179e\"], [0.4444444444444444, \"#bd3786\"], [0.5555555555555556, \"#d8576b\"], [0.6666666666666666, \"#ed7953\"], [0.7777777777777778, \"#fb9f3a\"], [0.8888888888888888, \"#fdca26\"], [1.0, \"#f0f921\"]], \"sequentialminus\": [[0.0, \"#0d0887\"], [0.1111111111111111, \"#46039f\"], [0.2222222222222222, \"#7201a8\"], [0.3333333333333333, \"#9c179e\"], [0.4444444444444444, \"#bd3786\"], [0.5555555555555556, \"#d8576b\"], [0.6666666666666666, \"#ed7953\"], [0.7777777777777778, \"#fb9f3a\"], [0.8888888888888888, \"#fdca26\"], [1.0, \"#f0f921\"]]}, \"colorway\": [\"#636efa\", \"#EF553B\", \"#00cc96\", \"#ab63fa\", \"#FFA15A\", \"#19d3f3\", \"#FF6692\", \"#B6E880\", \"#FF97FF\", \"#FECB52\"], \"font\": {\"color\": \"#2a3f5f\"}, \"geo\": {\"bgcolor\": \"white\", \"lakecolor\": \"white\", \"landcolor\": \"#E5ECF6\", \"showlakes\": true, \"showland\": true, \"subunitcolor\": \"white\"}, \"hoverlabel\": {\"align\": \"left\"}, \"hovermode\": \"closest\", \"mapbox\": {\"style\": \"light\"}, \"paper_bgcolor\": \"white\", \"plot_bgcolor\": \"#E5ECF6\", \"polar\": {\"angularaxis\": {\"gridcolor\": \"white\", \"linecolor\": \"white\", \"ticks\": \"\"}, \"bgcolor\": \"#E5ECF6\", \"radialaxis\": {\"gridcolor\": \"white\", \"linecolor\": \"white\", \"ticks\": \"\"}}, \"scene\": {\"xaxis\": {\"backgroundcolor\": \"#E5ECF6\", \"gridcolor\": \"white\", \"gridwidth\": 2, \"linecolor\": \"white\", \"showbackground\": true, \"ticks\": \"\", \"zerolinecolor\": \"white\"}, \"yaxis\": {\"backgroundcolor\": \"#E5ECF6\", \"gridcolor\": \"white\", \"gridwidth\": 2, \"linecolor\": \"white\", \"showbackground\": true, \"ticks\": \"\", \"zerolinecolor\": \"white\"}, \"zaxis\": {\"backgroundcolor\": \"#E5ECF6\", \"gridcolor\": \"white\", \"gridwidth\": 2, \"linecolor\": \"white\", \"showbackground\": true, \"ticks\": \"\", \"zerolinecolor\": \"white\"}}, \"shapedefaults\": {\"line\": {\"color\": \"#2a3f5f\"}}, \"ternary\": {\"aaxis\": {\"gridcolor\": \"white\", \"linecolor\": \"white\", \"ticks\": \"\"}, \"baxis\": {\"gridcolor\": \"white\", \"linecolor\": \"white\", \"ticks\": \"\"}, \"bgcolor\": \"#E5ECF6\", \"caxis\": {\"gridcolor\": \"white\", \"linecolor\": \"white\", \"ticks\": \"\"}}, \"title\": {\"x\": 0.05}, \"xaxis\": {\"automargin\": true, \"gridcolor\": \"white\", \"linecolor\": \"white\", \"ticks\": \"\", \"title\": {\"standoff\": 15}, \"zerolinecolor\": \"white\", \"zerolinewidth\": 2}, \"yaxis\": {\"automargin\": true, \"gridcolor\": \"white\", \"linecolor\": \"white\", \"ticks\": \"\", \"title\": {\"standoff\": 15}, \"zerolinecolor\": \"white\", \"zerolinewidth\": 2}}}, \"title\": {\"font\": {\"color\": \"#4D5663\"}}, \"xaxis\": {\"gridcolor\": \"#E1E5ED\", \"showgrid\": true, \"tickfont\": {\"color\": \"#4D5663\"}, \"title\": {\"font\": {\"color\": \"#4D5663\"}, \"text\": \"\"}, \"zerolinecolor\": \"#E1E5ED\"}, \"yaxis\": {\"gridcolor\": \"#E1E5ED\", \"showgrid\": true, \"tickfont\": {\"color\": \"#4D5663\"}, \"title\": {\"font\": {\"color\": \"#4D5663\"}, \"text\": \"\"}, \"zerolinecolor\": \"#E1E5ED\"}},\n",
       "                        {\"showLink\": true, \"linkText\": \"Export to plot.ly\", \"plotlyServerURL\": \"https://plot.ly\", \"responsive\": true}\n",
       "                    ).then(function(){\n",
       "                            \n",
       "var gd = document.getElementById('97de518a-f8d2-4496-a793-d3da5b5b8a36');\n",
       "var x = new MutationObserver(function (mutations, observer) {{\n",
       "        var display = window.getComputedStyle(gd).display;\n",
       "        if (!display || display === 'none') {{\n",
       "            console.log([gd, 'removed!']);\n",
       "            Plotly.purge(gd);\n",
       "            observer.disconnect();\n",
       "        }}\n",
       "}});\n",
       "\n",
       "// Listen for the removal of the full notebook cells\n",
       "var notebookContainer = gd.closest('#notebook-container');\n",
       "if (notebookContainer) {{\n",
       "    x.observe(notebookContainer, {childList: true});\n",
       "}}\n",
       "\n",
       "// Listen for the clearing of the current output cell\n",
       "var outputEl = gd.closest('.output');\n",
       "if (outputEl) {{\n",
       "    x.observe(outputEl, {childList: true});\n",
       "}}\n",
       "\n",
       "                        })\n",
       "                };\n",
       "                });\n",
       "            </script>\n",
       "        </div>"
      ]
     },
     "metadata": {},
     "output_type": "display_data"
    }
   ],
   "source": [
    "# PLOTLY - BARPLOT\n",
    "df.iplot(kind='bar')\n",
    "# As we see this is not what we want - do an AGGREGATE FUNCTION"
   ]
  },
  {
   "cell_type": "code",
   "execution_count": 47,
   "metadata": {},
   "outputs": [
    {
     "data": {
      "application/vnd.plotly.v1+json": {
       "config": {
        "linkText": "Export to plot.ly",
        "plotlyServerURL": "https://plot.ly",
        "showLink": true
       },
       "data": [
        {
         "marker": {
          "color": "rgba(255, 153, 51, 0.6)",
          "line": {
           "color": "rgba(255, 153, 51, 1.0)",
           "width": 1
          }
         },
         "name": "None",
         "orientation": "v",
         "text": "",
         "type": "bar",
         "x": [
          "A",
          "B",
          "C",
          "D"
         ],
         "y": [
          100,
          100,
          100,
          100
         ]
        }
       ],
       "layout": {
        "legend": {
         "bgcolor": "#F5F6F9",
         "font": {
          "color": "#4D5663"
         }
        },
        "paper_bgcolor": "#F5F6F9",
        "plot_bgcolor": "#F5F6F9",
        "template": {
         "data": {
          "bar": [
           {
            "error_x": {
             "color": "#2a3f5f"
            },
            "error_y": {
             "color": "#2a3f5f"
            },
            "marker": {
             "line": {
              "color": "#E5ECF6",
              "width": 0.5
             }
            },
            "type": "bar"
           }
          ],
          "barpolar": [
           {
            "marker": {
             "line": {
              "color": "#E5ECF6",
              "width": 0.5
             }
            },
            "type": "barpolar"
           }
          ],
          "carpet": [
           {
            "aaxis": {
             "endlinecolor": "#2a3f5f",
             "gridcolor": "white",
             "linecolor": "white",
             "minorgridcolor": "white",
             "startlinecolor": "#2a3f5f"
            },
            "baxis": {
             "endlinecolor": "#2a3f5f",
             "gridcolor": "white",
             "linecolor": "white",
             "minorgridcolor": "white",
             "startlinecolor": "#2a3f5f"
            },
            "type": "carpet"
           }
          ],
          "choropleth": [
           {
            "colorbar": {
             "outlinewidth": 0,
             "ticks": ""
            },
            "type": "choropleth"
           }
          ],
          "contour": [
           {
            "colorbar": {
             "outlinewidth": 0,
             "ticks": ""
            },
            "colorscale": [
             [
              0,
              "#0d0887"
             ],
             [
              0.1111111111111111,
              "#46039f"
             ],
             [
              0.2222222222222222,
              "#7201a8"
             ],
             [
              0.3333333333333333,
              "#9c179e"
             ],
             [
              0.4444444444444444,
              "#bd3786"
             ],
             [
              0.5555555555555556,
              "#d8576b"
             ],
             [
              0.6666666666666666,
              "#ed7953"
             ],
             [
              0.7777777777777778,
              "#fb9f3a"
             ],
             [
              0.8888888888888888,
              "#fdca26"
             ],
             [
              1,
              "#f0f921"
             ]
            ],
            "type": "contour"
           }
          ],
          "contourcarpet": [
           {
            "colorbar": {
             "outlinewidth": 0,
             "ticks": ""
            },
            "type": "contourcarpet"
           }
          ],
          "heatmap": [
           {
            "colorbar": {
             "outlinewidth": 0,
             "ticks": ""
            },
            "colorscale": [
             [
              0,
              "#0d0887"
             ],
             [
              0.1111111111111111,
              "#46039f"
             ],
             [
              0.2222222222222222,
              "#7201a8"
             ],
             [
              0.3333333333333333,
              "#9c179e"
             ],
             [
              0.4444444444444444,
              "#bd3786"
             ],
             [
              0.5555555555555556,
              "#d8576b"
             ],
             [
              0.6666666666666666,
              "#ed7953"
             ],
             [
              0.7777777777777778,
              "#fb9f3a"
             ],
             [
              0.8888888888888888,
              "#fdca26"
             ],
             [
              1,
              "#f0f921"
             ]
            ],
            "type": "heatmap"
           }
          ],
          "heatmapgl": [
           {
            "colorbar": {
             "outlinewidth": 0,
             "ticks": ""
            },
            "colorscale": [
             [
              0,
              "#0d0887"
             ],
             [
              0.1111111111111111,
              "#46039f"
             ],
             [
              0.2222222222222222,
              "#7201a8"
             ],
             [
              0.3333333333333333,
              "#9c179e"
             ],
             [
              0.4444444444444444,
              "#bd3786"
             ],
             [
              0.5555555555555556,
              "#d8576b"
             ],
             [
              0.6666666666666666,
              "#ed7953"
             ],
             [
              0.7777777777777778,
              "#fb9f3a"
             ],
             [
              0.8888888888888888,
              "#fdca26"
             ],
             [
              1,
              "#f0f921"
             ]
            ],
            "type": "heatmapgl"
           }
          ],
          "histogram": [
           {
            "marker": {
             "colorbar": {
              "outlinewidth": 0,
              "ticks": ""
             }
            },
            "type": "histogram"
           }
          ],
          "histogram2d": [
           {
            "colorbar": {
             "outlinewidth": 0,
             "ticks": ""
            },
            "colorscale": [
             [
              0,
              "#0d0887"
             ],
             [
              0.1111111111111111,
              "#46039f"
             ],
             [
              0.2222222222222222,
              "#7201a8"
             ],
             [
              0.3333333333333333,
              "#9c179e"
             ],
             [
              0.4444444444444444,
              "#bd3786"
             ],
             [
              0.5555555555555556,
              "#d8576b"
             ],
             [
              0.6666666666666666,
              "#ed7953"
             ],
             [
              0.7777777777777778,
              "#fb9f3a"
             ],
             [
              0.8888888888888888,
              "#fdca26"
             ],
             [
              1,
              "#f0f921"
             ]
            ],
            "type": "histogram2d"
           }
          ],
          "histogram2dcontour": [
           {
            "colorbar": {
             "outlinewidth": 0,
             "ticks": ""
            },
            "colorscale": [
             [
              0,
              "#0d0887"
             ],
             [
              0.1111111111111111,
              "#46039f"
             ],
             [
              0.2222222222222222,
              "#7201a8"
             ],
             [
              0.3333333333333333,
              "#9c179e"
             ],
             [
              0.4444444444444444,
              "#bd3786"
             ],
             [
              0.5555555555555556,
              "#d8576b"
             ],
             [
              0.6666666666666666,
              "#ed7953"
             ],
             [
              0.7777777777777778,
              "#fb9f3a"
             ],
             [
              0.8888888888888888,
              "#fdca26"
             ],
             [
              1,
              "#f0f921"
             ]
            ],
            "type": "histogram2dcontour"
           }
          ],
          "mesh3d": [
           {
            "colorbar": {
             "outlinewidth": 0,
             "ticks": ""
            },
            "type": "mesh3d"
           }
          ],
          "parcoords": [
           {
            "line": {
             "colorbar": {
              "outlinewidth": 0,
              "ticks": ""
             }
            },
            "type": "parcoords"
           }
          ],
          "pie": [
           {
            "automargin": true,
            "type": "pie"
           }
          ],
          "scatter": [
           {
            "marker": {
             "colorbar": {
              "outlinewidth": 0,
              "ticks": ""
             }
            },
            "type": "scatter"
           }
          ],
          "scatter3d": [
           {
            "line": {
             "colorbar": {
              "outlinewidth": 0,
              "ticks": ""
             }
            },
            "marker": {
             "colorbar": {
              "outlinewidth": 0,
              "ticks": ""
             }
            },
            "type": "scatter3d"
           }
          ],
          "scattercarpet": [
           {
            "marker": {
             "colorbar": {
              "outlinewidth": 0,
              "ticks": ""
             }
            },
            "type": "scattercarpet"
           }
          ],
          "scattergeo": [
           {
            "marker": {
             "colorbar": {
              "outlinewidth": 0,
              "ticks": ""
             }
            },
            "type": "scattergeo"
           }
          ],
          "scattergl": [
           {
            "marker": {
             "colorbar": {
              "outlinewidth": 0,
              "ticks": ""
             }
            },
            "type": "scattergl"
           }
          ],
          "scattermapbox": [
           {
            "marker": {
             "colorbar": {
              "outlinewidth": 0,
              "ticks": ""
             }
            },
            "type": "scattermapbox"
           }
          ],
          "scatterpolar": [
           {
            "marker": {
             "colorbar": {
              "outlinewidth": 0,
              "ticks": ""
             }
            },
            "type": "scatterpolar"
           }
          ],
          "scatterpolargl": [
           {
            "marker": {
             "colorbar": {
              "outlinewidth": 0,
              "ticks": ""
             }
            },
            "type": "scatterpolargl"
           }
          ],
          "scatterternary": [
           {
            "marker": {
             "colorbar": {
              "outlinewidth": 0,
              "ticks": ""
             }
            },
            "type": "scatterternary"
           }
          ],
          "surface": [
           {
            "colorbar": {
             "outlinewidth": 0,
             "ticks": ""
            },
            "colorscale": [
             [
              0,
              "#0d0887"
             ],
             [
              0.1111111111111111,
              "#46039f"
             ],
             [
              0.2222222222222222,
              "#7201a8"
             ],
             [
              0.3333333333333333,
              "#9c179e"
             ],
             [
              0.4444444444444444,
              "#bd3786"
             ],
             [
              0.5555555555555556,
              "#d8576b"
             ],
             [
              0.6666666666666666,
              "#ed7953"
             ],
             [
              0.7777777777777778,
              "#fb9f3a"
             ],
             [
              0.8888888888888888,
              "#fdca26"
             ],
             [
              1,
              "#f0f921"
             ]
            ],
            "type": "surface"
           }
          ],
          "table": [
           {
            "cells": {
             "fill": {
              "color": "#EBF0F8"
             },
             "line": {
              "color": "white"
             }
            },
            "header": {
             "fill": {
              "color": "#C8D4E3"
             },
             "line": {
              "color": "white"
             }
            },
            "type": "table"
           }
          ]
         },
         "layout": {
          "annotationdefaults": {
           "arrowcolor": "#2a3f5f",
           "arrowhead": 0,
           "arrowwidth": 1
          },
          "coloraxis": {
           "colorbar": {
            "outlinewidth": 0,
            "ticks": ""
           }
          },
          "colorscale": {
           "diverging": [
            [
             0,
             "#8e0152"
            ],
            [
             0.1,
             "#c51b7d"
            ],
            [
             0.2,
             "#de77ae"
            ],
            [
             0.3,
             "#f1b6da"
            ],
            [
             0.4,
             "#fde0ef"
            ],
            [
             0.5,
             "#f7f7f7"
            ],
            [
             0.6,
             "#e6f5d0"
            ],
            [
             0.7,
             "#b8e186"
            ],
            [
             0.8,
             "#7fbc41"
            ],
            [
             0.9,
             "#4d9221"
            ],
            [
             1,
             "#276419"
            ]
           ],
           "sequential": [
            [
             0,
             "#0d0887"
            ],
            [
             0.1111111111111111,
             "#46039f"
            ],
            [
             0.2222222222222222,
             "#7201a8"
            ],
            [
             0.3333333333333333,
             "#9c179e"
            ],
            [
             0.4444444444444444,
             "#bd3786"
            ],
            [
             0.5555555555555556,
             "#d8576b"
            ],
            [
             0.6666666666666666,
             "#ed7953"
            ],
            [
             0.7777777777777778,
             "#fb9f3a"
            ],
            [
             0.8888888888888888,
             "#fdca26"
            ],
            [
             1,
             "#f0f921"
            ]
           ],
           "sequentialminus": [
            [
             0,
             "#0d0887"
            ],
            [
             0.1111111111111111,
             "#46039f"
            ],
            [
             0.2222222222222222,
             "#7201a8"
            ],
            [
             0.3333333333333333,
             "#9c179e"
            ],
            [
             0.4444444444444444,
             "#bd3786"
            ],
            [
             0.5555555555555556,
             "#d8576b"
            ],
            [
             0.6666666666666666,
             "#ed7953"
            ],
            [
             0.7777777777777778,
             "#fb9f3a"
            ],
            [
             0.8888888888888888,
             "#fdca26"
            ],
            [
             1,
             "#f0f921"
            ]
           ]
          },
          "colorway": [
           "#636efa",
           "#EF553B",
           "#00cc96",
           "#ab63fa",
           "#FFA15A",
           "#19d3f3",
           "#FF6692",
           "#B6E880",
           "#FF97FF",
           "#FECB52"
          ],
          "font": {
           "color": "#2a3f5f"
          },
          "geo": {
           "bgcolor": "white",
           "lakecolor": "white",
           "landcolor": "#E5ECF6",
           "showlakes": true,
           "showland": true,
           "subunitcolor": "white"
          },
          "hoverlabel": {
           "align": "left"
          },
          "hovermode": "closest",
          "mapbox": {
           "style": "light"
          },
          "paper_bgcolor": "white",
          "plot_bgcolor": "#E5ECF6",
          "polar": {
           "angularaxis": {
            "gridcolor": "white",
            "linecolor": "white",
            "ticks": ""
           },
           "bgcolor": "#E5ECF6",
           "radialaxis": {
            "gridcolor": "white",
            "linecolor": "white",
            "ticks": ""
           }
          },
          "scene": {
           "xaxis": {
            "backgroundcolor": "#E5ECF6",
            "gridcolor": "white",
            "gridwidth": 2,
            "linecolor": "white",
            "showbackground": true,
            "ticks": "",
            "zerolinecolor": "white"
           },
           "yaxis": {
            "backgroundcolor": "#E5ECF6",
            "gridcolor": "white",
            "gridwidth": 2,
            "linecolor": "white",
            "showbackground": true,
            "ticks": "",
            "zerolinecolor": "white"
           },
           "zaxis": {
            "backgroundcolor": "#E5ECF6",
            "gridcolor": "white",
            "gridwidth": 2,
            "linecolor": "white",
            "showbackground": true,
            "ticks": "",
            "zerolinecolor": "white"
           }
          },
          "shapedefaults": {
           "line": {
            "color": "#2a3f5f"
           }
          },
          "ternary": {
           "aaxis": {
            "gridcolor": "white",
            "linecolor": "white",
            "ticks": ""
           },
           "baxis": {
            "gridcolor": "white",
            "linecolor": "white",
            "ticks": ""
           },
           "bgcolor": "#E5ECF6",
           "caxis": {
            "gridcolor": "white",
            "linecolor": "white",
            "ticks": ""
           }
          },
          "title": {
           "x": 0.05
          },
          "xaxis": {
           "automargin": true,
           "gridcolor": "white",
           "linecolor": "white",
           "ticks": "",
           "title": {
            "standoff": 15
           },
           "zerolinecolor": "white",
           "zerolinewidth": 2
          },
          "yaxis": {
           "automargin": true,
           "gridcolor": "white",
           "linecolor": "white",
           "ticks": "",
           "title": {
            "standoff": 15
           },
           "zerolinecolor": "white",
           "zerolinewidth": 2
          }
         }
        },
        "title": {
         "font": {
          "color": "#4D5663"
         }
        },
        "xaxis": {
         "gridcolor": "#E1E5ED",
         "showgrid": true,
         "tickfont": {
          "color": "#4D5663"
         },
         "title": {
          "font": {
           "color": "#4D5663"
          },
          "text": ""
         },
         "zerolinecolor": "#E1E5ED"
        },
        "yaxis": {
         "gridcolor": "#E1E5ED",
         "showgrid": true,
         "tickfont": {
          "color": "#4D5663"
         },
         "title": {
          "font": {
           "color": "#4D5663"
          },
          "text": ""
         },
         "zerolinecolor": "#E1E5ED"
        }
       }
      },
      "text/html": [
       "<div>\n",
       "        \n",
       "        \n",
       "            <div id=\"a96c6c6a-3653-44f6-aad2-9eb3cf6122c6\" class=\"plotly-graph-div\" style=\"height:525px; width:100%;\"></div>\n",
       "            <script type=\"text/javascript\">\n",
       "                require([\"plotly\"], function(Plotly) {\n",
       "                    window.PLOTLYENV=window.PLOTLYENV || {};\n",
       "                    window.PLOTLYENV.BASE_URL='https://plot.ly';\n",
       "                    \n",
       "                if (document.getElementById(\"a96c6c6a-3653-44f6-aad2-9eb3cf6122c6\")) {\n",
       "                    Plotly.newPlot(\n",
       "                        'a96c6c6a-3653-44f6-aad2-9eb3cf6122c6',\n",
       "                        [{\"marker\": {\"color\": \"rgba(255, 153, 51, 0.6)\", \"line\": {\"color\": \"rgba(255, 153, 51, 1.0)\", \"width\": 1}}, \"name\": \"None\", \"orientation\": \"v\", \"text\": \"\", \"type\": \"bar\", \"x\": [\"A\", \"B\", \"C\", \"D\"], \"y\": [100, 100, 100, 100]}],\n",
       "                        {\"legend\": {\"bgcolor\": \"#F5F6F9\", \"font\": {\"color\": \"#4D5663\"}}, \"paper_bgcolor\": \"#F5F6F9\", \"plot_bgcolor\": \"#F5F6F9\", \"template\": {\"data\": {\"bar\": [{\"error_x\": {\"color\": \"#2a3f5f\"}, \"error_y\": {\"color\": \"#2a3f5f\"}, \"marker\": {\"line\": {\"color\": \"#E5ECF6\", \"width\": 0.5}}, \"type\": \"bar\"}], \"barpolar\": [{\"marker\": {\"line\": {\"color\": \"#E5ECF6\", \"width\": 0.5}}, \"type\": \"barpolar\"}], \"carpet\": [{\"aaxis\": {\"endlinecolor\": \"#2a3f5f\", \"gridcolor\": \"white\", \"linecolor\": \"white\", \"minorgridcolor\": \"white\", \"startlinecolor\": \"#2a3f5f\"}, \"baxis\": {\"endlinecolor\": \"#2a3f5f\", \"gridcolor\": \"white\", \"linecolor\": \"white\", \"minorgridcolor\": \"white\", \"startlinecolor\": \"#2a3f5f\"}, \"type\": \"carpet\"}], \"choropleth\": [{\"colorbar\": {\"outlinewidth\": 0, \"ticks\": \"\"}, \"type\": \"choropleth\"}], \"contour\": [{\"colorbar\": {\"outlinewidth\": 0, \"ticks\": \"\"}, \"colorscale\": [[0.0, \"#0d0887\"], [0.1111111111111111, \"#46039f\"], [0.2222222222222222, \"#7201a8\"], [0.3333333333333333, \"#9c179e\"], [0.4444444444444444, \"#bd3786\"], [0.5555555555555556, \"#d8576b\"], [0.6666666666666666, \"#ed7953\"], [0.7777777777777778, \"#fb9f3a\"], [0.8888888888888888, \"#fdca26\"], [1.0, \"#f0f921\"]], \"type\": \"contour\"}], \"contourcarpet\": [{\"colorbar\": {\"outlinewidth\": 0, \"ticks\": \"\"}, \"type\": \"contourcarpet\"}], \"heatmap\": [{\"colorbar\": {\"outlinewidth\": 0, \"ticks\": \"\"}, \"colorscale\": [[0.0, \"#0d0887\"], [0.1111111111111111, \"#46039f\"], [0.2222222222222222, \"#7201a8\"], [0.3333333333333333, \"#9c179e\"], [0.4444444444444444, \"#bd3786\"], [0.5555555555555556, \"#d8576b\"], [0.6666666666666666, \"#ed7953\"], [0.7777777777777778, \"#fb9f3a\"], [0.8888888888888888, \"#fdca26\"], [1.0, \"#f0f921\"]], \"type\": \"heatmap\"}], \"heatmapgl\": [{\"colorbar\": {\"outlinewidth\": 0, \"ticks\": \"\"}, \"colorscale\": [[0.0, \"#0d0887\"], [0.1111111111111111, \"#46039f\"], [0.2222222222222222, \"#7201a8\"], [0.3333333333333333, \"#9c179e\"], [0.4444444444444444, \"#bd3786\"], [0.5555555555555556, \"#d8576b\"], [0.6666666666666666, \"#ed7953\"], [0.7777777777777778, \"#fb9f3a\"], [0.8888888888888888, \"#fdca26\"], [1.0, \"#f0f921\"]], \"type\": \"heatmapgl\"}], \"histogram\": [{\"marker\": {\"colorbar\": {\"outlinewidth\": 0, \"ticks\": \"\"}}, \"type\": \"histogram\"}], \"histogram2d\": [{\"colorbar\": {\"outlinewidth\": 0, \"ticks\": \"\"}, \"colorscale\": [[0.0, \"#0d0887\"], [0.1111111111111111, \"#46039f\"], [0.2222222222222222, \"#7201a8\"], [0.3333333333333333, \"#9c179e\"], [0.4444444444444444, \"#bd3786\"], [0.5555555555555556, \"#d8576b\"], [0.6666666666666666, \"#ed7953\"], [0.7777777777777778, \"#fb9f3a\"], [0.8888888888888888, \"#fdca26\"], [1.0, \"#f0f921\"]], \"type\": \"histogram2d\"}], \"histogram2dcontour\": [{\"colorbar\": {\"outlinewidth\": 0, \"ticks\": \"\"}, \"colorscale\": [[0.0, \"#0d0887\"], [0.1111111111111111, \"#46039f\"], [0.2222222222222222, \"#7201a8\"], [0.3333333333333333, \"#9c179e\"], [0.4444444444444444, \"#bd3786\"], [0.5555555555555556, \"#d8576b\"], [0.6666666666666666, \"#ed7953\"], [0.7777777777777778, \"#fb9f3a\"], [0.8888888888888888, \"#fdca26\"], [1.0, \"#f0f921\"]], \"type\": \"histogram2dcontour\"}], \"mesh3d\": [{\"colorbar\": {\"outlinewidth\": 0, \"ticks\": \"\"}, \"type\": \"mesh3d\"}], \"parcoords\": [{\"line\": {\"colorbar\": {\"outlinewidth\": 0, \"ticks\": \"\"}}, \"type\": \"parcoords\"}], \"pie\": [{\"automargin\": true, \"type\": \"pie\"}], \"scatter\": [{\"marker\": {\"colorbar\": {\"outlinewidth\": 0, \"ticks\": \"\"}}, \"type\": \"scatter\"}], \"scatter3d\": [{\"line\": {\"colorbar\": {\"outlinewidth\": 0, \"ticks\": \"\"}}, \"marker\": {\"colorbar\": {\"outlinewidth\": 0, \"ticks\": \"\"}}, \"type\": \"scatter3d\"}], \"scattercarpet\": [{\"marker\": {\"colorbar\": {\"outlinewidth\": 0, \"ticks\": \"\"}}, \"type\": \"scattercarpet\"}], \"scattergeo\": [{\"marker\": {\"colorbar\": {\"outlinewidth\": 0, \"ticks\": \"\"}}, \"type\": \"scattergeo\"}], \"scattergl\": [{\"marker\": {\"colorbar\": {\"outlinewidth\": 0, \"ticks\": \"\"}}, \"type\": \"scattergl\"}], \"scattermapbox\": [{\"marker\": {\"colorbar\": {\"outlinewidth\": 0, \"ticks\": \"\"}}, \"type\": \"scattermapbox\"}], \"scatterpolar\": [{\"marker\": {\"colorbar\": {\"outlinewidth\": 0, \"ticks\": \"\"}}, \"type\": \"scatterpolar\"}], \"scatterpolargl\": [{\"marker\": {\"colorbar\": {\"outlinewidth\": 0, \"ticks\": \"\"}}, \"type\": \"scatterpolargl\"}], \"scatterternary\": [{\"marker\": {\"colorbar\": {\"outlinewidth\": 0, \"ticks\": \"\"}}, \"type\": \"scatterternary\"}], \"surface\": [{\"colorbar\": {\"outlinewidth\": 0, \"ticks\": \"\"}, \"colorscale\": [[0.0, \"#0d0887\"], [0.1111111111111111, \"#46039f\"], [0.2222222222222222, \"#7201a8\"], [0.3333333333333333, \"#9c179e\"], [0.4444444444444444, \"#bd3786\"], [0.5555555555555556, \"#d8576b\"], [0.6666666666666666, \"#ed7953\"], [0.7777777777777778, \"#fb9f3a\"], [0.8888888888888888, \"#fdca26\"], [1.0, \"#f0f921\"]], \"type\": \"surface\"}], \"table\": [{\"cells\": {\"fill\": {\"color\": \"#EBF0F8\"}, \"line\": {\"color\": \"white\"}}, \"header\": {\"fill\": {\"color\": \"#C8D4E3\"}, \"line\": {\"color\": \"white\"}}, \"type\": \"table\"}]}, \"layout\": {\"annotationdefaults\": {\"arrowcolor\": \"#2a3f5f\", \"arrowhead\": 0, \"arrowwidth\": 1}, \"coloraxis\": {\"colorbar\": {\"outlinewidth\": 0, \"ticks\": \"\"}}, \"colorscale\": {\"diverging\": [[0, \"#8e0152\"], [0.1, \"#c51b7d\"], [0.2, \"#de77ae\"], [0.3, \"#f1b6da\"], [0.4, \"#fde0ef\"], [0.5, \"#f7f7f7\"], [0.6, \"#e6f5d0\"], [0.7, \"#b8e186\"], [0.8, \"#7fbc41\"], [0.9, \"#4d9221\"], [1, \"#276419\"]], \"sequential\": [[0.0, \"#0d0887\"], [0.1111111111111111, \"#46039f\"], [0.2222222222222222, \"#7201a8\"], [0.3333333333333333, \"#9c179e\"], [0.4444444444444444, \"#bd3786\"], [0.5555555555555556, \"#d8576b\"], [0.6666666666666666, \"#ed7953\"], [0.7777777777777778, \"#fb9f3a\"], [0.8888888888888888, \"#fdca26\"], [1.0, \"#f0f921\"]], \"sequentialminus\": [[0.0, \"#0d0887\"], [0.1111111111111111, \"#46039f\"], [0.2222222222222222, \"#7201a8\"], [0.3333333333333333, \"#9c179e\"], [0.4444444444444444, \"#bd3786\"], [0.5555555555555556, \"#d8576b\"], [0.6666666666666666, \"#ed7953\"], [0.7777777777777778, \"#fb9f3a\"], [0.8888888888888888, \"#fdca26\"], [1.0, \"#f0f921\"]]}, \"colorway\": [\"#636efa\", \"#EF553B\", \"#00cc96\", \"#ab63fa\", \"#FFA15A\", \"#19d3f3\", \"#FF6692\", \"#B6E880\", \"#FF97FF\", \"#FECB52\"], \"font\": {\"color\": \"#2a3f5f\"}, \"geo\": {\"bgcolor\": \"white\", \"lakecolor\": \"white\", \"landcolor\": \"#E5ECF6\", \"showlakes\": true, \"showland\": true, \"subunitcolor\": \"white\"}, \"hoverlabel\": {\"align\": \"left\"}, \"hovermode\": \"closest\", \"mapbox\": {\"style\": \"light\"}, \"paper_bgcolor\": \"white\", \"plot_bgcolor\": \"#E5ECF6\", \"polar\": {\"angularaxis\": {\"gridcolor\": \"white\", \"linecolor\": \"white\", \"ticks\": \"\"}, \"bgcolor\": \"#E5ECF6\", \"radialaxis\": {\"gridcolor\": \"white\", \"linecolor\": \"white\", \"ticks\": \"\"}}, \"scene\": {\"xaxis\": {\"backgroundcolor\": \"#E5ECF6\", \"gridcolor\": \"white\", \"gridwidth\": 2, \"linecolor\": \"white\", \"showbackground\": true, \"ticks\": \"\", \"zerolinecolor\": \"white\"}, \"yaxis\": {\"backgroundcolor\": \"#E5ECF6\", \"gridcolor\": \"white\", \"gridwidth\": 2, \"linecolor\": \"white\", \"showbackground\": true, \"ticks\": \"\", \"zerolinecolor\": \"white\"}, \"zaxis\": {\"backgroundcolor\": \"#E5ECF6\", \"gridcolor\": \"white\", \"gridwidth\": 2, \"linecolor\": \"white\", \"showbackground\": true, \"ticks\": \"\", \"zerolinecolor\": \"white\"}}, \"shapedefaults\": {\"line\": {\"color\": \"#2a3f5f\"}}, \"ternary\": {\"aaxis\": {\"gridcolor\": \"white\", \"linecolor\": \"white\", \"ticks\": \"\"}, \"baxis\": {\"gridcolor\": \"white\", \"linecolor\": \"white\", \"ticks\": \"\"}, \"bgcolor\": \"#E5ECF6\", \"caxis\": {\"gridcolor\": \"white\", \"linecolor\": \"white\", \"ticks\": \"\"}}, \"title\": {\"x\": 0.05}, \"xaxis\": {\"automargin\": true, \"gridcolor\": \"white\", \"linecolor\": \"white\", \"ticks\": \"\", \"title\": {\"standoff\": 15}, \"zerolinecolor\": \"white\", \"zerolinewidth\": 2}, \"yaxis\": {\"automargin\": true, \"gridcolor\": \"white\", \"linecolor\": \"white\", \"ticks\": \"\", \"title\": {\"standoff\": 15}, \"zerolinecolor\": \"white\", \"zerolinewidth\": 2}}}, \"title\": {\"font\": {\"color\": \"#4D5663\"}}, \"xaxis\": {\"gridcolor\": \"#E1E5ED\", \"showgrid\": true, \"tickfont\": {\"color\": \"#4D5663\"}, \"title\": {\"font\": {\"color\": \"#4D5663\"}, \"text\": \"\"}, \"zerolinecolor\": \"#E1E5ED\"}, \"yaxis\": {\"gridcolor\": \"#E1E5ED\", \"showgrid\": true, \"tickfont\": {\"color\": \"#4D5663\"}, \"title\": {\"font\": {\"color\": \"#4D5663\"}, \"text\": \"\"}, \"zerolinecolor\": \"#E1E5ED\"}},\n",
       "                        {\"showLink\": true, \"linkText\": \"Export to plot.ly\", \"plotlyServerURL\": \"https://plot.ly\", \"responsive\": true}\n",
       "                    ).then(function(){\n",
       "                            \n",
       "var gd = document.getElementById('a96c6c6a-3653-44f6-aad2-9eb3cf6122c6');\n",
       "var x = new MutationObserver(function (mutations, observer) {{\n",
       "        var display = window.getComputedStyle(gd).display;\n",
       "        if (!display || display === 'none') {{\n",
       "            console.log([gd, 'removed!']);\n",
       "            Plotly.purge(gd);\n",
       "            observer.disconnect();\n",
       "        }}\n",
       "}});\n",
       "\n",
       "// Listen for the removal of the full notebook cells\n",
       "var notebookContainer = gd.closest('#notebook-container');\n",
       "if (notebookContainer) {{\n",
       "    x.observe(notebookContainer, {childList: true});\n",
       "}}\n",
       "\n",
       "// Listen for the clearing of the current output cell\n",
       "var outputEl = gd.closest('.output');\n",
       "if (outputEl) {{\n",
       "    x.observe(outputEl, {childList: true});\n",
       "}}\n",
       "\n",
       "                        })\n",
       "                };\n",
       "                });\n",
       "            </script>\n",
       "        </div>"
      ]
     },
     "metadata": {},
     "output_type": "display_data"
    }
   ],
   "source": [
    "# PLOTLY - BARPLOT\n",
    "#For instance lets say we want to count the instances for each column\n",
    "  # so do an AGGREGATE function of count\n",
    "df.count().iplot(kind='bar')"
   ]
  },
  {
   "cell_type": "code",
   "execution_count": 48,
   "metadata": {},
   "outputs": [
    {
     "data": {
      "application/vnd.plotly.v1+json": {
       "config": {
        "linkText": "Export to plot.ly",
        "plotlyServerURL": "https://plot.ly",
        "showLink": true
       },
       "data": [
        {
         "marker": {
          "color": "rgba(255, 153, 51, 0.6)",
          "line": {
           "color": "rgba(255, 153, 51, 1.0)",
           "width": 1
          }
         },
         "name": "None",
         "orientation": "v",
         "text": "",
         "type": "bar",
         "x": [
          "A",
          "B",
          "C",
          "D"
         ],
         "y": [
          12.582731611525551,
          -4.931504706052611,
          -16.51866919114218,
          2.8572875063591368
         ]
        }
       ],
       "layout": {
        "legend": {
         "bgcolor": "#F5F6F9",
         "font": {
          "color": "#4D5663"
         }
        },
        "paper_bgcolor": "#F5F6F9",
        "plot_bgcolor": "#F5F6F9",
        "template": {
         "data": {
          "bar": [
           {
            "error_x": {
             "color": "#2a3f5f"
            },
            "error_y": {
             "color": "#2a3f5f"
            },
            "marker": {
             "line": {
              "color": "#E5ECF6",
              "width": 0.5
             }
            },
            "type": "bar"
           }
          ],
          "barpolar": [
           {
            "marker": {
             "line": {
              "color": "#E5ECF6",
              "width": 0.5
             }
            },
            "type": "barpolar"
           }
          ],
          "carpet": [
           {
            "aaxis": {
             "endlinecolor": "#2a3f5f",
             "gridcolor": "white",
             "linecolor": "white",
             "minorgridcolor": "white",
             "startlinecolor": "#2a3f5f"
            },
            "baxis": {
             "endlinecolor": "#2a3f5f",
             "gridcolor": "white",
             "linecolor": "white",
             "minorgridcolor": "white",
             "startlinecolor": "#2a3f5f"
            },
            "type": "carpet"
           }
          ],
          "choropleth": [
           {
            "colorbar": {
             "outlinewidth": 0,
             "ticks": ""
            },
            "type": "choropleth"
           }
          ],
          "contour": [
           {
            "colorbar": {
             "outlinewidth": 0,
             "ticks": ""
            },
            "colorscale": [
             [
              0,
              "#0d0887"
             ],
             [
              0.1111111111111111,
              "#46039f"
             ],
             [
              0.2222222222222222,
              "#7201a8"
             ],
             [
              0.3333333333333333,
              "#9c179e"
             ],
             [
              0.4444444444444444,
              "#bd3786"
             ],
             [
              0.5555555555555556,
              "#d8576b"
             ],
             [
              0.6666666666666666,
              "#ed7953"
             ],
             [
              0.7777777777777778,
              "#fb9f3a"
             ],
             [
              0.8888888888888888,
              "#fdca26"
             ],
             [
              1,
              "#f0f921"
             ]
            ],
            "type": "contour"
           }
          ],
          "contourcarpet": [
           {
            "colorbar": {
             "outlinewidth": 0,
             "ticks": ""
            },
            "type": "contourcarpet"
           }
          ],
          "heatmap": [
           {
            "colorbar": {
             "outlinewidth": 0,
             "ticks": ""
            },
            "colorscale": [
             [
              0,
              "#0d0887"
             ],
             [
              0.1111111111111111,
              "#46039f"
             ],
             [
              0.2222222222222222,
              "#7201a8"
             ],
             [
              0.3333333333333333,
              "#9c179e"
             ],
             [
              0.4444444444444444,
              "#bd3786"
             ],
             [
              0.5555555555555556,
              "#d8576b"
             ],
             [
              0.6666666666666666,
              "#ed7953"
             ],
             [
              0.7777777777777778,
              "#fb9f3a"
             ],
             [
              0.8888888888888888,
              "#fdca26"
             ],
             [
              1,
              "#f0f921"
             ]
            ],
            "type": "heatmap"
           }
          ],
          "heatmapgl": [
           {
            "colorbar": {
             "outlinewidth": 0,
             "ticks": ""
            },
            "colorscale": [
             [
              0,
              "#0d0887"
             ],
             [
              0.1111111111111111,
              "#46039f"
             ],
             [
              0.2222222222222222,
              "#7201a8"
             ],
             [
              0.3333333333333333,
              "#9c179e"
             ],
             [
              0.4444444444444444,
              "#bd3786"
             ],
             [
              0.5555555555555556,
              "#d8576b"
             ],
             [
              0.6666666666666666,
              "#ed7953"
             ],
             [
              0.7777777777777778,
              "#fb9f3a"
             ],
             [
              0.8888888888888888,
              "#fdca26"
             ],
             [
              1,
              "#f0f921"
             ]
            ],
            "type": "heatmapgl"
           }
          ],
          "histogram": [
           {
            "marker": {
             "colorbar": {
              "outlinewidth": 0,
              "ticks": ""
             }
            },
            "type": "histogram"
           }
          ],
          "histogram2d": [
           {
            "colorbar": {
             "outlinewidth": 0,
             "ticks": ""
            },
            "colorscale": [
             [
              0,
              "#0d0887"
             ],
             [
              0.1111111111111111,
              "#46039f"
             ],
             [
              0.2222222222222222,
              "#7201a8"
             ],
             [
              0.3333333333333333,
              "#9c179e"
             ],
             [
              0.4444444444444444,
              "#bd3786"
             ],
             [
              0.5555555555555556,
              "#d8576b"
             ],
             [
              0.6666666666666666,
              "#ed7953"
             ],
             [
              0.7777777777777778,
              "#fb9f3a"
             ],
             [
              0.8888888888888888,
              "#fdca26"
             ],
             [
              1,
              "#f0f921"
             ]
            ],
            "type": "histogram2d"
           }
          ],
          "histogram2dcontour": [
           {
            "colorbar": {
             "outlinewidth": 0,
             "ticks": ""
            },
            "colorscale": [
             [
              0,
              "#0d0887"
             ],
             [
              0.1111111111111111,
              "#46039f"
             ],
             [
              0.2222222222222222,
              "#7201a8"
             ],
             [
              0.3333333333333333,
              "#9c179e"
             ],
             [
              0.4444444444444444,
              "#bd3786"
             ],
             [
              0.5555555555555556,
              "#d8576b"
             ],
             [
              0.6666666666666666,
              "#ed7953"
             ],
             [
              0.7777777777777778,
              "#fb9f3a"
             ],
             [
              0.8888888888888888,
              "#fdca26"
             ],
             [
              1,
              "#f0f921"
             ]
            ],
            "type": "histogram2dcontour"
           }
          ],
          "mesh3d": [
           {
            "colorbar": {
             "outlinewidth": 0,
             "ticks": ""
            },
            "type": "mesh3d"
           }
          ],
          "parcoords": [
           {
            "line": {
             "colorbar": {
              "outlinewidth": 0,
              "ticks": ""
             }
            },
            "type": "parcoords"
           }
          ],
          "pie": [
           {
            "automargin": true,
            "type": "pie"
           }
          ],
          "scatter": [
           {
            "marker": {
             "colorbar": {
              "outlinewidth": 0,
              "ticks": ""
             }
            },
            "type": "scatter"
           }
          ],
          "scatter3d": [
           {
            "line": {
             "colorbar": {
              "outlinewidth": 0,
              "ticks": ""
             }
            },
            "marker": {
             "colorbar": {
              "outlinewidth": 0,
              "ticks": ""
             }
            },
            "type": "scatter3d"
           }
          ],
          "scattercarpet": [
           {
            "marker": {
             "colorbar": {
              "outlinewidth": 0,
              "ticks": ""
             }
            },
            "type": "scattercarpet"
           }
          ],
          "scattergeo": [
           {
            "marker": {
             "colorbar": {
              "outlinewidth": 0,
              "ticks": ""
             }
            },
            "type": "scattergeo"
           }
          ],
          "scattergl": [
           {
            "marker": {
             "colorbar": {
              "outlinewidth": 0,
              "ticks": ""
             }
            },
            "type": "scattergl"
           }
          ],
          "scattermapbox": [
           {
            "marker": {
             "colorbar": {
              "outlinewidth": 0,
              "ticks": ""
             }
            },
            "type": "scattermapbox"
           }
          ],
          "scatterpolar": [
           {
            "marker": {
             "colorbar": {
              "outlinewidth": 0,
              "ticks": ""
             }
            },
            "type": "scatterpolar"
           }
          ],
          "scatterpolargl": [
           {
            "marker": {
             "colorbar": {
              "outlinewidth": 0,
              "ticks": ""
             }
            },
            "type": "scatterpolargl"
           }
          ],
          "scatterternary": [
           {
            "marker": {
             "colorbar": {
              "outlinewidth": 0,
              "ticks": ""
             }
            },
            "type": "scatterternary"
           }
          ],
          "surface": [
           {
            "colorbar": {
             "outlinewidth": 0,
             "ticks": ""
            },
            "colorscale": [
             [
              0,
              "#0d0887"
             ],
             [
              0.1111111111111111,
              "#46039f"
             ],
             [
              0.2222222222222222,
              "#7201a8"
             ],
             [
              0.3333333333333333,
              "#9c179e"
             ],
             [
              0.4444444444444444,
              "#bd3786"
             ],
             [
              0.5555555555555556,
              "#d8576b"
             ],
             [
              0.6666666666666666,
              "#ed7953"
             ],
             [
              0.7777777777777778,
              "#fb9f3a"
             ],
             [
              0.8888888888888888,
              "#fdca26"
             ],
             [
              1,
              "#f0f921"
             ]
            ],
            "type": "surface"
           }
          ],
          "table": [
           {
            "cells": {
             "fill": {
              "color": "#EBF0F8"
             },
             "line": {
              "color": "white"
             }
            },
            "header": {
             "fill": {
              "color": "#C8D4E3"
             },
             "line": {
              "color": "white"
             }
            },
            "type": "table"
           }
          ]
         },
         "layout": {
          "annotationdefaults": {
           "arrowcolor": "#2a3f5f",
           "arrowhead": 0,
           "arrowwidth": 1
          },
          "coloraxis": {
           "colorbar": {
            "outlinewidth": 0,
            "ticks": ""
           }
          },
          "colorscale": {
           "diverging": [
            [
             0,
             "#8e0152"
            ],
            [
             0.1,
             "#c51b7d"
            ],
            [
             0.2,
             "#de77ae"
            ],
            [
             0.3,
             "#f1b6da"
            ],
            [
             0.4,
             "#fde0ef"
            ],
            [
             0.5,
             "#f7f7f7"
            ],
            [
             0.6,
             "#e6f5d0"
            ],
            [
             0.7,
             "#b8e186"
            ],
            [
             0.8,
             "#7fbc41"
            ],
            [
             0.9,
             "#4d9221"
            ],
            [
             1,
             "#276419"
            ]
           ],
           "sequential": [
            [
             0,
             "#0d0887"
            ],
            [
             0.1111111111111111,
             "#46039f"
            ],
            [
             0.2222222222222222,
             "#7201a8"
            ],
            [
             0.3333333333333333,
             "#9c179e"
            ],
            [
             0.4444444444444444,
             "#bd3786"
            ],
            [
             0.5555555555555556,
             "#d8576b"
            ],
            [
             0.6666666666666666,
             "#ed7953"
            ],
            [
             0.7777777777777778,
             "#fb9f3a"
            ],
            [
             0.8888888888888888,
             "#fdca26"
            ],
            [
             1,
             "#f0f921"
            ]
           ],
           "sequentialminus": [
            [
             0,
             "#0d0887"
            ],
            [
             0.1111111111111111,
             "#46039f"
            ],
            [
             0.2222222222222222,
             "#7201a8"
            ],
            [
             0.3333333333333333,
             "#9c179e"
            ],
            [
             0.4444444444444444,
             "#bd3786"
            ],
            [
             0.5555555555555556,
             "#d8576b"
            ],
            [
             0.6666666666666666,
             "#ed7953"
            ],
            [
             0.7777777777777778,
             "#fb9f3a"
            ],
            [
             0.8888888888888888,
             "#fdca26"
            ],
            [
             1,
             "#f0f921"
            ]
           ]
          },
          "colorway": [
           "#636efa",
           "#EF553B",
           "#00cc96",
           "#ab63fa",
           "#FFA15A",
           "#19d3f3",
           "#FF6692",
           "#B6E880",
           "#FF97FF",
           "#FECB52"
          ],
          "font": {
           "color": "#2a3f5f"
          },
          "geo": {
           "bgcolor": "white",
           "lakecolor": "white",
           "landcolor": "#E5ECF6",
           "showlakes": true,
           "showland": true,
           "subunitcolor": "white"
          },
          "hoverlabel": {
           "align": "left"
          },
          "hovermode": "closest",
          "mapbox": {
           "style": "light"
          },
          "paper_bgcolor": "white",
          "plot_bgcolor": "#E5ECF6",
          "polar": {
           "angularaxis": {
            "gridcolor": "white",
            "linecolor": "white",
            "ticks": ""
           },
           "bgcolor": "#E5ECF6",
           "radialaxis": {
            "gridcolor": "white",
            "linecolor": "white",
            "ticks": ""
           }
          },
          "scene": {
           "xaxis": {
            "backgroundcolor": "#E5ECF6",
            "gridcolor": "white",
            "gridwidth": 2,
            "linecolor": "white",
            "showbackground": true,
            "ticks": "",
            "zerolinecolor": "white"
           },
           "yaxis": {
            "backgroundcolor": "#E5ECF6",
            "gridcolor": "white",
            "gridwidth": 2,
            "linecolor": "white",
            "showbackground": true,
            "ticks": "",
            "zerolinecolor": "white"
           },
           "zaxis": {
            "backgroundcolor": "#E5ECF6",
            "gridcolor": "white",
            "gridwidth": 2,
            "linecolor": "white",
            "showbackground": true,
            "ticks": "",
            "zerolinecolor": "white"
           }
          },
          "shapedefaults": {
           "line": {
            "color": "#2a3f5f"
           }
          },
          "ternary": {
           "aaxis": {
            "gridcolor": "white",
            "linecolor": "white",
            "ticks": ""
           },
           "baxis": {
            "gridcolor": "white",
            "linecolor": "white",
            "ticks": ""
           },
           "bgcolor": "#E5ECF6",
           "caxis": {
            "gridcolor": "white",
            "linecolor": "white",
            "ticks": ""
           }
          },
          "title": {
           "x": 0.05
          },
          "xaxis": {
           "automargin": true,
           "gridcolor": "white",
           "linecolor": "white",
           "ticks": "",
           "title": {
            "standoff": 15
           },
           "zerolinecolor": "white",
           "zerolinewidth": 2
          },
          "yaxis": {
           "automargin": true,
           "gridcolor": "white",
           "linecolor": "white",
           "ticks": "",
           "title": {
            "standoff": 15
           },
           "zerolinecolor": "white",
           "zerolinewidth": 2
          }
         }
        },
        "title": {
         "font": {
          "color": "#4D5663"
         }
        },
        "xaxis": {
         "gridcolor": "#E1E5ED",
         "showgrid": true,
         "tickfont": {
          "color": "#4D5663"
         },
         "title": {
          "font": {
           "color": "#4D5663"
          },
          "text": ""
         },
         "zerolinecolor": "#E1E5ED"
        },
        "yaxis": {
         "gridcolor": "#E1E5ED",
         "showgrid": true,
         "tickfont": {
          "color": "#4D5663"
         },
         "title": {
          "font": {
           "color": "#4D5663"
          },
          "text": ""
         },
         "zerolinecolor": "#E1E5ED"
        }
       }
      },
      "text/html": [
       "<div>\n",
       "        \n",
       "        \n",
       "            <div id=\"c98f82da-d646-4373-916c-44e7fb583641\" class=\"plotly-graph-div\" style=\"height:525px; width:100%;\"></div>\n",
       "            <script type=\"text/javascript\">\n",
       "                require([\"plotly\"], function(Plotly) {\n",
       "                    window.PLOTLYENV=window.PLOTLYENV || {};\n",
       "                    window.PLOTLYENV.BASE_URL='https://plot.ly';\n",
       "                    \n",
       "                if (document.getElementById(\"c98f82da-d646-4373-916c-44e7fb583641\")) {\n",
       "                    Plotly.newPlot(\n",
       "                        'c98f82da-d646-4373-916c-44e7fb583641',\n",
       "                        [{\"marker\": {\"color\": \"rgba(255, 153, 51, 0.6)\", \"line\": {\"color\": \"rgba(255, 153, 51, 1.0)\", \"width\": 1}}, \"name\": \"None\", \"orientation\": \"v\", \"text\": \"\", \"type\": \"bar\", \"x\": [\"A\", \"B\", \"C\", \"D\"], \"y\": [12.582731611525551, -4.931504706052611, -16.51866919114218, 2.8572875063591368]}],\n",
       "                        {\"legend\": {\"bgcolor\": \"#F5F6F9\", \"font\": {\"color\": \"#4D5663\"}}, \"paper_bgcolor\": \"#F5F6F9\", \"plot_bgcolor\": \"#F5F6F9\", \"template\": {\"data\": {\"bar\": [{\"error_x\": {\"color\": \"#2a3f5f\"}, \"error_y\": {\"color\": \"#2a3f5f\"}, \"marker\": {\"line\": {\"color\": \"#E5ECF6\", \"width\": 0.5}}, \"type\": \"bar\"}], \"barpolar\": [{\"marker\": {\"line\": {\"color\": \"#E5ECF6\", \"width\": 0.5}}, \"type\": \"barpolar\"}], \"carpet\": [{\"aaxis\": {\"endlinecolor\": \"#2a3f5f\", \"gridcolor\": \"white\", \"linecolor\": \"white\", \"minorgridcolor\": \"white\", \"startlinecolor\": \"#2a3f5f\"}, \"baxis\": {\"endlinecolor\": \"#2a3f5f\", \"gridcolor\": \"white\", \"linecolor\": \"white\", \"minorgridcolor\": \"white\", \"startlinecolor\": \"#2a3f5f\"}, \"type\": \"carpet\"}], \"choropleth\": [{\"colorbar\": {\"outlinewidth\": 0, \"ticks\": \"\"}, \"type\": \"choropleth\"}], \"contour\": [{\"colorbar\": {\"outlinewidth\": 0, \"ticks\": \"\"}, \"colorscale\": [[0.0, \"#0d0887\"], [0.1111111111111111, \"#46039f\"], [0.2222222222222222, \"#7201a8\"], [0.3333333333333333, \"#9c179e\"], [0.4444444444444444, \"#bd3786\"], [0.5555555555555556, \"#d8576b\"], [0.6666666666666666, \"#ed7953\"], [0.7777777777777778, \"#fb9f3a\"], [0.8888888888888888, \"#fdca26\"], [1.0, \"#f0f921\"]], \"type\": \"contour\"}], \"contourcarpet\": [{\"colorbar\": {\"outlinewidth\": 0, \"ticks\": \"\"}, \"type\": \"contourcarpet\"}], \"heatmap\": [{\"colorbar\": {\"outlinewidth\": 0, \"ticks\": \"\"}, \"colorscale\": [[0.0, \"#0d0887\"], [0.1111111111111111, \"#46039f\"], [0.2222222222222222, \"#7201a8\"], [0.3333333333333333, \"#9c179e\"], [0.4444444444444444, \"#bd3786\"], [0.5555555555555556, \"#d8576b\"], [0.6666666666666666, \"#ed7953\"], [0.7777777777777778, \"#fb9f3a\"], [0.8888888888888888, \"#fdca26\"], [1.0, \"#f0f921\"]], \"type\": \"heatmap\"}], \"heatmapgl\": [{\"colorbar\": {\"outlinewidth\": 0, \"ticks\": \"\"}, \"colorscale\": [[0.0, \"#0d0887\"], [0.1111111111111111, \"#46039f\"], [0.2222222222222222, \"#7201a8\"], [0.3333333333333333, \"#9c179e\"], [0.4444444444444444, \"#bd3786\"], [0.5555555555555556, \"#d8576b\"], [0.6666666666666666, \"#ed7953\"], [0.7777777777777778, \"#fb9f3a\"], [0.8888888888888888, \"#fdca26\"], [1.0, \"#f0f921\"]], \"type\": \"heatmapgl\"}], \"histogram\": [{\"marker\": {\"colorbar\": {\"outlinewidth\": 0, \"ticks\": \"\"}}, \"type\": \"histogram\"}], \"histogram2d\": [{\"colorbar\": {\"outlinewidth\": 0, \"ticks\": \"\"}, \"colorscale\": [[0.0, \"#0d0887\"], [0.1111111111111111, \"#46039f\"], [0.2222222222222222, \"#7201a8\"], [0.3333333333333333, \"#9c179e\"], [0.4444444444444444, \"#bd3786\"], [0.5555555555555556, \"#d8576b\"], [0.6666666666666666, \"#ed7953\"], [0.7777777777777778, \"#fb9f3a\"], [0.8888888888888888, \"#fdca26\"], [1.0, \"#f0f921\"]], \"type\": \"histogram2d\"}], \"histogram2dcontour\": [{\"colorbar\": {\"outlinewidth\": 0, \"ticks\": \"\"}, \"colorscale\": [[0.0, \"#0d0887\"], [0.1111111111111111, \"#46039f\"], [0.2222222222222222, \"#7201a8\"], [0.3333333333333333, \"#9c179e\"], [0.4444444444444444, \"#bd3786\"], [0.5555555555555556, \"#d8576b\"], [0.6666666666666666, \"#ed7953\"], [0.7777777777777778, \"#fb9f3a\"], [0.8888888888888888, \"#fdca26\"], [1.0, \"#f0f921\"]], \"type\": \"histogram2dcontour\"}], \"mesh3d\": [{\"colorbar\": {\"outlinewidth\": 0, \"ticks\": \"\"}, \"type\": \"mesh3d\"}], \"parcoords\": [{\"line\": {\"colorbar\": {\"outlinewidth\": 0, \"ticks\": \"\"}}, \"type\": \"parcoords\"}], \"pie\": [{\"automargin\": true, \"type\": \"pie\"}], \"scatter\": [{\"marker\": {\"colorbar\": {\"outlinewidth\": 0, \"ticks\": \"\"}}, \"type\": \"scatter\"}], \"scatter3d\": [{\"line\": {\"colorbar\": {\"outlinewidth\": 0, \"ticks\": \"\"}}, \"marker\": {\"colorbar\": {\"outlinewidth\": 0, \"ticks\": \"\"}}, \"type\": \"scatter3d\"}], \"scattercarpet\": [{\"marker\": {\"colorbar\": {\"outlinewidth\": 0, \"ticks\": \"\"}}, \"type\": \"scattercarpet\"}], \"scattergeo\": [{\"marker\": {\"colorbar\": {\"outlinewidth\": 0, \"ticks\": \"\"}}, \"type\": \"scattergeo\"}], \"scattergl\": [{\"marker\": {\"colorbar\": {\"outlinewidth\": 0, \"ticks\": \"\"}}, \"type\": \"scattergl\"}], \"scattermapbox\": [{\"marker\": {\"colorbar\": {\"outlinewidth\": 0, \"ticks\": \"\"}}, \"type\": \"scattermapbox\"}], \"scatterpolar\": [{\"marker\": {\"colorbar\": {\"outlinewidth\": 0, \"ticks\": \"\"}}, \"type\": \"scatterpolar\"}], \"scatterpolargl\": [{\"marker\": {\"colorbar\": {\"outlinewidth\": 0, \"ticks\": \"\"}}, \"type\": \"scatterpolargl\"}], \"scatterternary\": [{\"marker\": {\"colorbar\": {\"outlinewidth\": 0, \"ticks\": \"\"}}, \"type\": \"scatterternary\"}], \"surface\": [{\"colorbar\": {\"outlinewidth\": 0, \"ticks\": \"\"}, \"colorscale\": [[0.0, \"#0d0887\"], [0.1111111111111111, \"#46039f\"], [0.2222222222222222, \"#7201a8\"], [0.3333333333333333, \"#9c179e\"], [0.4444444444444444, \"#bd3786\"], [0.5555555555555556, \"#d8576b\"], [0.6666666666666666, \"#ed7953\"], [0.7777777777777778, \"#fb9f3a\"], [0.8888888888888888, \"#fdca26\"], [1.0, \"#f0f921\"]], \"type\": \"surface\"}], \"table\": [{\"cells\": {\"fill\": {\"color\": \"#EBF0F8\"}, \"line\": {\"color\": \"white\"}}, \"header\": {\"fill\": {\"color\": \"#C8D4E3\"}, \"line\": {\"color\": \"white\"}}, \"type\": \"table\"}]}, \"layout\": {\"annotationdefaults\": {\"arrowcolor\": \"#2a3f5f\", \"arrowhead\": 0, \"arrowwidth\": 1}, \"coloraxis\": {\"colorbar\": {\"outlinewidth\": 0, \"ticks\": \"\"}}, \"colorscale\": {\"diverging\": [[0, \"#8e0152\"], [0.1, \"#c51b7d\"], [0.2, \"#de77ae\"], [0.3, \"#f1b6da\"], [0.4, \"#fde0ef\"], [0.5, \"#f7f7f7\"], [0.6, \"#e6f5d0\"], [0.7, \"#b8e186\"], [0.8, \"#7fbc41\"], [0.9, \"#4d9221\"], [1, \"#276419\"]], \"sequential\": [[0.0, \"#0d0887\"], [0.1111111111111111, \"#46039f\"], [0.2222222222222222, \"#7201a8\"], [0.3333333333333333, \"#9c179e\"], [0.4444444444444444, \"#bd3786\"], [0.5555555555555556, \"#d8576b\"], [0.6666666666666666, \"#ed7953\"], [0.7777777777777778, \"#fb9f3a\"], [0.8888888888888888, \"#fdca26\"], [1.0, \"#f0f921\"]], \"sequentialminus\": [[0.0, \"#0d0887\"], [0.1111111111111111, \"#46039f\"], [0.2222222222222222, \"#7201a8\"], [0.3333333333333333, \"#9c179e\"], [0.4444444444444444, \"#bd3786\"], [0.5555555555555556, \"#d8576b\"], [0.6666666666666666, \"#ed7953\"], [0.7777777777777778, \"#fb9f3a\"], [0.8888888888888888, \"#fdca26\"], [1.0, \"#f0f921\"]]}, \"colorway\": [\"#636efa\", \"#EF553B\", \"#00cc96\", \"#ab63fa\", \"#FFA15A\", \"#19d3f3\", \"#FF6692\", \"#B6E880\", \"#FF97FF\", \"#FECB52\"], \"font\": {\"color\": \"#2a3f5f\"}, \"geo\": {\"bgcolor\": \"white\", \"lakecolor\": \"white\", \"landcolor\": \"#E5ECF6\", \"showlakes\": true, \"showland\": true, \"subunitcolor\": \"white\"}, \"hoverlabel\": {\"align\": \"left\"}, \"hovermode\": \"closest\", \"mapbox\": {\"style\": \"light\"}, \"paper_bgcolor\": \"white\", \"plot_bgcolor\": \"#E5ECF6\", \"polar\": {\"angularaxis\": {\"gridcolor\": \"white\", \"linecolor\": \"white\", \"ticks\": \"\"}, \"bgcolor\": \"#E5ECF6\", \"radialaxis\": {\"gridcolor\": \"white\", \"linecolor\": \"white\", \"ticks\": \"\"}}, \"scene\": {\"xaxis\": {\"backgroundcolor\": \"#E5ECF6\", \"gridcolor\": \"white\", \"gridwidth\": 2, \"linecolor\": \"white\", \"showbackground\": true, \"ticks\": \"\", \"zerolinecolor\": \"white\"}, \"yaxis\": {\"backgroundcolor\": \"#E5ECF6\", \"gridcolor\": \"white\", \"gridwidth\": 2, \"linecolor\": \"white\", \"showbackground\": true, \"ticks\": \"\", \"zerolinecolor\": \"white\"}, \"zaxis\": {\"backgroundcolor\": \"#E5ECF6\", \"gridcolor\": \"white\", \"gridwidth\": 2, \"linecolor\": \"white\", \"showbackground\": true, \"ticks\": \"\", \"zerolinecolor\": \"white\"}}, \"shapedefaults\": {\"line\": {\"color\": \"#2a3f5f\"}}, \"ternary\": {\"aaxis\": {\"gridcolor\": \"white\", \"linecolor\": \"white\", \"ticks\": \"\"}, \"baxis\": {\"gridcolor\": \"white\", \"linecolor\": \"white\", \"ticks\": \"\"}, \"bgcolor\": \"#E5ECF6\", \"caxis\": {\"gridcolor\": \"white\", \"linecolor\": \"white\", \"ticks\": \"\"}}, \"title\": {\"x\": 0.05}, \"xaxis\": {\"automargin\": true, \"gridcolor\": \"white\", \"linecolor\": \"white\", \"ticks\": \"\", \"title\": {\"standoff\": 15}, \"zerolinecolor\": \"white\", \"zerolinewidth\": 2}, \"yaxis\": {\"automargin\": true, \"gridcolor\": \"white\", \"linecolor\": \"white\", \"ticks\": \"\", \"title\": {\"standoff\": 15}, \"zerolinecolor\": \"white\", \"zerolinewidth\": 2}}}, \"title\": {\"font\": {\"color\": \"#4D5663\"}}, \"xaxis\": {\"gridcolor\": \"#E1E5ED\", \"showgrid\": true, \"tickfont\": {\"color\": \"#4D5663\"}, \"title\": {\"font\": {\"color\": \"#4D5663\"}, \"text\": \"\"}, \"zerolinecolor\": \"#E1E5ED\"}, \"yaxis\": {\"gridcolor\": \"#E1E5ED\", \"showgrid\": true, \"tickfont\": {\"color\": \"#4D5663\"}, \"title\": {\"font\": {\"color\": \"#4D5663\"}, \"text\": \"\"}, \"zerolinecolor\": \"#E1E5ED\"}},\n",
       "                        {\"showLink\": true, \"linkText\": \"Export to plot.ly\", \"plotlyServerURL\": \"https://plot.ly\", \"responsive\": true}\n",
       "                    ).then(function(){\n",
       "                            \n",
       "var gd = document.getElementById('c98f82da-d646-4373-916c-44e7fb583641');\n",
       "var x = new MutationObserver(function (mutations, observer) {{\n",
       "        var display = window.getComputedStyle(gd).display;\n",
       "        if (!display || display === 'none') {{\n",
       "            console.log([gd, 'removed!']);\n",
       "            Plotly.purge(gd);\n",
       "            observer.disconnect();\n",
       "        }}\n",
       "}});\n",
       "\n",
       "// Listen for the removal of the full notebook cells\n",
       "var notebookContainer = gd.closest('#notebook-container');\n",
       "if (notebookContainer) {{\n",
       "    x.observe(notebookContainer, {childList: true});\n",
       "}}\n",
       "\n",
       "// Listen for the clearing of the current output cell\n",
       "var outputEl = gd.closest('.output');\n",
       "if (outputEl) {{\n",
       "    x.observe(outputEl, {childList: true});\n",
       "}}\n",
       "\n",
       "                        })\n",
       "                };\n",
       "                });\n",
       "            </script>\n",
       "        </div>"
      ]
     },
     "metadata": {},
     "output_type": "display_data"
    }
   ],
   "source": [
    "# PLOTLY - BARPLOT\n",
    "# Do an aggregate of sum on each column\n",
    "df.sum().iplot(kind='bar')"
   ]
  },
  {
   "cell_type": "code",
   "execution_count": 49,
   "metadata": {},
   "outputs": [
    {
     "data": {
      "application/vnd.plotly.v1+json": {
       "config": {
        "linkText": "Export to plot.ly",
        "plotlyServerURL": "https://plot.ly",
        "showLink": true
       },
       "data": [
        {
         "boxpoints": false,
         "line": {
          "width": 1.3
         },
         "marker": {
          "color": "rgba(255, 153, 51, 1.0)"
         },
         "name": "A",
         "orientation": "v",
         "type": "box",
         "y": [
          -1.228210303840886,
          0.673718637442548,
          -0.6359991664128826,
          -0.23262448905478936,
          -0.4652684818242084,
          0.09112090769390506,
          1.1202307162460101,
          -0.913002197072858,
          -1.7866033041530176,
          -1.1819664154244243,
          -2.2518992211992668,
          1.6419723454475943,
          -0.5049024421225882,
          -0.8316433290825647,
          -1.9026947938151906,
          0.9529643236956478,
          0.8424279826802521,
          0.6496949082875334,
          -1.2710369557178685,
          0.6744304243539521,
          0.27031806004342473,
          -0.6151995848966308,
          1.286999400136683,
          2.754225637025308,
          -0.8685563696172357,
          -0.37270596578089227,
          0.21656933195695277,
          0.3299593481685292,
          -0.38976956152955244,
          0.7899141331885607,
          -0.15232135255386411,
          -0.3278732576519635,
          -0.1714780618959102,
          0.24585193839195518,
          -0.520103537564345,
          0.9423867963175877,
          0.6998506662177038,
          2.9565000032387485,
          -0.16771290225752722,
          -0.8565644599372393,
          1.9093025443891725,
          -0.6065596660356215,
          1.5561398386580072,
          -1.6604273958353217,
          0.29570532237337854,
          -0.30655930240007645,
          0.5629765465472392,
          -1.1157754639387614,
          -0.22955196345192624,
          -2.0050583424582227,
          0.11713750696332578,
          2.8267139655873303,
          0.46332154157231764,
          0.8913848873219073,
          -0.27625761399056287,
          0.17061072015134288,
          0.01247361244100639,
          -1.1868120197940502,
          -0.1768842533262507,
          0.3980979509622024,
          1.7637268334097294,
          0.9632004046301621,
          -0.174102504451404,
          -1.02063042523494,
          1.678577707560514,
          2.061538374722697,
          -0.01891713764992838,
          -0.34503079589422914,
          -0.8918084865031932,
          -0.7260269927380488,
          0.49049384129362483,
          -1.7200742116968653,
          -0.7129415168181875,
          -0.44188757928112904,
          3.5061225729394834,
          -0.48365529838350285,
          0.09783218038002926,
          1.4577512305513558,
          0.036503672104812285,
          1.6157315712246738,
          0.34311746110657376,
          0.531373414113734,
          -0.7186086927412191,
          1.956762618943234,
          -0.06307785143259939,
          0.18422454988996845,
          -0.8828271943787102,
          -0.7819307241118907,
          -0.4712984396735526,
          0.8208067834200556,
          -0.9535656763785126,
          0.6172811281139772,
          0.38806297663784844,
          0.21969028658437853,
          0.5142512913421163,
          0.3040997986323465,
          0.28940893588859046,
          0.39912893114064507,
          0.8522015383297381,
          0.766249213069548
         ]
        },
        {
         "boxpoints": false,
         "line": {
          "width": 1.3
         },
         "marker": {
          "color": "rgba(55, 128, 191, 1.0)"
         },
         "name": "B",
         "orientation": "v",
         "type": "box",
         "y": [
          -0.9410992898133941,
          0.7403709673795416,
          -0.3681996600834796,
          0.0991597200760194,
          -1.6825783826168605,
          -0.6208141494578543,
          -1.2271159557122688,
          -0.8033660807642069,
          0.8468097288813591,
          0.1722880167006293,
          -0.6637349467662795,
          -1.1017957408634886,
          0.78893110183799,
          0.5052234648355544,
          -0.5183463996216997,
          -0.13014575030713596,
          -2.1173663052566436,
          1.0340391919026775,
          0.4758016414816595,
          1.1751249928768135,
          -0.5777840131627777,
          0.35166835742458624,
          0.4250410076349158,
          0.12956422399669026,
          -0.40001911165167875,
          0.49433210165665,
          0.9238971005402511,
          -0.7022088325329872,
          -0.6250617284042304,
          0.823798227192268,
          0.6736158408541878,
          -0.3471483746325953,
          -1.3044961423954966,
          1.2676370274998308,
          -1.3142364799225965,
          2.650935361804906,
          0.9822129709541314,
          1.9357227006820465,
          0.3703095980993604,
          -0.5530894722283664,
          -1.0407802242731543,
          -0.24484815231948331,
          1.7030276075455875,
          0.4806778126836462,
          0.6063504773432427,
          0.19814079912786253,
          -0.28845578570720243,
          0.336187104999158,
          0.8742807414259941,
          -0.7787074869262802,
          0.5468775255294299,
          -0.723845204414693,
          0.008127763819823951,
          0.34186476255512704,
          0.2639769485027573,
          -1.8208409662925802,
          0.24074451187422571,
          0.5562452782986852,
          -0.5824077840268167,
          0.17050183300365282,
          0.42085884285977426,
          -0.8692661641636048,
          -0.9723993347465054,
          0.5395347413629555,
          -1.144824452521687,
          -1.5581534101688002,
          -1.6729339246680435,
          -2.2056076136021434,
          1.103355797338571,
          0.7678907038054802,
          -0.5151607726764834,
          -0.6475275993757056,
          -1.0082785648677384,
          1.5260113519881962,
          -0.0076054176697331385,
          -0.8379869596906585,
          -0.8532996052463981,
          0.520857662239727,
          -1.1507840593174075,
          0.13138500423423757,
          1.766428276090597,
          0.6509203417858905,
          1.290169264557484,
          0.461245786964094,
          0.381986938073141,
          0.7753138167975542,
          0.8672473904523145,
          0.18973725833913044,
          0.040801741645153794,
          -1.391900776067866,
          -0.6712369302438657,
          -0.04660937009967414,
          -1.1372146461701285,
          0.370270983375189,
          0.5796009309658001,
          -1.4386684202941982,
          -1.319559175894388,
          -0.5188624577046717,
          -1.050562091557685,
          1.988326116952474
         ]
        },
        {
         "boxpoints": false,
         "line": {
          "width": 1.3
         },
         "marker": {
          "color": "rgba(50, 171, 96, 1.0)"
         },
         "name": "C",
         "orientation": "v",
         "type": "box",
         "y": [
          0.1426936499011667,
          0.6743863824468715,
          -1.9159042047040724,
          0.12701611366523768,
          0.5636280465689022,
          0.2653262616821967,
          -0.5830900218537203,
          1.6268944121439155,
          0.032134459457989054,
          0.2837070672739637,
          -0.908341131234595,
          -0.2912868176976957,
          -0.5596115261134985,
          -0.6698547775985916,
          -0.06644066405389445,
          -0.5635975064256188,
          -0.03413687986916309,
          -0.19300147898416536,
          0.3872050642817624,
          -2.1165183184615546,
          -0.6976749316032758,
          1.5783006573276834,
          -1.0984317833839843,
          0.1935586317598326,
          -2.0414514060862277,
          0.8273165865437476,
          -0.5334902768575471,
          -0.6596195709663755,
          -0.549215782627158,
          -0.5465157483350779,
          -2.2291257904849964,
          -0.8924230840343537,
          0.5864182297589924,
          -0.8774228368518772,
          1.2637792405670139,
          -1.3408252236678477,
          -0.6005444176819201,
          0.6910209001315113,
          0.030946176835107673,
          0.8317294046592685,
          -0.24226793477545702,
          -1.0751195048330666,
          1.6790089121797258,
          0.5299931706931623,
          0.9065907842791338,
          -0.9544899579816438,
          1.2784401587767251,
          0.15403433605819544,
          0.611993290038772,
          -0.7559634279957641,
          0.08819990722390152,
          -1.056055039049362,
          2.0027716806468785,
          -1.9615720122189535,
          -0.17513402898714328,
          -0.4798872243484583,
          -2.4508266457656,
          -0.33884412615446186,
          -2.019978178352013,
          -0.7290974754166974,
          -1.347793986082597,
          2.1398770557429487,
          0.16040455572132187,
          0.06465038310874904,
          0.015294630368586389,
          -1.0890873934955765,
          1.4409058291864612,
          -1.371518717484521,
          1.3071811967033915,
          1.3904478393949753,
          -2.0037227249117553,
          0.11510825724336189,
          -0.29718611398512745,
          -0.5055331245752551,
          0.6448185869979838,
          0.1491150879202775,
          0.9985330501748927,
          1.0014419886266486,
          1.865102464507751,
          0.2286365636433252,
          -0.03550451414647598,
          -2.718717212523047,
          -0.9240701341744608,
          -0.2888760375290752,
          0.5207417218309627,
          1.1687872614974864,
          0.2565814315959523,
          -0.18066310467005145,
          0.06308409801663467,
          -0.7123126172355311,
          -1.0368383000789096,
          0.27498166815858444,
          -1.140923803902282,
          -1.525816700957253,
          0.21746655202661985,
          0.052356171907522044,
          -0.49939185897760346,
          0.13609632242732642,
          -0.28894964323218236,
          0.08729029057194035
         ]
        },
        {
         "boxpoints": false,
         "line": {
          "width": 1.3
         },
         "marker": {
          "color": "rgba(128, 0, 128, 1.0)"
         },
         "name": "D",
         "orientation": "v",
         "type": "box",
         "y": [
          0.6106487369671837,
          -0.5580959391359147,
          -0.40383476919477296,
          0.11125072387168945,
          1.914679797928206,
          -0.5794917293571655,
          0.2802186585460156,
          -0.48119536467688356,
          1.549222235085247,
          -0.761040886666783,
          -0.2042886730218136,
          -0.14071286229645755,
          -0.08572931138786967,
          -0.4342450052527491,
          0.8159473114893341,
          1.5181456675065004,
          -0.2591638049954156,
          1.4637550557367995,
          -0.8259681604858221,
          -0.878102167941134,
          -2.1062948243645536,
          -0.3254887503171195,
          -0.07034230093754808,
          -0.44464327812496063,
          1.961675856334788,
          0.24629335711581235,
          0.09799551611645173,
          0.19159035994880308,
          -1.0156074997556654,
          1.2806421125844174,
          0.1304788681345427,
          0.1206976944051949,
          -0.48836243352088493,
          2.802032607444495,
          0.9992093115241782,
          -0.7896734382539464,
          0.42162329356356454,
          0.014579143845804126,
          -0.4652716694577242,
          0.3454690258598138,
          0.6454479664922625,
          0.5927360716174458,
          -1.1091587246321357,
          -0.3763966436874311,
          -0.4723404843015961,
          1.6296431854939475,
          -1.2247809594359418,
          -0.9550425500787262,
          0.2789136570555125,
          -0.5729846821735802,
          -0.026253713718288375,
          0.725066652097282,
          0.6902230007349073,
          0.9811932312461932,
          1.9688012226230052,
          -0.13927462217851405,
          -0.5123803245556551,
          0.7056350323843916,
          -0.5720206839257674,
          -2.0999560084539954,
          0.28156143554830015,
          1.0747977797889474,
          -1.158658136514488,
          0.529537528312165,
          -0.11214529017336296,
          -0.4160977828350819,
          -1.0674672412849793,
          -0.2449859194432744,
          -0.6128110114858487,
          1.9448518050754133,
          -1.783138151347126,
          -0.6752860083341697,
          0.7022789401239837,
          -1.835524755070365,
          -0.313253458096198,
          -0.45099788556239573,
          -0.28857769772700764,
          -0.1892423501615623,
          -0.24688173949758832,
          0.13424524754480605,
          0.05797104701583112,
          0.09660484893958388,
          -1.3095879709172507,
          0.24754957486710374,
          1.9569210065511524,
          2.0954909828936454,
          2.2068872058371127,
          -1.8935847994034554,
          -1.9658707145920777,
          -1.0564378775196899,
          1.4874017864180422,
          0.17280821165585758,
          0.37644056131981074,
          0.2340871273662667,
          -1.0632261061039,
          0.5540872350959097,
          -1.007909624391688,
          0.6562083549945321,
          -0.08960169518516971,
          0.11316995519037891
         ]
        }
       ],
       "layout": {
        "legend": {
         "bgcolor": "#F5F6F9",
         "font": {
          "color": "#4D5663"
         }
        },
        "paper_bgcolor": "#F5F6F9",
        "plot_bgcolor": "#F5F6F9",
        "template": {
         "data": {
          "bar": [
           {
            "error_x": {
             "color": "#2a3f5f"
            },
            "error_y": {
             "color": "#2a3f5f"
            },
            "marker": {
             "line": {
              "color": "#E5ECF6",
              "width": 0.5
             }
            },
            "type": "bar"
           }
          ],
          "barpolar": [
           {
            "marker": {
             "line": {
              "color": "#E5ECF6",
              "width": 0.5
             }
            },
            "type": "barpolar"
           }
          ],
          "carpet": [
           {
            "aaxis": {
             "endlinecolor": "#2a3f5f",
             "gridcolor": "white",
             "linecolor": "white",
             "minorgridcolor": "white",
             "startlinecolor": "#2a3f5f"
            },
            "baxis": {
             "endlinecolor": "#2a3f5f",
             "gridcolor": "white",
             "linecolor": "white",
             "minorgridcolor": "white",
             "startlinecolor": "#2a3f5f"
            },
            "type": "carpet"
           }
          ],
          "choropleth": [
           {
            "colorbar": {
             "outlinewidth": 0,
             "ticks": ""
            },
            "type": "choropleth"
           }
          ],
          "contour": [
           {
            "colorbar": {
             "outlinewidth": 0,
             "ticks": ""
            },
            "colorscale": [
             [
              0,
              "#0d0887"
             ],
             [
              0.1111111111111111,
              "#46039f"
             ],
             [
              0.2222222222222222,
              "#7201a8"
             ],
             [
              0.3333333333333333,
              "#9c179e"
             ],
             [
              0.4444444444444444,
              "#bd3786"
             ],
             [
              0.5555555555555556,
              "#d8576b"
             ],
             [
              0.6666666666666666,
              "#ed7953"
             ],
             [
              0.7777777777777778,
              "#fb9f3a"
             ],
             [
              0.8888888888888888,
              "#fdca26"
             ],
             [
              1,
              "#f0f921"
             ]
            ],
            "type": "contour"
           }
          ],
          "contourcarpet": [
           {
            "colorbar": {
             "outlinewidth": 0,
             "ticks": ""
            },
            "type": "contourcarpet"
           }
          ],
          "heatmap": [
           {
            "colorbar": {
             "outlinewidth": 0,
             "ticks": ""
            },
            "colorscale": [
             [
              0,
              "#0d0887"
             ],
             [
              0.1111111111111111,
              "#46039f"
             ],
             [
              0.2222222222222222,
              "#7201a8"
             ],
             [
              0.3333333333333333,
              "#9c179e"
             ],
             [
              0.4444444444444444,
              "#bd3786"
             ],
             [
              0.5555555555555556,
              "#d8576b"
             ],
             [
              0.6666666666666666,
              "#ed7953"
             ],
             [
              0.7777777777777778,
              "#fb9f3a"
             ],
             [
              0.8888888888888888,
              "#fdca26"
             ],
             [
              1,
              "#f0f921"
             ]
            ],
            "type": "heatmap"
           }
          ],
          "heatmapgl": [
           {
            "colorbar": {
             "outlinewidth": 0,
             "ticks": ""
            },
            "colorscale": [
             [
              0,
              "#0d0887"
             ],
             [
              0.1111111111111111,
              "#46039f"
             ],
             [
              0.2222222222222222,
              "#7201a8"
             ],
             [
              0.3333333333333333,
              "#9c179e"
             ],
             [
              0.4444444444444444,
              "#bd3786"
             ],
             [
              0.5555555555555556,
              "#d8576b"
             ],
             [
              0.6666666666666666,
              "#ed7953"
             ],
             [
              0.7777777777777778,
              "#fb9f3a"
             ],
             [
              0.8888888888888888,
              "#fdca26"
             ],
             [
              1,
              "#f0f921"
             ]
            ],
            "type": "heatmapgl"
           }
          ],
          "histogram": [
           {
            "marker": {
             "colorbar": {
              "outlinewidth": 0,
              "ticks": ""
             }
            },
            "type": "histogram"
           }
          ],
          "histogram2d": [
           {
            "colorbar": {
             "outlinewidth": 0,
             "ticks": ""
            },
            "colorscale": [
             [
              0,
              "#0d0887"
             ],
             [
              0.1111111111111111,
              "#46039f"
             ],
             [
              0.2222222222222222,
              "#7201a8"
             ],
             [
              0.3333333333333333,
              "#9c179e"
             ],
             [
              0.4444444444444444,
              "#bd3786"
             ],
             [
              0.5555555555555556,
              "#d8576b"
             ],
             [
              0.6666666666666666,
              "#ed7953"
             ],
             [
              0.7777777777777778,
              "#fb9f3a"
             ],
             [
              0.8888888888888888,
              "#fdca26"
             ],
             [
              1,
              "#f0f921"
             ]
            ],
            "type": "histogram2d"
           }
          ],
          "histogram2dcontour": [
           {
            "colorbar": {
             "outlinewidth": 0,
             "ticks": ""
            },
            "colorscale": [
             [
              0,
              "#0d0887"
             ],
             [
              0.1111111111111111,
              "#46039f"
             ],
             [
              0.2222222222222222,
              "#7201a8"
             ],
             [
              0.3333333333333333,
              "#9c179e"
             ],
             [
              0.4444444444444444,
              "#bd3786"
             ],
             [
              0.5555555555555556,
              "#d8576b"
             ],
             [
              0.6666666666666666,
              "#ed7953"
             ],
             [
              0.7777777777777778,
              "#fb9f3a"
             ],
             [
              0.8888888888888888,
              "#fdca26"
             ],
             [
              1,
              "#f0f921"
             ]
            ],
            "type": "histogram2dcontour"
           }
          ],
          "mesh3d": [
           {
            "colorbar": {
             "outlinewidth": 0,
             "ticks": ""
            },
            "type": "mesh3d"
           }
          ],
          "parcoords": [
           {
            "line": {
             "colorbar": {
              "outlinewidth": 0,
              "ticks": ""
             }
            },
            "type": "parcoords"
           }
          ],
          "pie": [
           {
            "automargin": true,
            "type": "pie"
           }
          ],
          "scatter": [
           {
            "marker": {
             "colorbar": {
              "outlinewidth": 0,
              "ticks": ""
             }
            },
            "type": "scatter"
           }
          ],
          "scatter3d": [
           {
            "line": {
             "colorbar": {
              "outlinewidth": 0,
              "ticks": ""
             }
            },
            "marker": {
             "colorbar": {
              "outlinewidth": 0,
              "ticks": ""
             }
            },
            "type": "scatter3d"
           }
          ],
          "scattercarpet": [
           {
            "marker": {
             "colorbar": {
              "outlinewidth": 0,
              "ticks": ""
             }
            },
            "type": "scattercarpet"
           }
          ],
          "scattergeo": [
           {
            "marker": {
             "colorbar": {
              "outlinewidth": 0,
              "ticks": ""
             }
            },
            "type": "scattergeo"
           }
          ],
          "scattergl": [
           {
            "marker": {
             "colorbar": {
              "outlinewidth": 0,
              "ticks": ""
             }
            },
            "type": "scattergl"
           }
          ],
          "scattermapbox": [
           {
            "marker": {
             "colorbar": {
              "outlinewidth": 0,
              "ticks": ""
             }
            },
            "type": "scattermapbox"
           }
          ],
          "scatterpolar": [
           {
            "marker": {
             "colorbar": {
              "outlinewidth": 0,
              "ticks": ""
             }
            },
            "type": "scatterpolar"
           }
          ],
          "scatterpolargl": [
           {
            "marker": {
             "colorbar": {
              "outlinewidth": 0,
              "ticks": ""
             }
            },
            "type": "scatterpolargl"
           }
          ],
          "scatterternary": [
           {
            "marker": {
             "colorbar": {
              "outlinewidth": 0,
              "ticks": ""
             }
            },
            "type": "scatterternary"
           }
          ],
          "surface": [
           {
            "colorbar": {
             "outlinewidth": 0,
             "ticks": ""
            },
            "colorscale": [
             [
              0,
              "#0d0887"
             ],
             [
              0.1111111111111111,
              "#46039f"
             ],
             [
              0.2222222222222222,
              "#7201a8"
             ],
             [
              0.3333333333333333,
              "#9c179e"
             ],
             [
              0.4444444444444444,
              "#bd3786"
             ],
             [
              0.5555555555555556,
              "#d8576b"
             ],
             [
              0.6666666666666666,
              "#ed7953"
             ],
             [
              0.7777777777777778,
              "#fb9f3a"
             ],
             [
              0.8888888888888888,
              "#fdca26"
             ],
             [
              1,
              "#f0f921"
             ]
            ],
            "type": "surface"
           }
          ],
          "table": [
           {
            "cells": {
             "fill": {
              "color": "#EBF0F8"
             },
             "line": {
              "color": "white"
             }
            },
            "header": {
             "fill": {
              "color": "#C8D4E3"
             },
             "line": {
              "color": "white"
             }
            },
            "type": "table"
           }
          ]
         },
         "layout": {
          "annotationdefaults": {
           "arrowcolor": "#2a3f5f",
           "arrowhead": 0,
           "arrowwidth": 1
          },
          "coloraxis": {
           "colorbar": {
            "outlinewidth": 0,
            "ticks": ""
           }
          },
          "colorscale": {
           "diverging": [
            [
             0,
             "#8e0152"
            ],
            [
             0.1,
             "#c51b7d"
            ],
            [
             0.2,
             "#de77ae"
            ],
            [
             0.3,
             "#f1b6da"
            ],
            [
             0.4,
             "#fde0ef"
            ],
            [
             0.5,
             "#f7f7f7"
            ],
            [
             0.6,
             "#e6f5d0"
            ],
            [
             0.7,
             "#b8e186"
            ],
            [
             0.8,
             "#7fbc41"
            ],
            [
             0.9,
             "#4d9221"
            ],
            [
             1,
             "#276419"
            ]
           ],
           "sequential": [
            [
             0,
             "#0d0887"
            ],
            [
             0.1111111111111111,
             "#46039f"
            ],
            [
             0.2222222222222222,
             "#7201a8"
            ],
            [
             0.3333333333333333,
             "#9c179e"
            ],
            [
             0.4444444444444444,
             "#bd3786"
            ],
            [
             0.5555555555555556,
             "#d8576b"
            ],
            [
             0.6666666666666666,
             "#ed7953"
            ],
            [
             0.7777777777777778,
             "#fb9f3a"
            ],
            [
             0.8888888888888888,
             "#fdca26"
            ],
            [
             1,
             "#f0f921"
            ]
           ],
           "sequentialminus": [
            [
             0,
             "#0d0887"
            ],
            [
             0.1111111111111111,
             "#46039f"
            ],
            [
             0.2222222222222222,
             "#7201a8"
            ],
            [
             0.3333333333333333,
             "#9c179e"
            ],
            [
             0.4444444444444444,
             "#bd3786"
            ],
            [
             0.5555555555555556,
             "#d8576b"
            ],
            [
             0.6666666666666666,
             "#ed7953"
            ],
            [
             0.7777777777777778,
             "#fb9f3a"
            ],
            [
             0.8888888888888888,
             "#fdca26"
            ],
            [
             1,
             "#f0f921"
            ]
           ]
          },
          "colorway": [
           "#636efa",
           "#EF553B",
           "#00cc96",
           "#ab63fa",
           "#FFA15A",
           "#19d3f3",
           "#FF6692",
           "#B6E880",
           "#FF97FF",
           "#FECB52"
          ],
          "font": {
           "color": "#2a3f5f"
          },
          "geo": {
           "bgcolor": "white",
           "lakecolor": "white",
           "landcolor": "#E5ECF6",
           "showlakes": true,
           "showland": true,
           "subunitcolor": "white"
          },
          "hoverlabel": {
           "align": "left"
          },
          "hovermode": "closest",
          "mapbox": {
           "style": "light"
          },
          "paper_bgcolor": "white",
          "plot_bgcolor": "#E5ECF6",
          "polar": {
           "angularaxis": {
            "gridcolor": "white",
            "linecolor": "white",
            "ticks": ""
           },
           "bgcolor": "#E5ECF6",
           "radialaxis": {
            "gridcolor": "white",
            "linecolor": "white",
            "ticks": ""
           }
          },
          "scene": {
           "xaxis": {
            "backgroundcolor": "#E5ECF6",
            "gridcolor": "white",
            "gridwidth": 2,
            "linecolor": "white",
            "showbackground": true,
            "ticks": "",
            "zerolinecolor": "white"
           },
           "yaxis": {
            "backgroundcolor": "#E5ECF6",
            "gridcolor": "white",
            "gridwidth": 2,
            "linecolor": "white",
            "showbackground": true,
            "ticks": "",
            "zerolinecolor": "white"
           },
           "zaxis": {
            "backgroundcolor": "#E5ECF6",
            "gridcolor": "white",
            "gridwidth": 2,
            "linecolor": "white",
            "showbackground": true,
            "ticks": "",
            "zerolinecolor": "white"
           }
          },
          "shapedefaults": {
           "line": {
            "color": "#2a3f5f"
           }
          },
          "ternary": {
           "aaxis": {
            "gridcolor": "white",
            "linecolor": "white",
            "ticks": ""
           },
           "baxis": {
            "gridcolor": "white",
            "linecolor": "white",
            "ticks": ""
           },
           "bgcolor": "#E5ECF6",
           "caxis": {
            "gridcolor": "white",
            "linecolor": "white",
            "ticks": ""
           }
          },
          "title": {
           "x": 0.05
          },
          "xaxis": {
           "automargin": true,
           "gridcolor": "white",
           "linecolor": "white",
           "ticks": "",
           "title": {
            "standoff": 15
           },
           "zerolinecolor": "white",
           "zerolinewidth": 2
          },
          "yaxis": {
           "automargin": true,
           "gridcolor": "white",
           "linecolor": "white",
           "ticks": "",
           "title": {
            "standoff": 15
           },
           "zerolinecolor": "white",
           "zerolinewidth": 2
          }
         }
        },
        "title": {
         "font": {
          "color": "#4D5663"
         }
        },
        "xaxis": {
         "gridcolor": "#E1E5ED",
         "showgrid": true,
         "tickfont": {
          "color": "#4D5663"
         },
         "title": {
          "font": {
           "color": "#4D5663"
          },
          "text": ""
         },
         "zerolinecolor": "#E1E5ED"
        },
        "yaxis": {
         "gridcolor": "#E1E5ED",
         "showgrid": true,
         "tickfont": {
          "color": "#4D5663"
         },
         "title": {
          "font": {
           "color": "#4D5663"
          },
          "text": ""
         },
         "zerolinecolor": "#E1E5ED"
        }
       }
      },
      "text/html": [
       "<div>\n",
       "        \n",
       "        \n",
       "            <div id=\"b9a71528-49d0-42df-b924-a92b60c09b6c\" class=\"plotly-graph-div\" style=\"height:525px; width:100%;\"></div>\n",
       "            <script type=\"text/javascript\">\n",
       "                require([\"plotly\"], function(Plotly) {\n",
       "                    window.PLOTLYENV=window.PLOTLYENV || {};\n",
       "                    window.PLOTLYENV.BASE_URL='https://plot.ly';\n",
       "                    \n",
       "                if (document.getElementById(\"b9a71528-49d0-42df-b924-a92b60c09b6c\")) {\n",
       "                    Plotly.newPlot(\n",
       "                        'b9a71528-49d0-42df-b924-a92b60c09b6c',\n",
       "                        [{\"boxpoints\": false, \"line\": {\"width\": 1.3}, \"marker\": {\"color\": \"rgba(255, 153, 51, 1.0)\"}, \"name\": \"A\", \"orientation\": \"v\", \"type\": \"box\", \"y\": [-1.228210303840886, 0.673718637442548, -0.6359991664128826, -0.23262448905478936, -0.4652684818242084, 0.09112090769390506, 1.1202307162460101, -0.913002197072858, -1.7866033041530176, -1.1819664154244243, -2.2518992211992668, 1.6419723454475943, -0.5049024421225882, -0.8316433290825647, -1.9026947938151906, 0.9529643236956478, 0.8424279826802521, 0.6496949082875334, -1.2710369557178685, 0.6744304243539521, 0.27031806004342473, -0.6151995848966308, 1.286999400136683, 2.754225637025308, -0.8685563696172357, -0.37270596578089227, 0.21656933195695277, 0.3299593481685292, -0.38976956152955244, 0.7899141331885607, -0.15232135255386411, -0.3278732576519635, -0.1714780618959102, 0.24585193839195518, -0.520103537564345, 0.9423867963175877, 0.6998506662177038, 2.9565000032387485, -0.16771290225752722, -0.8565644599372393, 1.9093025443891725, -0.6065596660356215, 1.5561398386580072, -1.6604273958353217, 0.29570532237337854, -0.30655930240007645, 0.5629765465472392, -1.1157754639387614, -0.22955196345192624, -2.0050583424582227, 0.11713750696332578, 2.8267139655873303, 0.46332154157231764, 0.8913848873219073, -0.27625761399056287, 0.17061072015134288, 0.01247361244100639, -1.1868120197940502, -0.1768842533262507, 0.3980979509622024, 1.7637268334097294, 0.9632004046301621, -0.174102504451404, -1.02063042523494, 1.678577707560514, 2.061538374722697, -0.01891713764992838, -0.34503079589422914, -0.8918084865031932, -0.7260269927380488, 0.49049384129362483, -1.7200742116968653, -0.7129415168181875, -0.44188757928112904, 3.5061225729394834, -0.48365529838350285, 0.09783218038002926, 1.4577512305513558, 0.036503672104812285, 1.6157315712246738, 0.34311746110657376, 0.531373414113734, -0.7186086927412191, 1.956762618943234, -0.06307785143259939, 0.18422454988996845, -0.8828271943787102, -0.7819307241118907, -0.4712984396735526, 0.8208067834200556, -0.9535656763785126, 0.6172811281139772, 0.38806297663784844, 0.21969028658437853, 0.5142512913421163, 0.3040997986323465, 0.28940893588859046, 0.39912893114064507, 0.8522015383297381, 0.766249213069548]}, {\"boxpoints\": false, \"line\": {\"width\": 1.3}, \"marker\": {\"color\": \"rgba(55, 128, 191, 1.0)\"}, \"name\": \"B\", \"orientation\": \"v\", \"type\": \"box\", \"y\": [-0.9410992898133941, 0.7403709673795416, -0.3681996600834796, 0.0991597200760194, -1.6825783826168605, -0.6208141494578543, -1.2271159557122688, -0.8033660807642069, 0.8468097288813591, 0.1722880167006293, -0.6637349467662795, -1.1017957408634886, 0.78893110183799, 0.5052234648355544, -0.5183463996216997, -0.13014575030713596, -2.1173663052566436, 1.0340391919026775, 0.4758016414816595, 1.1751249928768135, -0.5777840131627777, 0.35166835742458624, 0.4250410076349158, 0.12956422399669026, -0.40001911165167875, 0.49433210165665, 0.9238971005402511, -0.7022088325329872, -0.6250617284042304, 0.823798227192268, 0.6736158408541878, -0.3471483746325953, -1.3044961423954966, 1.2676370274998308, -1.3142364799225965, 2.650935361804906, 0.9822129709541314, 1.9357227006820465, 0.3703095980993604, -0.5530894722283664, -1.0407802242731543, -0.24484815231948331, 1.7030276075455875, 0.4806778126836462, 0.6063504773432427, 0.19814079912786253, -0.28845578570720243, 0.336187104999158, 0.8742807414259941, -0.7787074869262802, 0.5468775255294299, -0.723845204414693, 0.008127763819823951, 0.34186476255512704, 0.2639769485027573, -1.8208409662925802, 0.24074451187422571, 0.5562452782986852, -0.5824077840268167, 0.17050183300365282, 0.42085884285977426, -0.8692661641636048, -0.9723993347465054, 0.5395347413629555, -1.144824452521687, -1.5581534101688002, -1.6729339246680435, -2.2056076136021434, 1.103355797338571, 0.7678907038054802, -0.5151607726764834, -0.6475275993757056, -1.0082785648677384, 1.5260113519881962, -0.0076054176697331385, -0.8379869596906585, -0.8532996052463981, 0.520857662239727, -1.1507840593174075, 0.13138500423423757, 1.766428276090597, 0.6509203417858905, 1.290169264557484, 0.461245786964094, 0.381986938073141, 0.7753138167975542, 0.8672473904523145, 0.18973725833913044, 0.040801741645153794, -1.391900776067866, -0.6712369302438657, -0.04660937009967414, -1.1372146461701285, 0.370270983375189, 0.5796009309658001, -1.4386684202941982, -1.319559175894388, -0.5188624577046717, -1.050562091557685, 1.988326116952474]}, {\"boxpoints\": false, \"line\": {\"width\": 1.3}, \"marker\": {\"color\": \"rgba(50, 171, 96, 1.0)\"}, \"name\": \"C\", \"orientation\": \"v\", \"type\": \"box\", \"y\": [0.1426936499011667, 0.6743863824468715, -1.9159042047040724, 0.12701611366523768, 0.5636280465689022, 0.2653262616821967, -0.5830900218537203, 1.6268944121439155, 0.032134459457989054, 0.2837070672739637, -0.908341131234595, -0.2912868176976957, -0.5596115261134985, -0.6698547775985916, -0.06644066405389445, -0.5635975064256188, -0.03413687986916309, -0.19300147898416536, 0.3872050642817624, -2.1165183184615546, -0.6976749316032758, 1.5783006573276834, -1.0984317833839843, 0.1935586317598326, -2.0414514060862277, 0.8273165865437476, -0.5334902768575471, -0.6596195709663755, -0.549215782627158, -0.5465157483350779, -2.2291257904849964, -0.8924230840343537, 0.5864182297589924, -0.8774228368518772, 1.2637792405670139, -1.3408252236678477, -0.6005444176819201, 0.6910209001315113, 0.030946176835107673, 0.8317294046592685, -0.24226793477545702, -1.0751195048330666, 1.6790089121797258, 0.5299931706931623, 0.9065907842791338, -0.9544899579816438, 1.2784401587767251, 0.15403433605819544, 0.611993290038772, -0.7559634279957641, 0.08819990722390152, -1.056055039049362, 2.0027716806468785, -1.9615720122189535, -0.17513402898714328, -0.4798872243484583, -2.4508266457656, -0.33884412615446186, -2.019978178352013, -0.7290974754166974, -1.347793986082597, 2.1398770557429487, 0.16040455572132187, 0.06465038310874904, 0.015294630368586389, -1.0890873934955765, 1.4409058291864612, -1.371518717484521, 1.3071811967033915, 1.3904478393949753, -2.0037227249117553, 0.11510825724336189, -0.29718611398512745, -0.5055331245752551, 0.6448185869979838, 0.1491150879202775, 0.9985330501748927, 1.0014419886266486, 1.865102464507751, 0.2286365636433252, -0.03550451414647598, -2.718717212523047, -0.9240701341744608, -0.2888760375290752, 0.5207417218309627, 1.1687872614974864, 0.2565814315959523, -0.18066310467005145, 0.06308409801663467, -0.7123126172355311, -1.0368383000789096, 0.27498166815858444, -1.140923803902282, -1.525816700957253, 0.21746655202661985, 0.052356171907522044, -0.49939185897760346, 0.13609632242732642, -0.28894964323218236, 0.08729029057194035]}, {\"boxpoints\": false, \"line\": {\"width\": 1.3}, \"marker\": {\"color\": \"rgba(128, 0, 128, 1.0)\"}, \"name\": \"D\", \"orientation\": \"v\", \"type\": \"box\", \"y\": [0.6106487369671837, -0.5580959391359147, -0.40383476919477296, 0.11125072387168945, 1.914679797928206, -0.5794917293571655, 0.2802186585460156, -0.48119536467688356, 1.549222235085247, -0.761040886666783, -0.2042886730218136, -0.14071286229645755, -0.08572931138786967, -0.4342450052527491, 0.8159473114893341, 1.5181456675065004, -0.2591638049954156, 1.4637550557367995, -0.8259681604858221, -0.878102167941134, -2.1062948243645536, -0.3254887503171195, -0.07034230093754808, -0.44464327812496063, 1.961675856334788, 0.24629335711581235, 0.09799551611645173, 0.19159035994880308, -1.0156074997556654, 1.2806421125844174, 0.1304788681345427, 0.1206976944051949, -0.48836243352088493, 2.802032607444495, 0.9992093115241782, -0.7896734382539464, 0.42162329356356454, 0.014579143845804126, -0.4652716694577242, 0.3454690258598138, 0.6454479664922625, 0.5927360716174458, -1.1091587246321357, -0.3763966436874311, -0.4723404843015961, 1.6296431854939475, -1.2247809594359418, -0.9550425500787262, 0.2789136570555125, -0.5729846821735802, -0.026253713718288375, 0.725066652097282, 0.6902230007349073, 0.9811932312461932, 1.9688012226230052, -0.13927462217851405, -0.5123803245556551, 0.7056350323843916, -0.5720206839257674, -2.0999560084539954, 0.28156143554830015, 1.0747977797889474, -1.158658136514488, 0.529537528312165, -0.11214529017336296, -0.4160977828350819, -1.0674672412849793, -0.2449859194432744, -0.6128110114858487, 1.9448518050754133, -1.783138151347126, -0.6752860083341697, 0.7022789401239837, -1.835524755070365, -0.313253458096198, -0.45099788556239573, -0.28857769772700764, -0.1892423501615623, -0.24688173949758832, 0.13424524754480605, 0.05797104701583112, 0.09660484893958388, -1.3095879709172507, 0.24754957486710374, 1.9569210065511524, 2.0954909828936454, 2.2068872058371127, -1.8935847994034554, -1.9658707145920777, -1.0564378775196899, 1.4874017864180422, 0.17280821165585758, 0.37644056131981074, 0.2340871273662667, -1.0632261061039, 0.5540872350959097, -1.007909624391688, 0.6562083549945321, -0.08960169518516971, 0.11316995519037891]}],\n",
       "                        {\"legend\": {\"bgcolor\": \"#F5F6F9\", \"font\": {\"color\": \"#4D5663\"}}, \"paper_bgcolor\": \"#F5F6F9\", \"plot_bgcolor\": \"#F5F6F9\", \"template\": {\"data\": {\"bar\": [{\"error_x\": {\"color\": \"#2a3f5f\"}, \"error_y\": {\"color\": \"#2a3f5f\"}, \"marker\": {\"line\": {\"color\": \"#E5ECF6\", \"width\": 0.5}}, \"type\": \"bar\"}], \"barpolar\": [{\"marker\": {\"line\": {\"color\": \"#E5ECF6\", \"width\": 0.5}}, \"type\": \"barpolar\"}], \"carpet\": [{\"aaxis\": {\"endlinecolor\": \"#2a3f5f\", \"gridcolor\": \"white\", \"linecolor\": \"white\", \"minorgridcolor\": \"white\", \"startlinecolor\": \"#2a3f5f\"}, \"baxis\": {\"endlinecolor\": \"#2a3f5f\", \"gridcolor\": \"white\", \"linecolor\": \"white\", \"minorgridcolor\": \"white\", \"startlinecolor\": \"#2a3f5f\"}, \"type\": \"carpet\"}], \"choropleth\": [{\"colorbar\": {\"outlinewidth\": 0, \"ticks\": \"\"}, \"type\": \"choropleth\"}], \"contour\": [{\"colorbar\": {\"outlinewidth\": 0, \"ticks\": \"\"}, \"colorscale\": [[0.0, \"#0d0887\"], [0.1111111111111111, \"#46039f\"], [0.2222222222222222, \"#7201a8\"], [0.3333333333333333, \"#9c179e\"], [0.4444444444444444, \"#bd3786\"], [0.5555555555555556, \"#d8576b\"], [0.6666666666666666, \"#ed7953\"], [0.7777777777777778, \"#fb9f3a\"], [0.8888888888888888, \"#fdca26\"], [1.0, \"#f0f921\"]], \"type\": \"contour\"}], \"contourcarpet\": [{\"colorbar\": {\"outlinewidth\": 0, \"ticks\": \"\"}, \"type\": \"contourcarpet\"}], \"heatmap\": [{\"colorbar\": {\"outlinewidth\": 0, \"ticks\": \"\"}, \"colorscale\": [[0.0, \"#0d0887\"], [0.1111111111111111, \"#46039f\"], [0.2222222222222222, \"#7201a8\"], [0.3333333333333333, \"#9c179e\"], [0.4444444444444444, \"#bd3786\"], [0.5555555555555556, \"#d8576b\"], [0.6666666666666666, \"#ed7953\"], [0.7777777777777778, \"#fb9f3a\"], [0.8888888888888888, \"#fdca26\"], [1.0, \"#f0f921\"]], \"type\": \"heatmap\"}], \"heatmapgl\": [{\"colorbar\": {\"outlinewidth\": 0, \"ticks\": \"\"}, \"colorscale\": [[0.0, \"#0d0887\"], [0.1111111111111111, \"#46039f\"], [0.2222222222222222, \"#7201a8\"], [0.3333333333333333, \"#9c179e\"], [0.4444444444444444, \"#bd3786\"], [0.5555555555555556, \"#d8576b\"], [0.6666666666666666, \"#ed7953\"], [0.7777777777777778, \"#fb9f3a\"], [0.8888888888888888, \"#fdca26\"], [1.0, \"#f0f921\"]], \"type\": \"heatmapgl\"}], \"histogram\": [{\"marker\": {\"colorbar\": {\"outlinewidth\": 0, \"ticks\": \"\"}}, \"type\": \"histogram\"}], \"histogram2d\": [{\"colorbar\": {\"outlinewidth\": 0, \"ticks\": \"\"}, \"colorscale\": [[0.0, \"#0d0887\"], [0.1111111111111111, \"#46039f\"], [0.2222222222222222, \"#7201a8\"], [0.3333333333333333, \"#9c179e\"], [0.4444444444444444, \"#bd3786\"], [0.5555555555555556, \"#d8576b\"], [0.6666666666666666, \"#ed7953\"], [0.7777777777777778, \"#fb9f3a\"], [0.8888888888888888, \"#fdca26\"], [1.0, \"#f0f921\"]], \"type\": \"histogram2d\"}], \"histogram2dcontour\": [{\"colorbar\": {\"outlinewidth\": 0, \"ticks\": \"\"}, \"colorscale\": [[0.0, \"#0d0887\"], [0.1111111111111111, \"#46039f\"], [0.2222222222222222, \"#7201a8\"], [0.3333333333333333, \"#9c179e\"], [0.4444444444444444, \"#bd3786\"], [0.5555555555555556, \"#d8576b\"], [0.6666666666666666, \"#ed7953\"], [0.7777777777777778, \"#fb9f3a\"], [0.8888888888888888, \"#fdca26\"], [1.0, \"#f0f921\"]], \"type\": \"histogram2dcontour\"}], \"mesh3d\": [{\"colorbar\": {\"outlinewidth\": 0, \"ticks\": \"\"}, \"type\": \"mesh3d\"}], \"parcoords\": [{\"line\": {\"colorbar\": {\"outlinewidth\": 0, \"ticks\": \"\"}}, \"type\": \"parcoords\"}], \"pie\": [{\"automargin\": true, \"type\": \"pie\"}], \"scatter\": [{\"marker\": {\"colorbar\": {\"outlinewidth\": 0, \"ticks\": \"\"}}, \"type\": \"scatter\"}], \"scatter3d\": [{\"line\": {\"colorbar\": {\"outlinewidth\": 0, \"ticks\": \"\"}}, \"marker\": {\"colorbar\": {\"outlinewidth\": 0, \"ticks\": \"\"}}, \"type\": \"scatter3d\"}], \"scattercarpet\": [{\"marker\": {\"colorbar\": {\"outlinewidth\": 0, \"ticks\": \"\"}}, \"type\": \"scattercarpet\"}], \"scattergeo\": [{\"marker\": {\"colorbar\": {\"outlinewidth\": 0, \"ticks\": \"\"}}, \"type\": \"scattergeo\"}], \"scattergl\": [{\"marker\": {\"colorbar\": {\"outlinewidth\": 0, \"ticks\": \"\"}}, \"type\": \"scattergl\"}], \"scattermapbox\": [{\"marker\": {\"colorbar\": {\"outlinewidth\": 0, \"ticks\": \"\"}}, \"type\": \"scattermapbox\"}], \"scatterpolar\": [{\"marker\": {\"colorbar\": {\"outlinewidth\": 0, \"ticks\": \"\"}}, \"type\": \"scatterpolar\"}], \"scatterpolargl\": [{\"marker\": {\"colorbar\": {\"outlinewidth\": 0, \"ticks\": \"\"}}, \"type\": \"scatterpolargl\"}], \"scatterternary\": [{\"marker\": {\"colorbar\": {\"outlinewidth\": 0, \"ticks\": \"\"}}, \"type\": \"scatterternary\"}], \"surface\": [{\"colorbar\": {\"outlinewidth\": 0, \"ticks\": \"\"}, \"colorscale\": [[0.0, \"#0d0887\"], [0.1111111111111111, \"#46039f\"], [0.2222222222222222, \"#7201a8\"], [0.3333333333333333, \"#9c179e\"], [0.4444444444444444, \"#bd3786\"], [0.5555555555555556, \"#d8576b\"], [0.6666666666666666, \"#ed7953\"], [0.7777777777777778, \"#fb9f3a\"], [0.8888888888888888, \"#fdca26\"], [1.0, \"#f0f921\"]], \"type\": \"surface\"}], \"table\": [{\"cells\": {\"fill\": {\"color\": \"#EBF0F8\"}, \"line\": {\"color\": \"white\"}}, \"header\": {\"fill\": {\"color\": \"#C8D4E3\"}, \"line\": {\"color\": \"white\"}}, \"type\": \"table\"}]}, \"layout\": {\"annotationdefaults\": {\"arrowcolor\": \"#2a3f5f\", \"arrowhead\": 0, \"arrowwidth\": 1}, \"coloraxis\": {\"colorbar\": {\"outlinewidth\": 0, \"ticks\": \"\"}}, \"colorscale\": {\"diverging\": [[0, \"#8e0152\"], [0.1, \"#c51b7d\"], [0.2, \"#de77ae\"], [0.3, \"#f1b6da\"], [0.4, \"#fde0ef\"], [0.5, \"#f7f7f7\"], [0.6, \"#e6f5d0\"], [0.7, \"#b8e186\"], [0.8, \"#7fbc41\"], [0.9, \"#4d9221\"], [1, \"#276419\"]], \"sequential\": [[0.0, \"#0d0887\"], [0.1111111111111111, \"#46039f\"], [0.2222222222222222, \"#7201a8\"], [0.3333333333333333, \"#9c179e\"], [0.4444444444444444, \"#bd3786\"], [0.5555555555555556, \"#d8576b\"], [0.6666666666666666, \"#ed7953\"], [0.7777777777777778, \"#fb9f3a\"], [0.8888888888888888, \"#fdca26\"], [1.0, \"#f0f921\"]], \"sequentialminus\": [[0.0, \"#0d0887\"], [0.1111111111111111, \"#46039f\"], [0.2222222222222222, \"#7201a8\"], [0.3333333333333333, \"#9c179e\"], [0.4444444444444444, \"#bd3786\"], [0.5555555555555556, \"#d8576b\"], [0.6666666666666666, \"#ed7953\"], [0.7777777777777778, \"#fb9f3a\"], [0.8888888888888888, \"#fdca26\"], [1.0, \"#f0f921\"]]}, \"colorway\": [\"#636efa\", \"#EF553B\", \"#00cc96\", \"#ab63fa\", \"#FFA15A\", \"#19d3f3\", \"#FF6692\", \"#B6E880\", \"#FF97FF\", \"#FECB52\"], \"font\": {\"color\": \"#2a3f5f\"}, \"geo\": {\"bgcolor\": \"white\", \"lakecolor\": \"white\", \"landcolor\": \"#E5ECF6\", \"showlakes\": true, \"showland\": true, \"subunitcolor\": \"white\"}, \"hoverlabel\": {\"align\": \"left\"}, \"hovermode\": \"closest\", \"mapbox\": {\"style\": \"light\"}, \"paper_bgcolor\": \"white\", \"plot_bgcolor\": \"#E5ECF6\", \"polar\": {\"angularaxis\": {\"gridcolor\": \"white\", \"linecolor\": \"white\", \"ticks\": \"\"}, \"bgcolor\": \"#E5ECF6\", \"radialaxis\": {\"gridcolor\": \"white\", \"linecolor\": \"white\", \"ticks\": \"\"}}, \"scene\": {\"xaxis\": {\"backgroundcolor\": \"#E5ECF6\", \"gridcolor\": \"white\", \"gridwidth\": 2, \"linecolor\": \"white\", \"showbackground\": true, \"ticks\": \"\", \"zerolinecolor\": \"white\"}, \"yaxis\": {\"backgroundcolor\": \"#E5ECF6\", \"gridcolor\": \"white\", \"gridwidth\": 2, \"linecolor\": \"white\", \"showbackground\": true, \"ticks\": \"\", \"zerolinecolor\": \"white\"}, \"zaxis\": {\"backgroundcolor\": \"#E5ECF6\", \"gridcolor\": \"white\", \"gridwidth\": 2, \"linecolor\": \"white\", \"showbackground\": true, \"ticks\": \"\", \"zerolinecolor\": \"white\"}}, \"shapedefaults\": {\"line\": {\"color\": \"#2a3f5f\"}}, \"ternary\": {\"aaxis\": {\"gridcolor\": \"white\", \"linecolor\": \"white\", \"ticks\": \"\"}, \"baxis\": {\"gridcolor\": \"white\", \"linecolor\": \"white\", \"ticks\": \"\"}, \"bgcolor\": \"#E5ECF6\", \"caxis\": {\"gridcolor\": \"white\", \"linecolor\": \"white\", \"ticks\": \"\"}}, \"title\": {\"x\": 0.05}, \"xaxis\": {\"automargin\": true, \"gridcolor\": \"white\", \"linecolor\": \"white\", \"ticks\": \"\", \"title\": {\"standoff\": 15}, \"zerolinecolor\": \"white\", \"zerolinewidth\": 2}, \"yaxis\": {\"automargin\": true, \"gridcolor\": \"white\", \"linecolor\": \"white\", \"ticks\": \"\", \"title\": {\"standoff\": 15}, \"zerolinecolor\": \"white\", \"zerolinewidth\": 2}}}, \"title\": {\"font\": {\"color\": \"#4D5663\"}}, \"xaxis\": {\"gridcolor\": \"#E1E5ED\", \"showgrid\": true, \"tickfont\": {\"color\": \"#4D5663\"}, \"title\": {\"font\": {\"color\": \"#4D5663\"}, \"text\": \"\"}, \"zerolinecolor\": \"#E1E5ED\"}, \"yaxis\": {\"gridcolor\": \"#E1E5ED\", \"showgrid\": true, \"tickfont\": {\"color\": \"#4D5663\"}, \"title\": {\"font\": {\"color\": \"#4D5663\"}, \"text\": \"\"}, \"zerolinecolor\": \"#E1E5ED\"}},\n",
       "                        {\"showLink\": true, \"linkText\": \"Export to plot.ly\", \"plotlyServerURL\": \"https://plot.ly\", \"responsive\": true}\n",
       "                    ).then(function(){\n",
       "                            \n",
       "var gd = document.getElementById('b9a71528-49d0-42df-b924-a92b60c09b6c');\n",
       "var x = new MutationObserver(function (mutations, observer) {{\n",
       "        var display = window.getComputedStyle(gd).display;\n",
       "        if (!display || display === 'none') {{\n",
       "            console.log([gd, 'removed!']);\n",
       "            Plotly.purge(gd);\n",
       "            observer.disconnect();\n",
       "        }}\n",
       "}});\n",
       "\n",
       "// Listen for the removal of the full notebook cells\n",
       "var notebookContainer = gd.closest('#notebook-container');\n",
       "if (notebookContainer) {{\n",
       "    x.observe(notebookContainer, {childList: true});\n",
       "}}\n",
       "\n",
       "// Listen for the clearing of the current output cell\n",
       "var outputEl = gd.closest('.output');\n",
       "if (outputEl) {{\n",
       "    x.observe(outputEl, {childList: true});\n",
       "}}\n",
       "\n",
       "                        })\n",
       "                };\n",
       "                });\n",
       "            </script>\n",
       "        </div>"
      ]
     },
     "metadata": {},
     "output_type": "display_data"
    }
   ],
   "source": [
    "#PLOTLY - BOXPLOT\n",
    "# Boxplots automatically do an aggregation for distribution\n",
    "# Can turn columns on or off by switching on and off using plotly or\n",
    "  # by doing in the line of code itself\n",
    "df.iplot(kind='box')"
   ]
  },
  {
   "cell_type": "code",
   "execution_count": null,
   "metadata": {},
   "outputs": [],
   "source": []
  },
  {
   "cell_type": "code",
   "execution_count": null,
   "metadata": {},
   "outputs": [],
   "source": [
    "# 3D SURFACE PLOT\n",
    "  # Can use this to create a 3D SURFACE plot"
   ]
  },
  {
   "cell_type": "code",
   "execution_count": 52,
   "metadata": {},
   "outputs": [
    {
     "data": {
      "text/html": [
       "<div>\n",
       "<style scoped>\n",
       "    .dataframe tbody tr th:only-of-type {\n",
       "        vertical-align: middle;\n",
       "    }\n",
       "\n",
       "    .dataframe tbody tr th {\n",
       "        vertical-align: top;\n",
       "    }\n",
       "\n",
       "    .dataframe thead th {\n",
       "        text-align: right;\n",
       "    }\n",
       "</style>\n",
       "<table border=\"1\" class=\"dataframe\">\n",
       "  <thead>\n",
       "    <tr style=\"text-align: right;\">\n",
       "      <th></th>\n",
       "      <th>x</th>\n",
       "      <th>y</th>\n",
       "      <th>z</th>\n",
       "    </tr>\n",
       "  </thead>\n",
       "  <tbody>\n",
       "    <tr>\n",
       "      <td>0</td>\n",
       "      <td>1</td>\n",
       "      <td>10</td>\n",
       "      <td>5</td>\n",
       "    </tr>\n",
       "    <tr>\n",
       "      <td>1</td>\n",
       "      <td>2</td>\n",
       "      <td>20</td>\n",
       "      <td>4</td>\n",
       "    </tr>\n",
       "    <tr>\n",
       "      <td>2</td>\n",
       "      <td>3</td>\n",
       "      <td>30</td>\n",
       "      <td>3</td>\n",
       "    </tr>\n",
       "    <tr>\n",
       "      <td>3</td>\n",
       "      <td>4</td>\n",
       "      <td>20</td>\n",
       "      <td>2</td>\n",
       "    </tr>\n",
       "    <tr>\n",
       "      <td>4</td>\n",
       "      <td>5</td>\n",
       "      <td>10</td>\n",
       "      <td>1</td>\n",
       "    </tr>\n",
       "  </tbody>\n",
       "</table>\n",
       "</div>"
      ],
      "text/plain": [
       "   x   y  z\n",
       "0  1  10  5\n",
       "1  2  20  4\n",
       "2  3  30  3\n",
       "3  4  20  2\n",
       "4  5  10  1"
      ]
     },
     "execution_count": 52,
     "metadata": {},
     "output_type": "execute_result"
    }
   ],
   "source": [
    "# make new DF\n",
    "# This is a 3 Dimensional DF\n",
    "df3 = pd.DataFrame({'x':[1,2,3,4,5],'y':[10,20,30,20,10],'z':[5,4,3,2,1]})\n",
    "df3.head()"
   ]
  },
  {
   "cell_type": "code",
   "execution_count": 53,
   "metadata": {
    "scrolled": true
   },
   "outputs": [
    {
     "data": {
      "application/vnd.plotly.v1+json": {
       "config": {
        "linkText": "Export to plot.ly",
        "plotlyServerURL": "https://plot.ly",
        "showLink": true
       },
       "data": [
        {
         "colorscale": [
          [
           0,
           "rgb(255, 153, 51)"
          ],
          [
           0.1111111111111111,
           "rgb(55, 128, 191)"
          ],
          [
           0.2222222222222222,
           "rgb(50, 171, 96)"
          ],
          [
           0.3333333333333333,
           "rgb(128, 0, 128)"
          ],
          [
           0.4444444444444444,
           "rgb(219, 64, 82)"
          ],
          [
           0.5555555555555556,
           "rgb(0, 128, 128)"
          ],
          [
           0.6666666666666666,
           "rgb(255, 255, 51)"
          ],
          [
           0.7777777777777778,
           "rgb(128, 128, 0)"
          ],
          [
           0.8888888888888888,
           "rgb(251, 128, 114)"
          ],
          [
           1,
           "rgb(128, 177, 211)"
          ]
         ],
         "type": "surface",
         "x": [
          0,
          1,
          2,
          3,
          4
         ],
         "y": [
          "x",
          "y",
          "z"
         ],
         "z": [
          [
           1,
           2,
           3,
           4,
           5
          ],
          [
           10,
           20,
           30,
           20,
           10
          ],
          [
           5,
           4,
           3,
           2,
           1
          ]
         ]
        }
       ],
       "layout": {
        "legend": {
         "bgcolor": "#F5F6F9",
         "font": {
          "color": "#4D5663"
         }
        },
        "paper_bgcolor": "#F5F6F9",
        "plot_bgcolor": "#F5F6F9",
        "template": {
         "data": {
          "bar": [
           {
            "error_x": {
             "color": "#2a3f5f"
            },
            "error_y": {
             "color": "#2a3f5f"
            },
            "marker": {
             "line": {
              "color": "#E5ECF6",
              "width": 0.5
             }
            },
            "type": "bar"
           }
          ],
          "barpolar": [
           {
            "marker": {
             "line": {
              "color": "#E5ECF6",
              "width": 0.5
             }
            },
            "type": "barpolar"
           }
          ],
          "carpet": [
           {
            "aaxis": {
             "endlinecolor": "#2a3f5f",
             "gridcolor": "white",
             "linecolor": "white",
             "minorgridcolor": "white",
             "startlinecolor": "#2a3f5f"
            },
            "baxis": {
             "endlinecolor": "#2a3f5f",
             "gridcolor": "white",
             "linecolor": "white",
             "minorgridcolor": "white",
             "startlinecolor": "#2a3f5f"
            },
            "type": "carpet"
           }
          ],
          "choropleth": [
           {
            "colorbar": {
             "outlinewidth": 0,
             "ticks": ""
            },
            "type": "choropleth"
           }
          ],
          "contour": [
           {
            "colorbar": {
             "outlinewidth": 0,
             "ticks": ""
            },
            "colorscale": [
             [
              0,
              "#0d0887"
             ],
             [
              0.1111111111111111,
              "#46039f"
             ],
             [
              0.2222222222222222,
              "#7201a8"
             ],
             [
              0.3333333333333333,
              "#9c179e"
             ],
             [
              0.4444444444444444,
              "#bd3786"
             ],
             [
              0.5555555555555556,
              "#d8576b"
             ],
             [
              0.6666666666666666,
              "#ed7953"
             ],
             [
              0.7777777777777778,
              "#fb9f3a"
             ],
             [
              0.8888888888888888,
              "#fdca26"
             ],
             [
              1,
              "#f0f921"
             ]
            ],
            "type": "contour"
           }
          ],
          "contourcarpet": [
           {
            "colorbar": {
             "outlinewidth": 0,
             "ticks": ""
            },
            "type": "contourcarpet"
           }
          ],
          "heatmap": [
           {
            "colorbar": {
             "outlinewidth": 0,
             "ticks": ""
            },
            "colorscale": [
             [
              0,
              "#0d0887"
             ],
             [
              0.1111111111111111,
              "#46039f"
             ],
             [
              0.2222222222222222,
              "#7201a8"
             ],
             [
              0.3333333333333333,
              "#9c179e"
             ],
             [
              0.4444444444444444,
              "#bd3786"
             ],
             [
              0.5555555555555556,
              "#d8576b"
             ],
             [
              0.6666666666666666,
              "#ed7953"
             ],
             [
              0.7777777777777778,
              "#fb9f3a"
             ],
             [
              0.8888888888888888,
              "#fdca26"
             ],
             [
              1,
              "#f0f921"
             ]
            ],
            "type": "heatmap"
           }
          ],
          "heatmapgl": [
           {
            "colorbar": {
             "outlinewidth": 0,
             "ticks": ""
            },
            "colorscale": [
             [
              0,
              "#0d0887"
             ],
             [
              0.1111111111111111,
              "#46039f"
             ],
             [
              0.2222222222222222,
              "#7201a8"
             ],
             [
              0.3333333333333333,
              "#9c179e"
             ],
             [
              0.4444444444444444,
              "#bd3786"
             ],
             [
              0.5555555555555556,
              "#d8576b"
             ],
             [
              0.6666666666666666,
              "#ed7953"
             ],
             [
              0.7777777777777778,
              "#fb9f3a"
             ],
             [
              0.8888888888888888,
              "#fdca26"
             ],
             [
              1,
              "#f0f921"
             ]
            ],
            "type": "heatmapgl"
           }
          ],
          "histogram": [
           {
            "marker": {
             "colorbar": {
              "outlinewidth": 0,
              "ticks": ""
             }
            },
            "type": "histogram"
           }
          ],
          "histogram2d": [
           {
            "colorbar": {
             "outlinewidth": 0,
             "ticks": ""
            },
            "colorscale": [
             [
              0,
              "#0d0887"
             ],
             [
              0.1111111111111111,
              "#46039f"
             ],
             [
              0.2222222222222222,
              "#7201a8"
             ],
             [
              0.3333333333333333,
              "#9c179e"
             ],
             [
              0.4444444444444444,
              "#bd3786"
             ],
             [
              0.5555555555555556,
              "#d8576b"
             ],
             [
              0.6666666666666666,
              "#ed7953"
             ],
             [
              0.7777777777777778,
              "#fb9f3a"
             ],
             [
              0.8888888888888888,
              "#fdca26"
             ],
             [
              1,
              "#f0f921"
             ]
            ],
            "type": "histogram2d"
           }
          ],
          "histogram2dcontour": [
           {
            "colorbar": {
             "outlinewidth": 0,
             "ticks": ""
            },
            "colorscale": [
             [
              0,
              "#0d0887"
             ],
             [
              0.1111111111111111,
              "#46039f"
             ],
             [
              0.2222222222222222,
              "#7201a8"
             ],
             [
              0.3333333333333333,
              "#9c179e"
             ],
             [
              0.4444444444444444,
              "#bd3786"
             ],
             [
              0.5555555555555556,
              "#d8576b"
             ],
             [
              0.6666666666666666,
              "#ed7953"
             ],
             [
              0.7777777777777778,
              "#fb9f3a"
             ],
             [
              0.8888888888888888,
              "#fdca26"
             ],
             [
              1,
              "#f0f921"
             ]
            ],
            "type": "histogram2dcontour"
           }
          ],
          "mesh3d": [
           {
            "colorbar": {
             "outlinewidth": 0,
             "ticks": ""
            },
            "type": "mesh3d"
           }
          ],
          "parcoords": [
           {
            "line": {
             "colorbar": {
              "outlinewidth": 0,
              "ticks": ""
             }
            },
            "type": "parcoords"
           }
          ],
          "pie": [
           {
            "automargin": true,
            "type": "pie"
           }
          ],
          "scatter": [
           {
            "marker": {
             "colorbar": {
              "outlinewidth": 0,
              "ticks": ""
             }
            },
            "type": "scatter"
           }
          ],
          "scatter3d": [
           {
            "line": {
             "colorbar": {
              "outlinewidth": 0,
              "ticks": ""
             }
            },
            "marker": {
             "colorbar": {
              "outlinewidth": 0,
              "ticks": ""
             }
            },
            "type": "scatter3d"
           }
          ],
          "scattercarpet": [
           {
            "marker": {
             "colorbar": {
              "outlinewidth": 0,
              "ticks": ""
             }
            },
            "type": "scattercarpet"
           }
          ],
          "scattergeo": [
           {
            "marker": {
             "colorbar": {
              "outlinewidth": 0,
              "ticks": ""
             }
            },
            "type": "scattergeo"
           }
          ],
          "scattergl": [
           {
            "marker": {
             "colorbar": {
              "outlinewidth": 0,
              "ticks": ""
             }
            },
            "type": "scattergl"
           }
          ],
          "scattermapbox": [
           {
            "marker": {
             "colorbar": {
              "outlinewidth": 0,
              "ticks": ""
             }
            },
            "type": "scattermapbox"
           }
          ],
          "scatterpolar": [
           {
            "marker": {
             "colorbar": {
              "outlinewidth": 0,
              "ticks": ""
             }
            },
            "type": "scatterpolar"
           }
          ],
          "scatterpolargl": [
           {
            "marker": {
             "colorbar": {
              "outlinewidth": 0,
              "ticks": ""
             }
            },
            "type": "scatterpolargl"
           }
          ],
          "scatterternary": [
           {
            "marker": {
             "colorbar": {
              "outlinewidth": 0,
              "ticks": ""
             }
            },
            "type": "scatterternary"
           }
          ],
          "surface": [
           {
            "colorbar": {
             "outlinewidth": 0,
             "ticks": ""
            },
            "colorscale": [
             [
              0,
              "#0d0887"
             ],
             [
              0.1111111111111111,
              "#46039f"
             ],
             [
              0.2222222222222222,
              "#7201a8"
             ],
             [
              0.3333333333333333,
              "#9c179e"
             ],
             [
              0.4444444444444444,
              "#bd3786"
             ],
             [
              0.5555555555555556,
              "#d8576b"
             ],
             [
              0.6666666666666666,
              "#ed7953"
             ],
             [
              0.7777777777777778,
              "#fb9f3a"
             ],
             [
              0.8888888888888888,
              "#fdca26"
             ],
             [
              1,
              "#f0f921"
             ]
            ],
            "type": "surface"
           }
          ],
          "table": [
           {
            "cells": {
             "fill": {
              "color": "#EBF0F8"
             },
             "line": {
              "color": "white"
             }
            },
            "header": {
             "fill": {
              "color": "#C8D4E3"
             },
             "line": {
              "color": "white"
             }
            },
            "type": "table"
           }
          ]
         },
         "layout": {
          "annotationdefaults": {
           "arrowcolor": "#2a3f5f",
           "arrowhead": 0,
           "arrowwidth": 1
          },
          "coloraxis": {
           "colorbar": {
            "outlinewidth": 0,
            "ticks": ""
           }
          },
          "colorscale": {
           "diverging": [
            [
             0,
             "#8e0152"
            ],
            [
             0.1,
             "#c51b7d"
            ],
            [
             0.2,
             "#de77ae"
            ],
            [
             0.3,
             "#f1b6da"
            ],
            [
             0.4,
             "#fde0ef"
            ],
            [
             0.5,
             "#f7f7f7"
            ],
            [
             0.6,
             "#e6f5d0"
            ],
            [
             0.7,
             "#b8e186"
            ],
            [
             0.8,
             "#7fbc41"
            ],
            [
             0.9,
             "#4d9221"
            ],
            [
             1,
             "#276419"
            ]
           ],
           "sequential": [
            [
             0,
             "#0d0887"
            ],
            [
             0.1111111111111111,
             "#46039f"
            ],
            [
             0.2222222222222222,
             "#7201a8"
            ],
            [
             0.3333333333333333,
             "#9c179e"
            ],
            [
             0.4444444444444444,
             "#bd3786"
            ],
            [
             0.5555555555555556,
             "#d8576b"
            ],
            [
             0.6666666666666666,
             "#ed7953"
            ],
            [
             0.7777777777777778,
             "#fb9f3a"
            ],
            [
             0.8888888888888888,
             "#fdca26"
            ],
            [
             1,
             "#f0f921"
            ]
           ],
           "sequentialminus": [
            [
             0,
             "#0d0887"
            ],
            [
             0.1111111111111111,
             "#46039f"
            ],
            [
             0.2222222222222222,
             "#7201a8"
            ],
            [
             0.3333333333333333,
             "#9c179e"
            ],
            [
             0.4444444444444444,
             "#bd3786"
            ],
            [
             0.5555555555555556,
             "#d8576b"
            ],
            [
             0.6666666666666666,
             "#ed7953"
            ],
            [
             0.7777777777777778,
             "#fb9f3a"
            ],
            [
             0.8888888888888888,
             "#fdca26"
            ],
            [
             1,
             "#f0f921"
            ]
           ]
          },
          "colorway": [
           "#636efa",
           "#EF553B",
           "#00cc96",
           "#ab63fa",
           "#FFA15A",
           "#19d3f3",
           "#FF6692",
           "#B6E880",
           "#FF97FF",
           "#FECB52"
          ],
          "font": {
           "color": "#2a3f5f"
          },
          "geo": {
           "bgcolor": "white",
           "lakecolor": "white",
           "landcolor": "#E5ECF6",
           "showlakes": true,
           "showland": true,
           "subunitcolor": "white"
          },
          "hoverlabel": {
           "align": "left"
          },
          "hovermode": "closest",
          "mapbox": {
           "style": "light"
          },
          "paper_bgcolor": "white",
          "plot_bgcolor": "#E5ECF6",
          "polar": {
           "angularaxis": {
            "gridcolor": "white",
            "linecolor": "white",
            "ticks": ""
           },
           "bgcolor": "#E5ECF6",
           "radialaxis": {
            "gridcolor": "white",
            "linecolor": "white",
            "ticks": ""
           }
          },
          "scene": {
           "xaxis": {
            "backgroundcolor": "#E5ECF6",
            "gridcolor": "white",
            "gridwidth": 2,
            "linecolor": "white",
            "showbackground": true,
            "ticks": "",
            "zerolinecolor": "white"
           },
           "yaxis": {
            "backgroundcolor": "#E5ECF6",
            "gridcolor": "white",
            "gridwidth": 2,
            "linecolor": "white",
            "showbackground": true,
            "ticks": "",
            "zerolinecolor": "white"
           },
           "zaxis": {
            "backgroundcolor": "#E5ECF6",
            "gridcolor": "white",
            "gridwidth": 2,
            "linecolor": "white",
            "showbackground": true,
            "ticks": "",
            "zerolinecolor": "white"
           }
          },
          "shapedefaults": {
           "line": {
            "color": "#2a3f5f"
           }
          },
          "ternary": {
           "aaxis": {
            "gridcolor": "white",
            "linecolor": "white",
            "ticks": ""
           },
           "baxis": {
            "gridcolor": "white",
            "linecolor": "white",
            "ticks": ""
           },
           "bgcolor": "#E5ECF6",
           "caxis": {
            "gridcolor": "white",
            "linecolor": "white",
            "ticks": ""
           }
          },
          "title": {
           "x": 0.05
          },
          "xaxis": {
           "automargin": true,
           "gridcolor": "white",
           "linecolor": "white",
           "ticks": "",
           "title": {
            "standoff": 15
           },
           "zerolinecolor": "white",
           "zerolinewidth": 2
          },
          "yaxis": {
           "automargin": true,
           "gridcolor": "white",
           "linecolor": "white",
           "ticks": "",
           "title": {
            "standoff": 15
           },
           "zerolinecolor": "white",
           "zerolinewidth": 2
          }
         }
        },
        "title": {
         "font": {
          "color": "#4D5663"
         }
        },
        "xaxis": {
         "gridcolor": "#E1E5ED",
         "showgrid": true,
         "tickfont": {
          "color": "#4D5663"
         },
         "title": {
          "font": {
           "color": "#4D5663"
          },
          "text": ""
         },
         "zerolinecolor": "#E1E5ED"
        },
        "yaxis": {
         "gridcolor": "#E1E5ED",
         "showgrid": true,
         "tickfont": {
          "color": "#4D5663"
         },
         "title": {
          "font": {
           "color": "#4D5663"
          },
          "text": ""
         },
         "zerolinecolor": "#E1E5ED"
        }
       }
      },
      "text/html": [
       "<div>\n",
       "        \n",
       "        \n",
       "            <div id=\"5da931c7-9181-4ea9-b16d-d9c1fb8f9fde\" class=\"plotly-graph-div\" style=\"height:525px; width:100%;\"></div>\n",
       "            <script type=\"text/javascript\">\n",
       "                require([\"plotly\"], function(Plotly) {\n",
       "                    window.PLOTLYENV=window.PLOTLYENV || {};\n",
       "                    window.PLOTLYENV.BASE_URL='https://plot.ly';\n",
       "                    \n",
       "                if (document.getElementById(\"5da931c7-9181-4ea9-b16d-d9c1fb8f9fde\")) {\n",
       "                    Plotly.newPlot(\n",
       "                        '5da931c7-9181-4ea9-b16d-d9c1fb8f9fde',\n",
       "                        [{\"colorscale\": [[0.0, \"rgb(255, 153, 51)\"], [0.1111111111111111, \"rgb(55, 128, 191)\"], [0.2222222222222222, \"rgb(50, 171, 96)\"], [0.3333333333333333, \"rgb(128, 0, 128)\"], [0.4444444444444444, \"rgb(219, 64, 82)\"], [0.5555555555555556, \"rgb(0, 128, 128)\"], [0.6666666666666666, \"rgb(255, 255, 51)\"], [0.7777777777777778, \"rgb(128, 128, 0)\"], [0.8888888888888888, \"rgb(251, 128, 114)\"], [1.0, \"rgb(128, 177, 211)\"]], \"type\": \"surface\", \"x\": [0, 1, 2, 3, 4], \"y\": [\"x\", \"y\", \"z\"], \"z\": [[1, 2, 3, 4, 5], [10, 20, 30, 20, 10], [5, 4, 3, 2, 1]]}],\n",
       "                        {\"legend\": {\"bgcolor\": \"#F5F6F9\", \"font\": {\"color\": \"#4D5663\"}}, \"paper_bgcolor\": \"#F5F6F9\", \"plot_bgcolor\": \"#F5F6F9\", \"template\": {\"data\": {\"bar\": [{\"error_x\": {\"color\": \"#2a3f5f\"}, \"error_y\": {\"color\": \"#2a3f5f\"}, \"marker\": {\"line\": {\"color\": \"#E5ECF6\", \"width\": 0.5}}, \"type\": \"bar\"}], \"barpolar\": [{\"marker\": {\"line\": {\"color\": \"#E5ECF6\", \"width\": 0.5}}, \"type\": \"barpolar\"}], \"carpet\": [{\"aaxis\": {\"endlinecolor\": \"#2a3f5f\", \"gridcolor\": \"white\", \"linecolor\": \"white\", \"minorgridcolor\": \"white\", \"startlinecolor\": \"#2a3f5f\"}, \"baxis\": {\"endlinecolor\": \"#2a3f5f\", \"gridcolor\": \"white\", \"linecolor\": \"white\", \"minorgridcolor\": \"white\", \"startlinecolor\": \"#2a3f5f\"}, \"type\": \"carpet\"}], \"choropleth\": [{\"colorbar\": {\"outlinewidth\": 0, \"ticks\": \"\"}, \"type\": \"choropleth\"}], \"contour\": [{\"colorbar\": {\"outlinewidth\": 0, \"ticks\": \"\"}, \"colorscale\": [[0.0, \"#0d0887\"], [0.1111111111111111, \"#46039f\"], [0.2222222222222222, \"#7201a8\"], [0.3333333333333333, \"#9c179e\"], [0.4444444444444444, \"#bd3786\"], [0.5555555555555556, \"#d8576b\"], [0.6666666666666666, \"#ed7953\"], [0.7777777777777778, \"#fb9f3a\"], [0.8888888888888888, \"#fdca26\"], [1.0, \"#f0f921\"]], \"type\": \"contour\"}], \"contourcarpet\": [{\"colorbar\": {\"outlinewidth\": 0, \"ticks\": \"\"}, \"type\": \"contourcarpet\"}], \"heatmap\": [{\"colorbar\": {\"outlinewidth\": 0, \"ticks\": \"\"}, \"colorscale\": [[0.0, \"#0d0887\"], [0.1111111111111111, \"#46039f\"], [0.2222222222222222, \"#7201a8\"], [0.3333333333333333, \"#9c179e\"], [0.4444444444444444, \"#bd3786\"], [0.5555555555555556, \"#d8576b\"], [0.6666666666666666, \"#ed7953\"], [0.7777777777777778, \"#fb9f3a\"], [0.8888888888888888, \"#fdca26\"], [1.0, \"#f0f921\"]], \"type\": \"heatmap\"}], \"heatmapgl\": [{\"colorbar\": {\"outlinewidth\": 0, \"ticks\": \"\"}, \"colorscale\": [[0.0, \"#0d0887\"], [0.1111111111111111, \"#46039f\"], [0.2222222222222222, \"#7201a8\"], [0.3333333333333333, \"#9c179e\"], [0.4444444444444444, \"#bd3786\"], [0.5555555555555556, \"#d8576b\"], [0.6666666666666666, \"#ed7953\"], [0.7777777777777778, \"#fb9f3a\"], [0.8888888888888888, \"#fdca26\"], [1.0, \"#f0f921\"]], \"type\": \"heatmapgl\"}], \"histogram\": [{\"marker\": {\"colorbar\": {\"outlinewidth\": 0, \"ticks\": \"\"}}, \"type\": \"histogram\"}], \"histogram2d\": [{\"colorbar\": {\"outlinewidth\": 0, \"ticks\": \"\"}, \"colorscale\": [[0.0, \"#0d0887\"], [0.1111111111111111, \"#46039f\"], [0.2222222222222222, \"#7201a8\"], [0.3333333333333333, \"#9c179e\"], [0.4444444444444444, \"#bd3786\"], [0.5555555555555556, \"#d8576b\"], [0.6666666666666666, \"#ed7953\"], [0.7777777777777778, \"#fb9f3a\"], [0.8888888888888888, \"#fdca26\"], [1.0, \"#f0f921\"]], \"type\": \"histogram2d\"}], \"histogram2dcontour\": [{\"colorbar\": {\"outlinewidth\": 0, \"ticks\": \"\"}, \"colorscale\": [[0.0, \"#0d0887\"], [0.1111111111111111, \"#46039f\"], [0.2222222222222222, \"#7201a8\"], [0.3333333333333333, \"#9c179e\"], [0.4444444444444444, \"#bd3786\"], [0.5555555555555556, \"#d8576b\"], [0.6666666666666666, \"#ed7953\"], [0.7777777777777778, \"#fb9f3a\"], [0.8888888888888888, \"#fdca26\"], [1.0, \"#f0f921\"]], \"type\": \"histogram2dcontour\"}], \"mesh3d\": [{\"colorbar\": {\"outlinewidth\": 0, \"ticks\": \"\"}, \"type\": \"mesh3d\"}], \"parcoords\": [{\"line\": {\"colorbar\": {\"outlinewidth\": 0, \"ticks\": \"\"}}, \"type\": \"parcoords\"}], \"pie\": [{\"automargin\": true, \"type\": \"pie\"}], \"scatter\": [{\"marker\": {\"colorbar\": {\"outlinewidth\": 0, \"ticks\": \"\"}}, \"type\": \"scatter\"}], \"scatter3d\": [{\"line\": {\"colorbar\": {\"outlinewidth\": 0, \"ticks\": \"\"}}, \"marker\": {\"colorbar\": {\"outlinewidth\": 0, \"ticks\": \"\"}}, \"type\": \"scatter3d\"}], \"scattercarpet\": [{\"marker\": {\"colorbar\": {\"outlinewidth\": 0, \"ticks\": \"\"}}, \"type\": \"scattercarpet\"}], \"scattergeo\": [{\"marker\": {\"colorbar\": {\"outlinewidth\": 0, \"ticks\": \"\"}}, \"type\": \"scattergeo\"}], \"scattergl\": [{\"marker\": {\"colorbar\": {\"outlinewidth\": 0, \"ticks\": \"\"}}, \"type\": \"scattergl\"}], \"scattermapbox\": [{\"marker\": {\"colorbar\": {\"outlinewidth\": 0, \"ticks\": \"\"}}, \"type\": \"scattermapbox\"}], \"scatterpolar\": [{\"marker\": {\"colorbar\": {\"outlinewidth\": 0, \"ticks\": \"\"}}, \"type\": \"scatterpolar\"}], \"scatterpolargl\": [{\"marker\": {\"colorbar\": {\"outlinewidth\": 0, \"ticks\": \"\"}}, \"type\": \"scatterpolargl\"}], \"scatterternary\": [{\"marker\": {\"colorbar\": {\"outlinewidth\": 0, \"ticks\": \"\"}}, \"type\": \"scatterternary\"}], \"surface\": [{\"colorbar\": {\"outlinewidth\": 0, \"ticks\": \"\"}, \"colorscale\": [[0.0, \"#0d0887\"], [0.1111111111111111, \"#46039f\"], [0.2222222222222222, \"#7201a8\"], [0.3333333333333333, \"#9c179e\"], [0.4444444444444444, \"#bd3786\"], [0.5555555555555556, \"#d8576b\"], [0.6666666666666666, \"#ed7953\"], [0.7777777777777778, \"#fb9f3a\"], [0.8888888888888888, \"#fdca26\"], [1.0, \"#f0f921\"]], \"type\": \"surface\"}], \"table\": [{\"cells\": {\"fill\": {\"color\": \"#EBF0F8\"}, \"line\": {\"color\": \"white\"}}, \"header\": {\"fill\": {\"color\": \"#C8D4E3\"}, \"line\": {\"color\": \"white\"}}, \"type\": \"table\"}]}, \"layout\": {\"annotationdefaults\": {\"arrowcolor\": \"#2a3f5f\", \"arrowhead\": 0, \"arrowwidth\": 1}, \"coloraxis\": {\"colorbar\": {\"outlinewidth\": 0, \"ticks\": \"\"}}, \"colorscale\": {\"diverging\": [[0, \"#8e0152\"], [0.1, \"#c51b7d\"], [0.2, \"#de77ae\"], [0.3, \"#f1b6da\"], [0.4, \"#fde0ef\"], [0.5, \"#f7f7f7\"], [0.6, \"#e6f5d0\"], [0.7, \"#b8e186\"], [0.8, \"#7fbc41\"], [0.9, \"#4d9221\"], [1, \"#276419\"]], \"sequential\": [[0.0, \"#0d0887\"], [0.1111111111111111, \"#46039f\"], [0.2222222222222222, \"#7201a8\"], [0.3333333333333333, \"#9c179e\"], [0.4444444444444444, \"#bd3786\"], [0.5555555555555556, \"#d8576b\"], [0.6666666666666666, \"#ed7953\"], [0.7777777777777778, \"#fb9f3a\"], [0.8888888888888888, \"#fdca26\"], [1.0, \"#f0f921\"]], \"sequentialminus\": [[0.0, \"#0d0887\"], [0.1111111111111111, \"#46039f\"], [0.2222222222222222, \"#7201a8\"], [0.3333333333333333, \"#9c179e\"], [0.4444444444444444, \"#bd3786\"], [0.5555555555555556, \"#d8576b\"], [0.6666666666666666, \"#ed7953\"], [0.7777777777777778, \"#fb9f3a\"], [0.8888888888888888, \"#fdca26\"], [1.0, \"#f0f921\"]]}, \"colorway\": [\"#636efa\", \"#EF553B\", \"#00cc96\", \"#ab63fa\", \"#FFA15A\", \"#19d3f3\", \"#FF6692\", \"#B6E880\", \"#FF97FF\", \"#FECB52\"], \"font\": {\"color\": \"#2a3f5f\"}, \"geo\": {\"bgcolor\": \"white\", \"lakecolor\": \"white\", \"landcolor\": \"#E5ECF6\", \"showlakes\": true, \"showland\": true, \"subunitcolor\": \"white\"}, \"hoverlabel\": {\"align\": \"left\"}, \"hovermode\": \"closest\", \"mapbox\": {\"style\": \"light\"}, \"paper_bgcolor\": \"white\", \"plot_bgcolor\": \"#E5ECF6\", \"polar\": {\"angularaxis\": {\"gridcolor\": \"white\", \"linecolor\": \"white\", \"ticks\": \"\"}, \"bgcolor\": \"#E5ECF6\", \"radialaxis\": {\"gridcolor\": \"white\", \"linecolor\": \"white\", \"ticks\": \"\"}}, \"scene\": {\"xaxis\": {\"backgroundcolor\": \"#E5ECF6\", \"gridcolor\": \"white\", \"gridwidth\": 2, \"linecolor\": \"white\", \"showbackground\": true, \"ticks\": \"\", \"zerolinecolor\": \"white\"}, \"yaxis\": {\"backgroundcolor\": \"#E5ECF6\", \"gridcolor\": \"white\", \"gridwidth\": 2, \"linecolor\": \"white\", \"showbackground\": true, \"ticks\": \"\", \"zerolinecolor\": \"white\"}, \"zaxis\": {\"backgroundcolor\": \"#E5ECF6\", \"gridcolor\": \"white\", \"gridwidth\": 2, \"linecolor\": \"white\", \"showbackground\": true, \"ticks\": \"\", \"zerolinecolor\": \"white\"}}, \"shapedefaults\": {\"line\": {\"color\": \"#2a3f5f\"}}, \"ternary\": {\"aaxis\": {\"gridcolor\": \"white\", \"linecolor\": \"white\", \"ticks\": \"\"}, \"baxis\": {\"gridcolor\": \"white\", \"linecolor\": \"white\", \"ticks\": \"\"}, \"bgcolor\": \"#E5ECF6\", \"caxis\": {\"gridcolor\": \"white\", \"linecolor\": \"white\", \"ticks\": \"\"}}, \"title\": {\"x\": 0.05}, \"xaxis\": {\"automargin\": true, \"gridcolor\": \"white\", \"linecolor\": \"white\", \"ticks\": \"\", \"title\": {\"standoff\": 15}, \"zerolinecolor\": \"white\", \"zerolinewidth\": 2}, \"yaxis\": {\"automargin\": true, \"gridcolor\": \"white\", \"linecolor\": \"white\", \"ticks\": \"\", \"title\": {\"standoff\": 15}, \"zerolinecolor\": \"white\", \"zerolinewidth\": 2}}}, \"title\": {\"font\": {\"color\": \"#4D5663\"}}, \"xaxis\": {\"gridcolor\": \"#E1E5ED\", \"showgrid\": true, \"tickfont\": {\"color\": \"#4D5663\"}, \"title\": {\"font\": {\"color\": \"#4D5663\"}, \"text\": \"\"}, \"zerolinecolor\": \"#E1E5ED\"}, \"yaxis\": {\"gridcolor\": \"#E1E5ED\", \"showgrid\": true, \"tickfont\": {\"color\": \"#4D5663\"}, \"title\": {\"font\": {\"color\": \"#4D5663\"}, \"text\": \"\"}, \"zerolinecolor\": \"#E1E5ED\"}},\n",
       "                        {\"showLink\": true, \"linkText\": \"Export to plot.ly\", \"plotlyServerURL\": \"https://plot.ly\", \"responsive\": true}\n",
       "                    ).then(function(){\n",
       "                            \n",
       "var gd = document.getElementById('5da931c7-9181-4ea9-b16d-d9c1fb8f9fde');\n",
       "var x = new MutationObserver(function (mutations, observer) {{\n",
       "        var display = window.getComputedStyle(gd).display;\n",
       "        if (!display || display === 'none') {{\n",
       "            console.log([gd, 'removed!']);\n",
       "            Plotly.purge(gd);\n",
       "            observer.disconnect();\n",
       "        }}\n",
       "}});\n",
       "\n",
       "// Listen for the removal of the full notebook cells\n",
       "var notebookContainer = gd.closest('#notebook-container');\n",
       "if (notebookContainer) {{\n",
       "    x.observe(notebookContainer, {childList: true});\n",
       "}}\n",
       "\n",
       "// Listen for the clearing of the current output cell\n",
       "var outputEl = gd.closest('.output');\n",
       "if (outputEl) {{\n",
       "    x.observe(outputEl, {childList: true});\n",
       "}}\n",
       "\n",
       "                        })\n",
       "                };\n",
       "                });\n",
       "            </script>\n",
       "        </div>"
      ]
     },
     "metadata": {},
     "output_type": "display_data"
    }
   ],
   "source": [
    "# 3D SURFACE PLOT\n",
    "df3.iplot(kind='surface')"
   ]
  },
  {
   "cell_type": "code",
   "execution_count": 54,
   "metadata": {},
   "outputs": [
    {
     "data": {
      "application/vnd.plotly.v1+json": {
       "config": {
        "linkText": "Export to plot.ly",
        "plotlyServerURL": "https://plot.ly",
        "showLink": true
       },
       "data": [
        {
         "colorscale": [
          [
           0,
           "rgb(165,0,38)"
          ],
          [
           0.1,
           "rgb(215,48,39)"
          ],
          [
           0.2,
           "rgb(244,109,67)"
          ],
          [
           0.3,
           "rgb(253,174,97)"
          ],
          [
           0.4,
           "rgb(254,224,144)"
          ],
          [
           0.5,
           "rgb(255,255,191)"
          ],
          [
           0.6,
           "rgb(224,243,248)"
          ],
          [
           0.7,
           "rgb(171,217,233)"
          ],
          [
           0.8,
           "rgb(116,173,209)"
          ],
          [
           0.9,
           "rgb(69,117,180)"
          ],
          [
           1,
           "rgb(49,54,149)"
          ]
         ],
         "type": "surface",
         "x": [
          0,
          1,
          2,
          3,
          4
         ],
         "y": [
          "x",
          "y",
          "z"
         ],
         "z": [
          [
           1,
           2,
           3,
           4,
           5
          ],
          [
           10,
           20,
           30,
           20,
           10
          ],
          [
           5,
           4,
           3,
           2,
           1
          ]
         ]
        }
       ],
       "layout": {
        "legend": {
         "bgcolor": "#F5F6F9",
         "font": {
          "color": "#4D5663"
         }
        },
        "paper_bgcolor": "#F5F6F9",
        "plot_bgcolor": "#F5F6F9",
        "template": {
         "data": {
          "bar": [
           {
            "error_x": {
             "color": "#2a3f5f"
            },
            "error_y": {
             "color": "#2a3f5f"
            },
            "marker": {
             "line": {
              "color": "#E5ECF6",
              "width": 0.5
             }
            },
            "type": "bar"
           }
          ],
          "barpolar": [
           {
            "marker": {
             "line": {
              "color": "#E5ECF6",
              "width": 0.5
             }
            },
            "type": "barpolar"
           }
          ],
          "carpet": [
           {
            "aaxis": {
             "endlinecolor": "#2a3f5f",
             "gridcolor": "white",
             "linecolor": "white",
             "minorgridcolor": "white",
             "startlinecolor": "#2a3f5f"
            },
            "baxis": {
             "endlinecolor": "#2a3f5f",
             "gridcolor": "white",
             "linecolor": "white",
             "minorgridcolor": "white",
             "startlinecolor": "#2a3f5f"
            },
            "type": "carpet"
           }
          ],
          "choropleth": [
           {
            "colorbar": {
             "outlinewidth": 0,
             "ticks": ""
            },
            "type": "choropleth"
           }
          ],
          "contour": [
           {
            "colorbar": {
             "outlinewidth": 0,
             "ticks": ""
            },
            "colorscale": [
             [
              0,
              "#0d0887"
             ],
             [
              0.1111111111111111,
              "#46039f"
             ],
             [
              0.2222222222222222,
              "#7201a8"
             ],
             [
              0.3333333333333333,
              "#9c179e"
             ],
             [
              0.4444444444444444,
              "#bd3786"
             ],
             [
              0.5555555555555556,
              "#d8576b"
             ],
             [
              0.6666666666666666,
              "#ed7953"
             ],
             [
              0.7777777777777778,
              "#fb9f3a"
             ],
             [
              0.8888888888888888,
              "#fdca26"
             ],
             [
              1,
              "#f0f921"
             ]
            ],
            "type": "contour"
           }
          ],
          "contourcarpet": [
           {
            "colorbar": {
             "outlinewidth": 0,
             "ticks": ""
            },
            "type": "contourcarpet"
           }
          ],
          "heatmap": [
           {
            "colorbar": {
             "outlinewidth": 0,
             "ticks": ""
            },
            "colorscale": [
             [
              0,
              "#0d0887"
             ],
             [
              0.1111111111111111,
              "#46039f"
             ],
             [
              0.2222222222222222,
              "#7201a8"
             ],
             [
              0.3333333333333333,
              "#9c179e"
             ],
             [
              0.4444444444444444,
              "#bd3786"
             ],
             [
              0.5555555555555556,
              "#d8576b"
             ],
             [
              0.6666666666666666,
              "#ed7953"
             ],
             [
              0.7777777777777778,
              "#fb9f3a"
             ],
             [
              0.8888888888888888,
              "#fdca26"
             ],
             [
              1,
              "#f0f921"
             ]
            ],
            "type": "heatmap"
           }
          ],
          "heatmapgl": [
           {
            "colorbar": {
             "outlinewidth": 0,
             "ticks": ""
            },
            "colorscale": [
             [
              0,
              "#0d0887"
             ],
             [
              0.1111111111111111,
              "#46039f"
             ],
             [
              0.2222222222222222,
              "#7201a8"
             ],
             [
              0.3333333333333333,
              "#9c179e"
             ],
             [
              0.4444444444444444,
              "#bd3786"
             ],
             [
              0.5555555555555556,
              "#d8576b"
             ],
             [
              0.6666666666666666,
              "#ed7953"
             ],
             [
              0.7777777777777778,
              "#fb9f3a"
             ],
             [
              0.8888888888888888,
              "#fdca26"
             ],
             [
              1,
              "#f0f921"
             ]
            ],
            "type": "heatmapgl"
           }
          ],
          "histogram": [
           {
            "marker": {
             "colorbar": {
              "outlinewidth": 0,
              "ticks": ""
             }
            },
            "type": "histogram"
           }
          ],
          "histogram2d": [
           {
            "colorbar": {
             "outlinewidth": 0,
             "ticks": ""
            },
            "colorscale": [
             [
              0,
              "#0d0887"
             ],
             [
              0.1111111111111111,
              "#46039f"
             ],
             [
              0.2222222222222222,
              "#7201a8"
             ],
             [
              0.3333333333333333,
              "#9c179e"
             ],
             [
              0.4444444444444444,
              "#bd3786"
             ],
             [
              0.5555555555555556,
              "#d8576b"
             ],
             [
              0.6666666666666666,
              "#ed7953"
             ],
             [
              0.7777777777777778,
              "#fb9f3a"
             ],
             [
              0.8888888888888888,
              "#fdca26"
             ],
             [
              1,
              "#f0f921"
             ]
            ],
            "type": "histogram2d"
           }
          ],
          "histogram2dcontour": [
           {
            "colorbar": {
             "outlinewidth": 0,
             "ticks": ""
            },
            "colorscale": [
             [
              0,
              "#0d0887"
             ],
             [
              0.1111111111111111,
              "#46039f"
             ],
             [
              0.2222222222222222,
              "#7201a8"
             ],
             [
              0.3333333333333333,
              "#9c179e"
             ],
             [
              0.4444444444444444,
              "#bd3786"
             ],
             [
              0.5555555555555556,
              "#d8576b"
             ],
             [
              0.6666666666666666,
              "#ed7953"
             ],
             [
              0.7777777777777778,
              "#fb9f3a"
             ],
             [
              0.8888888888888888,
              "#fdca26"
             ],
             [
              1,
              "#f0f921"
             ]
            ],
            "type": "histogram2dcontour"
           }
          ],
          "mesh3d": [
           {
            "colorbar": {
             "outlinewidth": 0,
             "ticks": ""
            },
            "type": "mesh3d"
           }
          ],
          "parcoords": [
           {
            "line": {
             "colorbar": {
              "outlinewidth": 0,
              "ticks": ""
             }
            },
            "type": "parcoords"
           }
          ],
          "pie": [
           {
            "automargin": true,
            "type": "pie"
           }
          ],
          "scatter": [
           {
            "marker": {
             "colorbar": {
              "outlinewidth": 0,
              "ticks": ""
             }
            },
            "type": "scatter"
           }
          ],
          "scatter3d": [
           {
            "line": {
             "colorbar": {
              "outlinewidth": 0,
              "ticks": ""
             }
            },
            "marker": {
             "colorbar": {
              "outlinewidth": 0,
              "ticks": ""
             }
            },
            "type": "scatter3d"
           }
          ],
          "scattercarpet": [
           {
            "marker": {
             "colorbar": {
              "outlinewidth": 0,
              "ticks": ""
             }
            },
            "type": "scattercarpet"
           }
          ],
          "scattergeo": [
           {
            "marker": {
             "colorbar": {
              "outlinewidth": 0,
              "ticks": ""
             }
            },
            "type": "scattergeo"
           }
          ],
          "scattergl": [
           {
            "marker": {
             "colorbar": {
              "outlinewidth": 0,
              "ticks": ""
             }
            },
            "type": "scattergl"
           }
          ],
          "scattermapbox": [
           {
            "marker": {
             "colorbar": {
              "outlinewidth": 0,
              "ticks": ""
             }
            },
            "type": "scattermapbox"
           }
          ],
          "scatterpolar": [
           {
            "marker": {
             "colorbar": {
              "outlinewidth": 0,
              "ticks": ""
             }
            },
            "type": "scatterpolar"
           }
          ],
          "scatterpolargl": [
           {
            "marker": {
             "colorbar": {
              "outlinewidth": 0,
              "ticks": ""
             }
            },
            "type": "scatterpolargl"
           }
          ],
          "scatterternary": [
           {
            "marker": {
             "colorbar": {
              "outlinewidth": 0,
              "ticks": ""
             }
            },
            "type": "scatterternary"
           }
          ],
          "surface": [
           {
            "colorbar": {
             "outlinewidth": 0,
             "ticks": ""
            },
            "colorscale": [
             [
              0,
              "#0d0887"
             ],
             [
              0.1111111111111111,
              "#46039f"
             ],
             [
              0.2222222222222222,
              "#7201a8"
             ],
             [
              0.3333333333333333,
              "#9c179e"
             ],
             [
              0.4444444444444444,
              "#bd3786"
             ],
             [
              0.5555555555555556,
              "#d8576b"
             ],
             [
              0.6666666666666666,
              "#ed7953"
             ],
             [
              0.7777777777777778,
              "#fb9f3a"
             ],
             [
              0.8888888888888888,
              "#fdca26"
             ],
             [
              1,
              "#f0f921"
             ]
            ],
            "type": "surface"
           }
          ],
          "table": [
           {
            "cells": {
             "fill": {
              "color": "#EBF0F8"
             },
             "line": {
              "color": "white"
             }
            },
            "header": {
             "fill": {
              "color": "#C8D4E3"
             },
             "line": {
              "color": "white"
             }
            },
            "type": "table"
           }
          ]
         },
         "layout": {
          "annotationdefaults": {
           "arrowcolor": "#2a3f5f",
           "arrowhead": 0,
           "arrowwidth": 1
          },
          "coloraxis": {
           "colorbar": {
            "outlinewidth": 0,
            "ticks": ""
           }
          },
          "colorscale": {
           "diverging": [
            [
             0,
             "#8e0152"
            ],
            [
             0.1,
             "#c51b7d"
            ],
            [
             0.2,
             "#de77ae"
            ],
            [
             0.3,
             "#f1b6da"
            ],
            [
             0.4,
             "#fde0ef"
            ],
            [
             0.5,
             "#f7f7f7"
            ],
            [
             0.6,
             "#e6f5d0"
            ],
            [
             0.7,
             "#b8e186"
            ],
            [
             0.8,
             "#7fbc41"
            ],
            [
             0.9,
             "#4d9221"
            ],
            [
             1,
             "#276419"
            ]
           ],
           "sequential": [
            [
             0,
             "#0d0887"
            ],
            [
             0.1111111111111111,
             "#46039f"
            ],
            [
             0.2222222222222222,
             "#7201a8"
            ],
            [
             0.3333333333333333,
             "#9c179e"
            ],
            [
             0.4444444444444444,
             "#bd3786"
            ],
            [
             0.5555555555555556,
             "#d8576b"
            ],
            [
             0.6666666666666666,
             "#ed7953"
            ],
            [
             0.7777777777777778,
             "#fb9f3a"
            ],
            [
             0.8888888888888888,
             "#fdca26"
            ],
            [
             1,
             "#f0f921"
            ]
           ],
           "sequentialminus": [
            [
             0,
             "#0d0887"
            ],
            [
             0.1111111111111111,
             "#46039f"
            ],
            [
             0.2222222222222222,
             "#7201a8"
            ],
            [
             0.3333333333333333,
             "#9c179e"
            ],
            [
             0.4444444444444444,
             "#bd3786"
            ],
            [
             0.5555555555555556,
             "#d8576b"
            ],
            [
             0.6666666666666666,
             "#ed7953"
            ],
            [
             0.7777777777777778,
             "#fb9f3a"
            ],
            [
             0.8888888888888888,
             "#fdca26"
            ],
            [
             1,
             "#f0f921"
            ]
           ]
          },
          "colorway": [
           "#636efa",
           "#EF553B",
           "#00cc96",
           "#ab63fa",
           "#FFA15A",
           "#19d3f3",
           "#FF6692",
           "#B6E880",
           "#FF97FF",
           "#FECB52"
          ],
          "font": {
           "color": "#2a3f5f"
          },
          "geo": {
           "bgcolor": "white",
           "lakecolor": "white",
           "landcolor": "#E5ECF6",
           "showlakes": true,
           "showland": true,
           "subunitcolor": "white"
          },
          "hoverlabel": {
           "align": "left"
          },
          "hovermode": "closest",
          "mapbox": {
           "style": "light"
          },
          "paper_bgcolor": "white",
          "plot_bgcolor": "#E5ECF6",
          "polar": {
           "angularaxis": {
            "gridcolor": "white",
            "linecolor": "white",
            "ticks": ""
           },
           "bgcolor": "#E5ECF6",
           "radialaxis": {
            "gridcolor": "white",
            "linecolor": "white",
            "ticks": ""
           }
          },
          "scene": {
           "xaxis": {
            "backgroundcolor": "#E5ECF6",
            "gridcolor": "white",
            "gridwidth": 2,
            "linecolor": "white",
            "showbackground": true,
            "ticks": "",
            "zerolinecolor": "white"
           },
           "yaxis": {
            "backgroundcolor": "#E5ECF6",
            "gridcolor": "white",
            "gridwidth": 2,
            "linecolor": "white",
            "showbackground": true,
            "ticks": "",
            "zerolinecolor": "white"
           },
           "zaxis": {
            "backgroundcolor": "#E5ECF6",
            "gridcolor": "white",
            "gridwidth": 2,
            "linecolor": "white",
            "showbackground": true,
            "ticks": "",
            "zerolinecolor": "white"
           }
          },
          "shapedefaults": {
           "line": {
            "color": "#2a3f5f"
           }
          },
          "ternary": {
           "aaxis": {
            "gridcolor": "white",
            "linecolor": "white",
            "ticks": ""
           },
           "baxis": {
            "gridcolor": "white",
            "linecolor": "white",
            "ticks": ""
           },
           "bgcolor": "#E5ECF6",
           "caxis": {
            "gridcolor": "white",
            "linecolor": "white",
            "ticks": ""
           }
          },
          "title": {
           "x": 0.05
          },
          "xaxis": {
           "automargin": true,
           "gridcolor": "white",
           "linecolor": "white",
           "ticks": "",
           "title": {
            "standoff": 15
           },
           "zerolinecolor": "white",
           "zerolinewidth": 2
          },
          "yaxis": {
           "automargin": true,
           "gridcolor": "white",
           "linecolor": "white",
           "ticks": "",
           "title": {
            "standoff": 15
           },
           "zerolinecolor": "white",
           "zerolinewidth": 2
          }
         }
        },
        "title": {
         "font": {
          "color": "#4D5663"
         }
        },
        "xaxis": {
         "gridcolor": "#E1E5ED",
         "showgrid": true,
         "tickfont": {
          "color": "#4D5663"
         },
         "title": {
          "font": {
           "color": "#4D5663"
          },
          "text": ""
         },
         "zerolinecolor": "#E1E5ED"
        },
        "yaxis": {
         "gridcolor": "#E1E5ED",
         "showgrid": true,
         "tickfont": {
          "color": "#4D5663"
         },
         "title": {
          "font": {
           "color": "#4D5663"
          },
          "text": ""
         },
         "zerolinecolor": "#E1E5ED"
        }
       }
      },
      "text/html": [
       "<div>\n",
       "        \n",
       "        \n",
       "            <div id=\"0675ffc3-b3e7-402b-92d1-e09683dd5a6a\" class=\"plotly-graph-div\" style=\"height:525px; width:100%;\"></div>\n",
       "            <script type=\"text/javascript\">\n",
       "                require([\"plotly\"], function(Plotly) {\n",
       "                    window.PLOTLYENV=window.PLOTLYENV || {};\n",
       "                    window.PLOTLYENV.BASE_URL='https://plot.ly';\n",
       "                    \n",
       "                if (document.getElementById(\"0675ffc3-b3e7-402b-92d1-e09683dd5a6a\")) {\n",
       "                    Plotly.newPlot(\n",
       "                        '0675ffc3-b3e7-402b-92d1-e09683dd5a6a',\n",
       "                        [{\"colorscale\": [[0.0, \"rgb(165,0,38)\"], [0.1, \"rgb(215,48,39)\"], [0.2, \"rgb(244,109,67)\"], [0.3, \"rgb(253,174,97)\"], [0.4, \"rgb(254,224,144)\"], [0.5, \"rgb(255,255,191)\"], [0.6, \"rgb(224,243,248)\"], [0.7, \"rgb(171,217,233)\"], [0.8, \"rgb(116,173,209)\"], [0.9, \"rgb(69,117,180)\"], [1.0, \"rgb(49,54,149)\"]], \"type\": \"surface\", \"x\": [0, 1, 2, 3, 4], \"y\": [\"x\", \"y\", \"z\"], \"z\": [[1, 2, 3, 4, 5], [10, 20, 30, 20, 10], [5, 4, 3, 2, 1]]}],\n",
       "                        {\"legend\": {\"bgcolor\": \"#F5F6F9\", \"font\": {\"color\": \"#4D5663\"}}, \"paper_bgcolor\": \"#F5F6F9\", \"plot_bgcolor\": \"#F5F6F9\", \"template\": {\"data\": {\"bar\": [{\"error_x\": {\"color\": \"#2a3f5f\"}, \"error_y\": {\"color\": \"#2a3f5f\"}, \"marker\": {\"line\": {\"color\": \"#E5ECF6\", \"width\": 0.5}}, \"type\": \"bar\"}], \"barpolar\": [{\"marker\": {\"line\": {\"color\": \"#E5ECF6\", \"width\": 0.5}}, \"type\": \"barpolar\"}], \"carpet\": [{\"aaxis\": {\"endlinecolor\": \"#2a3f5f\", \"gridcolor\": \"white\", \"linecolor\": \"white\", \"minorgridcolor\": \"white\", \"startlinecolor\": \"#2a3f5f\"}, \"baxis\": {\"endlinecolor\": \"#2a3f5f\", \"gridcolor\": \"white\", \"linecolor\": \"white\", \"minorgridcolor\": \"white\", \"startlinecolor\": \"#2a3f5f\"}, \"type\": \"carpet\"}], \"choropleth\": [{\"colorbar\": {\"outlinewidth\": 0, \"ticks\": \"\"}, \"type\": \"choropleth\"}], \"contour\": [{\"colorbar\": {\"outlinewidth\": 0, \"ticks\": \"\"}, \"colorscale\": [[0.0, \"#0d0887\"], [0.1111111111111111, \"#46039f\"], [0.2222222222222222, \"#7201a8\"], [0.3333333333333333, \"#9c179e\"], [0.4444444444444444, \"#bd3786\"], [0.5555555555555556, \"#d8576b\"], [0.6666666666666666, \"#ed7953\"], [0.7777777777777778, \"#fb9f3a\"], [0.8888888888888888, \"#fdca26\"], [1.0, \"#f0f921\"]], \"type\": \"contour\"}], \"contourcarpet\": [{\"colorbar\": {\"outlinewidth\": 0, \"ticks\": \"\"}, \"type\": \"contourcarpet\"}], \"heatmap\": [{\"colorbar\": {\"outlinewidth\": 0, \"ticks\": \"\"}, \"colorscale\": [[0.0, \"#0d0887\"], [0.1111111111111111, \"#46039f\"], [0.2222222222222222, \"#7201a8\"], [0.3333333333333333, \"#9c179e\"], [0.4444444444444444, \"#bd3786\"], [0.5555555555555556, \"#d8576b\"], [0.6666666666666666, \"#ed7953\"], [0.7777777777777778, \"#fb9f3a\"], [0.8888888888888888, \"#fdca26\"], [1.0, \"#f0f921\"]], \"type\": \"heatmap\"}], \"heatmapgl\": [{\"colorbar\": {\"outlinewidth\": 0, \"ticks\": \"\"}, \"colorscale\": [[0.0, \"#0d0887\"], [0.1111111111111111, \"#46039f\"], [0.2222222222222222, \"#7201a8\"], [0.3333333333333333, \"#9c179e\"], [0.4444444444444444, \"#bd3786\"], [0.5555555555555556, \"#d8576b\"], [0.6666666666666666, \"#ed7953\"], [0.7777777777777778, \"#fb9f3a\"], [0.8888888888888888, \"#fdca26\"], [1.0, \"#f0f921\"]], \"type\": \"heatmapgl\"}], \"histogram\": [{\"marker\": {\"colorbar\": {\"outlinewidth\": 0, \"ticks\": \"\"}}, \"type\": \"histogram\"}], \"histogram2d\": [{\"colorbar\": {\"outlinewidth\": 0, \"ticks\": \"\"}, \"colorscale\": [[0.0, \"#0d0887\"], [0.1111111111111111, \"#46039f\"], [0.2222222222222222, \"#7201a8\"], [0.3333333333333333, \"#9c179e\"], [0.4444444444444444, \"#bd3786\"], [0.5555555555555556, \"#d8576b\"], [0.6666666666666666, \"#ed7953\"], [0.7777777777777778, \"#fb9f3a\"], [0.8888888888888888, \"#fdca26\"], [1.0, \"#f0f921\"]], \"type\": \"histogram2d\"}], \"histogram2dcontour\": [{\"colorbar\": {\"outlinewidth\": 0, \"ticks\": \"\"}, \"colorscale\": [[0.0, \"#0d0887\"], [0.1111111111111111, \"#46039f\"], [0.2222222222222222, \"#7201a8\"], [0.3333333333333333, \"#9c179e\"], [0.4444444444444444, \"#bd3786\"], [0.5555555555555556, \"#d8576b\"], [0.6666666666666666, \"#ed7953\"], [0.7777777777777778, \"#fb9f3a\"], [0.8888888888888888, \"#fdca26\"], [1.0, \"#f0f921\"]], \"type\": \"histogram2dcontour\"}], \"mesh3d\": [{\"colorbar\": {\"outlinewidth\": 0, \"ticks\": \"\"}, \"type\": \"mesh3d\"}], \"parcoords\": [{\"line\": {\"colorbar\": {\"outlinewidth\": 0, \"ticks\": \"\"}}, \"type\": \"parcoords\"}], \"pie\": [{\"automargin\": true, \"type\": \"pie\"}], \"scatter\": [{\"marker\": {\"colorbar\": {\"outlinewidth\": 0, \"ticks\": \"\"}}, \"type\": \"scatter\"}], \"scatter3d\": [{\"line\": {\"colorbar\": {\"outlinewidth\": 0, \"ticks\": \"\"}}, \"marker\": {\"colorbar\": {\"outlinewidth\": 0, \"ticks\": \"\"}}, \"type\": \"scatter3d\"}], \"scattercarpet\": [{\"marker\": {\"colorbar\": {\"outlinewidth\": 0, \"ticks\": \"\"}}, \"type\": \"scattercarpet\"}], \"scattergeo\": [{\"marker\": {\"colorbar\": {\"outlinewidth\": 0, \"ticks\": \"\"}}, \"type\": \"scattergeo\"}], \"scattergl\": [{\"marker\": {\"colorbar\": {\"outlinewidth\": 0, \"ticks\": \"\"}}, \"type\": \"scattergl\"}], \"scattermapbox\": [{\"marker\": {\"colorbar\": {\"outlinewidth\": 0, \"ticks\": \"\"}}, \"type\": \"scattermapbox\"}], \"scatterpolar\": [{\"marker\": {\"colorbar\": {\"outlinewidth\": 0, \"ticks\": \"\"}}, \"type\": \"scatterpolar\"}], \"scatterpolargl\": [{\"marker\": {\"colorbar\": {\"outlinewidth\": 0, \"ticks\": \"\"}}, \"type\": \"scatterpolargl\"}], \"scatterternary\": [{\"marker\": {\"colorbar\": {\"outlinewidth\": 0, \"ticks\": \"\"}}, \"type\": \"scatterternary\"}], \"surface\": [{\"colorbar\": {\"outlinewidth\": 0, \"ticks\": \"\"}, \"colorscale\": [[0.0, \"#0d0887\"], [0.1111111111111111, \"#46039f\"], [0.2222222222222222, \"#7201a8\"], [0.3333333333333333, \"#9c179e\"], [0.4444444444444444, \"#bd3786\"], [0.5555555555555556, \"#d8576b\"], [0.6666666666666666, \"#ed7953\"], [0.7777777777777778, \"#fb9f3a\"], [0.8888888888888888, \"#fdca26\"], [1.0, \"#f0f921\"]], \"type\": \"surface\"}], \"table\": [{\"cells\": {\"fill\": {\"color\": \"#EBF0F8\"}, \"line\": {\"color\": \"white\"}}, \"header\": {\"fill\": {\"color\": \"#C8D4E3\"}, \"line\": {\"color\": \"white\"}}, \"type\": \"table\"}]}, \"layout\": {\"annotationdefaults\": {\"arrowcolor\": \"#2a3f5f\", \"arrowhead\": 0, \"arrowwidth\": 1}, \"coloraxis\": {\"colorbar\": {\"outlinewidth\": 0, \"ticks\": \"\"}}, \"colorscale\": {\"diverging\": [[0, \"#8e0152\"], [0.1, \"#c51b7d\"], [0.2, \"#de77ae\"], [0.3, \"#f1b6da\"], [0.4, \"#fde0ef\"], [0.5, \"#f7f7f7\"], [0.6, \"#e6f5d0\"], [0.7, \"#b8e186\"], [0.8, \"#7fbc41\"], [0.9, \"#4d9221\"], [1, \"#276419\"]], \"sequential\": [[0.0, \"#0d0887\"], [0.1111111111111111, \"#46039f\"], [0.2222222222222222, \"#7201a8\"], [0.3333333333333333, \"#9c179e\"], [0.4444444444444444, \"#bd3786\"], [0.5555555555555556, \"#d8576b\"], [0.6666666666666666, \"#ed7953\"], [0.7777777777777778, \"#fb9f3a\"], [0.8888888888888888, \"#fdca26\"], [1.0, \"#f0f921\"]], \"sequentialminus\": [[0.0, \"#0d0887\"], [0.1111111111111111, \"#46039f\"], [0.2222222222222222, \"#7201a8\"], [0.3333333333333333, \"#9c179e\"], [0.4444444444444444, \"#bd3786\"], [0.5555555555555556, \"#d8576b\"], [0.6666666666666666, \"#ed7953\"], [0.7777777777777778, \"#fb9f3a\"], [0.8888888888888888, \"#fdca26\"], [1.0, \"#f0f921\"]]}, \"colorway\": [\"#636efa\", \"#EF553B\", \"#00cc96\", \"#ab63fa\", \"#FFA15A\", \"#19d3f3\", \"#FF6692\", \"#B6E880\", \"#FF97FF\", \"#FECB52\"], \"font\": {\"color\": \"#2a3f5f\"}, \"geo\": {\"bgcolor\": \"white\", \"lakecolor\": \"white\", \"landcolor\": \"#E5ECF6\", \"showlakes\": true, \"showland\": true, \"subunitcolor\": \"white\"}, \"hoverlabel\": {\"align\": \"left\"}, \"hovermode\": \"closest\", \"mapbox\": {\"style\": \"light\"}, \"paper_bgcolor\": \"white\", \"plot_bgcolor\": \"#E5ECF6\", \"polar\": {\"angularaxis\": {\"gridcolor\": \"white\", \"linecolor\": \"white\", \"ticks\": \"\"}, \"bgcolor\": \"#E5ECF6\", \"radialaxis\": {\"gridcolor\": \"white\", \"linecolor\": \"white\", \"ticks\": \"\"}}, \"scene\": {\"xaxis\": {\"backgroundcolor\": \"#E5ECF6\", \"gridcolor\": \"white\", \"gridwidth\": 2, \"linecolor\": \"white\", \"showbackground\": true, \"ticks\": \"\", \"zerolinecolor\": \"white\"}, \"yaxis\": {\"backgroundcolor\": \"#E5ECF6\", \"gridcolor\": \"white\", \"gridwidth\": 2, \"linecolor\": \"white\", \"showbackground\": true, \"ticks\": \"\", \"zerolinecolor\": \"white\"}, \"zaxis\": {\"backgroundcolor\": \"#E5ECF6\", \"gridcolor\": \"white\", \"gridwidth\": 2, \"linecolor\": \"white\", \"showbackground\": true, \"ticks\": \"\", \"zerolinecolor\": \"white\"}}, \"shapedefaults\": {\"line\": {\"color\": \"#2a3f5f\"}}, \"ternary\": {\"aaxis\": {\"gridcolor\": \"white\", \"linecolor\": \"white\", \"ticks\": \"\"}, \"baxis\": {\"gridcolor\": \"white\", \"linecolor\": \"white\", \"ticks\": \"\"}, \"bgcolor\": \"#E5ECF6\", \"caxis\": {\"gridcolor\": \"white\", \"linecolor\": \"white\", \"ticks\": \"\"}}, \"title\": {\"x\": 0.05}, \"xaxis\": {\"automargin\": true, \"gridcolor\": \"white\", \"linecolor\": \"white\", \"ticks\": \"\", \"title\": {\"standoff\": 15}, \"zerolinecolor\": \"white\", \"zerolinewidth\": 2}, \"yaxis\": {\"automargin\": true, \"gridcolor\": \"white\", \"linecolor\": \"white\", \"ticks\": \"\", \"title\": {\"standoff\": 15}, \"zerolinecolor\": \"white\", \"zerolinewidth\": 2}}}, \"title\": {\"font\": {\"color\": \"#4D5663\"}}, \"xaxis\": {\"gridcolor\": \"#E1E5ED\", \"showgrid\": true, \"tickfont\": {\"color\": \"#4D5663\"}, \"title\": {\"font\": {\"color\": \"#4D5663\"}, \"text\": \"\"}, \"zerolinecolor\": \"#E1E5ED\"}, \"yaxis\": {\"gridcolor\": \"#E1E5ED\", \"showgrid\": true, \"tickfont\": {\"color\": \"#4D5663\"}, \"title\": {\"font\": {\"color\": \"#4D5663\"}, \"text\": \"\"}, \"zerolinecolor\": \"#E1E5ED\"}},\n",
       "                        {\"showLink\": true, \"linkText\": \"Export to plot.ly\", \"plotlyServerURL\": \"https://plot.ly\", \"responsive\": true}\n",
       "                    ).then(function(){\n",
       "                            \n",
       "var gd = document.getElementById('0675ffc3-b3e7-402b-92d1-e09683dd5a6a');\n",
       "var x = new MutationObserver(function (mutations, observer) {{\n",
       "        var display = window.getComputedStyle(gd).display;\n",
       "        if (!display || display === 'none') {{\n",
       "            console.log([gd, 'removed!']);\n",
       "            Plotly.purge(gd);\n",
       "            observer.disconnect();\n",
       "        }}\n",
       "}});\n",
       "\n",
       "// Listen for the removal of the full notebook cells\n",
       "var notebookContainer = gd.closest('#notebook-container');\n",
       "if (notebookContainer) {{\n",
       "    x.observe(notebookContainer, {childList: true});\n",
       "}}\n",
       "\n",
       "// Listen for the clearing of the current output cell\n",
       "var outputEl = gd.closest('.output');\n",
       "if (outputEl) {{\n",
       "    x.observe(outputEl, {childList: true});\n",
       "}}\n",
       "\n",
       "                        })\n",
       "                };\n",
       "                });\n",
       "            </script>\n",
       "        </div>"
      ]
     },
     "metadata": {},
     "output_type": "display_data"
    }
   ],
   "source": [
    "# 3D SURFACE PLOT - Change color scale\n",
    "df3.iplot(kind='surface',colorscale='rdylbu')"
   ]
  },
  {
   "cell_type": "code",
   "execution_count": null,
   "metadata": {},
   "outputs": [],
   "source": []
  },
  {
   "cell_type": "code",
   "execution_count": 57,
   "metadata": {},
   "outputs": [
    {
     "data": {
      "application/vnd.plotly.v1+json": {
       "config": {
        "linkText": "Export to plot.ly",
        "plotlyServerURL": "https://plot.ly",
        "showLink": true
       },
       "data": [
        {
         "histfunc": "count",
         "histnorm": "",
         "marker": {
          "color": "rgba(255, 153, 51, 1.0)",
          "line": {
           "color": "#4D5663",
           "width": 1.3
          }
         },
         "name": "A",
         "nbinsx": 50,
         "opacity": 0.8,
         "orientation": "v",
         "type": "histogram",
         "x": [
          -1.228210303840886,
          0.673718637442548,
          -0.6359991664128826,
          -0.23262448905478936,
          -0.4652684818242084,
          0.09112090769390506,
          1.1202307162460101,
          -0.913002197072858,
          -1.7866033041530176,
          -1.1819664154244243,
          -2.2518992211992668,
          1.6419723454475943,
          -0.5049024421225882,
          -0.8316433290825647,
          -1.9026947938151906,
          0.9529643236956478,
          0.8424279826802521,
          0.6496949082875334,
          -1.2710369557178685,
          0.6744304243539521,
          0.27031806004342473,
          -0.6151995848966308,
          1.286999400136683,
          2.754225637025308,
          -0.8685563696172357,
          -0.37270596578089227,
          0.21656933195695277,
          0.3299593481685292,
          -0.38976956152955244,
          0.7899141331885607,
          -0.15232135255386411,
          -0.3278732576519635,
          -0.1714780618959102,
          0.24585193839195518,
          -0.520103537564345,
          0.9423867963175877,
          0.6998506662177038,
          2.9565000032387485,
          -0.16771290225752722,
          -0.8565644599372393,
          1.9093025443891725,
          -0.6065596660356215,
          1.5561398386580072,
          -1.6604273958353217,
          0.29570532237337854,
          -0.30655930240007645,
          0.5629765465472392,
          -1.1157754639387614,
          -0.22955196345192624,
          -2.0050583424582227,
          0.11713750696332578,
          2.8267139655873303,
          0.46332154157231764,
          0.8913848873219073,
          -0.27625761399056287,
          0.17061072015134288,
          0.01247361244100639,
          -1.1868120197940502,
          -0.1768842533262507,
          0.3980979509622024,
          1.7637268334097294,
          0.9632004046301621,
          -0.174102504451404,
          -1.02063042523494,
          1.678577707560514,
          2.061538374722697,
          -0.01891713764992838,
          -0.34503079589422914,
          -0.8918084865031932,
          -0.7260269927380488,
          0.49049384129362483,
          -1.7200742116968653,
          -0.7129415168181875,
          -0.44188757928112904,
          3.5061225729394834,
          -0.48365529838350285,
          0.09783218038002926,
          1.4577512305513558,
          0.036503672104812285,
          1.6157315712246738,
          0.34311746110657376,
          0.531373414113734,
          -0.7186086927412191,
          1.956762618943234,
          -0.06307785143259939,
          0.18422454988996845,
          -0.8828271943787102,
          -0.7819307241118907,
          -0.4712984396735526,
          0.8208067834200556,
          -0.9535656763785126,
          0.6172811281139772,
          0.38806297663784844,
          0.21969028658437853,
          0.5142512913421163,
          0.3040997986323465,
          0.28940893588859046,
          0.39912893114064507,
          0.8522015383297381,
          0.766249213069548
         ]
        }
       ],
       "layout": {
        "barmode": "overlay",
        "legend": {
         "bgcolor": "#F5F6F9",
         "font": {
          "color": "#4D5663"
         }
        },
        "paper_bgcolor": "#F5F6F9",
        "plot_bgcolor": "#F5F6F9",
        "template": {
         "data": {
          "bar": [
           {
            "error_x": {
             "color": "#2a3f5f"
            },
            "error_y": {
             "color": "#2a3f5f"
            },
            "marker": {
             "line": {
              "color": "#E5ECF6",
              "width": 0.5
             }
            },
            "type": "bar"
           }
          ],
          "barpolar": [
           {
            "marker": {
             "line": {
              "color": "#E5ECF6",
              "width": 0.5
             }
            },
            "type": "barpolar"
           }
          ],
          "carpet": [
           {
            "aaxis": {
             "endlinecolor": "#2a3f5f",
             "gridcolor": "white",
             "linecolor": "white",
             "minorgridcolor": "white",
             "startlinecolor": "#2a3f5f"
            },
            "baxis": {
             "endlinecolor": "#2a3f5f",
             "gridcolor": "white",
             "linecolor": "white",
             "minorgridcolor": "white",
             "startlinecolor": "#2a3f5f"
            },
            "type": "carpet"
           }
          ],
          "choropleth": [
           {
            "colorbar": {
             "outlinewidth": 0,
             "ticks": ""
            },
            "type": "choropleth"
           }
          ],
          "contour": [
           {
            "colorbar": {
             "outlinewidth": 0,
             "ticks": ""
            },
            "colorscale": [
             [
              0,
              "#0d0887"
             ],
             [
              0.1111111111111111,
              "#46039f"
             ],
             [
              0.2222222222222222,
              "#7201a8"
             ],
             [
              0.3333333333333333,
              "#9c179e"
             ],
             [
              0.4444444444444444,
              "#bd3786"
             ],
             [
              0.5555555555555556,
              "#d8576b"
             ],
             [
              0.6666666666666666,
              "#ed7953"
             ],
             [
              0.7777777777777778,
              "#fb9f3a"
             ],
             [
              0.8888888888888888,
              "#fdca26"
             ],
             [
              1,
              "#f0f921"
             ]
            ],
            "type": "contour"
           }
          ],
          "contourcarpet": [
           {
            "colorbar": {
             "outlinewidth": 0,
             "ticks": ""
            },
            "type": "contourcarpet"
           }
          ],
          "heatmap": [
           {
            "colorbar": {
             "outlinewidth": 0,
             "ticks": ""
            },
            "colorscale": [
             [
              0,
              "#0d0887"
             ],
             [
              0.1111111111111111,
              "#46039f"
             ],
             [
              0.2222222222222222,
              "#7201a8"
             ],
             [
              0.3333333333333333,
              "#9c179e"
             ],
             [
              0.4444444444444444,
              "#bd3786"
             ],
             [
              0.5555555555555556,
              "#d8576b"
             ],
             [
              0.6666666666666666,
              "#ed7953"
             ],
             [
              0.7777777777777778,
              "#fb9f3a"
             ],
             [
              0.8888888888888888,
              "#fdca26"
             ],
             [
              1,
              "#f0f921"
             ]
            ],
            "type": "heatmap"
           }
          ],
          "heatmapgl": [
           {
            "colorbar": {
             "outlinewidth": 0,
             "ticks": ""
            },
            "colorscale": [
             [
              0,
              "#0d0887"
             ],
             [
              0.1111111111111111,
              "#46039f"
             ],
             [
              0.2222222222222222,
              "#7201a8"
             ],
             [
              0.3333333333333333,
              "#9c179e"
             ],
             [
              0.4444444444444444,
              "#bd3786"
             ],
             [
              0.5555555555555556,
              "#d8576b"
             ],
             [
              0.6666666666666666,
              "#ed7953"
             ],
             [
              0.7777777777777778,
              "#fb9f3a"
             ],
             [
              0.8888888888888888,
              "#fdca26"
             ],
             [
              1,
              "#f0f921"
             ]
            ],
            "type": "heatmapgl"
           }
          ],
          "histogram": [
           {
            "marker": {
             "colorbar": {
              "outlinewidth": 0,
              "ticks": ""
             }
            },
            "type": "histogram"
           }
          ],
          "histogram2d": [
           {
            "colorbar": {
             "outlinewidth": 0,
             "ticks": ""
            },
            "colorscale": [
             [
              0,
              "#0d0887"
             ],
             [
              0.1111111111111111,
              "#46039f"
             ],
             [
              0.2222222222222222,
              "#7201a8"
             ],
             [
              0.3333333333333333,
              "#9c179e"
             ],
             [
              0.4444444444444444,
              "#bd3786"
             ],
             [
              0.5555555555555556,
              "#d8576b"
             ],
             [
              0.6666666666666666,
              "#ed7953"
             ],
             [
              0.7777777777777778,
              "#fb9f3a"
             ],
             [
              0.8888888888888888,
              "#fdca26"
             ],
             [
              1,
              "#f0f921"
             ]
            ],
            "type": "histogram2d"
           }
          ],
          "histogram2dcontour": [
           {
            "colorbar": {
             "outlinewidth": 0,
             "ticks": ""
            },
            "colorscale": [
             [
              0,
              "#0d0887"
             ],
             [
              0.1111111111111111,
              "#46039f"
             ],
             [
              0.2222222222222222,
              "#7201a8"
             ],
             [
              0.3333333333333333,
              "#9c179e"
             ],
             [
              0.4444444444444444,
              "#bd3786"
             ],
             [
              0.5555555555555556,
              "#d8576b"
             ],
             [
              0.6666666666666666,
              "#ed7953"
             ],
             [
              0.7777777777777778,
              "#fb9f3a"
             ],
             [
              0.8888888888888888,
              "#fdca26"
             ],
             [
              1,
              "#f0f921"
             ]
            ],
            "type": "histogram2dcontour"
           }
          ],
          "mesh3d": [
           {
            "colorbar": {
             "outlinewidth": 0,
             "ticks": ""
            },
            "type": "mesh3d"
           }
          ],
          "parcoords": [
           {
            "line": {
             "colorbar": {
              "outlinewidth": 0,
              "ticks": ""
             }
            },
            "type": "parcoords"
           }
          ],
          "pie": [
           {
            "automargin": true,
            "type": "pie"
           }
          ],
          "scatter": [
           {
            "marker": {
             "colorbar": {
              "outlinewidth": 0,
              "ticks": ""
             }
            },
            "type": "scatter"
           }
          ],
          "scatter3d": [
           {
            "line": {
             "colorbar": {
              "outlinewidth": 0,
              "ticks": ""
             }
            },
            "marker": {
             "colorbar": {
              "outlinewidth": 0,
              "ticks": ""
             }
            },
            "type": "scatter3d"
           }
          ],
          "scattercarpet": [
           {
            "marker": {
             "colorbar": {
              "outlinewidth": 0,
              "ticks": ""
             }
            },
            "type": "scattercarpet"
           }
          ],
          "scattergeo": [
           {
            "marker": {
             "colorbar": {
              "outlinewidth": 0,
              "ticks": ""
             }
            },
            "type": "scattergeo"
           }
          ],
          "scattergl": [
           {
            "marker": {
             "colorbar": {
              "outlinewidth": 0,
              "ticks": ""
             }
            },
            "type": "scattergl"
           }
          ],
          "scattermapbox": [
           {
            "marker": {
             "colorbar": {
              "outlinewidth": 0,
              "ticks": ""
             }
            },
            "type": "scattermapbox"
           }
          ],
          "scatterpolar": [
           {
            "marker": {
             "colorbar": {
              "outlinewidth": 0,
              "ticks": ""
             }
            },
            "type": "scatterpolar"
           }
          ],
          "scatterpolargl": [
           {
            "marker": {
             "colorbar": {
              "outlinewidth": 0,
              "ticks": ""
             }
            },
            "type": "scatterpolargl"
           }
          ],
          "scatterternary": [
           {
            "marker": {
             "colorbar": {
              "outlinewidth": 0,
              "ticks": ""
             }
            },
            "type": "scatterternary"
           }
          ],
          "surface": [
           {
            "colorbar": {
             "outlinewidth": 0,
             "ticks": ""
            },
            "colorscale": [
             [
              0,
              "#0d0887"
             ],
             [
              0.1111111111111111,
              "#46039f"
             ],
             [
              0.2222222222222222,
              "#7201a8"
             ],
             [
              0.3333333333333333,
              "#9c179e"
             ],
             [
              0.4444444444444444,
              "#bd3786"
             ],
             [
              0.5555555555555556,
              "#d8576b"
             ],
             [
              0.6666666666666666,
              "#ed7953"
             ],
             [
              0.7777777777777778,
              "#fb9f3a"
             ],
             [
              0.8888888888888888,
              "#fdca26"
             ],
             [
              1,
              "#f0f921"
             ]
            ],
            "type": "surface"
           }
          ],
          "table": [
           {
            "cells": {
             "fill": {
              "color": "#EBF0F8"
             },
             "line": {
              "color": "white"
             }
            },
            "header": {
             "fill": {
              "color": "#C8D4E3"
             },
             "line": {
              "color": "white"
             }
            },
            "type": "table"
           }
          ]
         },
         "layout": {
          "annotationdefaults": {
           "arrowcolor": "#2a3f5f",
           "arrowhead": 0,
           "arrowwidth": 1
          },
          "coloraxis": {
           "colorbar": {
            "outlinewidth": 0,
            "ticks": ""
           }
          },
          "colorscale": {
           "diverging": [
            [
             0,
             "#8e0152"
            ],
            [
             0.1,
             "#c51b7d"
            ],
            [
             0.2,
             "#de77ae"
            ],
            [
             0.3,
             "#f1b6da"
            ],
            [
             0.4,
             "#fde0ef"
            ],
            [
             0.5,
             "#f7f7f7"
            ],
            [
             0.6,
             "#e6f5d0"
            ],
            [
             0.7,
             "#b8e186"
            ],
            [
             0.8,
             "#7fbc41"
            ],
            [
             0.9,
             "#4d9221"
            ],
            [
             1,
             "#276419"
            ]
           ],
           "sequential": [
            [
             0,
             "#0d0887"
            ],
            [
             0.1111111111111111,
             "#46039f"
            ],
            [
             0.2222222222222222,
             "#7201a8"
            ],
            [
             0.3333333333333333,
             "#9c179e"
            ],
            [
             0.4444444444444444,
             "#bd3786"
            ],
            [
             0.5555555555555556,
             "#d8576b"
            ],
            [
             0.6666666666666666,
             "#ed7953"
            ],
            [
             0.7777777777777778,
             "#fb9f3a"
            ],
            [
             0.8888888888888888,
             "#fdca26"
            ],
            [
             1,
             "#f0f921"
            ]
           ],
           "sequentialminus": [
            [
             0,
             "#0d0887"
            ],
            [
             0.1111111111111111,
             "#46039f"
            ],
            [
             0.2222222222222222,
             "#7201a8"
            ],
            [
             0.3333333333333333,
             "#9c179e"
            ],
            [
             0.4444444444444444,
             "#bd3786"
            ],
            [
             0.5555555555555556,
             "#d8576b"
            ],
            [
             0.6666666666666666,
             "#ed7953"
            ],
            [
             0.7777777777777778,
             "#fb9f3a"
            ],
            [
             0.8888888888888888,
             "#fdca26"
            ],
            [
             1,
             "#f0f921"
            ]
           ]
          },
          "colorway": [
           "#636efa",
           "#EF553B",
           "#00cc96",
           "#ab63fa",
           "#FFA15A",
           "#19d3f3",
           "#FF6692",
           "#B6E880",
           "#FF97FF",
           "#FECB52"
          ],
          "font": {
           "color": "#2a3f5f"
          },
          "geo": {
           "bgcolor": "white",
           "lakecolor": "white",
           "landcolor": "#E5ECF6",
           "showlakes": true,
           "showland": true,
           "subunitcolor": "white"
          },
          "hoverlabel": {
           "align": "left"
          },
          "hovermode": "closest",
          "mapbox": {
           "style": "light"
          },
          "paper_bgcolor": "white",
          "plot_bgcolor": "#E5ECF6",
          "polar": {
           "angularaxis": {
            "gridcolor": "white",
            "linecolor": "white",
            "ticks": ""
           },
           "bgcolor": "#E5ECF6",
           "radialaxis": {
            "gridcolor": "white",
            "linecolor": "white",
            "ticks": ""
           }
          },
          "scene": {
           "xaxis": {
            "backgroundcolor": "#E5ECF6",
            "gridcolor": "white",
            "gridwidth": 2,
            "linecolor": "white",
            "showbackground": true,
            "ticks": "",
            "zerolinecolor": "white"
           },
           "yaxis": {
            "backgroundcolor": "#E5ECF6",
            "gridcolor": "white",
            "gridwidth": 2,
            "linecolor": "white",
            "showbackground": true,
            "ticks": "",
            "zerolinecolor": "white"
           },
           "zaxis": {
            "backgroundcolor": "#E5ECF6",
            "gridcolor": "white",
            "gridwidth": 2,
            "linecolor": "white",
            "showbackground": true,
            "ticks": "",
            "zerolinecolor": "white"
           }
          },
          "shapedefaults": {
           "line": {
            "color": "#2a3f5f"
           }
          },
          "ternary": {
           "aaxis": {
            "gridcolor": "white",
            "linecolor": "white",
            "ticks": ""
           },
           "baxis": {
            "gridcolor": "white",
            "linecolor": "white",
            "ticks": ""
           },
           "bgcolor": "#E5ECF6",
           "caxis": {
            "gridcolor": "white",
            "linecolor": "white",
            "ticks": ""
           }
          },
          "title": {
           "x": 0.05
          },
          "xaxis": {
           "automargin": true,
           "gridcolor": "white",
           "linecolor": "white",
           "ticks": "",
           "title": {
            "standoff": 15
           },
           "zerolinecolor": "white",
           "zerolinewidth": 2
          },
          "yaxis": {
           "automargin": true,
           "gridcolor": "white",
           "linecolor": "white",
           "ticks": "",
           "title": {
            "standoff": 15
           },
           "zerolinecolor": "white",
           "zerolinewidth": 2
          }
         }
        },
        "title": {
         "font": {
          "color": "#4D5663"
         }
        },
        "xaxis": {
         "gridcolor": "#E1E5ED",
         "showgrid": true,
         "tickfont": {
          "color": "#4D5663"
         },
         "title": {
          "font": {
           "color": "#4D5663"
          },
          "text": ""
         },
         "zerolinecolor": "#E1E5ED"
        },
        "yaxis": {
         "gridcolor": "#E1E5ED",
         "showgrid": true,
         "tickfont": {
          "color": "#4D5663"
         },
         "title": {
          "font": {
           "color": "#4D5663"
          },
          "text": ""
         },
         "zerolinecolor": "#E1E5ED"
        }
       }
      },
      "text/html": [
       "<div>\n",
       "        \n",
       "        \n",
       "            <div id=\"0c5d2061-afeb-4210-8c8f-0fb8ba9dd3d7\" class=\"plotly-graph-div\" style=\"height:525px; width:100%;\"></div>\n",
       "            <script type=\"text/javascript\">\n",
       "                require([\"plotly\"], function(Plotly) {\n",
       "                    window.PLOTLYENV=window.PLOTLYENV || {};\n",
       "                    window.PLOTLYENV.BASE_URL='https://plot.ly';\n",
       "                    \n",
       "                if (document.getElementById(\"0c5d2061-afeb-4210-8c8f-0fb8ba9dd3d7\")) {\n",
       "                    Plotly.newPlot(\n",
       "                        '0c5d2061-afeb-4210-8c8f-0fb8ba9dd3d7',\n",
       "                        [{\"histfunc\": \"count\", \"histnorm\": \"\", \"marker\": {\"color\": \"rgba(255, 153, 51, 1.0)\", \"line\": {\"color\": \"#4D5663\", \"width\": 1.3}}, \"name\": \"A\", \"nbinsx\": 50, \"opacity\": 0.8, \"orientation\": \"v\", \"type\": \"histogram\", \"x\": [-1.228210303840886, 0.673718637442548, -0.6359991664128826, -0.23262448905478936, -0.4652684818242084, 0.09112090769390506, 1.1202307162460101, -0.913002197072858, -1.7866033041530176, -1.1819664154244243, -2.2518992211992668, 1.6419723454475943, -0.5049024421225882, -0.8316433290825647, -1.9026947938151906, 0.9529643236956478, 0.8424279826802521, 0.6496949082875334, -1.2710369557178685, 0.6744304243539521, 0.27031806004342473, -0.6151995848966308, 1.286999400136683, 2.754225637025308, -0.8685563696172357, -0.37270596578089227, 0.21656933195695277, 0.3299593481685292, -0.38976956152955244, 0.7899141331885607, -0.15232135255386411, -0.3278732576519635, -0.1714780618959102, 0.24585193839195518, -0.520103537564345, 0.9423867963175877, 0.6998506662177038, 2.9565000032387485, -0.16771290225752722, -0.8565644599372393, 1.9093025443891725, -0.6065596660356215, 1.5561398386580072, -1.6604273958353217, 0.29570532237337854, -0.30655930240007645, 0.5629765465472392, -1.1157754639387614, -0.22955196345192624, -2.0050583424582227, 0.11713750696332578, 2.8267139655873303, 0.46332154157231764, 0.8913848873219073, -0.27625761399056287, 0.17061072015134288, 0.01247361244100639, -1.1868120197940502, -0.1768842533262507, 0.3980979509622024, 1.7637268334097294, 0.9632004046301621, -0.174102504451404, -1.02063042523494, 1.678577707560514, 2.061538374722697, -0.01891713764992838, -0.34503079589422914, -0.8918084865031932, -0.7260269927380488, 0.49049384129362483, -1.7200742116968653, -0.7129415168181875, -0.44188757928112904, 3.5061225729394834, -0.48365529838350285, 0.09783218038002926, 1.4577512305513558, 0.036503672104812285, 1.6157315712246738, 0.34311746110657376, 0.531373414113734, -0.7186086927412191, 1.956762618943234, -0.06307785143259939, 0.18422454988996845, -0.8828271943787102, -0.7819307241118907, -0.4712984396735526, 0.8208067834200556, -0.9535656763785126, 0.6172811281139772, 0.38806297663784844, 0.21969028658437853, 0.5142512913421163, 0.3040997986323465, 0.28940893588859046, 0.39912893114064507, 0.8522015383297381, 0.766249213069548]}],\n",
       "                        {\"barmode\": \"overlay\", \"legend\": {\"bgcolor\": \"#F5F6F9\", \"font\": {\"color\": \"#4D5663\"}}, \"paper_bgcolor\": \"#F5F6F9\", \"plot_bgcolor\": \"#F5F6F9\", \"template\": {\"data\": {\"bar\": [{\"error_x\": {\"color\": \"#2a3f5f\"}, \"error_y\": {\"color\": \"#2a3f5f\"}, \"marker\": {\"line\": {\"color\": \"#E5ECF6\", \"width\": 0.5}}, \"type\": \"bar\"}], \"barpolar\": [{\"marker\": {\"line\": {\"color\": \"#E5ECF6\", \"width\": 0.5}}, \"type\": \"barpolar\"}], \"carpet\": [{\"aaxis\": {\"endlinecolor\": \"#2a3f5f\", \"gridcolor\": \"white\", \"linecolor\": \"white\", \"minorgridcolor\": \"white\", \"startlinecolor\": \"#2a3f5f\"}, \"baxis\": {\"endlinecolor\": \"#2a3f5f\", \"gridcolor\": \"white\", \"linecolor\": \"white\", \"minorgridcolor\": \"white\", \"startlinecolor\": \"#2a3f5f\"}, \"type\": \"carpet\"}], \"choropleth\": [{\"colorbar\": {\"outlinewidth\": 0, \"ticks\": \"\"}, \"type\": \"choropleth\"}], \"contour\": [{\"colorbar\": {\"outlinewidth\": 0, \"ticks\": \"\"}, \"colorscale\": [[0.0, \"#0d0887\"], [0.1111111111111111, \"#46039f\"], [0.2222222222222222, \"#7201a8\"], [0.3333333333333333, \"#9c179e\"], [0.4444444444444444, \"#bd3786\"], [0.5555555555555556, \"#d8576b\"], [0.6666666666666666, \"#ed7953\"], [0.7777777777777778, \"#fb9f3a\"], [0.8888888888888888, \"#fdca26\"], [1.0, \"#f0f921\"]], \"type\": \"contour\"}], \"contourcarpet\": [{\"colorbar\": {\"outlinewidth\": 0, \"ticks\": \"\"}, \"type\": \"contourcarpet\"}], \"heatmap\": [{\"colorbar\": {\"outlinewidth\": 0, \"ticks\": \"\"}, \"colorscale\": [[0.0, \"#0d0887\"], [0.1111111111111111, \"#46039f\"], [0.2222222222222222, \"#7201a8\"], [0.3333333333333333, \"#9c179e\"], [0.4444444444444444, \"#bd3786\"], [0.5555555555555556, \"#d8576b\"], [0.6666666666666666, \"#ed7953\"], [0.7777777777777778, \"#fb9f3a\"], [0.8888888888888888, \"#fdca26\"], [1.0, \"#f0f921\"]], \"type\": \"heatmap\"}], \"heatmapgl\": [{\"colorbar\": {\"outlinewidth\": 0, \"ticks\": \"\"}, \"colorscale\": [[0.0, \"#0d0887\"], [0.1111111111111111, \"#46039f\"], [0.2222222222222222, \"#7201a8\"], [0.3333333333333333, \"#9c179e\"], [0.4444444444444444, \"#bd3786\"], [0.5555555555555556, \"#d8576b\"], [0.6666666666666666, \"#ed7953\"], [0.7777777777777778, \"#fb9f3a\"], [0.8888888888888888, \"#fdca26\"], [1.0, \"#f0f921\"]], \"type\": \"heatmapgl\"}], \"histogram\": [{\"marker\": {\"colorbar\": {\"outlinewidth\": 0, \"ticks\": \"\"}}, \"type\": \"histogram\"}], \"histogram2d\": [{\"colorbar\": {\"outlinewidth\": 0, \"ticks\": \"\"}, \"colorscale\": [[0.0, \"#0d0887\"], [0.1111111111111111, \"#46039f\"], [0.2222222222222222, \"#7201a8\"], [0.3333333333333333, \"#9c179e\"], [0.4444444444444444, \"#bd3786\"], [0.5555555555555556, \"#d8576b\"], [0.6666666666666666, \"#ed7953\"], [0.7777777777777778, \"#fb9f3a\"], [0.8888888888888888, \"#fdca26\"], [1.0, \"#f0f921\"]], \"type\": \"histogram2d\"}], \"histogram2dcontour\": [{\"colorbar\": {\"outlinewidth\": 0, \"ticks\": \"\"}, \"colorscale\": [[0.0, \"#0d0887\"], [0.1111111111111111, \"#46039f\"], [0.2222222222222222, \"#7201a8\"], [0.3333333333333333, \"#9c179e\"], [0.4444444444444444, \"#bd3786\"], [0.5555555555555556, \"#d8576b\"], [0.6666666666666666, \"#ed7953\"], [0.7777777777777778, \"#fb9f3a\"], [0.8888888888888888, \"#fdca26\"], [1.0, \"#f0f921\"]], \"type\": \"histogram2dcontour\"}], \"mesh3d\": [{\"colorbar\": {\"outlinewidth\": 0, \"ticks\": \"\"}, \"type\": \"mesh3d\"}], \"parcoords\": [{\"line\": {\"colorbar\": {\"outlinewidth\": 0, \"ticks\": \"\"}}, \"type\": \"parcoords\"}], \"pie\": [{\"automargin\": true, \"type\": \"pie\"}], \"scatter\": [{\"marker\": {\"colorbar\": {\"outlinewidth\": 0, \"ticks\": \"\"}}, \"type\": \"scatter\"}], \"scatter3d\": [{\"line\": {\"colorbar\": {\"outlinewidth\": 0, \"ticks\": \"\"}}, \"marker\": {\"colorbar\": {\"outlinewidth\": 0, \"ticks\": \"\"}}, \"type\": \"scatter3d\"}], \"scattercarpet\": [{\"marker\": {\"colorbar\": {\"outlinewidth\": 0, \"ticks\": \"\"}}, \"type\": \"scattercarpet\"}], \"scattergeo\": [{\"marker\": {\"colorbar\": {\"outlinewidth\": 0, \"ticks\": \"\"}}, \"type\": \"scattergeo\"}], \"scattergl\": [{\"marker\": {\"colorbar\": {\"outlinewidth\": 0, \"ticks\": \"\"}}, \"type\": \"scattergl\"}], \"scattermapbox\": [{\"marker\": {\"colorbar\": {\"outlinewidth\": 0, \"ticks\": \"\"}}, \"type\": \"scattermapbox\"}], \"scatterpolar\": [{\"marker\": {\"colorbar\": {\"outlinewidth\": 0, \"ticks\": \"\"}}, \"type\": \"scatterpolar\"}], \"scatterpolargl\": [{\"marker\": {\"colorbar\": {\"outlinewidth\": 0, \"ticks\": \"\"}}, \"type\": \"scatterpolargl\"}], \"scatterternary\": [{\"marker\": {\"colorbar\": {\"outlinewidth\": 0, \"ticks\": \"\"}}, \"type\": \"scatterternary\"}], \"surface\": [{\"colorbar\": {\"outlinewidth\": 0, \"ticks\": \"\"}, \"colorscale\": [[0.0, \"#0d0887\"], [0.1111111111111111, \"#46039f\"], [0.2222222222222222, \"#7201a8\"], [0.3333333333333333, \"#9c179e\"], [0.4444444444444444, \"#bd3786\"], [0.5555555555555556, \"#d8576b\"], [0.6666666666666666, \"#ed7953\"], [0.7777777777777778, \"#fb9f3a\"], [0.8888888888888888, \"#fdca26\"], [1.0, \"#f0f921\"]], \"type\": \"surface\"}], \"table\": [{\"cells\": {\"fill\": {\"color\": \"#EBF0F8\"}, \"line\": {\"color\": \"white\"}}, \"header\": {\"fill\": {\"color\": \"#C8D4E3\"}, \"line\": {\"color\": \"white\"}}, \"type\": \"table\"}]}, \"layout\": {\"annotationdefaults\": {\"arrowcolor\": \"#2a3f5f\", \"arrowhead\": 0, \"arrowwidth\": 1}, \"coloraxis\": {\"colorbar\": {\"outlinewidth\": 0, \"ticks\": \"\"}}, \"colorscale\": {\"diverging\": [[0, \"#8e0152\"], [0.1, \"#c51b7d\"], [0.2, \"#de77ae\"], [0.3, \"#f1b6da\"], [0.4, \"#fde0ef\"], [0.5, \"#f7f7f7\"], [0.6, \"#e6f5d0\"], [0.7, \"#b8e186\"], [0.8, \"#7fbc41\"], [0.9, \"#4d9221\"], [1, \"#276419\"]], \"sequential\": [[0.0, \"#0d0887\"], [0.1111111111111111, \"#46039f\"], [0.2222222222222222, \"#7201a8\"], [0.3333333333333333, \"#9c179e\"], [0.4444444444444444, \"#bd3786\"], [0.5555555555555556, \"#d8576b\"], [0.6666666666666666, \"#ed7953\"], [0.7777777777777778, \"#fb9f3a\"], [0.8888888888888888, \"#fdca26\"], [1.0, \"#f0f921\"]], \"sequentialminus\": [[0.0, \"#0d0887\"], [0.1111111111111111, \"#46039f\"], [0.2222222222222222, \"#7201a8\"], [0.3333333333333333, \"#9c179e\"], [0.4444444444444444, \"#bd3786\"], [0.5555555555555556, \"#d8576b\"], [0.6666666666666666, \"#ed7953\"], [0.7777777777777778, \"#fb9f3a\"], [0.8888888888888888, \"#fdca26\"], [1.0, \"#f0f921\"]]}, \"colorway\": [\"#636efa\", \"#EF553B\", \"#00cc96\", \"#ab63fa\", \"#FFA15A\", \"#19d3f3\", \"#FF6692\", \"#B6E880\", \"#FF97FF\", \"#FECB52\"], \"font\": {\"color\": \"#2a3f5f\"}, \"geo\": {\"bgcolor\": \"white\", \"lakecolor\": \"white\", \"landcolor\": \"#E5ECF6\", \"showlakes\": true, \"showland\": true, \"subunitcolor\": \"white\"}, \"hoverlabel\": {\"align\": \"left\"}, \"hovermode\": \"closest\", \"mapbox\": {\"style\": \"light\"}, \"paper_bgcolor\": \"white\", \"plot_bgcolor\": \"#E5ECF6\", \"polar\": {\"angularaxis\": {\"gridcolor\": \"white\", \"linecolor\": \"white\", \"ticks\": \"\"}, \"bgcolor\": \"#E5ECF6\", \"radialaxis\": {\"gridcolor\": \"white\", \"linecolor\": \"white\", \"ticks\": \"\"}}, \"scene\": {\"xaxis\": {\"backgroundcolor\": \"#E5ECF6\", \"gridcolor\": \"white\", \"gridwidth\": 2, \"linecolor\": \"white\", \"showbackground\": true, \"ticks\": \"\", \"zerolinecolor\": \"white\"}, \"yaxis\": {\"backgroundcolor\": \"#E5ECF6\", \"gridcolor\": \"white\", \"gridwidth\": 2, \"linecolor\": \"white\", \"showbackground\": true, \"ticks\": \"\", \"zerolinecolor\": \"white\"}, \"zaxis\": {\"backgroundcolor\": \"#E5ECF6\", \"gridcolor\": \"white\", \"gridwidth\": 2, \"linecolor\": \"white\", \"showbackground\": true, \"ticks\": \"\", \"zerolinecolor\": \"white\"}}, \"shapedefaults\": {\"line\": {\"color\": \"#2a3f5f\"}}, \"ternary\": {\"aaxis\": {\"gridcolor\": \"white\", \"linecolor\": \"white\", \"ticks\": \"\"}, \"baxis\": {\"gridcolor\": \"white\", \"linecolor\": \"white\", \"ticks\": \"\"}, \"bgcolor\": \"#E5ECF6\", \"caxis\": {\"gridcolor\": \"white\", \"linecolor\": \"white\", \"ticks\": \"\"}}, \"title\": {\"x\": 0.05}, \"xaxis\": {\"automargin\": true, \"gridcolor\": \"white\", \"linecolor\": \"white\", \"ticks\": \"\", \"title\": {\"standoff\": 15}, \"zerolinecolor\": \"white\", \"zerolinewidth\": 2}, \"yaxis\": {\"automargin\": true, \"gridcolor\": \"white\", \"linecolor\": \"white\", \"ticks\": \"\", \"title\": {\"standoff\": 15}, \"zerolinecolor\": \"white\", \"zerolinewidth\": 2}}}, \"title\": {\"font\": {\"color\": \"#4D5663\"}}, \"xaxis\": {\"gridcolor\": \"#E1E5ED\", \"showgrid\": true, \"tickfont\": {\"color\": \"#4D5663\"}, \"title\": {\"font\": {\"color\": \"#4D5663\"}, \"text\": \"\"}, \"zerolinecolor\": \"#E1E5ED\"}, \"yaxis\": {\"gridcolor\": \"#E1E5ED\", \"showgrid\": true, \"tickfont\": {\"color\": \"#4D5663\"}, \"title\": {\"font\": {\"color\": \"#4D5663\"}, \"text\": \"\"}, \"zerolinecolor\": \"#E1E5ED\"}},\n",
       "                        {\"showLink\": true, \"linkText\": \"Export to plot.ly\", \"plotlyServerURL\": \"https://plot.ly\", \"responsive\": true}\n",
       "                    ).then(function(){\n",
       "                            \n",
       "var gd = document.getElementById('0c5d2061-afeb-4210-8c8f-0fb8ba9dd3d7');\n",
       "var x = new MutationObserver(function (mutations, observer) {{\n",
       "        var display = window.getComputedStyle(gd).display;\n",
       "        if (!display || display === 'none') {{\n",
       "            console.log([gd, 'removed!']);\n",
       "            Plotly.purge(gd);\n",
       "            observer.disconnect();\n",
       "        }}\n",
       "}});\n",
       "\n",
       "// Listen for the removal of the full notebook cells\n",
       "var notebookContainer = gd.closest('#notebook-container');\n",
       "if (notebookContainer) {{\n",
       "    x.observe(notebookContainer, {childList: true});\n",
       "}}\n",
       "\n",
       "// Listen for the clearing of the current output cell\n",
       "var outputEl = gd.closest('.output');\n",
       "if (outputEl) {{\n",
       "    x.observe(outputEl, {childList: true});\n",
       "}}\n",
       "\n",
       "                        })\n",
       "                };\n",
       "                });\n",
       "            </script>\n",
       "        </div>"
      ]
     },
     "metadata": {},
     "output_type": "display_data"
    }
   ],
   "source": [
    "# PLOTLY - HISTOGRAM - A\n",
    "df['A'].iplot(kind='hist',bins=50)"
   ]
  },
  {
   "cell_type": "code",
   "execution_count": 60,
   "metadata": {},
   "outputs": [
    {
     "data": {
      "application/vnd.plotly.v1+json": {
       "config": {
        "linkText": "Export to plot.ly",
        "plotlyServerURL": "https://plot.ly",
        "showLink": true
       },
       "data": [
        {
         "histfunc": "count",
         "histnorm": "",
         "marker": {
          "color": "rgba(255, 153, 51, 1.0)",
          "line": {
           "color": "#4D5663",
           "width": 1.3
          }
         },
         "name": "A",
         "opacity": 0.8,
         "orientation": "v",
         "type": "histogram",
         "x": [
          -1.228210303840886,
          0.673718637442548,
          -0.6359991664128826,
          -0.23262448905478936,
          -0.4652684818242084,
          0.09112090769390506,
          1.1202307162460101,
          -0.913002197072858,
          -1.7866033041530176,
          -1.1819664154244243,
          -2.2518992211992668,
          1.6419723454475943,
          -0.5049024421225882,
          -0.8316433290825647,
          -1.9026947938151906,
          0.9529643236956478,
          0.8424279826802521,
          0.6496949082875334,
          -1.2710369557178685,
          0.6744304243539521,
          0.27031806004342473,
          -0.6151995848966308,
          1.286999400136683,
          2.754225637025308,
          -0.8685563696172357,
          -0.37270596578089227,
          0.21656933195695277,
          0.3299593481685292,
          -0.38976956152955244,
          0.7899141331885607,
          -0.15232135255386411,
          -0.3278732576519635,
          -0.1714780618959102,
          0.24585193839195518,
          -0.520103537564345,
          0.9423867963175877,
          0.6998506662177038,
          2.9565000032387485,
          -0.16771290225752722,
          -0.8565644599372393,
          1.9093025443891725,
          -0.6065596660356215,
          1.5561398386580072,
          -1.6604273958353217,
          0.29570532237337854,
          -0.30655930240007645,
          0.5629765465472392,
          -1.1157754639387614,
          -0.22955196345192624,
          -2.0050583424582227,
          0.11713750696332578,
          2.8267139655873303,
          0.46332154157231764,
          0.8913848873219073,
          -0.27625761399056287,
          0.17061072015134288,
          0.01247361244100639,
          -1.1868120197940502,
          -0.1768842533262507,
          0.3980979509622024,
          1.7637268334097294,
          0.9632004046301621,
          -0.174102504451404,
          -1.02063042523494,
          1.678577707560514,
          2.061538374722697,
          -0.01891713764992838,
          -0.34503079589422914,
          -0.8918084865031932,
          -0.7260269927380488,
          0.49049384129362483,
          -1.7200742116968653,
          -0.7129415168181875,
          -0.44188757928112904,
          3.5061225729394834,
          -0.48365529838350285,
          0.09783218038002926,
          1.4577512305513558,
          0.036503672104812285,
          1.6157315712246738,
          0.34311746110657376,
          0.531373414113734,
          -0.7186086927412191,
          1.956762618943234,
          -0.06307785143259939,
          0.18422454988996845,
          -0.8828271943787102,
          -0.7819307241118907,
          -0.4712984396735526,
          0.8208067834200556,
          -0.9535656763785126,
          0.6172811281139772,
          0.38806297663784844,
          0.21969028658437853,
          0.5142512913421163,
          0.3040997986323465,
          0.28940893588859046,
          0.39912893114064507,
          0.8522015383297381,
          0.766249213069548
         ]
        },
        {
         "histfunc": "count",
         "histnorm": "",
         "marker": {
          "color": "rgba(55, 128, 191, 1.0)",
          "line": {
           "color": "#4D5663",
           "width": 1.3
          }
         },
         "name": "B",
         "opacity": 0.8,
         "orientation": "v",
         "type": "histogram",
         "x": [
          -0.9410992898133941,
          0.7403709673795416,
          -0.3681996600834796,
          0.0991597200760194,
          -1.6825783826168605,
          -0.6208141494578543,
          -1.2271159557122688,
          -0.8033660807642069,
          0.8468097288813591,
          0.1722880167006293,
          -0.6637349467662795,
          -1.1017957408634886,
          0.78893110183799,
          0.5052234648355544,
          -0.5183463996216997,
          -0.13014575030713596,
          -2.1173663052566436,
          1.0340391919026775,
          0.4758016414816595,
          1.1751249928768135,
          -0.5777840131627777,
          0.35166835742458624,
          0.4250410076349158,
          0.12956422399669026,
          -0.40001911165167875,
          0.49433210165665,
          0.9238971005402511,
          -0.7022088325329872,
          -0.6250617284042304,
          0.823798227192268,
          0.6736158408541878,
          -0.3471483746325953,
          -1.3044961423954966,
          1.2676370274998308,
          -1.3142364799225965,
          2.650935361804906,
          0.9822129709541314,
          1.9357227006820465,
          0.3703095980993604,
          -0.5530894722283664,
          -1.0407802242731543,
          -0.24484815231948331,
          1.7030276075455875,
          0.4806778126836462,
          0.6063504773432427,
          0.19814079912786253,
          -0.28845578570720243,
          0.336187104999158,
          0.8742807414259941,
          -0.7787074869262802,
          0.5468775255294299,
          -0.723845204414693,
          0.008127763819823951,
          0.34186476255512704,
          0.2639769485027573,
          -1.8208409662925802,
          0.24074451187422571,
          0.5562452782986852,
          -0.5824077840268167,
          0.17050183300365282,
          0.42085884285977426,
          -0.8692661641636048,
          -0.9723993347465054,
          0.5395347413629555,
          -1.144824452521687,
          -1.5581534101688002,
          -1.6729339246680435,
          -2.2056076136021434,
          1.103355797338571,
          0.7678907038054802,
          -0.5151607726764834,
          -0.6475275993757056,
          -1.0082785648677384,
          1.5260113519881962,
          -0.0076054176697331385,
          -0.8379869596906585,
          -0.8532996052463981,
          0.520857662239727,
          -1.1507840593174075,
          0.13138500423423757,
          1.766428276090597,
          0.6509203417858905,
          1.290169264557484,
          0.461245786964094,
          0.381986938073141,
          0.7753138167975542,
          0.8672473904523145,
          0.18973725833913044,
          0.040801741645153794,
          -1.391900776067866,
          -0.6712369302438657,
          -0.04660937009967414,
          -1.1372146461701285,
          0.370270983375189,
          0.5796009309658001,
          -1.4386684202941982,
          -1.319559175894388,
          -0.5188624577046717,
          -1.050562091557685,
          1.988326116952474
         ]
        },
        {
         "histfunc": "count",
         "histnorm": "",
         "marker": {
          "color": "rgba(50, 171, 96, 1.0)",
          "line": {
           "color": "#4D5663",
           "width": 1.3
          }
         },
         "name": "C",
         "opacity": 0.8,
         "orientation": "v",
         "type": "histogram",
         "x": [
          0.1426936499011667,
          0.6743863824468715,
          -1.9159042047040724,
          0.12701611366523768,
          0.5636280465689022,
          0.2653262616821967,
          -0.5830900218537203,
          1.6268944121439155,
          0.032134459457989054,
          0.2837070672739637,
          -0.908341131234595,
          -0.2912868176976957,
          -0.5596115261134985,
          -0.6698547775985916,
          -0.06644066405389445,
          -0.5635975064256188,
          -0.03413687986916309,
          -0.19300147898416536,
          0.3872050642817624,
          -2.1165183184615546,
          -0.6976749316032758,
          1.5783006573276834,
          -1.0984317833839843,
          0.1935586317598326,
          -2.0414514060862277,
          0.8273165865437476,
          -0.5334902768575471,
          -0.6596195709663755,
          -0.549215782627158,
          -0.5465157483350779,
          -2.2291257904849964,
          -0.8924230840343537,
          0.5864182297589924,
          -0.8774228368518772,
          1.2637792405670139,
          -1.3408252236678477,
          -0.6005444176819201,
          0.6910209001315113,
          0.030946176835107673,
          0.8317294046592685,
          -0.24226793477545702,
          -1.0751195048330666,
          1.6790089121797258,
          0.5299931706931623,
          0.9065907842791338,
          -0.9544899579816438,
          1.2784401587767251,
          0.15403433605819544,
          0.611993290038772,
          -0.7559634279957641,
          0.08819990722390152,
          -1.056055039049362,
          2.0027716806468785,
          -1.9615720122189535,
          -0.17513402898714328,
          -0.4798872243484583,
          -2.4508266457656,
          -0.33884412615446186,
          -2.019978178352013,
          -0.7290974754166974,
          -1.347793986082597,
          2.1398770557429487,
          0.16040455572132187,
          0.06465038310874904,
          0.015294630368586389,
          -1.0890873934955765,
          1.4409058291864612,
          -1.371518717484521,
          1.3071811967033915,
          1.3904478393949753,
          -2.0037227249117553,
          0.11510825724336189,
          -0.29718611398512745,
          -0.5055331245752551,
          0.6448185869979838,
          0.1491150879202775,
          0.9985330501748927,
          1.0014419886266486,
          1.865102464507751,
          0.2286365636433252,
          -0.03550451414647598,
          -2.718717212523047,
          -0.9240701341744608,
          -0.2888760375290752,
          0.5207417218309627,
          1.1687872614974864,
          0.2565814315959523,
          -0.18066310467005145,
          0.06308409801663467,
          -0.7123126172355311,
          -1.0368383000789096,
          0.27498166815858444,
          -1.140923803902282,
          -1.525816700957253,
          0.21746655202661985,
          0.052356171907522044,
          -0.49939185897760346,
          0.13609632242732642,
          -0.28894964323218236,
          0.08729029057194035
         ]
        },
        {
         "histfunc": "count",
         "histnorm": "",
         "marker": {
          "color": "rgba(128, 0, 128, 1.0)",
          "line": {
           "color": "#4D5663",
           "width": 1.3
          }
         },
         "name": "D",
         "opacity": 0.8,
         "orientation": "v",
         "type": "histogram",
         "x": [
          0.6106487369671837,
          -0.5580959391359147,
          -0.40383476919477296,
          0.11125072387168945,
          1.914679797928206,
          -0.5794917293571655,
          0.2802186585460156,
          -0.48119536467688356,
          1.549222235085247,
          -0.761040886666783,
          -0.2042886730218136,
          -0.14071286229645755,
          -0.08572931138786967,
          -0.4342450052527491,
          0.8159473114893341,
          1.5181456675065004,
          -0.2591638049954156,
          1.4637550557367995,
          -0.8259681604858221,
          -0.878102167941134,
          -2.1062948243645536,
          -0.3254887503171195,
          -0.07034230093754808,
          -0.44464327812496063,
          1.961675856334788,
          0.24629335711581235,
          0.09799551611645173,
          0.19159035994880308,
          -1.0156074997556654,
          1.2806421125844174,
          0.1304788681345427,
          0.1206976944051949,
          -0.48836243352088493,
          2.802032607444495,
          0.9992093115241782,
          -0.7896734382539464,
          0.42162329356356454,
          0.014579143845804126,
          -0.4652716694577242,
          0.3454690258598138,
          0.6454479664922625,
          0.5927360716174458,
          -1.1091587246321357,
          -0.3763966436874311,
          -0.4723404843015961,
          1.6296431854939475,
          -1.2247809594359418,
          -0.9550425500787262,
          0.2789136570555125,
          -0.5729846821735802,
          -0.026253713718288375,
          0.725066652097282,
          0.6902230007349073,
          0.9811932312461932,
          1.9688012226230052,
          -0.13927462217851405,
          -0.5123803245556551,
          0.7056350323843916,
          -0.5720206839257674,
          -2.0999560084539954,
          0.28156143554830015,
          1.0747977797889474,
          -1.158658136514488,
          0.529537528312165,
          -0.11214529017336296,
          -0.4160977828350819,
          -1.0674672412849793,
          -0.2449859194432744,
          -0.6128110114858487,
          1.9448518050754133,
          -1.783138151347126,
          -0.6752860083341697,
          0.7022789401239837,
          -1.835524755070365,
          -0.313253458096198,
          -0.45099788556239573,
          -0.28857769772700764,
          -0.1892423501615623,
          -0.24688173949758832,
          0.13424524754480605,
          0.05797104701583112,
          0.09660484893958388,
          -1.3095879709172507,
          0.24754957486710374,
          1.9569210065511524,
          2.0954909828936454,
          2.2068872058371127,
          -1.8935847994034554,
          -1.9658707145920777,
          -1.0564378775196899,
          1.4874017864180422,
          0.17280821165585758,
          0.37644056131981074,
          0.2340871273662667,
          -1.0632261061039,
          0.5540872350959097,
          -1.007909624391688,
          0.6562083549945321,
          -0.08960169518516971,
          0.11316995519037891
         ]
        }
       ],
       "layout": {
        "barmode": "overlay",
        "legend": {
         "bgcolor": "#F5F6F9",
         "font": {
          "color": "#4D5663"
         }
        },
        "paper_bgcolor": "#F5F6F9",
        "plot_bgcolor": "#F5F6F9",
        "template": {
         "data": {
          "bar": [
           {
            "error_x": {
             "color": "#2a3f5f"
            },
            "error_y": {
             "color": "#2a3f5f"
            },
            "marker": {
             "line": {
              "color": "#E5ECF6",
              "width": 0.5
             }
            },
            "type": "bar"
           }
          ],
          "barpolar": [
           {
            "marker": {
             "line": {
              "color": "#E5ECF6",
              "width": 0.5
             }
            },
            "type": "barpolar"
           }
          ],
          "carpet": [
           {
            "aaxis": {
             "endlinecolor": "#2a3f5f",
             "gridcolor": "white",
             "linecolor": "white",
             "minorgridcolor": "white",
             "startlinecolor": "#2a3f5f"
            },
            "baxis": {
             "endlinecolor": "#2a3f5f",
             "gridcolor": "white",
             "linecolor": "white",
             "minorgridcolor": "white",
             "startlinecolor": "#2a3f5f"
            },
            "type": "carpet"
           }
          ],
          "choropleth": [
           {
            "colorbar": {
             "outlinewidth": 0,
             "ticks": ""
            },
            "type": "choropleth"
           }
          ],
          "contour": [
           {
            "colorbar": {
             "outlinewidth": 0,
             "ticks": ""
            },
            "colorscale": [
             [
              0,
              "#0d0887"
             ],
             [
              0.1111111111111111,
              "#46039f"
             ],
             [
              0.2222222222222222,
              "#7201a8"
             ],
             [
              0.3333333333333333,
              "#9c179e"
             ],
             [
              0.4444444444444444,
              "#bd3786"
             ],
             [
              0.5555555555555556,
              "#d8576b"
             ],
             [
              0.6666666666666666,
              "#ed7953"
             ],
             [
              0.7777777777777778,
              "#fb9f3a"
             ],
             [
              0.8888888888888888,
              "#fdca26"
             ],
             [
              1,
              "#f0f921"
             ]
            ],
            "type": "contour"
           }
          ],
          "contourcarpet": [
           {
            "colorbar": {
             "outlinewidth": 0,
             "ticks": ""
            },
            "type": "contourcarpet"
           }
          ],
          "heatmap": [
           {
            "colorbar": {
             "outlinewidth": 0,
             "ticks": ""
            },
            "colorscale": [
             [
              0,
              "#0d0887"
             ],
             [
              0.1111111111111111,
              "#46039f"
             ],
             [
              0.2222222222222222,
              "#7201a8"
             ],
             [
              0.3333333333333333,
              "#9c179e"
             ],
             [
              0.4444444444444444,
              "#bd3786"
             ],
             [
              0.5555555555555556,
              "#d8576b"
             ],
             [
              0.6666666666666666,
              "#ed7953"
             ],
             [
              0.7777777777777778,
              "#fb9f3a"
             ],
             [
              0.8888888888888888,
              "#fdca26"
             ],
             [
              1,
              "#f0f921"
             ]
            ],
            "type": "heatmap"
           }
          ],
          "heatmapgl": [
           {
            "colorbar": {
             "outlinewidth": 0,
             "ticks": ""
            },
            "colorscale": [
             [
              0,
              "#0d0887"
             ],
             [
              0.1111111111111111,
              "#46039f"
             ],
             [
              0.2222222222222222,
              "#7201a8"
             ],
             [
              0.3333333333333333,
              "#9c179e"
             ],
             [
              0.4444444444444444,
              "#bd3786"
             ],
             [
              0.5555555555555556,
              "#d8576b"
             ],
             [
              0.6666666666666666,
              "#ed7953"
             ],
             [
              0.7777777777777778,
              "#fb9f3a"
             ],
             [
              0.8888888888888888,
              "#fdca26"
             ],
             [
              1,
              "#f0f921"
             ]
            ],
            "type": "heatmapgl"
           }
          ],
          "histogram": [
           {
            "marker": {
             "colorbar": {
              "outlinewidth": 0,
              "ticks": ""
             }
            },
            "type": "histogram"
           }
          ],
          "histogram2d": [
           {
            "colorbar": {
             "outlinewidth": 0,
             "ticks": ""
            },
            "colorscale": [
             [
              0,
              "#0d0887"
             ],
             [
              0.1111111111111111,
              "#46039f"
             ],
             [
              0.2222222222222222,
              "#7201a8"
             ],
             [
              0.3333333333333333,
              "#9c179e"
             ],
             [
              0.4444444444444444,
              "#bd3786"
             ],
             [
              0.5555555555555556,
              "#d8576b"
             ],
             [
              0.6666666666666666,
              "#ed7953"
             ],
             [
              0.7777777777777778,
              "#fb9f3a"
             ],
             [
              0.8888888888888888,
              "#fdca26"
             ],
             [
              1,
              "#f0f921"
             ]
            ],
            "type": "histogram2d"
           }
          ],
          "histogram2dcontour": [
           {
            "colorbar": {
             "outlinewidth": 0,
             "ticks": ""
            },
            "colorscale": [
             [
              0,
              "#0d0887"
             ],
             [
              0.1111111111111111,
              "#46039f"
             ],
             [
              0.2222222222222222,
              "#7201a8"
             ],
             [
              0.3333333333333333,
              "#9c179e"
             ],
             [
              0.4444444444444444,
              "#bd3786"
             ],
             [
              0.5555555555555556,
              "#d8576b"
             ],
             [
              0.6666666666666666,
              "#ed7953"
             ],
             [
              0.7777777777777778,
              "#fb9f3a"
             ],
             [
              0.8888888888888888,
              "#fdca26"
             ],
             [
              1,
              "#f0f921"
             ]
            ],
            "type": "histogram2dcontour"
           }
          ],
          "mesh3d": [
           {
            "colorbar": {
             "outlinewidth": 0,
             "ticks": ""
            },
            "type": "mesh3d"
           }
          ],
          "parcoords": [
           {
            "line": {
             "colorbar": {
              "outlinewidth": 0,
              "ticks": ""
             }
            },
            "type": "parcoords"
           }
          ],
          "pie": [
           {
            "automargin": true,
            "type": "pie"
           }
          ],
          "scatter": [
           {
            "marker": {
             "colorbar": {
              "outlinewidth": 0,
              "ticks": ""
             }
            },
            "type": "scatter"
           }
          ],
          "scatter3d": [
           {
            "line": {
             "colorbar": {
              "outlinewidth": 0,
              "ticks": ""
             }
            },
            "marker": {
             "colorbar": {
              "outlinewidth": 0,
              "ticks": ""
             }
            },
            "type": "scatter3d"
           }
          ],
          "scattercarpet": [
           {
            "marker": {
             "colorbar": {
              "outlinewidth": 0,
              "ticks": ""
             }
            },
            "type": "scattercarpet"
           }
          ],
          "scattergeo": [
           {
            "marker": {
             "colorbar": {
              "outlinewidth": 0,
              "ticks": ""
             }
            },
            "type": "scattergeo"
           }
          ],
          "scattergl": [
           {
            "marker": {
             "colorbar": {
              "outlinewidth": 0,
              "ticks": ""
             }
            },
            "type": "scattergl"
           }
          ],
          "scattermapbox": [
           {
            "marker": {
             "colorbar": {
              "outlinewidth": 0,
              "ticks": ""
             }
            },
            "type": "scattermapbox"
           }
          ],
          "scatterpolar": [
           {
            "marker": {
             "colorbar": {
              "outlinewidth": 0,
              "ticks": ""
             }
            },
            "type": "scatterpolar"
           }
          ],
          "scatterpolargl": [
           {
            "marker": {
             "colorbar": {
              "outlinewidth": 0,
              "ticks": ""
             }
            },
            "type": "scatterpolargl"
           }
          ],
          "scatterternary": [
           {
            "marker": {
             "colorbar": {
              "outlinewidth": 0,
              "ticks": ""
             }
            },
            "type": "scatterternary"
           }
          ],
          "surface": [
           {
            "colorbar": {
             "outlinewidth": 0,
             "ticks": ""
            },
            "colorscale": [
             [
              0,
              "#0d0887"
             ],
             [
              0.1111111111111111,
              "#46039f"
             ],
             [
              0.2222222222222222,
              "#7201a8"
             ],
             [
              0.3333333333333333,
              "#9c179e"
             ],
             [
              0.4444444444444444,
              "#bd3786"
             ],
             [
              0.5555555555555556,
              "#d8576b"
             ],
             [
              0.6666666666666666,
              "#ed7953"
             ],
             [
              0.7777777777777778,
              "#fb9f3a"
             ],
             [
              0.8888888888888888,
              "#fdca26"
             ],
             [
              1,
              "#f0f921"
             ]
            ],
            "type": "surface"
           }
          ],
          "table": [
           {
            "cells": {
             "fill": {
              "color": "#EBF0F8"
             },
             "line": {
              "color": "white"
             }
            },
            "header": {
             "fill": {
              "color": "#C8D4E3"
             },
             "line": {
              "color": "white"
             }
            },
            "type": "table"
           }
          ]
         },
         "layout": {
          "annotationdefaults": {
           "arrowcolor": "#2a3f5f",
           "arrowhead": 0,
           "arrowwidth": 1
          },
          "coloraxis": {
           "colorbar": {
            "outlinewidth": 0,
            "ticks": ""
           }
          },
          "colorscale": {
           "diverging": [
            [
             0,
             "#8e0152"
            ],
            [
             0.1,
             "#c51b7d"
            ],
            [
             0.2,
             "#de77ae"
            ],
            [
             0.3,
             "#f1b6da"
            ],
            [
             0.4,
             "#fde0ef"
            ],
            [
             0.5,
             "#f7f7f7"
            ],
            [
             0.6,
             "#e6f5d0"
            ],
            [
             0.7,
             "#b8e186"
            ],
            [
             0.8,
             "#7fbc41"
            ],
            [
             0.9,
             "#4d9221"
            ],
            [
             1,
             "#276419"
            ]
           ],
           "sequential": [
            [
             0,
             "#0d0887"
            ],
            [
             0.1111111111111111,
             "#46039f"
            ],
            [
             0.2222222222222222,
             "#7201a8"
            ],
            [
             0.3333333333333333,
             "#9c179e"
            ],
            [
             0.4444444444444444,
             "#bd3786"
            ],
            [
             0.5555555555555556,
             "#d8576b"
            ],
            [
             0.6666666666666666,
             "#ed7953"
            ],
            [
             0.7777777777777778,
             "#fb9f3a"
            ],
            [
             0.8888888888888888,
             "#fdca26"
            ],
            [
             1,
             "#f0f921"
            ]
           ],
           "sequentialminus": [
            [
             0,
             "#0d0887"
            ],
            [
             0.1111111111111111,
             "#46039f"
            ],
            [
             0.2222222222222222,
             "#7201a8"
            ],
            [
             0.3333333333333333,
             "#9c179e"
            ],
            [
             0.4444444444444444,
             "#bd3786"
            ],
            [
             0.5555555555555556,
             "#d8576b"
            ],
            [
             0.6666666666666666,
             "#ed7953"
            ],
            [
             0.7777777777777778,
             "#fb9f3a"
            ],
            [
             0.8888888888888888,
             "#fdca26"
            ],
            [
             1,
             "#f0f921"
            ]
           ]
          },
          "colorway": [
           "#636efa",
           "#EF553B",
           "#00cc96",
           "#ab63fa",
           "#FFA15A",
           "#19d3f3",
           "#FF6692",
           "#B6E880",
           "#FF97FF",
           "#FECB52"
          ],
          "font": {
           "color": "#2a3f5f"
          },
          "geo": {
           "bgcolor": "white",
           "lakecolor": "white",
           "landcolor": "#E5ECF6",
           "showlakes": true,
           "showland": true,
           "subunitcolor": "white"
          },
          "hoverlabel": {
           "align": "left"
          },
          "hovermode": "closest",
          "mapbox": {
           "style": "light"
          },
          "paper_bgcolor": "white",
          "plot_bgcolor": "#E5ECF6",
          "polar": {
           "angularaxis": {
            "gridcolor": "white",
            "linecolor": "white",
            "ticks": ""
           },
           "bgcolor": "#E5ECF6",
           "radialaxis": {
            "gridcolor": "white",
            "linecolor": "white",
            "ticks": ""
           }
          },
          "scene": {
           "xaxis": {
            "backgroundcolor": "#E5ECF6",
            "gridcolor": "white",
            "gridwidth": 2,
            "linecolor": "white",
            "showbackground": true,
            "ticks": "",
            "zerolinecolor": "white"
           },
           "yaxis": {
            "backgroundcolor": "#E5ECF6",
            "gridcolor": "white",
            "gridwidth": 2,
            "linecolor": "white",
            "showbackground": true,
            "ticks": "",
            "zerolinecolor": "white"
           },
           "zaxis": {
            "backgroundcolor": "#E5ECF6",
            "gridcolor": "white",
            "gridwidth": 2,
            "linecolor": "white",
            "showbackground": true,
            "ticks": "",
            "zerolinecolor": "white"
           }
          },
          "shapedefaults": {
           "line": {
            "color": "#2a3f5f"
           }
          },
          "ternary": {
           "aaxis": {
            "gridcolor": "white",
            "linecolor": "white",
            "ticks": ""
           },
           "baxis": {
            "gridcolor": "white",
            "linecolor": "white",
            "ticks": ""
           },
           "bgcolor": "#E5ECF6",
           "caxis": {
            "gridcolor": "white",
            "linecolor": "white",
            "ticks": ""
           }
          },
          "title": {
           "x": 0.05
          },
          "xaxis": {
           "automargin": true,
           "gridcolor": "white",
           "linecolor": "white",
           "ticks": "",
           "title": {
            "standoff": 15
           },
           "zerolinecolor": "white",
           "zerolinewidth": 2
          },
          "yaxis": {
           "automargin": true,
           "gridcolor": "white",
           "linecolor": "white",
           "ticks": "",
           "title": {
            "standoff": 15
           },
           "zerolinecolor": "white",
           "zerolinewidth": 2
          }
         }
        },
        "title": {
         "font": {
          "color": "#4D5663"
         }
        },
        "xaxis": {
         "gridcolor": "#E1E5ED",
         "showgrid": true,
         "tickfont": {
          "color": "#4D5663"
         },
         "title": {
          "font": {
           "color": "#4D5663"
          },
          "text": ""
         },
         "zerolinecolor": "#E1E5ED"
        },
        "yaxis": {
         "gridcolor": "#E1E5ED",
         "showgrid": true,
         "tickfont": {
          "color": "#4D5663"
         },
         "title": {
          "font": {
           "color": "#4D5663"
          },
          "text": ""
         },
         "zerolinecolor": "#E1E5ED"
        }
       }
      },
      "text/html": [
       "<div>\n",
       "        \n",
       "        \n",
       "            <div id=\"fd79495e-5017-42c9-a6b2-5a912839b9b2\" class=\"plotly-graph-div\" style=\"height:525px; width:100%;\"></div>\n",
       "            <script type=\"text/javascript\">\n",
       "                require([\"plotly\"], function(Plotly) {\n",
       "                    window.PLOTLYENV=window.PLOTLYENV || {};\n",
       "                    window.PLOTLYENV.BASE_URL='https://plot.ly';\n",
       "                    \n",
       "                if (document.getElementById(\"fd79495e-5017-42c9-a6b2-5a912839b9b2\")) {\n",
       "                    Plotly.newPlot(\n",
       "                        'fd79495e-5017-42c9-a6b2-5a912839b9b2',\n",
       "                        [{\"histfunc\": \"count\", \"histnorm\": \"\", \"marker\": {\"color\": \"rgba(255, 153, 51, 1.0)\", \"line\": {\"color\": \"#4D5663\", \"width\": 1.3}}, \"name\": \"A\", \"opacity\": 0.8, \"orientation\": \"v\", \"type\": \"histogram\", \"x\": [-1.228210303840886, 0.673718637442548, -0.6359991664128826, -0.23262448905478936, -0.4652684818242084, 0.09112090769390506, 1.1202307162460101, -0.913002197072858, -1.7866033041530176, -1.1819664154244243, -2.2518992211992668, 1.6419723454475943, -0.5049024421225882, -0.8316433290825647, -1.9026947938151906, 0.9529643236956478, 0.8424279826802521, 0.6496949082875334, -1.2710369557178685, 0.6744304243539521, 0.27031806004342473, -0.6151995848966308, 1.286999400136683, 2.754225637025308, -0.8685563696172357, -0.37270596578089227, 0.21656933195695277, 0.3299593481685292, -0.38976956152955244, 0.7899141331885607, -0.15232135255386411, -0.3278732576519635, -0.1714780618959102, 0.24585193839195518, -0.520103537564345, 0.9423867963175877, 0.6998506662177038, 2.9565000032387485, -0.16771290225752722, -0.8565644599372393, 1.9093025443891725, -0.6065596660356215, 1.5561398386580072, -1.6604273958353217, 0.29570532237337854, -0.30655930240007645, 0.5629765465472392, -1.1157754639387614, -0.22955196345192624, -2.0050583424582227, 0.11713750696332578, 2.8267139655873303, 0.46332154157231764, 0.8913848873219073, -0.27625761399056287, 0.17061072015134288, 0.01247361244100639, -1.1868120197940502, -0.1768842533262507, 0.3980979509622024, 1.7637268334097294, 0.9632004046301621, -0.174102504451404, -1.02063042523494, 1.678577707560514, 2.061538374722697, -0.01891713764992838, -0.34503079589422914, -0.8918084865031932, -0.7260269927380488, 0.49049384129362483, -1.7200742116968653, -0.7129415168181875, -0.44188757928112904, 3.5061225729394834, -0.48365529838350285, 0.09783218038002926, 1.4577512305513558, 0.036503672104812285, 1.6157315712246738, 0.34311746110657376, 0.531373414113734, -0.7186086927412191, 1.956762618943234, -0.06307785143259939, 0.18422454988996845, -0.8828271943787102, -0.7819307241118907, -0.4712984396735526, 0.8208067834200556, -0.9535656763785126, 0.6172811281139772, 0.38806297663784844, 0.21969028658437853, 0.5142512913421163, 0.3040997986323465, 0.28940893588859046, 0.39912893114064507, 0.8522015383297381, 0.766249213069548]}, {\"histfunc\": \"count\", \"histnorm\": \"\", \"marker\": {\"color\": \"rgba(55, 128, 191, 1.0)\", \"line\": {\"color\": \"#4D5663\", \"width\": 1.3}}, \"name\": \"B\", \"opacity\": 0.8, \"orientation\": \"v\", \"type\": \"histogram\", \"x\": [-0.9410992898133941, 0.7403709673795416, -0.3681996600834796, 0.0991597200760194, -1.6825783826168605, -0.6208141494578543, -1.2271159557122688, -0.8033660807642069, 0.8468097288813591, 0.1722880167006293, -0.6637349467662795, -1.1017957408634886, 0.78893110183799, 0.5052234648355544, -0.5183463996216997, -0.13014575030713596, -2.1173663052566436, 1.0340391919026775, 0.4758016414816595, 1.1751249928768135, -0.5777840131627777, 0.35166835742458624, 0.4250410076349158, 0.12956422399669026, -0.40001911165167875, 0.49433210165665, 0.9238971005402511, -0.7022088325329872, -0.6250617284042304, 0.823798227192268, 0.6736158408541878, -0.3471483746325953, -1.3044961423954966, 1.2676370274998308, -1.3142364799225965, 2.650935361804906, 0.9822129709541314, 1.9357227006820465, 0.3703095980993604, -0.5530894722283664, -1.0407802242731543, -0.24484815231948331, 1.7030276075455875, 0.4806778126836462, 0.6063504773432427, 0.19814079912786253, -0.28845578570720243, 0.336187104999158, 0.8742807414259941, -0.7787074869262802, 0.5468775255294299, -0.723845204414693, 0.008127763819823951, 0.34186476255512704, 0.2639769485027573, -1.8208409662925802, 0.24074451187422571, 0.5562452782986852, -0.5824077840268167, 0.17050183300365282, 0.42085884285977426, -0.8692661641636048, -0.9723993347465054, 0.5395347413629555, -1.144824452521687, -1.5581534101688002, -1.6729339246680435, -2.2056076136021434, 1.103355797338571, 0.7678907038054802, -0.5151607726764834, -0.6475275993757056, -1.0082785648677384, 1.5260113519881962, -0.0076054176697331385, -0.8379869596906585, -0.8532996052463981, 0.520857662239727, -1.1507840593174075, 0.13138500423423757, 1.766428276090597, 0.6509203417858905, 1.290169264557484, 0.461245786964094, 0.381986938073141, 0.7753138167975542, 0.8672473904523145, 0.18973725833913044, 0.040801741645153794, -1.391900776067866, -0.6712369302438657, -0.04660937009967414, -1.1372146461701285, 0.370270983375189, 0.5796009309658001, -1.4386684202941982, -1.319559175894388, -0.5188624577046717, -1.050562091557685, 1.988326116952474]}, {\"histfunc\": \"count\", \"histnorm\": \"\", \"marker\": {\"color\": \"rgba(50, 171, 96, 1.0)\", \"line\": {\"color\": \"#4D5663\", \"width\": 1.3}}, \"name\": \"C\", \"opacity\": 0.8, \"orientation\": \"v\", \"type\": \"histogram\", \"x\": [0.1426936499011667, 0.6743863824468715, -1.9159042047040724, 0.12701611366523768, 0.5636280465689022, 0.2653262616821967, -0.5830900218537203, 1.6268944121439155, 0.032134459457989054, 0.2837070672739637, -0.908341131234595, -0.2912868176976957, -0.5596115261134985, -0.6698547775985916, -0.06644066405389445, -0.5635975064256188, -0.03413687986916309, -0.19300147898416536, 0.3872050642817624, -2.1165183184615546, -0.6976749316032758, 1.5783006573276834, -1.0984317833839843, 0.1935586317598326, -2.0414514060862277, 0.8273165865437476, -0.5334902768575471, -0.6596195709663755, -0.549215782627158, -0.5465157483350779, -2.2291257904849964, -0.8924230840343537, 0.5864182297589924, -0.8774228368518772, 1.2637792405670139, -1.3408252236678477, -0.6005444176819201, 0.6910209001315113, 0.030946176835107673, 0.8317294046592685, -0.24226793477545702, -1.0751195048330666, 1.6790089121797258, 0.5299931706931623, 0.9065907842791338, -0.9544899579816438, 1.2784401587767251, 0.15403433605819544, 0.611993290038772, -0.7559634279957641, 0.08819990722390152, -1.056055039049362, 2.0027716806468785, -1.9615720122189535, -0.17513402898714328, -0.4798872243484583, -2.4508266457656, -0.33884412615446186, -2.019978178352013, -0.7290974754166974, -1.347793986082597, 2.1398770557429487, 0.16040455572132187, 0.06465038310874904, 0.015294630368586389, -1.0890873934955765, 1.4409058291864612, -1.371518717484521, 1.3071811967033915, 1.3904478393949753, -2.0037227249117553, 0.11510825724336189, -0.29718611398512745, -0.5055331245752551, 0.6448185869979838, 0.1491150879202775, 0.9985330501748927, 1.0014419886266486, 1.865102464507751, 0.2286365636433252, -0.03550451414647598, -2.718717212523047, -0.9240701341744608, -0.2888760375290752, 0.5207417218309627, 1.1687872614974864, 0.2565814315959523, -0.18066310467005145, 0.06308409801663467, -0.7123126172355311, -1.0368383000789096, 0.27498166815858444, -1.140923803902282, -1.525816700957253, 0.21746655202661985, 0.052356171907522044, -0.49939185897760346, 0.13609632242732642, -0.28894964323218236, 0.08729029057194035]}, {\"histfunc\": \"count\", \"histnorm\": \"\", \"marker\": {\"color\": \"rgba(128, 0, 128, 1.0)\", \"line\": {\"color\": \"#4D5663\", \"width\": 1.3}}, \"name\": \"D\", \"opacity\": 0.8, \"orientation\": \"v\", \"type\": \"histogram\", \"x\": [0.6106487369671837, -0.5580959391359147, -0.40383476919477296, 0.11125072387168945, 1.914679797928206, -0.5794917293571655, 0.2802186585460156, -0.48119536467688356, 1.549222235085247, -0.761040886666783, -0.2042886730218136, -0.14071286229645755, -0.08572931138786967, -0.4342450052527491, 0.8159473114893341, 1.5181456675065004, -0.2591638049954156, 1.4637550557367995, -0.8259681604858221, -0.878102167941134, -2.1062948243645536, -0.3254887503171195, -0.07034230093754808, -0.44464327812496063, 1.961675856334788, 0.24629335711581235, 0.09799551611645173, 0.19159035994880308, -1.0156074997556654, 1.2806421125844174, 0.1304788681345427, 0.1206976944051949, -0.48836243352088493, 2.802032607444495, 0.9992093115241782, -0.7896734382539464, 0.42162329356356454, 0.014579143845804126, -0.4652716694577242, 0.3454690258598138, 0.6454479664922625, 0.5927360716174458, -1.1091587246321357, -0.3763966436874311, -0.4723404843015961, 1.6296431854939475, -1.2247809594359418, -0.9550425500787262, 0.2789136570555125, -0.5729846821735802, -0.026253713718288375, 0.725066652097282, 0.6902230007349073, 0.9811932312461932, 1.9688012226230052, -0.13927462217851405, -0.5123803245556551, 0.7056350323843916, -0.5720206839257674, -2.0999560084539954, 0.28156143554830015, 1.0747977797889474, -1.158658136514488, 0.529537528312165, -0.11214529017336296, -0.4160977828350819, -1.0674672412849793, -0.2449859194432744, -0.6128110114858487, 1.9448518050754133, -1.783138151347126, -0.6752860083341697, 0.7022789401239837, -1.835524755070365, -0.313253458096198, -0.45099788556239573, -0.28857769772700764, -0.1892423501615623, -0.24688173949758832, 0.13424524754480605, 0.05797104701583112, 0.09660484893958388, -1.3095879709172507, 0.24754957486710374, 1.9569210065511524, 2.0954909828936454, 2.2068872058371127, -1.8935847994034554, -1.9658707145920777, -1.0564378775196899, 1.4874017864180422, 0.17280821165585758, 0.37644056131981074, 0.2340871273662667, -1.0632261061039, 0.5540872350959097, -1.007909624391688, 0.6562083549945321, -0.08960169518516971, 0.11316995519037891]}],\n",
       "                        {\"barmode\": \"overlay\", \"legend\": {\"bgcolor\": \"#F5F6F9\", \"font\": {\"color\": \"#4D5663\"}}, \"paper_bgcolor\": \"#F5F6F9\", \"plot_bgcolor\": \"#F5F6F9\", \"template\": {\"data\": {\"bar\": [{\"error_x\": {\"color\": \"#2a3f5f\"}, \"error_y\": {\"color\": \"#2a3f5f\"}, \"marker\": {\"line\": {\"color\": \"#E5ECF6\", \"width\": 0.5}}, \"type\": \"bar\"}], \"barpolar\": [{\"marker\": {\"line\": {\"color\": \"#E5ECF6\", \"width\": 0.5}}, \"type\": \"barpolar\"}], \"carpet\": [{\"aaxis\": {\"endlinecolor\": \"#2a3f5f\", \"gridcolor\": \"white\", \"linecolor\": \"white\", \"minorgridcolor\": \"white\", \"startlinecolor\": \"#2a3f5f\"}, \"baxis\": {\"endlinecolor\": \"#2a3f5f\", \"gridcolor\": \"white\", \"linecolor\": \"white\", \"minorgridcolor\": \"white\", \"startlinecolor\": \"#2a3f5f\"}, \"type\": \"carpet\"}], \"choropleth\": [{\"colorbar\": {\"outlinewidth\": 0, \"ticks\": \"\"}, \"type\": \"choropleth\"}], \"contour\": [{\"colorbar\": {\"outlinewidth\": 0, \"ticks\": \"\"}, \"colorscale\": [[0.0, \"#0d0887\"], [0.1111111111111111, \"#46039f\"], [0.2222222222222222, \"#7201a8\"], [0.3333333333333333, \"#9c179e\"], [0.4444444444444444, \"#bd3786\"], [0.5555555555555556, \"#d8576b\"], [0.6666666666666666, \"#ed7953\"], [0.7777777777777778, \"#fb9f3a\"], [0.8888888888888888, \"#fdca26\"], [1.0, \"#f0f921\"]], \"type\": \"contour\"}], \"contourcarpet\": [{\"colorbar\": {\"outlinewidth\": 0, \"ticks\": \"\"}, \"type\": \"contourcarpet\"}], \"heatmap\": [{\"colorbar\": {\"outlinewidth\": 0, \"ticks\": \"\"}, \"colorscale\": [[0.0, \"#0d0887\"], [0.1111111111111111, \"#46039f\"], [0.2222222222222222, \"#7201a8\"], [0.3333333333333333, \"#9c179e\"], [0.4444444444444444, \"#bd3786\"], [0.5555555555555556, \"#d8576b\"], [0.6666666666666666, \"#ed7953\"], [0.7777777777777778, \"#fb9f3a\"], [0.8888888888888888, \"#fdca26\"], [1.0, \"#f0f921\"]], \"type\": \"heatmap\"}], \"heatmapgl\": [{\"colorbar\": {\"outlinewidth\": 0, \"ticks\": \"\"}, \"colorscale\": [[0.0, \"#0d0887\"], [0.1111111111111111, \"#46039f\"], [0.2222222222222222, \"#7201a8\"], [0.3333333333333333, \"#9c179e\"], [0.4444444444444444, \"#bd3786\"], [0.5555555555555556, \"#d8576b\"], [0.6666666666666666, \"#ed7953\"], [0.7777777777777778, \"#fb9f3a\"], [0.8888888888888888, \"#fdca26\"], [1.0, \"#f0f921\"]], \"type\": \"heatmapgl\"}], \"histogram\": [{\"marker\": {\"colorbar\": {\"outlinewidth\": 0, \"ticks\": \"\"}}, \"type\": \"histogram\"}], \"histogram2d\": [{\"colorbar\": {\"outlinewidth\": 0, \"ticks\": \"\"}, \"colorscale\": [[0.0, \"#0d0887\"], [0.1111111111111111, \"#46039f\"], [0.2222222222222222, \"#7201a8\"], [0.3333333333333333, \"#9c179e\"], [0.4444444444444444, \"#bd3786\"], [0.5555555555555556, \"#d8576b\"], [0.6666666666666666, \"#ed7953\"], [0.7777777777777778, \"#fb9f3a\"], [0.8888888888888888, \"#fdca26\"], [1.0, \"#f0f921\"]], \"type\": \"histogram2d\"}], \"histogram2dcontour\": [{\"colorbar\": {\"outlinewidth\": 0, \"ticks\": \"\"}, \"colorscale\": [[0.0, \"#0d0887\"], [0.1111111111111111, \"#46039f\"], [0.2222222222222222, \"#7201a8\"], [0.3333333333333333, \"#9c179e\"], [0.4444444444444444, \"#bd3786\"], [0.5555555555555556, \"#d8576b\"], [0.6666666666666666, \"#ed7953\"], [0.7777777777777778, \"#fb9f3a\"], [0.8888888888888888, \"#fdca26\"], [1.0, \"#f0f921\"]], \"type\": \"histogram2dcontour\"}], \"mesh3d\": [{\"colorbar\": {\"outlinewidth\": 0, \"ticks\": \"\"}, \"type\": \"mesh3d\"}], \"parcoords\": [{\"line\": {\"colorbar\": {\"outlinewidth\": 0, \"ticks\": \"\"}}, \"type\": \"parcoords\"}], \"pie\": [{\"automargin\": true, \"type\": \"pie\"}], \"scatter\": [{\"marker\": {\"colorbar\": {\"outlinewidth\": 0, \"ticks\": \"\"}}, \"type\": \"scatter\"}], \"scatter3d\": [{\"line\": {\"colorbar\": {\"outlinewidth\": 0, \"ticks\": \"\"}}, \"marker\": {\"colorbar\": {\"outlinewidth\": 0, \"ticks\": \"\"}}, \"type\": \"scatter3d\"}], \"scattercarpet\": [{\"marker\": {\"colorbar\": {\"outlinewidth\": 0, \"ticks\": \"\"}}, \"type\": \"scattercarpet\"}], \"scattergeo\": [{\"marker\": {\"colorbar\": {\"outlinewidth\": 0, \"ticks\": \"\"}}, \"type\": \"scattergeo\"}], \"scattergl\": [{\"marker\": {\"colorbar\": {\"outlinewidth\": 0, \"ticks\": \"\"}}, \"type\": \"scattergl\"}], \"scattermapbox\": [{\"marker\": {\"colorbar\": {\"outlinewidth\": 0, \"ticks\": \"\"}}, \"type\": \"scattermapbox\"}], \"scatterpolar\": [{\"marker\": {\"colorbar\": {\"outlinewidth\": 0, \"ticks\": \"\"}}, \"type\": \"scatterpolar\"}], \"scatterpolargl\": [{\"marker\": {\"colorbar\": {\"outlinewidth\": 0, \"ticks\": \"\"}}, \"type\": \"scatterpolargl\"}], \"scatterternary\": [{\"marker\": {\"colorbar\": {\"outlinewidth\": 0, \"ticks\": \"\"}}, \"type\": \"scatterternary\"}], \"surface\": [{\"colorbar\": {\"outlinewidth\": 0, \"ticks\": \"\"}, \"colorscale\": [[0.0, \"#0d0887\"], [0.1111111111111111, \"#46039f\"], [0.2222222222222222, \"#7201a8\"], [0.3333333333333333, \"#9c179e\"], [0.4444444444444444, \"#bd3786\"], [0.5555555555555556, \"#d8576b\"], [0.6666666666666666, \"#ed7953\"], [0.7777777777777778, \"#fb9f3a\"], [0.8888888888888888, \"#fdca26\"], [1.0, \"#f0f921\"]], \"type\": \"surface\"}], \"table\": [{\"cells\": {\"fill\": {\"color\": \"#EBF0F8\"}, \"line\": {\"color\": \"white\"}}, \"header\": {\"fill\": {\"color\": \"#C8D4E3\"}, \"line\": {\"color\": \"white\"}}, \"type\": \"table\"}]}, \"layout\": {\"annotationdefaults\": {\"arrowcolor\": \"#2a3f5f\", \"arrowhead\": 0, \"arrowwidth\": 1}, \"coloraxis\": {\"colorbar\": {\"outlinewidth\": 0, \"ticks\": \"\"}}, \"colorscale\": {\"diverging\": [[0, \"#8e0152\"], [0.1, \"#c51b7d\"], [0.2, \"#de77ae\"], [0.3, \"#f1b6da\"], [0.4, \"#fde0ef\"], [0.5, \"#f7f7f7\"], [0.6, \"#e6f5d0\"], [0.7, \"#b8e186\"], [0.8, \"#7fbc41\"], [0.9, \"#4d9221\"], [1, \"#276419\"]], \"sequential\": [[0.0, \"#0d0887\"], [0.1111111111111111, \"#46039f\"], [0.2222222222222222, \"#7201a8\"], [0.3333333333333333, \"#9c179e\"], [0.4444444444444444, \"#bd3786\"], [0.5555555555555556, \"#d8576b\"], [0.6666666666666666, \"#ed7953\"], [0.7777777777777778, \"#fb9f3a\"], [0.8888888888888888, \"#fdca26\"], [1.0, \"#f0f921\"]], \"sequentialminus\": [[0.0, \"#0d0887\"], [0.1111111111111111, \"#46039f\"], [0.2222222222222222, \"#7201a8\"], [0.3333333333333333, \"#9c179e\"], [0.4444444444444444, \"#bd3786\"], [0.5555555555555556, \"#d8576b\"], [0.6666666666666666, \"#ed7953\"], [0.7777777777777778, \"#fb9f3a\"], [0.8888888888888888, \"#fdca26\"], [1.0, \"#f0f921\"]]}, \"colorway\": [\"#636efa\", \"#EF553B\", \"#00cc96\", \"#ab63fa\", \"#FFA15A\", \"#19d3f3\", \"#FF6692\", \"#B6E880\", \"#FF97FF\", \"#FECB52\"], \"font\": {\"color\": \"#2a3f5f\"}, \"geo\": {\"bgcolor\": \"white\", \"lakecolor\": \"white\", \"landcolor\": \"#E5ECF6\", \"showlakes\": true, \"showland\": true, \"subunitcolor\": \"white\"}, \"hoverlabel\": {\"align\": \"left\"}, \"hovermode\": \"closest\", \"mapbox\": {\"style\": \"light\"}, \"paper_bgcolor\": \"white\", \"plot_bgcolor\": \"#E5ECF6\", \"polar\": {\"angularaxis\": {\"gridcolor\": \"white\", \"linecolor\": \"white\", \"ticks\": \"\"}, \"bgcolor\": \"#E5ECF6\", \"radialaxis\": {\"gridcolor\": \"white\", \"linecolor\": \"white\", \"ticks\": \"\"}}, \"scene\": {\"xaxis\": {\"backgroundcolor\": \"#E5ECF6\", \"gridcolor\": \"white\", \"gridwidth\": 2, \"linecolor\": \"white\", \"showbackground\": true, \"ticks\": \"\", \"zerolinecolor\": \"white\"}, \"yaxis\": {\"backgroundcolor\": \"#E5ECF6\", \"gridcolor\": \"white\", \"gridwidth\": 2, \"linecolor\": \"white\", \"showbackground\": true, \"ticks\": \"\", \"zerolinecolor\": \"white\"}, \"zaxis\": {\"backgroundcolor\": \"#E5ECF6\", \"gridcolor\": \"white\", \"gridwidth\": 2, \"linecolor\": \"white\", \"showbackground\": true, \"ticks\": \"\", \"zerolinecolor\": \"white\"}}, \"shapedefaults\": {\"line\": {\"color\": \"#2a3f5f\"}}, \"ternary\": {\"aaxis\": {\"gridcolor\": \"white\", \"linecolor\": \"white\", \"ticks\": \"\"}, \"baxis\": {\"gridcolor\": \"white\", \"linecolor\": \"white\", \"ticks\": \"\"}, \"bgcolor\": \"#E5ECF6\", \"caxis\": {\"gridcolor\": \"white\", \"linecolor\": \"white\", \"ticks\": \"\"}}, \"title\": {\"x\": 0.05}, \"xaxis\": {\"automargin\": true, \"gridcolor\": \"white\", \"linecolor\": \"white\", \"ticks\": \"\", \"title\": {\"standoff\": 15}, \"zerolinecolor\": \"white\", \"zerolinewidth\": 2}, \"yaxis\": {\"automargin\": true, \"gridcolor\": \"white\", \"linecolor\": \"white\", \"ticks\": \"\", \"title\": {\"standoff\": 15}, \"zerolinecolor\": \"white\", \"zerolinewidth\": 2}}}, \"title\": {\"font\": {\"color\": \"#4D5663\"}}, \"xaxis\": {\"gridcolor\": \"#E1E5ED\", \"showgrid\": true, \"tickfont\": {\"color\": \"#4D5663\"}, \"title\": {\"font\": {\"color\": \"#4D5663\"}, \"text\": \"\"}, \"zerolinecolor\": \"#E1E5ED\"}, \"yaxis\": {\"gridcolor\": \"#E1E5ED\", \"showgrid\": true, \"tickfont\": {\"color\": \"#4D5663\"}, \"title\": {\"font\": {\"color\": \"#4D5663\"}, \"text\": \"\"}, \"zerolinecolor\": \"#E1E5ED\"}},\n",
       "                        {\"showLink\": true, \"linkText\": \"Export to plot.ly\", \"plotlyServerURL\": \"https://plot.ly\", \"responsive\": true}\n",
       "                    ).then(function(){\n",
       "                            \n",
       "var gd = document.getElementById('fd79495e-5017-42c9-a6b2-5a912839b9b2');\n",
       "var x = new MutationObserver(function (mutations, observer) {{\n",
       "        var display = window.getComputedStyle(gd).display;\n",
       "        if (!display || display === 'none') {{\n",
       "            console.log([gd, 'removed!']);\n",
       "            Plotly.purge(gd);\n",
       "            observer.disconnect();\n",
       "        }}\n",
       "}});\n",
       "\n",
       "// Listen for the removal of the full notebook cells\n",
       "var notebookContainer = gd.closest('#notebook-container');\n",
       "if (notebookContainer) {{\n",
       "    x.observe(notebookContainer, {childList: true});\n",
       "}}\n",
       "\n",
       "// Listen for the clearing of the current output cell\n",
       "var outputEl = gd.closest('.output');\n",
       "if (outputEl) {{\n",
       "    x.observe(outputEl, {childList: true});\n",
       "}}\n",
       "\n",
       "                        })\n",
       "                };\n",
       "                });\n",
       "            </script>\n",
       "        </div>"
      ]
     },
     "metadata": {},
     "output_type": "display_data"
    }
   ],
   "source": [
    "# PLOTLY - HISTOGRAM - ENTIRE DF\n",
    "df.iplot(kind='hist')"
   ]
  },
  {
   "cell_type": "code",
   "execution_count": null,
   "metadata": {},
   "outputs": [],
   "source": []
  },
  {
   "cell_type": "code",
   "execution_count": 61,
   "metadata": {},
   "outputs": [
    {
     "data": {
      "application/vnd.plotly.v1+json": {
       "config": {
        "linkText": "Export to plot.ly",
        "plotlyServerURL": "https://plot.ly",
        "showLink": true
       },
       "data": [
        {
         "line": {
          "color": "rgba(255, 153, 51, 1.0)",
          "dash": "solid",
          "shape": "linear",
          "width": 1.3
         },
         "mode": "lines",
         "name": "A",
         "text": "",
         "type": "scatter",
         "x": [
          0,
          1,
          2,
          3,
          4,
          5,
          6,
          7,
          8,
          9,
          10,
          11,
          12,
          13,
          14,
          15,
          16,
          17,
          18,
          19,
          20,
          21,
          22,
          23,
          24,
          25,
          26,
          27,
          28,
          29,
          30,
          31,
          32,
          33,
          34,
          35,
          36,
          37,
          38,
          39,
          40,
          41,
          42,
          43,
          44,
          45,
          46,
          47,
          48,
          49,
          50,
          51,
          52,
          53,
          54,
          55,
          56,
          57,
          58,
          59,
          60,
          61,
          62,
          63,
          64,
          65,
          66,
          67,
          68,
          69,
          70,
          71,
          72,
          73,
          74,
          75,
          76,
          77,
          78,
          79,
          80,
          81,
          82,
          83,
          84,
          85,
          86,
          87,
          88,
          89,
          90,
          91,
          92,
          93,
          94,
          95,
          96,
          97,
          98,
          99
         ],
         "y": [
          -1.228210303840886,
          0.673718637442548,
          -0.6359991664128826,
          -0.23262448905478936,
          -0.4652684818242084,
          0.09112090769390506,
          1.1202307162460101,
          -0.913002197072858,
          -1.7866033041530176,
          -1.1819664154244243,
          -2.2518992211992668,
          1.6419723454475943,
          -0.5049024421225882,
          -0.8316433290825647,
          -1.9026947938151906,
          0.9529643236956478,
          0.8424279826802521,
          0.6496949082875334,
          -1.2710369557178685,
          0.6744304243539521,
          0.27031806004342473,
          -0.6151995848966308,
          1.286999400136683,
          2.754225637025308,
          -0.8685563696172357,
          -0.37270596578089227,
          0.21656933195695277,
          0.3299593481685292,
          -0.38976956152955244,
          0.7899141331885607,
          -0.15232135255386411,
          -0.3278732576519635,
          -0.1714780618959102,
          0.24585193839195518,
          -0.520103537564345,
          0.9423867963175877,
          0.6998506662177038,
          2.9565000032387485,
          -0.16771290225752722,
          -0.8565644599372393,
          1.9093025443891725,
          -0.6065596660356215,
          1.5561398386580072,
          -1.6604273958353217,
          0.29570532237337854,
          -0.30655930240007645,
          0.5629765465472392,
          -1.1157754639387614,
          -0.22955196345192624,
          -2.0050583424582227,
          0.11713750696332578,
          2.8267139655873303,
          0.46332154157231764,
          0.8913848873219073,
          -0.27625761399056287,
          0.17061072015134288,
          0.01247361244100639,
          -1.1868120197940502,
          -0.1768842533262507,
          0.3980979509622024,
          1.7637268334097294,
          0.9632004046301621,
          -0.174102504451404,
          -1.02063042523494,
          1.678577707560514,
          2.061538374722697,
          -0.01891713764992838,
          -0.34503079589422914,
          -0.8918084865031932,
          -0.7260269927380488,
          0.49049384129362483,
          -1.7200742116968653,
          -0.7129415168181875,
          -0.44188757928112904,
          3.5061225729394834,
          -0.48365529838350285,
          0.09783218038002926,
          1.4577512305513558,
          0.036503672104812285,
          1.6157315712246738,
          0.34311746110657376,
          0.531373414113734,
          -0.7186086927412191,
          1.956762618943234,
          -0.06307785143259939,
          0.18422454988996845,
          -0.8828271943787102,
          -0.7819307241118907,
          -0.4712984396735526,
          0.8208067834200556,
          -0.9535656763785126,
          0.6172811281139772,
          0.38806297663784844,
          0.21969028658437853,
          0.5142512913421163,
          0.3040997986323465,
          0.28940893588859046,
          0.39912893114064507,
          0.8522015383297381,
          0.766249213069548
         ]
        },
        {
         "line": {
          "color": "rgba(55, 128, 191, 1.0)",
          "dash": "solid",
          "shape": "linear",
          "width": 1.3
         },
         "mode": "lines",
         "name": "B",
         "text": "",
         "type": "scatter",
         "x": [
          0,
          1,
          2,
          3,
          4,
          5,
          6,
          7,
          8,
          9,
          10,
          11,
          12,
          13,
          14,
          15,
          16,
          17,
          18,
          19,
          20,
          21,
          22,
          23,
          24,
          25,
          26,
          27,
          28,
          29,
          30,
          31,
          32,
          33,
          34,
          35,
          36,
          37,
          38,
          39,
          40,
          41,
          42,
          43,
          44,
          45,
          46,
          47,
          48,
          49,
          50,
          51,
          52,
          53,
          54,
          55,
          56,
          57,
          58,
          59,
          60,
          61,
          62,
          63,
          64,
          65,
          66,
          67,
          68,
          69,
          70,
          71,
          72,
          73,
          74,
          75,
          76,
          77,
          78,
          79,
          80,
          81,
          82,
          83,
          84,
          85,
          86,
          87,
          88,
          89,
          90,
          91,
          92,
          93,
          94,
          95,
          96,
          97,
          98,
          99
         ],
         "y": [
          -0.9410992898133941,
          0.7403709673795416,
          -0.3681996600834796,
          0.0991597200760194,
          -1.6825783826168605,
          -0.6208141494578543,
          -1.2271159557122688,
          -0.8033660807642069,
          0.8468097288813591,
          0.1722880167006293,
          -0.6637349467662795,
          -1.1017957408634886,
          0.78893110183799,
          0.5052234648355544,
          -0.5183463996216997,
          -0.13014575030713596,
          -2.1173663052566436,
          1.0340391919026775,
          0.4758016414816595,
          1.1751249928768135,
          -0.5777840131627777,
          0.35166835742458624,
          0.4250410076349158,
          0.12956422399669026,
          -0.40001911165167875,
          0.49433210165665,
          0.9238971005402511,
          -0.7022088325329872,
          -0.6250617284042304,
          0.823798227192268,
          0.6736158408541878,
          -0.3471483746325953,
          -1.3044961423954966,
          1.2676370274998308,
          -1.3142364799225965,
          2.650935361804906,
          0.9822129709541314,
          1.9357227006820465,
          0.3703095980993604,
          -0.5530894722283664,
          -1.0407802242731543,
          -0.24484815231948331,
          1.7030276075455875,
          0.4806778126836462,
          0.6063504773432427,
          0.19814079912786253,
          -0.28845578570720243,
          0.336187104999158,
          0.8742807414259941,
          -0.7787074869262802,
          0.5468775255294299,
          -0.723845204414693,
          0.008127763819823951,
          0.34186476255512704,
          0.2639769485027573,
          -1.8208409662925802,
          0.24074451187422571,
          0.5562452782986852,
          -0.5824077840268167,
          0.17050183300365282,
          0.42085884285977426,
          -0.8692661641636048,
          -0.9723993347465054,
          0.5395347413629555,
          -1.144824452521687,
          -1.5581534101688002,
          -1.6729339246680435,
          -2.2056076136021434,
          1.103355797338571,
          0.7678907038054802,
          -0.5151607726764834,
          -0.6475275993757056,
          -1.0082785648677384,
          1.5260113519881962,
          -0.0076054176697331385,
          -0.8379869596906585,
          -0.8532996052463981,
          0.520857662239727,
          -1.1507840593174075,
          0.13138500423423757,
          1.766428276090597,
          0.6509203417858905,
          1.290169264557484,
          0.461245786964094,
          0.381986938073141,
          0.7753138167975542,
          0.8672473904523145,
          0.18973725833913044,
          0.040801741645153794,
          -1.391900776067866,
          -0.6712369302438657,
          -0.04660937009967414,
          -1.1372146461701285,
          0.370270983375189,
          0.5796009309658001,
          -1.4386684202941982,
          -1.319559175894388,
          -0.5188624577046717,
          -1.050562091557685,
          1.988326116952474
         ]
        },
        {
         "connectgaps": false,
         "fill": "tozeroy",
         "line": {
          "color": "green",
          "dash": "solid",
          "shape": "linear",
          "width": 0.5
         },
         "mode": "lines",
         "name": "Spread",
         "showlegend": false,
         "type": "scatter",
         "x": [
          0,
          1,
          2,
          3,
          4,
          5,
          6,
          7,
          8,
          9,
          10,
          11,
          12,
          13,
          14,
          15,
          16,
          17,
          18,
          19,
          20,
          21,
          22,
          23,
          24,
          25,
          26,
          27,
          28,
          29,
          30,
          31,
          32,
          33,
          34,
          35,
          36,
          37,
          38,
          39,
          40,
          41,
          42,
          43,
          44,
          45,
          46,
          47,
          48,
          49,
          50,
          51,
          52,
          53,
          54,
          55,
          56,
          57,
          58,
          59,
          60,
          61,
          62,
          63,
          64,
          65,
          66,
          67,
          68,
          69,
          70,
          71,
          72,
          73,
          74,
          75,
          76,
          77,
          78,
          79,
          80,
          81,
          82,
          83,
          84,
          85,
          86,
          87,
          88,
          89,
          90,
          91,
          92,
          93,
          94,
          95,
          96,
          97,
          98,
          99
         ],
         "xaxis": "x2",
         "y": [
          "",
          "",
          "",
          "",
          1.2173099007926522,
          0.7119350571517593,
          2.347346671958279,
          "",
          "",
          "",
          "",
          2.743768086311083,
          "",
          "",
          "",
          1.0831100740027837,
          2.9597942879368957,
          "",
          "",
          "",
          0.8481020732062025,
          "",
          0.8619583925017671,
          2.6246614130286177,
          "",
          "",
          "",
          1.0321681807015164,
          0.2352921668746779,
          "",
          "",
          0.01927511698063178,
          1.1330180804995864,
          "",
          0.7941329423582515,
          "",
          "",
          1.020777302556702,
          "",
          "",
          2.9500827686623268,
          "",
          "",
          "",
          "",
          "",
          0.8514323322544416,
          "",
          "",
          "",
          "",
          3.5505591700020234,
          0.4551937777524937,
          0.5495201247667802,
          "",
          1.9914516864439231,
          "",
          "",
          0.405523530700566,
          0.2275961179585496,
          1.342867990549955,
          1.832466568793767,
          0.7982968302951015,
          "",
          2.823402160082201,
          3.619691784891497,
          1.654016787018115,
          1.8605768177079143,
          "",
          "",
          1.0056546139701084,
          "",
          0.29533704804955085,
          "",
          3.5137279906092167,
          0.35433166130715565,
          0.9511317856264274,
          0.9368935683116288,
          1.1872877314222197,
          1.4843465669904363,
          "",
          "",
          "",
          1.4955168319791399,
          "",
          "",
          "",
          "",
          "",
          2.2127075594879217,
          "",
          0.6638904982136513,
          1.525277622807977,
          "",
          "",
          1.7427682189265448,
          1.6089681117829786,
          0.9179913888453167,
          1.902763629887423,
          ""
         ],
         "yaxis": "y2"
        },
        {
         "connectgaps": false,
         "fill": "tozeroy",
         "line": {
          "color": "red",
          "dash": "solid",
          "shape": "linear",
          "width": 0.5
         },
         "mode": "lines",
         "name": "Spread",
         "showlegend": false,
         "type": "scatter",
         "x": [
          0,
          1,
          2,
          3,
          4,
          5,
          6,
          7,
          8,
          9,
          10,
          11,
          12,
          13,
          14,
          15,
          16,
          17,
          18,
          19,
          20,
          21,
          22,
          23,
          24,
          25,
          26,
          27,
          28,
          29,
          30,
          31,
          32,
          33,
          34,
          35,
          36,
          37,
          38,
          39,
          40,
          41,
          42,
          43,
          44,
          45,
          46,
          47,
          48,
          49,
          50,
          51,
          52,
          53,
          54,
          55,
          56,
          57,
          58,
          59,
          60,
          61,
          62,
          63,
          64,
          65,
          66,
          67,
          68,
          69,
          70,
          71,
          72,
          73,
          74,
          75,
          76,
          77,
          78,
          79,
          80,
          81,
          82,
          83,
          84,
          85,
          86,
          87,
          88,
          89,
          90,
          91,
          92,
          93,
          94,
          95,
          96,
          97,
          98,
          99
         ],
         "xaxis": "x2",
         "y": [
          -0.28711101402749195,
          -0.06665232993699355,
          -0.26779950632940297,
          -0.33178420913080875,
          "",
          "",
          "",
          -0.10963611630865111,
          -2.6334130330343766,
          -1.3542544321250536,
          -1.5881642744329874,
          "",
          -1.2938335439605781,
          -1.336866793918119,
          -1.3843483941934909,
          "",
          "",
          -0.38434428361514406,
          -1.746838597199528,
          -0.5006945685228614,
          "",
          -0.9668679423212171,
          "",
          "",
          -0.46853725796555695,
          -0.8670380674375422,
          -0.7073277685832984,
          "",
          "",
          -0.03388409400370729,
          -0.8259371934080519,
          "",
          "",
          -1.0217850891078757,
          "",
          -1.7085485654873183,
          -0.28236230473642765,
          "",
          -0.5380225003568877,
          -0.30347498770887293,
          "",
          -0.3617115137161382,
          -0.14688776888758026,
          -2.141105208518968,
          -0.3106451549698641,
          -0.504700101527939,
          "",
          -1.4519625689379194,
          -1.1038327048779204,
          -1.2263508555319425,
          -0.4297400185661041,
          "",
          "",
          "",
          -0.5402345624933202,
          "",
          -0.22827089943321932,
          -1.7430572980927352,
          "",
          "",
          "",
          "",
          "",
          -1.5601651665978955,
          "",
          "",
          "",
          "",
          -1.9951642838417643,
          -1.493917696543529,
          "",
          -1.0725466123211596,
          "",
          -1.9678989312693251,
          "",
          "",
          "",
          "",
          "",
          "",
          -1.4233108149840232,
          -0.11954692767215658,
          -2.0087779572987032,
          "",
          -0.44506478950574035,
          -0.5910892669075858,
          -1.7500745848310246,
          -0.9716679824510212,
          -0.5121001813187064,
          "",
          -0.282328746134647,
          "",
          "",
          -0.15058069679081046,
          -0.06534963962368379,
          "",
          "",
          "",
          "",
          -1.222076903882926
         ],
         "yaxis": "y2"
        }
       ],
       "layout": {
        "hovermode": "x",
        "legend": {
         "bgcolor": "#F5F6F9",
         "font": {
          "color": "#4D5663"
         }
        },
        "paper_bgcolor": "#F5F6F9",
        "plot_bgcolor": "#F5F6F9",
        "template": {
         "data": {
          "bar": [
           {
            "error_x": {
             "color": "#2a3f5f"
            },
            "error_y": {
             "color": "#2a3f5f"
            },
            "marker": {
             "line": {
              "color": "#E5ECF6",
              "width": 0.5
             }
            },
            "type": "bar"
           }
          ],
          "barpolar": [
           {
            "marker": {
             "line": {
              "color": "#E5ECF6",
              "width": 0.5
             }
            },
            "type": "barpolar"
           }
          ],
          "carpet": [
           {
            "aaxis": {
             "endlinecolor": "#2a3f5f",
             "gridcolor": "white",
             "linecolor": "white",
             "minorgridcolor": "white",
             "startlinecolor": "#2a3f5f"
            },
            "baxis": {
             "endlinecolor": "#2a3f5f",
             "gridcolor": "white",
             "linecolor": "white",
             "minorgridcolor": "white",
             "startlinecolor": "#2a3f5f"
            },
            "type": "carpet"
           }
          ],
          "choropleth": [
           {
            "colorbar": {
             "outlinewidth": 0,
             "ticks": ""
            },
            "type": "choropleth"
           }
          ],
          "contour": [
           {
            "colorbar": {
             "outlinewidth": 0,
             "ticks": ""
            },
            "colorscale": [
             [
              0,
              "#0d0887"
             ],
             [
              0.1111111111111111,
              "#46039f"
             ],
             [
              0.2222222222222222,
              "#7201a8"
             ],
             [
              0.3333333333333333,
              "#9c179e"
             ],
             [
              0.4444444444444444,
              "#bd3786"
             ],
             [
              0.5555555555555556,
              "#d8576b"
             ],
             [
              0.6666666666666666,
              "#ed7953"
             ],
             [
              0.7777777777777778,
              "#fb9f3a"
             ],
             [
              0.8888888888888888,
              "#fdca26"
             ],
             [
              1,
              "#f0f921"
             ]
            ],
            "type": "contour"
           }
          ],
          "contourcarpet": [
           {
            "colorbar": {
             "outlinewidth": 0,
             "ticks": ""
            },
            "type": "contourcarpet"
           }
          ],
          "heatmap": [
           {
            "colorbar": {
             "outlinewidth": 0,
             "ticks": ""
            },
            "colorscale": [
             [
              0,
              "#0d0887"
             ],
             [
              0.1111111111111111,
              "#46039f"
             ],
             [
              0.2222222222222222,
              "#7201a8"
             ],
             [
              0.3333333333333333,
              "#9c179e"
             ],
             [
              0.4444444444444444,
              "#bd3786"
             ],
             [
              0.5555555555555556,
              "#d8576b"
             ],
             [
              0.6666666666666666,
              "#ed7953"
             ],
             [
              0.7777777777777778,
              "#fb9f3a"
             ],
             [
              0.8888888888888888,
              "#fdca26"
             ],
             [
              1,
              "#f0f921"
             ]
            ],
            "type": "heatmap"
           }
          ],
          "heatmapgl": [
           {
            "colorbar": {
             "outlinewidth": 0,
             "ticks": ""
            },
            "colorscale": [
             [
              0,
              "#0d0887"
             ],
             [
              0.1111111111111111,
              "#46039f"
             ],
             [
              0.2222222222222222,
              "#7201a8"
             ],
             [
              0.3333333333333333,
              "#9c179e"
             ],
             [
              0.4444444444444444,
              "#bd3786"
             ],
             [
              0.5555555555555556,
              "#d8576b"
             ],
             [
              0.6666666666666666,
              "#ed7953"
             ],
             [
              0.7777777777777778,
              "#fb9f3a"
             ],
             [
              0.8888888888888888,
              "#fdca26"
             ],
             [
              1,
              "#f0f921"
             ]
            ],
            "type": "heatmapgl"
           }
          ],
          "histogram": [
           {
            "marker": {
             "colorbar": {
              "outlinewidth": 0,
              "ticks": ""
             }
            },
            "type": "histogram"
           }
          ],
          "histogram2d": [
           {
            "colorbar": {
             "outlinewidth": 0,
             "ticks": ""
            },
            "colorscale": [
             [
              0,
              "#0d0887"
             ],
             [
              0.1111111111111111,
              "#46039f"
             ],
             [
              0.2222222222222222,
              "#7201a8"
             ],
             [
              0.3333333333333333,
              "#9c179e"
             ],
             [
              0.4444444444444444,
              "#bd3786"
             ],
             [
              0.5555555555555556,
              "#d8576b"
             ],
             [
              0.6666666666666666,
              "#ed7953"
             ],
             [
              0.7777777777777778,
              "#fb9f3a"
             ],
             [
              0.8888888888888888,
              "#fdca26"
             ],
             [
              1,
              "#f0f921"
             ]
            ],
            "type": "histogram2d"
           }
          ],
          "histogram2dcontour": [
           {
            "colorbar": {
             "outlinewidth": 0,
             "ticks": ""
            },
            "colorscale": [
             [
              0,
              "#0d0887"
             ],
             [
              0.1111111111111111,
              "#46039f"
             ],
             [
              0.2222222222222222,
              "#7201a8"
             ],
             [
              0.3333333333333333,
              "#9c179e"
             ],
             [
              0.4444444444444444,
              "#bd3786"
             ],
             [
              0.5555555555555556,
              "#d8576b"
             ],
             [
              0.6666666666666666,
              "#ed7953"
             ],
             [
              0.7777777777777778,
              "#fb9f3a"
             ],
             [
              0.8888888888888888,
              "#fdca26"
             ],
             [
              1,
              "#f0f921"
             ]
            ],
            "type": "histogram2dcontour"
           }
          ],
          "mesh3d": [
           {
            "colorbar": {
             "outlinewidth": 0,
             "ticks": ""
            },
            "type": "mesh3d"
           }
          ],
          "parcoords": [
           {
            "line": {
             "colorbar": {
              "outlinewidth": 0,
              "ticks": ""
             }
            },
            "type": "parcoords"
           }
          ],
          "pie": [
           {
            "automargin": true,
            "type": "pie"
           }
          ],
          "scatter": [
           {
            "marker": {
             "colorbar": {
              "outlinewidth": 0,
              "ticks": ""
             }
            },
            "type": "scatter"
           }
          ],
          "scatter3d": [
           {
            "line": {
             "colorbar": {
              "outlinewidth": 0,
              "ticks": ""
             }
            },
            "marker": {
             "colorbar": {
              "outlinewidth": 0,
              "ticks": ""
             }
            },
            "type": "scatter3d"
           }
          ],
          "scattercarpet": [
           {
            "marker": {
             "colorbar": {
              "outlinewidth": 0,
              "ticks": ""
             }
            },
            "type": "scattercarpet"
           }
          ],
          "scattergeo": [
           {
            "marker": {
             "colorbar": {
              "outlinewidth": 0,
              "ticks": ""
             }
            },
            "type": "scattergeo"
           }
          ],
          "scattergl": [
           {
            "marker": {
             "colorbar": {
              "outlinewidth": 0,
              "ticks": ""
             }
            },
            "type": "scattergl"
           }
          ],
          "scattermapbox": [
           {
            "marker": {
             "colorbar": {
              "outlinewidth": 0,
              "ticks": ""
             }
            },
            "type": "scattermapbox"
           }
          ],
          "scatterpolar": [
           {
            "marker": {
             "colorbar": {
              "outlinewidth": 0,
              "ticks": ""
             }
            },
            "type": "scatterpolar"
           }
          ],
          "scatterpolargl": [
           {
            "marker": {
             "colorbar": {
              "outlinewidth": 0,
              "ticks": ""
             }
            },
            "type": "scatterpolargl"
           }
          ],
          "scatterternary": [
           {
            "marker": {
             "colorbar": {
              "outlinewidth": 0,
              "ticks": ""
             }
            },
            "type": "scatterternary"
           }
          ],
          "surface": [
           {
            "colorbar": {
             "outlinewidth": 0,
             "ticks": ""
            },
            "colorscale": [
             [
              0,
              "#0d0887"
             ],
             [
              0.1111111111111111,
              "#46039f"
             ],
             [
              0.2222222222222222,
              "#7201a8"
             ],
             [
              0.3333333333333333,
              "#9c179e"
             ],
             [
              0.4444444444444444,
              "#bd3786"
             ],
             [
              0.5555555555555556,
              "#d8576b"
             ],
             [
              0.6666666666666666,
              "#ed7953"
             ],
             [
              0.7777777777777778,
              "#fb9f3a"
             ],
             [
              0.8888888888888888,
              "#fdca26"
             ],
             [
              1,
              "#f0f921"
             ]
            ],
            "type": "surface"
           }
          ],
          "table": [
           {
            "cells": {
             "fill": {
              "color": "#EBF0F8"
             },
             "line": {
              "color": "white"
             }
            },
            "header": {
             "fill": {
              "color": "#C8D4E3"
             },
             "line": {
              "color": "white"
             }
            },
            "type": "table"
           }
          ]
         },
         "layout": {
          "annotationdefaults": {
           "arrowcolor": "#2a3f5f",
           "arrowhead": 0,
           "arrowwidth": 1
          },
          "coloraxis": {
           "colorbar": {
            "outlinewidth": 0,
            "ticks": ""
           }
          },
          "colorscale": {
           "diverging": [
            [
             0,
             "#8e0152"
            ],
            [
             0.1,
             "#c51b7d"
            ],
            [
             0.2,
             "#de77ae"
            ],
            [
             0.3,
             "#f1b6da"
            ],
            [
             0.4,
             "#fde0ef"
            ],
            [
             0.5,
             "#f7f7f7"
            ],
            [
             0.6,
             "#e6f5d0"
            ],
            [
             0.7,
             "#b8e186"
            ],
            [
             0.8,
             "#7fbc41"
            ],
            [
             0.9,
             "#4d9221"
            ],
            [
             1,
             "#276419"
            ]
           ],
           "sequential": [
            [
             0,
             "#0d0887"
            ],
            [
             0.1111111111111111,
             "#46039f"
            ],
            [
             0.2222222222222222,
             "#7201a8"
            ],
            [
             0.3333333333333333,
             "#9c179e"
            ],
            [
             0.4444444444444444,
             "#bd3786"
            ],
            [
             0.5555555555555556,
             "#d8576b"
            ],
            [
             0.6666666666666666,
             "#ed7953"
            ],
            [
             0.7777777777777778,
             "#fb9f3a"
            ],
            [
             0.8888888888888888,
             "#fdca26"
            ],
            [
             1,
             "#f0f921"
            ]
           ],
           "sequentialminus": [
            [
             0,
             "#0d0887"
            ],
            [
             0.1111111111111111,
             "#46039f"
            ],
            [
             0.2222222222222222,
             "#7201a8"
            ],
            [
             0.3333333333333333,
             "#9c179e"
            ],
            [
             0.4444444444444444,
             "#bd3786"
            ],
            [
             0.5555555555555556,
             "#d8576b"
            ],
            [
             0.6666666666666666,
             "#ed7953"
            ],
            [
             0.7777777777777778,
             "#fb9f3a"
            ],
            [
             0.8888888888888888,
             "#fdca26"
            ],
            [
             1,
             "#f0f921"
            ]
           ]
          },
          "colorway": [
           "#636efa",
           "#EF553B",
           "#00cc96",
           "#ab63fa",
           "#FFA15A",
           "#19d3f3",
           "#FF6692",
           "#B6E880",
           "#FF97FF",
           "#FECB52"
          ],
          "font": {
           "color": "#2a3f5f"
          },
          "geo": {
           "bgcolor": "white",
           "lakecolor": "white",
           "landcolor": "#E5ECF6",
           "showlakes": true,
           "showland": true,
           "subunitcolor": "white"
          },
          "hoverlabel": {
           "align": "left"
          },
          "hovermode": "closest",
          "mapbox": {
           "style": "light"
          },
          "paper_bgcolor": "white",
          "plot_bgcolor": "#E5ECF6",
          "polar": {
           "angularaxis": {
            "gridcolor": "white",
            "linecolor": "white",
            "ticks": ""
           },
           "bgcolor": "#E5ECF6",
           "radialaxis": {
            "gridcolor": "white",
            "linecolor": "white",
            "ticks": ""
           }
          },
          "scene": {
           "xaxis": {
            "backgroundcolor": "#E5ECF6",
            "gridcolor": "white",
            "gridwidth": 2,
            "linecolor": "white",
            "showbackground": true,
            "ticks": "",
            "zerolinecolor": "white"
           },
           "yaxis": {
            "backgroundcolor": "#E5ECF6",
            "gridcolor": "white",
            "gridwidth": 2,
            "linecolor": "white",
            "showbackground": true,
            "ticks": "",
            "zerolinecolor": "white"
           },
           "zaxis": {
            "backgroundcolor": "#E5ECF6",
            "gridcolor": "white",
            "gridwidth": 2,
            "linecolor": "white",
            "showbackground": true,
            "ticks": "",
            "zerolinecolor": "white"
           }
          },
          "shapedefaults": {
           "line": {
            "color": "#2a3f5f"
           }
          },
          "ternary": {
           "aaxis": {
            "gridcolor": "white",
            "linecolor": "white",
            "ticks": ""
           },
           "baxis": {
            "gridcolor": "white",
            "linecolor": "white",
            "ticks": ""
           },
           "bgcolor": "#E5ECF6",
           "caxis": {
            "gridcolor": "white",
            "linecolor": "white",
            "ticks": ""
           }
          },
          "title": {
           "x": 0.05
          },
          "xaxis": {
           "automargin": true,
           "gridcolor": "white",
           "linecolor": "white",
           "ticks": "",
           "title": {
            "standoff": 15
           },
           "zerolinecolor": "white",
           "zerolinewidth": 2
          },
          "yaxis": {
           "automargin": true,
           "gridcolor": "white",
           "linecolor": "white",
           "ticks": "",
           "title": {
            "standoff": 15
           },
           "zerolinecolor": "white",
           "zerolinewidth": 2
          }
         }
        },
        "title": {
         "font": {
          "color": "#4D5663"
         }
        },
        "xaxis": {
         "gridcolor": "#E1E5ED",
         "showgrid": true,
         "tickfont": {
          "color": "#4D5663"
         },
         "title": {
          "font": {
           "color": "#4D5663"
          },
          "text": ""
         },
         "zerolinecolor": "#E1E5ED"
        },
        "xaxis2": {
         "anchor": "y2",
         "gridcolor": "#E1E5ED",
         "showgrid": true,
         "showticklabels": false,
         "tickfont": {
          "color": "#4D5663"
         },
         "title": {
          "font": {
           "color": "#4D5663"
          },
          "text": ""
         },
         "zerolinecolor": "#E1E5ED"
        },
        "yaxis": {
         "domain": [
          0.3,
          1
         ],
         "gridcolor": "#E1E5ED",
         "showgrid": true,
         "tickfont": {
          "color": "#4D5663"
         },
         "title": {
          "font": {
           "color": "#4D5663"
          },
          "text": ""
         },
         "zerolinecolor": "#E1E5ED"
        },
        "yaxis2": {
         "domain": [
          0,
          0.25
         ],
         "gridcolor": "#E1E5ED",
         "showgrid": true,
         "tickfont": {
          "color": "#4D5663"
         },
         "title": {
          "font": {
           "color": "#4D5663"
          },
          "text": "Spread"
         },
         "zerolinecolor": "#E1E5ED"
        }
       }
      },
      "text/html": [
       "<div>\n",
       "        \n",
       "        \n",
       "            <div id=\"ad1caab9-c896-47ec-a1b2-5ccae1675c29\" class=\"plotly-graph-div\" style=\"height:525px; width:100%;\"></div>\n",
       "            <script type=\"text/javascript\">\n",
       "                require([\"plotly\"], function(Plotly) {\n",
       "                    window.PLOTLYENV=window.PLOTLYENV || {};\n",
       "                    window.PLOTLYENV.BASE_URL='https://plot.ly';\n",
       "                    \n",
       "                if (document.getElementById(\"ad1caab9-c896-47ec-a1b2-5ccae1675c29\")) {\n",
       "                    Plotly.newPlot(\n",
       "                        'ad1caab9-c896-47ec-a1b2-5ccae1675c29',\n",
       "                        [{\"line\": {\"color\": \"rgba(255, 153, 51, 1.0)\", \"dash\": \"solid\", \"shape\": \"linear\", \"width\": 1.3}, \"mode\": \"lines\", \"name\": \"A\", \"text\": \"\", \"type\": \"scatter\", \"x\": [0, 1, 2, 3, 4, 5, 6, 7, 8, 9, 10, 11, 12, 13, 14, 15, 16, 17, 18, 19, 20, 21, 22, 23, 24, 25, 26, 27, 28, 29, 30, 31, 32, 33, 34, 35, 36, 37, 38, 39, 40, 41, 42, 43, 44, 45, 46, 47, 48, 49, 50, 51, 52, 53, 54, 55, 56, 57, 58, 59, 60, 61, 62, 63, 64, 65, 66, 67, 68, 69, 70, 71, 72, 73, 74, 75, 76, 77, 78, 79, 80, 81, 82, 83, 84, 85, 86, 87, 88, 89, 90, 91, 92, 93, 94, 95, 96, 97, 98, 99], \"y\": [-1.228210303840886, 0.673718637442548, -0.6359991664128826, -0.23262448905478936, -0.4652684818242084, 0.09112090769390506, 1.1202307162460101, -0.913002197072858, -1.7866033041530176, -1.1819664154244243, -2.2518992211992668, 1.6419723454475943, -0.5049024421225882, -0.8316433290825647, -1.9026947938151906, 0.9529643236956478, 0.8424279826802521, 0.6496949082875334, -1.2710369557178685, 0.6744304243539521, 0.27031806004342473, -0.6151995848966308, 1.286999400136683, 2.754225637025308, -0.8685563696172357, -0.37270596578089227, 0.21656933195695277, 0.3299593481685292, -0.38976956152955244, 0.7899141331885607, -0.15232135255386411, -0.3278732576519635, -0.1714780618959102, 0.24585193839195518, -0.520103537564345, 0.9423867963175877, 0.6998506662177038, 2.9565000032387485, -0.16771290225752722, -0.8565644599372393, 1.9093025443891725, -0.6065596660356215, 1.5561398386580072, -1.6604273958353217, 0.29570532237337854, -0.30655930240007645, 0.5629765465472392, -1.1157754639387614, -0.22955196345192624, -2.0050583424582227, 0.11713750696332578, 2.8267139655873303, 0.46332154157231764, 0.8913848873219073, -0.27625761399056287, 0.17061072015134288, 0.01247361244100639, -1.1868120197940502, -0.1768842533262507, 0.3980979509622024, 1.7637268334097294, 0.9632004046301621, -0.174102504451404, -1.02063042523494, 1.678577707560514, 2.061538374722697, -0.01891713764992838, -0.34503079589422914, -0.8918084865031932, -0.7260269927380488, 0.49049384129362483, -1.7200742116968653, -0.7129415168181875, -0.44188757928112904, 3.5061225729394834, -0.48365529838350285, 0.09783218038002926, 1.4577512305513558, 0.036503672104812285, 1.6157315712246738, 0.34311746110657376, 0.531373414113734, -0.7186086927412191, 1.956762618943234, -0.06307785143259939, 0.18422454988996845, -0.8828271943787102, -0.7819307241118907, -0.4712984396735526, 0.8208067834200556, -0.9535656763785126, 0.6172811281139772, 0.38806297663784844, 0.21969028658437853, 0.5142512913421163, 0.3040997986323465, 0.28940893588859046, 0.39912893114064507, 0.8522015383297381, 0.766249213069548]}, {\"line\": {\"color\": \"rgba(55, 128, 191, 1.0)\", \"dash\": \"solid\", \"shape\": \"linear\", \"width\": 1.3}, \"mode\": \"lines\", \"name\": \"B\", \"text\": \"\", \"type\": \"scatter\", \"x\": [0, 1, 2, 3, 4, 5, 6, 7, 8, 9, 10, 11, 12, 13, 14, 15, 16, 17, 18, 19, 20, 21, 22, 23, 24, 25, 26, 27, 28, 29, 30, 31, 32, 33, 34, 35, 36, 37, 38, 39, 40, 41, 42, 43, 44, 45, 46, 47, 48, 49, 50, 51, 52, 53, 54, 55, 56, 57, 58, 59, 60, 61, 62, 63, 64, 65, 66, 67, 68, 69, 70, 71, 72, 73, 74, 75, 76, 77, 78, 79, 80, 81, 82, 83, 84, 85, 86, 87, 88, 89, 90, 91, 92, 93, 94, 95, 96, 97, 98, 99], \"y\": [-0.9410992898133941, 0.7403709673795416, -0.3681996600834796, 0.0991597200760194, -1.6825783826168605, -0.6208141494578543, -1.2271159557122688, -0.8033660807642069, 0.8468097288813591, 0.1722880167006293, -0.6637349467662795, -1.1017957408634886, 0.78893110183799, 0.5052234648355544, -0.5183463996216997, -0.13014575030713596, -2.1173663052566436, 1.0340391919026775, 0.4758016414816595, 1.1751249928768135, -0.5777840131627777, 0.35166835742458624, 0.4250410076349158, 0.12956422399669026, -0.40001911165167875, 0.49433210165665, 0.9238971005402511, -0.7022088325329872, -0.6250617284042304, 0.823798227192268, 0.6736158408541878, -0.3471483746325953, -1.3044961423954966, 1.2676370274998308, -1.3142364799225965, 2.650935361804906, 0.9822129709541314, 1.9357227006820465, 0.3703095980993604, -0.5530894722283664, -1.0407802242731543, -0.24484815231948331, 1.7030276075455875, 0.4806778126836462, 0.6063504773432427, 0.19814079912786253, -0.28845578570720243, 0.336187104999158, 0.8742807414259941, -0.7787074869262802, 0.5468775255294299, -0.723845204414693, 0.008127763819823951, 0.34186476255512704, 0.2639769485027573, -1.8208409662925802, 0.24074451187422571, 0.5562452782986852, -0.5824077840268167, 0.17050183300365282, 0.42085884285977426, -0.8692661641636048, -0.9723993347465054, 0.5395347413629555, -1.144824452521687, -1.5581534101688002, -1.6729339246680435, -2.2056076136021434, 1.103355797338571, 0.7678907038054802, -0.5151607726764834, -0.6475275993757056, -1.0082785648677384, 1.5260113519881962, -0.0076054176697331385, -0.8379869596906585, -0.8532996052463981, 0.520857662239727, -1.1507840593174075, 0.13138500423423757, 1.766428276090597, 0.6509203417858905, 1.290169264557484, 0.461245786964094, 0.381986938073141, 0.7753138167975542, 0.8672473904523145, 0.18973725833913044, 0.040801741645153794, -1.391900776067866, -0.6712369302438657, -0.04660937009967414, -1.1372146461701285, 0.370270983375189, 0.5796009309658001, -1.4386684202941982, -1.319559175894388, -0.5188624577046717, -1.050562091557685, 1.988326116952474]}, {\"connectgaps\": false, \"fill\": \"tozeroy\", \"line\": {\"color\": \"green\", \"dash\": \"solid\", \"shape\": \"linear\", \"width\": 0.5}, \"mode\": \"lines\", \"name\": \"Spread\", \"showlegend\": false, \"type\": \"scatter\", \"x\": [0, 1, 2, 3, 4, 5, 6, 7, 8, 9, 10, 11, 12, 13, 14, 15, 16, 17, 18, 19, 20, 21, 22, 23, 24, 25, 26, 27, 28, 29, 30, 31, 32, 33, 34, 35, 36, 37, 38, 39, 40, 41, 42, 43, 44, 45, 46, 47, 48, 49, 50, 51, 52, 53, 54, 55, 56, 57, 58, 59, 60, 61, 62, 63, 64, 65, 66, 67, 68, 69, 70, 71, 72, 73, 74, 75, 76, 77, 78, 79, 80, 81, 82, 83, 84, 85, 86, 87, 88, 89, 90, 91, 92, 93, 94, 95, 96, 97, 98, 99], \"xaxis\": \"x2\", \"y\": [\"\", \"\", \"\", \"\", 1.2173099007926522, 0.7119350571517593, 2.347346671958279, \"\", \"\", \"\", \"\", 2.743768086311083, \"\", \"\", \"\", 1.0831100740027837, 2.9597942879368957, \"\", \"\", \"\", 0.8481020732062025, \"\", 0.8619583925017671, 2.6246614130286177, \"\", \"\", \"\", 1.0321681807015164, 0.2352921668746779, \"\", \"\", 0.01927511698063178, 1.1330180804995864, \"\", 0.7941329423582515, \"\", \"\", 1.020777302556702, \"\", \"\", 2.9500827686623268, \"\", \"\", \"\", \"\", \"\", 0.8514323322544416, \"\", \"\", \"\", \"\", 3.5505591700020234, 0.4551937777524937, 0.5495201247667802, \"\", 1.9914516864439231, \"\", \"\", 0.405523530700566, 0.2275961179585496, 1.342867990549955, 1.832466568793767, 0.7982968302951015, \"\", 2.823402160082201, 3.619691784891497, 1.654016787018115, 1.8605768177079143, \"\", \"\", 1.0056546139701084, \"\", 0.29533704804955085, \"\", 3.5137279906092167, 0.35433166130715565, 0.9511317856264274, 0.9368935683116288, 1.1872877314222197, 1.4843465669904363, \"\", \"\", \"\", 1.4955168319791399, \"\", \"\", \"\", \"\", \"\", 2.2127075594879217, \"\", 0.6638904982136513, 1.525277622807977, \"\", \"\", 1.7427682189265448, 1.6089681117829786, 0.9179913888453167, 1.902763629887423, \"\"], \"yaxis\": \"y2\"}, {\"connectgaps\": false, \"fill\": \"tozeroy\", \"line\": {\"color\": \"red\", \"dash\": \"solid\", \"shape\": \"linear\", \"width\": 0.5}, \"mode\": \"lines\", \"name\": \"Spread\", \"showlegend\": false, \"type\": \"scatter\", \"x\": [0, 1, 2, 3, 4, 5, 6, 7, 8, 9, 10, 11, 12, 13, 14, 15, 16, 17, 18, 19, 20, 21, 22, 23, 24, 25, 26, 27, 28, 29, 30, 31, 32, 33, 34, 35, 36, 37, 38, 39, 40, 41, 42, 43, 44, 45, 46, 47, 48, 49, 50, 51, 52, 53, 54, 55, 56, 57, 58, 59, 60, 61, 62, 63, 64, 65, 66, 67, 68, 69, 70, 71, 72, 73, 74, 75, 76, 77, 78, 79, 80, 81, 82, 83, 84, 85, 86, 87, 88, 89, 90, 91, 92, 93, 94, 95, 96, 97, 98, 99], \"xaxis\": \"x2\", \"y\": [-0.28711101402749195, -0.06665232993699355, -0.26779950632940297, -0.33178420913080875, \"\", \"\", \"\", -0.10963611630865111, -2.6334130330343766, -1.3542544321250536, -1.5881642744329874, \"\", -1.2938335439605781, -1.336866793918119, -1.3843483941934909, \"\", \"\", -0.38434428361514406, -1.746838597199528, -0.5006945685228614, \"\", -0.9668679423212171, \"\", \"\", -0.46853725796555695, -0.8670380674375422, -0.7073277685832984, \"\", \"\", -0.03388409400370729, -0.8259371934080519, \"\", \"\", -1.0217850891078757, \"\", -1.7085485654873183, -0.28236230473642765, \"\", -0.5380225003568877, -0.30347498770887293, \"\", -0.3617115137161382, -0.14688776888758026, -2.141105208518968, -0.3106451549698641, -0.504700101527939, \"\", -1.4519625689379194, -1.1038327048779204, -1.2263508555319425, -0.4297400185661041, \"\", \"\", \"\", -0.5402345624933202, \"\", -0.22827089943321932, -1.7430572980927352, \"\", \"\", \"\", \"\", \"\", -1.5601651665978955, \"\", \"\", \"\", \"\", -1.9951642838417643, -1.493917696543529, \"\", -1.0725466123211596, \"\", -1.9678989312693251, \"\", \"\", \"\", \"\", \"\", \"\", -1.4233108149840232, -0.11954692767215658, -2.0087779572987032, \"\", -0.44506478950574035, -0.5910892669075858, -1.7500745848310246, -0.9716679824510212, -0.5121001813187064, \"\", -0.282328746134647, \"\", \"\", -0.15058069679081046, -0.06534963962368379, \"\", \"\", \"\", \"\", -1.222076903882926], \"yaxis\": \"y2\"}],\n",
       "                        {\"hovermode\": \"x\", \"legend\": {\"bgcolor\": \"#F5F6F9\", \"font\": {\"color\": \"#4D5663\"}}, \"paper_bgcolor\": \"#F5F6F9\", \"plot_bgcolor\": \"#F5F6F9\", \"template\": {\"data\": {\"bar\": [{\"error_x\": {\"color\": \"#2a3f5f\"}, \"error_y\": {\"color\": \"#2a3f5f\"}, \"marker\": {\"line\": {\"color\": \"#E5ECF6\", \"width\": 0.5}}, \"type\": \"bar\"}], \"barpolar\": [{\"marker\": {\"line\": {\"color\": \"#E5ECF6\", \"width\": 0.5}}, \"type\": \"barpolar\"}], \"carpet\": [{\"aaxis\": {\"endlinecolor\": \"#2a3f5f\", \"gridcolor\": \"white\", \"linecolor\": \"white\", \"minorgridcolor\": \"white\", \"startlinecolor\": \"#2a3f5f\"}, \"baxis\": {\"endlinecolor\": \"#2a3f5f\", \"gridcolor\": \"white\", \"linecolor\": \"white\", \"minorgridcolor\": \"white\", \"startlinecolor\": \"#2a3f5f\"}, \"type\": \"carpet\"}], \"choropleth\": [{\"colorbar\": {\"outlinewidth\": 0, \"ticks\": \"\"}, \"type\": \"choropleth\"}], \"contour\": [{\"colorbar\": {\"outlinewidth\": 0, \"ticks\": \"\"}, \"colorscale\": [[0.0, \"#0d0887\"], [0.1111111111111111, \"#46039f\"], [0.2222222222222222, \"#7201a8\"], [0.3333333333333333, \"#9c179e\"], [0.4444444444444444, \"#bd3786\"], [0.5555555555555556, \"#d8576b\"], [0.6666666666666666, \"#ed7953\"], [0.7777777777777778, \"#fb9f3a\"], [0.8888888888888888, \"#fdca26\"], [1.0, \"#f0f921\"]], \"type\": \"contour\"}], \"contourcarpet\": [{\"colorbar\": {\"outlinewidth\": 0, \"ticks\": \"\"}, \"type\": \"contourcarpet\"}], \"heatmap\": [{\"colorbar\": {\"outlinewidth\": 0, \"ticks\": \"\"}, \"colorscale\": [[0.0, \"#0d0887\"], [0.1111111111111111, \"#46039f\"], [0.2222222222222222, \"#7201a8\"], [0.3333333333333333, \"#9c179e\"], [0.4444444444444444, \"#bd3786\"], [0.5555555555555556, \"#d8576b\"], [0.6666666666666666, \"#ed7953\"], [0.7777777777777778, \"#fb9f3a\"], [0.8888888888888888, \"#fdca26\"], [1.0, \"#f0f921\"]], \"type\": \"heatmap\"}], \"heatmapgl\": [{\"colorbar\": {\"outlinewidth\": 0, \"ticks\": \"\"}, \"colorscale\": [[0.0, \"#0d0887\"], [0.1111111111111111, \"#46039f\"], [0.2222222222222222, \"#7201a8\"], [0.3333333333333333, \"#9c179e\"], [0.4444444444444444, \"#bd3786\"], [0.5555555555555556, \"#d8576b\"], [0.6666666666666666, \"#ed7953\"], [0.7777777777777778, \"#fb9f3a\"], [0.8888888888888888, \"#fdca26\"], [1.0, \"#f0f921\"]], \"type\": \"heatmapgl\"}], \"histogram\": [{\"marker\": {\"colorbar\": {\"outlinewidth\": 0, \"ticks\": \"\"}}, \"type\": \"histogram\"}], \"histogram2d\": [{\"colorbar\": {\"outlinewidth\": 0, \"ticks\": \"\"}, \"colorscale\": [[0.0, \"#0d0887\"], [0.1111111111111111, \"#46039f\"], [0.2222222222222222, \"#7201a8\"], [0.3333333333333333, \"#9c179e\"], [0.4444444444444444, \"#bd3786\"], [0.5555555555555556, \"#d8576b\"], [0.6666666666666666, \"#ed7953\"], [0.7777777777777778, \"#fb9f3a\"], [0.8888888888888888, \"#fdca26\"], [1.0, \"#f0f921\"]], \"type\": \"histogram2d\"}], \"histogram2dcontour\": [{\"colorbar\": {\"outlinewidth\": 0, \"ticks\": \"\"}, \"colorscale\": [[0.0, \"#0d0887\"], [0.1111111111111111, \"#46039f\"], [0.2222222222222222, \"#7201a8\"], [0.3333333333333333, \"#9c179e\"], [0.4444444444444444, \"#bd3786\"], [0.5555555555555556, \"#d8576b\"], [0.6666666666666666, \"#ed7953\"], [0.7777777777777778, \"#fb9f3a\"], [0.8888888888888888, \"#fdca26\"], [1.0, \"#f0f921\"]], \"type\": \"histogram2dcontour\"}], \"mesh3d\": [{\"colorbar\": {\"outlinewidth\": 0, \"ticks\": \"\"}, \"type\": \"mesh3d\"}], \"parcoords\": [{\"line\": {\"colorbar\": {\"outlinewidth\": 0, \"ticks\": \"\"}}, \"type\": \"parcoords\"}], \"pie\": [{\"automargin\": true, \"type\": \"pie\"}], \"scatter\": [{\"marker\": {\"colorbar\": {\"outlinewidth\": 0, \"ticks\": \"\"}}, \"type\": \"scatter\"}], \"scatter3d\": [{\"line\": {\"colorbar\": {\"outlinewidth\": 0, \"ticks\": \"\"}}, \"marker\": {\"colorbar\": {\"outlinewidth\": 0, \"ticks\": \"\"}}, \"type\": \"scatter3d\"}], \"scattercarpet\": [{\"marker\": {\"colorbar\": {\"outlinewidth\": 0, \"ticks\": \"\"}}, \"type\": \"scattercarpet\"}], \"scattergeo\": [{\"marker\": {\"colorbar\": {\"outlinewidth\": 0, \"ticks\": \"\"}}, \"type\": \"scattergeo\"}], \"scattergl\": [{\"marker\": {\"colorbar\": {\"outlinewidth\": 0, \"ticks\": \"\"}}, \"type\": \"scattergl\"}], \"scattermapbox\": [{\"marker\": {\"colorbar\": {\"outlinewidth\": 0, \"ticks\": \"\"}}, \"type\": \"scattermapbox\"}], \"scatterpolar\": [{\"marker\": {\"colorbar\": {\"outlinewidth\": 0, \"ticks\": \"\"}}, \"type\": \"scatterpolar\"}], \"scatterpolargl\": [{\"marker\": {\"colorbar\": {\"outlinewidth\": 0, \"ticks\": \"\"}}, \"type\": \"scatterpolargl\"}], \"scatterternary\": [{\"marker\": {\"colorbar\": {\"outlinewidth\": 0, \"ticks\": \"\"}}, \"type\": \"scatterternary\"}], \"surface\": [{\"colorbar\": {\"outlinewidth\": 0, \"ticks\": \"\"}, \"colorscale\": [[0.0, \"#0d0887\"], [0.1111111111111111, \"#46039f\"], [0.2222222222222222, \"#7201a8\"], [0.3333333333333333, \"#9c179e\"], [0.4444444444444444, \"#bd3786\"], [0.5555555555555556, \"#d8576b\"], [0.6666666666666666, \"#ed7953\"], [0.7777777777777778, \"#fb9f3a\"], [0.8888888888888888, \"#fdca26\"], [1.0, \"#f0f921\"]], \"type\": \"surface\"}], \"table\": [{\"cells\": {\"fill\": {\"color\": \"#EBF0F8\"}, \"line\": {\"color\": \"white\"}}, \"header\": {\"fill\": {\"color\": \"#C8D4E3\"}, \"line\": {\"color\": \"white\"}}, \"type\": \"table\"}]}, \"layout\": {\"annotationdefaults\": {\"arrowcolor\": \"#2a3f5f\", \"arrowhead\": 0, \"arrowwidth\": 1}, \"coloraxis\": {\"colorbar\": {\"outlinewidth\": 0, \"ticks\": \"\"}}, \"colorscale\": {\"diverging\": [[0, \"#8e0152\"], [0.1, \"#c51b7d\"], [0.2, \"#de77ae\"], [0.3, \"#f1b6da\"], [0.4, \"#fde0ef\"], [0.5, \"#f7f7f7\"], [0.6, \"#e6f5d0\"], [0.7, \"#b8e186\"], [0.8, \"#7fbc41\"], [0.9, \"#4d9221\"], [1, \"#276419\"]], \"sequential\": [[0.0, \"#0d0887\"], [0.1111111111111111, \"#46039f\"], [0.2222222222222222, \"#7201a8\"], [0.3333333333333333, \"#9c179e\"], [0.4444444444444444, \"#bd3786\"], [0.5555555555555556, \"#d8576b\"], [0.6666666666666666, \"#ed7953\"], [0.7777777777777778, \"#fb9f3a\"], [0.8888888888888888, \"#fdca26\"], [1.0, \"#f0f921\"]], \"sequentialminus\": [[0.0, \"#0d0887\"], [0.1111111111111111, \"#46039f\"], [0.2222222222222222, \"#7201a8\"], [0.3333333333333333, \"#9c179e\"], [0.4444444444444444, \"#bd3786\"], [0.5555555555555556, \"#d8576b\"], [0.6666666666666666, \"#ed7953\"], [0.7777777777777778, \"#fb9f3a\"], [0.8888888888888888, \"#fdca26\"], [1.0, \"#f0f921\"]]}, \"colorway\": [\"#636efa\", \"#EF553B\", \"#00cc96\", \"#ab63fa\", \"#FFA15A\", \"#19d3f3\", \"#FF6692\", \"#B6E880\", \"#FF97FF\", \"#FECB52\"], \"font\": {\"color\": \"#2a3f5f\"}, \"geo\": {\"bgcolor\": \"white\", \"lakecolor\": \"white\", \"landcolor\": \"#E5ECF6\", \"showlakes\": true, \"showland\": true, \"subunitcolor\": \"white\"}, \"hoverlabel\": {\"align\": \"left\"}, \"hovermode\": \"closest\", \"mapbox\": {\"style\": \"light\"}, \"paper_bgcolor\": \"white\", \"plot_bgcolor\": \"#E5ECF6\", \"polar\": {\"angularaxis\": {\"gridcolor\": \"white\", \"linecolor\": \"white\", \"ticks\": \"\"}, \"bgcolor\": \"#E5ECF6\", \"radialaxis\": {\"gridcolor\": \"white\", \"linecolor\": \"white\", \"ticks\": \"\"}}, \"scene\": {\"xaxis\": {\"backgroundcolor\": \"#E5ECF6\", \"gridcolor\": \"white\", \"gridwidth\": 2, \"linecolor\": \"white\", \"showbackground\": true, \"ticks\": \"\", \"zerolinecolor\": \"white\"}, \"yaxis\": {\"backgroundcolor\": \"#E5ECF6\", \"gridcolor\": \"white\", \"gridwidth\": 2, \"linecolor\": \"white\", \"showbackground\": true, \"ticks\": \"\", \"zerolinecolor\": \"white\"}, \"zaxis\": {\"backgroundcolor\": \"#E5ECF6\", \"gridcolor\": \"white\", \"gridwidth\": 2, \"linecolor\": \"white\", \"showbackground\": true, \"ticks\": \"\", \"zerolinecolor\": \"white\"}}, \"shapedefaults\": {\"line\": {\"color\": \"#2a3f5f\"}}, \"ternary\": {\"aaxis\": {\"gridcolor\": \"white\", \"linecolor\": \"white\", \"ticks\": \"\"}, \"baxis\": {\"gridcolor\": \"white\", \"linecolor\": \"white\", \"ticks\": \"\"}, \"bgcolor\": \"#E5ECF6\", \"caxis\": {\"gridcolor\": \"white\", \"linecolor\": \"white\", \"ticks\": \"\"}}, \"title\": {\"x\": 0.05}, \"xaxis\": {\"automargin\": true, \"gridcolor\": \"white\", \"linecolor\": \"white\", \"ticks\": \"\", \"title\": {\"standoff\": 15}, \"zerolinecolor\": \"white\", \"zerolinewidth\": 2}, \"yaxis\": {\"automargin\": true, \"gridcolor\": \"white\", \"linecolor\": \"white\", \"ticks\": \"\", \"title\": {\"standoff\": 15}, \"zerolinecolor\": \"white\", \"zerolinewidth\": 2}}}, \"title\": {\"font\": {\"color\": \"#4D5663\"}}, \"xaxis\": {\"gridcolor\": \"#E1E5ED\", \"showgrid\": true, \"tickfont\": {\"color\": \"#4D5663\"}, \"title\": {\"font\": {\"color\": \"#4D5663\"}, \"text\": \"\"}, \"zerolinecolor\": \"#E1E5ED\"}, \"xaxis2\": {\"anchor\": \"y2\", \"gridcolor\": \"#E1E5ED\", \"showgrid\": true, \"showticklabels\": false, \"tickfont\": {\"color\": \"#4D5663\"}, \"title\": {\"font\": {\"color\": \"#4D5663\"}, \"text\": \"\"}, \"zerolinecolor\": \"#E1E5ED\"}, \"yaxis\": {\"domain\": [0.3, 1], \"gridcolor\": \"#E1E5ED\", \"showgrid\": true, \"tickfont\": {\"color\": \"#4D5663\"}, \"title\": {\"font\": {\"color\": \"#4D5663\"}, \"text\": \"\"}, \"zerolinecolor\": \"#E1E5ED\"}, \"yaxis2\": {\"domain\": [0, 0.25], \"gridcolor\": \"#E1E5ED\", \"showgrid\": true, \"tickfont\": {\"color\": \"#4D5663\"}, \"title\": {\"font\": {\"color\": \"#4D5663\"}, \"text\": \"Spread\"}, \"zerolinecolor\": \"#E1E5ED\"}},\n",
       "                        {\"showLink\": true, \"linkText\": \"Export to plot.ly\", \"plotlyServerURL\": \"https://plot.ly\", \"responsive\": true}\n",
       "                    ).then(function(){\n",
       "                            \n",
       "var gd = document.getElementById('ad1caab9-c896-47ec-a1b2-5ccae1675c29');\n",
       "var x = new MutationObserver(function (mutations, observer) {{\n",
       "        var display = window.getComputedStyle(gd).display;\n",
       "        if (!display || display === 'none') {{\n",
       "            console.log([gd, 'removed!']);\n",
       "            Plotly.purge(gd);\n",
       "            observer.disconnect();\n",
       "        }}\n",
       "}});\n",
       "\n",
       "// Listen for the removal of the full notebook cells\n",
       "var notebookContainer = gd.closest('#notebook-container');\n",
       "if (notebookContainer) {{\n",
       "    x.observe(notebookContainer, {childList: true});\n",
       "}}\n",
       "\n",
       "// Listen for the clearing of the current output cell\n",
       "var outputEl = gd.closest('.output');\n",
       "if (outputEl) {{\n",
       "    x.observe(outputEl, {childList: true});\n",
       "}}\n",
       "\n",
       "                        })\n",
       "                };\n",
       "                });\n",
       "            </script>\n",
       "        </div>"
      ]
     },
     "metadata": {},
     "output_type": "display_data"
    }
   ],
   "source": [
    "# PLOTLY - SPREADPLOT\n",
    " # Used a lot for STOCKS DATA to compare 2 STOCKS\n",
    "    # We get a plot (lineplot) and a subplot(spreadplot)\n",
    "    #SPREADPLOT shows the SPREAD of them against each other\n",
    "df[['A','B']].iplot(kind='spread')"
   ]
  },
  {
   "cell_type": "code",
   "execution_count": null,
   "metadata": {},
   "outputs": [],
   "source": []
  },
  {
   "cell_type": "code",
   "execution_count": 62,
   "metadata": {},
   "outputs": [
    {
     "data": {
      "application/vnd.plotly.v1+json": {
       "config": {
        "linkText": "Export to plot.ly",
        "plotlyServerURL": "https://plot.ly",
        "showLink": true
       },
       "data": [
        {
         "marker": {
          "color": [
           "rgb(255, 153, 51)",
           "rgb(55, 128, 191)",
           "rgb(50, 171, 96)",
           "rgb(128, 0, 128)",
           "rgb(219, 64, 82)",
           "rgb(0, 128, 128)",
           "rgb(255, 255, 51)",
           "rgb(128, 128, 0)",
           "rgb(251, 128, 114)",
           "rgb(128, 177, 211)"
          ],
          "line": {
           "width": 1.3
          },
          "size": [
           70,
           81,
           28,
           70,
           79,
           73,
           55,
           101,
           68,
           73,
           49,
           61,
           56,
           54,
           66,
           56,
           67,
           63,
           75,
           24,
           53,
           100,
           45,
           71,
           25,
           84,
           56,
           54,
           56,
           56,
           22,
           49,
           80,
           49,
           93,
           40,
           55,
           82,
           68,
           85,
           62,
           45,
           102,
           78,
           86,
           48,
           94,
           71,
           80,
           52,
           69,
           46,
           109,
           27,
           64,
           58,
           17,
           60,
           26,
           52,
           40,
           112,
           71,
           69,
           68,
           45,
           97,
           39,
           94,
           96,
           26,
           70,
           61,
           57,
           81,
           71,
           88,
           88,
           106,
           72,
           67,
           12,
           48,
           62,
           78,
           92,
           73,
           64,
           69,
           53,
           46,
           73,
           44,
           36,
           72,
           69,
           57,
           70,
           62,
           69
          ],
          "symbol": "circle"
         },
         "mode": "markers",
         "text": "",
         "type": "scatter",
         "x": [
          -1.228210303840886,
          0.673718637442548,
          -0.6359991664128826,
          -0.23262448905478936,
          -0.4652684818242084,
          0.09112090769390506,
          1.1202307162460101,
          -0.913002197072858,
          -1.7866033041530176,
          -1.1819664154244243,
          -2.2518992211992668,
          1.6419723454475943,
          -0.5049024421225882,
          -0.8316433290825647,
          -1.9026947938151906,
          0.9529643236956478,
          0.8424279826802521,
          0.6496949082875334,
          -1.2710369557178685,
          0.6744304243539521,
          0.27031806004342473,
          -0.6151995848966308,
          1.286999400136683,
          2.754225637025308,
          -0.8685563696172357,
          -0.37270596578089227,
          0.21656933195695277,
          0.3299593481685292,
          -0.38976956152955244,
          0.7899141331885607,
          -0.15232135255386411,
          -0.3278732576519635,
          -0.1714780618959102,
          0.24585193839195518,
          -0.520103537564345,
          0.9423867963175877,
          0.6998506662177038,
          2.9565000032387485,
          -0.16771290225752722,
          -0.8565644599372393,
          1.9093025443891725,
          -0.6065596660356215,
          1.5561398386580072,
          -1.6604273958353217,
          0.29570532237337854,
          -0.30655930240007645,
          0.5629765465472392,
          -1.1157754639387614,
          -0.22955196345192624,
          -2.0050583424582227,
          0.11713750696332578,
          2.8267139655873303,
          0.46332154157231764,
          0.8913848873219073,
          -0.27625761399056287,
          0.17061072015134288,
          0.01247361244100639,
          -1.1868120197940502,
          -0.1768842533262507,
          0.3980979509622024,
          1.7637268334097294,
          0.9632004046301621,
          -0.174102504451404,
          -1.02063042523494,
          1.678577707560514,
          2.061538374722697,
          -0.01891713764992838,
          -0.34503079589422914,
          -0.8918084865031932,
          -0.7260269927380488,
          0.49049384129362483,
          -1.7200742116968653,
          -0.7129415168181875,
          -0.44188757928112904,
          3.5061225729394834,
          -0.48365529838350285,
          0.09783218038002926,
          1.4577512305513558,
          0.036503672104812285,
          1.6157315712246738,
          0.34311746110657376,
          0.531373414113734,
          -0.7186086927412191,
          1.956762618943234,
          -0.06307785143259939,
          0.18422454988996845,
          -0.8828271943787102,
          -0.7819307241118907,
          -0.4712984396735526,
          0.8208067834200556,
          -0.9535656763785126,
          0.6172811281139772,
          0.38806297663784844,
          0.21969028658437853,
          0.5142512913421163,
          0.3040997986323465,
          0.28940893588859046,
          0.39912893114064507,
          0.8522015383297381,
          0.766249213069548
         ],
         "y": [
          -0.9410992898133941,
          0.7403709673795416,
          -0.3681996600834796,
          0.0991597200760194,
          -1.6825783826168605,
          -0.6208141494578543,
          -1.2271159557122688,
          -0.8033660807642069,
          0.8468097288813591,
          0.1722880167006293,
          -0.6637349467662795,
          -1.1017957408634886,
          0.78893110183799,
          0.5052234648355544,
          -0.5183463996216997,
          -0.13014575030713596,
          -2.1173663052566436,
          1.0340391919026775,
          0.4758016414816595,
          1.1751249928768135,
          -0.5777840131627777,
          0.35166835742458624,
          0.4250410076349158,
          0.12956422399669026,
          -0.40001911165167875,
          0.49433210165665,
          0.9238971005402511,
          -0.7022088325329872,
          -0.6250617284042304,
          0.823798227192268,
          0.6736158408541878,
          -0.3471483746325953,
          -1.3044961423954966,
          1.2676370274998308,
          -1.3142364799225965,
          2.650935361804906,
          0.9822129709541314,
          1.9357227006820465,
          0.3703095980993604,
          -0.5530894722283664,
          -1.0407802242731543,
          -0.24484815231948331,
          1.7030276075455875,
          0.4806778126836462,
          0.6063504773432427,
          0.19814079912786253,
          -0.28845578570720243,
          0.336187104999158,
          0.8742807414259941,
          -0.7787074869262802,
          0.5468775255294299,
          -0.723845204414693,
          0.008127763819823951,
          0.34186476255512704,
          0.2639769485027573,
          -1.8208409662925802,
          0.24074451187422571,
          0.5562452782986852,
          -0.5824077840268167,
          0.17050183300365282,
          0.42085884285977426,
          -0.8692661641636048,
          -0.9723993347465054,
          0.5395347413629555,
          -1.144824452521687,
          -1.5581534101688002,
          -1.6729339246680435,
          -2.2056076136021434,
          1.103355797338571,
          0.7678907038054802,
          -0.5151607726764834,
          -0.6475275993757056,
          -1.0082785648677384,
          1.5260113519881962,
          -0.0076054176697331385,
          -0.8379869596906585,
          -0.8532996052463981,
          0.520857662239727,
          -1.1507840593174075,
          0.13138500423423757,
          1.766428276090597,
          0.6509203417858905,
          1.290169264557484,
          0.461245786964094,
          0.381986938073141,
          0.7753138167975542,
          0.8672473904523145,
          0.18973725833913044,
          0.040801741645153794,
          -1.391900776067866,
          -0.6712369302438657,
          -0.04660937009967414,
          -1.1372146461701285,
          0.370270983375189,
          0.5796009309658001,
          -1.4386684202941982,
          -1.319559175894388,
          -0.5188624577046717,
          -1.050562091557685,
          1.988326116952474
         ]
        }
       ],
       "layout": {
        "legend": {
         "bgcolor": "#F5F6F9",
         "font": {
          "color": "#4D5663"
         }
        },
        "paper_bgcolor": "#F5F6F9",
        "plot_bgcolor": "#F5F6F9",
        "template": {
         "data": {
          "bar": [
           {
            "error_x": {
             "color": "#2a3f5f"
            },
            "error_y": {
             "color": "#2a3f5f"
            },
            "marker": {
             "line": {
              "color": "#E5ECF6",
              "width": 0.5
             }
            },
            "type": "bar"
           }
          ],
          "barpolar": [
           {
            "marker": {
             "line": {
              "color": "#E5ECF6",
              "width": 0.5
             }
            },
            "type": "barpolar"
           }
          ],
          "carpet": [
           {
            "aaxis": {
             "endlinecolor": "#2a3f5f",
             "gridcolor": "white",
             "linecolor": "white",
             "minorgridcolor": "white",
             "startlinecolor": "#2a3f5f"
            },
            "baxis": {
             "endlinecolor": "#2a3f5f",
             "gridcolor": "white",
             "linecolor": "white",
             "minorgridcolor": "white",
             "startlinecolor": "#2a3f5f"
            },
            "type": "carpet"
           }
          ],
          "choropleth": [
           {
            "colorbar": {
             "outlinewidth": 0,
             "ticks": ""
            },
            "type": "choropleth"
           }
          ],
          "contour": [
           {
            "colorbar": {
             "outlinewidth": 0,
             "ticks": ""
            },
            "colorscale": [
             [
              0,
              "#0d0887"
             ],
             [
              0.1111111111111111,
              "#46039f"
             ],
             [
              0.2222222222222222,
              "#7201a8"
             ],
             [
              0.3333333333333333,
              "#9c179e"
             ],
             [
              0.4444444444444444,
              "#bd3786"
             ],
             [
              0.5555555555555556,
              "#d8576b"
             ],
             [
              0.6666666666666666,
              "#ed7953"
             ],
             [
              0.7777777777777778,
              "#fb9f3a"
             ],
             [
              0.8888888888888888,
              "#fdca26"
             ],
             [
              1,
              "#f0f921"
             ]
            ],
            "type": "contour"
           }
          ],
          "contourcarpet": [
           {
            "colorbar": {
             "outlinewidth": 0,
             "ticks": ""
            },
            "type": "contourcarpet"
           }
          ],
          "heatmap": [
           {
            "colorbar": {
             "outlinewidth": 0,
             "ticks": ""
            },
            "colorscale": [
             [
              0,
              "#0d0887"
             ],
             [
              0.1111111111111111,
              "#46039f"
             ],
             [
              0.2222222222222222,
              "#7201a8"
             ],
             [
              0.3333333333333333,
              "#9c179e"
             ],
             [
              0.4444444444444444,
              "#bd3786"
             ],
             [
              0.5555555555555556,
              "#d8576b"
             ],
             [
              0.6666666666666666,
              "#ed7953"
             ],
             [
              0.7777777777777778,
              "#fb9f3a"
             ],
             [
              0.8888888888888888,
              "#fdca26"
             ],
             [
              1,
              "#f0f921"
             ]
            ],
            "type": "heatmap"
           }
          ],
          "heatmapgl": [
           {
            "colorbar": {
             "outlinewidth": 0,
             "ticks": ""
            },
            "colorscale": [
             [
              0,
              "#0d0887"
             ],
             [
              0.1111111111111111,
              "#46039f"
             ],
             [
              0.2222222222222222,
              "#7201a8"
             ],
             [
              0.3333333333333333,
              "#9c179e"
             ],
             [
              0.4444444444444444,
              "#bd3786"
             ],
             [
              0.5555555555555556,
              "#d8576b"
             ],
             [
              0.6666666666666666,
              "#ed7953"
             ],
             [
              0.7777777777777778,
              "#fb9f3a"
             ],
             [
              0.8888888888888888,
              "#fdca26"
             ],
             [
              1,
              "#f0f921"
             ]
            ],
            "type": "heatmapgl"
           }
          ],
          "histogram": [
           {
            "marker": {
             "colorbar": {
              "outlinewidth": 0,
              "ticks": ""
             }
            },
            "type": "histogram"
           }
          ],
          "histogram2d": [
           {
            "colorbar": {
             "outlinewidth": 0,
             "ticks": ""
            },
            "colorscale": [
             [
              0,
              "#0d0887"
             ],
             [
              0.1111111111111111,
              "#46039f"
             ],
             [
              0.2222222222222222,
              "#7201a8"
             ],
             [
              0.3333333333333333,
              "#9c179e"
             ],
             [
              0.4444444444444444,
              "#bd3786"
             ],
             [
              0.5555555555555556,
              "#d8576b"
             ],
             [
              0.6666666666666666,
              "#ed7953"
             ],
             [
              0.7777777777777778,
              "#fb9f3a"
             ],
             [
              0.8888888888888888,
              "#fdca26"
             ],
             [
              1,
              "#f0f921"
             ]
            ],
            "type": "histogram2d"
           }
          ],
          "histogram2dcontour": [
           {
            "colorbar": {
             "outlinewidth": 0,
             "ticks": ""
            },
            "colorscale": [
             [
              0,
              "#0d0887"
             ],
             [
              0.1111111111111111,
              "#46039f"
             ],
             [
              0.2222222222222222,
              "#7201a8"
             ],
             [
              0.3333333333333333,
              "#9c179e"
             ],
             [
              0.4444444444444444,
              "#bd3786"
             ],
             [
              0.5555555555555556,
              "#d8576b"
             ],
             [
              0.6666666666666666,
              "#ed7953"
             ],
             [
              0.7777777777777778,
              "#fb9f3a"
             ],
             [
              0.8888888888888888,
              "#fdca26"
             ],
             [
              1,
              "#f0f921"
             ]
            ],
            "type": "histogram2dcontour"
           }
          ],
          "mesh3d": [
           {
            "colorbar": {
             "outlinewidth": 0,
             "ticks": ""
            },
            "type": "mesh3d"
           }
          ],
          "parcoords": [
           {
            "line": {
             "colorbar": {
              "outlinewidth": 0,
              "ticks": ""
             }
            },
            "type": "parcoords"
           }
          ],
          "pie": [
           {
            "automargin": true,
            "type": "pie"
           }
          ],
          "scatter": [
           {
            "marker": {
             "colorbar": {
              "outlinewidth": 0,
              "ticks": ""
             }
            },
            "type": "scatter"
           }
          ],
          "scatter3d": [
           {
            "line": {
             "colorbar": {
              "outlinewidth": 0,
              "ticks": ""
             }
            },
            "marker": {
             "colorbar": {
              "outlinewidth": 0,
              "ticks": ""
             }
            },
            "type": "scatter3d"
           }
          ],
          "scattercarpet": [
           {
            "marker": {
             "colorbar": {
              "outlinewidth": 0,
              "ticks": ""
             }
            },
            "type": "scattercarpet"
           }
          ],
          "scattergeo": [
           {
            "marker": {
             "colorbar": {
              "outlinewidth": 0,
              "ticks": ""
             }
            },
            "type": "scattergeo"
           }
          ],
          "scattergl": [
           {
            "marker": {
             "colorbar": {
              "outlinewidth": 0,
              "ticks": ""
             }
            },
            "type": "scattergl"
           }
          ],
          "scattermapbox": [
           {
            "marker": {
             "colorbar": {
              "outlinewidth": 0,
              "ticks": ""
             }
            },
            "type": "scattermapbox"
           }
          ],
          "scatterpolar": [
           {
            "marker": {
             "colorbar": {
              "outlinewidth": 0,
              "ticks": ""
             }
            },
            "type": "scatterpolar"
           }
          ],
          "scatterpolargl": [
           {
            "marker": {
             "colorbar": {
              "outlinewidth": 0,
              "ticks": ""
             }
            },
            "type": "scatterpolargl"
           }
          ],
          "scatterternary": [
           {
            "marker": {
             "colorbar": {
              "outlinewidth": 0,
              "ticks": ""
             }
            },
            "type": "scatterternary"
           }
          ],
          "surface": [
           {
            "colorbar": {
             "outlinewidth": 0,
             "ticks": ""
            },
            "colorscale": [
             [
              0,
              "#0d0887"
             ],
             [
              0.1111111111111111,
              "#46039f"
             ],
             [
              0.2222222222222222,
              "#7201a8"
             ],
             [
              0.3333333333333333,
              "#9c179e"
             ],
             [
              0.4444444444444444,
              "#bd3786"
             ],
             [
              0.5555555555555556,
              "#d8576b"
             ],
             [
              0.6666666666666666,
              "#ed7953"
             ],
             [
              0.7777777777777778,
              "#fb9f3a"
             ],
             [
              0.8888888888888888,
              "#fdca26"
             ],
             [
              1,
              "#f0f921"
             ]
            ],
            "type": "surface"
           }
          ],
          "table": [
           {
            "cells": {
             "fill": {
              "color": "#EBF0F8"
             },
             "line": {
              "color": "white"
             }
            },
            "header": {
             "fill": {
              "color": "#C8D4E3"
             },
             "line": {
              "color": "white"
             }
            },
            "type": "table"
           }
          ]
         },
         "layout": {
          "annotationdefaults": {
           "arrowcolor": "#2a3f5f",
           "arrowhead": 0,
           "arrowwidth": 1
          },
          "coloraxis": {
           "colorbar": {
            "outlinewidth": 0,
            "ticks": ""
           }
          },
          "colorscale": {
           "diverging": [
            [
             0,
             "#8e0152"
            ],
            [
             0.1,
             "#c51b7d"
            ],
            [
             0.2,
             "#de77ae"
            ],
            [
             0.3,
             "#f1b6da"
            ],
            [
             0.4,
             "#fde0ef"
            ],
            [
             0.5,
             "#f7f7f7"
            ],
            [
             0.6,
             "#e6f5d0"
            ],
            [
             0.7,
             "#b8e186"
            ],
            [
             0.8,
             "#7fbc41"
            ],
            [
             0.9,
             "#4d9221"
            ],
            [
             1,
             "#276419"
            ]
           ],
           "sequential": [
            [
             0,
             "#0d0887"
            ],
            [
             0.1111111111111111,
             "#46039f"
            ],
            [
             0.2222222222222222,
             "#7201a8"
            ],
            [
             0.3333333333333333,
             "#9c179e"
            ],
            [
             0.4444444444444444,
             "#bd3786"
            ],
            [
             0.5555555555555556,
             "#d8576b"
            ],
            [
             0.6666666666666666,
             "#ed7953"
            ],
            [
             0.7777777777777778,
             "#fb9f3a"
            ],
            [
             0.8888888888888888,
             "#fdca26"
            ],
            [
             1,
             "#f0f921"
            ]
           ],
           "sequentialminus": [
            [
             0,
             "#0d0887"
            ],
            [
             0.1111111111111111,
             "#46039f"
            ],
            [
             0.2222222222222222,
             "#7201a8"
            ],
            [
             0.3333333333333333,
             "#9c179e"
            ],
            [
             0.4444444444444444,
             "#bd3786"
            ],
            [
             0.5555555555555556,
             "#d8576b"
            ],
            [
             0.6666666666666666,
             "#ed7953"
            ],
            [
             0.7777777777777778,
             "#fb9f3a"
            ],
            [
             0.8888888888888888,
             "#fdca26"
            ],
            [
             1,
             "#f0f921"
            ]
           ]
          },
          "colorway": [
           "#636efa",
           "#EF553B",
           "#00cc96",
           "#ab63fa",
           "#FFA15A",
           "#19d3f3",
           "#FF6692",
           "#B6E880",
           "#FF97FF",
           "#FECB52"
          ],
          "font": {
           "color": "#2a3f5f"
          },
          "geo": {
           "bgcolor": "white",
           "lakecolor": "white",
           "landcolor": "#E5ECF6",
           "showlakes": true,
           "showland": true,
           "subunitcolor": "white"
          },
          "hoverlabel": {
           "align": "left"
          },
          "hovermode": "closest",
          "mapbox": {
           "style": "light"
          },
          "paper_bgcolor": "white",
          "plot_bgcolor": "#E5ECF6",
          "polar": {
           "angularaxis": {
            "gridcolor": "white",
            "linecolor": "white",
            "ticks": ""
           },
           "bgcolor": "#E5ECF6",
           "radialaxis": {
            "gridcolor": "white",
            "linecolor": "white",
            "ticks": ""
           }
          },
          "scene": {
           "xaxis": {
            "backgroundcolor": "#E5ECF6",
            "gridcolor": "white",
            "gridwidth": 2,
            "linecolor": "white",
            "showbackground": true,
            "ticks": "",
            "zerolinecolor": "white"
           },
           "yaxis": {
            "backgroundcolor": "#E5ECF6",
            "gridcolor": "white",
            "gridwidth": 2,
            "linecolor": "white",
            "showbackground": true,
            "ticks": "",
            "zerolinecolor": "white"
           },
           "zaxis": {
            "backgroundcolor": "#E5ECF6",
            "gridcolor": "white",
            "gridwidth": 2,
            "linecolor": "white",
            "showbackground": true,
            "ticks": "",
            "zerolinecolor": "white"
           }
          },
          "shapedefaults": {
           "line": {
            "color": "#2a3f5f"
           }
          },
          "ternary": {
           "aaxis": {
            "gridcolor": "white",
            "linecolor": "white",
            "ticks": ""
           },
           "baxis": {
            "gridcolor": "white",
            "linecolor": "white",
            "ticks": ""
           },
           "bgcolor": "#E5ECF6",
           "caxis": {
            "gridcolor": "white",
            "linecolor": "white",
            "ticks": ""
           }
          },
          "title": {
           "x": 0.05
          },
          "xaxis": {
           "automargin": true,
           "gridcolor": "white",
           "linecolor": "white",
           "ticks": "",
           "title": {
            "standoff": 15
           },
           "zerolinecolor": "white",
           "zerolinewidth": 2
          },
          "yaxis": {
           "automargin": true,
           "gridcolor": "white",
           "linecolor": "white",
           "ticks": "",
           "title": {
            "standoff": 15
           },
           "zerolinecolor": "white",
           "zerolinewidth": 2
          }
         }
        },
        "title": {
         "font": {
          "color": "#4D5663"
         }
        },
        "xaxis": {
         "gridcolor": "#E1E5ED",
         "showgrid": true,
         "tickfont": {
          "color": "#4D5663"
         },
         "title": {
          "font": {
           "color": "#4D5663"
          },
          "text": ""
         },
         "zerolinecolor": "#E1E5ED"
        },
        "yaxis": {
         "gridcolor": "#E1E5ED",
         "showgrid": true,
         "tickfont": {
          "color": "#4D5663"
         },
         "title": {
          "font": {
           "color": "#4D5663"
          },
          "text": ""
         },
         "zerolinecolor": "#E1E5ED"
        }
       }
      },
      "text/html": [
       "<div>\n",
       "        \n",
       "        \n",
       "            <div id=\"243f2f29-77bf-44f3-9bc1-d6276b6048bd\" class=\"plotly-graph-div\" style=\"height:525px; width:100%;\"></div>\n",
       "            <script type=\"text/javascript\">\n",
       "                require([\"plotly\"], function(Plotly) {\n",
       "                    window.PLOTLYENV=window.PLOTLYENV || {};\n",
       "                    window.PLOTLYENV.BASE_URL='https://plot.ly';\n",
       "                    \n",
       "                if (document.getElementById(\"243f2f29-77bf-44f3-9bc1-d6276b6048bd\")) {\n",
       "                    Plotly.newPlot(\n",
       "                        '243f2f29-77bf-44f3-9bc1-d6276b6048bd',\n",
       "                        [{\"marker\": {\"color\": [\"rgb(255, 153, 51)\", \"rgb(55, 128, 191)\", \"rgb(50, 171, 96)\", \"rgb(128, 0, 128)\", \"rgb(219, 64, 82)\", \"rgb(0, 128, 128)\", \"rgb(255, 255, 51)\", \"rgb(128, 128, 0)\", \"rgb(251, 128, 114)\", \"rgb(128, 177, 211)\"], \"line\": {\"width\": 1.3}, \"size\": [70, 81, 28, 70, 79, 73, 55, 101, 68, 73, 49, 61, 56, 54, 66, 56, 67, 63, 75, 24, 53, 100, 45, 71, 25, 84, 56, 54, 56, 56, 22, 49, 80, 49, 93, 40, 55, 82, 68, 85, 62, 45, 102, 78, 86, 48, 94, 71, 80, 52, 69, 46, 109, 27, 64, 58, 17, 60, 26, 52, 40, 112, 71, 69, 68, 45, 97, 39, 94, 96, 26, 70, 61, 57, 81, 71, 88, 88, 106, 72, 67, 12, 48, 62, 78, 92, 73, 64, 69, 53, 46, 73, 44, 36, 72, 69, 57, 70, 62, 69], \"symbol\": \"circle\"}, \"mode\": \"markers\", \"text\": \"\", \"type\": \"scatter\", \"x\": [-1.228210303840886, 0.673718637442548, -0.6359991664128826, -0.23262448905478936, -0.4652684818242084, 0.09112090769390506, 1.1202307162460101, -0.913002197072858, -1.7866033041530176, -1.1819664154244243, -2.2518992211992668, 1.6419723454475943, -0.5049024421225882, -0.8316433290825647, -1.9026947938151906, 0.9529643236956478, 0.8424279826802521, 0.6496949082875334, -1.2710369557178685, 0.6744304243539521, 0.27031806004342473, -0.6151995848966308, 1.286999400136683, 2.754225637025308, -0.8685563696172357, -0.37270596578089227, 0.21656933195695277, 0.3299593481685292, -0.38976956152955244, 0.7899141331885607, -0.15232135255386411, -0.3278732576519635, -0.1714780618959102, 0.24585193839195518, -0.520103537564345, 0.9423867963175877, 0.6998506662177038, 2.9565000032387485, -0.16771290225752722, -0.8565644599372393, 1.9093025443891725, -0.6065596660356215, 1.5561398386580072, -1.6604273958353217, 0.29570532237337854, -0.30655930240007645, 0.5629765465472392, -1.1157754639387614, -0.22955196345192624, -2.0050583424582227, 0.11713750696332578, 2.8267139655873303, 0.46332154157231764, 0.8913848873219073, -0.27625761399056287, 0.17061072015134288, 0.01247361244100639, -1.1868120197940502, -0.1768842533262507, 0.3980979509622024, 1.7637268334097294, 0.9632004046301621, -0.174102504451404, -1.02063042523494, 1.678577707560514, 2.061538374722697, -0.01891713764992838, -0.34503079589422914, -0.8918084865031932, -0.7260269927380488, 0.49049384129362483, -1.7200742116968653, -0.7129415168181875, -0.44188757928112904, 3.5061225729394834, -0.48365529838350285, 0.09783218038002926, 1.4577512305513558, 0.036503672104812285, 1.6157315712246738, 0.34311746110657376, 0.531373414113734, -0.7186086927412191, 1.956762618943234, -0.06307785143259939, 0.18422454988996845, -0.8828271943787102, -0.7819307241118907, -0.4712984396735526, 0.8208067834200556, -0.9535656763785126, 0.6172811281139772, 0.38806297663784844, 0.21969028658437853, 0.5142512913421163, 0.3040997986323465, 0.28940893588859046, 0.39912893114064507, 0.8522015383297381, 0.766249213069548], \"y\": [-0.9410992898133941, 0.7403709673795416, -0.3681996600834796, 0.0991597200760194, -1.6825783826168605, -0.6208141494578543, -1.2271159557122688, -0.8033660807642069, 0.8468097288813591, 0.1722880167006293, -0.6637349467662795, -1.1017957408634886, 0.78893110183799, 0.5052234648355544, -0.5183463996216997, -0.13014575030713596, -2.1173663052566436, 1.0340391919026775, 0.4758016414816595, 1.1751249928768135, -0.5777840131627777, 0.35166835742458624, 0.4250410076349158, 0.12956422399669026, -0.40001911165167875, 0.49433210165665, 0.9238971005402511, -0.7022088325329872, -0.6250617284042304, 0.823798227192268, 0.6736158408541878, -0.3471483746325953, -1.3044961423954966, 1.2676370274998308, -1.3142364799225965, 2.650935361804906, 0.9822129709541314, 1.9357227006820465, 0.3703095980993604, -0.5530894722283664, -1.0407802242731543, -0.24484815231948331, 1.7030276075455875, 0.4806778126836462, 0.6063504773432427, 0.19814079912786253, -0.28845578570720243, 0.336187104999158, 0.8742807414259941, -0.7787074869262802, 0.5468775255294299, -0.723845204414693, 0.008127763819823951, 0.34186476255512704, 0.2639769485027573, -1.8208409662925802, 0.24074451187422571, 0.5562452782986852, -0.5824077840268167, 0.17050183300365282, 0.42085884285977426, -0.8692661641636048, -0.9723993347465054, 0.5395347413629555, -1.144824452521687, -1.5581534101688002, -1.6729339246680435, -2.2056076136021434, 1.103355797338571, 0.7678907038054802, -0.5151607726764834, -0.6475275993757056, -1.0082785648677384, 1.5260113519881962, -0.0076054176697331385, -0.8379869596906585, -0.8532996052463981, 0.520857662239727, -1.1507840593174075, 0.13138500423423757, 1.766428276090597, 0.6509203417858905, 1.290169264557484, 0.461245786964094, 0.381986938073141, 0.7753138167975542, 0.8672473904523145, 0.18973725833913044, 0.040801741645153794, -1.391900776067866, -0.6712369302438657, -0.04660937009967414, -1.1372146461701285, 0.370270983375189, 0.5796009309658001, -1.4386684202941982, -1.319559175894388, -0.5188624577046717, -1.050562091557685, 1.988326116952474]}],\n",
       "                        {\"legend\": {\"bgcolor\": \"#F5F6F9\", \"font\": {\"color\": \"#4D5663\"}}, \"paper_bgcolor\": \"#F5F6F9\", \"plot_bgcolor\": \"#F5F6F9\", \"template\": {\"data\": {\"bar\": [{\"error_x\": {\"color\": \"#2a3f5f\"}, \"error_y\": {\"color\": \"#2a3f5f\"}, \"marker\": {\"line\": {\"color\": \"#E5ECF6\", \"width\": 0.5}}, \"type\": \"bar\"}], \"barpolar\": [{\"marker\": {\"line\": {\"color\": \"#E5ECF6\", \"width\": 0.5}}, \"type\": \"barpolar\"}], \"carpet\": [{\"aaxis\": {\"endlinecolor\": \"#2a3f5f\", \"gridcolor\": \"white\", \"linecolor\": \"white\", \"minorgridcolor\": \"white\", \"startlinecolor\": \"#2a3f5f\"}, \"baxis\": {\"endlinecolor\": \"#2a3f5f\", \"gridcolor\": \"white\", \"linecolor\": \"white\", \"minorgridcolor\": \"white\", \"startlinecolor\": \"#2a3f5f\"}, \"type\": \"carpet\"}], \"choropleth\": [{\"colorbar\": {\"outlinewidth\": 0, \"ticks\": \"\"}, \"type\": \"choropleth\"}], \"contour\": [{\"colorbar\": {\"outlinewidth\": 0, \"ticks\": \"\"}, \"colorscale\": [[0.0, \"#0d0887\"], [0.1111111111111111, \"#46039f\"], [0.2222222222222222, \"#7201a8\"], [0.3333333333333333, \"#9c179e\"], [0.4444444444444444, \"#bd3786\"], [0.5555555555555556, \"#d8576b\"], [0.6666666666666666, \"#ed7953\"], [0.7777777777777778, \"#fb9f3a\"], [0.8888888888888888, \"#fdca26\"], [1.0, \"#f0f921\"]], \"type\": \"contour\"}], \"contourcarpet\": [{\"colorbar\": {\"outlinewidth\": 0, \"ticks\": \"\"}, \"type\": \"contourcarpet\"}], \"heatmap\": [{\"colorbar\": {\"outlinewidth\": 0, \"ticks\": \"\"}, \"colorscale\": [[0.0, \"#0d0887\"], [0.1111111111111111, \"#46039f\"], [0.2222222222222222, \"#7201a8\"], [0.3333333333333333, \"#9c179e\"], [0.4444444444444444, \"#bd3786\"], [0.5555555555555556, \"#d8576b\"], [0.6666666666666666, \"#ed7953\"], [0.7777777777777778, \"#fb9f3a\"], [0.8888888888888888, \"#fdca26\"], [1.0, \"#f0f921\"]], \"type\": \"heatmap\"}], \"heatmapgl\": [{\"colorbar\": {\"outlinewidth\": 0, \"ticks\": \"\"}, \"colorscale\": [[0.0, \"#0d0887\"], [0.1111111111111111, \"#46039f\"], [0.2222222222222222, \"#7201a8\"], [0.3333333333333333, \"#9c179e\"], [0.4444444444444444, \"#bd3786\"], [0.5555555555555556, \"#d8576b\"], [0.6666666666666666, \"#ed7953\"], [0.7777777777777778, \"#fb9f3a\"], [0.8888888888888888, \"#fdca26\"], [1.0, \"#f0f921\"]], \"type\": \"heatmapgl\"}], \"histogram\": [{\"marker\": {\"colorbar\": {\"outlinewidth\": 0, \"ticks\": \"\"}}, \"type\": \"histogram\"}], \"histogram2d\": [{\"colorbar\": {\"outlinewidth\": 0, \"ticks\": \"\"}, \"colorscale\": [[0.0, \"#0d0887\"], [0.1111111111111111, \"#46039f\"], [0.2222222222222222, \"#7201a8\"], [0.3333333333333333, \"#9c179e\"], [0.4444444444444444, \"#bd3786\"], [0.5555555555555556, \"#d8576b\"], [0.6666666666666666, \"#ed7953\"], [0.7777777777777778, \"#fb9f3a\"], [0.8888888888888888, \"#fdca26\"], [1.0, \"#f0f921\"]], \"type\": \"histogram2d\"}], \"histogram2dcontour\": [{\"colorbar\": {\"outlinewidth\": 0, \"ticks\": \"\"}, \"colorscale\": [[0.0, \"#0d0887\"], [0.1111111111111111, \"#46039f\"], [0.2222222222222222, \"#7201a8\"], [0.3333333333333333, \"#9c179e\"], [0.4444444444444444, \"#bd3786\"], [0.5555555555555556, \"#d8576b\"], [0.6666666666666666, \"#ed7953\"], [0.7777777777777778, \"#fb9f3a\"], [0.8888888888888888, \"#fdca26\"], [1.0, \"#f0f921\"]], \"type\": \"histogram2dcontour\"}], \"mesh3d\": [{\"colorbar\": {\"outlinewidth\": 0, \"ticks\": \"\"}, \"type\": \"mesh3d\"}], \"parcoords\": [{\"line\": {\"colorbar\": {\"outlinewidth\": 0, \"ticks\": \"\"}}, \"type\": \"parcoords\"}], \"pie\": [{\"automargin\": true, \"type\": \"pie\"}], \"scatter\": [{\"marker\": {\"colorbar\": {\"outlinewidth\": 0, \"ticks\": \"\"}}, \"type\": \"scatter\"}], \"scatter3d\": [{\"line\": {\"colorbar\": {\"outlinewidth\": 0, \"ticks\": \"\"}}, \"marker\": {\"colorbar\": {\"outlinewidth\": 0, \"ticks\": \"\"}}, \"type\": \"scatter3d\"}], \"scattercarpet\": [{\"marker\": {\"colorbar\": {\"outlinewidth\": 0, \"ticks\": \"\"}}, \"type\": \"scattercarpet\"}], \"scattergeo\": [{\"marker\": {\"colorbar\": {\"outlinewidth\": 0, \"ticks\": \"\"}}, \"type\": \"scattergeo\"}], \"scattergl\": [{\"marker\": {\"colorbar\": {\"outlinewidth\": 0, \"ticks\": \"\"}}, \"type\": \"scattergl\"}], \"scattermapbox\": [{\"marker\": {\"colorbar\": {\"outlinewidth\": 0, \"ticks\": \"\"}}, \"type\": \"scattermapbox\"}], \"scatterpolar\": [{\"marker\": {\"colorbar\": {\"outlinewidth\": 0, \"ticks\": \"\"}}, \"type\": \"scatterpolar\"}], \"scatterpolargl\": [{\"marker\": {\"colorbar\": {\"outlinewidth\": 0, \"ticks\": \"\"}}, \"type\": \"scatterpolargl\"}], \"scatterternary\": [{\"marker\": {\"colorbar\": {\"outlinewidth\": 0, \"ticks\": \"\"}}, \"type\": \"scatterternary\"}], \"surface\": [{\"colorbar\": {\"outlinewidth\": 0, \"ticks\": \"\"}, \"colorscale\": [[0.0, \"#0d0887\"], [0.1111111111111111, \"#46039f\"], [0.2222222222222222, \"#7201a8\"], [0.3333333333333333, \"#9c179e\"], [0.4444444444444444, \"#bd3786\"], [0.5555555555555556, \"#d8576b\"], [0.6666666666666666, \"#ed7953\"], [0.7777777777777778, \"#fb9f3a\"], [0.8888888888888888, \"#fdca26\"], [1.0, \"#f0f921\"]], \"type\": \"surface\"}], \"table\": [{\"cells\": {\"fill\": {\"color\": \"#EBF0F8\"}, \"line\": {\"color\": \"white\"}}, \"header\": {\"fill\": {\"color\": \"#C8D4E3\"}, \"line\": {\"color\": \"white\"}}, \"type\": \"table\"}]}, \"layout\": {\"annotationdefaults\": {\"arrowcolor\": \"#2a3f5f\", \"arrowhead\": 0, \"arrowwidth\": 1}, \"coloraxis\": {\"colorbar\": {\"outlinewidth\": 0, \"ticks\": \"\"}}, \"colorscale\": {\"diverging\": [[0, \"#8e0152\"], [0.1, \"#c51b7d\"], [0.2, \"#de77ae\"], [0.3, \"#f1b6da\"], [0.4, \"#fde0ef\"], [0.5, \"#f7f7f7\"], [0.6, \"#e6f5d0\"], [0.7, \"#b8e186\"], [0.8, \"#7fbc41\"], [0.9, \"#4d9221\"], [1, \"#276419\"]], \"sequential\": [[0.0, \"#0d0887\"], [0.1111111111111111, \"#46039f\"], [0.2222222222222222, \"#7201a8\"], [0.3333333333333333, \"#9c179e\"], [0.4444444444444444, \"#bd3786\"], [0.5555555555555556, \"#d8576b\"], [0.6666666666666666, \"#ed7953\"], [0.7777777777777778, \"#fb9f3a\"], [0.8888888888888888, \"#fdca26\"], [1.0, \"#f0f921\"]], \"sequentialminus\": [[0.0, \"#0d0887\"], [0.1111111111111111, \"#46039f\"], [0.2222222222222222, \"#7201a8\"], [0.3333333333333333, \"#9c179e\"], [0.4444444444444444, \"#bd3786\"], [0.5555555555555556, \"#d8576b\"], [0.6666666666666666, \"#ed7953\"], [0.7777777777777778, \"#fb9f3a\"], [0.8888888888888888, \"#fdca26\"], [1.0, \"#f0f921\"]]}, \"colorway\": [\"#636efa\", \"#EF553B\", \"#00cc96\", \"#ab63fa\", \"#FFA15A\", \"#19d3f3\", \"#FF6692\", \"#B6E880\", \"#FF97FF\", \"#FECB52\"], \"font\": {\"color\": \"#2a3f5f\"}, \"geo\": {\"bgcolor\": \"white\", \"lakecolor\": \"white\", \"landcolor\": \"#E5ECF6\", \"showlakes\": true, \"showland\": true, \"subunitcolor\": \"white\"}, \"hoverlabel\": {\"align\": \"left\"}, \"hovermode\": \"closest\", \"mapbox\": {\"style\": \"light\"}, \"paper_bgcolor\": \"white\", \"plot_bgcolor\": \"#E5ECF6\", \"polar\": {\"angularaxis\": {\"gridcolor\": \"white\", \"linecolor\": \"white\", \"ticks\": \"\"}, \"bgcolor\": \"#E5ECF6\", \"radialaxis\": {\"gridcolor\": \"white\", \"linecolor\": \"white\", \"ticks\": \"\"}}, \"scene\": {\"xaxis\": {\"backgroundcolor\": \"#E5ECF6\", \"gridcolor\": \"white\", \"gridwidth\": 2, \"linecolor\": \"white\", \"showbackground\": true, \"ticks\": \"\", \"zerolinecolor\": \"white\"}, \"yaxis\": {\"backgroundcolor\": \"#E5ECF6\", \"gridcolor\": \"white\", \"gridwidth\": 2, \"linecolor\": \"white\", \"showbackground\": true, \"ticks\": \"\", \"zerolinecolor\": \"white\"}, \"zaxis\": {\"backgroundcolor\": \"#E5ECF6\", \"gridcolor\": \"white\", \"gridwidth\": 2, \"linecolor\": \"white\", \"showbackground\": true, \"ticks\": \"\", \"zerolinecolor\": \"white\"}}, \"shapedefaults\": {\"line\": {\"color\": \"#2a3f5f\"}}, \"ternary\": {\"aaxis\": {\"gridcolor\": \"white\", \"linecolor\": \"white\", \"ticks\": \"\"}, \"baxis\": {\"gridcolor\": \"white\", \"linecolor\": \"white\", \"ticks\": \"\"}, \"bgcolor\": \"#E5ECF6\", \"caxis\": {\"gridcolor\": \"white\", \"linecolor\": \"white\", \"ticks\": \"\"}}, \"title\": {\"x\": 0.05}, \"xaxis\": {\"automargin\": true, \"gridcolor\": \"white\", \"linecolor\": \"white\", \"ticks\": \"\", \"title\": {\"standoff\": 15}, \"zerolinecolor\": \"white\", \"zerolinewidth\": 2}, \"yaxis\": {\"automargin\": true, \"gridcolor\": \"white\", \"linecolor\": \"white\", \"ticks\": \"\", \"title\": {\"standoff\": 15}, \"zerolinecolor\": \"white\", \"zerolinewidth\": 2}}}, \"title\": {\"font\": {\"color\": \"#4D5663\"}}, \"xaxis\": {\"gridcolor\": \"#E1E5ED\", \"showgrid\": true, \"tickfont\": {\"color\": \"#4D5663\"}, \"title\": {\"font\": {\"color\": \"#4D5663\"}, \"text\": \"\"}, \"zerolinecolor\": \"#E1E5ED\"}, \"yaxis\": {\"gridcolor\": \"#E1E5ED\", \"showgrid\": true, \"tickfont\": {\"color\": \"#4D5663\"}, \"title\": {\"font\": {\"color\": \"#4D5663\"}, \"text\": \"\"}, \"zerolinecolor\": \"#E1E5ED\"}},\n",
       "                        {\"showLink\": true, \"linkText\": \"Export to plot.ly\", \"plotlyServerURL\": \"https://plot.ly\", \"responsive\": true}\n",
       "                    ).then(function(){\n",
       "                            \n",
       "var gd = document.getElementById('243f2f29-77bf-44f3-9bc1-d6276b6048bd');\n",
       "var x = new MutationObserver(function (mutations, observer) {{\n",
       "        var display = window.getComputedStyle(gd).display;\n",
       "        if (!display || display === 'none') {{\n",
       "            console.log([gd, 'removed!']);\n",
       "            Plotly.purge(gd);\n",
       "            observer.disconnect();\n",
       "        }}\n",
       "}});\n",
       "\n",
       "// Listen for the removal of the full notebook cells\n",
       "var notebookContainer = gd.closest('#notebook-container');\n",
       "if (notebookContainer) {{\n",
       "    x.observe(notebookContainer, {childList: true});\n",
       "}}\n",
       "\n",
       "// Listen for the clearing of the current output cell\n",
       "var outputEl = gd.closest('.output');\n",
       "if (outputEl) {{\n",
       "    x.observe(outputEl, {childList: true});\n",
       "}}\n",
       "\n",
       "                        })\n",
       "                };\n",
       "                });\n",
       "            </script>\n",
       "        </div>"
      ]
     },
     "metadata": {},
     "output_type": "display_data"
    }
   ],
   "source": [
    "# PLOTLY - BUBBLEPLOT\n",
    " # BUBBLEPLOT similar to SCATTERPLOT except it will change size of the \n",
    " # points based off of a another variable\n",
    " #SIZE of points will be based off another column value\n",
    " #SIZE-specify size of bubbles based on another column\n",
    " #This kind of plot is useful for WORLD GDP in comparison to GDP or\n",
    "    # happiness factor ETC\n",
    " # Useful for United NAtion report \n",
    "df.iplot(kind='bubble',x='A',y='B',size='C')"
   ]
  },
  {
   "cell_type": "code",
   "execution_count": null,
   "metadata": {},
   "outputs": [],
   "source": []
  },
  {
   "cell_type": "code",
   "execution_count": 64,
   "metadata": {},
   "outputs": [
    {
     "data": {
      "text/html": [
       "<div>\n",
       "<style scoped>\n",
       "    .dataframe tbody tr th:only-of-type {\n",
       "        vertical-align: middle;\n",
       "    }\n",
       "\n",
       "    .dataframe tbody tr th {\n",
       "        vertical-align: top;\n",
       "    }\n",
       "\n",
       "    .dataframe thead th {\n",
       "        text-align: right;\n",
       "    }\n",
       "</style>\n",
       "<table border=\"1\" class=\"dataframe\">\n",
       "  <thead>\n",
       "    <tr style=\"text-align: right;\">\n",
       "      <th></th>\n",
       "      <th>A</th>\n",
       "      <th>B</th>\n",
       "      <th>C</th>\n",
       "      <th>D</th>\n",
       "    </tr>\n",
       "  </thead>\n",
       "  <tbody>\n",
       "    <tr>\n",
       "      <td>0</td>\n",
       "      <td>-1.228210</td>\n",
       "      <td>-0.941099</td>\n",
       "      <td>0.142694</td>\n",
       "      <td>0.610649</td>\n",
       "    </tr>\n",
       "    <tr>\n",
       "      <td>1</td>\n",
       "      <td>0.673719</td>\n",
       "      <td>0.740371</td>\n",
       "      <td>0.674386</td>\n",
       "      <td>-0.558096</td>\n",
       "    </tr>\n",
       "    <tr>\n",
       "      <td>2</td>\n",
       "      <td>-0.635999</td>\n",
       "      <td>-0.368200</td>\n",
       "      <td>-1.915904</td>\n",
       "      <td>-0.403835</td>\n",
       "    </tr>\n",
       "    <tr>\n",
       "      <td>3</td>\n",
       "      <td>-0.232624</td>\n",
       "      <td>0.099160</td>\n",
       "      <td>0.127016</td>\n",
       "      <td>0.111251</td>\n",
       "    </tr>\n",
       "    <tr>\n",
       "      <td>4</td>\n",
       "      <td>-0.465268</td>\n",
       "      <td>-1.682578</td>\n",
       "      <td>0.563628</td>\n",
       "      <td>1.914680</td>\n",
       "    </tr>\n",
       "  </tbody>\n",
       "</table>\n",
       "</div>"
      ],
      "text/plain": [
       "          A         B         C         D\n",
       "0 -1.228210 -0.941099  0.142694  0.610649\n",
       "1  0.673719  0.740371  0.674386 -0.558096\n",
       "2 -0.635999 -0.368200 -1.915904 -0.403835\n",
       "3 -0.232624  0.099160  0.127016  0.111251\n",
       "4 -0.465268 -1.682578  0.563628  1.914680"
      ]
     },
     "execution_count": 64,
     "metadata": {},
     "output_type": "execute_result"
    }
   ],
   "source": [
    "df.head()"
   ]
  },
  {
   "cell_type": "code",
   "execution_count": 63,
   "metadata": {},
   "outputs": [
    {
     "data": {
      "application/vnd.plotly.v1+json": {
       "config": {
        "linkText": "Export to plot.ly",
        "plotlyServerURL": "https://plot.ly",
        "showLink": true
       },
       "data": [
        {
         "histfunc": "count",
         "histnorm": "",
         "marker": {
          "color": "rgba(255, 153, 51, 1.0)",
          "line": {
           "color": "#4D5663",
           "width": 1.3
          }
         },
         "name": "A",
         "nbinsx": 10,
         "opacity": 0.8,
         "orientation": "v",
         "type": "histogram",
         "x": [
          -1.228210303840886,
          0.673718637442548,
          -0.6359991664128826,
          -0.23262448905478936,
          -0.4652684818242084,
          0.09112090769390506,
          1.1202307162460101,
          -0.913002197072858,
          -1.7866033041530176,
          -1.1819664154244243,
          -2.2518992211992668,
          1.6419723454475943,
          -0.5049024421225882,
          -0.8316433290825647,
          -1.9026947938151906,
          0.9529643236956478,
          0.8424279826802521,
          0.6496949082875334,
          -1.2710369557178685,
          0.6744304243539521,
          0.27031806004342473,
          -0.6151995848966308,
          1.286999400136683,
          2.754225637025308,
          -0.8685563696172357,
          -0.37270596578089227,
          0.21656933195695277,
          0.3299593481685292,
          -0.38976956152955244,
          0.7899141331885607,
          -0.15232135255386411,
          -0.3278732576519635,
          -0.1714780618959102,
          0.24585193839195518,
          -0.520103537564345,
          0.9423867963175877,
          0.6998506662177038,
          2.9565000032387485,
          -0.16771290225752722,
          -0.8565644599372393,
          1.9093025443891725,
          -0.6065596660356215,
          1.5561398386580072,
          -1.6604273958353217,
          0.29570532237337854,
          -0.30655930240007645,
          0.5629765465472392,
          -1.1157754639387614,
          -0.22955196345192624,
          -2.0050583424582227,
          0.11713750696332578,
          2.8267139655873303,
          0.46332154157231764,
          0.8913848873219073,
          -0.27625761399056287,
          0.17061072015134288,
          0.01247361244100639,
          -1.1868120197940502,
          -0.1768842533262507,
          0.3980979509622024,
          1.7637268334097294,
          0.9632004046301621,
          -0.174102504451404,
          -1.02063042523494,
          1.678577707560514,
          2.061538374722697,
          -0.01891713764992838,
          -0.34503079589422914,
          -0.8918084865031932,
          -0.7260269927380488,
          0.49049384129362483,
          -1.7200742116968653,
          -0.7129415168181875,
          -0.44188757928112904,
          3.5061225729394834,
          -0.48365529838350285,
          0.09783218038002926,
          1.4577512305513558,
          0.036503672104812285,
          1.6157315712246738,
          0.34311746110657376,
          0.531373414113734,
          -0.7186086927412191,
          1.956762618943234,
          -0.06307785143259939,
          0.18422454988996845,
          -0.8828271943787102,
          -0.7819307241118907,
          -0.4712984396735526,
          0.8208067834200556,
          -0.9535656763785126,
          0.6172811281139772,
          0.38806297663784844,
          0.21969028658437853,
          0.5142512913421163,
          0.3040997986323465,
          0.28940893588859046,
          0.39912893114064507,
          0.8522015383297381,
          0.766249213069548
         ],
         "xaxis": "x",
         "yaxis": "y"
        },
        {
         "line": {
          "color": "rgba(128, 128, 128, 1.0)",
          "dash": "solid",
          "shape": "linear",
          "width": 1.3
         },
         "marker": {
          "size": 2,
          "symbol": "circle"
         },
         "mode": "markers",
         "name": "A",
         "text": "",
         "type": "scatter",
         "x": [
          -0.9410992898133941,
          0.7403709673795416,
          -0.3681996600834796,
          0.0991597200760194,
          -1.6825783826168605,
          -0.6208141494578543,
          -1.2271159557122688,
          -0.8033660807642069,
          0.8468097288813591,
          0.1722880167006293,
          -0.6637349467662795,
          -1.1017957408634886,
          0.78893110183799,
          0.5052234648355544,
          -0.5183463996216997,
          -0.13014575030713596,
          -2.1173663052566436,
          1.0340391919026775,
          0.4758016414816595,
          1.1751249928768135,
          -0.5777840131627777,
          0.35166835742458624,
          0.4250410076349158,
          0.12956422399669026,
          -0.40001911165167875,
          0.49433210165665,
          0.9238971005402511,
          -0.7022088325329872,
          -0.6250617284042304,
          0.823798227192268,
          0.6736158408541878,
          -0.3471483746325953,
          -1.3044961423954966,
          1.2676370274998308,
          -1.3142364799225965,
          2.650935361804906,
          0.9822129709541314,
          1.9357227006820465,
          0.3703095980993604,
          -0.5530894722283664,
          -1.0407802242731543,
          -0.24484815231948331,
          1.7030276075455875,
          0.4806778126836462,
          0.6063504773432427,
          0.19814079912786253,
          -0.28845578570720243,
          0.336187104999158,
          0.8742807414259941,
          -0.7787074869262802,
          0.5468775255294299,
          -0.723845204414693,
          0.008127763819823951,
          0.34186476255512704,
          0.2639769485027573,
          -1.8208409662925802,
          0.24074451187422571,
          0.5562452782986852,
          -0.5824077840268167,
          0.17050183300365282,
          0.42085884285977426,
          -0.8692661641636048,
          -0.9723993347465054,
          0.5395347413629555,
          -1.144824452521687,
          -1.5581534101688002,
          -1.6729339246680435,
          -2.2056076136021434,
          1.103355797338571,
          0.7678907038054802,
          -0.5151607726764834,
          -0.6475275993757056,
          -1.0082785648677384,
          1.5260113519881962,
          -0.0076054176697331385,
          -0.8379869596906585,
          -0.8532996052463981,
          0.520857662239727,
          -1.1507840593174075,
          0.13138500423423757,
          1.766428276090597,
          0.6509203417858905,
          1.290169264557484,
          0.461245786964094,
          0.381986938073141,
          0.7753138167975542,
          0.8672473904523145,
          0.18973725833913044,
          0.040801741645153794,
          -1.391900776067866,
          -0.6712369302438657,
          -0.04660937009967414,
          -1.1372146461701285,
          0.370270983375189,
          0.5796009309658001,
          -1.4386684202941982,
          -1.319559175894388,
          -0.5188624577046717,
          -1.050562091557685,
          1.988326116952474
         ],
         "xaxis": "x2",
         "y": [
          -1.228210303840886,
          0.673718637442548,
          -0.6359991664128826,
          -0.23262448905478936,
          -0.4652684818242084,
          0.09112090769390506,
          1.1202307162460101,
          -0.913002197072858,
          -1.7866033041530176,
          -1.1819664154244243,
          -2.2518992211992668,
          1.6419723454475943,
          -0.5049024421225882,
          -0.8316433290825647,
          -1.9026947938151906,
          0.9529643236956478,
          0.8424279826802521,
          0.6496949082875334,
          -1.2710369557178685,
          0.6744304243539521,
          0.27031806004342473,
          -0.6151995848966308,
          1.286999400136683,
          2.754225637025308,
          -0.8685563696172357,
          -0.37270596578089227,
          0.21656933195695277,
          0.3299593481685292,
          -0.38976956152955244,
          0.7899141331885607,
          -0.15232135255386411,
          -0.3278732576519635,
          -0.1714780618959102,
          0.24585193839195518,
          -0.520103537564345,
          0.9423867963175877,
          0.6998506662177038,
          2.9565000032387485,
          -0.16771290225752722,
          -0.8565644599372393,
          1.9093025443891725,
          -0.6065596660356215,
          1.5561398386580072,
          -1.6604273958353217,
          0.29570532237337854,
          -0.30655930240007645,
          0.5629765465472392,
          -1.1157754639387614,
          -0.22955196345192624,
          -2.0050583424582227,
          0.11713750696332578,
          2.8267139655873303,
          0.46332154157231764,
          0.8913848873219073,
          -0.27625761399056287,
          0.17061072015134288,
          0.01247361244100639,
          -1.1868120197940502,
          -0.1768842533262507,
          0.3980979509622024,
          1.7637268334097294,
          0.9632004046301621,
          -0.174102504451404,
          -1.02063042523494,
          1.678577707560514,
          2.061538374722697,
          -0.01891713764992838,
          -0.34503079589422914,
          -0.8918084865031932,
          -0.7260269927380488,
          0.49049384129362483,
          -1.7200742116968653,
          -0.7129415168181875,
          -0.44188757928112904,
          3.5061225729394834,
          -0.48365529838350285,
          0.09783218038002926,
          1.4577512305513558,
          0.036503672104812285,
          1.6157315712246738,
          0.34311746110657376,
          0.531373414113734,
          -0.7186086927412191,
          1.956762618943234,
          -0.06307785143259939,
          0.18422454988996845,
          -0.8828271943787102,
          -0.7819307241118907,
          -0.4712984396735526,
          0.8208067834200556,
          -0.9535656763785126,
          0.6172811281139772,
          0.38806297663784844,
          0.21969028658437853,
          0.5142512913421163,
          0.3040997986323465,
          0.28940893588859046,
          0.39912893114064507,
          0.8522015383297381,
          0.766249213069548
         ],
         "yaxis": "y2"
        },
        {
         "line": {
          "color": "rgba(128, 128, 128, 1.0)",
          "dash": "solid",
          "shape": "linear",
          "width": 1.3
         },
         "marker": {
          "size": 2,
          "symbol": "circle"
         },
         "mode": "markers",
         "name": "A",
         "text": "",
         "type": "scatter",
         "x": [
          0.1426936499011667,
          0.6743863824468715,
          -1.9159042047040724,
          0.12701611366523768,
          0.5636280465689022,
          0.2653262616821967,
          -0.5830900218537203,
          1.6268944121439155,
          0.032134459457989054,
          0.2837070672739637,
          -0.908341131234595,
          -0.2912868176976957,
          -0.5596115261134985,
          -0.6698547775985916,
          -0.06644066405389445,
          -0.5635975064256188,
          -0.03413687986916309,
          -0.19300147898416536,
          0.3872050642817624,
          -2.1165183184615546,
          -0.6976749316032758,
          1.5783006573276834,
          -1.0984317833839843,
          0.1935586317598326,
          -2.0414514060862277,
          0.8273165865437476,
          -0.5334902768575471,
          -0.6596195709663755,
          -0.549215782627158,
          -0.5465157483350779,
          -2.2291257904849964,
          -0.8924230840343537,
          0.5864182297589924,
          -0.8774228368518772,
          1.2637792405670139,
          -1.3408252236678477,
          -0.6005444176819201,
          0.6910209001315113,
          0.030946176835107673,
          0.8317294046592685,
          -0.24226793477545702,
          -1.0751195048330666,
          1.6790089121797258,
          0.5299931706931623,
          0.9065907842791338,
          -0.9544899579816438,
          1.2784401587767251,
          0.15403433605819544,
          0.611993290038772,
          -0.7559634279957641,
          0.08819990722390152,
          -1.056055039049362,
          2.0027716806468785,
          -1.9615720122189535,
          -0.17513402898714328,
          -0.4798872243484583,
          -2.4508266457656,
          -0.33884412615446186,
          -2.019978178352013,
          -0.7290974754166974,
          -1.347793986082597,
          2.1398770557429487,
          0.16040455572132187,
          0.06465038310874904,
          0.015294630368586389,
          -1.0890873934955765,
          1.4409058291864612,
          -1.371518717484521,
          1.3071811967033915,
          1.3904478393949753,
          -2.0037227249117553,
          0.11510825724336189,
          -0.29718611398512745,
          -0.5055331245752551,
          0.6448185869979838,
          0.1491150879202775,
          0.9985330501748927,
          1.0014419886266486,
          1.865102464507751,
          0.2286365636433252,
          -0.03550451414647598,
          -2.718717212523047,
          -0.9240701341744608,
          -0.2888760375290752,
          0.5207417218309627,
          1.1687872614974864,
          0.2565814315959523,
          -0.18066310467005145,
          0.06308409801663467,
          -0.7123126172355311,
          -1.0368383000789096,
          0.27498166815858444,
          -1.140923803902282,
          -1.525816700957253,
          0.21746655202661985,
          0.052356171907522044,
          -0.49939185897760346,
          0.13609632242732642,
          -0.28894964323218236,
          0.08729029057194035
         ],
         "xaxis": "x3",
         "y": [
          -1.228210303840886,
          0.673718637442548,
          -0.6359991664128826,
          -0.23262448905478936,
          -0.4652684818242084,
          0.09112090769390506,
          1.1202307162460101,
          -0.913002197072858,
          -1.7866033041530176,
          -1.1819664154244243,
          -2.2518992211992668,
          1.6419723454475943,
          -0.5049024421225882,
          -0.8316433290825647,
          -1.9026947938151906,
          0.9529643236956478,
          0.8424279826802521,
          0.6496949082875334,
          -1.2710369557178685,
          0.6744304243539521,
          0.27031806004342473,
          -0.6151995848966308,
          1.286999400136683,
          2.754225637025308,
          -0.8685563696172357,
          -0.37270596578089227,
          0.21656933195695277,
          0.3299593481685292,
          -0.38976956152955244,
          0.7899141331885607,
          -0.15232135255386411,
          -0.3278732576519635,
          -0.1714780618959102,
          0.24585193839195518,
          -0.520103537564345,
          0.9423867963175877,
          0.6998506662177038,
          2.9565000032387485,
          -0.16771290225752722,
          -0.8565644599372393,
          1.9093025443891725,
          -0.6065596660356215,
          1.5561398386580072,
          -1.6604273958353217,
          0.29570532237337854,
          -0.30655930240007645,
          0.5629765465472392,
          -1.1157754639387614,
          -0.22955196345192624,
          -2.0050583424582227,
          0.11713750696332578,
          2.8267139655873303,
          0.46332154157231764,
          0.8913848873219073,
          -0.27625761399056287,
          0.17061072015134288,
          0.01247361244100639,
          -1.1868120197940502,
          -0.1768842533262507,
          0.3980979509622024,
          1.7637268334097294,
          0.9632004046301621,
          -0.174102504451404,
          -1.02063042523494,
          1.678577707560514,
          2.061538374722697,
          -0.01891713764992838,
          -0.34503079589422914,
          -0.8918084865031932,
          -0.7260269927380488,
          0.49049384129362483,
          -1.7200742116968653,
          -0.7129415168181875,
          -0.44188757928112904,
          3.5061225729394834,
          -0.48365529838350285,
          0.09783218038002926,
          1.4577512305513558,
          0.036503672104812285,
          1.6157315712246738,
          0.34311746110657376,
          0.531373414113734,
          -0.7186086927412191,
          1.956762618943234,
          -0.06307785143259939,
          0.18422454988996845,
          -0.8828271943787102,
          -0.7819307241118907,
          -0.4712984396735526,
          0.8208067834200556,
          -0.9535656763785126,
          0.6172811281139772,
          0.38806297663784844,
          0.21969028658437853,
          0.5142512913421163,
          0.3040997986323465,
          0.28940893588859046,
          0.39912893114064507,
          0.8522015383297381,
          0.766249213069548
         ],
         "yaxis": "y3"
        },
        {
         "line": {
          "color": "rgba(128, 128, 128, 1.0)",
          "dash": "solid",
          "shape": "linear",
          "width": 1.3
         },
         "marker": {
          "size": 2,
          "symbol": "circle"
         },
         "mode": "markers",
         "name": "A",
         "text": "",
         "type": "scatter",
         "x": [
          0.6106487369671837,
          -0.5580959391359147,
          -0.40383476919477296,
          0.11125072387168945,
          1.914679797928206,
          -0.5794917293571655,
          0.2802186585460156,
          -0.48119536467688356,
          1.549222235085247,
          -0.761040886666783,
          -0.2042886730218136,
          -0.14071286229645755,
          -0.08572931138786967,
          -0.4342450052527491,
          0.8159473114893341,
          1.5181456675065004,
          -0.2591638049954156,
          1.4637550557367995,
          -0.8259681604858221,
          -0.878102167941134,
          -2.1062948243645536,
          -0.3254887503171195,
          -0.07034230093754808,
          -0.44464327812496063,
          1.961675856334788,
          0.24629335711581235,
          0.09799551611645173,
          0.19159035994880308,
          -1.0156074997556654,
          1.2806421125844174,
          0.1304788681345427,
          0.1206976944051949,
          -0.48836243352088493,
          2.802032607444495,
          0.9992093115241782,
          -0.7896734382539464,
          0.42162329356356454,
          0.014579143845804126,
          -0.4652716694577242,
          0.3454690258598138,
          0.6454479664922625,
          0.5927360716174458,
          -1.1091587246321357,
          -0.3763966436874311,
          -0.4723404843015961,
          1.6296431854939475,
          -1.2247809594359418,
          -0.9550425500787262,
          0.2789136570555125,
          -0.5729846821735802,
          -0.026253713718288375,
          0.725066652097282,
          0.6902230007349073,
          0.9811932312461932,
          1.9688012226230052,
          -0.13927462217851405,
          -0.5123803245556551,
          0.7056350323843916,
          -0.5720206839257674,
          -2.0999560084539954,
          0.28156143554830015,
          1.0747977797889474,
          -1.158658136514488,
          0.529537528312165,
          -0.11214529017336296,
          -0.4160977828350819,
          -1.0674672412849793,
          -0.2449859194432744,
          -0.6128110114858487,
          1.9448518050754133,
          -1.783138151347126,
          -0.6752860083341697,
          0.7022789401239837,
          -1.835524755070365,
          -0.313253458096198,
          -0.45099788556239573,
          -0.28857769772700764,
          -0.1892423501615623,
          -0.24688173949758832,
          0.13424524754480605,
          0.05797104701583112,
          0.09660484893958388,
          -1.3095879709172507,
          0.24754957486710374,
          1.9569210065511524,
          2.0954909828936454,
          2.2068872058371127,
          -1.8935847994034554,
          -1.9658707145920777,
          -1.0564378775196899,
          1.4874017864180422,
          0.17280821165585758,
          0.37644056131981074,
          0.2340871273662667,
          -1.0632261061039,
          0.5540872350959097,
          -1.007909624391688,
          0.6562083549945321,
          -0.08960169518516971,
          0.11316995519037891
         ],
         "xaxis": "x4",
         "y": [
          -1.228210303840886,
          0.673718637442548,
          -0.6359991664128826,
          -0.23262448905478936,
          -0.4652684818242084,
          0.09112090769390506,
          1.1202307162460101,
          -0.913002197072858,
          -1.7866033041530176,
          -1.1819664154244243,
          -2.2518992211992668,
          1.6419723454475943,
          -0.5049024421225882,
          -0.8316433290825647,
          -1.9026947938151906,
          0.9529643236956478,
          0.8424279826802521,
          0.6496949082875334,
          -1.2710369557178685,
          0.6744304243539521,
          0.27031806004342473,
          -0.6151995848966308,
          1.286999400136683,
          2.754225637025308,
          -0.8685563696172357,
          -0.37270596578089227,
          0.21656933195695277,
          0.3299593481685292,
          -0.38976956152955244,
          0.7899141331885607,
          -0.15232135255386411,
          -0.3278732576519635,
          -0.1714780618959102,
          0.24585193839195518,
          -0.520103537564345,
          0.9423867963175877,
          0.6998506662177038,
          2.9565000032387485,
          -0.16771290225752722,
          -0.8565644599372393,
          1.9093025443891725,
          -0.6065596660356215,
          1.5561398386580072,
          -1.6604273958353217,
          0.29570532237337854,
          -0.30655930240007645,
          0.5629765465472392,
          -1.1157754639387614,
          -0.22955196345192624,
          -2.0050583424582227,
          0.11713750696332578,
          2.8267139655873303,
          0.46332154157231764,
          0.8913848873219073,
          -0.27625761399056287,
          0.17061072015134288,
          0.01247361244100639,
          -1.1868120197940502,
          -0.1768842533262507,
          0.3980979509622024,
          1.7637268334097294,
          0.9632004046301621,
          -0.174102504451404,
          -1.02063042523494,
          1.678577707560514,
          2.061538374722697,
          -0.01891713764992838,
          -0.34503079589422914,
          -0.8918084865031932,
          -0.7260269927380488,
          0.49049384129362483,
          -1.7200742116968653,
          -0.7129415168181875,
          -0.44188757928112904,
          3.5061225729394834,
          -0.48365529838350285,
          0.09783218038002926,
          1.4577512305513558,
          0.036503672104812285,
          1.6157315712246738,
          0.34311746110657376,
          0.531373414113734,
          -0.7186086927412191,
          1.956762618943234,
          -0.06307785143259939,
          0.18422454988996845,
          -0.8828271943787102,
          -0.7819307241118907,
          -0.4712984396735526,
          0.8208067834200556,
          -0.9535656763785126,
          0.6172811281139772,
          0.38806297663784844,
          0.21969028658437853,
          0.5142512913421163,
          0.3040997986323465,
          0.28940893588859046,
          0.39912893114064507,
          0.8522015383297381,
          0.766249213069548
         ],
         "yaxis": "y4"
        },
        {
         "line": {
          "color": "rgba(128, 128, 128, 1.0)",
          "dash": "solid",
          "shape": "linear",
          "width": 1.3
         },
         "marker": {
          "size": 2,
          "symbol": "circle"
         },
         "mode": "markers",
         "name": "B",
         "text": "",
         "type": "scatter",
         "x": [
          -1.228210303840886,
          0.673718637442548,
          -0.6359991664128826,
          -0.23262448905478936,
          -0.4652684818242084,
          0.09112090769390506,
          1.1202307162460101,
          -0.913002197072858,
          -1.7866033041530176,
          -1.1819664154244243,
          -2.2518992211992668,
          1.6419723454475943,
          -0.5049024421225882,
          -0.8316433290825647,
          -1.9026947938151906,
          0.9529643236956478,
          0.8424279826802521,
          0.6496949082875334,
          -1.2710369557178685,
          0.6744304243539521,
          0.27031806004342473,
          -0.6151995848966308,
          1.286999400136683,
          2.754225637025308,
          -0.8685563696172357,
          -0.37270596578089227,
          0.21656933195695277,
          0.3299593481685292,
          -0.38976956152955244,
          0.7899141331885607,
          -0.15232135255386411,
          -0.3278732576519635,
          -0.1714780618959102,
          0.24585193839195518,
          -0.520103537564345,
          0.9423867963175877,
          0.6998506662177038,
          2.9565000032387485,
          -0.16771290225752722,
          -0.8565644599372393,
          1.9093025443891725,
          -0.6065596660356215,
          1.5561398386580072,
          -1.6604273958353217,
          0.29570532237337854,
          -0.30655930240007645,
          0.5629765465472392,
          -1.1157754639387614,
          -0.22955196345192624,
          -2.0050583424582227,
          0.11713750696332578,
          2.8267139655873303,
          0.46332154157231764,
          0.8913848873219073,
          -0.27625761399056287,
          0.17061072015134288,
          0.01247361244100639,
          -1.1868120197940502,
          -0.1768842533262507,
          0.3980979509622024,
          1.7637268334097294,
          0.9632004046301621,
          -0.174102504451404,
          -1.02063042523494,
          1.678577707560514,
          2.061538374722697,
          -0.01891713764992838,
          -0.34503079589422914,
          -0.8918084865031932,
          -0.7260269927380488,
          0.49049384129362483,
          -1.7200742116968653,
          -0.7129415168181875,
          -0.44188757928112904,
          3.5061225729394834,
          -0.48365529838350285,
          0.09783218038002926,
          1.4577512305513558,
          0.036503672104812285,
          1.6157315712246738,
          0.34311746110657376,
          0.531373414113734,
          -0.7186086927412191,
          1.956762618943234,
          -0.06307785143259939,
          0.18422454988996845,
          -0.8828271943787102,
          -0.7819307241118907,
          -0.4712984396735526,
          0.8208067834200556,
          -0.9535656763785126,
          0.6172811281139772,
          0.38806297663784844,
          0.21969028658437853,
          0.5142512913421163,
          0.3040997986323465,
          0.28940893588859046,
          0.39912893114064507,
          0.8522015383297381,
          0.766249213069548
         ],
         "xaxis": "x5",
         "y": [
          -0.9410992898133941,
          0.7403709673795416,
          -0.3681996600834796,
          0.0991597200760194,
          -1.6825783826168605,
          -0.6208141494578543,
          -1.2271159557122688,
          -0.8033660807642069,
          0.8468097288813591,
          0.1722880167006293,
          -0.6637349467662795,
          -1.1017957408634886,
          0.78893110183799,
          0.5052234648355544,
          -0.5183463996216997,
          -0.13014575030713596,
          -2.1173663052566436,
          1.0340391919026775,
          0.4758016414816595,
          1.1751249928768135,
          -0.5777840131627777,
          0.35166835742458624,
          0.4250410076349158,
          0.12956422399669026,
          -0.40001911165167875,
          0.49433210165665,
          0.9238971005402511,
          -0.7022088325329872,
          -0.6250617284042304,
          0.823798227192268,
          0.6736158408541878,
          -0.3471483746325953,
          -1.3044961423954966,
          1.2676370274998308,
          -1.3142364799225965,
          2.650935361804906,
          0.9822129709541314,
          1.9357227006820465,
          0.3703095980993604,
          -0.5530894722283664,
          -1.0407802242731543,
          -0.24484815231948331,
          1.7030276075455875,
          0.4806778126836462,
          0.6063504773432427,
          0.19814079912786253,
          -0.28845578570720243,
          0.336187104999158,
          0.8742807414259941,
          -0.7787074869262802,
          0.5468775255294299,
          -0.723845204414693,
          0.008127763819823951,
          0.34186476255512704,
          0.2639769485027573,
          -1.8208409662925802,
          0.24074451187422571,
          0.5562452782986852,
          -0.5824077840268167,
          0.17050183300365282,
          0.42085884285977426,
          -0.8692661641636048,
          -0.9723993347465054,
          0.5395347413629555,
          -1.144824452521687,
          -1.5581534101688002,
          -1.6729339246680435,
          -2.2056076136021434,
          1.103355797338571,
          0.7678907038054802,
          -0.5151607726764834,
          -0.6475275993757056,
          -1.0082785648677384,
          1.5260113519881962,
          -0.0076054176697331385,
          -0.8379869596906585,
          -0.8532996052463981,
          0.520857662239727,
          -1.1507840593174075,
          0.13138500423423757,
          1.766428276090597,
          0.6509203417858905,
          1.290169264557484,
          0.461245786964094,
          0.381986938073141,
          0.7753138167975542,
          0.8672473904523145,
          0.18973725833913044,
          0.040801741645153794,
          -1.391900776067866,
          -0.6712369302438657,
          -0.04660937009967414,
          -1.1372146461701285,
          0.370270983375189,
          0.5796009309658001,
          -1.4386684202941982,
          -1.319559175894388,
          -0.5188624577046717,
          -1.050562091557685,
          1.988326116952474
         ],
         "yaxis": "y5"
        },
        {
         "histfunc": "count",
         "histnorm": "",
         "marker": {
          "color": "rgba(55, 128, 191, 1.0)",
          "line": {
           "color": "#4D5663",
           "width": 1.3
          }
         },
         "name": "B",
         "nbinsx": 10,
         "opacity": 0.8,
         "orientation": "v",
         "type": "histogram",
         "x": [
          -0.9410992898133941,
          0.7403709673795416,
          -0.3681996600834796,
          0.0991597200760194,
          -1.6825783826168605,
          -0.6208141494578543,
          -1.2271159557122688,
          -0.8033660807642069,
          0.8468097288813591,
          0.1722880167006293,
          -0.6637349467662795,
          -1.1017957408634886,
          0.78893110183799,
          0.5052234648355544,
          -0.5183463996216997,
          -0.13014575030713596,
          -2.1173663052566436,
          1.0340391919026775,
          0.4758016414816595,
          1.1751249928768135,
          -0.5777840131627777,
          0.35166835742458624,
          0.4250410076349158,
          0.12956422399669026,
          -0.40001911165167875,
          0.49433210165665,
          0.9238971005402511,
          -0.7022088325329872,
          -0.6250617284042304,
          0.823798227192268,
          0.6736158408541878,
          -0.3471483746325953,
          -1.3044961423954966,
          1.2676370274998308,
          -1.3142364799225965,
          2.650935361804906,
          0.9822129709541314,
          1.9357227006820465,
          0.3703095980993604,
          -0.5530894722283664,
          -1.0407802242731543,
          -0.24484815231948331,
          1.7030276075455875,
          0.4806778126836462,
          0.6063504773432427,
          0.19814079912786253,
          -0.28845578570720243,
          0.336187104999158,
          0.8742807414259941,
          -0.7787074869262802,
          0.5468775255294299,
          -0.723845204414693,
          0.008127763819823951,
          0.34186476255512704,
          0.2639769485027573,
          -1.8208409662925802,
          0.24074451187422571,
          0.5562452782986852,
          -0.5824077840268167,
          0.17050183300365282,
          0.42085884285977426,
          -0.8692661641636048,
          -0.9723993347465054,
          0.5395347413629555,
          -1.144824452521687,
          -1.5581534101688002,
          -1.6729339246680435,
          -2.2056076136021434,
          1.103355797338571,
          0.7678907038054802,
          -0.5151607726764834,
          -0.6475275993757056,
          -1.0082785648677384,
          1.5260113519881962,
          -0.0076054176697331385,
          -0.8379869596906585,
          -0.8532996052463981,
          0.520857662239727,
          -1.1507840593174075,
          0.13138500423423757,
          1.766428276090597,
          0.6509203417858905,
          1.290169264557484,
          0.461245786964094,
          0.381986938073141,
          0.7753138167975542,
          0.8672473904523145,
          0.18973725833913044,
          0.040801741645153794,
          -1.391900776067866,
          -0.6712369302438657,
          -0.04660937009967414,
          -1.1372146461701285,
          0.370270983375189,
          0.5796009309658001,
          -1.4386684202941982,
          -1.319559175894388,
          -0.5188624577046717,
          -1.050562091557685,
          1.988326116952474
         ],
         "xaxis": "x6",
         "yaxis": "y6"
        },
        {
         "line": {
          "color": "rgba(128, 128, 128, 1.0)",
          "dash": "solid",
          "shape": "linear",
          "width": 1.3
         },
         "marker": {
          "size": 2,
          "symbol": "circle"
         },
         "mode": "markers",
         "name": "B",
         "text": "",
         "type": "scatter",
         "x": [
          0.1426936499011667,
          0.6743863824468715,
          -1.9159042047040724,
          0.12701611366523768,
          0.5636280465689022,
          0.2653262616821967,
          -0.5830900218537203,
          1.6268944121439155,
          0.032134459457989054,
          0.2837070672739637,
          -0.908341131234595,
          -0.2912868176976957,
          -0.5596115261134985,
          -0.6698547775985916,
          -0.06644066405389445,
          -0.5635975064256188,
          -0.03413687986916309,
          -0.19300147898416536,
          0.3872050642817624,
          -2.1165183184615546,
          -0.6976749316032758,
          1.5783006573276834,
          -1.0984317833839843,
          0.1935586317598326,
          -2.0414514060862277,
          0.8273165865437476,
          -0.5334902768575471,
          -0.6596195709663755,
          -0.549215782627158,
          -0.5465157483350779,
          -2.2291257904849964,
          -0.8924230840343537,
          0.5864182297589924,
          -0.8774228368518772,
          1.2637792405670139,
          -1.3408252236678477,
          -0.6005444176819201,
          0.6910209001315113,
          0.030946176835107673,
          0.8317294046592685,
          -0.24226793477545702,
          -1.0751195048330666,
          1.6790089121797258,
          0.5299931706931623,
          0.9065907842791338,
          -0.9544899579816438,
          1.2784401587767251,
          0.15403433605819544,
          0.611993290038772,
          -0.7559634279957641,
          0.08819990722390152,
          -1.056055039049362,
          2.0027716806468785,
          -1.9615720122189535,
          -0.17513402898714328,
          -0.4798872243484583,
          -2.4508266457656,
          -0.33884412615446186,
          -2.019978178352013,
          -0.7290974754166974,
          -1.347793986082597,
          2.1398770557429487,
          0.16040455572132187,
          0.06465038310874904,
          0.015294630368586389,
          -1.0890873934955765,
          1.4409058291864612,
          -1.371518717484521,
          1.3071811967033915,
          1.3904478393949753,
          -2.0037227249117553,
          0.11510825724336189,
          -0.29718611398512745,
          -0.5055331245752551,
          0.6448185869979838,
          0.1491150879202775,
          0.9985330501748927,
          1.0014419886266486,
          1.865102464507751,
          0.2286365636433252,
          -0.03550451414647598,
          -2.718717212523047,
          -0.9240701341744608,
          -0.2888760375290752,
          0.5207417218309627,
          1.1687872614974864,
          0.2565814315959523,
          -0.18066310467005145,
          0.06308409801663467,
          -0.7123126172355311,
          -1.0368383000789096,
          0.27498166815858444,
          -1.140923803902282,
          -1.525816700957253,
          0.21746655202661985,
          0.052356171907522044,
          -0.49939185897760346,
          0.13609632242732642,
          -0.28894964323218236,
          0.08729029057194035
         ],
         "xaxis": "x7",
         "y": [
          -0.9410992898133941,
          0.7403709673795416,
          -0.3681996600834796,
          0.0991597200760194,
          -1.6825783826168605,
          -0.6208141494578543,
          -1.2271159557122688,
          -0.8033660807642069,
          0.8468097288813591,
          0.1722880167006293,
          -0.6637349467662795,
          -1.1017957408634886,
          0.78893110183799,
          0.5052234648355544,
          -0.5183463996216997,
          -0.13014575030713596,
          -2.1173663052566436,
          1.0340391919026775,
          0.4758016414816595,
          1.1751249928768135,
          -0.5777840131627777,
          0.35166835742458624,
          0.4250410076349158,
          0.12956422399669026,
          -0.40001911165167875,
          0.49433210165665,
          0.9238971005402511,
          -0.7022088325329872,
          -0.6250617284042304,
          0.823798227192268,
          0.6736158408541878,
          -0.3471483746325953,
          -1.3044961423954966,
          1.2676370274998308,
          -1.3142364799225965,
          2.650935361804906,
          0.9822129709541314,
          1.9357227006820465,
          0.3703095980993604,
          -0.5530894722283664,
          -1.0407802242731543,
          -0.24484815231948331,
          1.7030276075455875,
          0.4806778126836462,
          0.6063504773432427,
          0.19814079912786253,
          -0.28845578570720243,
          0.336187104999158,
          0.8742807414259941,
          -0.7787074869262802,
          0.5468775255294299,
          -0.723845204414693,
          0.008127763819823951,
          0.34186476255512704,
          0.2639769485027573,
          -1.8208409662925802,
          0.24074451187422571,
          0.5562452782986852,
          -0.5824077840268167,
          0.17050183300365282,
          0.42085884285977426,
          -0.8692661641636048,
          -0.9723993347465054,
          0.5395347413629555,
          -1.144824452521687,
          -1.5581534101688002,
          -1.6729339246680435,
          -2.2056076136021434,
          1.103355797338571,
          0.7678907038054802,
          -0.5151607726764834,
          -0.6475275993757056,
          -1.0082785648677384,
          1.5260113519881962,
          -0.0076054176697331385,
          -0.8379869596906585,
          -0.8532996052463981,
          0.520857662239727,
          -1.1507840593174075,
          0.13138500423423757,
          1.766428276090597,
          0.6509203417858905,
          1.290169264557484,
          0.461245786964094,
          0.381986938073141,
          0.7753138167975542,
          0.8672473904523145,
          0.18973725833913044,
          0.040801741645153794,
          -1.391900776067866,
          -0.6712369302438657,
          -0.04660937009967414,
          -1.1372146461701285,
          0.370270983375189,
          0.5796009309658001,
          -1.4386684202941982,
          -1.319559175894388,
          -0.5188624577046717,
          -1.050562091557685,
          1.988326116952474
         ],
         "yaxis": "y7"
        },
        {
         "line": {
          "color": "rgba(128, 128, 128, 1.0)",
          "dash": "solid",
          "shape": "linear",
          "width": 1.3
         },
         "marker": {
          "size": 2,
          "symbol": "circle"
         },
         "mode": "markers",
         "name": "B",
         "text": "",
         "type": "scatter",
         "x": [
          0.6106487369671837,
          -0.5580959391359147,
          -0.40383476919477296,
          0.11125072387168945,
          1.914679797928206,
          -0.5794917293571655,
          0.2802186585460156,
          -0.48119536467688356,
          1.549222235085247,
          -0.761040886666783,
          -0.2042886730218136,
          -0.14071286229645755,
          -0.08572931138786967,
          -0.4342450052527491,
          0.8159473114893341,
          1.5181456675065004,
          -0.2591638049954156,
          1.4637550557367995,
          -0.8259681604858221,
          -0.878102167941134,
          -2.1062948243645536,
          -0.3254887503171195,
          -0.07034230093754808,
          -0.44464327812496063,
          1.961675856334788,
          0.24629335711581235,
          0.09799551611645173,
          0.19159035994880308,
          -1.0156074997556654,
          1.2806421125844174,
          0.1304788681345427,
          0.1206976944051949,
          -0.48836243352088493,
          2.802032607444495,
          0.9992093115241782,
          -0.7896734382539464,
          0.42162329356356454,
          0.014579143845804126,
          -0.4652716694577242,
          0.3454690258598138,
          0.6454479664922625,
          0.5927360716174458,
          -1.1091587246321357,
          -0.3763966436874311,
          -0.4723404843015961,
          1.6296431854939475,
          -1.2247809594359418,
          -0.9550425500787262,
          0.2789136570555125,
          -0.5729846821735802,
          -0.026253713718288375,
          0.725066652097282,
          0.6902230007349073,
          0.9811932312461932,
          1.9688012226230052,
          -0.13927462217851405,
          -0.5123803245556551,
          0.7056350323843916,
          -0.5720206839257674,
          -2.0999560084539954,
          0.28156143554830015,
          1.0747977797889474,
          -1.158658136514488,
          0.529537528312165,
          -0.11214529017336296,
          -0.4160977828350819,
          -1.0674672412849793,
          -0.2449859194432744,
          -0.6128110114858487,
          1.9448518050754133,
          -1.783138151347126,
          -0.6752860083341697,
          0.7022789401239837,
          -1.835524755070365,
          -0.313253458096198,
          -0.45099788556239573,
          -0.28857769772700764,
          -0.1892423501615623,
          -0.24688173949758832,
          0.13424524754480605,
          0.05797104701583112,
          0.09660484893958388,
          -1.3095879709172507,
          0.24754957486710374,
          1.9569210065511524,
          2.0954909828936454,
          2.2068872058371127,
          -1.8935847994034554,
          -1.9658707145920777,
          -1.0564378775196899,
          1.4874017864180422,
          0.17280821165585758,
          0.37644056131981074,
          0.2340871273662667,
          -1.0632261061039,
          0.5540872350959097,
          -1.007909624391688,
          0.6562083549945321,
          -0.08960169518516971,
          0.11316995519037891
         ],
         "xaxis": "x8",
         "y": [
          -0.9410992898133941,
          0.7403709673795416,
          -0.3681996600834796,
          0.0991597200760194,
          -1.6825783826168605,
          -0.6208141494578543,
          -1.2271159557122688,
          -0.8033660807642069,
          0.8468097288813591,
          0.1722880167006293,
          -0.6637349467662795,
          -1.1017957408634886,
          0.78893110183799,
          0.5052234648355544,
          -0.5183463996216997,
          -0.13014575030713596,
          -2.1173663052566436,
          1.0340391919026775,
          0.4758016414816595,
          1.1751249928768135,
          -0.5777840131627777,
          0.35166835742458624,
          0.4250410076349158,
          0.12956422399669026,
          -0.40001911165167875,
          0.49433210165665,
          0.9238971005402511,
          -0.7022088325329872,
          -0.6250617284042304,
          0.823798227192268,
          0.6736158408541878,
          -0.3471483746325953,
          -1.3044961423954966,
          1.2676370274998308,
          -1.3142364799225965,
          2.650935361804906,
          0.9822129709541314,
          1.9357227006820465,
          0.3703095980993604,
          -0.5530894722283664,
          -1.0407802242731543,
          -0.24484815231948331,
          1.7030276075455875,
          0.4806778126836462,
          0.6063504773432427,
          0.19814079912786253,
          -0.28845578570720243,
          0.336187104999158,
          0.8742807414259941,
          -0.7787074869262802,
          0.5468775255294299,
          -0.723845204414693,
          0.008127763819823951,
          0.34186476255512704,
          0.2639769485027573,
          -1.8208409662925802,
          0.24074451187422571,
          0.5562452782986852,
          -0.5824077840268167,
          0.17050183300365282,
          0.42085884285977426,
          -0.8692661641636048,
          -0.9723993347465054,
          0.5395347413629555,
          -1.144824452521687,
          -1.5581534101688002,
          -1.6729339246680435,
          -2.2056076136021434,
          1.103355797338571,
          0.7678907038054802,
          -0.5151607726764834,
          -0.6475275993757056,
          -1.0082785648677384,
          1.5260113519881962,
          -0.0076054176697331385,
          -0.8379869596906585,
          -0.8532996052463981,
          0.520857662239727,
          -1.1507840593174075,
          0.13138500423423757,
          1.766428276090597,
          0.6509203417858905,
          1.290169264557484,
          0.461245786964094,
          0.381986938073141,
          0.7753138167975542,
          0.8672473904523145,
          0.18973725833913044,
          0.040801741645153794,
          -1.391900776067866,
          -0.6712369302438657,
          -0.04660937009967414,
          -1.1372146461701285,
          0.370270983375189,
          0.5796009309658001,
          -1.4386684202941982,
          -1.319559175894388,
          -0.5188624577046717,
          -1.050562091557685,
          1.988326116952474
         ],
         "yaxis": "y8"
        },
        {
         "line": {
          "color": "rgba(128, 128, 128, 1.0)",
          "dash": "solid",
          "shape": "linear",
          "width": 1.3
         },
         "marker": {
          "size": 2,
          "symbol": "circle"
         },
         "mode": "markers",
         "name": "C",
         "text": "",
         "type": "scatter",
         "x": [
          -1.228210303840886,
          0.673718637442548,
          -0.6359991664128826,
          -0.23262448905478936,
          -0.4652684818242084,
          0.09112090769390506,
          1.1202307162460101,
          -0.913002197072858,
          -1.7866033041530176,
          -1.1819664154244243,
          -2.2518992211992668,
          1.6419723454475943,
          -0.5049024421225882,
          -0.8316433290825647,
          -1.9026947938151906,
          0.9529643236956478,
          0.8424279826802521,
          0.6496949082875334,
          -1.2710369557178685,
          0.6744304243539521,
          0.27031806004342473,
          -0.6151995848966308,
          1.286999400136683,
          2.754225637025308,
          -0.8685563696172357,
          -0.37270596578089227,
          0.21656933195695277,
          0.3299593481685292,
          -0.38976956152955244,
          0.7899141331885607,
          -0.15232135255386411,
          -0.3278732576519635,
          -0.1714780618959102,
          0.24585193839195518,
          -0.520103537564345,
          0.9423867963175877,
          0.6998506662177038,
          2.9565000032387485,
          -0.16771290225752722,
          -0.8565644599372393,
          1.9093025443891725,
          -0.6065596660356215,
          1.5561398386580072,
          -1.6604273958353217,
          0.29570532237337854,
          -0.30655930240007645,
          0.5629765465472392,
          -1.1157754639387614,
          -0.22955196345192624,
          -2.0050583424582227,
          0.11713750696332578,
          2.8267139655873303,
          0.46332154157231764,
          0.8913848873219073,
          -0.27625761399056287,
          0.17061072015134288,
          0.01247361244100639,
          -1.1868120197940502,
          -0.1768842533262507,
          0.3980979509622024,
          1.7637268334097294,
          0.9632004046301621,
          -0.174102504451404,
          -1.02063042523494,
          1.678577707560514,
          2.061538374722697,
          -0.01891713764992838,
          -0.34503079589422914,
          -0.8918084865031932,
          -0.7260269927380488,
          0.49049384129362483,
          -1.7200742116968653,
          -0.7129415168181875,
          -0.44188757928112904,
          3.5061225729394834,
          -0.48365529838350285,
          0.09783218038002926,
          1.4577512305513558,
          0.036503672104812285,
          1.6157315712246738,
          0.34311746110657376,
          0.531373414113734,
          -0.7186086927412191,
          1.956762618943234,
          -0.06307785143259939,
          0.18422454988996845,
          -0.8828271943787102,
          -0.7819307241118907,
          -0.4712984396735526,
          0.8208067834200556,
          -0.9535656763785126,
          0.6172811281139772,
          0.38806297663784844,
          0.21969028658437853,
          0.5142512913421163,
          0.3040997986323465,
          0.28940893588859046,
          0.39912893114064507,
          0.8522015383297381,
          0.766249213069548
         ],
         "xaxis": "x9",
         "y": [
          0.1426936499011667,
          0.6743863824468715,
          -1.9159042047040724,
          0.12701611366523768,
          0.5636280465689022,
          0.2653262616821967,
          -0.5830900218537203,
          1.6268944121439155,
          0.032134459457989054,
          0.2837070672739637,
          -0.908341131234595,
          -0.2912868176976957,
          -0.5596115261134985,
          -0.6698547775985916,
          -0.06644066405389445,
          -0.5635975064256188,
          -0.03413687986916309,
          -0.19300147898416536,
          0.3872050642817624,
          -2.1165183184615546,
          -0.6976749316032758,
          1.5783006573276834,
          -1.0984317833839843,
          0.1935586317598326,
          -2.0414514060862277,
          0.8273165865437476,
          -0.5334902768575471,
          -0.6596195709663755,
          -0.549215782627158,
          -0.5465157483350779,
          -2.2291257904849964,
          -0.8924230840343537,
          0.5864182297589924,
          -0.8774228368518772,
          1.2637792405670139,
          -1.3408252236678477,
          -0.6005444176819201,
          0.6910209001315113,
          0.030946176835107673,
          0.8317294046592685,
          -0.24226793477545702,
          -1.0751195048330666,
          1.6790089121797258,
          0.5299931706931623,
          0.9065907842791338,
          -0.9544899579816438,
          1.2784401587767251,
          0.15403433605819544,
          0.611993290038772,
          -0.7559634279957641,
          0.08819990722390152,
          -1.056055039049362,
          2.0027716806468785,
          -1.9615720122189535,
          -0.17513402898714328,
          -0.4798872243484583,
          -2.4508266457656,
          -0.33884412615446186,
          -2.019978178352013,
          -0.7290974754166974,
          -1.347793986082597,
          2.1398770557429487,
          0.16040455572132187,
          0.06465038310874904,
          0.015294630368586389,
          -1.0890873934955765,
          1.4409058291864612,
          -1.371518717484521,
          1.3071811967033915,
          1.3904478393949753,
          -2.0037227249117553,
          0.11510825724336189,
          -0.29718611398512745,
          -0.5055331245752551,
          0.6448185869979838,
          0.1491150879202775,
          0.9985330501748927,
          1.0014419886266486,
          1.865102464507751,
          0.2286365636433252,
          -0.03550451414647598,
          -2.718717212523047,
          -0.9240701341744608,
          -0.2888760375290752,
          0.5207417218309627,
          1.1687872614974864,
          0.2565814315959523,
          -0.18066310467005145,
          0.06308409801663467,
          -0.7123126172355311,
          -1.0368383000789096,
          0.27498166815858444,
          -1.140923803902282,
          -1.525816700957253,
          0.21746655202661985,
          0.052356171907522044,
          -0.49939185897760346,
          0.13609632242732642,
          -0.28894964323218236,
          0.08729029057194035
         ],
         "yaxis": "y9"
        },
        {
         "line": {
          "color": "rgba(128, 128, 128, 1.0)",
          "dash": "solid",
          "shape": "linear",
          "width": 1.3
         },
         "marker": {
          "size": 2,
          "symbol": "circle"
         },
         "mode": "markers",
         "name": "C",
         "text": "",
         "type": "scatter",
         "x": [
          -0.9410992898133941,
          0.7403709673795416,
          -0.3681996600834796,
          0.0991597200760194,
          -1.6825783826168605,
          -0.6208141494578543,
          -1.2271159557122688,
          -0.8033660807642069,
          0.8468097288813591,
          0.1722880167006293,
          -0.6637349467662795,
          -1.1017957408634886,
          0.78893110183799,
          0.5052234648355544,
          -0.5183463996216997,
          -0.13014575030713596,
          -2.1173663052566436,
          1.0340391919026775,
          0.4758016414816595,
          1.1751249928768135,
          -0.5777840131627777,
          0.35166835742458624,
          0.4250410076349158,
          0.12956422399669026,
          -0.40001911165167875,
          0.49433210165665,
          0.9238971005402511,
          -0.7022088325329872,
          -0.6250617284042304,
          0.823798227192268,
          0.6736158408541878,
          -0.3471483746325953,
          -1.3044961423954966,
          1.2676370274998308,
          -1.3142364799225965,
          2.650935361804906,
          0.9822129709541314,
          1.9357227006820465,
          0.3703095980993604,
          -0.5530894722283664,
          -1.0407802242731543,
          -0.24484815231948331,
          1.7030276075455875,
          0.4806778126836462,
          0.6063504773432427,
          0.19814079912786253,
          -0.28845578570720243,
          0.336187104999158,
          0.8742807414259941,
          -0.7787074869262802,
          0.5468775255294299,
          -0.723845204414693,
          0.008127763819823951,
          0.34186476255512704,
          0.2639769485027573,
          -1.8208409662925802,
          0.24074451187422571,
          0.5562452782986852,
          -0.5824077840268167,
          0.17050183300365282,
          0.42085884285977426,
          -0.8692661641636048,
          -0.9723993347465054,
          0.5395347413629555,
          -1.144824452521687,
          -1.5581534101688002,
          -1.6729339246680435,
          -2.2056076136021434,
          1.103355797338571,
          0.7678907038054802,
          -0.5151607726764834,
          -0.6475275993757056,
          -1.0082785648677384,
          1.5260113519881962,
          -0.0076054176697331385,
          -0.8379869596906585,
          -0.8532996052463981,
          0.520857662239727,
          -1.1507840593174075,
          0.13138500423423757,
          1.766428276090597,
          0.6509203417858905,
          1.290169264557484,
          0.461245786964094,
          0.381986938073141,
          0.7753138167975542,
          0.8672473904523145,
          0.18973725833913044,
          0.040801741645153794,
          -1.391900776067866,
          -0.6712369302438657,
          -0.04660937009967414,
          -1.1372146461701285,
          0.370270983375189,
          0.5796009309658001,
          -1.4386684202941982,
          -1.319559175894388,
          -0.5188624577046717,
          -1.050562091557685,
          1.988326116952474
         ],
         "xaxis": "x10",
         "y": [
          0.1426936499011667,
          0.6743863824468715,
          -1.9159042047040724,
          0.12701611366523768,
          0.5636280465689022,
          0.2653262616821967,
          -0.5830900218537203,
          1.6268944121439155,
          0.032134459457989054,
          0.2837070672739637,
          -0.908341131234595,
          -0.2912868176976957,
          -0.5596115261134985,
          -0.6698547775985916,
          -0.06644066405389445,
          -0.5635975064256188,
          -0.03413687986916309,
          -0.19300147898416536,
          0.3872050642817624,
          -2.1165183184615546,
          -0.6976749316032758,
          1.5783006573276834,
          -1.0984317833839843,
          0.1935586317598326,
          -2.0414514060862277,
          0.8273165865437476,
          -0.5334902768575471,
          -0.6596195709663755,
          -0.549215782627158,
          -0.5465157483350779,
          -2.2291257904849964,
          -0.8924230840343537,
          0.5864182297589924,
          -0.8774228368518772,
          1.2637792405670139,
          -1.3408252236678477,
          -0.6005444176819201,
          0.6910209001315113,
          0.030946176835107673,
          0.8317294046592685,
          -0.24226793477545702,
          -1.0751195048330666,
          1.6790089121797258,
          0.5299931706931623,
          0.9065907842791338,
          -0.9544899579816438,
          1.2784401587767251,
          0.15403433605819544,
          0.611993290038772,
          -0.7559634279957641,
          0.08819990722390152,
          -1.056055039049362,
          2.0027716806468785,
          -1.9615720122189535,
          -0.17513402898714328,
          -0.4798872243484583,
          -2.4508266457656,
          -0.33884412615446186,
          -2.019978178352013,
          -0.7290974754166974,
          -1.347793986082597,
          2.1398770557429487,
          0.16040455572132187,
          0.06465038310874904,
          0.015294630368586389,
          -1.0890873934955765,
          1.4409058291864612,
          -1.371518717484521,
          1.3071811967033915,
          1.3904478393949753,
          -2.0037227249117553,
          0.11510825724336189,
          -0.29718611398512745,
          -0.5055331245752551,
          0.6448185869979838,
          0.1491150879202775,
          0.9985330501748927,
          1.0014419886266486,
          1.865102464507751,
          0.2286365636433252,
          -0.03550451414647598,
          -2.718717212523047,
          -0.9240701341744608,
          -0.2888760375290752,
          0.5207417218309627,
          1.1687872614974864,
          0.2565814315959523,
          -0.18066310467005145,
          0.06308409801663467,
          -0.7123126172355311,
          -1.0368383000789096,
          0.27498166815858444,
          -1.140923803902282,
          -1.525816700957253,
          0.21746655202661985,
          0.052356171907522044,
          -0.49939185897760346,
          0.13609632242732642,
          -0.28894964323218236,
          0.08729029057194035
         ],
         "yaxis": "y10"
        },
        {
         "histfunc": "count",
         "histnorm": "",
         "marker": {
          "color": "rgba(50, 171, 96, 1.0)",
          "line": {
           "color": "#4D5663",
           "width": 1.3
          }
         },
         "name": "C",
         "nbinsx": 10,
         "opacity": 0.8,
         "orientation": "v",
         "type": "histogram",
         "x": [
          0.1426936499011667,
          0.6743863824468715,
          -1.9159042047040724,
          0.12701611366523768,
          0.5636280465689022,
          0.2653262616821967,
          -0.5830900218537203,
          1.6268944121439155,
          0.032134459457989054,
          0.2837070672739637,
          -0.908341131234595,
          -0.2912868176976957,
          -0.5596115261134985,
          -0.6698547775985916,
          -0.06644066405389445,
          -0.5635975064256188,
          -0.03413687986916309,
          -0.19300147898416536,
          0.3872050642817624,
          -2.1165183184615546,
          -0.6976749316032758,
          1.5783006573276834,
          -1.0984317833839843,
          0.1935586317598326,
          -2.0414514060862277,
          0.8273165865437476,
          -0.5334902768575471,
          -0.6596195709663755,
          -0.549215782627158,
          -0.5465157483350779,
          -2.2291257904849964,
          -0.8924230840343537,
          0.5864182297589924,
          -0.8774228368518772,
          1.2637792405670139,
          -1.3408252236678477,
          -0.6005444176819201,
          0.6910209001315113,
          0.030946176835107673,
          0.8317294046592685,
          -0.24226793477545702,
          -1.0751195048330666,
          1.6790089121797258,
          0.5299931706931623,
          0.9065907842791338,
          -0.9544899579816438,
          1.2784401587767251,
          0.15403433605819544,
          0.611993290038772,
          -0.7559634279957641,
          0.08819990722390152,
          -1.056055039049362,
          2.0027716806468785,
          -1.9615720122189535,
          -0.17513402898714328,
          -0.4798872243484583,
          -2.4508266457656,
          -0.33884412615446186,
          -2.019978178352013,
          -0.7290974754166974,
          -1.347793986082597,
          2.1398770557429487,
          0.16040455572132187,
          0.06465038310874904,
          0.015294630368586389,
          -1.0890873934955765,
          1.4409058291864612,
          -1.371518717484521,
          1.3071811967033915,
          1.3904478393949753,
          -2.0037227249117553,
          0.11510825724336189,
          -0.29718611398512745,
          -0.5055331245752551,
          0.6448185869979838,
          0.1491150879202775,
          0.9985330501748927,
          1.0014419886266486,
          1.865102464507751,
          0.2286365636433252,
          -0.03550451414647598,
          -2.718717212523047,
          -0.9240701341744608,
          -0.2888760375290752,
          0.5207417218309627,
          1.1687872614974864,
          0.2565814315959523,
          -0.18066310467005145,
          0.06308409801663467,
          -0.7123126172355311,
          -1.0368383000789096,
          0.27498166815858444,
          -1.140923803902282,
          -1.525816700957253,
          0.21746655202661985,
          0.052356171907522044,
          -0.49939185897760346,
          0.13609632242732642,
          -0.28894964323218236,
          0.08729029057194035
         ],
         "xaxis": "x11",
         "yaxis": "y11"
        },
        {
         "line": {
          "color": "rgba(128, 128, 128, 1.0)",
          "dash": "solid",
          "shape": "linear",
          "width": 1.3
         },
         "marker": {
          "size": 2,
          "symbol": "circle"
         },
         "mode": "markers",
         "name": "C",
         "text": "",
         "type": "scatter",
         "x": [
          0.6106487369671837,
          -0.5580959391359147,
          -0.40383476919477296,
          0.11125072387168945,
          1.914679797928206,
          -0.5794917293571655,
          0.2802186585460156,
          -0.48119536467688356,
          1.549222235085247,
          -0.761040886666783,
          -0.2042886730218136,
          -0.14071286229645755,
          -0.08572931138786967,
          -0.4342450052527491,
          0.8159473114893341,
          1.5181456675065004,
          -0.2591638049954156,
          1.4637550557367995,
          -0.8259681604858221,
          -0.878102167941134,
          -2.1062948243645536,
          -0.3254887503171195,
          -0.07034230093754808,
          -0.44464327812496063,
          1.961675856334788,
          0.24629335711581235,
          0.09799551611645173,
          0.19159035994880308,
          -1.0156074997556654,
          1.2806421125844174,
          0.1304788681345427,
          0.1206976944051949,
          -0.48836243352088493,
          2.802032607444495,
          0.9992093115241782,
          -0.7896734382539464,
          0.42162329356356454,
          0.014579143845804126,
          -0.4652716694577242,
          0.3454690258598138,
          0.6454479664922625,
          0.5927360716174458,
          -1.1091587246321357,
          -0.3763966436874311,
          -0.4723404843015961,
          1.6296431854939475,
          -1.2247809594359418,
          -0.9550425500787262,
          0.2789136570555125,
          -0.5729846821735802,
          -0.026253713718288375,
          0.725066652097282,
          0.6902230007349073,
          0.9811932312461932,
          1.9688012226230052,
          -0.13927462217851405,
          -0.5123803245556551,
          0.7056350323843916,
          -0.5720206839257674,
          -2.0999560084539954,
          0.28156143554830015,
          1.0747977797889474,
          -1.158658136514488,
          0.529537528312165,
          -0.11214529017336296,
          -0.4160977828350819,
          -1.0674672412849793,
          -0.2449859194432744,
          -0.6128110114858487,
          1.9448518050754133,
          -1.783138151347126,
          -0.6752860083341697,
          0.7022789401239837,
          -1.835524755070365,
          -0.313253458096198,
          -0.45099788556239573,
          -0.28857769772700764,
          -0.1892423501615623,
          -0.24688173949758832,
          0.13424524754480605,
          0.05797104701583112,
          0.09660484893958388,
          -1.3095879709172507,
          0.24754957486710374,
          1.9569210065511524,
          2.0954909828936454,
          2.2068872058371127,
          -1.8935847994034554,
          -1.9658707145920777,
          -1.0564378775196899,
          1.4874017864180422,
          0.17280821165585758,
          0.37644056131981074,
          0.2340871273662667,
          -1.0632261061039,
          0.5540872350959097,
          -1.007909624391688,
          0.6562083549945321,
          -0.08960169518516971,
          0.11316995519037891
         ],
         "xaxis": "x12",
         "y": [
          0.1426936499011667,
          0.6743863824468715,
          -1.9159042047040724,
          0.12701611366523768,
          0.5636280465689022,
          0.2653262616821967,
          -0.5830900218537203,
          1.6268944121439155,
          0.032134459457989054,
          0.2837070672739637,
          -0.908341131234595,
          -0.2912868176976957,
          -0.5596115261134985,
          -0.6698547775985916,
          -0.06644066405389445,
          -0.5635975064256188,
          -0.03413687986916309,
          -0.19300147898416536,
          0.3872050642817624,
          -2.1165183184615546,
          -0.6976749316032758,
          1.5783006573276834,
          -1.0984317833839843,
          0.1935586317598326,
          -2.0414514060862277,
          0.8273165865437476,
          -0.5334902768575471,
          -0.6596195709663755,
          -0.549215782627158,
          -0.5465157483350779,
          -2.2291257904849964,
          -0.8924230840343537,
          0.5864182297589924,
          -0.8774228368518772,
          1.2637792405670139,
          -1.3408252236678477,
          -0.6005444176819201,
          0.6910209001315113,
          0.030946176835107673,
          0.8317294046592685,
          -0.24226793477545702,
          -1.0751195048330666,
          1.6790089121797258,
          0.5299931706931623,
          0.9065907842791338,
          -0.9544899579816438,
          1.2784401587767251,
          0.15403433605819544,
          0.611993290038772,
          -0.7559634279957641,
          0.08819990722390152,
          -1.056055039049362,
          2.0027716806468785,
          -1.9615720122189535,
          -0.17513402898714328,
          -0.4798872243484583,
          -2.4508266457656,
          -0.33884412615446186,
          -2.019978178352013,
          -0.7290974754166974,
          -1.347793986082597,
          2.1398770557429487,
          0.16040455572132187,
          0.06465038310874904,
          0.015294630368586389,
          -1.0890873934955765,
          1.4409058291864612,
          -1.371518717484521,
          1.3071811967033915,
          1.3904478393949753,
          -2.0037227249117553,
          0.11510825724336189,
          -0.29718611398512745,
          -0.5055331245752551,
          0.6448185869979838,
          0.1491150879202775,
          0.9985330501748927,
          1.0014419886266486,
          1.865102464507751,
          0.2286365636433252,
          -0.03550451414647598,
          -2.718717212523047,
          -0.9240701341744608,
          -0.2888760375290752,
          0.5207417218309627,
          1.1687872614974864,
          0.2565814315959523,
          -0.18066310467005145,
          0.06308409801663467,
          -0.7123126172355311,
          -1.0368383000789096,
          0.27498166815858444,
          -1.140923803902282,
          -1.525816700957253,
          0.21746655202661985,
          0.052356171907522044,
          -0.49939185897760346,
          0.13609632242732642,
          -0.28894964323218236,
          0.08729029057194035
         ],
         "yaxis": "y12"
        },
        {
         "line": {
          "color": "rgba(128, 128, 128, 1.0)",
          "dash": "solid",
          "shape": "linear",
          "width": 1.3
         },
         "marker": {
          "size": 2,
          "symbol": "circle"
         },
         "mode": "markers",
         "name": "D",
         "text": "",
         "type": "scatter",
         "x": [
          -1.228210303840886,
          0.673718637442548,
          -0.6359991664128826,
          -0.23262448905478936,
          -0.4652684818242084,
          0.09112090769390506,
          1.1202307162460101,
          -0.913002197072858,
          -1.7866033041530176,
          -1.1819664154244243,
          -2.2518992211992668,
          1.6419723454475943,
          -0.5049024421225882,
          -0.8316433290825647,
          -1.9026947938151906,
          0.9529643236956478,
          0.8424279826802521,
          0.6496949082875334,
          -1.2710369557178685,
          0.6744304243539521,
          0.27031806004342473,
          -0.6151995848966308,
          1.286999400136683,
          2.754225637025308,
          -0.8685563696172357,
          -0.37270596578089227,
          0.21656933195695277,
          0.3299593481685292,
          -0.38976956152955244,
          0.7899141331885607,
          -0.15232135255386411,
          -0.3278732576519635,
          -0.1714780618959102,
          0.24585193839195518,
          -0.520103537564345,
          0.9423867963175877,
          0.6998506662177038,
          2.9565000032387485,
          -0.16771290225752722,
          -0.8565644599372393,
          1.9093025443891725,
          -0.6065596660356215,
          1.5561398386580072,
          -1.6604273958353217,
          0.29570532237337854,
          -0.30655930240007645,
          0.5629765465472392,
          -1.1157754639387614,
          -0.22955196345192624,
          -2.0050583424582227,
          0.11713750696332578,
          2.8267139655873303,
          0.46332154157231764,
          0.8913848873219073,
          -0.27625761399056287,
          0.17061072015134288,
          0.01247361244100639,
          -1.1868120197940502,
          -0.1768842533262507,
          0.3980979509622024,
          1.7637268334097294,
          0.9632004046301621,
          -0.174102504451404,
          -1.02063042523494,
          1.678577707560514,
          2.061538374722697,
          -0.01891713764992838,
          -0.34503079589422914,
          -0.8918084865031932,
          -0.7260269927380488,
          0.49049384129362483,
          -1.7200742116968653,
          -0.7129415168181875,
          -0.44188757928112904,
          3.5061225729394834,
          -0.48365529838350285,
          0.09783218038002926,
          1.4577512305513558,
          0.036503672104812285,
          1.6157315712246738,
          0.34311746110657376,
          0.531373414113734,
          -0.7186086927412191,
          1.956762618943234,
          -0.06307785143259939,
          0.18422454988996845,
          -0.8828271943787102,
          -0.7819307241118907,
          -0.4712984396735526,
          0.8208067834200556,
          -0.9535656763785126,
          0.6172811281139772,
          0.38806297663784844,
          0.21969028658437853,
          0.5142512913421163,
          0.3040997986323465,
          0.28940893588859046,
          0.39912893114064507,
          0.8522015383297381,
          0.766249213069548
         ],
         "xaxis": "x13",
         "y": [
          0.6106487369671837,
          -0.5580959391359147,
          -0.40383476919477296,
          0.11125072387168945,
          1.914679797928206,
          -0.5794917293571655,
          0.2802186585460156,
          -0.48119536467688356,
          1.549222235085247,
          -0.761040886666783,
          -0.2042886730218136,
          -0.14071286229645755,
          -0.08572931138786967,
          -0.4342450052527491,
          0.8159473114893341,
          1.5181456675065004,
          -0.2591638049954156,
          1.4637550557367995,
          -0.8259681604858221,
          -0.878102167941134,
          -2.1062948243645536,
          -0.3254887503171195,
          -0.07034230093754808,
          -0.44464327812496063,
          1.961675856334788,
          0.24629335711581235,
          0.09799551611645173,
          0.19159035994880308,
          -1.0156074997556654,
          1.2806421125844174,
          0.1304788681345427,
          0.1206976944051949,
          -0.48836243352088493,
          2.802032607444495,
          0.9992093115241782,
          -0.7896734382539464,
          0.42162329356356454,
          0.014579143845804126,
          -0.4652716694577242,
          0.3454690258598138,
          0.6454479664922625,
          0.5927360716174458,
          -1.1091587246321357,
          -0.3763966436874311,
          -0.4723404843015961,
          1.6296431854939475,
          -1.2247809594359418,
          -0.9550425500787262,
          0.2789136570555125,
          -0.5729846821735802,
          -0.026253713718288375,
          0.725066652097282,
          0.6902230007349073,
          0.9811932312461932,
          1.9688012226230052,
          -0.13927462217851405,
          -0.5123803245556551,
          0.7056350323843916,
          -0.5720206839257674,
          -2.0999560084539954,
          0.28156143554830015,
          1.0747977797889474,
          -1.158658136514488,
          0.529537528312165,
          -0.11214529017336296,
          -0.4160977828350819,
          -1.0674672412849793,
          -0.2449859194432744,
          -0.6128110114858487,
          1.9448518050754133,
          -1.783138151347126,
          -0.6752860083341697,
          0.7022789401239837,
          -1.835524755070365,
          -0.313253458096198,
          -0.45099788556239573,
          -0.28857769772700764,
          -0.1892423501615623,
          -0.24688173949758832,
          0.13424524754480605,
          0.05797104701583112,
          0.09660484893958388,
          -1.3095879709172507,
          0.24754957486710374,
          1.9569210065511524,
          2.0954909828936454,
          2.2068872058371127,
          -1.8935847994034554,
          -1.9658707145920777,
          -1.0564378775196899,
          1.4874017864180422,
          0.17280821165585758,
          0.37644056131981074,
          0.2340871273662667,
          -1.0632261061039,
          0.5540872350959097,
          -1.007909624391688,
          0.6562083549945321,
          -0.08960169518516971,
          0.11316995519037891
         ],
         "yaxis": "y13"
        },
        {
         "line": {
          "color": "rgba(128, 128, 128, 1.0)",
          "dash": "solid",
          "shape": "linear",
          "width": 1.3
         },
         "marker": {
          "size": 2,
          "symbol": "circle"
         },
         "mode": "markers",
         "name": "D",
         "text": "",
         "type": "scatter",
         "x": [
          -0.9410992898133941,
          0.7403709673795416,
          -0.3681996600834796,
          0.0991597200760194,
          -1.6825783826168605,
          -0.6208141494578543,
          -1.2271159557122688,
          -0.8033660807642069,
          0.8468097288813591,
          0.1722880167006293,
          -0.6637349467662795,
          -1.1017957408634886,
          0.78893110183799,
          0.5052234648355544,
          -0.5183463996216997,
          -0.13014575030713596,
          -2.1173663052566436,
          1.0340391919026775,
          0.4758016414816595,
          1.1751249928768135,
          -0.5777840131627777,
          0.35166835742458624,
          0.4250410076349158,
          0.12956422399669026,
          -0.40001911165167875,
          0.49433210165665,
          0.9238971005402511,
          -0.7022088325329872,
          -0.6250617284042304,
          0.823798227192268,
          0.6736158408541878,
          -0.3471483746325953,
          -1.3044961423954966,
          1.2676370274998308,
          -1.3142364799225965,
          2.650935361804906,
          0.9822129709541314,
          1.9357227006820465,
          0.3703095980993604,
          -0.5530894722283664,
          -1.0407802242731543,
          -0.24484815231948331,
          1.7030276075455875,
          0.4806778126836462,
          0.6063504773432427,
          0.19814079912786253,
          -0.28845578570720243,
          0.336187104999158,
          0.8742807414259941,
          -0.7787074869262802,
          0.5468775255294299,
          -0.723845204414693,
          0.008127763819823951,
          0.34186476255512704,
          0.2639769485027573,
          -1.8208409662925802,
          0.24074451187422571,
          0.5562452782986852,
          -0.5824077840268167,
          0.17050183300365282,
          0.42085884285977426,
          -0.8692661641636048,
          -0.9723993347465054,
          0.5395347413629555,
          -1.144824452521687,
          -1.5581534101688002,
          -1.6729339246680435,
          -2.2056076136021434,
          1.103355797338571,
          0.7678907038054802,
          -0.5151607726764834,
          -0.6475275993757056,
          -1.0082785648677384,
          1.5260113519881962,
          -0.0076054176697331385,
          -0.8379869596906585,
          -0.8532996052463981,
          0.520857662239727,
          -1.1507840593174075,
          0.13138500423423757,
          1.766428276090597,
          0.6509203417858905,
          1.290169264557484,
          0.461245786964094,
          0.381986938073141,
          0.7753138167975542,
          0.8672473904523145,
          0.18973725833913044,
          0.040801741645153794,
          -1.391900776067866,
          -0.6712369302438657,
          -0.04660937009967414,
          -1.1372146461701285,
          0.370270983375189,
          0.5796009309658001,
          -1.4386684202941982,
          -1.319559175894388,
          -0.5188624577046717,
          -1.050562091557685,
          1.988326116952474
         ],
         "xaxis": "x14",
         "y": [
          0.6106487369671837,
          -0.5580959391359147,
          -0.40383476919477296,
          0.11125072387168945,
          1.914679797928206,
          -0.5794917293571655,
          0.2802186585460156,
          -0.48119536467688356,
          1.549222235085247,
          -0.761040886666783,
          -0.2042886730218136,
          -0.14071286229645755,
          -0.08572931138786967,
          -0.4342450052527491,
          0.8159473114893341,
          1.5181456675065004,
          -0.2591638049954156,
          1.4637550557367995,
          -0.8259681604858221,
          -0.878102167941134,
          -2.1062948243645536,
          -0.3254887503171195,
          -0.07034230093754808,
          -0.44464327812496063,
          1.961675856334788,
          0.24629335711581235,
          0.09799551611645173,
          0.19159035994880308,
          -1.0156074997556654,
          1.2806421125844174,
          0.1304788681345427,
          0.1206976944051949,
          -0.48836243352088493,
          2.802032607444495,
          0.9992093115241782,
          -0.7896734382539464,
          0.42162329356356454,
          0.014579143845804126,
          -0.4652716694577242,
          0.3454690258598138,
          0.6454479664922625,
          0.5927360716174458,
          -1.1091587246321357,
          -0.3763966436874311,
          -0.4723404843015961,
          1.6296431854939475,
          -1.2247809594359418,
          -0.9550425500787262,
          0.2789136570555125,
          -0.5729846821735802,
          -0.026253713718288375,
          0.725066652097282,
          0.6902230007349073,
          0.9811932312461932,
          1.9688012226230052,
          -0.13927462217851405,
          -0.5123803245556551,
          0.7056350323843916,
          -0.5720206839257674,
          -2.0999560084539954,
          0.28156143554830015,
          1.0747977797889474,
          -1.158658136514488,
          0.529537528312165,
          -0.11214529017336296,
          -0.4160977828350819,
          -1.0674672412849793,
          -0.2449859194432744,
          -0.6128110114858487,
          1.9448518050754133,
          -1.783138151347126,
          -0.6752860083341697,
          0.7022789401239837,
          -1.835524755070365,
          -0.313253458096198,
          -0.45099788556239573,
          -0.28857769772700764,
          -0.1892423501615623,
          -0.24688173949758832,
          0.13424524754480605,
          0.05797104701583112,
          0.09660484893958388,
          -1.3095879709172507,
          0.24754957486710374,
          1.9569210065511524,
          2.0954909828936454,
          2.2068872058371127,
          -1.8935847994034554,
          -1.9658707145920777,
          -1.0564378775196899,
          1.4874017864180422,
          0.17280821165585758,
          0.37644056131981074,
          0.2340871273662667,
          -1.0632261061039,
          0.5540872350959097,
          -1.007909624391688,
          0.6562083549945321,
          -0.08960169518516971,
          0.11316995519037891
         ],
         "yaxis": "y14"
        },
        {
         "line": {
          "color": "rgba(128, 128, 128, 1.0)",
          "dash": "solid",
          "shape": "linear",
          "width": 1.3
         },
         "marker": {
          "size": 2,
          "symbol": "circle"
         },
         "mode": "markers",
         "name": "D",
         "text": "",
         "type": "scatter",
         "x": [
          0.1426936499011667,
          0.6743863824468715,
          -1.9159042047040724,
          0.12701611366523768,
          0.5636280465689022,
          0.2653262616821967,
          -0.5830900218537203,
          1.6268944121439155,
          0.032134459457989054,
          0.2837070672739637,
          -0.908341131234595,
          -0.2912868176976957,
          -0.5596115261134985,
          -0.6698547775985916,
          -0.06644066405389445,
          -0.5635975064256188,
          -0.03413687986916309,
          -0.19300147898416536,
          0.3872050642817624,
          -2.1165183184615546,
          -0.6976749316032758,
          1.5783006573276834,
          -1.0984317833839843,
          0.1935586317598326,
          -2.0414514060862277,
          0.8273165865437476,
          -0.5334902768575471,
          -0.6596195709663755,
          -0.549215782627158,
          -0.5465157483350779,
          -2.2291257904849964,
          -0.8924230840343537,
          0.5864182297589924,
          -0.8774228368518772,
          1.2637792405670139,
          -1.3408252236678477,
          -0.6005444176819201,
          0.6910209001315113,
          0.030946176835107673,
          0.8317294046592685,
          -0.24226793477545702,
          -1.0751195048330666,
          1.6790089121797258,
          0.5299931706931623,
          0.9065907842791338,
          -0.9544899579816438,
          1.2784401587767251,
          0.15403433605819544,
          0.611993290038772,
          -0.7559634279957641,
          0.08819990722390152,
          -1.056055039049362,
          2.0027716806468785,
          -1.9615720122189535,
          -0.17513402898714328,
          -0.4798872243484583,
          -2.4508266457656,
          -0.33884412615446186,
          -2.019978178352013,
          -0.7290974754166974,
          -1.347793986082597,
          2.1398770557429487,
          0.16040455572132187,
          0.06465038310874904,
          0.015294630368586389,
          -1.0890873934955765,
          1.4409058291864612,
          -1.371518717484521,
          1.3071811967033915,
          1.3904478393949753,
          -2.0037227249117553,
          0.11510825724336189,
          -0.29718611398512745,
          -0.5055331245752551,
          0.6448185869979838,
          0.1491150879202775,
          0.9985330501748927,
          1.0014419886266486,
          1.865102464507751,
          0.2286365636433252,
          -0.03550451414647598,
          -2.718717212523047,
          -0.9240701341744608,
          -0.2888760375290752,
          0.5207417218309627,
          1.1687872614974864,
          0.2565814315959523,
          -0.18066310467005145,
          0.06308409801663467,
          -0.7123126172355311,
          -1.0368383000789096,
          0.27498166815858444,
          -1.140923803902282,
          -1.525816700957253,
          0.21746655202661985,
          0.052356171907522044,
          -0.49939185897760346,
          0.13609632242732642,
          -0.28894964323218236,
          0.08729029057194035
         ],
         "xaxis": "x15",
         "y": [
          0.6106487369671837,
          -0.5580959391359147,
          -0.40383476919477296,
          0.11125072387168945,
          1.914679797928206,
          -0.5794917293571655,
          0.2802186585460156,
          -0.48119536467688356,
          1.549222235085247,
          -0.761040886666783,
          -0.2042886730218136,
          -0.14071286229645755,
          -0.08572931138786967,
          -0.4342450052527491,
          0.8159473114893341,
          1.5181456675065004,
          -0.2591638049954156,
          1.4637550557367995,
          -0.8259681604858221,
          -0.878102167941134,
          -2.1062948243645536,
          -0.3254887503171195,
          -0.07034230093754808,
          -0.44464327812496063,
          1.961675856334788,
          0.24629335711581235,
          0.09799551611645173,
          0.19159035994880308,
          -1.0156074997556654,
          1.2806421125844174,
          0.1304788681345427,
          0.1206976944051949,
          -0.48836243352088493,
          2.802032607444495,
          0.9992093115241782,
          -0.7896734382539464,
          0.42162329356356454,
          0.014579143845804126,
          -0.4652716694577242,
          0.3454690258598138,
          0.6454479664922625,
          0.5927360716174458,
          -1.1091587246321357,
          -0.3763966436874311,
          -0.4723404843015961,
          1.6296431854939475,
          -1.2247809594359418,
          -0.9550425500787262,
          0.2789136570555125,
          -0.5729846821735802,
          -0.026253713718288375,
          0.725066652097282,
          0.6902230007349073,
          0.9811932312461932,
          1.9688012226230052,
          -0.13927462217851405,
          -0.5123803245556551,
          0.7056350323843916,
          -0.5720206839257674,
          -2.0999560084539954,
          0.28156143554830015,
          1.0747977797889474,
          -1.158658136514488,
          0.529537528312165,
          -0.11214529017336296,
          -0.4160977828350819,
          -1.0674672412849793,
          -0.2449859194432744,
          -0.6128110114858487,
          1.9448518050754133,
          -1.783138151347126,
          -0.6752860083341697,
          0.7022789401239837,
          -1.835524755070365,
          -0.313253458096198,
          -0.45099788556239573,
          -0.28857769772700764,
          -0.1892423501615623,
          -0.24688173949758832,
          0.13424524754480605,
          0.05797104701583112,
          0.09660484893958388,
          -1.3095879709172507,
          0.24754957486710374,
          1.9569210065511524,
          2.0954909828936454,
          2.2068872058371127,
          -1.8935847994034554,
          -1.9658707145920777,
          -1.0564378775196899,
          1.4874017864180422,
          0.17280821165585758,
          0.37644056131981074,
          0.2340871273662667,
          -1.0632261061039,
          0.5540872350959097,
          -1.007909624391688,
          0.6562083549945321,
          -0.08960169518516971,
          0.11316995519037891
         ],
         "yaxis": "y15"
        },
        {
         "histfunc": "count",
         "histnorm": "",
         "marker": {
          "color": "rgba(128, 0, 128, 1.0)",
          "line": {
           "color": "#4D5663",
           "width": 1.3
          }
         },
         "name": "D",
         "nbinsx": 10,
         "opacity": 0.8,
         "orientation": "v",
         "type": "histogram",
         "x": [
          0.6106487369671837,
          -0.5580959391359147,
          -0.40383476919477296,
          0.11125072387168945,
          1.914679797928206,
          -0.5794917293571655,
          0.2802186585460156,
          -0.48119536467688356,
          1.549222235085247,
          -0.761040886666783,
          -0.2042886730218136,
          -0.14071286229645755,
          -0.08572931138786967,
          -0.4342450052527491,
          0.8159473114893341,
          1.5181456675065004,
          -0.2591638049954156,
          1.4637550557367995,
          -0.8259681604858221,
          -0.878102167941134,
          -2.1062948243645536,
          -0.3254887503171195,
          -0.07034230093754808,
          -0.44464327812496063,
          1.961675856334788,
          0.24629335711581235,
          0.09799551611645173,
          0.19159035994880308,
          -1.0156074997556654,
          1.2806421125844174,
          0.1304788681345427,
          0.1206976944051949,
          -0.48836243352088493,
          2.802032607444495,
          0.9992093115241782,
          -0.7896734382539464,
          0.42162329356356454,
          0.014579143845804126,
          -0.4652716694577242,
          0.3454690258598138,
          0.6454479664922625,
          0.5927360716174458,
          -1.1091587246321357,
          -0.3763966436874311,
          -0.4723404843015961,
          1.6296431854939475,
          -1.2247809594359418,
          -0.9550425500787262,
          0.2789136570555125,
          -0.5729846821735802,
          -0.026253713718288375,
          0.725066652097282,
          0.6902230007349073,
          0.9811932312461932,
          1.9688012226230052,
          -0.13927462217851405,
          -0.5123803245556551,
          0.7056350323843916,
          -0.5720206839257674,
          -2.0999560084539954,
          0.28156143554830015,
          1.0747977797889474,
          -1.158658136514488,
          0.529537528312165,
          -0.11214529017336296,
          -0.4160977828350819,
          -1.0674672412849793,
          -0.2449859194432744,
          -0.6128110114858487,
          1.9448518050754133,
          -1.783138151347126,
          -0.6752860083341697,
          0.7022789401239837,
          -1.835524755070365,
          -0.313253458096198,
          -0.45099788556239573,
          -0.28857769772700764,
          -0.1892423501615623,
          -0.24688173949758832,
          0.13424524754480605,
          0.05797104701583112,
          0.09660484893958388,
          -1.3095879709172507,
          0.24754957486710374,
          1.9569210065511524,
          2.0954909828936454,
          2.2068872058371127,
          -1.8935847994034554,
          -1.9658707145920777,
          -1.0564378775196899,
          1.4874017864180422,
          0.17280821165585758,
          0.37644056131981074,
          0.2340871273662667,
          -1.0632261061039,
          0.5540872350959097,
          -1.007909624391688,
          0.6562083549945321,
          -0.08960169518516971,
          0.11316995519037891
         ],
         "xaxis": "x16",
         "yaxis": "y16"
        }
       ],
       "layout": {
        "bargap": 0.02,
        "legend": {
         "bgcolor": "#F5F6F9",
         "font": {
          "color": "#4D5663"
         }
        },
        "paper_bgcolor": "#F5F6F9",
        "plot_bgcolor": "#F5F6F9",
        "showlegend": false,
        "template": {
         "data": {
          "bar": [
           {
            "error_x": {
             "color": "#2a3f5f"
            },
            "error_y": {
             "color": "#2a3f5f"
            },
            "marker": {
             "line": {
              "color": "#E5ECF6",
              "width": 0.5
             }
            },
            "type": "bar"
           }
          ],
          "barpolar": [
           {
            "marker": {
             "line": {
              "color": "#E5ECF6",
              "width": 0.5
             }
            },
            "type": "barpolar"
           }
          ],
          "carpet": [
           {
            "aaxis": {
             "endlinecolor": "#2a3f5f",
             "gridcolor": "white",
             "linecolor": "white",
             "minorgridcolor": "white",
             "startlinecolor": "#2a3f5f"
            },
            "baxis": {
             "endlinecolor": "#2a3f5f",
             "gridcolor": "white",
             "linecolor": "white",
             "minorgridcolor": "white",
             "startlinecolor": "#2a3f5f"
            },
            "type": "carpet"
           }
          ],
          "choropleth": [
           {
            "colorbar": {
             "outlinewidth": 0,
             "ticks": ""
            },
            "type": "choropleth"
           }
          ],
          "contour": [
           {
            "colorbar": {
             "outlinewidth": 0,
             "ticks": ""
            },
            "colorscale": [
             [
              0,
              "#0d0887"
             ],
             [
              0.1111111111111111,
              "#46039f"
             ],
             [
              0.2222222222222222,
              "#7201a8"
             ],
             [
              0.3333333333333333,
              "#9c179e"
             ],
             [
              0.4444444444444444,
              "#bd3786"
             ],
             [
              0.5555555555555556,
              "#d8576b"
             ],
             [
              0.6666666666666666,
              "#ed7953"
             ],
             [
              0.7777777777777778,
              "#fb9f3a"
             ],
             [
              0.8888888888888888,
              "#fdca26"
             ],
             [
              1,
              "#f0f921"
             ]
            ],
            "type": "contour"
           }
          ],
          "contourcarpet": [
           {
            "colorbar": {
             "outlinewidth": 0,
             "ticks": ""
            },
            "type": "contourcarpet"
           }
          ],
          "heatmap": [
           {
            "colorbar": {
             "outlinewidth": 0,
             "ticks": ""
            },
            "colorscale": [
             [
              0,
              "#0d0887"
             ],
             [
              0.1111111111111111,
              "#46039f"
             ],
             [
              0.2222222222222222,
              "#7201a8"
             ],
             [
              0.3333333333333333,
              "#9c179e"
             ],
             [
              0.4444444444444444,
              "#bd3786"
             ],
             [
              0.5555555555555556,
              "#d8576b"
             ],
             [
              0.6666666666666666,
              "#ed7953"
             ],
             [
              0.7777777777777778,
              "#fb9f3a"
             ],
             [
              0.8888888888888888,
              "#fdca26"
             ],
             [
              1,
              "#f0f921"
             ]
            ],
            "type": "heatmap"
           }
          ],
          "heatmapgl": [
           {
            "colorbar": {
             "outlinewidth": 0,
             "ticks": ""
            },
            "colorscale": [
             [
              0,
              "#0d0887"
             ],
             [
              0.1111111111111111,
              "#46039f"
             ],
             [
              0.2222222222222222,
              "#7201a8"
             ],
             [
              0.3333333333333333,
              "#9c179e"
             ],
             [
              0.4444444444444444,
              "#bd3786"
             ],
             [
              0.5555555555555556,
              "#d8576b"
             ],
             [
              0.6666666666666666,
              "#ed7953"
             ],
             [
              0.7777777777777778,
              "#fb9f3a"
             ],
             [
              0.8888888888888888,
              "#fdca26"
             ],
             [
              1,
              "#f0f921"
             ]
            ],
            "type": "heatmapgl"
           }
          ],
          "histogram": [
           {
            "marker": {
             "colorbar": {
              "outlinewidth": 0,
              "ticks": ""
             }
            },
            "type": "histogram"
           }
          ],
          "histogram2d": [
           {
            "colorbar": {
             "outlinewidth": 0,
             "ticks": ""
            },
            "colorscale": [
             [
              0,
              "#0d0887"
             ],
             [
              0.1111111111111111,
              "#46039f"
             ],
             [
              0.2222222222222222,
              "#7201a8"
             ],
             [
              0.3333333333333333,
              "#9c179e"
             ],
             [
              0.4444444444444444,
              "#bd3786"
             ],
             [
              0.5555555555555556,
              "#d8576b"
             ],
             [
              0.6666666666666666,
              "#ed7953"
             ],
             [
              0.7777777777777778,
              "#fb9f3a"
             ],
             [
              0.8888888888888888,
              "#fdca26"
             ],
             [
              1,
              "#f0f921"
             ]
            ],
            "type": "histogram2d"
           }
          ],
          "histogram2dcontour": [
           {
            "colorbar": {
             "outlinewidth": 0,
             "ticks": ""
            },
            "colorscale": [
             [
              0,
              "#0d0887"
             ],
             [
              0.1111111111111111,
              "#46039f"
             ],
             [
              0.2222222222222222,
              "#7201a8"
             ],
             [
              0.3333333333333333,
              "#9c179e"
             ],
             [
              0.4444444444444444,
              "#bd3786"
             ],
             [
              0.5555555555555556,
              "#d8576b"
             ],
             [
              0.6666666666666666,
              "#ed7953"
             ],
             [
              0.7777777777777778,
              "#fb9f3a"
             ],
             [
              0.8888888888888888,
              "#fdca26"
             ],
             [
              1,
              "#f0f921"
             ]
            ],
            "type": "histogram2dcontour"
           }
          ],
          "mesh3d": [
           {
            "colorbar": {
             "outlinewidth": 0,
             "ticks": ""
            },
            "type": "mesh3d"
           }
          ],
          "parcoords": [
           {
            "line": {
             "colorbar": {
              "outlinewidth": 0,
              "ticks": ""
             }
            },
            "type": "parcoords"
           }
          ],
          "pie": [
           {
            "automargin": true,
            "type": "pie"
           }
          ],
          "scatter": [
           {
            "marker": {
             "colorbar": {
              "outlinewidth": 0,
              "ticks": ""
             }
            },
            "type": "scatter"
           }
          ],
          "scatter3d": [
           {
            "line": {
             "colorbar": {
              "outlinewidth": 0,
              "ticks": ""
             }
            },
            "marker": {
             "colorbar": {
              "outlinewidth": 0,
              "ticks": ""
             }
            },
            "type": "scatter3d"
           }
          ],
          "scattercarpet": [
           {
            "marker": {
             "colorbar": {
              "outlinewidth": 0,
              "ticks": ""
             }
            },
            "type": "scattercarpet"
           }
          ],
          "scattergeo": [
           {
            "marker": {
             "colorbar": {
              "outlinewidth": 0,
              "ticks": ""
             }
            },
            "type": "scattergeo"
           }
          ],
          "scattergl": [
           {
            "marker": {
             "colorbar": {
              "outlinewidth": 0,
              "ticks": ""
             }
            },
            "type": "scattergl"
           }
          ],
          "scattermapbox": [
           {
            "marker": {
             "colorbar": {
              "outlinewidth": 0,
              "ticks": ""
             }
            },
            "type": "scattermapbox"
           }
          ],
          "scatterpolar": [
           {
            "marker": {
             "colorbar": {
              "outlinewidth": 0,
              "ticks": ""
             }
            },
            "type": "scatterpolar"
           }
          ],
          "scatterpolargl": [
           {
            "marker": {
             "colorbar": {
              "outlinewidth": 0,
              "ticks": ""
             }
            },
            "type": "scatterpolargl"
           }
          ],
          "scatterternary": [
           {
            "marker": {
             "colorbar": {
              "outlinewidth": 0,
              "ticks": ""
             }
            },
            "type": "scatterternary"
           }
          ],
          "surface": [
           {
            "colorbar": {
             "outlinewidth": 0,
             "ticks": ""
            },
            "colorscale": [
             [
              0,
              "#0d0887"
             ],
             [
              0.1111111111111111,
              "#46039f"
             ],
             [
              0.2222222222222222,
              "#7201a8"
             ],
             [
              0.3333333333333333,
              "#9c179e"
             ],
             [
              0.4444444444444444,
              "#bd3786"
             ],
             [
              0.5555555555555556,
              "#d8576b"
             ],
             [
              0.6666666666666666,
              "#ed7953"
             ],
             [
              0.7777777777777778,
              "#fb9f3a"
             ],
             [
              0.8888888888888888,
              "#fdca26"
             ],
             [
              1,
              "#f0f921"
             ]
            ],
            "type": "surface"
           }
          ],
          "table": [
           {
            "cells": {
             "fill": {
              "color": "#EBF0F8"
             },
             "line": {
              "color": "white"
             }
            },
            "header": {
             "fill": {
              "color": "#C8D4E3"
             },
             "line": {
              "color": "white"
             }
            },
            "type": "table"
           }
          ]
         },
         "layout": {
          "annotationdefaults": {
           "arrowcolor": "#2a3f5f",
           "arrowhead": 0,
           "arrowwidth": 1
          },
          "coloraxis": {
           "colorbar": {
            "outlinewidth": 0,
            "ticks": ""
           }
          },
          "colorscale": {
           "diverging": [
            [
             0,
             "#8e0152"
            ],
            [
             0.1,
             "#c51b7d"
            ],
            [
             0.2,
             "#de77ae"
            ],
            [
             0.3,
             "#f1b6da"
            ],
            [
             0.4,
             "#fde0ef"
            ],
            [
             0.5,
             "#f7f7f7"
            ],
            [
             0.6,
             "#e6f5d0"
            ],
            [
             0.7,
             "#b8e186"
            ],
            [
             0.8,
             "#7fbc41"
            ],
            [
             0.9,
             "#4d9221"
            ],
            [
             1,
             "#276419"
            ]
           ],
           "sequential": [
            [
             0,
             "#0d0887"
            ],
            [
             0.1111111111111111,
             "#46039f"
            ],
            [
             0.2222222222222222,
             "#7201a8"
            ],
            [
             0.3333333333333333,
             "#9c179e"
            ],
            [
             0.4444444444444444,
             "#bd3786"
            ],
            [
             0.5555555555555556,
             "#d8576b"
            ],
            [
             0.6666666666666666,
             "#ed7953"
            ],
            [
             0.7777777777777778,
             "#fb9f3a"
            ],
            [
             0.8888888888888888,
             "#fdca26"
            ],
            [
             1,
             "#f0f921"
            ]
           ],
           "sequentialminus": [
            [
             0,
             "#0d0887"
            ],
            [
             0.1111111111111111,
             "#46039f"
            ],
            [
             0.2222222222222222,
             "#7201a8"
            ],
            [
             0.3333333333333333,
             "#9c179e"
            ],
            [
             0.4444444444444444,
             "#bd3786"
            ],
            [
             0.5555555555555556,
             "#d8576b"
            ],
            [
             0.6666666666666666,
             "#ed7953"
            ],
            [
             0.7777777777777778,
             "#fb9f3a"
            ],
            [
             0.8888888888888888,
             "#fdca26"
            ],
            [
             1,
             "#f0f921"
            ]
           ]
          },
          "colorway": [
           "#636efa",
           "#EF553B",
           "#00cc96",
           "#ab63fa",
           "#FFA15A",
           "#19d3f3",
           "#FF6692",
           "#B6E880",
           "#FF97FF",
           "#FECB52"
          ],
          "font": {
           "color": "#2a3f5f"
          },
          "geo": {
           "bgcolor": "white",
           "lakecolor": "white",
           "landcolor": "#E5ECF6",
           "showlakes": true,
           "showland": true,
           "subunitcolor": "white"
          },
          "hoverlabel": {
           "align": "left"
          },
          "hovermode": "closest",
          "mapbox": {
           "style": "light"
          },
          "paper_bgcolor": "white",
          "plot_bgcolor": "#E5ECF6",
          "polar": {
           "angularaxis": {
            "gridcolor": "white",
            "linecolor": "white",
            "ticks": ""
           },
           "bgcolor": "#E5ECF6",
           "radialaxis": {
            "gridcolor": "white",
            "linecolor": "white",
            "ticks": ""
           }
          },
          "scene": {
           "xaxis": {
            "backgroundcolor": "#E5ECF6",
            "gridcolor": "white",
            "gridwidth": 2,
            "linecolor": "white",
            "showbackground": true,
            "ticks": "",
            "zerolinecolor": "white"
           },
           "yaxis": {
            "backgroundcolor": "#E5ECF6",
            "gridcolor": "white",
            "gridwidth": 2,
            "linecolor": "white",
            "showbackground": true,
            "ticks": "",
            "zerolinecolor": "white"
           },
           "zaxis": {
            "backgroundcolor": "#E5ECF6",
            "gridcolor": "white",
            "gridwidth": 2,
            "linecolor": "white",
            "showbackground": true,
            "ticks": "",
            "zerolinecolor": "white"
           }
          },
          "shapedefaults": {
           "line": {
            "color": "#2a3f5f"
           }
          },
          "ternary": {
           "aaxis": {
            "gridcolor": "white",
            "linecolor": "white",
            "ticks": ""
           },
           "baxis": {
            "gridcolor": "white",
            "linecolor": "white",
            "ticks": ""
           },
           "bgcolor": "#E5ECF6",
           "caxis": {
            "gridcolor": "white",
            "linecolor": "white",
            "ticks": ""
           }
          },
          "title": {
           "x": 0.05
          },
          "xaxis": {
           "automargin": true,
           "gridcolor": "white",
           "linecolor": "white",
           "ticks": "",
           "title": {
            "standoff": 15
           },
           "zerolinecolor": "white",
           "zerolinewidth": 2
          },
          "yaxis": {
           "automargin": true,
           "gridcolor": "white",
           "linecolor": "white",
           "ticks": "",
           "title": {
            "standoff": 15
           },
           "zerolinecolor": "white",
           "zerolinewidth": 2
          }
         }
        },
        "title": {
         "font": {
          "color": "#4D5663"
         }
        },
        "xaxis": {
         "anchor": "y",
         "domain": [
          0,
          0.2125
         ],
         "gridcolor": "#E1E5ED",
         "showgrid": false,
         "tickfont": {
          "color": "#4D5663"
         },
         "title": {
          "font": {
           "color": "#4D5663"
          },
          "text": ""
         },
         "zerolinecolor": "#E1E5ED"
        },
        "xaxis10": {
         "anchor": "y10",
         "domain": [
          0.2625,
          0.475
         ],
         "gridcolor": "#E1E5ED",
         "showgrid": false,
         "tickfont": {
          "color": "#4D5663"
         },
         "title": {
          "font": {
           "color": "#4D5663"
          },
          "text": ""
         },
         "zerolinecolor": "#E1E5ED"
        },
        "xaxis11": {
         "anchor": "y11",
         "domain": [
          0.525,
          0.7375
         ],
         "gridcolor": "#E1E5ED",
         "showgrid": false,
         "tickfont": {
          "color": "#4D5663"
         },
         "title": {
          "font": {
           "color": "#4D5663"
          },
          "text": ""
         },
         "zerolinecolor": "#E1E5ED"
        },
        "xaxis12": {
         "anchor": "y12",
         "domain": [
          0.7875,
          1
         ],
         "gridcolor": "#E1E5ED",
         "showgrid": false,
         "tickfont": {
          "color": "#4D5663"
         },
         "title": {
          "font": {
           "color": "#4D5663"
          },
          "text": ""
         },
         "zerolinecolor": "#E1E5ED"
        },
        "xaxis13": {
         "anchor": "y13",
         "domain": [
          0,
          0.2125
         ],
         "gridcolor": "#E1E5ED",
         "showgrid": false,
         "tickfont": {
          "color": "#4D5663"
         },
         "title": {
          "font": {
           "color": "#4D5663"
          },
          "text": ""
         },
         "zerolinecolor": "#E1E5ED"
        },
        "xaxis14": {
         "anchor": "y14",
         "domain": [
          0.2625,
          0.475
         ],
         "gridcolor": "#E1E5ED",
         "showgrid": false,
         "tickfont": {
          "color": "#4D5663"
         },
         "title": {
          "font": {
           "color": "#4D5663"
          },
          "text": ""
         },
         "zerolinecolor": "#E1E5ED"
        },
        "xaxis15": {
         "anchor": "y15",
         "domain": [
          0.525,
          0.7375
         ],
         "gridcolor": "#E1E5ED",
         "showgrid": false,
         "tickfont": {
          "color": "#4D5663"
         },
         "title": {
          "font": {
           "color": "#4D5663"
          },
          "text": ""
         },
         "zerolinecolor": "#E1E5ED"
        },
        "xaxis16": {
         "anchor": "y16",
         "domain": [
          0.7875,
          1
         ],
         "gridcolor": "#E1E5ED",
         "showgrid": false,
         "tickfont": {
          "color": "#4D5663"
         },
         "title": {
          "font": {
           "color": "#4D5663"
          },
          "text": ""
         },
         "zerolinecolor": "#E1E5ED"
        },
        "xaxis2": {
         "anchor": "y2",
         "domain": [
          0.2625,
          0.475
         ],
         "gridcolor": "#E1E5ED",
         "showgrid": false,
         "tickfont": {
          "color": "#4D5663"
         },
         "title": {
          "font": {
           "color": "#4D5663"
          },
          "text": ""
         },
         "zerolinecolor": "#E1E5ED"
        },
        "xaxis3": {
         "anchor": "y3",
         "domain": [
          0.525,
          0.7375
         ],
         "gridcolor": "#E1E5ED",
         "showgrid": false,
         "tickfont": {
          "color": "#4D5663"
         },
         "title": {
          "font": {
           "color": "#4D5663"
          },
          "text": ""
         },
         "zerolinecolor": "#E1E5ED"
        },
        "xaxis4": {
         "anchor": "y4",
         "domain": [
          0.7875,
          1
         ],
         "gridcolor": "#E1E5ED",
         "showgrid": false,
         "tickfont": {
          "color": "#4D5663"
         },
         "title": {
          "font": {
           "color": "#4D5663"
          },
          "text": ""
         },
         "zerolinecolor": "#E1E5ED"
        },
        "xaxis5": {
         "anchor": "y5",
         "domain": [
          0,
          0.2125
         ],
         "gridcolor": "#E1E5ED",
         "showgrid": false,
         "tickfont": {
          "color": "#4D5663"
         },
         "title": {
          "font": {
           "color": "#4D5663"
          },
          "text": ""
         },
         "zerolinecolor": "#E1E5ED"
        },
        "xaxis6": {
         "anchor": "y6",
         "domain": [
          0.2625,
          0.475
         ],
         "gridcolor": "#E1E5ED",
         "showgrid": false,
         "tickfont": {
          "color": "#4D5663"
         },
         "title": {
          "font": {
           "color": "#4D5663"
          },
          "text": ""
         },
         "zerolinecolor": "#E1E5ED"
        },
        "xaxis7": {
         "anchor": "y7",
         "domain": [
          0.525,
          0.7375
         ],
         "gridcolor": "#E1E5ED",
         "showgrid": false,
         "tickfont": {
          "color": "#4D5663"
         },
         "title": {
          "font": {
           "color": "#4D5663"
          },
          "text": ""
         },
         "zerolinecolor": "#E1E5ED"
        },
        "xaxis8": {
         "anchor": "y8",
         "domain": [
          0.7875,
          1
         ],
         "gridcolor": "#E1E5ED",
         "showgrid": false,
         "tickfont": {
          "color": "#4D5663"
         },
         "title": {
          "font": {
           "color": "#4D5663"
          },
          "text": ""
         },
         "zerolinecolor": "#E1E5ED"
        },
        "xaxis9": {
         "anchor": "y9",
         "domain": [
          0,
          0.2125
         ],
         "gridcolor": "#E1E5ED",
         "showgrid": false,
         "tickfont": {
          "color": "#4D5663"
         },
         "title": {
          "font": {
           "color": "#4D5663"
          },
          "text": ""
         },
         "zerolinecolor": "#E1E5ED"
        },
        "yaxis": {
         "anchor": "x",
         "domain": [
          0.8025,
          1
         ],
         "gridcolor": "#E1E5ED",
         "showgrid": false,
         "tickfont": {
          "color": "#4D5663"
         },
         "title": {
          "font": {
           "color": "#4D5663"
          },
          "text": ""
         },
         "zerolinecolor": "#E1E5ED"
        },
        "yaxis10": {
         "anchor": "x10",
         "domain": [
          0.2675,
          0.465
         ],
         "gridcolor": "#E1E5ED",
         "showgrid": false,
         "tickfont": {
          "color": "#4D5663"
         },
         "title": {
          "font": {
           "color": "#4D5663"
          },
          "text": ""
         },
         "zerolinecolor": "#E1E5ED"
        },
        "yaxis11": {
         "anchor": "x11",
         "domain": [
          0.2675,
          0.465
         ],
         "gridcolor": "#E1E5ED",
         "showgrid": false,
         "tickfont": {
          "color": "#4D5663"
         },
         "title": {
          "font": {
           "color": "#4D5663"
          },
          "text": ""
         },
         "zerolinecolor": "#E1E5ED"
        },
        "yaxis12": {
         "anchor": "x12",
         "domain": [
          0.2675,
          0.465
         ],
         "gridcolor": "#E1E5ED",
         "showgrid": false,
         "tickfont": {
          "color": "#4D5663"
         },
         "title": {
          "font": {
           "color": "#4D5663"
          },
          "text": ""
         },
         "zerolinecolor": "#E1E5ED"
        },
        "yaxis13": {
         "anchor": "x13",
         "domain": [
          0,
          0.1975
         ],
         "gridcolor": "#E1E5ED",
         "showgrid": false,
         "tickfont": {
          "color": "#4D5663"
         },
         "title": {
          "font": {
           "color": "#4D5663"
          },
          "text": ""
         },
         "zerolinecolor": "#E1E5ED"
        },
        "yaxis14": {
         "anchor": "x14",
         "domain": [
          0,
          0.1975
         ],
         "gridcolor": "#E1E5ED",
         "showgrid": false,
         "tickfont": {
          "color": "#4D5663"
         },
         "title": {
          "font": {
           "color": "#4D5663"
          },
          "text": ""
         },
         "zerolinecolor": "#E1E5ED"
        },
        "yaxis15": {
         "anchor": "x15",
         "domain": [
          0,
          0.1975
         ],
         "gridcolor": "#E1E5ED",
         "showgrid": false,
         "tickfont": {
          "color": "#4D5663"
         },
         "title": {
          "font": {
           "color": "#4D5663"
          },
          "text": ""
         },
         "zerolinecolor": "#E1E5ED"
        },
        "yaxis16": {
         "anchor": "x16",
         "domain": [
          0,
          0.1975
         ],
         "gridcolor": "#E1E5ED",
         "showgrid": false,
         "tickfont": {
          "color": "#4D5663"
         },
         "title": {
          "font": {
           "color": "#4D5663"
          },
          "text": ""
         },
         "zerolinecolor": "#E1E5ED"
        },
        "yaxis2": {
         "anchor": "x2",
         "domain": [
          0.8025,
          1
         ],
         "gridcolor": "#E1E5ED",
         "showgrid": false,
         "tickfont": {
          "color": "#4D5663"
         },
         "title": {
          "font": {
           "color": "#4D5663"
          },
          "text": ""
         },
         "zerolinecolor": "#E1E5ED"
        },
        "yaxis3": {
         "anchor": "x3",
         "domain": [
          0.8025,
          1
         ],
         "gridcolor": "#E1E5ED",
         "showgrid": false,
         "tickfont": {
          "color": "#4D5663"
         },
         "title": {
          "font": {
           "color": "#4D5663"
          },
          "text": ""
         },
         "zerolinecolor": "#E1E5ED"
        },
        "yaxis4": {
         "anchor": "x4",
         "domain": [
          0.8025,
          1
         ],
         "gridcolor": "#E1E5ED",
         "showgrid": false,
         "tickfont": {
          "color": "#4D5663"
         },
         "title": {
          "font": {
           "color": "#4D5663"
          },
          "text": ""
         },
         "zerolinecolor": "#E1E5ED"
        },
        "yaxis5": {
         "anchor": "x5",
         "domain": [
          0.535,
          0.7325
         ],
         "gridcolor": "#E1E5ED",
         "showgrid": false,
         "tickfont": {
          "color": "#4D5663"
         },
         "title": {
          "font": {
           "color": "#4D5663"
          },
          "text": ""
         },
         "zerolinecolor": "#E1E5ED"
        },
        "yaxis6": {
         "anchor": "x6",
         "domain": [
          0.535,
          0.7325
         ],
         "gridcolor": "#E1E5ED",
         "showgrid": false,
         "tickfont": {
          "color": "#4D5663"
         },
         "title": {
          "font": {
           "color": "#4D5663"
          },
          "text": ""
         },
         "zerolinecolor": "#E1E5ED"
        },
        "yaxis7": {
         "anchor": "x7",
         "domain": [
          0.535,
          0.7325
         ],
         "gridcolor": "#E1E5ED",
         "showgrid": false,
         "tickfont": {
          "color": "#4D5663"
         },
         "title": {
          "font": {
           "color": "#4D5663"
          },
          "text": ""
         },
         "zerolinecolor": "#E1E5ED"
        },
        "yaxis8": {
         "anchor": "x8",
         "domain": [
          0.535,
          0.7325
         ],
         "gridcolor": "#E1E5ED",
         "showgrid": false,
         "tickfont": {
          "color": "#4D5663"
         },
         "title": {
          "font": {
           "color": "#4D5663"
          },
          "text": ""
         },
         "zerolinecolor": "#E1E5ED"
        },
        "yaxis9": {
         "anchor": "x9",
         "domain": [
          0.2675,
          0.465
         ],
         "gridcolor": "#E1E5ED",
         "showgrid": false,
         "tickfont": {
          "color": "#4D5663"
         },
         "title": {
          "font": {
           "color": "#4D5663"
          },
          "text": ""
         },
         "zerolinecolor": "#E1E5ED"
        }
       }
      },
      "text/html": [
       "<div>\n",
       "        \n",
       "        \n",
       "            <div id=\"acb73a0e-9703-41c3-b6b5-3eb3e5ecc155\" class=\"plotly-graph-div\" style=\"height:525px; width:100%;\"></div>\n",
       "            <script type=\"text/javascript\">\n",
       "                require([\"plotly\"], function(Plotly) {\n",
       "                    window.PLOTLYENV=window.PLOTLYENV || {};\n",
       "                    window.PLOTLYENV.BASE_URL='https://plot.ly';\n",
       "                    \n",
       "                if (document.getElementById(\"acb73a0e-9703-41c3-b6b5-3eb3e5ecc155\")) {\n",
       "                    Plotly.newPlot(\n",
       "                        'acb73a0e-9703-41c3-b6b5-3eb3e5ecc155',\n",
       "                        [{\"histfunc\": \"count\", \"histnorm\": \"\", \"marker\": {\"color\": \"rgba(255, 153, 51, 1.0)\", \"line\": {\"color\": \"#4D5663\", \"width\": 1.3}}, \"name\": \"A\", \"nbinsx\": 10, \"opacity\": 0.8, \"orientation\": \"v\", \"type\": \"histogram\", \"x\": [-1.228210303840886, 0.673718637442548, -0.6359991664128826, -0.23262448905478936, -0.4652684818242084, 0.09112090769390506, 1.1202307162460101, -0.913002197072858, -1.7866033041530176, -1.1819664154244243, -2.2518992211992668, 1.6419723454475943, -0.5049024421225882, -0.8316433290825647, -1.9026947938151906, 0.9529643236956478, 0.8424279826802521, 0.6496949082875334, -1.2710369557178685, 0.6744304243539521, 0.27031806004342473, -0.6151995848966308, 1.286999400136683, 2.754225637025308, -0.8685563696172357, -0.37270596578089227, 0.21656933195695277, 0.3299593481685292, -0.38976956152955244, 0.7899141331885607, -0.15232135255386411, -0.3278732576519635, -0.1714780618959102, 0.24585193839195518, -0.520103537564345, 0.9423867963175877, 0.6998506662177038, 2.9565000032387485, -0.16771290225752722, -0.8565644599372393, 1.9093025443891725, -0.6065596660356215, 1.5561398386580072, -1.6604273958353217, 0.29570532237337854, -0.30655930240007645, 0.5629765465472392, -1.1157754639387614, -0.22955196345192624, -2.0050583424582227, 0.11713750696332578, 2.8267139655873303, 0.46332154157231764, 0.8913848873219073, -0.27625761399056287, 0.17061072015134288, 0.01247361244100639, -1.1868120197940502, -0.1768842533262507, 0.3980979509622024, 1.7637268334097294, 0.9632004046301621, -0.174102504451404, -1.02063042523494, 1.678577707560514, 2.061538374722697, -0.01891713764992838, -0.34503079589422914, -0.8918084865031932, -0.7260269927380488, 0.49049384129362483, -1.7200742116968653, -0.7129415168181875, -0.44188757928112904, 3.5061225729394834, -0.48365529838350285, 0.09783218038002926, 1.4577512305513558, 0.036503672104812285, 1.6157315712246738, 0.34311746110657376, 0.531373414113734, -0.7186086927412191, 1.956762618943234, -0.06307785143259939, 0.18422454988996845, -0.8828271943787102, -0.7819307241118907, -0.4712984396735526, 0.8208067834200556, -0.9535656763785126, 0.6172811281139772, 0.38806297663784844, 0.21969028658437853, 0.5142512913421163, 0.3040997986323465, 0.28940893588859046, 0.39912893114064507, 0.8522015383297381, 0.766249213069548], \"xaxis\": \"x\", \"yaxis\": \"y\"}, {\"line\": {\"color\": \"rgba(128, 128, 128, 1.0)\", \"dash\": \"solid\", \"shape\": \"linear\", \"width\": 1.3}, \"marker\": {\"size\": 2, \"symbol\": \"circle\"}, \"mode\": \"markers\", \"name\": \"A\", \"text\": \"\", \"type\": \"scatter\", \"x\": [-0.9410992898133941, 0.7403709673795416, -0.3681996600834796, 0.0991597200760194, -1.6825783826168605, -0.6208141494578543, -1.2271159557122688, -0.8033660807642069, 0.8468097288813591, 0.1722880167006293, -0.6637349467662795, -1.1017957408634886, 0.78893110183799, 0.5052234648355544, -0.5183463996216997, -0.13014575030713596, -2.1173663052566436, 1.0340391919026775, 0.4758016414816595, 1.1751249928768135, -0.5777840131627777, 0.35166835742458624, 0.4250410076349158, 0.12956422399669026, -0.40001911165167875, 0.49433210165665, 0.9238971005402511, -0.7022088325329872, -0.6250617284042304, 0.823798227192268, 0.6736158408541878, -0.3471483746325953, -1.3044961423954966, 1.2676370274998308, -1.3142364799225965, 2.650935361804906, 0.9822129709541314, 1.9357227006820465, 0.3703095980993604, -0.5530894722283664, -1.0407802242731543, -0.24484815231948331, 1.7030276075455875, 0.4806778126836462, 0.6063504773432427, 0.19814079912786253, -0.28845578570720243, 0.336187104999158, 0.8742807414259941, -0.7787074869262802, 0.5468775255294299, -0.723845204414693, 0.008127763819823951, 0.34186476255512704, 0.2639769485027573, -1.8208409662925802, 0.24074451187422571, 0.5562452782986852, -0.5824077840268167, 0.17050183300365282, 0.42085884285977426, -0.8692661641636048, -0.9723993347465054, 0.5395347413629555, -1.144824452521687, -1.5581534101688002, -1.6729339246680435, -2.2056076136021434, 1.103355797338571, 0.7678907038054802, -0.5151607726764834, -0.6475275993757056, -1.0082785648677384, 1.5260113519881962, -0.0076054176697331385, -0.8379869596906585, -0.8532996052463981, 0.520857662239727, -1.1507840593174075, 0.13138500423423757, 1.766428276090597, 0.6509203417858905, 1.290169264557484, 0.461245786964094, 0.381986938073141, 0.7753138167975542, 0.8672473904523145, 0.18973725833913044, 0.040801741645153794, -1.391900776067866, -0.6712369302438657, -0.04660937009967414, -1.1372146461701285, 0.370270983375189, 0.5796009309658001, -1.4386684202941982, -1.319559175894388, -0.5188624577046717, -1.050562091557685, 1.988326116952474], \"xaxis\": \"x2\", \"y\": [-1.228210303840886, 0.673718637442548, -0.6359991664128826, -0.23262448905478936, -0.4652684818242084, 0.09112090769390506, 1.1202307162460101, -0.913002197072858, -1.7866033041530176, -1.1819664154244243, -2.2518992211992668, 1.6419723454475943, -0.5049024421225882, -0.8316433290825647, -1.9026947938151906, 0.9529643236956478, 0.8424279826802521, 0.6496949082875334, -1.2710369557178685, 0.6744304243539521, 0.27031806004342473, -0.6151995848966308, 1.286999400136683, 2.754225637025308, -0.8685563696172357, -0.37270596578089227, 0.21656933195695277, 0.3299593481685292, -0.38976956152955244, 0.7899141331885607, -0.15232135255386411, -0.3278732576519635, -0.1714780618959102, 0.24585193839195518, -0.520103537564345, 0.9423867963175877, 0.6998506662177038, 2.9565000032387485, -0.16771290225752722, -0.8565644599372393, 1.9093025443891725, -0.6065596660356215, 1.5561398386580072, -1.6604273958353217, 0.29570532237337854, -0.30655930240007645, 0.5629765465472392, -1.1157754639387614, -0.22955196345192624, -2.0050583424582227, 0.11713750696332578, 2.8267139655873303, 0.46332154157231764, 0.8913848873219073, -0.27625761399056287, 0.17061072015134288, 0.01247361244100639, -1.1868120197940502, -0.1768842533262507, 0.3980979509622024, 1.7637268334097294, 0.9632004046301621, -0.174102504451404, -1.02063042523494, 1.678577707560514, 2.061538374722697, -0.01891713764992838, -0.34503079589422914, -0.8918084865031932, -0.7260269927380488, 0.49049384129362483, -1.7200742116968653, -0.7129415168181875, -0.44188757928112904, 3.5061225729394834, -0.48365529838350285, 0.09783218038002926, 1.4577512305513558, 0.036503672104812285, 1.6157315712246738, 0.34311746110657376, 0.531373414113734, -0.7186086927412191, 1.956762618943234, -0.06307785143259939, 0.18422454988996845, -0.8828271943787102, -0.7819307241118907, -0.4712984396735526, 0.8208067834200556, -0.9535656763785126, 0.6172811281139772, 0.38806297663784844, 0.21969028658437853, 0.5142512913421163, 0.3040997986323465, 0.28940893588859046, 0.39912893114064507, 0.8522015383297381, 0.766249213069548], \"yaxis\": \"y2\"}, {\"line\": {\"color\": \"rgba(128, 128, 128, 1.0)\", \"dash\": \"solid\", \"shape\": \"linear\", \"width\": 1.3}, \"marker\": {\"size\": 2, \"symbol\": \"circle\"}, \"mode\": \"markers\", \"name\": \"A\", \"text\": \"\", \"type\": \"scatter\", \"x\": [0.1426936499011667, 0.6743863824468715, -1.9159042047040724, 0.12701611366523768, 0.5636280465689022, 0.2653262616821967, -0.5830900218537203, 1.6268944121439155, 0.032134459457989054, 0.2837070672739637, -0.908341131234595, -0.2912868176976957, -0.5596115261134985, -0.6698547775985916, -0.06644066405389445, -0.5635975064256188, -0.03413687986916309, -0.19300147898416536, 0.3872050642817624, -2.1165183184615546, -0.6976749316032758, 1.5783006573276834, -1.0984317833839843, 0.1935586317598326, -2.0414514060862277, 0.8273165865437476, -0.5334902768575471, -0.6596195709663755, -0.549215782627158, -0.5465157483350779, -2.2291257904849964, -0.8924230840343537, 0.5864182297589924, -0.8774228368518772, 1.2637792405670139, -1.3408252236678477, -0.6005444176819201, 0.6910209001315113, 0.030946176835107673, 0.8317294046592685, -0.24226793477545702, -1.0751195048330666, 1.6790089121797258, 0.5299931706931623, 0.9065907842791338, -0.9544899579816438, 1.2784401587767251, 0.15403433605819544, 0.611993290038772, -0.7559634279957641, 0.08819990722390152, -1.056055039049362, 2.0027716806468785, -1.9615720122189535, -0.17513402898714328, -0.4798872243484583, -2.4508266457656, -0.33884412615446186, -2.019978178352013, -0.7290974754166974, -1.347793986082597, 2.1398770557429487, 0.16040455572132187, 0.06465038310874904, 0.015294630368586389, -1.0890873934955765, 1.4409058291864612, -1.371518717484521, 1.3071811967033915, 1.3904478393949753, -2.0037227249117553, 0.11510825724336189, -0.29718611398512745, -0.5055331245752551, 0.6448185869979838, 0.1491150879202775, 0.9985330501748927, 1.0014419886266486, 1.865102464507751, 0.2286365636433252, -0.03550451414647598, -2.718717212523047, -0.9240701341744608, -0.2888760375290752, 0.5207417218309627, 1.1687872614974864, 0.2565814315959523, -0.18066310467005145, 0.06308409801663467, -0.7123126172355311, -1.0368383000789096, 0.27498166815858444, -1.140923803902282, -1.525816700957253, 0.21746655202661985, 0.052356171907522044, -0.49939185897760346, 0.13609632242732642, -0.28894964323218236, 0.08729029057194035], \"xaxis\": \"x3\", \"y\": [-1.228210303840886, 0.673718637442548, -0.6359991664128826, -0.23262448905478936, -0.4652684818242084, 0.09112090769390506, 1.1202307162460101, -0.913002197072858, -1.7866033041530176, -1.1819664154244243, -2.2518992211992668, 1.6419723454475943, -0.5049024421225882, -0.8316433290825647, -1.9026947938151906, 0.9529643236956478, 0.8424279826802521, 0.6496949082875334, -1.2710369557178685, 0.6744304243539521, 0.27031806004342473, -0.6151995848966308, 1.286999400136683, 2.754225637025308, -0.8685563696172357, -0.37270596578089227, 0.21656933195695277, 0.3299593481685292, -0.38976956152955244, 0.7899141331885607, -0.15232135255386411, -0.3278732576519635, -0.1714780618959102, 0.24585193839195518, -0.520103537564345, 0.9423867963175877, 0.6998506662177038, 2.9565000032387485, -0.16771290225752722, -0.8565644599372393, 1.9093025443891725, -0.6065596660356215, 1.5561398386580072, -1.6604273958353217, 0.29570532237337854, -0.30655930240007645, 0.5629765465472392, -1.1157754639387614, -0.22955196345192624, -2.0050583424582227, 0.11713750696332578, 2.8267139655873303, 0.46332154157231764, 0.8913848873219073, -0.27625761399056287, 0.17061072015134288, 0.01247361244100639, -1.1868120197940502, -0.1768842533262507, 0.3980979509622024, 1.7637268334097294, 0.9632004046301621, -0.174102504451404, -1.02063042523494, 1.678577707560514, 2.061538374722697, -0.01891713764992838, -0.34503079589422914, -0.8918084865031932, -0.7260269927380488, 0.49049384129362483, -1.7200742116968653, -0.7129415168181875, -0.44188757928112904, 3.5061225729394834, -0.48365529838350285, 0.09783218038002926, 1.4577512305513558, 0.036503672104812285, 1.6157315712246738, 0.34311746110657376, 0.531373414113734, -0.7186086927412191, 1.956762618943234, -0.06307785143259939, 0.18422454988996845, -0.8828271943787102, -0.7819307241118907, -0.4712984396735526, 0.8208067834200556, -0.9535656763785126, 0.6172811281139772, 0.38806297663784844, 0.21969028658437853, 0.5142512913421163, 0.3040997986323465, 0.28940893588859046, 0.39912893114064507, 0.8522015383297381, 0.766249213069548], \"yaxis\": \"y3\"}, {\"line\": {\"color\": \"rgba(128, 128, 128, 1.0)\", \"dash\": \"solid\", \"shape\": \"linear\", \"width\": 1.3}, \"marker\": {\"size\": 2, \"symbol\": \"circle\"}, \"mode\": \"markers\", \"name\": \"A\", \"text\": \"\", \"type\": \"scatter\", \"x\": [0.6106487369671837, -0.5580959391359147, -0.40383476919477296, 0.11125072387168945, 1.914679797928206, -0.5794917293571655, 0.2802186585460156, -0.48119536467688356, 1.549222235085247, -0.761040886666783, -0.2042886730218136, -0.14071286229645755, -0.08572931138786967, -0.4342450052527491, 0.8159473114893341, 1.5181456675065004, -0.2591638049954156, 1.4637550557367995, -0.8259681604858221, -0.878102167941134, -2.1062948243645536, -0.3254887503171195, -0.07034230093754808, -0.44464327812496063, 1.961675856334788, 0.24629335711581235, 0.09799551611645173, 0.19159035994880308, -1.0156074997556654, 1.2806421125844174, 0.1304788681345427, 0.1206976944051949, -0.48836243352088493, 2.802032607444495, 0.9992093115241782, -0.7896734382539464, 0.42162329356356454, 0.014579143845804126, -0.4652716694577242, 0.3454690258598138, 0.6454479664922625, 0.5927360716174458, -1.1091587246321357, -0.3763966436874311, -0.4723404843015961, 1.6296431854939475, -1.2247809594359418, -0.9550425500787262, 0.2789136570555125, -0.5729846821735802, -0.026253713718288375, 0.725066652097282, 0.6902230007349073, 0.9811932312461932, 1.9688012226230052, -0.13927462217851405, -0.5123803245556551, 0.7056350323843916, -0.5720206839257674, -2.0999560084539954, 0.28156143554830015, 1.0747977797889474, -1.158658136514488, 0.529537528312165, -0.11214529017336296, -0.4160977828350819, -1.0674672412849793, -0.2449859194432744, -0.6128110114858487, 1.9448518050754133, -1.783138151347126, -0.6752860083341697, 0.7022789401239837, -1.835524755070365, -0.313253458096198, -0.45099788556239573, -0.28857769772700764, -0.1892423501615623, -0.24688173949758832, 0.13424524754480605, 0.05797104701583112, 0.09660484893958388, -1.3095879709172507, 0.24754957486710374, 1.9569210065511524, 2.0954909828936454, 2.2068872058371127, -1.8935847994034554, -1.9658707145920777, -1.0564378775196899, 1.4874017864180422, 0.17280821165585758, 0.37644056131981074, 0.2340871273662667, -1.0632261061039, 0.5540872350959097, -1.007909624391688, 0.6562083549945321, -0.08960169518516971, 0.11316995519037891], \"xaxis\": \"x4\", \"y\": [-1.228210303840886, 0.673718637442548, -0.6359991664128826, -0.23262448905478936, -0.4652684818242084, 0.09112090769390506, 1.1202307162460101, -0.913002197072858, -1.7866033041530176, -1.1819664154244243, -2.2518992211992668, 1.6419723454475943, -0.5049024421225882, -0.8316433290825647, -1.9026947938151906, 0.9529643236956478, 0.8424279826802521, 0.6496949082875334, -1.2710369557178685, 0.6744304243539521, 0.27031806004342473, -0.6151995848966308, 1.286999400136683, 2.754225637025308, -0.8685563696172357, -0.37270596578089227, 0.21656933195695277, 0.3299593481685292, -0.38976956152955244, 0.7899141331885607, -0.15232135255386411, -0.3278732576519635, -0.1714780618959102, 0.24585193839195518, -0.520103537564345, 0.9423867963175877, 0.6998506662177038, 2.9565000032387485, -0.16771290225752722, -0.8565644599372393, 1.9093025443891725, -0.6065596660356215, 1.5561398386580072, -1.6604273958353217, 0.29570532237337854, -0.30655930240007645, 0.5629765465472392, -1.1157754639387614, -0.22955196345192624, -2.0050583424582227, 0.11713750696332578, 2.8267139655873303, 0.46332154157231764, 0.8913848873219073, -0.27625761399056287, 0.17061072015134288, 0.01247361244100639, -1.1868120197940502, -0.1768842533262507, 0.3980979509622024, 1.7637268334097294, 0.9632004046301621, -0.174102504451404, -1.02063042523494, 1.678577707560514, 2.061538374722697, -0.01891713764992838, -0.34503079589422914, -0.8918084865031932, -0.7260269927380488, 0.49049384129362483, -1.7200742116968653, -0.7129415168181875, -0.44188757928112904, 3.5061225729394834, -0.48365529838350285, 0.09783218038002926, 1.4577512305513558, 0.036503672104812285, 1.6157315712246738, 0.34311746110657376, 0.531373414113734, -0.7186086927412191, 1.956762618943234, -0.06307785143259939, 0.18422454988996845, -0.8828271943787102, -0.7819307241118907, -0.4712984396735526, 0.8208067834200556, -0.9535656763785126, 0.6172811281139772, 0.38806297663784844, 0.21969028658437853, 0.5142512913421163, 0.3040997986323465, 0.28940893588859046, 0.39912893114064507, 0.8522015383297381, 0.766249213069548], \"yaxis\": \"y4\"}, {\"line\": {\"color\": \"rgba(128, 128, 128, 1.0)\", \"dash\": \"solid\", \"shape\": \"linear\", \"width\": 1.3}, \"marker\": {\"size\": 2, \"symbol\": \"circle\"}, \"mode\": \"markers\", \"name\": \"B\", \"text\": \"\", \"type\": \"scatter\", \"x\": [-1.228210303840886, 0.673718637442548, -0.6359991664128826, -0.23262448905478936, -0.4652684818242084, 0.09112090769390506, 1.1202307162460101, -0.913002197072858, -1.7866033041530176, -1.1819664154244243, -2.2518992211992668, 1.6419723454475943, -0.5049024421225882, -0.8316433290825647, -1.9026947938151906, 0.9529643236956478, 0.8424279826802521, 0.6496949082875334, -1.2710369557178685, 0.6744304243539521, 0.27031806004342473, -0.6151995848966308, 1.286999400136683, 2.754225637025308, -0.8685563696172357, -0.37270596578089227, 0.21656933195695277, 0.3299593481685292, -0.38976956152955244, 0.7899141331885607, -0.15232135255386411, -0.3278732576519635, -0.1714780618959102, 0.24585193839195518, -0.520103537564345, 0.9423867963175877, 0.6998506662177038, 2.9565000032387485, -0.16771290225752722, -0.8565644599372393, 1.9093025443891725, -0.6065596660356215, 1.5561398386580072, -1.6604273958353217, 0.29570532237337854, -0.30655930240007645, 0.5629765465472392, -1.1157754639387614, -0.22955196345192624, -2.0050583424582227, 0.11713750696332578, 2.8267139655873303, 0.46332154157231764, 0.8913848873219073, -0.27625761399056287, 0.17061072015134288, 0.01247361244100639, -1.1868120197940502, -0.1768842533262507, 0.3980979509622024, 1.7637268334097294, 0.9632004046301621, -0.174102504451404, -1.02063042523494, 1.678577707560514, 2.061538374722697, -0.01891713764992838, -0.34503079589422914, -0.8918084865031932, -0.7260269927380488, 0.49049384129362483, -1.7200742116968653, -0.7129415168181875, -0.44188757928112904, 3.5061225729394834, -0.48365529838350285, 0.09783218038002926, 1.4577512305513558, 0.036503672104812285, 1.6157315712246738, 0.34311746110657376, 0.531373414113734, -0.7186086927412191, 1.956762618943234, -0.06307785143259939, 0.18422454988996845, -0.8828271943787102, -0.7819307241118907, -0.4712984396735526, 0.8208067834200556, -0.9535656763785126, 0.6172811281139772, 0.38806297663784844, 0.21969028658437853, 0.5142512913421163, 0.3040997986323465, 0.28940893588859046, 0.39912893114064507, 0.8522015383297381, 0.766249213069548], \"xaxis\": \"x5\", \"y\": [-0.9410992898133941, 0.7403709673795416, -0.3681996600834796, 0.0991597200760194, -1.6825783826168605, -0.6208141494578543, -1.2271159557122688, -0.8033660807642069, 0.8468097288813591, 0.1722880167006293, -0.6637349467662795, -1.1017957408634886, 0.78893110183799, 0.5052234648355544, -0.5183463996216997, -0.13014575030713596, -2.1173663052566436, 1.0340391919026775, 0.4758016414816595, 1.1751249928768135, -0.5777840131627777, 0.35166835742458624, 0.4250410076349158, 0.12956422399669026, -0.40001911165167875, 0.49433210165665, 0.9238971005402511, -0.7022088325329872, -0.6250617284042304, 0.823798227192268, 0.6736158408541878, -0.3471483746325953, -1.3044961423954966, 1.2676370274998308, -1.3142364799225965, 2.650935361804906, 0.9822129709541314, 1.9357227006820465, 0.3703095980993604, -0.5530894722283664, -1.0407802242731543, -0.24484815231948331, 1.7030276075455875, 0.4806778126836462, 0.6063504773432427, 0.19814079912786253, -0.28845578570720243, 0.336187104999158, 0.8742807414259941, -0.7787074869262802, 0.5468775255294299, -0.723845204414693, 0.008127763819823951, 0.34186476255512704, 0.2639769485027573, -1.8208409662925802, 0.24074451187422571, 0.5562452782986852, -0.5824077840268167, 0.17050183300365282, 0.42085884285977426, -0.8692661641636048, -0.9723993347465054, 0.5395347413629555, -1.144824452521687, -1.5581534101688002, -1.6729339246680435, -2.2056076136021434, 1.103355797338571, 0.7678907038054802, -0.5151607726764834, -0.6475275993757056, -1.0082785648677384, 1.5260113519881962, -0.0076054176697331385, -0.8379869596906585, -0.8532996052463981, 0.520857662239727, -1.1507840593174075, 0.13138500423423757, 1.766428276090597, 0.6509203417858905, 1.290169264557484, 0.461245786964094, 0.381986938073141, 0.7753138167975542, 0.8672473904523145, 0.18973725833913044, 0.040801741645153794, -1.391900776067866, -0.6712369302438657, -0.04660937009967414, -1.1372146461701285, 0.370270983375189, 0.5796009309658001, -1.4386684202941982, -1.319559175894388, -0.5188624577046717, -1.050562091557685, 1.988326116952474], \"yaxis\": \"y5\"}, {\"histfunc\": \"count\", \"histnorm\": \"\", \"marker\": {\"color\": \"rgba(55, 128, 191, 1.0)\", \"line\": {\"color\": \"#4D5663\", \"width\": 1.3}}, \"name\": \"B\", \"nbinsx\": 10, \"opacity\": 0.8, \"orientation\": \"v\", \"type\": \"histogram\", \"x\": [-0.9410992898133941, 0.7403709673795416, -0.3681996600834796, 0.0991597200760194, -1.6825783826168605, -0.6208141494578543, -1.2271159557122688, -0.8033660807642069, 0.8468097288813591, 0.1722880167006293, -0.6637349467662795, -1.1017957408634886, 0.78893110183799, 0.5052234648355544, -0.5183463996216997, -0.13014575030713596, -2.1173663052566436, 1.0340391919026775, 0.4758016414816595, 1.1751249928768135, -0.5777840131627777, 0.35166835742458624, 0.4250410076349158, 0.12956422399669026, -0.40001911165167875, 0.49433210165665, 0.9238971005402511, -0.7022088325329872, -0.6250617284042304, 0.823798227192268, 0.6736158408541878, -0.3471483746325953, -1.3044961423954966, 1.2676370274998308, -1.3142364799225965, 2.650935361804906, 0.9822129709541314, 1.9357227006820465, 0.3703095980993604, -0.5530894722283664, -1.0407802242731543, -0.24484815231948331, 1.7030276075455875, 0.4806778126836462, 0.6063504773432427, 0.19814079912786253, -0.28845578570720243, 0.336187104999158, 0.8742807414259941, -0.7787074869262802, 0.5468775255294299, -0.723845204414693, 0.008127763819823951, 0.34186476255512704, 0.2639769485027573, -1.8208409662925802, 0.24074451187422571, 0.5562452782986852, -0.5824077840268167, 0.17050183300365282, 0.42085884285977426, -0.8692661641636048, -0.9723993347465054, 0.5395347413629555, -1.144824452521687, -1.5581534101688002, -1.6729339246680435, -2.2056076136021434, 1.103355797338571, 0.7678907038054802, -0.5151607726764834, -0.6475275993757056, -1.0082785648677384, 1.5260113519881962, -0.0076054176697331385, -0.8379869596906585, -0.8532996052463981, 0.520857662239727, -1.1507840593174075, 0.13138500423423757, 1.766428276090597, 0.6509203417858905, 1.290169264557484, 0.461245786964094, 0.381986938073141, 0.7753138167975542, 0.8672473904523145, 0.18973725833913044, 0.040801741645153794, -1.391900776067866, -0.6712369302438657, -0.04660937009967414, -1.1372146461701285, 0.370270983375189, 0.5796009309658001, -1.4386684202941982, -1.319559175894388, -0.5188624577046717, -1.050562091557685, 1.988326116952474], \"xaxis\": \"x6\", \"yaxis\": \"y6\"}, {\"line\": {\"color\": \"rgba(128, 128, 128, 1.0)\", \"dash\": \"solid\", \"shape\": \"linear\", \"width\": 1.3}, \"marker\": {\"size\": 2, \"symbol\": \"circle\"}, \"mode\": \"markers\", \"name\": \"B\", \"text\": \"\", \"type\": \"scatter\", \"x\": [0.1426936499011667, 0.6743863824468715, -1.9159042047040724, 0.12701611366523768, 0.5636280465689022, 0.2653262616821967, -0.5830900218537203, 1.6268944121439155, 0.032134459457989054, 0.2837070672739637, -0.908341131234595, -0.2912868176976957, -0.5596115261134985, -0.6698547775985916, -0.06644066405389445, -0.5635975064256188, -0.03413687986916309, -0.19300147898416536, 0.3872050642817624, -2.1165183184615546, -0.6976749316032758, 1.5783006573276834, -1.0984317833839843, 0.1935586317598326, -2.0414514060862277, 0.8273165865437476, -0.5334902768575471, -0.6596195709663755, -0.549215782627158, -0.5465157483350779, -2.2291257904849964, -0.8924230840343537, 0.5864182297589924, -0.8774228368518772, 1.2637792405670139, -1.3408252236678477, -0.6005444176819201, 0.6910209001315113, 0.030946176835107673, 0.8317294046592685, -0.24226793477545702, -1.0751195048330666, 1.6790089121797258, 0.5299931706931623, 0.9065907842791338, -0.9544899579816438, 1.2784401587767251, 0.15403433605819544, 0.611993290038772, -0.7559634279957641, 0.08819990722390152, -1.056055039049362, 2.0027716806468785, -1.9615720122189535, -0.17513402898714328, -0.4798872243484583, -2.4508266457656, -0.33884412615446186, -2.019978178352013, -0.7290974754166974, -1.347793986082597, 2.1398770557429487, 0.16040455572132187, 0.06465038310874904, 0.015294630368586389, -1.0890873934955765, 1.4409058291864612, -1.371518717484521, 1.3071811967033915, 1.3904478393949753, -2.0037227249117553, 0.11510825724336189, -0.29718611398512745, -0.5055331245752551, 0.6448185869979838, 0.1491150879202775, 0.9985330501748927, 1.0014419886266486, 1.865102464507751, 0.2286365636433252, -0.03550451414647598, -2.718717212523047, -0.9240701341744608, -0.2888760375290752, 0.5207417218309627, 1.1687872614974864, 0.2565814315959523, -0.18066310467005145, 0.06308409801663467, -0.7123126172355311, -1.0368383000789096, 0.27498166815858444, -1.140923803902282, -1.525816700957253, 0.21746655202661985, 0.052356171907522044, -0.49939185897760346, 0.13609632242732642, -0.28894964323218236, 0.08729029057194035], \"xaxis\": \"x7\", \"y\": [-0.9410992898133941, 0.7403709673795416, -0.3681996600834796, 0.0991597200760194, -1.6825783826168605, -0.6208141494578543, -1.2271159557122688, -0.8033660807642069, 0.8468097288813591, 0.1722880167006293, -0.6637349467662795, -1.1017957408634886, 0.78893110183799, 0.5052234648355544, -0.5183463996216997, -0.13014575030713596, -2.1173663052566436, 1.0340391919026775, 0.4758016414816595, 1.1751249928768135, -0.5777840131627777, 0.35166835742458624, 0.4250410076349158, 0.12956422399669026, -0.40001911165167875, 0.49433210165665, 0.9238971005402511, -0.7022088325329872, -0.6250617284042304, 0.823798227192268, 0.6736158408541878, -0.3471483746325953, -1.3044961423954966, 1.2676370274998308, -1.3142364799225965, 2.650935361804906, 0.9822129709541314, 1.9357227006820465, 0.3703095980993604, -0.5530894722283664, -1.0407802242731543, -0.24484815231948331, 1.7030276075455875, 0.4806778126836462, 0.6063504773432427, 0.19814079912786253, -0.28845578570720243, 0.336187104999158, 0.8742807414259941, -0.7787074869262802, 0.5468775255294299, -0.723845204414693, 0.008127763819823951, 0.34186476255512704, 0.2639769485027573, -1.8208409662925802, 0.24074451187422571, 0.5562452782986852, -0.5824077840268167, 0.17050183300365282, 0.42085884285977426, -0.8692661641636048, -0.9723993347465054, 0.5395347413629555, -1.144824452521687, -1.5581534101688002, -1.6729339246680435, -2.2056076136021434, 1.103355797338571, 0.7678907038054802, -0.5151607726764834, -0.6475275993757056, -1.0082785648677384, 1.5260113519881962, -0.0076054176697331385, -0.8379869596906585, -0.8532996052463981, 0.520857662239727, -1.1507840593174075, 0.13138500423423757, 1.766428276090597, 0.6509203417858905, 1.290169264557484, 0.461245786964094, 0.381986938073141, 0.7753138167975542, 0.8672473904523145, 0.18973725833913044, 0.040801741645153794, -1.391900776067866, -0.6712369302438657, -0.04660937009967414, -1.1372146461701285, 0.370270983375189, 0.5796009309658001, -1.4386684202941982, -1.319559175894388, -0.5188624577046717, -1.050562091557685, 1.988326116952474], \"yaxis\": \"y7\"}, {\"line\": {\"color\": \"rgba(128, 128, 128, 1.0)\", \"dash\": \"solid\", \"shape\": \"linear\", \"width\": 1.3}, \"marker\": {\"size\": 2, \"symbol\": \"circle\"}, \"mode\": \"markers\", \"name\": \"B\", \"text\": \"\", \"type\": \"scatter\", \"x\": [0.6106487369671837, -0.5580959391359147, -0.40383476919477296, 0.11125072387168945, 1.914679797928206, -0.5794917293571655, 0.2802186585460156, -0.48119536467688356, 1.549222235085247, -0.761040886666783, -0.2042886730218136, -0.14071286229645755, -0.08572931138786967, -0.4342450052527491, 0.8159473114893341, 1.5181456675065004, -0.2591638049954156, 1.4637550557367995, -0.8259681604858221, -0.878102167941134, -2.1062948243645536, -0.3254887503171195, -0.07034230093754808, -0.44464327812496063, 1.961675856334788, 0.24629335711581235, 0.09799551611645173, 0.19159035994880308, -1.0156074997556654, 1.2806421125844174, 0.1304788681345427, 0.1206976944051949, -0.48836243352088493, 2.802032607444495, 0.9992093115241782, -0.7896734382539464, 0.42162329356356454, 0.014579143845804126, -0.4652716694577242, 0.3454690258598138, 0.6454479664922625, 0.5927360716174458, -1.1091587246321357, -0.3763966436874311, -0.4723404843015961, 1.6296431854939475, -1.2247809594359418, -0.9550425500787262, 0.2789136570555125, -0.5729846821735802, -0.026253713718288375, 0.725066652097282, 0.6902230007349073, 0.9811932312461932, 1.9688012226230052, -0.13927462217851405, -0.5123803245556551, 0.7056350323843916, -0.5720206839257674, -2.0999560084539954, 0.28156143554830015, 1.0747977797889474, -1.158658136514488, 0.529537528312165, -0.11214529017336296, -0.4160977828350819, -1.0674672412849793, -0.2449859194432744, -0.6128110114858487, 1.9448518050754133, -1.783138151347126, -0.6752860083341697, 0.7022789401239837, -1.835524755070365, -0.313253458096198, -0.45099788556239573, -0.28857769772700764, -0.1892423501615623, -0.24688173949758832, 0.13424524754480605, 0.05797104701583112, 0.09660484893958388, -1.3095879709172507, 0.24754957486710374, 1.9569210065511524, 2.0954909828936454, 2.2068872058371127, -1.8935847994034554, -1.9658707145920777, -1.0564378775196899, 1.4874017864180422, 0.17280821165585758, 0.37644056131981074, 0.2340871273662667, -1.0632261061039, 0.5540872350959097, -1.007909624391688, 0.6562083549945321, -0.08960169518516971, 0.11316995519037891], \"xaxis\": \"x8\", \"y\": [-0.9410992898133941, 0.7403709673795416, -0.3681996600834796, 0.0991597200760194, -1.6825783826168605, -0.6208141494578543, -1.2271159557122688, -0.8033660807642069, 0.8468097288813591, 0.1722880167006293, -0.6637349467662795, -1.1017957408634886, 0.78893110183799, 0.5052234648355544, -0.5183463996216997, -0.13014575030713596, -2.1173663052566436, 1.0340391919026775, 0.4758016414816595, 1.1751249928768135, -0.5777840131627777, 0.35166835742458624, 0.4250410076349158, 0.12956422399669026, -0.40001911165167875, 0.49433210165665, 0.9238971005402511, -0.7022088325329872, -0.6250617284042304, 0.823798227192268, 0.6736158408541878, -0.3471483746325953, -1.3044961423954966, 1.2676370274998308, -1.3142364799225965, 2.650935361804906, 0.9822129709541314, 1.9357227006820465, 0.3703095980993604, -0.5530894722283664, -1.0407802242731543, -0.24484815231948331, 1.7030276075455875, 0.4806778126836462, 0.6063504773432427, 0.19814079912786253, -0.28845578570720243, 0.336187104999158, 0.8742807414259941, -0.7787074869262802, 0.5468775255294299, -0.723845204414693, 0.008127763819823951, 0.34186476255512704, 0.2639769485027573, -1.8208409662925802, 0.24074451187422571, 0.5562452782986852, -0.5824077840268167, 0.17050183300365282, 0.42085884285977426, -0.8692661641636048, -0.9723993347465054, 0.5395347413629555, -1.144824452521687, -1.5581534101688002, -1.6729339246680435, -2.2056076136021434, 1.103355797338571, 0.7678907038054802, -0.5151607726764834, -0.6475275993757056, -1.0082785648677384, 1.5260113519881962, -0.0076054176697331385, -0.8379869596906585, -0.8532996052463981, 0.520857662239727, -1.1507840593174075, 0.13138500423423757, 1.766428276090597, 0.6509203417858905, 1.290169264557484, 0.461245786964094, 0.381986938073141, 0.7753138167975542, 0.8672473904523145, 0.18973725833913044, 0.040801741645153794, -1.391900776067866, -0.6712369302438657, -0.04660937009967414, -1.1372146461701285, 0.370270983375189, 0.5796009309658001, -1.4386684202941982, -1.319559175894388, -0.5188624577046717, -1.050562091557685, 1.988326116952474], \"yaxis\": \"y8\"}, {\"line\": {\"color\": \"rgba(128, 128, 128, 1.0)\", \"dash\": \"solid\", \"shape\": \"linear\", \"width\": 1.3}, \"marker\": {\"size\": 2, \"symbol\": \"circle\"}, \"mode\": \"markers\", \"name\": \"C\", \"text\": \"\", \"type\": \"scatter\", \"x\": [-1.228210303840886, 0.673718637442548, -0.6359991664128826, -0.23262448905478936, -0.4652684818242084, 0.09112090769390506, 1.1202307162460101, -0.913002197072858, -1.7866033041530176, -1.1819664154244243, -2.2518992211992668, 1.6419723454475943, -0.5049024421225882, -0.8316433290825647, -1.9026947938151906, 0.9529643236956478, 0.8424279826802521, 0.6496949082875334, -1.2710369557178685, 0.6744304243539521, 0.27031806004342473, -0.6151995848966308, 1.286999400136683, 2.754225637025308, -0.8685563696172357, -0.37270596578089227, 0.21656933195695277, 0.3299593481685292, -0.38976956152955244, 0.7899141331885607, -0.15232135255386411, -0.3278732576519635, -0.1714780618959102, 0.24585193839195518, -0.520103537564345, 0.9423867963175877, 0.6998506662177038, 2.9565000032387485, -0.16771290225752722, -0.8565644599372393, 1.9093025443891725, -0.6065596660356215, 1.5561398386580072, -1.6604273958353217, 0.29570532237337854, -0.30655930240007645, 0.5629765465472392, -1.1157754639387614, -0.22955196345192624, -2.0050583424582227, 0.11713750696332578, 2.8267139655873303, 0.46332154157231764, 0.8913848873219073, -0.27625761399056287, 0.17061072015134288, 0.01247361244100639, -1.1868120197940502, -0.1768842533262507, 0.3980979509622024, 1.7637268334097294, 0.9632004046301621, -0.174102504451404, -1.02063042523494, 1.678577707560514, 2.061538374722697, -0.01891713764992838, -0.34503079589422914, -0.8918084865031932, -0.7260269927380488, 0.49049384129362483, -1.7200742116968653, -0.7129415168181875, -0.44188757928112904, 3.5061225729394834, -0.48365529838350285, 0.09783218038002926, 1.4577512305513558, 0.036503672104812285, 1.6157315712246738, 0.34311746110657376, 0.531373414113734, -0.7186086927412191, 1.956762618943234, -0.06307785143259939, 0.18422454988996845, -0.8828271943787102, -0.7819307241118907, -0.4712984396735526, 0.8208067834200556, -0.9535656763785126, 0.6172811281139772, 0.38806297663784844, 0.21969028658437853, 0.5142512913421163, 0.3040997986323465, 0.28940893588859046, 0.39912893114064507, 0.8522015383297381, 0.766249213069548], \"xaxis\": \"x9\", \"y\": [0.1426936499011667, 0.6743863824468715, -1.9159042047040724, 0.12701611366523768, 0.5636280465689022, 0.2653262616821967, -0.5830900218537203, 1.6268944121439155, 0.032134459457989054, 0.2837070672739637, -0.908341131234595, -0.2912868176976957, -0.5596115261134985, -0.6698547775985916, -0.06644066405389445, -0.5635975064256188, -0.03413687986916309, -0.19300147898416536, 0.3872050642817624, -2.1165183184615546, -0.6976749316032758, 1.5783006573276834, -1.0984317833839843, 0.1935586317598326, -2.0414514060862277, 0.8273165865437476, -0.5334902768575471, -0.6596195709663755, -0.549215782627158, -0.5465157483350779, -2.2291257904849964, -0.8924230840343537, 0.5864182297589924, -0.8774228368518772, 1.2637792405670139, -1.3408252236678477, -0.6005444176819201, 0.6910209001315113, 0.030946176835107673, 0.8317294046592685, -0.24226793477545702, -1.0751195048330666, 1.6790089121797258, 0.5299931706931623, 0.9065907842791338, -0.9544899579816438, 1.2784401587767251, 0.15403433605819544, 0.611993290038772, -0.7559634279957641, 0.08819990722390152, -1.056055039049362, 2.0027716806468785, -1.9615720122189535, -0.17513402898714328, -0.4798872243484583, -2.4508266457656, -0.33884412615446186, -2.019978178352013, -0.7290974754166974, -1.347793986082597, 2.1398770557429487, 0.16040455572132187, 0.06465038310874904, 0.015294630368586389, -1.0890873934955765, 1.4409058291864612, -1.371518717484521, 1.3071811967033915, 1.3904478393949753, -2.0037227249117553, 0.11510825724336189, -0.29718611398512745, -0.5055331245752551, 0.6448185869979838, 0.1491150879202775, 0.9985330501748927, 1.0014419886266486, 1.865102464507751, 0.2286365636433252, -0.03550451414647598, -2.718717212523047, -0.9240701341744608, -0.2888760375290752, 0.5207417218309627, 1.1687872614974864, 0.2565814315959523, -0.18066310467005145, 0.06308409801663467, -0.7123126172355311, -1.0368383000789096, 0.27498166815858444, -1.140923803902282, -1.525816700957253, 0.21746655202661985, 0.052356171907522044, -0.49939185897760346, 0.13609632242732642, -0.28894964323218236, 0.08729029057194035], \"yaxis\": \"y9\"}, {\"line\": {\"color\": \"rgba(128, 128, 128, 1.0)\", \"dash\": \"solid\", \"shape\": \"linear\", \"width\": 1.3}, \"marker\": {\"size\": 2, \"symbol\": \"circle\"}, \"mode\": \"markers\", \"name\": \"C\", \"text\": \"\", \"type\": \"scatter\", \"x\": [-0.9410992898133941, 0.7403709673795416, -0.3681996600834796, 0.0991597200760194, -1.6825783826168605, -0.6208141494578543, -1.2271159557122688, -0.8033660807642069, 0.8468097288813591, 0.1722880167006293, -0.6637349467662795, -1.1017957408634886, 0.78893110183799, 0.5052234648355544, -0.5183463996216997, -0.13014575030713596, -2.1173663052566436, 1.0340391919026775, 0.4758016414816595, 1.1751249928768135, -0.5777840131627777, 0.35166835742458624, 0.4250410076349158, 0.12956422399669026, -0.40001911165167875, 0.49433210165665, 0.9238971005402511, -0.7022088325329872, -0.6250617284042304, 0.823798227192268, 0.6736158408541878, -0.3471483746325953, -1.3044961423954966, 1.2676370274998308, -1.3142364799225965, 2.650935361804906, 0.9822129709541314, 1.9357227006820465, 0.3703095980993604, -0.5530894722283664, -1.0407802242731543, -0.24484815231948331, 1.7030276075455875, 0.4806778126836462, 0.6063504773432427, 0.19814079912786253, -0.28845578570720243, 0.336187104999158, 0.8742807414259941, -0.7787074869262802, 0.5468775255294299, -0.723845204414693, 0.008127763819823951, 0.34186476255512704, 0.2639769485027573, -1.8208409662925802, 0.24074451187422571, 0.5562452782986852, -0.5824077840268167, 0.17050183300365282, 0.42085884285977426, -0.8692661641636048, -0.9723993347465054, 0.5395347413629555, -1.144824452521687, -1.5581534101688002, -1.6729339246680435, -2.2056076136021434, 1.103355797338571, 0.7678907038054802, -0.5151607726764834, -0.6475275993757056, -1.0082785648677384, 1.5260113519881962, -0.0076054176697331385, -0.8379869596906585, -0.8532996052463981, 0.520857662239727, -1.1507840593174075, 0.13138500423423757, 1.766428276090597, 0.6509203417858905, 1.290169264557484, 0.461245786964094, 0.381986938073141, 0.7753138167975542, 0.8672473904523145, 0.18973725833913044, 0.040801741645153794, -1.391900776067866, -0.6712369302438657, -0.04660937009967414, -1.1372146461701285, 0.370270983375189, 0.5796009309658001, -1.4386684202941982, -1.319559175894388, -0.5188624577046717, -1.050562091557685, 1.988326116952474], \"xaxis\": \"x10\", \"y\": [0.1426936499011667, 0.6743863824468715, -1.9159042047040724, 0.12701611366523768, 0.5636280465689022, 0.2653262616821967, -0.5830900218537203, 1.6268944121439155, 0.032134459457989054, 0.2837070672739637, -0.908341131234595, -0.2912868176976957, -0.5596115261134985, -0.6698547775985916, -0.06644066405389445, -0.5635975064256188, -0.03413687986916309, -0.19300147898416536, 0.3872050642817624, -2.1165183184615546, -0.6976749316032758, 1.5783006573276834, -1.0984317833839843, 0.1935586317598326, -2.0414514060862277, 0.8273165865437476, -0.5334902768575471, -0.6596195709663755, -0.549215782627158, -0.5465157483350779, -2.2291257904849964, -0.8924230840343537, 0.5864182297589924, -0.8774228368518772, 1.2637792405670139, -1.3408252236678477, -0.6005444176819201, 0.6910209001315113, 0.030946176835107673, 0.8317294046592685, -0.24226793477545702, -1.0751195048330666, 1.6790089121797258, 0.5299931706931623, 0.9065907842791338, -0.9544899579816438, 1.2784401587767251, 0.15403433605819544, 0.611993290038772, -0.7559634279957641, 0.08819990722390152, -1.056055039049362, 2.0027716806468785, -1.9615720122189535, -0.17513402898714328, -0.4798872243484583, -2.4508266457656, -0.33884412615446186, -2.019978178352013, -0.7290974754166974, -1.347793986082597, 2.1398770557429487, 0.16040455572132187, 0.06465038310874904, 0.015294630368586389, -1.0890873934955765, 1.4409058291864612, -1.371518717484521, 1.3071811967033915, 1.3904478393949753, -2.0037227249117553, 0.11510825724336189, -0.29718611398512745, -0.5055331245752551, 0.6448185869979838, 0.1491150879202775, 0.9985330501748927, 1.0014419886266486, 1.865102464507751, 0.2286365636433252, -0.03550451414647598, -2.718717212523047, -0.9240701341744608, -0.2888760375290752, 0.5207417218309627, 1.1687872614974864, 0.2565814315959523, -0.18066310467005145, 0.06308409801663467, -0.7123126172355311, -1.0368383000789096, 0.27498166815858444, -1.140923803902282, -1.525816700957253, 0.21746655202661985, 0.052356171907522044, -0.49939185897760346, 0.13609632242732642, -0.28894964323218236, 0.08729029057194035], \"yaxis\": \"y10\"}, {\"histfunc\": \"count\", \"histnorm\": \"\", \"marker\": {\"color\": \"rgba(50, 171, 96, 1.0)\", \"line\": {\"color\": \"#4D5663\", \"width\": 1.3}}, \"name\": \"C\", \"nbinsx\": 10, \"opacity\": 0.8, \"orientation\": \"v\", \"type\": \"histogram\", \"x\": [0.1426936499011667, 0.6743863824468715, -1.9159042047040724, 0.12701611366523768, 0.5636280465689022, 0.2653262616821967, -0.5830900218537203, 1.6268944121439155, 0.032134459457989054, 0.2837070672739637, -0.908341131234595, -0.2912868176976957, -0.5596115261134985, -0.6698547775985916, -0.06644066405389445, -0.5635975064256188, -0.03413687986916309, -0.19300147898416536, 0.3872050642817624, -2.1165183184615546, -0.6976749316032758, 1.5783006573276834, -1.0984317833839843, 0.1935586317598326, -2.0414514060862277, 0.8273165865437476, -0.5334902768575471, -0.6596195709663755, -0.549215782627158, -0.5465157483350779, -2.2291257904849964, -0.8924230840343537, 0.5864182297589924, -0.8774228368518772, 1.2637792405670139, -1.3408252236678477, -0.6005444176819201, 0.6910209001315113, 0.030946176835107673, 0.8317294046592685, -0.24226793477545702, -1.0751195048330666, 1.6790089121797258, 0.5299931706931623, 0.9065907842791338, -0.9544899579816438, 1.2784401587767251, 0.15403433605819544, 0.611993290038772, -0.7559634279957641, 0.08819990722390152, -1.056055039049362, 2.0027716806468785, -1.9615720122189535, -0.17513402898714328, -0.4798872243484583, -2.4508266457656, -0.33884412615446186, -2.019978178352013, -0.7290974754166974, -1.347793986082597, 2.1398770557429487, 0.16040455572132187, 0.06465038310874904, 0.015294630368586389, -1.0890873934955765, 1.4409058291864612, -1.371518717484521, 1.3071811967033915, 1.3904478393949753, -2.0037227249117553, 0.11510825724336189, -0.29718611398512745, -0.5055331245752551, 0.6448185869979838, 0.1491150879202775, 0.9985330501748927, 1.0014419886266486, 1.865102464507751, 0.2286365636433252, -0.03550451414647598, -2.718717212523047, -0.9240701341744608, -0.2888760375290752, 0.5207417218309627, 1.1687872614974864, 0.2565814315959523, -0.18066310467005145, 0.06308409801663467, -0.7123126172355311, -1.0368383000789096, 0.27498166815858444, -1.140923803902282, -1.525816700957253, 0.21746655202661985, 0.052356171907522044, -0.49939185897760346, 0.13609632242732642, -0.28894964323218236, 0.08729029057194035], \"xaxis\": \"x11\", \"yaxis\": \"y11\"}, {\"line\": {\"color\": \"rgba(128, 128, 128, 1.0)\", \"dash\": \"solid\", \"shape\": \"linear\", \"width\": 1.3}, \"marker\": {\"size\": 2, \"symbol\": \"circle\"}, \"mode\": \"markers\", \"name\": \"C\", \"text\": \"\", \"type\": \"scatter\", \"x\": [0.6106487369671837, -0.5580959391359147, -0.40383476919477296, 0.11125072387168945, 1.914679797928206, -0.5794917293571655, 0.2802186585460156, -0.48119536467688356, 1.549222235085247, -0.761040886666783, -0.2042886730218136, -0.14071286229645755, -0.08572931138786967, -0.4342450052527491, 0.8159473114893341, 1.5181456675065004, -0.2591638049954156, 1.4637550557367995, -0.8259681604858221, -0.878102167941134, -2.1062948243645536, -0.3254887503171195, -0.07034230093754808, -0.44464327812496063, 1.961675856334788, 0.24629335711581235, 0.09799551611645173, 0.19159035994880308, -1.0156074997556654, 1.2806421125844174, 0.1304788681345427, 0.1206976944051949, -0.48836243352088493, 2.802032607444495, 0.9992093115241782, -0.7896734382539464, 0.42162329356356454, 0.014579143845804126, -0.4652716694577242, 0.3454690258598138, 0.6454479664922625, 0.5927360716174458, -1.1091587246321357, -0.3763966436874311, -0.4723404843015961, 1.6296431854939475, -1.2247809594359418, -0.9550425500787262, 0.2789136570555125, -0.5729846821735802, -0.026253713718288375, 0.725066652097282, 0.6902230007349073, 0.9811932312461932, 1.9688012226230052, -0.13927462217851405, -0.5123803245556551, 0.7056350323843916, -0.5720206839257674, -2.0999560084539954, 0.28156143554830015, 1.0747977797889474, -1.158658136514488, 0.529537528312165, -0.11214529017336296, -0.4160977828350819, -1.0674672412849793, -0.2449859194432744, -0.6128110114858487, 1.9448518050754133, -1.783138151347126, -0.6752860083341697, 0.7022789401239837, -1.835524755070365, -0.313253458096198, -0.45099788556239573, -0.28857769772700764, -0.1892423501615623, -0.24688173949758832, 0.13424524754480605, 0.05797104701583112, 0.09660484893958388, -1.3095879709172507, 0.24754957486710374, 1.9569210065511524, 2.0954909828936454, 2.2068872058371127, -1.8935847994034554, -1.9658707145920777, -1.0564378775196899, 1.4874017864180422, 0.17280821165585758, 0.37644056131981074, 0.2340871273662667, -1.0632261061039, 0.5540872350959097, -1.007909624391688, 0.6562083549945321, -0.08960169518516971, 0.11316995519037891], \"xaxis\": \"x12\", \"y\": [0.1426936499011667, 0.6743863824468715, -1.9159042047040724, 0.12701611366523768, 0.5636280465689022, 0.2653262616821967, -0.5830900218537203, 1.6268944121439155, 0.032134459457989054, 0.2837070672739637, -0.908341131234595, -0.2912868176976957, -0.5596115261134985, -0.6698547775985916, -0.06644066405389445, -0.5635975064256188, -0.03413687986916309, -0.19300147898416536, 0.3872050642817624, -2.1165183184615546, -0.6976749316032758, 1.5783006573276834, -1.0984317833839843, 0.1935586317598326, -2.0414514060862277, 0.8273165865437476, -0.5334902768575471, -0.6596195709663755, -0.549215782627158, -0.5465157483350779, -2.2291257904849964, -0.8924230840343537, 0.5864182297589924, -0.8774228368518772, 1.2637792405670139, -1.3408252236678477, -0.6005444176819201, 0.6910209001315113, 0.030946176835107673, 0.8317294046592685, -0.24226793477545702, -1.0751195048330666, 1.6790089121797258, 0.5299931706931623, 0.9065907842791338, -0.9544899579816438, 1.2784401587767251, 0.15403433605819544, 0.611993290038772, -0.7559634279957641, 0.08819990722390152, -1.056055039049362, 2.0027716806468785, -1.9615720122189535, -0.17513402898714328, -0.4798872243484583, -2.4508266457656, -0.33884412615446186, -2.019978178352013, -0.7290974754166974, -1.347793986082597, 2.1398770557429487, 0.16040455572132187, 0.06465038310874904, 0.015294630368586389, -1.0890873934955765, 1.4409058291864612, -1.371518717484521, 1.3071811967033915, 1.3904478393949753, -2.0037227249117553, 0.11510825724336189, -0.29718611398512745, -0.5055331245752551, 0.6448185869979838, 0.1491150879202775, 0.9985330501748927, 1.0014419886266486, 1.865102464507751, 0.2286365636433252, -0.03550451414647598, -2.718717212523047, -0.9240701341744608, -0.2888760375290752, 0.5207417218309627, 1.1687872614974864, 0.2565814315959523, -0.18066310467005145, 0.06308409801663467, -0.7123126172355311, -1.0368383000789096, 0.27498166815858444, -1.140923803902282, -1.525816700957253, 0.21746655202661985, 0.052356171907522044, -0.49939185897760346, 0.13609632242732642, -0.28894964323218236, 0.08729029057194035], \"yaxis\": \"y12\"}, {\"line\": {\"color\": \"rgba(128, 128, 128, 1.0)\", \"dash\": \"solid\", \"shape\": \"linear\", \"width\": 1.3}, \"marker\": {\"size\": 2, \"symbol\": \"circle\"}, \"mode\": \"markers\", \"name\": \"D\", \"text\": \"\", \"type\": \"scatter\", \"x\": [-1.228210303840886, 0.673718637442548, -0.6359991664128826, -0.23262448905478936, -0.4652684818242084, 0.09112090769390506, 1.1202307162460101, -0.913002197072858, -1.7866033041530176, -1.1819664154244243, -2.2518992211992668, 1.6419723454475943, -0.5049024421225882, -0.8316433290825647, -1.9026947938151906, 0.9529643236956478, 0.8424279826802521, 0.6496949082875334, -1.2710369557178685, 0.6744304243539521, 0.27031806004342473, -0.6151995848966308, 1.286999400136683, 2.754225637025308, -0.8685563696172357, -0.37270596578089227, 0.21656933195695277, 0.3299593481685292, -0.38976956152955244, 0.7899141331885607, -0.15232135255386411, -0.3278732576519635, -0.1714780618959102, 0.24585193839195518, -0.520103537564345, 0.9423867963175877, 0.6998506662177038, 2.9565000032387485, -0.16771290225752722, -0.8565644599372393, 1.9093025443891725, -0.6065596660356215, 1.5561398386580072, -1.6604273958353217, 0.29570532237337854, -0.30655930240007645, 0.5629765465472392, -1.1157754639387614, -0.22955196345192624, -2.0050583424582227, 0.11713750696332578, 2.8267139655873303, 0.46332154157231764, 0.8913848873219073, -0.27625761399056287, 0.17061072015134288, 0.01247361244100639, -1.1868120197940502, -0.1768842533262507, 0.3980979509622024, 1.7637268334097294, 0.9632004046301621, -0.174102504451404, -1.02063042523494, 1.678577707560514, 2.061538374722697, -0.01891713764992838, -0.34503079589422914, -0.8918084865031932, -0.7260269927380488, 0.49049384129362483, -1.7200742116968653, -0.7129415168181875, -0.44188757928112904, 3.5061225729394834, -0.48365529838350285, 0.09783218038002926, 1.4577512305513558, 0.036503672104812285, 1.6157315712246738, 0.34311746110657376, 0.531373414113734, -0.7186086927412191, 1.956762618943234, -0.06307785143259939, 0.18422454988996845, -0.8828271943787102, -0.7819307241118907, -0.4712984396735526, 0.8208067834200556, -0.9535656763785126, 0.6172811281139772, 0.38806297663784844, 0.21969028658437853, 0.5142512913421163, 0.3040997986323465, 0.28940893588859046, 0.39912893114064507, 0.8522015383297381, 0.766249213069548], \"xaxis\": \"x13\", \"y\": [0.6106487369671837, -0.5580959391359147, -0.40383476919477296, 0.11125072387168945, 1.914679797928206, -0.5794917293571655, 0.2802186585460156, -0.48119536467688356, 1.549222235085247, -0.761040886666783, -0.2042886730218136, -0.14071286229645755, -0.08572931138786967, -0.4342450052527491, 0.8159473114893341, 1.5181456675065004, -0.2591638049954156, 1.4637550557367995, -0.8259681604858221, -0.878102167941134, -2.1062948243645536, -0.3254887503171195, -0.07034230093754808, -0.44464327812496063, 1.961675856334788, 0.24629335711581235, 0.09799551611645173, 0.19159035994880308, -1.0156074997556654, 1.2806421125844174, 0.1304788681345427, 0.1206976944051949, -0.48836243352088493, 2.802032607444495, 0.9992093115241782, -0.7896734382539464, 0.42162329356356454, 0.014579143845804126, -0.4652716694577242, 0.3454690258598138, 0.6454479664922625, 0.5927360716174458, -1.1091587246321357, -0.3763966436874311, -0.4723404843015961, 1.6296431854939475, -1.2247809594359418, -0.9550425500787262, 0.2789136570555125, -0.5729846821735802, -0.026253713718288375, 0.725066652097282, 0.6902230007349073, 0.9811932312461932, 1.9688012226230052, -0.13927462217851405, -0.5123803245556551, 0.7056350323843916, -0.5720206839257674, -2.0999560084539954, 0.28156143554830015, 1.0747977797889474, -1.158658136514488, 0.529537528312165, -0.11214529017336296, -0.4160977828350819, -1.0674672412849793, -0.2449859194432744, -0.6128110114858487, 1.9448518050754133, -1.783138151347126, -0.6752860083341697, 0.7022789401239837, -1.835524755070365, -0.313253458096198, -0.45099788556239573, -0.28857769772700764, -0.1892423501615623, -0.24688173949758832, 0.13424524754480605, 0.05797104701583112, 0.09660484893958388, -1.3095879709172507, 0.24754957486710374, 1.9569210065511524, 2.0954909828936454, 2.2068872058371127, -1.8935847994034554, -1.9658707145920777, -1.0564378775196899, 1.4874017864180422, 0.17280821165585758, 0.37644056131981074, 0.2340871273662667, -1.0632261061039, 0.5540872350959097, -1.007909624391688, 0.6562083549945321, -0.08960169518516971, 0.11316995519037891], \"yaxis\": \"y13\"}, {\"line\": {\"color\": \"rgba(128, 128, 128, 1.0)\", \"dash\": \"solid\", \"shape\": \"linear\", \"width\": 1.3}, \"marker\": {\"size\": 2, \"symbol\": \"circle\"}, \"mode\": \"markers\", \"name\": \"D\", \"text\": \"\", \"type\": \"scatter\", \"x\": [-0.9410992898133941, 0.7403709673795416, -0.3681996600834796, 0.0991597200760194, -1.6825783826168605, -0.6208141494578543, -1.2271159557122688, -0.8033660807642069, 0.8468097288813591, 0.1722880167006293, -0.6637349467662795, -1.1017957408634886, 0.78893110183799, 0.5052234648355544, -0.5183463996216997, -0.13014575030713596, -2.1173663052566436, 1.0340391919026775, 0.4758016414816595, 1.1751249928768135, -0.5777840131627777, 0.35166835742458624, 0.4250410076349158, 0.12956422399669026, -0.40001911165167875, 0.49433210165665, 0.9238971005402511, -0.7022088325329872, -0.6250617284042304, 0.823798227192268, 0.6736158408541878, -0.3471483746325953, -1.3044961423954966, 1.2676370274998308, -1.3142364799225965, 2.650935361804906, 0.9822129709541314, 1.9357227006820465, 0.3703095980993604, -0.5530894722283664, -1.0407802242731543, -0.24484815231948331, 1.7030276075455875, 0.4806778126836462, 0.6063504773432427, 0.19814079912786253, -0.28845578570720243, 0.336187104999158, 0.8742807414259941, -0.7787074869262802, 0.5468775255294299, -0.723845204414693, 0.008127763819823951, 0.34186476255512704, 0.2639769485027573, -1.8208409662925802, 0.24074451187422571, 0.5562452782986852, -0.5824077840268167, 0.17050183300365282, 0.42085884285977426, -0.8692661641636048, -0.9723993347465054, 0.5395347413629555, -1.144824452521687, -1.5581534101688002, -1.6729339246680435, -2.2056076136021434, 1.103355797338571, 0.7678907038054802, -0.5151607726764834, -0.6475275993757056, -1.0082785648677384, 1.5260113519881962, -0.0076054176697331385, -0.8379869596906585, -0.8532996052463981, 0.520857662239727, -1.1507840593174075, 0.13138500423423757, 1.766428276090597, 0.6509203417858905, 1.290169264557484, 0.461245786964094, 0.381986938073141, 0.7753138167975542, 0.8672473904523145, 0.18973725833913044, 0.040801741645153794, -1.391900776067866, -0.6712369302438657, -0.04660937009967414, -1.1372146461701285, 0.370270983375189, 0.5796009309658001, -1.4386684202941982, -1.319559175894388, -0.5188624577046717, -1.050562091557685, 1.988326116952474], \"xaxis\": \"x14\", \"y\": [0.6106487369671837, -0.5580959391359147, -0.40383476919477296, 0.11125072387168945, 1.914679797928206, -0.5794917293571655, 0.2802186585460156, -0.48119536467688356, 1.549222235085247, -0.761040886666783, -0.2042886730218136, -0.14071286229645755, -0.08572931138786967, -0.4342450052527491, 0.8159473114893341, 1.5181456675065004, -0.2591638049954156, 1.4637550557367995, -0.8259681604858221, -0.878102167941134, -2.1062948243645536, -0.3254887503171195, -0.07034230093754808, -0.44464327812496063, 1.961675856334788, 0.24629335711581235, 0.09799551611645173, 0.19159035994880308, -1.0156074997556654, 1.2806421125844174, 0.1304788681345427, 0.1206976944051949, -0.48836243352088493, 2.802032607444495, 0.9992093115241782, -0.7896734382539464, 0.42162329356356454, 0.014579143845804126, -0.4652716694577242, 0.3454690258598138, 0.6454479664922625, 0.5927360716174458, -1.1091587246321357, -0.3763966436874311, -0.4723404843015961, 1.6296431854939475, -1.2247809594359418, -0.9550425500787262, 0.2789136570555125, -0.5729846821735802, -0.026253713718288375, 0.725066652097282, 0.6902230007349073, 0.9811932312461932, 1.9688012226230052, -0.13927462217851405, -0.5123803245556551, 0.7056350323843916, -0.5720206839257674, -2.0999560084539954, 0.28156143554830015, 1.0747977797889474, -1.158658136514488, 0.529537528312165, -0.11214529017336296, -0.4160977828350819, -1.0674672412849793, -0.2449859194432744, -0.6128110114858487, 1.9448518050754133, -1.783138151347126, -0.6752860083341697, 0.7022789401239837, -1.835524755070365, -0.313253458096198, -0.45099788556239573, -0.28857769772700764, -0.1892423501615623, -0.24688173949758832, 0.13424524754480605, 0.05797104701583112, 0.09660484893958388, -1.3095879709172507, 0.24754957486710374, 1.9569210065511524, 2.0954909828936454, 2.2068872058371127, -1.8935847994034554, -1.9658707145920777, -1.0564378775196899, 1.4874017864180422, 0.17280821165585758, 0.37644056131981074, 0.2340871273662667, -1.0632261061039, 0.5540872350959097, -1.007909624391688, 0.6562083549945321, -0.08960169518516971, 0.11316995519037891], \"yaxis\": \"y14\"}, {\"line\": {\"color\": \"rgba(128, 128, 128, 1.0)\", \"dash\": \"solid\", \"shape\": \"linear\", \"width\": 1.3}, \"marker\": {\"size\": 2, \"symbol\": \"circle\"}, \"mode\": \"markers\", \"name\": \"D\", \"text\": \"\", \"type\": \"scatter\", \"x\": [0.1426936499011667, 0.6743863824468715, -1.9159042047040724, 0.12701611366523768, 0.5636280465689022, 0.2653262616821967, -0.5830900218537203, 1.6268944121439155, 0.032134459457989054, 0.2837070672739637, -0.908341131234595, -0.2912868176976957, -0.5596115261134985, -0.6698547775985916, -0.06644066405389445, -0.5635975064256188, -0.03413687986916309, -0.19300147898416536, 0.3872050642817624, -2.1165183184615546, -0.6976749316032758, 1.5783006573276834, -1.0984317833839843, 0.1935586317598326, -2.0414514060862277, 0.8273165865437476, -0.5334902768575471, -0.6596195709663755, -0.549215782627158, -0.5465157483350779, -2.2291257904849964, -0.8924230840343537, 0.5864182297589924, -0.8774228368518772, 1.2637792405670139, -1.3408252236678477, -0.6005444176819201, 0.6910209001315113, 0.030946176835107673, 0.8317294046592685, -0.24226793477545702, -1.0751195048330666, 1.6790089121797258, 0.5299931706931623, 0.9065907842791338, -0.9544899579816438, 1.2784401587767251, 0.15403433605819544, 0.611993290038772, -0.7559634279957641, 0.08819990722390152, -1.056055039049362, 2.0027716806468785, -1.9615720122189535, -0.17513402898714328, -0.4798872243484583, -2.4508266457656, -0.33884412615446186, -2.019978178352013, -0.7290974754166974, -1.347793986082597, 2.1398770557429487, 0.16040455572132187, 0.06465038310874904, 0.015294630368586389, -1.0890873934955765, 1.4409058291864612, -1.371518717484521, 1.3071811967033915, 1.3904478393949753, -2.0037227249117553, 0.11510825724336189, -0.29718611398512745, -0.5055331245752551, 0.6448185869979838, 0.1491150879202775, 0.9985330501748927, 1.0014419886266486, 1.865102464507751, 0.2286365636433252, -0.03550451414647598, -2.718717212523047, -0.9240701341744608, -0.2888760375290752, 0.5207417218309627, 1.1687872614974864, 0.2565814315959523, -0.18066310467005145, 0.06308409801663467, -0.7123126172355311, -1.0368383000789096, 0.27498166815858444, -1.140923803902282, -1.525816700957253, 0.21746655202661985, 0.052356171907522044, -0.49939185897760346, 0.13609632242732642, -0.28894964323218236, 0.08729029057194035], \"xaxis\": \"x15\", \"y\": [0.6106487369671837, -0.5580959391359147, -0.40383476919477296, 0.11125072387168945, 1.914679797928206, -0.5794917293571655, 0.2802186585460156, -0.48119536467688356, 1.549222235085247, -0.761040886666783, -0.2042886730218136, -0.14071286229645755, -0.08572931138786967, -0.4342450052527491, 0.8159473114893341, 1.5181456675065004, -0.2591638049954156, 1.4637550557367995, -0.8259681604858221, -0.878102167941134, -2.1062948243645536, -0.3254887503171195, -0.07034230093754808, -0.44464327812496063, 1.961675856334788, 0.24629335711581235, 0.09799551611645173, 0.19159035994880308, -1.0156074997556654, 1.2806421125844174, 0.1304788681345427, 0.1206976944051949, -0.48836243352088493, 2.802032607444495, 0.9992093115241782, -0.7896734382539464, 0.42162329356356454, 0.014579143845804126, -0.4652716694577242, 0.3454690258598138, 0.6454479664922625, 0.5927360716174458, -1.1091587246321357, -0.3763966436874311, -0.4723404843015961, 1.6296431854939475, -1.2247809594359418, -0.9550425500787262, 0.2789136570555125, -0.5729846821735802, -0.026253713718288375, 0.725066652097282, 0.6902230007349073, 0.9811932312461932, 1.9688012226230052, -0.13927462217851405, -0.5123803245556551, 0.7056350323843916, -0.5720206839257674, -2.0999560084539954, 0.28156143554830015, 1.0747977797889474, -1.158658136514488, 0.529537528312165, -0.11214529017336296, -0.4160977828350819, -1.0674672412849793, -0.2449859194432744, -0.6128110114858487, 1.9448518050754133, -1.783138151347126, -0.6752860083341697, 0.7022789401239837, -1.835524755070365, -0.313253458096198, -0.45099788556239573, -0.28857769772700764, -0.1892423501615623, -0.24688173949758832, 0.13424524754480605, 0.05797104701583112, 0.09660484893958388, -1.3095879709172507, 0.24754957486710374, 1.9569210065511524, 2.0954909828936454, 2.2068872058371127, -1.8935847994034554, -1.9658707145920777, -1.0564378775196899, 1.4874017864180422, 0.17280821165585758, 0.37644056131981074, 0.2340871273662667, -1.0632261061039, 0.5540872350959097, -1.007909624391688, 0.6562083549945321, -0.08960169518516971, 0.11316995519037891], \"yaxis\": \"y15\"}, {\"histfunc\": \"count\", \"histnorm\": \"\", \"marker\": {\"color\": \"rgba(128, 0, 128, 1.0)\", \"line\": {\"color\": \"#4D5663\", \"width\": 1.3}}, \"name\": \"D\", \"nbinsx\": 10, \"opacity\": 0.8, \"orientation\": \"v\", \"type\": \"histogram\", \"x\": [0.6106487369671837, -0.5580959391359147, -0.40383476919477296, 0.11125072387168945, 1.914679797928206, -0.5794917293571655, 0.2802186585460156, -0.48119536467688356, 1.549222235085247, -0.761040886666783, -0.2042886730218136, -0.14071286229645755, -0.08572931138786967, -0.4342450052527491, 0.8159473114893341, 1.5181456675065004, -0.2591638049954156, 1.4637550557367995, -0.8259681604858221, -0.878102167941134, -2.1062948243645536, -0.3254887503171195, -0.07034230093754808, -0.44464327812496063, 1.961675856334788, 0.24629335711581235, 0.09799551611645173, 0.19159035994880308, -1.0156074997556654, 1.2806421125844174, 0.1304788681345427, 0.1206976944051949, -0.48836243352088493, 2.802032607444495, 0.9992093115241782, -0.7896734382539464, 0.42162329356356454, 0.014579143845804126, -0.4652716694577242, 0.3454690258598138, 0.6454479664922625, 0.5927360716174458, -1.1091587246321357, -0.3763966436874311, -0.4723404843015961, 1.6296431854939475, -1.2247809594359418, -0.9550425500787262, 0.2789136570555125, -0.5729846821735802, -0.026253713718288375, 0.725066652097282, 0.6902230007349073, 0.9811932312461932, 1.9688012226230052, -0.13927462217851405, -0.5123803245556551, 0.7056350323843916, -0.5720206839257674, -2.0999560084539954, 0.28156143554830015, 1.0747977797889474, -1.158658136514488, 0.529537528312165, -0.11214529017336296, -0.4160977828350819, -1.0674672412849793, -0.2449859194432744, -0.6128110114858487, 1.9448518050754133, -1.783138151347126, -0.6752860083341697, 0.7022789401239837, -1.835524755070365, -0.313253458096198, -0.45099788556239573, -0.28857769772700764, -0.1892423501615623, -0.24688173949758832, 0.13424524754480605, 0.05797104701583112, 0.09660484893958388, -1.3095879709172507, 0.24754957486710374, 1.9569210065511524, 2.0954909828936454, 2.2068872058371127, -1.8935847994034554, -1.9658707145920777, -1.0564378775196899, 1.4874017864180422, 0.17280821165585758, 0.37644056131981074, 0.2340871273662667, -1.0632261061039, 0.5540872350959097, -1.007909624391688, 0.6562083549945321, -0.08960169518516971, 0.11316995519037891], \"xaxis\": \"x16\", \"yaxis\": \"y16\"}],\n",
       "                        {\"bargap\": 0.02, \"legend\": {\"bgcolor\": \"#F5F6F9\", \"font\": {\"color\": \"#4D5663\"}}, \"paper_bgcolor\": \"#F5F6F9\", \"plot_bgcolor\": \"#F5F6F9\", \"showlegend\": false, \"template\": {\"data\": {\"bar\": [{\"error_x\": {\"color\": \"#2a3f5f\"}, \"error_y\": {\"color\": \"#2a3f5f\"}, \"marker\": {\"line\": {\"color\": \"#E5ECF6\", \"width\": 0.5}}, \"type\": \"bar\"}], \"barpolar\": [{\"marker\": {\"line\": {\"color\": \"#E5ECF6\", \"width\": 0.5}}, \"type\": \"barpolar\"}], \"carpet\": [{\"aaxis\": {\"endlinecolor\": \"#2a3f5f\", \"gridcolor\": \"white\", \"linecolor\": \"white\", \"minorgridcolor\": \"white\", \"startlinecolor\": \"#2a3f5f\"}, \"baxis\": {\"endlinecolor\": \"#2a3f5f\", \"gridcolor\": \"white\", \"linecolor\": \"white\", \"minorgridcolor\": \"white\", \"startlinecolor\": \"#2a3f5f\"}, \"type\": \"carpet\"}], \"choropleth\": [{\"colorbar\": {\"outlinewidth\": 0, \"ticks\": \"\"}, \"type\": \"choropleth\"}], \"contour\": [{\"colorbar\": {\"outlinewidth\": 0, \"ticks\": \"\"}, \"colorscale\": [[0.0, \"#0d0887\"], [0.1111111111111111, \"#46039f\"], [0.2222222222222222, \"#7201a8\"], [0.3333333333333333, \"#9c179e\"], [0.4444444444444444, \"#bd3786\"], [0.5555555555555556, \"#d8576b\"], [0.6666666666666666, \"#ed7953\"], [0.7777777777777778, \"#fb9f3a\"], [0.8888888888888888, \"#fdca26\"], [1.0, \"#f0f921\"]], \"type\": \"contour\"}], \"contourcarpet\": [{\"colorbar\": {\"outlinewidth\": 0, \"ticks\": \"\"}, \"type\": \"contourcarpet\"}], \"heatmap\": [{\"colorbar\": {\"outlinewidth\": 0, \"ticks\": \"\"}, \"colorscale\": [[0.0, \"#0d0887\"], [0.1111111111111111, \"#46039f\"], [0.2222222222222222, \"#7201a8\"], [0.3333333333333333, \"#9c179e\"], [0.4444444444444444, \"#bd3786\"], [0.5555555555555556, \"#d8576b\"], [0.6666666666666666, \"#ed7953\"], [0.7777777777777778, \"#fb9f3a\"], [0.8888888888888888, \"#fdca26\"], [1.0, \"#f0f921\"]], \"type\": \"heatmap\"}], \"heatmapgl\": [{\"colorbar\": {\"outlinewidth\": 0, \"ticks\": \"\"}, \"colorscale\": [[0.0, \"#0d0887\"], [0.1111111111111111, \"#46039f\"], [0.2222222222222222, \"#7201a8\"], [0.3333333333333333, \"#9c179e\"], [0.4444444444444444, \"#bd3786\"], [0.5555555555555556, \"#d8576b\"], [0.6666666666666666, \"#ed7953\"], [0.7777777777777778, \"#fb9f3a\"], [0.8888888888888888, \"#fdca26\"], [1.0, \"#f0f921\"]], \"type\": \"heatmapgl\"}], \"histogram\": [{\"marker\": {\"colorbar\": {\"outlinewidth\": 0, \"ticks\": \"\"}}, \"type\": \"histogram\"}], \"histogram2d\": [{\"colorbar\": {\"outlinewidth\": 0, \"ticks\": \"\"}, \"colorscale\": [[0.0, \"#0d0887\"], [0.1111111111111111, \"#46039f\"], [0.2222222222222222, \"#7201a8\"], [0.3333333333333333, \"#9c179e\"], [0.4444444444444444, \"#bd3786\"], [0.5555555555555556, \"#d8576b\"], [0.6666666666666666, \"#ed7953\"], [0.7777777777777778, \"#fb9f3a\"], [0.8888888888888888, \"#fdca26\"], [1.0, \"#f0f921\"]], \"type\": \"histogram2d\"}], \"histogram2dcontour\": [{\"colorbar\": {\"outlinewidth\": 0, \"ticks\": \"\"}, \"colorscale\": [[0.0, \"#0d0887\"], [0.1111111111111111, \"#46039f\"], [0.2222222222222222, \"#7201a8\"], [0.3333333333333333, \"#9c179e\"], [0.4444444444444444, \"#bd3786\"], [0.5555555555555556, \"#d8576b\"], [0.6666666666666666, \"#ed7953\"], [0.7777777777777778, \"#fb9f3a\"], [0.8888888888888888, \"#fdca26\"], [1.0, \"#f0f921\"]], \"type\": \"histogram2dcontour\"}], \"mesh3d\": [{\"colorbar\": {\"outlinewidth\": 0, \"ticks\": \"\"}, \"type\": \"mesh3d\"}], \"parcoords\": [{\"line\": {\"colorbar\": {\"outlinewidth\": 0, \"ticks\": \"\"}}, \"type\": \"parcoords\"}], \"pie\": [{\"automargin\": true, \"type\": \"pie\"}], \"scatter\": [{\"marker\": {\"colorbar\": {\"outlinewidth\": 0, \"ticks\": \"\"}}, \"type\": \"scatter\"}], \"scatter3d\": [{\"line\": {\"colorbar\": {\"outlinewidth\": 0, \"ticks\": \"\"}}, \"marker\": {\"colorbar\": {\"outlinewidth\": 0, \"ticks\": \"\"}}, \"type\": \"scatter3d\"}], \"scattercarpet\": [{\"marker\": {\"colorbar\": {\"outlinewidth\": 0, \"ticks\": \"\"}}, \"type\": \"scattercarpet\"}], \"scattergeo\": [{\"marker\": {\"colorbar\": {\"outlinewidth\": 0, \"ticks\": \"\"}}, \"type\": \"scattergeo\"}], \"scattergl\": [{\"marker\": {\"colorbar\": {\"outlinewidth\": 0, \"ticks\": \"\"}}, \"type\": \"scattergl\"}], \"scattermapbox\": [{\"marker\": {\"colorbar\": {\"outlinewidth\": 0, \"ticks\": \"\"}}, \"type\": \"scattermapbox\"}], \"scatterpolar\": [{\"marker\": {\"colorbar\": {\"outlinewidth\": 0, \"ticks\": \"\"}}, \"type\": \"scatterpolar\"}], \"scatterpolargl\": [{\"marker\": {\"colorbar\": {\"outlinewidth\": 0, \"ticks\": \"\"}}, \"type\": \"scatterpolargl\"}], \"scatterternary\": [{\"marker\": {\"colorbar\": {\"outlinewidth\": 0, \"ticks\": \"\"}}, \"type\": \"scatterternary\"}], \"surface\": [{\"colorbar\": {\"outlinewidth\": 0, \"ticks\": \"\"}, \"colorscale\": [[0.0, \"#0d0887\"], [0.1111111111111111, \"#46039f\"], [0.2222222222222222, \"#7201a8\"], [0.3333333333333333, \"#9c179e\"], [0.4444444444444444, \"#bd3786\"], [0.5555555555555556, \"#d8576b\"], [0.6666666666666666, \"#ed7953\"], [0.7777777777777778, \"#fb9f3a\"], [0.8888888888888888, \"#fdca26\"], [1.0, \"#f0f921\"]], \"type\": \"surface\"}], \"table\": [{\"cells\": {\"fill\": {\"color\": \"#EBF0F8\"}, \"line\": {\"color\": \"white\"}}, \"header\": {\"fill\": {\"color\": \"#C8D4E3\"}, \"line\": {\"color\": \"white\"}}, \"type\": \"table\"}]}, \"layout\": {\"annotationdefaults\": {\"arrowcolor\": \"#2a3f5f\", \"arrowhead\": 0, \"arrowwidth\": 1}, \"coloraxis\": {\"colorbar\": {\"outlinewidth\": 0, \"ticks\": \"\"}}, \"colorscale\": {\"diverging\": [[0, \"#8e0152\"], [0.1, \"#c51b7d\"], [0.2, \"#de77ae\"], [0.3, \"#f1b6da\"], [0.4, \"#fde0ef\"], [0.5, \"#f7f7f7\"], [0.6, \"#e6f5d0\"], [0.7, \"#b8e186\"], [0.8, \"#7fbc41\"], [0.9, \"#4d9221\"], [1, \"#276419\"]], \"sequential\": [[0.0, \"#0d0887\"], [0.1111111111111111, \"#46039f\"], [0.2222222222222222, \"#7201a8\"], [0.3333333333333333, \"#9c179e\"], [0.4444444444444444, \"#bd3786\"], [0.5555555555555556, \"#d8576b\"], [0.6666666666666666, \"#ed7953\"], [0.7777777777777778, \"#fb9f3a\"], [0.8888888888888888, \"#fdca26\"], [1.0, \"#f0f921\"]], \"sequentialminus\": [[0.0, \"#0d0887\"], [0.1111111111111111, \"#46039f\"], [0.2222222222222222, \"#7201a8\"], [0.3333333333333333, \"#9c179e\"], [0.4444444444444444, \"#bd3786\"], [0.5555555555555556, \"#d8576b\"], [0.6666666666666666, \"#ed7953\"], [0.7777777777777778, \"#fb9f3a\"], [0.8888888888888888, \"#fdca26\"], [1.0, \"#f0f921\"]]}, \"colorway\": [\"#636efa\", \"#EF553B\", \"#00cc96\", \"#ab63fa\", \"#FFA15A\", \"#19d3f3\", \"#FF6692\", \"#B6E880\", \"#FF97FF\", \"#FECB52\"], \"font\": {\"color\": \"#2a3f5f\"}, \"geo\": {\"bgcolor\": \"white\", \"lakecolor\": \"white\", \"landcolor\": \"#E5ECF6\", \"showlakes\": true, \"showland\": true, \"subunitcolor\": \"white\"}, \"hoverlabel\": {\"align\": \"left\"}, \"hovermode\": \"closest\", \"mapbox\": {\"style\": \"light\"}, \"paper_bgcolor\": \"white\", \"plot_bgcolor\": \"#E5ECF6\", \"polar\": {\"angularaxis\": {\"gridcolor\": \"white\", \"linecolor\": \"white\", \"ticks\": \"\"}, \"bgcolor\": \"#E5ECF6\", \"radialaxis\": {\"gridcolor\": \"white\", \"linecolor\": \"white\", \"ticks\": \"\"}}, \"scene\": {\"xaxis\": {\"backgroundcolor\": \"#E5ECF6\", \"gridcolor\": \"white\", \"gridwidth\": 2, \"linecolor\": \"white\", \"showbackground\": true, \"ticks\": \"\", \"zerolinecolor\": \"white\"}, \"yaxis\": {\"backgroundcolor\": \"#E5ECF6\", \"gridcolor\": \"white\", \"gridwidth\": 2, \"linecolor\": \"white\", \"showbackground\": true, \"ticks\": \"\", \"zerolinecolor\": \"white\"}, \"zaxis\": {\"backgroundcolor\": \"#E5ECF6\", \"gridcolor\": \"white\", \"gridwidth\": 2, \"linecolor\": \"white\", \"showbackground\": true, \"ticks\": \"\", \"zerolinecolor\": \"white\"}}, \"shapedefaults\": {\"line\": {\"color\": \"#2a3f5f\"}}, \"ternary\": {\"aaxis\": {\"gridcolor\": \"white\", \"linecolor\": \"white\", \"ticks\": \"\"}, \"baxis\": {\"gridcolor\": \"white\", \"linecolor\": \"white\", \"ticks\": \"\"}, \"bgcolor\": \"#E5ECF6\", \"caxis\": {\"gridcolor\": \"white\", \"linecolor\": \"white\", \"ticks\": \"\"}}, \"title\": {\"x\": 0.05}, \"xaxis\": {\"automargin\": true, \"gridcolor\": \"white\", \"linecolor\": \"white\", \"ticks\": \"\", \"title\": {\"standoff\": 15}, \"zerolinecolor\": \"white\", \"zerolinewidth\": 2}, \"yaxis\": {\"automargin\": true, \"gridcolor\": \"white\", \"linecolor\": \"white\", \"ticks\": \"\", \"title\": {\"standoff\": 15}, \"zerolinecolor\": \"white\", \"zerolinewidth\": 2}}}, \"title\": {\"font\": {\"color\": \"#4D5663\"}}, \"xaxis\": {\"anchor\": \"y\", \"domain\": [0.0, 0.2125], \"gridcolor\": \"#E1E5ED\", \"showgrid\": false, \"tickfont\": {\"color\": \"#4D5663\"}, \"title\": {\"font\": {\"color\": \"#4D5663\"}, \"text\": \"\"}, \"zerolinecolor\": \"#E1E5ED\"}, \"xaxis10\": {\"anchor\": \"y10\", \"domain\": [0.2625, 0.475], \"gridcolor\": \"#E1E5ED\", \"showgrid\": false, \"tickfont\": {\"color\": \"#4D5663\"}, \"title\": {\"font\": {\"color\": \"#4D5663\"}, \"text\": \"\"}, \"zerolinecolor\": \"#E1E5ED\"}, \"xaxis11\": {\"anchor\": \"y11\", \"domain\": [0.525, 0.7375], \"gridcolor\": \"#E1E5ED\", \"showgrid\": false, \"tickfont\": {\"color\": \"#4D5663\"}, \"title\": {\"font\": {\"color\": \"#4D5663\"}, \"text\": \"\"}, \"zerolinecolor\": \"#E1E5ED\"}, \"xaxis12\": {\"anchor\": \"y12\", \"domain\": [0.7875, 1.0], \"gridcolor\": \"#E1E5ED\", \"showgrid\": false, \"tickfont\": {\"color\": \"#4D5663\"}, \"title\": {\"font\": {\"color\": \"#4D5663\"}, \"text\": \"\"}, \"zerolinecolor\": \"#E1E5ED\"}, \"xaxis13\": {\"anchor\": \"y13\", \"domain\": [0.0, 0.2125], \"gridcolor\": \"#E1E5ED\", \"showgrid\": false, \"tickfont\": {\"color\": \"#4D5663\"}, \"title\": {\"font\": {\"color\": \"#4D5663\"}, \"text\": \"\"}, \"zerolinecolor\": \"#E1E5ED\"}, \"xaxis14\": {\"anchor\": \"y14\", \"domain\": [0.2625, 0.475], \"gridcolor\": \"#E1E5ED\", \"showgrid\": false, \"tickfont\": {\"color\": \"#4D5663\"}, \"title\": {\"font\": {\"color\": \"#4D5663\"}, \"text\": \"\"}, \"zerolinecolor\": \"#E1E5ED\"}, \"xaxis15\": {\"anchor\": \"y15\", \"domain\": [0.525, 0.7375], \"gridcolor\": \"#E1E5ED\", \"showgrid\": false, \"tickfont\": {\"color\": \"#4D5663\"}, \"title\": {\"font\": {\"color\": \"#4D5663\"}, \"text\": \"\"}, \"zerolinecolor\": \"#E1E5ED\"}, \"xaxis16\": {\"anchor\": \"y16\", \"domain\": [0.7875, 1.0], \"gridcolor\": \"#E1E5ED\", \"showgrid\": false, \"tickfont\": {\"color\": \"#4D5663\"}, \"title\": {\"font\": {\"color\": \"#4D5663\"}, \"text\": \"\"}, \"zerolinecolor\": \"#E1E5ED\"}, \"xaxis2\": {\"anchor\": \"y2\", \"domain\": [0.2625, 0.475], \"gridcolor\": \"#E1E5ED\", \"showgrid\": false, \"tickfont\": {\"color\": \"#4D5663\"}, \"title\": {\"font\": {\"color\": \"#4D5663\"}, \"text\": \"\"}, \"zerolinecolor\": \"#E1E5ED\"}, \"xaxis3\": {\"anchor\": \"y3\", \"domain\": [0.525, 0.7375], \"gridcolor\": \"#E1E5ED\", \"showgrid\": false, \"tickfont\": {\"color\": \"#4D5663\"}, \"title\": {\"font\": {\"color\": \"#4D5663\"}, \"text\": \"\"}, \"zerolinecolor\": \"#E1E5ED\"}, \"xaxis4\": {\"anchor\": \"y4\", \"domain\": [0.7875, 1.0], \"gridcolor\": \"#E1E5ED\", \"showgrid\": false, \"tickfont\": {\"color\": \"#4D5663\"}, \"title\": {\"font\": {\"color\": \"#4D5663\"}, \"text\": \"\"}, \"zerolinecolor\": \"#E1E5ED\"}, \"xaxis5\": {\"anchor\": \"y5\", \"domain\": [0.0, 0.2125], \"gridcolor\": \"#E1E5ED\", \"showgrid\": false, \"tickfont\": {\"color\": \"#4D5663\"}, \"title\": {\"font\": {\"color\": \"#4D5663\"}, \"text\": \"\"}, \"zerolinecolor\": \"#E1E5ED\"}, \"xaxis6\": {\"anchor\": \"y6\", \"domain\": [0.2625, 0.475], \"gridcolor\": \"#E1E5ED\", \"showgrid\": false, \"tickfont\": {\"color\": \"#4D5663\"}, \"title\": {\"font\": {\"color\": \"#4D5663\"}, \"text\": \"\"}, \"zerolinecolor\": \"#E1E5ED\"}, \"xaxis7\": {\"anchor\": \"y7\", \"domain\": [0.525, 0.7375], \"gridcolor\": \"#E1E5ED\", \"showgrid\": false, \"tickfont\": {\"color\": \"#4D5663\"}, \"title\": {\"font\": {\"color\": \"#4D5663\"}, \"text\": \"\"}, \"zerolinecolor\": \"#E1E5ED\"}, \"xaxis8\": {\"anchor\": \"y8\", \"domain\": [0.7875, 1.0], \"gridcolor\": \"#E1E5ED\", \"showgrid\": false, \"tickfont\": {\"color\": \"#4D5663\"}, \"title\": {\"font\": {\"color\": \"#4D5663\"}, \"text\": \"\"}, \"zerolinecolor\": \"#E1E5ED\"}, \"xaxis9\": {\"anchor\": \"y9\", \"domain\": [0.0, 0.2125], \"gridcolor\": \"#E1E5ED\", \"showgrid\": false, \"tickfont\": {\"color\": \"#4D5663\"}, \"title\": {\"font\": {\"color\": \"#4D5663\"}, \"text\": \"\"}, \"zerolinecolor\": \"#E1E5ED\"}, \"yaxis\": {\"anchor\": \"x\", \"domain\": [0.8025, 1.0], \"gridcolor\": \"#E1E5ED\", \"showgrid\": false, \"tickfont\": {\"color\": \"#4D5663\"}, \"title\": {\"font\": {\"color\": \"#4D5663\"}, \"text\": \"\"}, \"zerolinecolor\": \"#E1E5ED\"}, \"yaxis10\": {\"anchor\": \"x10\", \"domain\": [0.2675, 0.465], \"gridcolor\": \"#E1E5ED\", \"showgrid\": false, \"tickfont\": {\"color\": \"#4D5663\"}, \"title\": {\"font\": {\"color\": \"#4D5663\"}, \"text\": \"\"}, \"zerolinecolor\": \"#E1E5ED\"}, \"yaxis11\": {\"anchor\": \"x11\", \"domain\": [0.2675, 0.465], \"gridcolor\": \"#E1E5ED\", \"showgrid\": false, \"tickfont\": {\"color\": \"#4D5663\"}, \"title\": {\"font\": {\"color\": \"#4D5663\"}, \"text\": \"\"}, \"zerolinecolor\": \"#E1E5ED\"}, \"yaxis12\": {\"anchor\": \"x12\", \"domain\": [0.2675, 0.465], \"gridcolor\": \"#E1E5ED\", \"showgrid\": false, \"tickfont\": {\"color\": \"#4D5663\"}, \"title\": {\"font\": {\"color\": \"#4D5663\"}, \"text\": \"\"}, \"zerolinecolor\": \"#E1E5ED\"}, \"yaxis13\": {\"anchor\": \"x13\", \"domain\": [0.0, 0.1975], \"gridcolor\": \"#E1E5ED\", \"showgrid\": false, \"tickfont\": {\"color\": \"#4D5663\"}, \"title\": {\"font\": {\"color\": \"#4D5663\"}, \"text\": \"\"}, \"zerolinecolor\": \"#E1E5ED\"}, \"yaxis14\": {\"anchor\": \"x14\", \"domain\": [0.0, 0.1975], \"gridcolor\": \"#E1E5ED\", \"showgrid\": false, \"tickfont\": {\"color\": \"#4D5663\"}, \"title\": {\"font\": {\"color\": \"#4D5663\"}, \"text\": \"\"}, \"zerolinecolor\": \"#E1E5ED\"}, \"yaxis15\": {\"anchor\": \"x15\", \"domain\": [0.0, 0.1975], \"gridcolor\": \"#E1E5ED\", \"showgrid\": false, \"tickfont\": {\"color\": \"#4D5663\"}, \"title\": {\"font\": {\"color\": \"#4D5663\"}, \"text\": \"\"}, \"zerolinecolor\": \"#E1E5ED\"}, \"yaxis16\": {\"anchor\": \"x16\", \"domain\": [0.0, 0.1975], \"gridcolor\": \"#E1E5ED\", \"showgrid\": false, \"tickfont\": {\"color\": \"#4D5663\"}, \"title\": {\"font\": {\"color\": \"#4D5663\"}, \"text\": \"\"}, \"zerolinecolor\": \"#E1E5ED\"}, \"yaxis2\": {\"anchor\": \"x2\", \"domain\": [0.8025, 1.0], \"gridcolor\": \"#E1E5ED\", \"showgrid\": false, \"tickfont\": {\"color\": \"#4D5663\"}, \"title\": {\"font\": {\"color\": \"#4D5663\"}, \"text\": \"\"}, \"zerolinecolor\": \"#E1E5ED\"}, \"yaxis3\": {\"anchor\": \"x3\", \"domain\": [0.8025, 1.0], \"gridcolor\": \"#E1E5ED\", \"showgrid\": false, \"tickfont\": {\"color\": \"#4D5663\"}, \"title\": {\"font\": {\"color\": \"#4D5663\"}, \"text\": \"\"}, \"zerolinecolor\": \"#E1E5ED\"}, \"yaxis4\": {\"anchor\": \"x4\", \"domain\": [0.8025, 1.0], \"gridcolor\": \"#E1E5ED\", \"showgrid\": false, \"tickfont\": {\"color\": \"#4D5663\"}, \"title\": {\"font\": {\"color\": \"#4D5663\"}, \"text\": \"\"}, \"zerolinecolor\": \"#E1E5ED\"}, \"yaxis5\": {\"anchor\": \"x5\", \"domain\": [0.535, 0.7325], \"gridcolor\": \"#E1E5ED\", \"showgrid\": false, \"tickfont\": {\"color\": \"#4D5663\"}, \"title\": {\"font\": {\"color\": \"#4D5663\"}, \"text\": \"\"}, \"zerolinecolor\": \"#E1E5ED\"}, \"yaxis6\": {\"anchor\": \"x6\", \"domain\": [0.535, 0.7325], \"gridcolor\": \"#E1E5ED\", \"showgrid\": false, \"tickfont\": {\"color\": \"#4D5663\"}, \"title\": {\"font\": {\"color\": \"#4D5663\"}, \"text\": \"\"}, \"zerolinecolor\": \"#E1E5ED\"}, \"yaxis7\": {\"anchor\": \"x7\", \"domain\": [0.535, 0.7325], \"gridcolor\": \"#E1E5ED\", \"showgrid\": false, \"tickfont\": {\"color\": \"#4D5663\"}, \"title\": {\"font\": {\"color\": \"#4D5663\"}, \"text\": \"\"}, \"zerolinecolor\": \"#E1E5ED\"}, \"yaxis8\": {\"anchor\": \"x8\", \"domain\": [0.535, 0.7325], \"gridcolor\": \"#E1E5ED\", \"showgrid\": false, \"tickfont\": {\"color\": \"#4D5663\"}, \"title\": {\"font\": {\"color\": \"#4D5663\"}, \"text\": \"\"}, \"zerolinecolor\": \"#E1E5ED\"}, \"yaxis9\": {\"anchor\": \"x9\", \"domain\": [0.2675, 0.465], \"gridcolor\": \"#E1E5ED\", \"showgrid\": false, \"tickfont\": {\"color\": \"#4D5663\"}, \"title\": {\"font\": {\"color\": \"#4D5663\"}, \"text\": \"\"}, \"zerolinecolor\": \"#E1E5ED\"}},\n",
       "                        {\"showLink\": true, \"linkText\": \"Export to plot.ly\", \"plotlyServerURL\": \"https://plot.ly\", \"responsive\": true}\n",
       "                    ).then(function(){\n",
       "                            \n",
       "var gd = document.getElementById('acb73a0e-9703-41c3-b6b5-3eb3e5ecc155');\n",
       "var x = new MutationObserver(function (mutations, observer) {{\n",
       "        var display = window.getComputedStyle(gd).display;\n",
       "        if (!display || display === 'none') {{\n",
       "            console.log([gd, 'removed!']);\n",
       "            Plotly.purge(gd);\n",
       "            observer.disconnect();\n",
       "        }}\n",
       "}});\n",
       "\n",
       "// Listen for the removal of the full notebook cells\n",
       "var notebookContainer = gd.closest('#notebook-container');\n",
       "if (notebookContainer) {{\n",
       "    x.observe(notebookContainer, {childList: true});\n",
       "}}\n",
       "\n",
       "// Listen for the clearing of the current output cell\n",
       "var outputEl = gd.closest('.output');\n",
       "if (outputEl) {{\n",
       "    x.observe(outputEl, {childList: true});\n",
       "}}\n",
       "\n",
       "                        })\n",
       "                };\n",
       "                });\n",
       "            </script>\n",
       "        </div>"
      ]
     },
     "metadata": {},
     "output_type": "display_data"
    }
   ],
   "source": [
    "# PLOTLY - SCATTER MATRIX PLOT\n",
    " # Very similar to SEABORNs PAIRPLOT\n",
    " #Creates a SCATTER MATRIX of all the columns it can\n",
    " #ALL columns must be NUMERICAL to work\n",
    " #If you have a lot of points it may be very slow and can Crash\n",
    "   # USE with CAUTION\n",
    "df.scatter_matrix()"
   ]
  },
  {
   "cell_type": "code",
   "execution_count": null,
   "metadata": {},
   "outputs": [],
   "source": []
  }
 ],
 "metadata": {
  "kernelspec": {
   "display_name": "Python 3",
   "language": "python",
   "name": "python3"
  },
  "language_info": {
   "codemirror_mode": {
    "name": "ipython",
    "version": 3
   },
   "file_extension": ".py",
   "mimetype": "text/x-python",
   "name": "python",
   "nbconvert_exporter": "python",
   "pygments_lexer": "ipython3",
   "version": "3.7.4"
  }
 },
 "nbformat": 4,
 "nbformat_minor": 2
}
